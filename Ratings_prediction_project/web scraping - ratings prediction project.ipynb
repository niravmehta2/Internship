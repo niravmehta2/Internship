{
 "cells": [
  {
   "cell_type": "code",
   "execution_count": 1,
   "id": "b200fbb7",
   "metadata": {},
   "outputs": [],
   "source": [
    "# Importing Libraries\n",
    "import selenium\n",
    "import pandas as pd\n",
    "import numpy as np\n",
    "import time\n",
    "from bs4 import BeautifulSoup\n",
    "import requests\n",
    "import re\n",
    "from selenium import webdriver\n",
    "from selenium.webdriver.common.by import By\n",
    "from selenium.webdriver.chrome.service import Service\n",
    "from selenium.webdriver.chromium import service\n",
    "from selenium.webdriver.support.ui import WebDriverWait\n",
    "from selenium.common.exceptions import StaleElementReferenceException, NoSuchElementException"
   ]
  },
  {
   "cell_type": "code",
   "execution_count": 2,
   "id": "6f9bed61",
   "metadata": {},
   "outputs": [],
   "source": [
    "# connecting to web drivers and open url\n",
    "service = Service(r'C:\\Users\\Nirav\\chromedriver_win32\\chromedriver.exe')\n",
    "service.start()\n",
    "\n",
    "driver = webdriver.Remote(service.service_url)\n",
    "\n",
    "keyword ='https://www.amazon.in/'\n",
    "driver.get(keyword)"
   ]
  },
  {
   "cell_type": "code",
   "execution_count": 32,
   "id": "683d09d3",
   "metadata": {},
   "outputs": [],
   "source": [
    "#searching for \"smartphones\"\n",
    "search = driver.find_element(By.XPATH,'/html/body/div[1]/header/div/div[1]/div[2]/div/form/div[2]/div[1]/input')\n",
    "search.send_keys(\"smartphones\")\n",
    "search = driver.find_element(By.XPATH,'/html/body/div[1]/header/div/div[1]/div[2]/div/form/div[3]/div/span/input')\n",
    "search.click()"
   ]
  },
  {
   "cell_type": "code",
   "execution_count": 33,
   "id": "9f7e09aa",
   "metadata": {},
   "outputs": [],
   "source": [
    "#empty list to store all URLs of smartphones\n",
    "product_url1 =[]"
   ]
  },
  {
   "cell_type": "code",
   "execution_count": 34,
   "id": "efc06022",
   "metadata": {},
   "outputs": [],
   "source": [
    "product_url_tag1 = driver.find_elements(By.XPATH,\"//a[@class='a-link-normal s-underline-text s-underline-link-text s-link-style a-text-normal']\")"
   ]
  },
  {
   "cell_type": "code",
   "execution_count": 35,
   "id": "84024ba2",
   "metadata": {},
   "outputs": [],
   "source": [
    "# url of smartphones are appended to the the list\n",
    "for u in product_url_tag1:\n",
    " try: \n",
    "     product_url1.append(u.get_attribute(\"href\"))\n",
    " except:\n",
    "    product_url1.append('-')"
   ]
  },
  {
   "cell_type": "code",
   "execution_count": 36,
   "id": "03e23392",
   "metadata": {},
   "outputs": [],
   "source": [
    "# an empty list to store all the urls of comment pages\n",
    "rate_url1 = []"
   ]
  },
  {
   "cell_type": "code",
   "execution_count": 37,
   "id": "5fc907df",
   "metadata": {},
   "outputs": [],
   "source": [
    "\n",
    "#collects all the urls of 1 star - 5 star comment pages.\n",
    "\n",
    "for i in product_url1:\n",
    "    driver.get(i)\n",
    "    time.sleep(3)\n",
    "    try:\n",
    "        url_tag5 = driver.find_element(By.XPATH,\"//a[@class='a-link-normal 5star']\")\n",
    "        rate_url1.append(url_tag5.get_attribute(\"href\"))\n",
    "    except:\n",
    "        pass\n",
    "    try:\n",
    "        url_tag4 = driver.find_element(By.XPATH,\"//a[@class='a-link-normal 4star']\")\n",
    "        rate_url1.append(url_tag4.get_attribute(\"href\"))\n",
    "    except:\n",
    "        pass\n",
    "    try:\n",
    "        url_tag3 = driver.find_element(By.XPATH,\"//a[@class='a-link-normal 3star']\")\n",
    "        rate_url1.append(url_tag3.get_attribute(\"href\"))\n",
    "    except:\n",
    "        pass\n",
    "    try:\n",
    "        url_tag2 = driver.find_element(By.XPATH,\"//a[@class='a-link-normal 2star']\")\n",
    "        rate_url1.append(url_tag2.get_attribute(\"href\"))\n",
    "    except:\n",
    "        pass\n",
    "    try:\n",
    "        url_tag1 = driver.find_element(By.XPATH,\"//a[@class='a-link-normal 1star']\")\n",
    "        rate_url1.append(url_tag1.get_attribute(\"href\"))\n",
    "    except:\n",
    "        pass"
   ]
  },
  {
   "cell_type": "code",
   "execution_count": 38,
   "id": "c70636ec",
   "metadata": {},
   "outputs": [],
   "source": [
    "cmt1 = [] #empty list to store all comments\n",
    "rate1 = [] #empty list to store all the ratings"
   ]
  },
  {
   "cell_type": "code",
   "execution_count": 39,
   "id": "c2bd15b0",
   "metadata": {},
   "outputs": [],
   "source": [
    "#to get comments and ratings on 10 pages \n",
    "for i in rate_url1:\n",
    "    driver.get(i)\n",
    "    for x in range(0,11):\n",
    "        time.sleep(3)\n",
    "        comment_tag1 = driver.find_elements(By.XPATH,\"//span[@class='a-size-base review-text review-text-content']\")\n",
    "        rate_tag1 = driver.find_elements(By.XPATH,\"//a[contains(@href,'/gp/customer-reviews/')]/i/span[1]\")\n",
    "        for k in comment_tag1:\n",
    "            try:\n",
    "                cmt1.append(k.text.replace(\"\\n\",\" \"))\n",
    "            except:\n",
    "                cmt1.append(\"-\")\n",
    "        for r in rate_tag1:\n",
    "            try:\n",
    "                rate1.append(r.get_attribute(\"innerHTML\"))\n",
    "            except:\n",
    "                rate1.append(\"-\")\n",
    "        try:\n",
    "            nxtbtn = driver.find_element(By.XPATH,\"//*[@id='cm_cr-pagination_bar']/ul/li[2]/a\").click()\n",
    "        except:\n",
    "            pass\n",
    "        #nxtbtn.click()"
   ]
  },
  {
   "cell_type": "code",
   "execution_count": 40,
   "id": "72072310",
   "metadata": {},
   "outputs": [],
   "source": [
    "#to remove the \"out of 5 stars\" text and stores only the numbers in the Rate list\n",
    "Rate1=[]\n",
    "for r in rate1:\n",
    "    Rate1.append(r.replace(' out of 5 stars',''))"
   ]
  },
  {
   "cell_type": "code",
   "execution_count": 42,
   "id": "f9b5c60c",
   "metadata": {},
   "outputs": [
    {
     "data": {
      "text/plain": [
       "10712"
      ]
     },
     "execution_count": 42,
     "metadata": {},
     "output_type": "execute_result"
    }
   ],
   "source": [
    "len(Rate1)"
   ]
  },
  {
   "cell_type": "code",
   "execution_count": 43,
   "id": "b83ec802",
   "metadata": {},
   "outputs": [
    {
     "data": {
      "text/plain": [
       "10828"
      ]
     },
     "execution_count": 43,
     "metadata": {},
     "output_type": "execute_result"
    }
   ],
   "source": [
    "len(cmt1)"
   ]
  },
  {
   "cell_type": "code",
   "execution_count": 49,
   "id": "970e4d5e",
   "metadata": {},
   "outputs": [],
   "source": [
    "#creating a dataframe to store the comments and ratings\n",
    "ratings_df1 = {'Comment':cmt1[:10712],'Rating':Rate1}\n",
    "\n",
    "Rate_df1  = pd.DataFrame(ratings_df1)"
   ]
  },
  {
   "cell_type": "code",
   "execution_count": 50,
   "id": "e43ac868",
   "metadata": {},
   "outputs": [
    {
     "data": {
      "text/html": [
       "<div>\n",
       "<style scoped>\n",
       "    .dataframe tbody tr th:only-of-type {\n",
       "        vertical-align: middle;\n",
       "    }\n",
       "\n",
       "    .dataframe tbody tr th {\n",
       "        vertical-align: top;\n",
       "    }\n",
       "\n",
       "    .dataframe thead th {\n",
       "        text-align: right;\n",
       "    }\n",
       "</style>\n",
       "<table border=\"1\" class=\"dataframe\">\n",
       "  <thead>\n",
       "    <tr style=\"text-align: right;\">\n",
       "      <th></th>\n",
       "      <th>Comment</th>\n",
       "      <th>Rating</th>\n",
       "    </tr>\n",
       "  </thead>\n",
       "  <tbody>\n",
       "    <tr>\n",
       "      <th>0</th>\n",
       "      <td>Just unboxed the phone. Seems to be a better o...</td>\n",
       "      <td>5.0</td>\n",
       "    </tr>\n",
       "    <tr>\n",
       "      <th>1</th>\n",
       "      <td>This is perfect phone, good speed, decent spec...</td>\n",
       "      <td>5.0</td>\n",
       "    </tr>\n",
       "    <tr>\n",
       "      <th>2</th>\n",
       "      <td>A very satisfying experience with the device s...</td>\n",
       "      <td>5.0</td>\n",
       "    </tr>\n",
       "    <tr>\n",
       "      <th>3</th>\n",
       "      <td>It's a real monster. Everything is awesome fro...</td>\n",
       "      <td>5.0</td>\n",
       "    </tr>\n",
       "    <tr>\n",
       "      <th>4</th>\n",
       "      <td>I am using this phone for the last one week an...</td>\n",
       "      <td>5.0</td>\n",
       "    </tr>\n",
       "    <tr>\n",
       "      <th>...</th>\n",
       "      <td>...</td>\n",
       "      <td>...</td>\n",
       "    </tr>\n",
       "    <tr>\n",
       "      <th>10707</th>\n",
       "      <td>I was purchase mobile after 15days my mobile s...</td>\n",
       "      <td>1.0</td>\n",
       "    </tr>\n",
       "    <tr>\n",
       "      <th>10708</th>\n",
       "      <td>The main thing I hate about this phone is Came...</td>\n",
       "      <td>1.0</td>\n",
       "    </tr>\n",
       "    <tr>\n",
       "      <th>10709</th>\n",
       "      <td>Not much liked it. 4k is not available. HDR no...</td>\n",
       "      <td>1.0</td>\n",
       "    </tr>\n",
       "    <tr>\n",
       "      <th>10710</th>\n",
       "      <td>Headphone jack is not working properly.some ti...</td>\n",
       "      <td>1.0</td>\n",
       "    </tr>\n",
       "    <tr>\n",
       "      <th>10711</th>\n",
       "      <td>Camera 108 jitna kam nahi krta, mobile rutine ...</td>\n",
       "      <td>1.0</td>\n",
       "    </tr>\n",
       "  </tbody>\n",
       "</table>\n",
       "<p>10712 rows × 2 columns</p>\n",
       "</div>"
      ],
      "text/plain": [
       "                                                 Comment Rating\n",
       "0      Just unboxed the phone. Seems to be a better o...    5.0\n",
       "1      This is perfect phone, good speed, decent spec...    5.0\n",
       "2      A very satisfying experience with the device s...    5.0\n",
       "3      It's a real monster. Everything is awesome fro...    5.0\n",
       "4      I am using this phone for the last one week an...    5.0\n",
       "...                                                  ...    ...\n",
       "10707  I was purchase mobile after 15days my mobile s...    1.0\n",
       "10708  The main thing I hate about this phone is Came...    1.0\n",
       "10709  Not much liked it. 4k is not available. HDR no...    1.0\n",
       "10710  Headphone jack is not working properly.some ti...    1.0\n",
       "10711  Camera 108 jitna kam nahi krta, mobile rutine ...    1.0\n",
       "\n",
       "[10712 rows x 2 columns]"
      ]
     },
     "execution_count": 50,
     "metadata": {},
     "output_type": "execute_result"
    }
   ],
   "source": [
    "\n",
    "Rate_df1"
   ]
  },
  {
   "cell_type": "code",
   "execution_count": 51,
   "id": "56e63264",
   "metadata": {},
   "outputs": [],
   "source": [
    "# saving the data in excel file\n",
    "Rate_df1.to_excel('smartphones1.xlsx')"
   ]
  },
  {
   "cell_type": "code",
   "execution_count": 19,
   "id": "cc1f0b86",
   "metadata": {},
   "outputs": [],
   "source": [
    "#searching for \"laptops\"\n",
    "search = driver.find_element(By.XPATH,'/html/body/div[1]/header/div/div[1]/div[2]/div/form/div[2]/div[1]/input')\n",
    "search.send_keys(\"laptops\")\n",
    "search = driver.find_element(By.XPATH,'/html/body/div[1]/header/div/div[1]/div[2]/div/form/div[3]/div/span/input')\n",
    "search.click()"
   ]
  },
  {
   "cell_type": "code",
   "execution_count": 20,
   "id": "0a1d549d",
   "metadata": {},
   "outputs": [],
   "source": [
    "#empty list to store all URLs of laptops\n",
    "product_url =[]"
   ]
  },
  {
   "cell_type": "code",
   "execution_count": 21,
   "id": "426059c0",
   "metadata": {},
   "outputs": [],
   "source": [
    "product_url_tag = driver.find_elements(By.XPATH,\"//a[@class='a-link-normal s-underline-text s-underline-link-text s-link-style a-text-normal']\")"
   ]
  },
  {
   "cell_type": "code",
   "execution_count": 22,
   "id": "43f3dac2",
   "metadata": {},
   "outputs": [],
   "source": [
    "# url of laptops are appended to the the list\n",
    "for u in product_url_tag:\n",
    " try: \n",
    "     product_url.append(u.get_attribute(\"href\"))\n",
    " except:\n",
    "    product_url.append('-')"
   ]
  },
  {
   "cell_type": "code",
   "execution_count": 23,
   "id": "a32dbf8f",
   "metadata": {},
   "outputs": [],
   "source": [
    "# an empty list to store all the urls of the comment pages\n",
    "rate_url = []"
   ]
  },
  {
   "cell_type": "code",
   "execution_count": 24,
   "id": "95dc564f",
   "metadata": {},
   "outputs": [],
   "source": [
    "#collects all the urls of 1 star - 5 star comment pages.\n",
    "\n",
    "for i in product_url:\n",
    "    driver.get(i)\n",
    "    time.sleep(3)\n",
    "    try:\n",
    "        url_tag5 = driver.find_element(By.XPATH,\"//a[@class='a-link-normal 5star']\")\n",
    "        rate_url.append(url_tag5.get_attribute(\"href\"))\n",
    "    except:\n",
    "        pass\n",
    "    try:\n",
    "        url_tag4 = driver.find_element(By.XPATH,\"//a[@class='a-link-normal 4star']\")\n",
    "        rate_url.append(url_tag4.get_attribute(\"href\"))\n",
    "    except:\n",
    "        pass\n",
    "    try:\n",
    "        url_tag3 = driver.find_element(By.XPATH,\"//a[@class='a-link-normal 3star']\")\n",
    "        rate_url.append(url_tag3.get_attribute(\"href\"))\n",
    "    except:\n",
    "        pass\n",
    "    try:\n",
    "        url_tag2 = driver.find_element(By.XPATH,\"//a[@class='a-link-normal 2star']\")\n",
    "        rate_url.append(url_tag2.get_attribute(\"href\"))\n",
    "    except:\n",
    "        pass\n",
    "    try:\n",
    "        url_tag1 = driver.find_element(By.XPATH,\"//a[@class='a-link-normal 1star']\")\n",
    "        rate_url.append(url_tag1.get_attribute(\"href\"))\n",
    "    except:\n",
    "        pass"
   ]
  },
  {
   "cell_type": "code",
   "execution_count": 25,
   "id": "861fe242",
   "metadata": {},
   "outputs": [],
   "source": [
    "\n",
    "cmt = [] #empty list to store all comments\n",
    "rate = [] #empty list to store all the ratings"
   ]
  },
  {
   "cell_type": "code",
   "execution_count": 26,
   "id": "818123ca",
   "metadata": {},
   "outputs": [],
   "source": [
    "# to get comments and ratings on 10 pages\n",
    "for i in rate_url:\n",
    "    driver.get(i)\n",
    "    for x in range(0,11):\n",
    "        time.sleep(3)\n",
    "        comment_tag = driver.find_elements(By.XPATH,\"//span[@class='a-size-base review-text review-text-content']\")\n",
    "        rate_tag = driver.find_elements(By.XPATH,\"//a[contains(@href,'/gp/customer-reviews/')]/i/span[1]\")\n",
    "        for k in comment_tag:\n",
    "            try:\n",
    "                cmt.append(k.text.replace(\"\\n\",\" \"))\n",
    "            except:\n",
    "                cmt.append(\"-\")\n",
    "        for r in rate_tag:\n",
    "            try:\n",
    "                rate.append(r.get_attribute(\"innerHTML\"))\n",
    "            except:\n",
    "                rate.append(\"-\")\n",
    "        try:\n",
    "            nxtbtn = driver.find_element(By.XPATH,\"//*[@id='cm_cr-pagination_bar']/ul/li[2]/a\").click()\n",
    "        except:\n",
    "            pass\n",
    "        #nxtbtn.click()"
   ]
  },
  {
   "cell_type": "code",
   "execution_count": 27,
   "id": "168837e5",
   "metadata": {},
   "outputs": [],
   "source": [
    "# to remove the \"out of 5 stars\" text and stores only the numbers in the Rate list\n",
    "Rate=[]\n",
    "for r in rate:\n",
    "    Rate.append(r.replace(' out of 5 stars',''))"
   ]
  },
  {
   "cell_type": "code",
   "execution_count": 28,
   "id": "7a6afee7",
   "metadata": {},
   "outputs": [
    {
     "data": {
      "text/plain": [
       "6790"
      ]
     },
     "execution_count": 28,
     "metadata": {},
     "output_type": "execute_result"
    }
   ],
   "source": [
    "len(Rate)"
   ]
  },
  {
   "cell_type": "code",
   "execution_count": 29,
   "id": "10548b6e",
   "metadata": {},
   "outputs": [
    {
     "data": {
      "text/plain": [
       "6790"
      ]
     },
     "execution_count": 29,
     "metadata": {},
     "output_type": "execute_result"
    }
   ],
   "source": [
    "len(cmt)"
   ]
  },
  {
   "cell_type": "code",
   "execution_count": 53,
   "id": "7040f46b",
   "metadata": {},
   "outputs": [],
   "source": [
    "#creating a dataframe to store the comments and ratings\n",
    "ratings_df = {'Comment':cmt,'Rating':Rate}\n",
    "\n",
    "Rate_df2  = pd.DataFrame(ratings_df)"
   ]
  },
  {
   "cell_type": "code",
   "execution_count": 54,
   "id": "232c2098",
   "metadata": {},
   "outputs": [
    {
     "data": {
      "text/html": [
       "<div>\n",
       "<style scoped>\n",
       "    .dataframe tbody tr th:only-of-type {\n",
       "        vertical-align: middle;\n",
       "    }\n",
       "\n",
       "    .dataframe tbody tr th {\n",
       "        vertical-align: top;\n",
       "    }\n",
       "\n",
       "    .dataframe thead th {\n",
       "        text-align: right;\n",
       "    }\n",
       "</style>\n",
       "<table border=\"1\" class=\"dataframe\">\n",
       "  <thead>\n",
       "    <tr style=\"text-align: right;\">\n",
       "      <th></th>\n",
       "      <th>Comment</th>\n",
       "      <th>Rating</th>\n",
       "    </tr>\n",
       "  </thead>\n",
       "  <tbody>\n",
       "    <tr>\n",
       "      <th>0</th>\n",
       "      <td>Best budget laptop if you are looking for inte...</td>\n",
       "      <td>5.0</td>\n",
       "    </tr>\n",
       "    <tr>\n",
       "      <th>1</th>\n",
       "      <td>Its been 10 days since I bought this laptop, i...</td>\n",
       "      <td>5.0</td>\n",
       "    </tr>\n",
       "    <tr>\n",
       "      <th>2</th>\n",
       "      <td>Best in class with configuration and durability</td>\n",
       "      <td>5.0</td>\n",
       "    </tr>\n",
       "    <tr>\n",
       "      <th>3</th>\n",
       "      <td>Pro's Handy,FAST,superb HD quality, Con's Only...</td>\n",
       "      <td>5.0</td>\n",
       "    </tr>\n",
       "    <tr>\n",
       "      <th>4</th>\n",
       "      <td>Great product I recommend it if you r using fo...</td>\n",
       "      <td>5.0</td>\n",
       "    </tr>\n",
       "    <tr>\n",
       "      <th>...</th>\n",
       "      <td>...</td>\n",
       "      <td>...</td>\n",
       "    </tr>\n",
       "    <tr>\n",
       "      <th>6785</th>\n",
       "      <td>Go for something else.</td>\n",
       "      <td>1.0</td>\n",
       "    </tr>\n",
       "    <tr>\n",
       "      <th>6786</th>\n",
       "      <td>Play Video  I bought the laptop as soon as it ...</td>\n",
       "      <td>1.0</td>\n",
       "    </tr>\n",
       "    <tr>\n",
       "      <th>6787</th>\n",
       "      <td>Please don't buy this company No service prope...</td>\n",
       "      <td>1.0</td>\n",
       "    </tr>\n",
       "    <tr>\n",
       "      <th>6788</th>\n",
       "      <td>This is the worst laptop i ever use . It is to...</td>\n",
       "      <td>1.0</td>\n",
       "    </tr>\n",
       "    <tr>\n",
       "      <th>6789</th>\n",
       "      <td></td>\n",
       "      <td>1.0</td>\n",
       "    </tr>\n",
       "  </tbody>\n",
       "</table>\n",
       "<p>6790 rows × 2 columns</p>\n",
       "</div>"
      ],
      "text/plain": [
       "                                                Comment Rating\n",
       "0     Best budget laptop if you are looking for inte...    5.0\n",
       "1     Its been 10 days since I bought this laptop, i...    5.0\n",
       "2       Best in class with configuration and durability    5.0\n",
       "3     Pro's Handy,FAST,superb HD quality, Con's Only...    5.0\n",
       "4     Great product I recommend it if you r using fo...    5.0\n",
       "...                                                 ...    ...\n",
       "6785                             Go for something else.    1.0\n",
       "6786  Play Video  I bought the laptop as soon as it ...    1.0\n",
       "6787  Please don't buy this company No service prope...    1.0\n",
       "6788  This is the worst laptop i ever use . It is to...    1.0\n",
       "6789                                                       1.0\n",
       "\n",
       "[6790 rows x 2 columns]"
      ]
     },
     "execution_count": 54,
     "metadata": {},
     "output_type": "execute_result"
    }
   ],
   "source": [
    "\n",
    "Rate_df2"
   ]
  },
  {
   "cell_type": "code",
   "execution_count": 55,
   "id": "632ad9f6",
   "metadata": {},
   "outputs": [],
   "source": [
    "# saving the data in excel file\n",
    "Rate_df2.to_excel('laptops1.xlsx')"
   ]
  },
  {
   "cell_type": "code",
   "execution_count": 56,
   "id": "4375d1c9",
   "metadata": {},
   "outputs": [],
   "source": [
    "driver.close()"
   ]
  },
  {
   "cell_type": "code",
   "execution_count": 59,
   "id": "9c83131c",
   "metadata": {},
   "outputs": [],
   "source": [
    "# connecting to web drivers and open url\n",
    "service = Service(r'C:\\Users\\Nirav\\chromedriver_win32\\chromedriver.exe')\n",
    "service.start()\n",
    "\n",
    "driver = webdriver.Remote(service.service_url)\n",
    "\n",
    "keyword ='https://www.flipkart.com/'\n",
    "driver.get(keyword)"
   ]
  },
  {
   "cell_type": "code",
   "execution_count": 62,
   "id": "1f4752d0",
   "metadata": {},
   "outputs": [],
   "source": [
    "\n",
    "#searching for \"Smart watches\"\n",
    "search = driver.find_element(By.XPATH,'/html/body/div/div/div[1]/div[1]/div[2]/div[2]/form/div/div/input')\n",
    "search.send_keys('Smart watches')\n",
    "searchbtn = driver.find_element(By.CLASS_NAME,'L0Z3Pu').click()"
   ]
  },
  {
   "cell_type": "code",
   "execution_count": 63,
   "id": "32755cfd",
   "metadata": {},
   "outputs": [],
   "source": [
    "#empty list to store all URLs of smartwatches \n",
    "product_url = []"
   ]
  },
  {
   "cell_type": "code",
   "execution_count": 64,
   "id": "927f632d",
   "metadata": {},
   "outputs": [],
   "source": [
    "# url of each smartwatch is appended to the the list\n",
    "url_tag = driver.find_elements(By.XPATH,\"//a[@class='_1fQZEK']\")\n",
    "for u in url_tag:\n",
    "     product_url.append(u.get_attribute(\"href\"))"
   ]
  },
  {
   "cell_type": "code",
   "execution_count": 65,
   "id": "462eb0a1",
   "metadata": {},
   "outputs": [],
   "source": [
    "revurl=[] # an empty list to store all the urls of the review section of the products"
   ]
  },
  {
   "cell_type": "code",
   "execution_count": 66,
   "id": "cdd7bfc3",
   "metadata": {},
   "outputs": [],
   "source": [
    "# url of review section of each product is appended to the the list\n",
    "for i in product_url:\n",
    "    driver.get(i)\n",
    "    time.sleep(1)\n",
    "    try:\n",
    "        rev_tag = driver.find_element(By.XPATH,\"//*[@class='col JOpGWq']/a\")\n",
    "        revurl.append(rev_tag.get_attribute(\"href\"))\n",
    "    except:\n",
    "        pass\n"
   ]
  },
  {
   "cell_type": "code",
   "execution_count": 67,
   "id": "18276b3f",
   "metadata": {},
   "outputs": [],
   "source": [
    "cmt = [] # an empty list to store all of the comment\n",
    "rate = [] # an empty list to store all the ratings\n",
    "revpgurl=[] # an empty list to store all the urls of the pages containing reviews"
   ]
  },
  {
   "cell_type": "code",
   "execution_count": 68,
   "id": "ea43a7f6",
   "metadata": {},
   "outputs": [],
   "source": [
    "\n",
    "#the url of each comment page is appended to the the list\n",
    "for i in revurl:\n",
    "    driver.get(i)\n",
    "    time.sleep(2)\n",
    "    \n",
    "              \n",
    "    revpg=driver.find_elements(By.XPATH,\"//a[@class='ge-49M']\")\n",
    "    for n in revpg:\n",
    "        revpgurl.append(n.get_attribute(\"href\"))"
   ]
  },
  {
   "cell_type": "code",
   "execution_count": 69,
   "id": "7c1c6892",
   "metadata": {},
   "outputs": [],
   "source": [
    "\n",
    "#all the comments and ratings are collected\n",
    "for j in revpgurl:\n",
    "        driver.get(j)\n",
    "        time.sleep(3)\n",
    "        comment_tag = driver.find_elements(By.XPATH,\"//div[@class='t-ZTKy']/div/div\")\n",
    "        rate_tag = driver.find_elements(By.XPATH,\"//div[@class='_3LWZlK _1BLPMq']\")\n",
    "    \n",
    "        for k in comment_tag:\n",
    "            try:\n",
    "                cmt.append(k.text.replace(\"\\n\",\" \"))\n",
    "            except:\n",
    "                cmt.append(\"-\")\n",
    "        for r in rate_tag:\n",
    "            try:\n",
    "                rate.append(r.text)\n",
    "            except:\n",
    "                rate.append(\"-\")"
   ]
  },
  {
   "cell_type": "code",
   "execution_count": 70,
   "id": "9a4b7fa6",
   "metadata": {},
   "outputs": [
    {
     "data": {
      "text/plain": [
       "744"
      ]
     },
     "execution_count": 70,
     "metadata": {},
     "output_type": "execute_result"
    }
   ],
   "source": [
    "len(cmt)"
   ]
  },
  {
   "cell_type": "code",
   "execution_count": 71,
   "id": "81aea6ec",
   "metadata": {},
   "outputs": [
    {
     "data": {
      "text/plain": [
       "510"
      ]
     },
     "execution_count": 71,
     "metadata": {},
     "output_type": "execute_result"
    }
   ],
   "source": [
    "len(rate)"
   ]
  },
  {
   "cell_type": "code",
   "execution_count": 72,
   "id": "0cbedff9",
   "metadata": {},
   "outputs": [],
   "source": [
    "\n",
    "ratingsdf3 = {'Comment':cmt[0:510],'Rating':rate}\n",
    "\n",
    "Rate_df3  = pd.DataFrame(ratingsdf3) #creating dataframe of reviews and ratings"
   ]
  },
  {
   "cell_type": "code",
   "execution_count": 73,
   "id": "fcde2041",
   "metadata": {},
   "outputs": [
    {
     "data": {
      "text/html": [
       "<div>\n",
       "<style scoped>\n",
       "    .dataframe tbody tr th:only-of-type {\n",
       "        vertical-align: middle;\n",
       "    }\n",
       "\n",
       "    .dataframe tbody tr th {\n",
       "        vertical-align: top;\n",
       "    }\n",
       "\n",
       "    .dataframe thead th {\n",
       "        text-align: right;\n",
       "    }\n",
       "</style>\n",
       "<table border=\"1\" class=\"dataframe\">\n",
       "  <thead>\n",
       "    <tr style=\"text-align: right;\">\n",
       "      <th></th>\n",
       "      <th>Comment</th>\n",
       "      <th>Rating</th>\n",
       "    </tr>\n",
       "  </thead>\n",
       "  <tbody>\n",
       "    <tr>\n",
       "      <th>0</th>\n",
       "      <td>Good 👍</td>\n",
       "      <td>4</td>\n",
       "    </tr>\n",
       "    <tr>\n",
       "      <th>1</th>\n",
       "      <td>GOOD QUALITY SMART WATCH</td>\n",
       "      <td>5</td>\n",
       "    </tr>\n",
       "    <tr>\n",
       "      <th>2</th>\n",
       "      <td>Average</td>\n",
       "      <td>5</td>\n",
       "    </tr>\n",
       "    <tr>\n",
       "      <th>3</th>\n",
       "      <td>Very very bad product ,watch battery life is v...</td>\n",
       "      <td>5</td>\n",
       "    </tr>\n",
       "    <tr>\n",
       "      <th>4</th>\n",
       "      <td>Watch look look is really amazing worth of mon...</td>\n",
       "      <td>5</td>\n",
       "    </tr>\n",
       "    <tr>\n",
       "      <th>...</th>\n",
       "      <td>...</td>\n",
       "      <td>...</td>\n",
       "    </tr>\n",
       "    <tr>\n",
       "      <th>505</th>\n",
       "      <td>worth buying it.... got it for rs 20k and 100%...</td>\n",
       "      <td>5</td>\n",
       "    </tr>\n",
       "    <tr>\n",
       "      <th>506</th>\n",
       "      <td>It’s amazing and great innovation by apple. To...</td>\n",
       "      <td>5</td>\n",
       "    </tr>\n",
       "    <tr>\n",
       "      <th>507</th>\n",
       "      <td>Good watch..but after purchased I regret that ...</td>\n",
       "      <td>5</td>\n",
       "    </tr>\n",
       "    <tr>\n",
       "      <th>508</th>\n",
       "      <td>Awesome in every way no need to go for series ...</td>\n",
       "      <td>5</td>\n",
       "    </tr>\n",
       "    <tr>\n",
       "      <th>509</th>\n",
       "      <td>The best in class smart watch that I have seen...</td>\n",
       "      <td>4</td>\n",
       "    </tr>\n",
       "  </tbody>\n",
       "</table>\n",
       "<p>510 rows × 2 columns</p>\n",
       "</div>"
      ],
      "text/plain": [
       "                                               Comment Rating\n",
       "0                                               Good 👍      4\n",
       "1                             GOOD QUALITY SMART WATCH      5\n",
       "2                                              Average      5\n",
       "3    Very very bad product ,watch battery life is v...      5\n",
       "4    Watch look look is really amazing worth of mon...      5\n",
       "..                                                 ...    ...\n",
       "505  worth buying it.... got it for rs 20k and 100%...      5\n",
       "506  It’s amazing and great innovation by apple. To...      5\n",
       "507  Good watch..but after purchased I regret that ...      5\n",
       "508  Awesome in every way no need to go for series ...      5\n",
       "509  The best in class smart watch that I have seen...      4\n",
       "\n",
       "[510 rows x 2 columns]"
      ]
     },
     "execution_count": 73,
     "metadata": {},
     "output_type": "execute_result"
    }
   ],
   "source": [
    "Rate_df3 "
   ]
  },
  {
   "cell_type": "code",
   "execution_count": 74,
   "id": "dad218a5",
   "metadata": {},
   "outputs": [],
   "source": [
    "# saving the data in excel file\n",
    "Rate_df3.to_excel('smart_watches1.xlsx')"
   ]
  },
  {
   "cell_type": "code",
   "execution_count": 75,
   "id": "93453999",
   "metadata": {},
   "outputs": [],
   "source": [
    "#searching for \"Smart tv\"\n",
    "search = driver.find_element(By.XPATH,'/html/body/div/div/div[1]/div[1]/div[2]/div[2]/form/div/div/input')\n",
    "search.send_keys('Smart tv')\n",
    "searchbtn = driver.find_element(By.CLASS_NAME,'L0Z3Pu').click()"
   ]
  },
  {
   "cell_type": "code",
   "execution_count": 76,
   "id": "d5ed6387",
   "metadata": {},
   "outputs": [],
   "source": [
    "#empty list to store all URLs of smartphone products\n",
    "product_url = []"
   ]
  },
  {
   "cell_type": "code",
   "execution_count": 77,
   "id": "7901f17d",
   "metadata": {},
   "outputs": [],
   "source": [
    "# url of each smartphone is appended to the the list\n",
    "url_tag = driver.find_elements(By.XPATH,\"//a[@class='_1fQZEK']\")\n",
    "for u in url_tag:\n",
    "     product_url.append(u.get_attribute(\"href\"))"
   ]
  },
  {
   "cell_type": "code",
   "execution_count": 78,
   "id": "af81d7b4",
   "metadata": {},
   "outputs": [],
   "source": [
    "revurl=[] # an empty list to store all the urls of the review section of the products"
   ]
  },
  {
   "cell_type": "code",
   "execution_count": 79,
   "id": "eac4c358",
   "metadata": {},
   "outputs": [],
   "source": [
    "#to get url of review section of each product is appended to the the list\n",
    "for i in product_url:\n",
    "    driver.get(i)\n",
    "    time.sleep(1)\n",
    "    try:\n",
    "        rev_tag = driver.find_element(By.XPATH,\"//*[@class='col JOpGWq']/a\")\n",
    "        revurl.append(rev_tag.get_attribute(\"href\"))\n",
    "    except:\n",
    "        pass"
   ]
  },
  {
   "cell_type": "code",
   "execution_count": 80,
   "id": "6ca27f71",
   "metadata": {},
   "outputs": [],
   "source": [
    "\n",
    "cmt = [] # an empty list to store all of the comment\n",
    "rate = [] # an empty list to store all the ratings\n",
    "revpgurl=[] # an empty list to store all the urls of the pages containing reviews"
   ]
  },
  {
   "cell_type": "code",
   "execution_count": 81,
   "id": "70bb8bd8",
   "metadata": {},
   "outputs": [],
   "source": [
    "\n",
    "#to get url of each comment page is appended to the the list\n",
    "for i in revurl:\n",
    "    driver.get(i)\n",
    "    time.sleep(2)\n",
    "    \n",
    "              \n",
    "    revpg=driver.find_elements(By.XPATH,\"//a[@class='ge-49M']\")\n",
    "    for n in revpg:\n",
    "        revpgurl.append(n.get_attribute(\"href\"))"
   ]
  },
  {
   "cell_type": "code",
   "execution_count": 82,
   "id": "cfd43918",
   "metadata": {},
   "outputs": [],
   "source": [
    "#all the comments and ratings are collected\n",
    "for j in revpgurl:\n",
    "        driver.get(j)\n",
    "        time.sleep(3)\n",
    "        comment_tag = driver.find_elements(By.XPATH,\"//div[@class='t-ZTKy']/div/div\")\n",
    "        rate_tag = driver.find_elements(By.XPATH,\"//div[@class='_3LWZlK _1BLPMq']\")\n",
    "    \n",
    "        for k in comment_tag:\n",
    "            try:\n",
    "                cmt.append(k.text.replace(\"\\n\",\" \"))\n",
    "            except:\n",
    "                cmt.append(\"-\")\n",
    "        for r in rate_tag:\n",
    "            try:\n",
    "                rate.append(r.text)\n",
    "            except:\n",
    "                rate.append(\"-\")"
   ]
  },
  {
   "cell_type": "code",
   "execution_count": 83,
   "id": "5263cc7e",
   "metadata": {},
   "outputs": [
    {
     "data": {
      "text/plain": [
       "1896"
      ]
     },
     "execution_count": 83,
     "metadata": {},
     "output_type": "execute_result"
    }
   ],
   "source": [
    "len(cmt)"
   ]
  },
  {
   "cell_type": "code",
   "execution_count": 84,
   "id": "ae9096d7",
   "metadata": {},
   "outputs": [
    {
     "data": {
      "text/plain": [
       "1695"
      ]
     },
     "execution_count": 84,
     "metadata": {},
     "output_type": "execute_result"
    }
   ],
   "source": [
    "len(rate)"
   ]
  },
  {
   "cell_type": "code",
   "execution_count": 85,
   "id": "d41796f1",
   "metadata": {},
   "outputs": [],
   "source": [
    "ratingsdf4 = {'Comment':cmt[0:1695],'Rating':rate}\n",
    "\n",
    "Rate_df4  = pd.DataFrame(ratingsdf4) #creating dataframe of reviews and ratings"
   ]
  },
  {
   "cell_type": "code",
   "execution_count": 86,
   "id": "d173fe24",
   "metadata": {},
   "outputs": [
    {
     "data": {
      "text/html": [
       "<div>\n",
       "<style scoped>\n",
       "    .dataframe tbody tr th:only-of-type {\n",
       "        vertical-align: middle;\n",
       "    }\n",
       "\n",
       "    .dataframe tbody tr th {\n",
       "        vertical-align: top;\n",
       "    }\n",
       "\n",
       "    .dataframe thead th {\n",
       "        text-align: right;\n",
       "    }\n",
       "</style>\n",
       "<table border=\"1\" class=\"dataframe\">\n",
       "  <thead>\n",
       "    <tr style=\"text-align: right;\">\n",
       "      <th></th>\n",
       "      <th>Comment</th>\n",
       "      <th>Rating</th>\n",
       "    </tr>\n",
       "  </thead>\n",
       "  <tbody>\n",
       "    <tr>\n",
       "      <th>0</th>\n",
       "      <td>Really good product. value for money. Smart TV...</td>\n",
       "      <td>5</td>\n",
       "    </tr>\n",
       "    <tr>\n",
       "      <th>1</th>\n",
       "      <td>wonderful product with the less price range. p...</td>\n",
       "      <td>5</td>\n",
       "    </tr>\n",
       "    <tr>\n",
       "      <th>2</th>\n",
       "      <td>PRO is better than previous version. It runs o...</td>\n",
       "      <td>5</td>\n",
       "    </tr>\n",
       "    <tr>\n",
       "      <th>3</th>\n",
       "      <td>Listen Up, I am writing this review after 5 da...</td>\n",
       "      <td>4</td>\n",
       "    </tr>\n",
       "    <tr>\n",
       "      <th>4</th>\n",
       "      <td>first time i was confused that mi tv quality i...</td>\n",
       "      <td>5</td>\n",
       "    </tr>\n",
       "    <tr>\n",
       "      <th>...</th>\n",
       "      <td>...</td>\n",
       "      <td>...</td>\n",
       "    </tr>\n",
       "    <tr>\n",
       "      <th>1690</th>\n",
       "      <td>Best product full HD video . really it's excel...</td>\n",
       "      <td>4</td>\n",
       "    </tr>\n",
       "    <tr>\n",
       "      <th>1691</th>\n",
       "      <td>It's a very good product. I loved your product...</td>\n",
       "      <td>5</td>\n",
       "    </tr>\n",
       "    <tr>\n",
       "      <th>1692</th>\n",
       "      <td>After 20 days, I write my review of TV, Its ex...</td>\n",
       "      <td>4</td>\n",
       "    </tr>\n",
       "    <tr>\n",
       "      <th>1693</th>\n",
       "      <td>Delivered with 24 hrs of booking. Excellent pa...</td>\n",
       "      <td>5</td>\n",
       "    </tr>\n",
       "    <tr>\n",
       "      <th>1694</th>\n",
       "      <td>I suggest for buy it's super clearity ... Best...</td>\n",
       "      <td>5</td>\n",
       "    </tr>\n",
       "  </tbody>\n",
       "</table>\n",
       "<p>1695 rows × 2 columns</p>\n",
       "</div>"
      ],
      "text/plain": [
       "                                                Comment Rating\n",
       "0     Really good product. value for money. Smart TV...      5\n",
       "1     wonderful product with the less price range. p...      5\n",
       "2     PRO is better than previous version. It runs o...      5\n",
       "3     Listen Up, I am writing this review after 5 da...      4\n",
       "4     first time i was confused that mi tv quality i...      5\n",
       "...                                                 ...    ...\n",
       "1690  Best product full HD video . really it's excel...      4\n",
       "1691  It's a very good product. I loved your product...      5\n",
       "1692  After 20 days, I write my review of TV, Its ex...      4\n",
       "1693  Delivered with 24 hrs of booking. Excellent pa...      5\n",
       "1694  I suggest for buy it's super clearity ... Best...      5\n",
       "\n",
       "[1695 rows x 2 columns]"
      ]
     },
     "execution_count": 86,
     "metadata": {},
     "output_type": "execute_result"
    }
   ],
   "source": [
    "Rate_df4"
   ]
  },
  {
   "cell_type": "code",
   "execution_count": 87,
   "id": "abf39c87",
   "metadata": {},
   "outputs": [],
   "source": [
    "# saving the data in excel file\n",
    "Rate_df4.to_excel('smart_tv1.xlsx')"
   ]
  },
  {
   "cell_type": "code",
   "execution_count": 88,
   "id": "d2d80817",
   "metadata": {},
   "outputs": [],
   "source": [
    "# to concate all scarpped data as single data set\n",
    "df = pd.concat([Rate_df1,Rate_df2,Rate_df3,Rate_df4],ignore_index=True)"
   ]
  },
  {
   "cell_type": "code",
   "execution_count": 89,
   "id": "d82309fb",
   "metadata": {},
   "outputs": [
    {
     "data": {
      "text/html": [
       "<div>\n",
       "<style scoped>\n",
       "    .dataframe tbody tr th:only-of-type {\n",
       "        vertical-align: middle;\n",
       "    }\n",
       "\n",
       "    .dataframe tbody tr th {\n",
       "        vertical-align: top;\n",
       "    }\n",
       "\n",
       "    .dataframe thead th {\n",
       "        text-align: right;\n",
       "    }\n",
       "</style>\n",
       "<table border=\"1\" class=\"dataframe\">\n",
       "  <thead>\n",
       "    <tr style=\"text-align: right;\">\n",
       "      <th></th>\n",
       "      <th>Comment</th>\n",
       "      <th>Rating</th>\n",
       "    </tr>\n",
       "  </thead>\n",
       "  <tbody>\n",
       "    <tr>\n",
       "      <th>0</th>\n",
       "      <td>Just unboxed the phone. Seems to be a better o...</td>\n",
       "      <td>5.0</td>\n",
       "    </tr>\n",
       "    <tr>\n",
       "      <th>1</th>\n",
       "      <td>This is perfect phone, good speed, decent spec...</td>\n",
       "      <td>5.0</td>\n",
       "    </tr>\n",
       "    <tr>\n",
       "      <th>2</th>\n",
       "      <td>A very satisfying experience with the device s...</td>\n",
       "      <td>5.0</td>\n",
       "    </tr>\n",
       "    <tr>\n",
       "      <th>3</th>\n",
       "      <td>It's a real monster. Everything is awesome fro...</td>\n",
       "      <td>5.0</td>\n",
       "    </tr>\n",
       "    <tr>\n",
       "      <th>4</th>\n",
       "      <td>I am using this phone for the last one week an...</td>\n",
       "      <td>5.0</td>\n",
       "    </tr>\n",
       "    <tr>\n",
       "      <th>...</th>\n",
       "      <td>...</td>\n",
       "      <td>...</td>\n",
       "    </tr>\n",
       "    <tr>\n",
       "      <th>19702</th>\n",
       "      <td>Best product full HD video . really it's excel...</td>\n",
       "      <td>4</td>\n",
       "    </tr>\n",
       "    <tr>\n",
       "      <th>19703</th>\n",
       "      <td>It's a very good product. I loved your product...</td>\n",
       "      <td>5</td>\n",
       "    </tr>\n",
       "    <tr>\n",
       "      <th>19704</th>\n",
       "      <td>After 20 days, I write my review of TV, Its ex...</td>\n",
       "      <td>4</td>\n",
       "    </tr>\n",
       "    <tr>\n",
       "      <th>19705</th>\n",
       "      <td>Delivered with 24 hrs of booking. Excellent pa...</td>\n",
       "      <td>5</td>\n",
       "    </tr>\n",
       "    <tr>\n",
       "      <th>19706</th>\n",
       "      <td>I suggest for buy it's super clearity ... Best...</td>\n",
       "      <td>5</td>\n",
       "    </tr>\n",
       "  </tbody>\n",
       "</table>\n",
       "<p>19707 rows × 2 columns</p>\n",
       "</div>"
      ],
      "text/plain": [
       "                                                 Comment Rating\n",
       "0      Just unboxed the phone. Seems to be a better o...    5.0\n",
       "1      This is perfect phone, good speed, decent spec...    5.0\n",
       "2      A very satisfying experience with the device s...    5.0\n",
       "3      It's a real monster. Everything is awesome fro...    5.0\n",
       "4      I am using this phone for the last one week an...    5.0\n",
       "...                                                  ...    ...\n",
       "19702  Best product full HD video . really it's excel...      4\n",
       "19703  It's a very good product. I loved your product...      5\n",
       "19704  After 20 days, I write my review of TV, Its ex...      4\n",
       "19705  Delivered with 24 hrs of booking. Excellent pa...      5\n",
       "19706  I suggest for buy it's super clearity ... Best...      5\n",
       "\n",
       "[19707 rows x 2 columns]"
      ]
     },
     "execution_count": 89,
     "metadata": {},
     "output_type": "execute_result"
    }
   ],
   "source": [
    "df"
   ]
  },
  {
   "cell_type": "code",
   "execution_count": 90,
   "id": "5b4e48ff",
   "metadata": {},
   "outputs": [],
   "source": [
    "# saving the data in excel file\n",
    "df.to_csv('Ratings.csv')"
   ]
  },
  {
   "cell_type": "code",
   "execution_count": null,
   "id": "c57a55e0",
   "metadata": {},
   "outputs": [],
   "source": []
  }
 ],
 "metadata": {
  "kernelspec": {
   "display_name": "Python 3 (ipykernel)",
   "language": "python",
   "name": "python3"
  },
  "language_info": {
   "codemirror_mode": {
    "name": "ipython",
    "version": 3
   },
   "file_extension": ".py",
   "mimetype": "text/x-python",
   "name": "python",
   "nbconvert_exporter": "python",
   "pygments_lexer": "ipython3",
   "version": "3.9.12"
  }
 },
 "nbformat": 4,
 "nbformat_minor": 5
}
