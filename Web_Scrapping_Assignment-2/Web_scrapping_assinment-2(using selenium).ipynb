{
 "cells": [
  {
   "cell_type": "markdown",
   "id": "79d7666c",
   "metadata": {},
   "source": [
    "# Write a python program to scrape data for “Data Analyst” Job position in “Bangalore” location. You\n",
    "have to scrape the job-title, job-location, company_name, experience_required. You have to scrape first 10\n",
    "jobs data.\n",
    "This task will be done in following steps:\n",
    "1. First get the webpage https://www.naukri.com/\n",
    "2. Enter “Data Analyst” in “Skill, Designations, Companies” field and enter “Bangalore” in “enter the\n",
    "location” field.\n",
    "3. Then click the search button.\n",
    "4. Then scrape the data for the first 10 jobs results you get.\n",
    "5. Finally create a dataframe of the scraped data.\n",
    "Note: All of the above steps have to be done in code. No step is to be done manually"
   ]
  },
  {
   "cell_type": "code",
   "execution_count": 57,
   "id": "e7e9b003",
   "metadata": {},
   "outputs": [
    {
     "name": "stdout",
     "output_type": "stream",
     "text": [
      "Requirement already satisfied: selenium in c:\\users\\nirav\\anaconda3\\lib\\site-packages (4.1.3)\n",
      "Requirement already satisfied: trio~=0.17 in c:\\users\\nirav\\anaconda3\\lib\\site-packages (from selenium) (0.20.0)\n",
      "Requirement already satisfied: urllib3[secure,socks]~=1.26 in c:\\users\\nirav\\anaconda3\\lib\\site-packages (from selenium) (1.26.7)\n",
      "Requirement already satisfied: trio-websocket~=0.9 in c:\\users\\nirav\\anaconda3\\lib\\site-packages (from selenium) (0.9.2)\n",
      "Requirement already satisfied: cffi>=1.14 in c:\\users\\nirav\\anaconda3\\lib\\site-packages (from trio~=0.17->selenium) (1.14.6)\n",
      "Requirement already satisfied: sortedcontainers in c:\\users\\nirav\\anaconda3\\lib\\site-packages (from trio~=0.17->selenium) (2.4.0)\n",
      "Requirement already satisfied: sniffio in c:\\users\\nirav\\anaconda3\\lib\\site-packages (from trio~=0.17->selenium) (1.2.0)\n",
      "Requirement already satisfied: outcome in c:\\users\\nirav\\anaconda3\\lib\\site-packages (from trio~=0.17->selenium) (1.1.0)\n",
      "Requirement already satisfied: async-generator>=1.9 in c:\\users\\nirav\\anaconda3\\lib\\site-packages (from trio~=0.17->selenium) (1.10)\n",
      "Requirement already satisfied: idna in c:\\users\\nirav\\anaconda3\\lib\\site-packages (from trio~=0.17->selenium) (3.2)\n",
      "Requirement already satisfied: attrs>=19.2.0 in c:\\users\\nirav\\anaconda3\\lib\\site-packages (from trio~=0.17->selenium) (21.2.0)\n",
      "Requirement already satisfied: pycparser in c:\\users\\nirav\\anaconda3\\lib\\site-packages (from cffi>=1.14->trio~=0.17->selenium) (2.20)\n",
      "Requirement already satisfied: wsproto>=0.14 in c:\\users\\nirav\\anaconda3\\lib\\site-packages (from trio-websocket~=0.9->selenium) (1.1.0)\n",
      "Requirement already satisfied: pyOpenSSL>=0.14 in c:\\users\\nirav\\anaconda3\\lib\\site-packages (from urllib3[secure,socks]~=1.26->selenium) (21.0.0)\n",
      "Requirement already satisfied: cryptography>=1.3.4 in c:\\users\\nirav\\anaconda3\\lib\\site-packages (from urllib3[secure,socks]~=1.26->selenium) (3.4.8)\n",
      "Requirement already satisfied: certifi in c:\\users\\nirav\\anaconda3\\lib\\site-packages (from urllib3[secure,socks]~=1.26->selenium) (2021.10.8)\n",
      "Requirement already satisfied: PySocks!=1.5.7,<2.0,>=1.5.6 in c:\\users\\nirav\\anaconda3\\lib\\site-packages (from urllib3[secure,socks]~=1.26->selenium) (1.7.1)\n",
      "Requirement already satisfied: six>=1.5.2 in c:\\users\\nirav\\anaconda3\\lib\\site-packages (from pyOpenSSL>=0.14->urllib3[secure,socks]~=1.26->selenium) (1.16.0)\n",
      "Requirement already satisfied: h11<1,>=0.9.0 in c:\\users\\nirav\\anaconda3\\lib\\site-packages (from wsproto>=0.14->trio-websocket~=0.9->selenium) (0.13.0)\n"
     ]
    }
   ],
   "source": [
    "! pip install selenium"
   ]
  },
  {
   "cell_type": "code",
   "execution_count": 58,
   "id": "36c891ac",
   "metadata": {},
   "outputs": [],
   "source": [
    "import selenium\n",
    "import pandas as pd\n",
    "from selenium import webdriver\n",
    "import warnings\n",
    "warnings.filterwarnings(\"ignore\")\n",
    "import time"
   ]
  },
  {
   "cell_type": "code",
   "execution_count": 59,
   "id": "07962e5c",
   "metadata": {},
   "outputs": [],
   "source": [
    "driver = webdriver.Chrome(r\"C:\\Users\\Nirav\\Downloads\\chromedriver_win32/chromedriver.exe\")"
   ]
  },
  {
   "cell_type": "code",
   "execution_count": 60,
   "id": "bb721af0",
   "metadata": {},
   "outputs": [],
   "source": [
    "driver=webdriver.Chrome(\"chromedriver.exe\")\n",
    "time.sleep(2)"
   ]
  },
  {
   "cell_type": "code",
   "execution_count": 61,
   "id": "b382522d",
   "metadata": {},
   "outputs": [],
   "source": [
    "driver.get(\"http://www.naukri.com/\")"
   ]
  },
  {
   "cell_type": "code",
   "execution_count": 62,
   "id": "d58c7c6a",
   "metadata": {},
   "outputs": [],
   "source": [
    "#finding elements for job search bar\n",
    "search_field_designation=driver.find_element_by_class_name(\"suggestor-input\")\n",
    "search_field_designation.send_keys(\"Data Analyst\")\n",
    "search_field_location=driver.find_element_by_xpath('/html/body/div/div[2]/div[3]/div/div/div[3]/div/div/div/input')\n",
    "search_field_location.send_keys(\"Bangalore\")"
   ]
  },
  {
   "cell_type": "code",
   "execution_count": 63,
   "id": "f1b8852d",
   "metadata": {},
   "outputs": [],
   "source": [
    "search_button=driver.find_element_by_xpath(\"/html/body/div/div[2]/div[3]/div/div/div[6]\")\n",
    "search_button.click()"
   ]
  },
  {
   "cell_type": "code",
   "execution_count": 64,
   "id": "c27cd667",
   "metadata": {},
   "outputs": [],
   "source": [
    "job_titles=[]\n",
    "job_location=[]\n",
    "company_name=[]\n",
    "experience_list=[]"
   ]
  },
  {
   "cell_type": "code",
   "execution_count": 65,
   "id": "a69f506e",
   "metadata": {
    "scrolled": true
   },
   "outputs": [
    {
     "data": {
      "text/plain": [
       "[<selenium.webdriver.remote.webelement.WebElement (session=\"7239f5ff282fb38a768c55b5ddcc1f2c\", element=\"f1302a11-f3b5-4f99-aada-99751dc8ecb3\")>,\n",
       " <selenium.webdriver.remote.webelement.WebElement (session=\"7239f5ff282fb38a768c55b5ddcc1f2c\", element=\"941134f2-a2f8-4113-8097-34c2c257408b\")>,\n",
       " <selenium.webdriver.remote.webelement.WebElement (session=\"7239f5ff282fb38a768c55b5ddcc1f2c\", element=\"74f41a85-fc02-4bfd-9d45-7f74a34d0702\")>,\n",
       " <selenium.webdriver.remote.webelement.WebElement (session=\"7239f5ff282fb38a768c55b5ddcc1f2c\", element=\"5304df03-9b66-4b17-b651-845dea7888e5\")>,\n",
       " <selenium.webdriver.remote.webelement.WebElement (session=\"7239f5ff282fb38a768c55b5ddcc1f2c\", element=\"e2c42cdf-6252-46f6-ad2a-8bc249a2404f\")>,\n",
       " <selenium.webdriver.remote.webelement.WebElement (session=\"7239f5ff282fb38a768c55b5ddcc1f2c\", element=\"89c59009-e190-4c5f-a2fe-f0df288546ee\")>,\n",
       " <selenium.webdriver.remote.webelement.WebElement (session=\"7239f5ff282fb38a768c55b5ddcc1f2c\", element=\"4c6324a7-2a27-46b3-b82e-4a7da7b9109e\")>,\n",
       " <selenium.webdriver.remote.webelement.WebElement (session=\"7239f5ff282fb38a768c55b5ddcc1f2c\", element=\"64009a58-4d40-4f9c-9ef5-0b7cb3e4b069\")>,\n",
       " <selenium.webdriver.remote.webelement.WebElement (session=\"7239f5ff282fb38a768c55b5ddcc1f2c\", element=\"50ef2930-24b3-4aa8-8b3d-518337c39b81\")>,\n",
       " <selenium.webdriver.remote.webelement.WebElement (session=\"7239f5ff282fb38a768c55b5ddcc1f2c\", element=\"ab1576b6-7187-4835-b1b4-5024eb349f7a\")>]"
      ]
     },
     "execution_count": 65,
     "metadata": {},
     "output_type": "execute_result"
    }
   ],
   "source": [
    "#extract job titles\n",
    "titles_tags=driver.find_elements_by_xpath(\"//a[@class='title fw500 ellipsis']\")\n",
    "titles_tags[0:10]"
   ]
  },
  {
   "cell_type": "code",
   "execution_count": 66,
   "id": "e76956f4",
   "metadata": {},
   "outputs": [
    {
     "data": {
      "text/plain": [
       "['Data Analyst II',\n",
       " 'Senior Data Analyst II',\n",
       " 'Senior Data Analyst II',\n",
       " 'Senior Data Analyst - Logistics',\n",
       " 'Data Analysts with Business Analysis',\n",
       " 'Data Analyst / Data Engineer',\n",
       " 'Senior Data Analyst',\n",
       " 'Sr Domain Expert -Data Analysts',\n",
       " 'Business Analyst/Data Analyst',\n",
       " 'Senior Data Analyst - KPO']"
      ]
     },
     "execution_count": 66,
     "metadata": {},
     "output_type": "execute_result"
    }
   ],
   "source": [
    "#we will get the title text using for loop\n",
    "\n",
    "for i in titles_tags:\n",
    "    title=i.text\n",
    "    job_titles.append(title)\n",
    "job_titles[0:10]"
   ]
  },
  {
   "cell_type": "code",
   "execution_count": 67,
   "id": "0a2e7651",
   "metadata": {},
   "outputs": [
    {
     "data": {
      "text/plain": [
       "[<selenium.webdriver.remote.webelement.WebElement (session=\"7239f5ff282fb38a768c55b5ddcc1f2c\", element=\"d0e0dd57-7b2f-4894-be38-594e78be0889\")>,\n",
       " <selenium.webdriver.remote.webelement.WebElement (session=\"7239f5ff282fb38a768c55b5ddcc1f2c\", element=\"e2bf6313-ec17-4f22-8167-295b26fc1e81\")>,\n",
       " <selenium.webdriver.remote.webelement.WebElement (session=\"7239f5ff282fb38a768c55b5ddcc1f2c\", element=\"04ad347f-ab4d-4981-84ed-35ddd26124de\")>,\n",
       " <selenium.webdriver.remote.webelement.WebElement (session=\"7239f5ff282fb38a768c55b5ddcc1f2c\", element=\"c7f79864-ee47-4d7a-b87c-6ecdeae3a77d\")>,\n",
       " <selenium.webdriver.remote.webelement.WebElement (session=\"7239f5ff282fb38a768c55b5ddcc1f2c\", element=\"354a3b37-bd73-4f75-b69a-06797ba1f7a6\")>,\n",
       " <selenium.webdriver.remote.webelement.WebElement (session=\"7239f5ff282fb38a768c55b5ddcc1f2c\", element=\"ba6d6f08-fe83-4569-bcbe-d233e3b173c4\")>,\n",
       " <selenium.webdriver.remote.webelement.WebElement (session=\"7239f5ff282fb38a768c55b5ddcc1f2c\", element=\"3c808df9-b24d-44a3-86d8-bc923620aa7e\")>,\n",
       " <selenium.webdriver.remote.webelement.WebElement (session=\"7239f5ff282fb38a768c55b5ddcc1f2c\", element=\"6e19e775-8fae-49b6-8c6a-547c9f19224f\")>,\n",
       " <selenium.webdriver.remote.webelement.WebElement (session=\"7239f5ff282fb38a768c55b5ddcc1f2c\", element=\"5ab62368-4169-4e71-a7f6-a15b9f8d534e\")>,\n",
       " <selenium.webdriver.remote.webelement.WebElement (session=\"7239f5ff282fb38a768c55b5ddcc1f2c\", element=\"a9208cdd-7f3f-4cc5-8fbc-bc864ffcd9f5\")>]"
      ]
     },
     "execution_count": 67,
     "metadata": {},
     "output_type": "execute_result"
    }
   ],
   "source": [
    "#extract company names\n",
    "company_tags=driver.find_elements_by_xpath(\"//a[@class='subTitle ellipsis fleft']\")\n",
    "company_tags[0:10]"
   ]
  },
  {
   "cell_type": "code",
   "execution_count": 68,
   "id": "97a9ac1e",
   "metadata": {},
   "outputs": [
    {
     "data": {
      "text/plain": [
       "['Cerner',\n",
       " 'Flipkart',\n",
       " 'Flipkart',\n",
       " 'Gojek',\n",
       " 'Avanze Technologies India Pvt. Ltd.',\n",
       " 'TALENT MAX HR & MANAGEMENT CONSULTANTS',\n",
       " 'Flipkart',\n",
       " 'Siemens',\n",
       " 'Telamon HR Solutions',\n",
       " 'Huquo Consulting Pvt. Ltd']"
      ]
     },
     "execution_count": 68,
     "metadata": {},
     "output_type": "execute_result"
    }
   ],
   "source": [
    "#we will get the company text using for loop\n",
    "\n",
    "for i in company_tags:\n",
    "    company=i.text\n",
    "    company_name.append(company)\n",
    "company_name[0:10]"
   ]
  },
  {
   "cell_type": "code",
   "execution_count": 69,
   "id": "bd23aef3",
   "metadata": {},
   "outputs": [
    {
     "data": {
      "text/plain": [
       "[<selenium.webdriver.remote.webelement.WebElement (session=\"7239f5ff282fb38a768c55b5ddcc1f2c\", element=\"0b91d409-a982-4afc-890e-1536052f2926\")>,\n",
       " <selenium.webdriver.remote.webelement.WebElement (session=\"7239f5ff282fb38a768c55b5ddcc1f2c\", element=\"09aeeef2-edc1-4f7f-95a4-2fe0d5128df0\")>,\n",
       " <selenium.webdriver.remote.webelement.WebElement (session=\"7239f5ff282fb38a768c55b5ddcc1f2c\", element=\"ea87eebc-03eb-4a46-bf6a-1792c1e7d63b\")>,\n",
       " <selenium.webdriver.remote.webelement.WebElement (session=\"7239f5ff282fb38a768c55b5ddcc1f2c\", element=\"d5ff0db7-1292-4cd5-ab44-92e40fb3a597\")>,\n",
       " <selenium.webdriver.remote.webelement.WebElement (session=\"7239f5ff282fb38a768c55b5ddcc1f2c\", element=\"1f6675b8-52cc-4cd6-9105-22936ff347f2\")>,\n",
       " <selenium.webdriver.remote.webelement.WebElement (session=\"7239f5ff282fb38a768c55b5ddcc1f2c\", element=\"c2455428-1b9e-4713-9d1f-207c3b05a771\")>,\n",
       " <selenium.webdriver.remote.webelement.WebElement (session=\"7239f5ff282fb38a768c55b5ddcc1f2c\", element=\"cc19b7dc-2319-4168-86ff-b077a78b609c\")>,\n",
       " <selenium.webdriver.remote.webelement.WebElement (session=\"7239f5ff282fb38a768c55b5ddcc1f2c\", element=\"02405674-386d-4077-9998-93400e88e40f\")>,\n",
       " <selenium.webdriver.remote.webelement.WebElement (session=\"7239f5ff282fb38a768c55b5ddcc1f2c\", element=\"1b5993ea-7570-4093-a0b4-c5d8fb4f21ff\")>,\n",
       " <selenium.webdriver.remote.webelement.WebElement (session=\"7239f5ff282fb38a768c55b5ddcc1f2c\", element=\"395081a8-3f32-4be5-b609-7e338f64184f\")>]"
      ]
     },
     "execution_count": 69,
     "metadata": {},
     "output_type": "execute_result"
    }
   ],
   "source": [
    "#extract experiance\n",
    "experience_tags=driver.find_elements_by_xpath(\"//li[@class='fleft grey-text br2 placeHolderLi experience']/span[1]\")\n",
    "experience_tags[0:10]"
   ]
  },
  {
   "cell_type": "code",
   "execution_count": 70,
   "id": "e3c03cc2",
   "metadata": {},
   "outputs": [
    {
     "data": {
      "text/plain": [
       "['6-10 Yrs',\n",
       " '2-4 Yrs',\n",
       " '3-6 Yrs',\n",
       " '4-10 Yrs',\n",
       " '6-8 Yrs',\n",
       " '8-13 Yrs',\n",
       " '4-6 Yrs',\n",
       " '0-10 Yrs',\n",
       " '3-5 Yrs',\n",
       " '7-12 Yrs']"
      ]
     },
     "execution_count": 70,
     "metadata": {},
     "output_type": "execute_result"
    }
   ],
   "source": [
    "#we will get the experience text using for loop\n",
    "\n",
    "for i in experience_tags:\n",
    "    experience=i.text\n",
    "    experience_list.append(experience)\n",
    "experience_list[0:10]"
   ]
  },
  {
   "cell_type": "code",
   "execution_count": 71,
   "id": "ee5adceb",
   "metadata": {},
   "outputs": [
    {
     "data": {
      "text/plain": [
       "[<selenium.webdriver.remote.webelement.WebElement (session=\"7239f5ff282fb38a768c55b5ddcc1f2c\", element=\"756595ca-fc22-4040-9eb5-6da07d5402f8\")>,\n",
       " <selenium.webdriver.remote.webelement.WebElement (session=\"7239f5ff282fb38a768c55b5ddcc1f2c\", element=\"d5878fd7-6283-419d-9506-3526be3da16e\")>,\n",
       " <selenium.webdriver.remote.webelement.WebElement (session=\"7239f5ff282fb38a768c55b5ddcc1f2c\", element=\"7ef37a40-5db2-4ada-82cf-f3970570ece3\")>,\n",
       " <selenium.webdriver.remote.webelement.WebElement (session=\"7239f5ff282fb38a768c55b5ddcc1f2c\", element=\"125839a2-63bf-4c8b-bddf-bbb5f0812410\")>,\n",
       " <selenium.webdriver.remote.webelement.WebElement (session=\"7239f5ff282fb38a768c55b5ddcc1f2c\", element=\"05fc4433-0fa4-43e6-8ac4-2f2891140bf7\")>,\n",
       " <selenium.webdriver.remote.webelement.WebElement (session=\"7239f5ff282fb38a768c55b5ddcc1f2c\", element=\"ac3b9575-78ad-435d-8d4b-d27712e2a395\")>,\n",
       " <selenium.webdriver.remote.webelement.WebElement (session=\"7239f5ff282fb38a768c55b5ddcc1f2c\", element=\"7ebc08bd-8970-43dc-ac94-78eaae3429cd\")>,\n",
       " <selenium.webdriver.remote.webelement.WebElement (session=\"7239f5ff282fb38a768c55b5ddcc1f2c\", element=\"d90245c1-3d1d-451e-bfc8-d0b2e4fd3ffe\")>,\n",
       " <selenium.webdriver.remote.webelement.WebElement (session=\"7239f5ff282fb38a768c55b5ddcc1f2c\", element=\"18cfe78a-622b-45fb-bfb7-d0dcb8cf75db\")>,\n",
       " <selenium.webdriver.remote.webelement.WebElement (session=\"7239f5ff282fb38a768c55b5ddcc1f2c\", element=\"5ccb7022-66b7-4044-8497-10dfd20581c7\")>]"
      ]
     },
     "execution_count": 71,
     "metadata": {},
     "output_type": "execute_result"
    }
   ],
   "source": [
    "#extract location\n",
    "location_tags=driver.find_elements_by_xpath(\"//li[@class='fleft grey-text br2 placeHolderLi location']/span[1]\")\n",
    "location_tags[0:10]"
   ]
  },
  {
   "cell_type": "code",
   "execution_count": 72,
   "id": "ea720e6c",
   "metadata": {},
   "outputs": [
    {
     "data": {
      "text/plain": [
       "['Bangalore/Bengaluru',\n",
       " 'Bangalore/Bengaluru',\n",
       " 'Bangalore/Bengaluru',\n",
       " 'Bangalore/Bengaluru',\n",
       " 'Bangalore/Bengaluru',\n",
       " 'Indore, Pune, Bangalore/Bengaluru',\n",
       " 'Bangalore/Bengaluru',\n",
       " 'Bangalore/Bengaluru',\n",
       " 'Hyderabad/Secunderabad, Bangalore/Bengaluru, Delhi / NCR',\n",
       " 'Gurgaon/Gurugram, Bangalore/Bengaluru']"
      ]
     },
     "execution_count": 72,
     "metadata": {},
     "output_type": "execute_result"
    }
   ],
   "source": [
    "#we will get the location text using for loop\n",
    "\n",
    "for i in location_tags:\n",
    "    location=i.text\n",
    "    job_location.append(location)\n",
    "job_location[0:10]"
   ]
  },
  {
   "cell_type": "code",
   "execution_count": 73,
   "id": "ad19eb3f",
   "metadata": {},
   "outputs": [],
   "source": [
    "#import pandas as pd\n",
    "jobs=pd.DataFrame({})\n",
    "jobs[\"Title\"]=job_titles[0:10]\n",
    "jobs[\"Company\"]=company_name[0:10]\n",
    "jobs[\"Experience Required\"]=experience_list[0:10]\n",
    "jobs[\"Location\"]=job_location[0:10]"
   ]
  },
  {
   "cell_type": "code",
   "execution_count": 74,
   "id": "b0c39571",
   "metadata": {},
   "outputs": [
    {
     "data": {
      "text/html": [
       "<div>\n",
       "<style scoped>\n",
       "    .dataframe tbody tr th:only-of-type {\n",
       "        vertical-align: middle;\n",
       "    }\n",
       "\n",
       "    .dataframe tbody tr th {\n",
       "        vertical-align: top;\n",
       "    }\n",
       "\n",
       "    .dataframe thead th {\n",
       "        text-align: right;\n",
       "    }\n",
       "</style>\n",
       "<table border=\"1\" class=\"dataframe\">\n",
       "  <thead>\n",
       "    <tr style=\"text-align: right;\">\n",
       "      <th></th>\n",
       "      <th>Title</th>\n",
       "      <th>Company</th>\n",
       "      <th>Experience Required</th>\n",
       "      <th>Location</th>\n",
       "    </tr>\n",
       "  </thead>\n",
       "  <tbody>\n",
       "    <tr>\n",
       "      <th>0</th>\n",
       "      <td>Data Analyst II</td>\n",
       "      <td>Cerner</td>\n",
       "      <td>6-10 Yrs</td>\n",
       "      <td>Bangalore/Bengaluru</td>\n",
       "    </tr>\n",
       "    <tr>\n",
       "      <th>1</th>\n",
       "      <td>Senior Data Analyst II</td>\n",
       "      <td>Flipkart</td>\n",
       "      <td>2-4 Yrs</td>\n",
       "      <td>Bangalore/Bengaluru</td>\n",
       "    </tr>\n",
       "    <tr>\n",
       "      <th>2</th>\n",
       "      <td>Senior Data Analyst II</td>\n",
       "      <td>Flipkart</td>\n",
       "      <td>3-6 Yrs</td>\n",
       "      <td>Bangalore/Bengaluru</td>\n",
       "    </tr>\n",
       "    <tr>\n",
       "      <th>3</th>\n",
       "      <td>Senior Data Analyst - Logistics</td>\n",
       "      <td>Gojek</td>\n",
       "      <td>4-10 Yrs</td>\n",
       "      <td>Bangalore/Bengaluru</td>\n",
       "    </tr>\n",
       "    <tr>\n",
       "      <th>4</th>\n",
       "      <td>Data Analysts with Business Analysis</td>\n",
       "      <td>Avanze Technologies India Pvt. Ltd.</td>\n",
       "      <td>6-8 Yrs</td>\n",
       "      <td>Bangalore/Bengaluru</td>\n",
       "    </tr>\n",
       "    <tr>\n",
       "      <th>5</th>\n",
       "      <td>Data Analyst / Data Engineer</td>\n",
       "      <td>TALENT MAX HR &amp; MANAGEMENT CONSULTANTS</td>\n",
       "      <td>8-13 Yrs</td>\n",
       "      <td>Indore, Pune, Bangalore/Bengaluru</td>\n",
       "    </tr>\n",
       "    <tr>\n",
       "      <th>6</th>\n",
       "      <td>Senior Data Analyst</td>\n",
       "      <td>Flipkart</td>\n",
       "      <td>4-6 Yrs</td>\n",
       "      <td>Bangalore/Bengaluru</td>\n",
       "    </tr>\n",
       "    <tr>\n",
       "      <th>7</th>\n",
       "      <td>Sr Domain Expert -Data Analysts</td>\n",
       "      <td>Siemens</td>\n",
       "      <td>0-10 Yrs</td>\n",
       "      <td>Bangalore/Bengaluru</td>\n",
       "    </tr>\n",
       "    <tr>\n",
       "      <th>8</th>\n",
       "      <td>Business Analyst/Data Analyst</td>\n",
       "      <td>Telamon HR Solutions</td>\n",
       "      <td>3-5 Yrs</td>\n",
       "      <td>Hyderabad/Secunderabad, Bangalore/Bengaluru, D...</td>\n",
       "    </tr>\n",
       "    <tr>\n",
       "      <th>9</th>\n",
       "      <td>Senior Data Analyst - KPO</td>\n",
       "      <td>Huquo Consulting Pvt. Ltd</td>\n",
       "      <td>7-12 Yrs</td>\n",
       "      <td>Gurgaon/Gurugram, Bangalore/Bengaluru</td>\n",
       "    </tr>\n",
       "  </tbody>\n",
       "</table>\n",
       "</div>"
      ],
      "text/plain": [
       "                                  Title  \\\n",
       "0                       Data Analyst II   \n",
       "1                Senior Data Analyst II   \n",
       "2                Senior Data Analyst II   \n",
       "3       Senior Data Analyst - Logistics   \n",
       "4  Data Analysts with Business Analysis   \n",
       "5          Data Analyst / Data Engineer   \n",
       "6                   Senior Data Analyst   \n",
       "7       Sr Domain Expert -Data Analysts   \n",
       "8         Business Analyst/Data Analyst   \n",
       "9             Senior Data Analyst - KPO   \n",
       "\n",
       "                                  Company Experience Required  \\\n",
       "0                                  Cerner            6-10 Yrs   \n",
       "1                                Flipkart             2-4 Yrs   \n",
       "2                                Flipkart             3-6 Yrs   \n",
       "3                                   Gojek            4-10 Yrs   \n",
       "4     Avanze Technologies India Pvt. Ltd.             6-8 Yrs   \n",
       "5  TALENT MAX HR & MANAGEMENT CONSULTANTS            8-13 Yrs   \n",
       "6                                Flipkart             4-6 Yrs   \n",
       "7                                 Siemens            0-10 Yrs   \n",
       "8                    Telamon HR Solutions             3-5 Yrs   \n",
       "9               Huquo Consulting Pvt. Ltd            7-12 Yrs   \n",
       "\n",
       "                                            Location  \n",
       "0                                Bangalore/Bengaluru  \n",
       "1                                Bangalore/Bengaluru  \n",
       "2                                Bangalore/Bengaluru  \n",
       "3                                Bangalore/Bengaluru  \n",
       "4                                Bangalore/Bengaluru  \n",
       "5                  Indore, Pune, Bangalore/Bengaluru  \n",
       "6                                Bangalore/Bengaluru  \n",
       "7                                Bangalore/Bengaluru  \n",
       "8  Hyderabad/Secunderabad, Bangalore/Bengaluru, D...  \n",
       "9              Gurgaon/Gurugram, Bangalore/Bengaluru  "
      ]
     },
     "execution_count": 74,
     "metadata": {},
     "output_type": "execute_result"
    }
   ],
   "source": [
    "jobs"
   ]
  },
  {
   "cell_type": "code",
   "execution_count": 75,
   "id": "561d775c",
   "metadata": {},
   "outputs": [],
   "source": [
    "driver.close()"
   ]
  },
  {
   "cell_type": "markdown",
   "id": "5131ff26",
   "metadata": {},
   "source": [
    "# Write a python program to scrape data for “Data Scientist” Job position in “Bangalore” location. You\n",
    "have to scrape the job-title, job-location, company_name. You have to scrape first 10 jobs data.\n",
    "This task will be done in following steps:\n",
    "1. First get the webpage https://www.naukri.com/\n",
    "2. Enter “Data Scientist” in “Skill, Designations, Companies” field and enter “Bangalore” in “enter the\n",
    "location” field.\n",
    "3. Then click the search button.\n",
    "4. Then scrape the data for the first 10 jobs results you get.\n",
    "5. Finally create a dataframe of the scraped data.\n",
    "Note: All of the above steps have to be done in code. No step is to be done manually."
   ]
  },
  {
   "cell_type": "code",
   "execution_count": 76,
   "id": "5336dbb7",
   "metadata": {},
   "outputs": [],
   "source": [
    "driver=webdriver.Chrome(\"chromedriver.exe\")\n",
    "time.sleep(2)"
   ]
  },
  {
   "cell_type": "code",
   "execution_count": 77,
   "id": "e310781a",
   "metadata": {},
   "outputs": [],
   "source": [
    "driver.get(\"http://www.naukri.com/\")"
   ]
  },
  {
   "cell_type": "code",
   "execution_count": 80,
   "id": "cbd36737",
   "metadata": {},
   "outputs": [],
   "source": [
    "#finding elements for job search bar\n",
    "search_field_designation=driver.find_element_by_class_name(\"suggestor-input\")\n",
    "search_field_designation.send_keys(\"Data Scientist\")\n",
    "search_field_location=driver.find_element_by_xpath('/html/body/div/div[2]/div[3]/div/div/div[3]/div/div/div/input')\n",
    "search_field_location.send_keys(\"Bangalore\")"
   ]
  },
  {
   "cell_type": "code",
   "execution_count": 81,
   "id": "a46e8619",
   "metadata": {},
   "outputs": [],
   "source": [
    "search_button=driver.find_element_by_xpath(\"/html/body/div/div[2]/div[3]/div/div/div[6]\")\n",
    "search_button.click()"
   ]
  },
  {
   "cell_type": "code",
   "execution_count": 82,
   "id": "50195129",
   "metadata": {},
   "outputs": [],
   "source": [
    "job_title_1=[]\n",
    "job_location_1=[]\n",
    "company_name_1=[]"
   ]
  },
  {
   "cell_type": "code",
   "execution_count": 83,
   "id": "cf499a8c",
   "metadata": {},
   "outputs": [
    {
     "data": {
      "text/plain": [
       "[<selenium.webdriver.remote.webelement.WebElement (session=\"b3963def86552b956207a0681f2f1745\", element=\"7718074a-51c3-41c0-afbd-bf74e0e1e7bf\")>,\n",
       " <selenium.webdriver.remote.webelement.WebElement (session=\"b3963def86552b956207a0681f2f1745\", element=\"e8d2012d-cf2d-4050-9c14-230b4acb6041\")>,\n",
       " <selenium.webdriver.remote.webelement.WebElement (session=\"b3963def86552b956207a0681f2f1745\", element=\"4e7ca7ce-a5ec-49ef-be59-958937696c49\")>,\n",
       " <selenium.webdriver.remote.webelement.WebElement (session=\"b3963def86552b956207a0681f2f1745\", element=\"324ca018-a19c-405d-a640-6d03ac66bfba\")>,\n",
       " <selenium.webdriver.remote.webelement.WebElement (session=\"b3963def86552b956207a0681f2f1745\", element=\"9ab7450f-2e63-4ec9-a073-5b1bfbf5ab65\")>,\n",
       " <selenium.webdriver.remote.webelement.WebElement (session=\"b3963def86552b956207a0681f2f1745\", element=\"eacea2c9-73f7-4140-a5c2-a48d33293617\")>,\n",
       " <selenium.webdriver.remote.webelement.WebElement (session=\"b3963def86552b956207a0681f2f1745\", element=\"11e00276-17b3-436f-adcf-8bcd99b316e0\")>,\n",
       " <selenium.webdriver.remote.webelement.WebElement (session=\"b3963def86552b956207a0681f2f1745\", element=\"c5213b91-475f-40e1-add0-05c6424c1085\")>,\n",
       " <selenium.webdriver.remote.webelement.WebElement (session=\"b3963def86552b956207a0681f2f1745\", element=\"5b97b997-be30-4e99-957e-54436de91276\")>,\n",
       " <selenium.webdriver.remote.webelement.WebElement (session=\"b3963def86552b956207a0681f2f1745\", element=\"5f8abe6e-aad8-4320-a6e2-ea9a7bd8824e\")>]"
      ]
     },
     "execution_count": 83,
     "metadata": {},
     "output_type": "execute_result"
    }
   ],
   "source": [
    "#extract job titles\n",
    "titles_tags_1=driver.find_elements_by_xpath(\"//a[@class='title fw500 ellipsis']\")\n",
    "titles_tags_1[0:10]"
   ]
  },
  {
   "cell_type": "code",
   "execution_count": 85,
   "id": "e4a58886",
   "metadata": {},
   "outputs": [
    {
     "data": {
      "text/plain": [
       "['Lead Data Scientist',\n",
       " 'Senior Data Scientist',\n",
       " 'ASSOCIATE DATA SCIENTIST',\n",
       " 'Data Scientist: Advanced Analytics',\n",
       " 'Data Scientist',\n",
       " 'Data Scientist',\n",
       " 'Data Scientist: Artificial Intelligence',\n",
       " 'Data Scientist',\n",
       " 'Data Scientist/Engineer - Global Telecom Setup',\n",
       " 'Analyst- Data Scientist']"
      ]
     },
     "execution_count": 85,
     "metadata": {},
     "output_type": "execute_result"
    }
   ],
   "source": [
    "#we will get the title text using for loop\n",
    "\n",
    "for i in titles_tags_1:\n",
    "    title_1=i.text\n",
    "    job_title_1.append(title_1)\n",
    "job_title_1[0:10]"
   ]
  },
  {
   "cell_type": "code",
   "execution_count": 86,
   "id": "c4839df0",
   "metadata": {},
   "outputs": [
    {
     "data": {
      "text/plain": [
       "[<selenium.webdriver.remote.webelement.WebElement (session=\"b3963def86552b956207a0681f2f1745\", element=\"48f23752-29aa-488e-8ec3-490e7f71e389\")>,\n",
       " <selenium.webdriver.remote.webelement.WebElement (session=\"b3963def86552b956207a0681f2f1745\", element=\"62be5328-4a19-4fb5-8390-225f094c9da7\")>,\n",
       " <selenium.webdriver.remote.webelement.WebElement (session=\"b3963def86552b956207a0681f2f1745\", element=\"129ecbf2-cde1-4f3b-a1c0-acb356b081b1\")>,\n",
       " <selenium.webdriver.remote.webelement.WebElement (session=\"b3963def86552b956207a0681f2f1745\", element=\"0f3b5673-f061-459a-a60c-9872f83ea52c\")>,\n",
       " <selenium.webdriver.remote.webelement.WebElement (session=\"b3963def86552b956207a0681f2f1745\", element=\"d74251c4-4300-4609-ba02-087a0b4f0ea4\")>,\n",
       " <selenium.webdriver.remote.webelement.WebElement (session=\"b3963def86552b956207a0681f2f1745\", element=\"1716ec92-6d9e-4efb-a19d-7aa1efdcd341\")>,\n",
       " <selenium.webdriver.remote.webelement.WebElement (session=\"b3963def86552b956207a0681f2f1745\", element=\"61874840-7b39-4a07-aa7e-c012a82c1fb6\")>,\n",
       " <selenium.webdriver.remote.webelement.WebElement (session=\"b3963def86552b956207a0681f2f1745\", element=\"3faf157d-d109-4f44-966e-d5b82d58b53d\")>,\n",
       " <selenium.webdriver.remote.webelement.WebElement (session=\"b3963def86552b956207a0681f2f1745\", element=\"c484e9de-c90f-4c39-ae94-cb9b1702ab6e\")>,\n",
       " <selenium.webdriver.remote.webelement.WebElement (session=\"b3963def86552b956207a0681f2f1745\", element=\"54924836-db1c-44b2-a7bf-908223a9dc95\")>]"
      ]
     },
     "execution_count": 86,
     "metadata": {},
     "output_type": "execute_result"
    }
   ],
   "source": [
    "#extract company names\n",
    "company_tags_1=driver.find_elements_by_xpath(\"//a[@class='subTitle ellipsis fleft']\")\n",
    "company_tags_1[0:10]"
   ]
  },
  {
   "cell_type": "code",
   "execution_count": 87,
   "id": "2802b99d",
   "metadata": {},
   "outputs": [
    {
     "data": {
      "text/plain": [
       "['Groww',\n",
       " 'PayU',\n",
       " 'Hinduja Global',\n",
       " 'IBM',\n",
       " 'Applied Materials',\n",
       " 'Applied Materials',\n",
       " 'IBM',\n",
       " 'Applied Materials',\n",
       " 'Global Telecom Setup',\n",
       " 'Sigma Aldrich']"
      ]
     },
     "execution_count": 87,
     "metadata": {},
     "output_type": "execute_result"
    }
   ],
   "source": [
    "#we will get the company text using for loop\n",
    "\n",
    "for i in company_tags_1:\n",
    "    company_1=i.text\n",
    "    company_name_1.append(company_1)\n",
    "company_name_1[0:10]"
   ]
  },
  {
   "cell_type": "code",
   "execution_count": 88,
   "id": "76f31fdf",
   "metadata": {},
   "outputs": [
    {
     "data": {
      "text/plain": [
       "[<selenium.webdriver.remote.webelement.WebElement (session=\"b3963def86552b956207a0681f2f1745\", element=\"e172aac3-e7be-44c7-b607-c343f7ffb6e5\")>,\n",
       " <selenium.webdriver.remote.webelement.WebElement (session=\"b3963def86552b956207a0681f2f1745\", element=\"3d2256ff-f32e-4bc6-91b7-e229e837f05d\")>,\n",
       " <selenium.webdriver.remote.webelement.WebElement (session=\"b3963def86552b956207a0681f2f1745\", element=\"ca5c2da7-78a0-458d-95a5-a73074a14aa8\")>,\n",
       " <selenium.webdriver.remote.webelement.WebElement (session=\"b3963def86552b956207a0681f2f1745\", element=\"fa80d7c2-8f53-40f5-b050-2f437ae73016\")>,\n",
       " <selenium.webdriver.remote.webelement.WebElement (session=\"b3963def86552b956207a0681f2f1745\", element=\"6faa7e14-ea64-4df5-aafd-83d8a26e2ac7\")>,\n",
       " <selenium.webdriver.remote.webelement.WebElement (session=\"b3963def86552b956207a0681f2f1745\", element=\"81483a89-0aa5-4a75-b52c-f773bf6ca25e\")>,\n",
       " <selenium.webdriver.remote.webelement.WebElement (session=\"b3963def86552b956207a0681f2f1745\", element=\"5688b954-c142-4bbb-930d-1159f3acab25\")>,\n",
       " <selenium.webdriver.remote.webelement.WebElement (session=\"b3963def86552b956207a0681f2f1745\", element=\"f1fdcbad-7a57-4734-a2ca-ab22d2e46119\")>,\n",
       " <selenium.webdriver.remote.webelement.WebElement (session=\"b3963def86552b956207a0681f2f1745\", element=\"8195d1e2-b927-457a-8575-764c2953246a\")>,\n",
       " <selenium.webdriver.remote.webelement.WebElement (session=\"b3963def86552b956207a0681f2f1745\", element=\"8907aa41-a01b-47c2-b9db-b5ed7dd5871f\")>]"
      ]
     },
     "execution_count": 88,
     "metadata": {},
     "output_type": "execute_result"
    }
   ],
   "source": [
    "#extract location\n",
    "location_tags_1=driver.find_elements_by_xpath(\"//li[@class='fleft grey-text br2 placeHolderLi location']/span[1]\")\n",
    "location_tags_1[0:10]"
   ]
  },
  {
   "cell_type": "code",
   "execution_count": 89,
   "id": "37741c73",
   "metadata": {},
   "outputs": [
    {
     "data": {
      "text/plain": [
       "['Bangalore/Bengaluru',\n",
       " 'Bangalore/Bengaluru',\n",
       " 'Bangalore/Bengaluru',\n",
       " 'Bangalore/Bengaluru',\n",
       " 'Bangalore/Bengaluru',\n",
       " 'Bangalore/Bengaluru',\n",
       " 'Bangalore/Bengaluru',\n",
       " 'Bangalore/Bengaluru',\n",
       " 'Hyderabad/Secunderabad, Pune, Bangalore/Bengaluru',\n",
       " 'Bangalore/Bengaluru']"
      ]
     },
     "execution_count": 89,
     "metadata": {},
     "output_type": "execute_result"
    }
   ],
   "source": [
    "#we will get the location text using for loop\n",
    "\n",
    "for i in location_tags_1:\n",
    "    location_1=i.text\n",
    "    job_location_1.append(location_1)\n",
    "job_location_1[0:10]"
   ]
  },
  {
   "cell_type": "code",
   "execution_count": 90,
   "id": "41eb963b",
   "metadata": {},
   "outputs": [],
   "source": [
    "#import pandas as pd\n",
    "jobs_1=pd.DataFrame({})\n",
    "jobs_1[\"Title\"]=job_title_1[0:10]\n",
    "jobs_1[\"Company\"]=company_name_1[0:10]\n",
    "jobs_1[\"Location\"]=job_location_1[0:10]"
   ]
  },
  {
   "cell_type": "code",
   "execution_count": 91,
   "id": "a1941b12",
   "metadata": {},
   "outputs": [
    {
     "data": {
      "text/html": [
       "<div>\n",
       "<style scoped>\n",
       "    .dataframe tbody tr th:only-of-type {\n",
       "        vertical-align: middle;\n",
       "    }\n",
       "\n",
       "    .dataframe tbody tr th {\n",
       "        vertical-align: top;\n",
       "    }\n",
       "\n",
       "    .dataframe thead th {\n",
       "        text-align: right;\n",
       "    }\n",
       "</style>\n",
       "<table border=\"1\" class=\"dataframe\">\n",
       "  <thead>\n",
       "    <tr style=\"text-align: right;\">\n",
       "      <th></th>\n",
       "      <th>Title</th>\n",
       "      <th>Company</th>\n",
       "      <th>Location</th>\n",
       "    </tr>\n",
       "  </thead>\n",
       "  <tbody>\n",
       "    <tr>\n",
       "      <th>0</th>\n",
       "      <td>Lead Data Scientist</td>\n",
       "      <td>Groww</td>\n",
       "      <td>Bangalore/Bengaluru</td>\n",
       "    </tr>\n",
       "    <tr>\n",
       "      <th>1</th>\n",
       "      <td>Senior Data Scientist</td>\n",
       "      <td>PayU</td>\n",
       "      <td>Bangalore/Bengaluru</td>\n",
       "    </tr>\n",
       "    <tr>\n",
       "      <th>2</th>\n",
       "      <td>ASSOCIATE DATA SCIENTIST</td>\n",
       "      <td>Hinduja Global</td>\n",
       "      <td>Bangalore/Bengaluru</td>\n",
       "    </tr>\n",
       "    <tr>\n",
       "      <th>3</th>\n",
       "      <td>Data Scientist: Advanced Analytics</td>\n",
       "      <td>IBM</td>\n",
       "      <td>Bangalore/Bengaluru</td>\n",
       "    </tr>\n",
       "    <tr>\n",
       "      <th>4</th>\n",
       "      <td>Data Scientist</td>\n",
       "      <td>Applied Materials</td>\n",
       "      <td>Bangalore/Bengaluru</td>\n",
       "    </tr>\n",
       "    <tr>\n",
       "      <th>5</th>\n",
       "      <td>Data Scientist</td>\n",
       "      <td>Applied Materials</td>\n",
       "      <td>Bangalore/Bengaluru</td>\n",
       "    </tr>\n",
       "    <tr>\n",
       "      <th>6</th>\n",
       "      <td>Data Scientist: Artificial Intelligence</td>\n",
       "      <td>IBM</td>\n",
       "      <td>Bangalore/Bengaluru</td>\n",
       "    </tr>\n",
       "    <tr>\n",
       "      <th>7</th>\n",
       "      <td>Data Scientist</td>\n",
       "      <td>Applied Materials</td>\n",
       "      <td>Bangalore/Bengaluru</td>\n",
       "    </tr>\n",
       "    <tr>\n",
       "      <th>8</th>\n",
       "      <td>Data Scientist/Engineer - Global Telecom Setup</td>\n",
       "      <td>Global Telecom Setup</td>\n",
       "      <td>Hyderabad/Secunderabad, Pune, Bangalore/Bengaluru</td>\n",
       "    </tr>\n",
       "    <tr>\n",
       "      <th>9</th>\n",
       "      <td>Analyst- Data Scientist</td>\n",
       "      <td>Sigma Aldrich</td>\n",
       "      <td>Bangalore/Bengaluru</td>\n",
       "    </tr>\n",
       "  </tbody>\n",
       "</table>\n",
       "</div>"
      ],
      "text/plain": [
       "                                            Title               Company  \\\n",
       "0                             Lead Data Scientist                 Groww   \n",
       "1                           Senior Data Scientist                  PayU   \n",
       "2                        ASSOCIATE DATA SCIENTIST        Hinduja Global   \n",
       "3              Data Scientist: Advanced Analytics                   IBM   \n",
       "4                                  Data Scientist     Applied Materials   \n",
       "5                                  Data Scientist     Applied Materials   \n",
       "6         Data Scientist: Artificial Intelligence                   IBM   \n",
       "7                                  Data Scientist     Applied Materials   \n",
       "8  Data Scientist/Engineer - Global Telecom Setup  Global Telecom Setup   \n",
       "9                         Analyst- Data Scientist         Sigma Aldrich   \n",
       "\n",
       "                                            Location  \n",
       "0                                Bangalore/Bengaluru  \n",
       "1                                Bangalore/Bengaluru  \n",
       "2                                Bangalore/Bengaluru  \n",
       "3                                Bangalore/Bengaluru  \n",
       "4                                Bangalore/Bengaluru  \n",
       "5                                Bangalore/Bengaluru  \n",
       "6                                Bangalore/Bengaluru  \n",
       "7                                Bangalore/Bengaluru  \n",
       "8  Hyderabad/Secunderabad, Pune, Bangalore/Bengaluru  \n",
       "9                                Bangalore/Bengaluru  "
      ]
     },
     "execution_count": 91,
     "metadata": {},
     "output_type": "execute_result"
    }
   ],
   "source": [
    "jobs_1"
   ]
  },
  {
   "cell_type": "code",
   "execution_count": 92,
   "id": "5ae70b44",
   "metadata": {},
   "outputs": [],
   "source": [
    "driver.close()"
   ]
  },
  {
   "cell_type": "markdown",
   "id": "095c10a4",
   "metadata": {},
   "source": [
    "# In this question you have to scrape data using the filters available on the webpage as shown below\n",
    "You have to use the location and salary filter.\n",
    "You have to scrape data for “Data Scientist” designation for first 10 job results.\n",
    "You have to scrape the job-title, job-location, company name, experience required.\n",
    "The location filter to be used is “Delhi/NCR”. The salary filter to be used is “3-6” lakhs\n",
    "The task will be done as shown in the below steps:\n",
    "1. first get the webpage https://www.naukri.com/\n",
    "2. Enter “Data Scientist” in “Skill, Designations, and Companies” field.\n",
    "3. Then click the search button.\n",
    "4. Then apply the location filter and salary filter by checking the respective boxes\n",
    "5. Then scrape the data for the first 10 jobs results you get.\n",
    "6. Finally create a dataframe of the scraped data.\n",
    "Note: All of the above steps have to be done in code. No step is to be done manually."
   ]
  },
  {
   "cell_type": "code",
   "execution_count": 98,
   "id": "96487030",
   "metadata": {},
   "outputs": [],
   "source": [
    "driver=webdriver.Chrome(\"chromedriver.exe\")\n",
    "time.sleep(2)"
   ]
  },
  {
   "cell_type": "code",
   "execution_count": 99,
   "id": "95c767ba",
   "metadata": {},
   "outputs": [],
   "source": [
    "driver.get(\"http://www.naukri.com/\")"
   ]
  },
  {
   "cell_type": "code",
   "execution_count": 100,
   "id": "8b9d5947",
   "metadata": {},
   "outputs": [],
   "source": [
    "#finding elements for job search bar using location and salary filter\n",
    "search_field_designation=driver.find_element_by_class_name(\"suggestor-input\")\n",
    "search_field_designation.send_keys(\"Data Scientist\")\n",
    "search_button=driver.find_element_by_xpath(\"/html/body/div/div[2]/div[3]/div/div/div[6]\")\n",
    "search_button.click()"
   ]
  },
  {
   "cell_type": "code",
   "execution_count": 102,
   "id": "2b64bb22",
   "metadata": {},
   "outputs": [],
   "source": [
    "#using salary filter find the result\n",
    "add_filter_salary=driver.find_element_by_xpath(\"/html/body/div[1]/div[3]/div[2]/section[1]/div[2]/div[1]/div[2]/div[2]/label/p/span[1]\")\n",
    "add_filter_salary.click()"
   ]
  },
  {
   "cell_type": "code",
   "execution_count": 103,
   "id": "b22eee1d",
   "metadata": {},
   "outputs": [],
   "source": [
    "#using location filter find the result\n",
    "add_filter_location=driver.find_element_by_xpath(\"/html/body/div[1]/div[3]/div[2]/section[1]/div[2]/div[5]/div[2]/div[3]/label/p/span[1]\")\n",
    "add_filter_location.click()"
   ]
  },
  {
   "cell_type": "code",
   "execution_count": 104,
   "id": "4852ed36",
   "metadata": {},
   "outputs": [],
   "source": [
    "job_title_2=[]\n",
    "job_location_2=[]\n",
    "company_name_2=[]\n",
    "experience_list_2=[]"
   ]
  },
  {
   "cell_type": "code",
   "execution_count": 106,
   "id": "8bcdfe13",
   "metadata": {},
   "outputs": [
    {
     "data": {
      "text/plain": [
       "[<selenium.webdriver.remote.webelement.WebElement (session=\"df37d0caece58e89870f77cd311fc8a7\", element=\"de8ecee6-48d5-404f-94d2-65516d0231b4\")>,\n",
       " <selenium.webdriver.remote.webelement.WebElement (session=\"df37d0caece58e89870f77cd311fc8a7\", element=\"8e50611f-470e-432c-bc8f-4260b00801f2\")>,\n",
       " <selenium.webdriver.remote.webelement.WebElement (session=\"df37d0caece58e89870f77cd311fc8a7\", element=\"daeb80bf-8bff-4c7d-ab51-a1bf0a73c1d6\")>,\n",
       " <selenium.webdriver.remote.webelement.WebElement (session=\"df37d0caece58e89870f77cd311fc8a7\", element=\"60581ff9-900d-47e1-b0fa-108712e438a3\")>,\n",
       " <selenium.webdriver.remote.webelement.WebElement (session=\"df37d0caece58e89870f77cd311fc8a7\", element=\"0c47d813-9824-4980-b6fb-ca58fff1715a\")>,\n",
       " <selenium.webdriver.remote.webelement.WebElement (session=\"df37d0caece58e89870f77cd311fc8a7\", element=\"f854d758-43a1-4e56-b968-eff20c689273\")>,\n",
       " <selenium.webdriver.remote.webelement.WebElement (session=\"df37d0caece58e89870f77cd311fc8a7\", element=\"185a2210-e699-4b1b-a235-68e61f5edb06\")>,\n",
       " <selenium.webdriver.remote.webelement.WebElement (session=\"df37d0caece58e89870f77cd311fc8a7\", element=\"d03d1cce-6bbd-4c53-bb61-f0e379bd3db2\")>,\n",
       " <selenium.webdriver.remote.webelement.WebElement (session=\"df37d0caece58e89870f77cd311fc8a7\", element=\"3782b697-4b12-488f-a28a-1bc18967af68\")>,\n",
       " <selenium.webdriver.remote.webelement.WebElement (session=\"df37d0caece58e89870f77cd311fc8a7\", element=\"1cb439ab-b26b-42a0-918c-a81c7ba7ed58\")>]"
      ]
     },
     "execution_count": 106,
     "metadata": {},
     "output_type": "execute_result"
    }
   ],
   "source": [
    "#extract job titles\n",
    "titles_tags_2=driver.find_elements_by_xpath(\"//a[@class='title fw500 ellipsis']\")\n",
    "titles_tags_2[0:10]"
   ]
  },
  {
   "cell_type": "code",
   "execution_count": 107,
   "id": "f7ad13ce",
   "metadata": {},
   "outputs": [
    {
     "data": {
      "text/plain": [
       "['Hiring For Senior Data Scientist-Noida',\n",
       " 'Opening For Data Scientist',\n",
       " 'Data Scientist/ Machine Learning, 2022 Passout Can also apply',\n",
       " 'Data Scientist (freelance)',\n",
       " 'Data Scientist',\n",
       " 'Data Scientist',\n",
       " 'Data Scientist',\n",
       " 'Urgent Requirement || Data Scientist || Noida',\n",
       " 'AM Data Scientist - Goods & Service Tax Network, Delhi',\n",
       " 'Data Scientist - MIND Infotech']"
      ]
     },
     "execution_count": 107,
     "metadata": {},
     "output_type": "execute_result"
    }
   ],
   "source": [
    "#we will get the title text using for loop\n",
    "\n",
    "for i in titles_tags_2:\n",
    "    title_2=i.text\n",
    "    job_title_2.append(title_2)\n",
    "job_title_2[0:10]"
   ]
  },
  {
   "cell_type": "code",
   "execution_count": 108,
   "id": "804487ed",
   "metadata": {},
   "outputs": [
    {
     "data": {
      "text/plain": [
       "[<selenium.webdriver.remote.webelement.WebElement (session=\"df37d0caece58e89870f77cd311fc8a7\", element=\"9c99a1e1-1115-4b01-9111-0ab80f9ab320\")>,\n",
       " <selenium.webdriver.remote.webelement.WebElement (session=\"df37d0caece58e89870f77cd311fc8a7\", element=\"fb870eea-ce92-4557-a137-f680a1fade86\")>,\n",
       " <selenium.webdriver.remote.webelement.WebElement (session=\"df37d0caece58e89870f77cd311fc8a7\", element=\"4a048f05-34c0-416c-823f-52ea16a31bcb\")>,\n",
       " <selenium.webdriver.remote.webelement.WebElement (session=\"df37d0caece58e89870f77cd311fc8a7\", element=\"7d17b3bd-a460-4dc0-a785-dfd1285eb954\")>,\n",
       " <selenium.webdriver.remote.webelement.WebElement (session=\"df37d0caece58e89870f77cd311fc8a7\", element=\"2ef7b32e-09ca-4a6f-b00a-40c86a073dd8\")>,\n",
       " <selenium.webdriver.remote.webelement.WebElement (session=\"df37d0caece58e89870f77cd311fc8a7\", element=\"70df5ee3-a746-4114-abed-991a8be43812\")>,\n",
       " <selenium.webdriver.remote.webelement.WebElement (session=\"df37d0caece58e89870f77cd311fc8a7\", element=\"cc292817-5d0a-4f47-8860-da6ea97c8ff6\")>,\n",
       " <selenium.webdriver.remote.webelement.WebElement (session=\"df37d0caece58e89870f77cd311fc8a7\", element=\"5b43d97c-d15b-48a0-9a94-d08dc362a7ac\")>,\n",
       " <selenium.webdriver.remote.webelement.WebElement (session=\"df37d0caece58e89870f77cd311fc8a7\", element=\"fb3eb0b8-7e6a-43ff-a4c0-6fd7cc1715d6\")>,\n",
       " <selenium.webdriver.remote.webelement.WebElement (session=\"df37d0caece58e89870f77cd311fc8a7\", element=\"ef370f68-b365-4c33-b50f-4651654f5183\")>]"
      ]
     },
     "execution_count": 108,
     "metadata": {},
     "output_type": "execute_result"
    }
   ],
   "source": [
    "#extract company names\n",
    "company_tags_2=driver.find_elements_by_xpath(\"//a[@class='subTitle ellipsis fleft']\")\n",
    "company_tags_2[0:10]"
   ]
  },
  {
   "cell_type": "code",
   "execution_count": 109,
   "id": "ddcf7299",
   "metadata": {},
   "outputs": [
    {
     "data": {
      "text/plain": [
       "['Lumiq.ai',\n",
       " 'Care Health Insurance',\n",
       " 'Creative Hands HR Consultancy',\n",
       " '2Coms',\n",
       " 'BlackBuck',\n",
       " 'CELEBAL TECHNOLOGIES PRIVATE LIMITED',\n",
       " 'Boston Consulting Group',\n",
       " 'HCL Technologies',\n",
       " 'NISG (National Institute for Smart Government)',\n",
       " 'MOTHERSONSUMI INFOTECH & DESIGNS LIMITED']"
      ]
     },
     "execution_count": 109,
     "metadata": {},
     "output_type": "execute_result"
    }
   ],
   "source": [
    "#we will get the company text using for loop\n",
    "\n",
    "for i in company_tags_2:\n",
    "    company_2=i.text\n",
    "    company_name_2.append(company_2)\n",
    "company_name_2[0:10]"
   ]
  },
  {
   "cell_type": "code",
   "execution_count": 110,
   "id": "401f0fe4",
   "metadata": {},
   "outputs": [
    {
     "data": {
      "text/plain": [
       "[<selenium.webdriver.remote.webelement.WebElement (session=\"df37d0caece58e89870f77cd311fc8a7\", element=\"5569399f-7f1a-4642-845a-7b7ec50d6668\")>,\n",
       " <selenium.webdriver.remote.webelement.WebElement (session=\"df37d0caece58e89870f77cd311fc8a7\", element=\"ebbc65b0-3407-4f9d-a0ba-925828f5202a\")>,\n",
       " <selenium.webdriver.remote.webelement.WebElement (session=\"df37d0caece58e89870f77cd311fc8a7\", element=\"50ccf7d8-714a-4d29-b722-2273c5a2e3a4\")>,\n",
       " <selenium.webdriver.remote.webelement.WebElement (session=\"df37d0caece58e89870f77cd311fc8a7\", element=\"65f0d00b-13cb-4a4b-a8a7-efa6cd6e2450\")>,\n",
       " <selenium.webdriver.remote.webelement.WebElement (session=\"df37d0caece58e89870f77cd311fc8a7\", element=\"f641f919-32b7-4784-9899-6da868579f8b\")>,\n",
       " <selenium.webdriver.remote.webelement.WebElement (session=\"df37d0caece58e89870f77cd311fc8a7\", element=\"289250dd-c1f0-4bbf-9fea-8f8b689c34e2\")>,\n",
       " <selenium.webdriver.remote.webelement.WebElement (session=\"df37d0caece58e89870f77cd311fc8a7\", element=\"9acba5e8-d777-4cab-a268-047c565d8d41\")>,\n",
       " <selenium.webdriver.remote.webelement.WebElement (session=\"df37d0caece58e89870f77cd311fc8a7\", element=\"01461938-3589-4cd1-8a62-d21bf6a54650\")>,\n",
       " <selenium.webdriver.remote.webelement.WebElement (session=\"df37d0caece58e89870f77cd311fc8a7\", element=\"855e60e8-0806-4783-a485-1e2b58b2f4c6\")>,\n",
       " <selenium.webdriver.remote.webelement.WebElement (session=\"df37d0caece58e89870f77cd311fc8a7\", element=\"02942547-1330-4cac-9f1b-d4b615c5c0c9\")>]"
      ]
     },
     "execution_count": 110,
     "metadata": {},
     "output_type": "execute_result"
    }
   ],
   "source": [
    "#extract experiance\n",
    "experience_tags_2=driver.find_elements_by_xpath(\"//li[@class='fleft grey-text br2 placeHolderLi experience']/span[1]\")\n",
    "experience_tags_2[0:10]"
   ]
  },
  {
   "cell_type": "code",
   "execution_count": 111,
   "id": "7b8f3354",
   "metadata": {},
   "outputs": [
    {
     "data": {
      "text/plain": [
       "['2-6 Yrs',\n",
       " '1-5 Yrs',\n",
       " '0-4 Yrs',\n",
       " '2-7 Yrs',\n",
       " '3-7 Yrs',\n",
       " '3-8 Yrs',\n",
       " '2-5 Yrs',\n",
       " '3-8 Yrs',\n",
       " '3-8 Yrs',\n",
       " '4-8 Yrs']"
      ]
     },
     "execution_count": 111,
     "metadata": {},
     "output_type": "execute_result"
    }
   ],
   "source": [
    "#we will get the experience text using for loop\n",
    "\n",
    "for i in experience_tags_2:\n",
    "    experience_2=i.text\n",
    "    experience_list_2.append(experience_2)\n",
    "experience_list_2[0:10]\t"
   ]
  },
  {
   "cell_type": "code",
   "execution_count": 112,
   "id": "5db6e7f3",
   "metadata": {},
   "outputs": [
    {
     "data": {
      "text/plain": [
       "[<selenium.webdriver.remote.webelement.WebElement (session=\"df37d0caece58e89870f77cd311fc8a7\", element=\"c46366a4-82c7-4cb3-a9b0-2d8a3c675ab4\")>,\n",
       " <selenium.webdriver.remote.webelement.WebElement (session=\"df37d0caece58e89870f77cd311fc8a7\", element=\"98db6fd8-cc0b-4808-a3a4-b9e3186c9755\")>,\n",
       " <selenium.webdriver.remote.webelement.WebElement (session=\"df37d0caece58e89870f77cd311fc8a7\", element=\"f14f9519-c172-404e-ab3a-6883d4135fbb\")>,\n",
       " <selenium.webdriver.remote.webelement.WebElement (session=\"df37d0caece58e89870f77cd311fc8a7\", element=\"da26213e-9165-402f-9188-19f5ecf7d580\")>,\n",
       " <selenium.webdriver.remote.webelement.WebElement (session=\"df37d0caece58e89870f77cd311fc8a7\", element=\"41bd6dc5-7073-4169-8327-bc4b36b8aca2\")>,\n",
       " <selenium.webdriver.remote.webelement.WebElement (session=\"df37d0caece58e89870f77cd311fc8a7\", element=\"d8cc23d9-cfcd-43e9-9737-784525839c44\")>,\n",
       " <selenium.webdriver.remote.webelement.WebElement (session=\"df37d0caece58e89870f77cd311fc8a7\", element=\"f91087b8-747c-467f-a761-2405d36cf6ef\")>,\n",
       " <selenium.webdriver.remote.webelement.WebElement (session=\"df37d0caece58e89870f77cd311fc8a7\", element=\"58f5b5e0-1d23-4096-ae2e-804b363b029c\")>,\n",
       " <selenium.webdriver.remote.webelement.WebElement (session=\"df37d0caece58e89870f77cd311fc8a7\", element=\"018aca88-a59c-434d-9d11-5e7f4f78f6c4\")>,\n",
       " <selenium.webdriver.remote.webelement.WebElement (session=\"df37d0caece58e89870f77cd311fc8a7\", element=\"ec6bc7d0-0d01-4249-a0a8-8613f7c9ed03\")>]"
      ]
     },
     "execution_count": 112,
     "metadata": {},
     "output_type": "execute_result"
    }
   ],
   "source": [
    "#extract location\n",
    "location_tags_2=driver.find_elements_by_xpath(\"//li[@class='fleft grey-text br2 placeHolderLi location']/span[1]\")\n",
    "location_tags_2[0:10]"
   ]
  },
  {
   "cell_type": "code",
   "execution_count": 113,
   "id": "87403f09",
   "metadata": {},
   "outputs": [
    {
     "data": {
      "text/plain": [
       "['Noida, Greater Noida, Delhi / NCR',\n",
       " 'Gurgaon/Gurugram',\n",
       " 'Hyderabad/Secunderabad, Ahmedabad, Chennai, Bangalore/Bengaluru, Delhi / NCR, Mumbai (All Areas)',\n",
       " 'New Delhi, Delhi',\n",
       " 'Gurgaon, Bengaluru',\n",
       " 'Ahmedabad, Jaipur, Delhi / NCR',\n",
       " 'New Delhi',\n",
       " 'Noida, Delhi / NCR',\n",
       " 'Delhi / NCR',\n",
       " 'Noida']"
      ]
     },
     "execution_count": 113,
     "metadata": {},
     "output_type": "execute_result"
    }
   ],
   "source": [
    "#we will get the location text using for loop\n",
    "\n",
    "for i in location_tags_2:\n",
    "    location_2=i.text\n",
    "    job_location_2.append(location_2)\n",
    "job_location_2[0:10]"
   ]
  },
  {
   "cell_type": "code",
   "execution_count": 118,
   "id": "c2f007c6",
   "metadata": {},
   "outputs": [],
   "source": [
    "#import pandas as pd\n",
    "jobs_2=pd.DataFrame({})\n",
    "jobs_2[\"Title\"]=job_title_2[0:10]\n",
    "jobs_2[\"Company\"]=company_name_2[0:10]\n",
    "jobs_2[\"Experience Required\"]=experience_list_2[0:10]\n",
    "jobs_2[\"Location\"]=job_location_2[0:10]"
   ]
  },
  {
   "cell_type": "code",
   "execution_count": 119,
   "id": "923d94d6",
   "metadata": {},
   "outputs": [
    {
     "data": {
      "text/html": [
       "<div>\n",
       "<style scoped>\n",
       "    .dataframe tbody tr th:only-of-type {\n",
       "        vertical-align: middle;\n",
       "    }\n",
       "\n",
       "    .dataframe tbody tr th {\n",
       "        vertical-align: top;\n",
       "    }\n",
       "\n",
       "    .dataframe thead th {\n",
       "        text-align: right;\n",
       "    }\n",
       "</style>\n",
       "<table border=\"1\" class=\"dataframe\">\n",
       "  <thead>\n",
       "    <tr style=\"text-align: right;\">\n",
       "      <th></th>\n",
       "      <th>Title</th>\n",
       "      <th>Company</th>\n",
       "      <th>Experience Required</th>\n",
       "      <th>Location</th>\n",
       "    </tr>\n",
       "  </thead>\n",
       "  <tbody>\n",
       "    <tr>\n",
       "      <th>0</th>\n",
       "      <td>Hiring For Senior Data Scientist-Noida</td>\n",
       "      <td>Lumiq.ai</td>\n",
       "      <td>2-6 Yrs</td>\n",
       "      <td>Noida, Greater Noida, Delhi / NCR</td>\n",
       "    </tr>\n",
       "    <tr>\n",
       "      <th>1</th>\n",
       "      <td>Opening For Data Scientist</td>\n",
       "      <td>Care Health Insurance</td>\n",
       "      <td>1-5 Yrs</td>\n",
       "      <td>Gurgaon/Gurugram</td>\n",
       "    </tr>\n",
       "    <tr>\n",
       "      <th>2</th>\n",
       "      <td>Data Scientist/ Machine Learning, 2022 Passout...</td>\n",
       "      <td>Creative Hands HR Consultancy</td>\n",
       "      <td>0-4 Yrs</td>\n",
       "      <td>Hyderabad/Secunderabad, Ahmedabad, Chennai, Ba...</td>\n",
       "    </tr>\n",
       "    <tr>\n",
       "      <th>3</th>\n",
       "      <td>Data Scientist (freelance)</td>\n",
       "      <td>2Coms</td>\n",
       "      <td>2-7 Yrs</td>\n",
       "      <td>New Delhi, Delhi</td>\n",
       "    </tr>\n",
       "    <tr>\n",
       "      <th>4</th>\n",
       "      <td>Data Scientist</td>\n",
       "      <td>BlackBuck</td>\n",
       "      <td>3-7 Yrs</td>\n",
       "      <td>Gurgaon, Bengaluru</td>\n",
       "    </tr>\n",
       "    <tr>\n",
       "      <th>5</th>\n",
       "      <td>Data Scientist</td>\n",
       "      <td>CELEBAL TECHNOLOGIES PRIVATE LIMITED</td>\n",
       "      <td>3-8 Yrs</td>\n",
       "      <td>Ahmedabad, Jaipur, Delhi / NCR</td>\n",
       "    </tr>\n",
       "    <tr>\n",
       "      <th>6</th>\n",
       "      <td>Data Scientist</td>\n",
       "      <td>Boston Consulting Group</td>\n",
       "      <td>2-5 Yrs</td>\n",
       "      <td>New Delhi</td>\n",
       "    </tr>\n",
       "    <tr>\n",
       "      <th>7</th>\n",
       "      <td>Urgent Requirement || Data Scientist || Noida</td>\n",
       "      <td>HCL Technologies</td>\n",
       "      <td>3-8 Yrs</td>\n",
       "      <td>Noida, Delhi / NCR</td>\n",
       "    </tr>\n",
       "    <tr>\n",
       "      <th>8</th>\n",
       "      <td>AM Data Scientist - Goods &amp; Service Tax Networ...</td>\n",
       "      <td>NISG (National Institute for Smart Government)</td>\n",
       "      <td>3-8 Yrs</td>\n",
       "      <td>Delhi / NCR</td>\n",
       "    </tr>\n",
       "    <tr>\n",
       "      <th>9</th>\n",
       "      <td>Data Scientist - MIND Infotech</td>\n",
       "      <td>MOTHERSONSUMI INFOTECH &amp; DESIGNS LIMITED</td>\n",
       "      <td>4-8 Yrs</td>\n",
       "      <td>Noida</td>\n",
       "    </tr>\n",
       "  </tbody>\n",
       "</table>\n",
       "</div>"
      ],
      "text/plain": [
       "                                               Title  \\\n",
       "0             Hiring For Senior Data Scientist-Noida   \n",
       "1                         Opening For Data Scientist   \n",
       "2  Data Scientist/ Machine Learning, 2022 Passout...   \n",
       "3                         Data Scientist (freelance)   \n",
       "4                                     Data Scientist   \n",
       "5                                     Data Scientist   \n",
       "6                                     Data Scientist   \n",
       "7      Urgent Requirement || Data Scientist || Noida   \n",
       "8  AM Data Scientist - Goods & Service Tax Networ...   \n",
       "9                     Data Scientist - MIND Infotech   \n",
       "\n",
       "                                          Company Experience Required  \\\n",
       "0                                        Lumiq.ai             2-6 Yrs   \n",
       "1                           Care Health Insurance             1-5 Yrs   \n",
       "2                   Creative Hands HR Consultancy             0-4 Yrs   \n",
       "3                                           2Coms             2-7 Yrs   \n",
       "4                                       BlackBuck             3-7 Yrs   \n",
       "5            CELEBAL TECHNOLOGIES PRIVATE LIMITED             3-8 Yrs   \n",
       "6                         Boston Consulting Group             2-5 Yrs   \n",
       "7                                HCL Technologies             3-8 Yrs   \n",
       "8  NISG (National Institute for Smart Government)             3-8 Yrs   \n",
       "9        MOTHERSONSUMI INFOTECH & DESIGNS LIMITED             4-8 Yrs   \n",
       "\n",
       "                                            Location  \n",
       "0                  Noida, Greater Noida, Delhi / NCR  \n",
       "1                                   Gurgaon/Gurugram  \n",
       "2  Hyderabad/Secunderabad, Ahmedabad, Chennai, Ba...  \n",
       "3                                   New Delhi, Delhi  \n",
       "4                                 Gurgaon, Bengaluru  \n",
       "5                     Ahmedabad, Jaipur, Delhi / NCR  \n",
       "6                                          New Delhi  \n",
       "7                                 Noida, Delhi / NCR  \n",
       "8                                        Delhi / NCR  \n",
       "9                                              Noida  "
      ]
     },
     "execution_count": 119,
     "metadata": {},
     "output_type": "execute_result"
    }
   ],
   "source": [
    "jobs_2"
   ]
  },
  {
   "cell_type": "code",
   "execution_count": 120,
   "id": "cc9d5632",
   "metadata": {},
   "outputs": [],
   "source": [
    "driver.close()"
   ]
  },
  {
   "cell_type": "markdown",
   "id": "7d2eb652",
   "metadata": {},
   "source": [
    "# Scrape data of first 100 sunglasses listings on flipkart.com. You have to scrape four attributes:\n",
    "1. Brand\n",
    "2. Product Description\n",
    "3. Price\n",
    "The attributes which you have to scrape is ticked marked in the below image\n",
    "\n",
    "To scrape the data you have to go through following steps:\n",
    "1. Go to Flipkart webpage by url : https://www.flipkart.com/\n",
    "2. Enter “sunglasses” in the search field where “search for products, brands andmore” is written and\n",
    "click the search icon\n",
    "3. After that you will reach to the page having a lot of sunglasses. From this pageyou can scrap the\n",
    "required data as usual\n",
    "4. After scraping data from the first page, go to the “Next” Button at the bottom ofthe page , then\n",
    "click on it.\n",
    "5. Now scrape data from this page as usual\n",
    "6. Repeat this until you get data for 100 sunglasses."
   ]
  },
  {
   "cell_type": "code",
   "execution_count": 202,
   "id": "4f2fb288",
   "metadata": {},
   "outputs": [],
   "source": [
    "driver=webdriver.Chrome(\"chromedriver.exe\")\n",
    "time.sleep(2)"
   ]
  },
  {
   "cell_type": "code",
   "execution_count": 203,
   "id": "2268948c",
   "metadata": {},
   "outputs": [],
   "source": [
    "driver.get(\"https://www.flipkart.com/\")"
   ]
  },
  {
   "cell_type": "code",
   "execution_count": 204,
   "id": "66668fa6",
   "metadata": {},
   "outputs": [],
   "source": [
    "brand_names_list=[]\n",
    "product_disc_list=[]\n",
    "price_list=[]\n",
    "discount_per_list=[]"
   ]
  },
  {
   "cell_type": "code",
   "execution_count": 205,
   "id": "f27a23b2",
   "metadata": {},
   "outputs": [],
   "source": [
    "#finding elements for sunglasses \n",
    "search_field_designation=driver.find_element_by_class_name(\"_3704LK\")\n",
    "search_field_designation.send_keys(\"sunglasses\")"
   ]
  },
  {
   "cell_type": "code",
   "execution_count": 206,
   "id": "45e4777b",
   "metadata": {},
   "outputs": [],
   "source": [
    "search_button=driver.find_element_by_xpath(\"/html/body/div[1]/div/div[1]/div[1]/div[2]/div[2]/form/div/button\")\n",
    "search_button.click()"
   ]
  },
  {
   "cell_type": "code",
   "execution_count": 207,
   "id": "bcf929f2",
   "metadata": {},
   "outputs": [
    {
     "data": {
      "text/plain": [
       "[<selenium.webdriver.remote.webelement.WebElement (session=\"cfdcce8833f3dff7bebd8c39c0f921df\", element=\"dbf85972-fc4f-467a-bf2e-2293525ab6e1\")>,\n",
       " <selenium.webdriver.remote.webelement.WebElement (session=\"cfdcce8833f3dff7bebd8c39c0f921df\", element=\"489554c2-df63-4912-b695-b14b531b9676\")>,\n",
       " <selenium.webdriver.remote.webelement.WebElement (session=\"cfdcce8833f3dff7bebd8c39c0f921df\", element=\"f9234bcd-25e5-4fe4-a116-7040ea927c7e\")>,\n",
       " <selenium.webdriver.remote.webelement.WebElement (session=\"cfdcce8833f3dff7bebd8c39c0f921df\", element=\"5ed50042-443b-4d75-9e5c-f19bc5196533\")>,\n",
       " <selenium.webdriver.remote.webelement.WebElement (session=\"cfdcce8833f3dff7bebd8c39c0f921df\", element=\"17124f4c-56b9-4d37-ad86-510879b8f949\")>,\n",
       " <selenium.webdriver.remote.webelement.WebElement (session=\"cfdcce8833f3dff7bebd8c39c0f921df\", element=\"83f2c0aa-bc66-4b05-9769-6a5797802caf\")>,\n",
       " <selenium.webdriver.remote.webelement.WebElement (session=\"cfdcce8833f3dff7bebd8c39c0f921df\", element=\"7f6281f0-6d2c-4d6b-86a1-0d39caa0a668\")>,\n",
       " <selenium.webdriver.remote.webelement.WebElement (session=\"cfdcce8833f3dff7bebd8c39c0f921df\", element=\"120e2823-2d4f-411d-80b5-8a0b09c7914e\")>,\n",
       " <selenium.webdriver.remote.webelement.WebElement (session=\"cfdcce8833f3dff7bebd8c39c0f921df\", element=\"e41c6e97-97c0-4caf-ba60-bba1a1961836\")>,\n",
       " <selenium.webdriver.remote.webelement.WebElement (session=\"cfdcce8833f3dff7bebd8c39c0f921df\", element=\"a0fdfa35-ef90-4310-a641-7e41b1d5e30f\")>,\n",
       " <selenium.webdriver.remote.webelement.WebElement (session=\"cfdcce8833f3dff7bebd8c39c0f921df\", element=\"63de6188-c4ce-4328-8941-b371e4d4125f\")>,\n",
       " <selenium.webdriver.remote.webelement.WebElement (session=\"cfdcce8833f3dff7bebd8c39c0f921df\", element=\"33a0bc03-13f4-4dce-b16c-e45a5ff14241\")>,\n",
       " <selenium.webdriver.remote.webelement.WebElement (session=\"cfdcce8833f3dff7bebd8c39c0f921df\", element=\"cd471bb1-79a6-4845-bf41-ddd250b0daac\")>,\n",
       " <selenium.webdriver.remote.webelement.WebElement (session=\"cfdcce8833f3dff7bebd8c39c0f921df\", element=\"e79a6cee-8413-4443-9ae3-63a5ed71d445\")>,\n",
       " <selenium.webdriver.remote.webelement.WebElement (session=\"cfdcce8833f3dff7bebd8c39c0f921df\", element=\"922d2cea-34fb-4ae7-8ad3-6e510f5a6954\")>,\n",
       " <selenium.webdriver.remote.webelement.WebElement (session=\"cfdcce8833f3dff7bebd8c39c0f921df\", element=\"40202011-07f7-4bd4-8338-7a61a68ffa14\")>,\n",
       " <selenium.webdriver.remote.webelement.WebElement (session=\"cfdcce8833f3dff7bebd8c39c0f921df\", element=\"6bc80dbe-47a4-46f1-a069-fd710225f388\")>,\n",
       " <selenium.webdriver.remote.webelement.WebElement (session=\"cfdcce8833f3dff7bebd8c39c0f921df\", element=\"c3d210b7-2bb7-46e0-9eed-c4ed672bd2ea\")>,\n",
       " <selenium.webdriver.remote.webelement.WebElement (session=\"cfdcce8833f3dff7bebd8c39c0f921df\", element=\"a0f1dff2-b3ba-4741-94d1-76cce6875737\")>,\n",
       " <selenium.webdriver.remote.webelement.WebElement (session=\"cfdcce8833f3dff7bebd8c39c0f921df\", element=\"b90df043-eda9-49b6-8921-f9d1f284ba14\")>,\n",
       " <selenium.webdriver.remote.webelement.WebElement (session=\"cfdcce8833f3dff7bebd8c39c0f921df\", element=\"6eca1a0d-1f91-44d0-b060-0451460eaf77\")>,\n",
       " <selenium.webdriver.remote.webelement.WebElement (session=\"cfdcce8833f3dff7bebd8c39c0f921df\", element=\"18894cac-0f4f-4553-93c3-d20ad8d24b4d\")>,\n",
       " <selenium.webdriver.remote.webelement.WebElement (session=\"cfdcce8833f3dff7bebd8c39c0f921df\", element=\"b9b7ce81-71e3-4a49-b975-7e52960c15f2\")>,\n",
       " <selenium.webdriver.remote.webelement.WebElement (session=\"cfdcce8833f3dff7bebd8c39c0f921df\", element=\"79cc02f3-bbb4-4f94-b385-06df5527a108\")>,\n",
       " <selenium.webdriver.remote.webelement.WebElement (session=\"cfdcce8833f3dff7bebd8c39c0f921df\", element=\"697de2d7-c2e7-407c-afa5-51fa1914791b\")>,\n",
       " <selenium.webdriver.remote.webelement.WebElement (session=\"cfdcce8833f3dff7bebd8c39c0f921df\", element=\"67821578-5b61-4f1b-b715-48cde222912a\")>,\n",
       " <selenium.webdriver.remote.webelement.WebElement (session=\"cfdcce8833f3dff7bebd8c39c0f921df\", element=\"33f8f86d-c097-4184-b28c-0ee7eca4eabc\")>,\n",
       " <selenium.webdriver.remote.webelement.WebElement (session=\"cfdcce8833f3dff7bebd8c39c0f921df\", element=\"0410155f-7e75-4401-ae73-e5322993183b\")>,\n",
       " <selenium.webdriver.remote.webelement.WebElement (session=\"cfdcce8833f3dff7bebd8c39c0f921df\", element=\"1065e457-092d-41cb-b9ba-24c1176e3d28\")>,\n",
       " <selenium.webdriver.remote.webelement.WebElement (session=\"cfdcce8833f3dff7bebd8c39c0f921df\", element=\"9e76bc23-c128-4de2-9106-85ee0b570c63\")>,\n",
       " <selenium.webdriver.remote.webelement.WebElement (session=\"cfdcce8833f3dff7bebd8c39c0f921df\", element=\"2bc05fb9-026e-4e1e-ad15-34f722826231\")>,\n",
       " <selenium.webdriver.remote.webelement.WebElement (session=\"cfdcce8833f3dff7bebd8c39c0f921df\", element=\"3e2e5fbc-bcb2-4124-822e-8637358b98e4\")>,\n",
       " <selenium.webdriver.remote.webelement.WebElement (session=\"cfdcce8833f3dff7bebd8c39c0f921df\", element=\"b328fcd7-4b8a-469e-803d-87639a0671ea\")>,\n",
       " <selenium.webdriver.remote.webelement.WebElement (session=\"cfdcce8833f3dff7bebd8c39c0f921df\", element=\"c171b2f7-50dd-49f0-8914-f27be6b3d764\")>,\n",
       " <selenium.webdriver.remote.webelement.WebElement (session=\"cfdcce8833f3dff7bebd8c39c0f921df\", element=\"494355a4-3a09-4f81-95e3-d0ee8bce47fb\")>,\n",
       " <selenium.webdriver.remote.webelement.WebElement (session=\"cfdcce8833f3dff7bebd8c39c0f921df\", element=\"51081ef6-edb3-43f8-a171-923a45f8995a\")>,\n",
       " <selenium.webdriver.remote.webelement.WebElement (session=\"cfdcce8833f3dff7bebd8c39c0f921df\", element=\"10720c5e-1bd9-4c85-b8db-b50238d83d5b\")>,\n",
       " <selenium.webdriver.remote.webelement.WebElement (session=\"cfdcce8833f3dff7bebd8c39c0f921df\", element=\"89fc1ce0-208a-4808-ab43-281c64e8143e\")>,\n",
       " <selenium.webdriver.remote.webelement.WebElement (session=\"cfdcce8833f3dff7bebd8c39c0f921df\", element=\"a039967a-8988-41c6-b994-970c842881f9\")>,\n",
       " <selenium.webdriver.remote.webelement.WebElement (session=\"cfdcce8833f3dff7bebd8c39c0f921df\", element=\"68780fba-0cfd-4bd2-8960-10c0a471927a\")>]"
      ]
     },
     "execution_count": 207,
     "metadata": {},
     "output_type": "execute_result"
    }
   ],
   "source": [
    "#extract brand names\n",
    "brand_names=driver.find_elements_by_xpath(\"//div[@class='_2WkVRV']\")\n",
    "brand_names"
   ]
  },
  {
   "cell_type": "code",
   "execution_count": 208,
   "id": "f5b61eeb",
   "metadata": {},
   "outputs": [
    {
     "data": {
      "text/plain": [
       "['CART2DEAL',\n",
       " 'john jacobs',\n",
       " 'Elligator',\n",
       " 'PIRASO',\n",
       " 'New Specs',\n",
       " 'SRPM',\n",
       " 'SHAAH COLLECTIONS',\n",
       " 'john jacobs',\n",
       " 'Fastrack',\n",
       " 'SUNBEE',\n",
       " 'Lee Topper',\n",
       " 'john jacobs',\n",
       " 'Lee Topper',\n",
       " 'PIRASO',\n",
       " 'ROZZETTA CRAFT',\n",
       " 'ROZZETTA CRAFT',\n",
       " 'SUNBEE',\n",
       " 'PIRASO',\n",
       " 'PIRASO',\n",
       " 'VINCENT CHASE',\n",
       " 'Fastrack',\n",
       " 'New Specs',\n",
       " 'GANSTA',\n",
       " 'john jacobs',\n",
       " 'kingsunglasses',\n",
       " 'kingsunglasses',\n",
       " 'SUNBEE',\n",
       " 'john jacobs',\n",
       " 'Elligator',\n",
       " 'SRPM',\n",
       " 'DEIXELS',\n",
       " 'VILLAIN',\n",
       " 'hipe',\n",
       " 'PHENOMENAL',\n",
       " 'hipe',\n",
       " 'LOUIS KOUROS',\n",
       " 'Singco India',\n",
       " 'Fastrack',\n",
       " 'SRPM',\n",
       " 'ROZZETTA CRAFT']"
      ]
     },
     "execution_count": 208,
     "metadata": {},
     "output_type": "execute_result"
    }
   ],
   "source": [
    "#we will get the brand name text using for loop\n",
    "\n",
    "for i in brand_names:\n",
    "    brand=i.text\n",
    "    brand_names_list.append(brand)\n",
    "brand_names_list"
   ]
  },
  {
   "cell_type": "code",
   "execution_count": 209,
   "id": "bd47169e",
   "metadata": {},
   "outputs": [
    {
     "data": {
      "text/plain": [
       "[<selenium.webdriver.remote.webelement.WebElement (session=\"cfdcce8833f3dff7bebd8c39c0f921df\", element=\"ccedbbd0-35e0-43ce-9e8f-b8a51f4f06b0\")>,\n",
       " <selenium.webdriver.remote.webelement.WebElement (session=\"cfdcce8833f3dff7bebd8c39c0f921df\", element=\"8893a538-3430-44bd-9c2f-54f161f6ac17\")>,\n",
       " <selenium.webdriver.remote.webelement.WebElement (session=\"cfdcce8833f3dff7bebd8c39c0f921df\", element=\"4ca71245-3608-4e10-86fe-dbc608ea3e01\")>,\n",
       " <selenium.webdriver.remote.webelement.WebElement (session=\"cfdcce8833f3dff7bebd8c39c0f921df\", element=\"0f017e81-06e1-4d79-b39a-f694a050b1d2\")>,\n",
       " <selenium.webdriver.remote.webelement.WebElement (session=\"cfdcce8833f3dff7bebd8c39c0f921df\", element=\"596db50b-ce28-4af2-a353-c22c63af7abb\")>,\n",
       " <selenium.webdriver.remote.webelement.WebElement (session=\"cfdcce8833f3dff7bebd8c39c0f921df\", element=\"7fc8b646-0914-4ab5-8ac0-8dbf0293b1ff\")>,\n",
       " <selenium.webdriver.remote.webelement.WebElement (session=\"cfdcce8833f3dff7bebd8c39c0f921df\", element=\"24781807-ab88-46a5-a589-4353339d64d5\")>,\n",
       " <selenium.webdriver.remote.webelement.WebElement (session=\"cfdcce8833f3dff7bebd8c39c0f921df\", element=\"7a36fc81-7a73-4558-a34d-91d9d13c394e\")>,\n",
       " <selenium.webdriver.remote.webelement.WebElement (session=\"cfdcce8833f3dff7bebd8c39c0f921df\", element=\"be187a9b-602d-4384-8762-de3900bfc60c\")>,\n",
       " <selenium.webdriver.remote.webelement.WebElement (session=\"cfdcce8833f3dff7bebd8c39c0f921df\", element=\"54d031c8-e82e-4fa8-821d-b4174fcef146\")>,\n",
       " <selenium.webdriver.remote.webelement.WebElement (session=\"cfdcce8833f3dff7bebd8c39c0f921df\", element=\"1499ecf1-a0c2-4b38-a272-8dab99eaa1ff\")>,\n",
       " <selenium.webdriver.remote.webelement.WebElement (session=\"cfdcce8833f3dff7bebd8c39c0f921df\", element=\"925a8c64-7a46-4955-a03a-a13d1135a065\")>,\n",
       " <selenium.webdriver.remote.webelement.WebElement (session=\"cfdcce8833f3dff7bebd8c39c0f921df\", element=\"a97cf05e-6fc4-4f85-a606-a24a69615bd5\")>,\n",
       " <selenium.webdriver.remote.webelement.WebElement (session=\"cfdcce8833f3dff7bebd8c39c0f921df\", element=\"2b8a6bb7-349b-47f7-8f28-155e159bb039\")>,\n",
       " <selenium.webdriver.remote.webelement.WebElement (session=\"cfdcce8833f3dff7bebd8c39c0f921df\", element=\"5a793807-03d9-47b8-97cf-83029cf2008e\")>,\n",
       " <selenium.webdriver.remote.webelement.WebElement (session=\"cfdcce8833f3dff7bebd8c39c0f921df\", element=\"6a45a581-e723-4617-96de-c3d08029b2f3\")>,\n",
       " <selenium.webdriver.remote.webelement.WebElement (session=\"cfdcce8833f3dff7bebd8c39c0f921df\", element=\"9965155b-35ea-40f2-9dd3-1315f882b234\")>,\n",
       " <selenium.webdriver.remote.webelement.WebElement (session=\"cfdcce8833f3dff7bebd8c39c0f921df\", element=\"f497b3ad-e740-4962-8969-a174ba474612\")>,\n",
       " <selenium.webdriver.remote.webelement.WebElement (session=\"cfdcce8833f3dff7bebd8c39c0f921df\", element=\"2ab2680a-455a-47ac-8408-35243c9f9ecb\")>,\n",
       " <selenium.webdriver.remote.webelement.WebElement (session=\"cfdcce8833f3dff7bebd8c39c0f921df\", element=\"90ced498-7a94-4790-bc45-dd22005870b1\")>,\n",
       " <selenium.webdriver.remote.webelement.WebElement (session=\"cfdcce8833f3dff7bebd8c39c0f921df\", element=\"24b8cfea-7269-4973-9c85-49a3e2192cfd\")>,\n",
       " <selenium.webdriver.remote.webelement.WebElement (session=\"cfdcce8833f3dff7bebd8c39c0f921df\", element=\"325547eb-9e25-48ff-ba7b-9cfe1cf1f314\")>,\n",
       " <selenium.webdriver.remote.webelement.WebElement (session=\"cfdcce8833f3dff7bebd8c39c0f921df\", element=\"1cdc3394-77bc-4d99-ae7f-2b4af74874d0\")>,\n",
       " <selenium.webdriver.remote.webelement.WebElement (session=\"cfdcce8833f3dff7bebd8c39c0f921df\", element=\"00f83cf7-71e0-48fe-ba04-18be68ac1393\")>,\n",
       " <selenium.webdriver.remote.webelement.WebElement (session=\"cfdcce8833f3dff7bebd8c39c0f921df\", element=\"b1dbfb0d-647b-4e51-912f-5f77cccd0c22\")>,\n",
       " <selenium.webdriver.remote.webelement.WebElement (session=\"cfdcce8833f3dff7bebd8c39c0f921df\", element=\"b9f5d29a-6458-4f3f-a477-029f88dbbb08\")>,\n",
       " <selenium.webdriver.remote.webelement.WebElement (session=\"cfdcce8833f3dff7bebd8c39c0f921df\", element=\"960606dc-9429-45e4-80a8-2631c52a1ebd\")>,\n",
       " <selenium.webdriver.remote.webelement.WebElement (session=\"cfdcce8833f3dff7bebd8c39c0f921df\", element=\"a1877df7-5bf7-4eac-b4f3-24439659455c\")>,\n",
       " <selenium.webdriver.remote.webelement.WebElement (session=\"cfdcce8833f3dff7bebd8c39c0f921df\", element=\"6736feff-fd1f-4685-9041-313720b9ba99\")>,\n",
       " <selenium.webdriver.remote.webelement.WebElement (session=\"cfdcce8833f3dff7bebd8c39c0f921df\", element=\"64916369-d698-41d2-8749-48f8a757466c\")>,\n",
       " <selenium.webdriver.remote.webelement.WebElement (session=\"cfdcce8833f3dff7bebd8c39c0f921df\", element=\"114e1c8b-5762-48ca-842e-e3c258507735\")>,\n",
       " <selenium.webdriver.remote.webelement.WebElement (session=\"cfdcce8833f3dff7bebd8c39c0f921df\", element=\"bf14b317-0625-4f10-8086-46a204e5a197\")>,\n",
       " <selenium.webdriver.remote.webelement.WebElement (session=\"cfdcce8833f3dff7bebd8c39c0f921df\", element=\"e212b3f8-13bb-4d62-a1c7-140ec74957de\")>,\n",
       " <selenium.webdriver.remote.webelement.WebElement (session=\"cfdcce8833f3dff7bebd8c39c0f921df\", element=\"6571752f-f377-4cef-88e3-986a814d7771\")>,\n",
       " <selenium.webdriver.remote.webelement.WebElement (session=\"cfdcce8833f3dff7bebd8c39c0f921df\", element=\"5ab8f293-93e0-44bd-b91e-a7c2baf77a52\")>,\n",
       " <selenium.webdriver.remote.webelement.WebElement (session=\"cfdcce8833f3dff7bebd8c39c0f921df\", element=\"2c5a72dd-f5bc-472c-b575-1c741100cf17\")>,\n",
       " <selenium.webdriver.remote.webelement.WebElement (session=\"cfdcce8833f3dff7bebd8c39c0f921df\", element=\"897916aa-f1b3-4559-8e1d-fa0cdc274aa3\")>,\n",
       " <selenium.webdriver.remote.webelement.WebElement (session=\"cfdcce8833f3dff7bebd8c39c0f921df\", element=\"5bf51b01-dbdc-42d3-b78a-844ec3075e6a\")>,\n",
       " <selenium.webdriver.remote.webelement.WebElement (session=\"cfdcce8833f3dff7bebd8c39c0f921df\", element=\"a9c0e1fa-e133-4c20-9282-09befca09b6d\")>,\n",
       " <selenium.webdriver.remote.webelement.WebElement (session=\"cfdcce8833f3dff7bebd8c39c0f921df\", element=\"0dfa6515-b908-4350-bbdd-468a887801b9\")>]"
      ]
     },
     "execution_count": 209,
     "metadata": {},
     "output_type": "execute_result"
    }
   ],
   "source": [
    "#extract product-disc\n",
    "product_disc=driver.find_elements_by_xpath(\"//a[@class='IRpwTa']\")\n",
    "product_disc"
   ]
  },
  {
   "cell_type": "code",
   "execution_count": 210,
   "id": "9eb03eac",
   "metadata": {},
   "outputs": [
    {
     "data": {
      "text/plain": [
       "['Riding Glasses, UV Protection, Mirrored Retro Square Su...',\n",
       " 'UV Protection Clubmaster Sunglasses (47)',\n",
       " 'UV Protection Round Sunglasses (54)',\n",
       " 'UV Protection Aviator Sunglasses (54)',\n",
       " 'UV Protection Rectangular Sunglasses (Free Size)',\n",
       " 'UV Protection Wayfarer Sunglasses (50)',\n",
       " 'UV Protection, Polarized, Mirrored Rectangular Sunglass...',\n",
       " 'Polarized, UV Protection Aviator Sunglasses (53)',\n",
       " 'UV Protection Rectangular Sunglasses (Free Size)',\n",
       " 'UV Protection, Polarized Wayfarer Sunglasses (Free Size...',\n",
       " 'Riding Glasses Wrap-around Sunglasses (Free Size)',\n",
       " 'Polarized, UV Protection Retro Square Sunglasses (54)',\n",
       " 'UV Protection Rectangular Sunglasses (Free Size)',\n",
       " 'UV Protection Aviator Sunglasses (54)',\n",
       " 'Polarized, Riding Glasses Sports, Wrap-around Sunglasse...',\n",
       " 'UV Protection, Gradient Rectangular Sunglasses (Free Si...',\n",
       " 'UV Protection, Polarized, Mirrored Retro Square Sunglas...',\n",
       " 'UV Protection Aviator Sunglasses (54)',\n",
       " 'UV Protection Wayfarer Sunglasses (32)',\n",
       " 'UV Protection Rectangular Sunglasses (50)',\n",
       " 'Gradient, UV Protection Wayfarer Sunglasses (Free Size)',\n",
       " 'Mirrored, UV Protection, Riding Glasses, Others Round S...',\n",
       " 'UV Protection, Riding Glasses Wayfarer Sunglasses (53)',\n",
       " 'UV Protection Aviator Sunglasses (55)',\n",
       " 'Mirrored, UV Protection Wayfarer Sunglasses (Free Size)',\n",
       " 'UV Protection, Riding Glasses, Mirrored Wayfarer Sungla...',\n",
       " 'UV Protection, Polarized, Mirrored Round Sunglasses (Fr...',\n",
       " 'UV Protection Round Sunglasses (54)',\n",
       " 'UV Protection Round Sunglasses (53)',\n",
       " 'UV Protection Wayfarer Sunglasses (54)',\n",
       " 'UV Protection Aviator, Wayfarer Sunglasses (Free Size)',\n",
       " 'Others Retro Square Sunglasses (Free Size)',\n",
       " 'Mirrored, UV Protection, Gradient Round Sunglasses (55)',\n",
       " 'UV Protection Retro Square Sunglasses (53)',\n",
       " 'UV Protection, Gradient, Mirrored, Riding Glasses Aviat...',\n",
       " 'UV Protection, Riding Glasses, Mirrored Aviator Sunglas...',\n",
       " 'Riding Glasses, UV Protection, Others Aviator Sunglasse...',\n",
       " 'UV Protection Wayfarer Sunglasses (Free Size)',\n",
       " 'UV Protection Wayfarer Sunglasses (53)',\n",
       " 'UV Protection, Gradient Rectangular Sunglasses (Free Si...']"
      ]
     },
     "execution_count": 210,
     "metadata": {},
     "output_type": "execute_result"
    }
   ],
   "source": [
    "#we will get the product disc text using for loop\n",
    "\n",
    "for i in product_disc:\n",
    "    product=i.text\n",
    "    product_disc_list.append(product)\n",
    "product_disc_list"
   ]
  },
  {
   "cell_type": "code",
   "execution_count": 211,
   "id": "08fa6360",
   "metadata": {},
   "outputs": [
    {
     "data": {
      "text/plain": [
       "[<selenium.webdriver.remote.webelement.WebElement (session=\"cfdcce8833f3dff7bebd8c39c0f921df\", element=\"a2c8df35-8539-467b-bea8-614630b7a56e\")>,\n",
       " <selenium.webdriver.remote.webelement.WebElement (session=\"cfdcce8833f3dff7bebd8c39c0f921df\", element=\"2d99a3b2-d143-4727-9648-f0c95e6b882f\")>,\n",
       " <selenium.webdriver.remote.webelement.WebElement (session=\"cfdcce8833f3dff7bebd8c39c0f921df\", element=\"a81b55dc-ef8c-4699-8d2f-f1caf3e41cb0\")>,\n",
       " <selenium.webdriver.remote.webelement.WebElement (session=\"cfdcce8833f3dff7bebd8c39c0f921df\", element=\"d252af60-d552-4f32-abac-6e860276c3e3\")>,\n",
       " <selenium.webdriver.remote.webelement.WebElement (session=\"cfdcce8833f3dff7bebd8c39c0f921df\", element=\"ebaf0b6a-b37e-4b72-a800-c9c9236e29c0\")>,\n",
       " <selenium.webdriver.remote.webelement.WebElement (session=\"cfdcce8833f3dff7bebd8c39c0f921df\", element=\"81561252-d1a1-4a6f-ae61-3f314cfcddfa\")>,\n",
       " <selenium.webdriver.remote.webelement.WebElement (session=\"cfdcce8833f3dff7bebd8c39c0f921df\", element=\"b3d71a30-fbf9-4b87-8a37-e3a4beba2e0d\")>,\n",
       " <selenium.webdriver.remote.webelement.WebElement (session=\"cfdcce8833f3dff7bebd8c39c0f921df\", element=\"b97161cb-329c-4408-87a4-2884f89a40d8\")>,\n",
       " <selenium.webdriver.remote.webelement.WebElement (session=\"cfdcce8833f3dff7bebd8c39c0f921df\", element=\"defd8c00-190e-456e-b7c2-f13ac0e0145e\")>,\n",
       " <selenium.webdriver.remote.webelement.WebElement (session=\"cfdcce8833f3dff7bebd8c39c0f921df\", element=\"a0294544-2303-4d5c-a118-8afbb78de92d\")>,\n",
       " <selenium.webdriver.remote.webelement.WebElement (session=\"cfdcce8833f3dff7bebd8c39c0f921df\", element=\"d16f4d4b-e6a2-4f2d-b676-8f25fc17698b\")>,\n",
       " <selenium.webdriver.remote.webelement.WebElement (session=\"cfdcce8833f3dff7bebd8c39c0f921df\", element=\"97283fab-9664-4dd2-9be4-b1351abd26a6\")>,\n",
       " <selenium.webdriver.remote.webelement.WebElement (session=\"cfdcce8833f3dff7bebd8c39c0f921df\", element=\"9bb748d1-beaf-473a-beba-bc55a4a005c4\")>,\n",
       " <selenium.webdriver.remote.webelement.WebElement (session=\"cfdcce8833f3dff7bebd8c39c0f921df\", element=\"879eeac0-2a8b-42ac-a0dc-675653521435\")>,\n",
       " <selenium.webdriver.remote.webelement.WebElement (session=\"cfdcce8833f3dff7bebd8c39c0f921df\", element=\"f2b29472-fa64-4ca0-b4ca-0627138de662\")>,\n",
       " <selenium.webdriver.remote.webelement.WebElement (session=\"cfdcce8833f3dff7bebd8c39c0f921df\", element=\"cccdd067-0738-4f25-af41-08eb5bed3680\")>,\n",
       " <selenium.webdriver.remote.webelement.WebElement (session=\"cfdcce8833f3dff7bebd8c39c0f921df\", element=\"7a90cd1a-7334-4061-938e-e9acbbd208f8\")>,\n",
       " <selenium.webdriver.remote.webelement.WebElement (session=\"cfdcce8833f3dff7bebd8c39c0f921df\", element=\"7f240863-768f-440b-85fa-e37d0229fe71\")>,\n",
       " <selenium.webdriver.remote.webelement.WebElement (session=\"cfdcce8833f3dff7bebd8c39c0f921df\", element=\"f9c1de5d-8da2-4ef8-afe0-705316e4215a\")>,\n",
       " <selenium.webdriver.remote.webelement.WebElement (session=\"cfdcce8833f3dff7bebd8c39c0f921df\", element=\"c3c45df9-30f0-4bcf-959b-9c802da3ad14\")>,\n",
       " <selenium.webdriver.remote.webelement.WebElement (session=\"cfdcce8833f3dff7bebd8c39c0f921df\", element=\"729283b4-b873-4fb1-9d16-820055b41d9a\")>,\n",
       " <selenium.webdriver.remote.webelement.WebElement (session=\"cfdcce8833f3dff7bebd8c39c0f921df\", element=\"8b944f22-574a-4757-8216-b72244ce6654\")>,\n",
       " <selenium.webdriver.remote.webelement.WebElement (session=\"cfdcce8833f3dff7bebd8c39c0f921df\", element=\"36e97c40-e423-4061-8dbc-8017e48fd6a7\")>,\n",
       " <selenium.webdriver.remote.webelement.WebElement (session=\"cfdcce8833f3dff7bebd8c39c0f921df\", element=\"e30de24b-a6e3-4b4f-9c79-7071d4daf1cd\")>,\n",
       " <selenium.webdriver.remote.webelement.WebElement (session=\"cfdcce8833f3dff7bebd8c39c0f921df\", element=\"8ec280bc-3d69-45b5-8397-dcbe2e0159df\")>,\n",
       " <selenium.webdriver.remote.webelement.WebElement (session=\"cfdcce8833f3dff7bebd8c39c0f921df\", element=\"cfdfab70-b8c3-46e6-911c-87a5c625b852\")>,\n",
       " <selenium.webdriver.remote.webelement.WebElement (session=\"cfdcce8833f3dff7bebd8c39c0f921df\", element=\"a46fc824-735d-45e2-943f-d1e8efac7e66\")>,\n",
       " <selenium.webdriver.remote.webelement.WebElement (session=\"cfdcce8833f3dff7bebd8c39c0f921df\", element=\"bc35c5af-fa5b-4718-9a0c-cf3eba3871a1\")>,\n",
       " <selenium.webdriver.remote.webelement.WebElement (session=\"cfdcce8833f3dff7bebd8c39c0f921df\", element=\"413096ee-57df-41e2-ba55-543b1fbfdb99\")>,\n",
       " <selenium.webdriver.remote.webelement.WebElement (session=\"cfdcce8833f3dff7bebd8c39c0f921df\", element=\"d3e5f21f-2850-45eb-97ba-81fdb845ff6a\")>,\n",
       " <selenium.webdriver.remote.webelement.WebElement (session=\"cfdcce8833f3dff7bebd8c39c0f921df\", element=\"0688af14-e1fa-492d-8534-554024930017\")>,\n",
       " <selenium.webdriver.remote.webelement.WebElement (session=\"cfdcce8833f3dff7bebd8c39c0f921df\", element=\"84d7c290-e7c9-45b6-9a53-7bf84c2fe28e\")>,\n",
       " <selenium.webdriver.remote.webelement.WebElement (session=\"cfdcce8833f3dff7bebd8c39c0f921df\", element=\"bed9dfd5-6495-4c88-9664-afab7c10f89b\")>,\n",
       " <selenium.webdriver.remote.webelement.WebElement (session=\"cfdcce8833f3dff7bebd8c39c0f921df\", element=\"c676390a-a378-415d-8ab1-d369178186af\")>,\n",
       " <selenium.webdriver.remote.webelement.WebElement (session=\"cfdcce8833f3dff7bebd8c39c0f921df\", element=\"c0bf3962-d8bf-40d4-9aad-36a346b0ecb7\")>,\n",
       " <selenium.webdriver.remote.webelement.WebElement (session=\"cfdcce8833f3dff7bebd8c39c0f921df\", element=\"b23940f8-7ca3-4529-9471-d619e6644ddd\")>,\n",
       " <selenium.webdriver.remote.webelement.WebElement (session=\"cfdcce8833f3dff7bebd8c39c0f921df\", element=\"1b58a3ac-0d8a-453b-b76c-9681867b1f07\")>,\n",
       " <selenium.webdriver.remote.webelement.WebElement (session=\"cfdcce8833f3dff7bebd8c39c0f921df\", element=\"5a965bea-1d3d-4018-89e1-7b18f0cbe323\")>,\n",
       " <selenium.webdriver.remote.webelement.WebElement (session=\"cfdcce8833f3dff7bebd8c39c0f921df\", element=\"2e915613-6d8f-4738-bacd-86b7e2e2d696\")>,\n",
       " <selenium.webdriver.remote.webelement.WebElement (session=\"cfdcce8833f3dff7bebd8c39c0f921df\", element=\"18da80e9-2681-4b43-b184-5dcf65c6ced8\")>]"
      ]
     },
     "execution_count": 211,
     "metadata": {},
     "output_type": "execute_result"
    }
   ],
   "source": [
    "#extract price\n",
    "price_tag=driver.find_elements_by_xpath(\"//div[@class='_30jeq3']\")\n",
    "price_tag"
   ]
  },
  {
   "cell_type": "code",
   "execution_count": 212,
   "id": "546aa447",
   "metadata": {},
   "outputs": [
    {
     "data": {
      "text/plain": [
       "['₹1,274',\n",
       " '₹3,900',\n",
       " '₹295',\n",
       " '₹249',\n",
       " '₹265',\n",
       " '₹250',\n",
       " '₹185',\n",
       " '₹2,500',\n",
       " '₹639',\n",
       " '₹273',\n",
       " '₹275',\n",
       " '₹3,500',\n",
       " '₹199',\n",
       " '₹249',\n",
       " '₹474',\n",
       " '₹379',\n",
       " '₹249',\n",
       " '₹249',\n",
       " '₹225',\n",
       " '₹649',\n",
       " '₹639',\n",
       " '₹299',\n",
       " '₹221',\n",
       " '₹3,500',\n",
       " '₹269',\n",
       " '₹209',\n",
       " '₹314',\n",
       " '₹2,500',\n",
       " '₹229',\n",
       " '₹219',\n",
       " '₹217',\n",
       " '₹549',\n",
       " '₹210',\n",
       " '₹315',\n",
       " '₹233',\n",
       " '₹1,349',\n",
       " '₹245',\n",
       " '₹719',\n",
       " '₹246',\n",
       " '₹449']"
      ]
     },
     "execution_count": 212,
     "metadata": {},
     "output_type": "execute_result"
    }
   ],
   "source": [
    "#we will get the price using for loop\n",
    "\n",
    "for i in price_tag:\n",
    "    price=i.text\n",
    "    price_list.append(price)\n",
    "price_list"
   ]
  },
  {
   "cell_type": "code",
   "execution_count": 213,
   "id": "2b4d5104",
   "metadata": {},
   "outputs": [
    {
     "data": {
      "text/plain": [
       "[<selenium.webdriver.remote.webelement.WebElement (session=\"cfdcce8833f3dff7bebd8c39c0f921df\", element=\"8620b976-934e-421f-b816-0dd69fbee8b0\")>,\n",
       " <selenium.webdriver.remote.webelement.WebElement (session=\"cfdcce8833f3dff7bebd8c39c0f921df\", element=\"758b6683-9f95-406d-addc-671309796dc5\")>,\n",
       " <selenium.webdriver.remote.webelement.WebElement (session=\"cfdcce8833f3dff7bebd8c39c0f921df\", element=\"f1011c80-ab4b-4ffa-aeaf-8d21b3ed1472\")>,\n",
       " <selenium.webdriver.remote.webelement.WebElement (session=\"cfdcce8833f3dff7bebd8c39c0f921df\", element=\"56e56359-4cb1-4bcc-ae5c-a07313023ebb\")>,\n",
       " <selenium.webdriver.remote.webelement.WebElement (session=\"cfdcce8833f3dff7bebd8c39c0f921df\", element=\"098e1102-c74a-4058-8811-2edf9022b63f\")>,\n",
       " <selenium.webdriver.remote.webelement.WebElement (session=\"cfdcce8833f3dff7bebd8c39c0f921df\", element=\"4c27d974-75b7-4535-af97-3ed151dd0408\")>,\n",
       " <selenium.webdriver.remote.webelement.WebElement (session=\"cfdcce8833f3dff7bebd8c39c0f921df\", element=\"c6c452bd-d2cc-41ff-8b1c-48db15bff9da\")>,\n",
       " <selenium.webdriver.remote.webelement.WebElement (session=\"cfdcce8833f3dff7bebd8c39c0f921df\", element=\"b6dbaadc-cc5c-44eb-9743-201eed6f001a\")>,\n",
       " <selenium.webdriver.remote.webelement.WebElement (session=\"cfdcce8833f3dff7bebd8c39c0f921df\", element=\"03a2e8c6-6dc5-4cd2-aa7c-b4ce6fed4a95\")>,\n",
       " <selenium.webdriver.remote.webelement.WebElement (session=\"cfdcce8833f3dff7bebd8c39c0f921df\", element=\"de5c5d3e-7625-4edf-ae15-4e402e22a418\")>,\n",
       " <selenium.webdriver.remote.webelement.WebElement (session=\"cfdcce8833f3dff7bebd8c39c0f921df\", element=\"041c4be9-365e-4d0b-b75d-650344dfca3e\")>,\n",
       " <selenium.webdriver.remote.webelement.WebElement (session=\"cfdcce8833f3dff7bebd8c39c0f921df\", element=\"b7a7a057-7f93-4e76-81d9-ecd9aac85900\")>,\n",
       " <selenium.webdriver.remote.webelement.WebElement (session=\"cfdcce8833f3dff7bebd8c39c0f921df\", element=\"5a3b3553-cf14-41be-954b-42b039719d16\")>,\n",
       " <selenium.webdriver.remote.webelement.WebElement (session=\"cfdcce8833f3dff7bebd8c39c0f921df\", element=\"00156506-ebd1-45b7-bb14-ba8b2f73cefd\")>,\n",
       " <selenium.webdriver.remote.webelement.WebElement (session=\"cfdcce8833f3dff7bebd8c39c0f921df\", element=\"4cc2c183-3549-43af-8b3e-367616a3225c\")>,\n",
       " <selenium.webdriver.remote.webelement.WebElement (session=\"cfdcce8833f3dff7bebd8c39c0f921df\", element=\"13a31793-45c1-4bae-8e10-5f588127e2a1\")>,\n",
       " <selenium.webdriver.remote.webelement.WebElement (session=\"cfdcce8833f3dff7bebd8c39c0f921df\", element=\"20456168-0bb2-4868-9531-f3fe229b1065\")>,\n",
       " <selenium.webdriver.remote.webelement.WebElement (session=\"cfdcce8833f3dff7bebd8c39c0f921df\", element=\"a70f1cba-fd7e-4b75-837c-a9d4ce70e823\")>,\n",
       " <selenium.webdriver.remote.webelement.WebElement (session=\"cfdcce8833f3dff7bebd8c39c0f921df\", element=\"14feeba1-040f-4691-92dd-0ae434a6714d\")>,\n",
       " <selenium.webdriver.remote.webelement.WebElement (session=\"cfdcce8833f3dff7bebd8c39c0f921df\", element=\"dd12bc5a-4881-4bb2-94e3-31eafaafb52a\")>,\n",
       " <selenium.webdriver.remote.webelement.WebElement (session=\"cfdcce8833f3dff7bebd8c39c0f921df\", element=\"75bc6e8a-b834-4b07-a818-c3de46470b50\")>,\n",
       " <selenium.webdriver.remote.webelement.WebElement (session=\"cfdcce8833f3dff7bebd8c39c0f921df\", element=\"0e553677-9bce-4e02-a2a2-4e71bdc97117\")>,\n",
       " <selenium.webdriver.remote.webelement.WebElement (session=\"cfdcce8833f3dff7bebd8c39c0f921df\", element=\"d50b4647-9d9f-4a59-9058-2a7fb398f4d6\")>,\n",
       " <selenium.webdriver.remote.webelement.WebElement (session=\"cfdcce8833f3dff7bebd8c39c0f921df\", element=\"f2d236a1-d8a7-4d1c-a381-81c5d5dad400\")>,\n",
       " <selenium.webdriver.remote.webelement.WebElement (session=\"cfdcce8833f3dff7bebd8c39c0f921df\", element=\"e0a6e50f-71ef-4362-b861-61b9257e4b74\")>,\n",
       " <selenium.webdriver.remote.webelement.WebElement (session=\"cfdcce8833f3dff7bebd8c39c0f921df\", element=\"6d501617-7f75-49fc-8d4a-bfe906011b97\")>,\n",
       " <selenium.webdriver.remote.webelement.WebElement (session=\"cfdcce8833f3dff7bebd8c39c0f921df\", element=\"e62219e4-fc6c-414d-9c43-67b5f8073c25\")>,\n",
       " <selenium.webdriver.remote.webelement.WebElement (session=\"cfdcce8833f3dff7bebd8c39c0f921df\", element=\"864da050-e01a-4ff5-b80d-86742976a276\")>,\n",
       " <selenium.webdriver.remote.webelement.WebElement (session=\"cfdcce8833f3dff7bebd8c39c0f921df\", element=\"84fc7460-cd94-439f-9ee3-7be97ac84430\")>,\n",
       " <selenium.webdriver.remote.webelement.WebElement (session=\"cfdcce8833f3dff7bebd8c39c0f921df\", element=\"05ba437a-1200-41c7-b068-07aeba365cab\")>,\n",
       " <selenium.webdriver.remote.webelement.WebElement (session=\"cfdcce8833f3dff7bebd8c39c0f921df\", element=\"1bd7d932-926e-4276-a7a9-332e45009852\")>,\n",
       " <selenium.webdriver.remote.webelement.WebElement (session=\"cfdcce8833f3dff7bebd8c39c0f921df\", element=\"ec946b03-6574-450c-981a-eded67ed0b25\")>,\n",
       " <selenium.webdriver.remote.webelement.WebElement (session=\"cfdcce8833f3dff7bebd8c39c0f921df\", element=\"81294a8c-7de5-4069-917d-0d13d94d0f00\")>,\n",
       " <selenium.webdriver.remote.webelement.WebElement (session=\"cfdcce8833f3dff7bebd8c39c0f921df\", element=\"b1540755-630c-4f60-a349-5a0dbd089889\")>,\n",
       " <selenium.webdriver.remote.webelement.WebElement (session=\"cfdcce8833f3dff7bebd8c39c0f921df\", element=\"ef643c4f-3571-4771-9918-4c12eba7b5bb\")>,\n",
       " <selenium.webdriver.remote.webelement.WebElement (session=\"cfdcce8833f3dff7bebd8c39c0f921df\", element=\"3b999b9a-0a09-459e-94e3-7b4632f1757b\")>,\n",
       " <selenium.webdriver.remote.webelement.WebElement (session=\"cfdcce8833f3dff7bebd8c39c0f921df\", element=\"ff173dac-adb6-4ac2-bbfc-0f287466fa7e\")>,\n",
       " <selenium.webdriver.remote.webelement.WebElement (session=\"cfdcce8833f3dff7bebd8c39c0f921df\", element=\"6e43ba4d-308f-4d41-aa5a-4c5b50eb4bea\")>,\n",
       " <selenium.webdriver.remote.webelement.WebElement (session=\"cfdcce8833f3dff7bebd8c39c0f921df\", element=\"99bbfdc0-1abb-42e7-925a-9a9020c8f421\")>,\n",
       " <selenium.webdriver.remote.webelement.WebElement (session=\"cfdcce8833f3dff7bebd8c39c0f921df\", element=\"2d2c8130-292a-470e-8f87-20e4cbcb9157\")>]"
      ]
     },
     "execution_count": 213,
     "metadata": {},
     "output_type": "execute_result"
    }
   ],
   "source": [
    "#extract discount\n",
    "discount_tag=driver.find_elements_by_xpath(\"//div[@class='_3Ay6Sb']/span[1]\")\n",
    "discount_tag"
   ]
  },
  {
   "cell_type": "code",
   "execution_count": 214,
   "id": "543f325f",
   "metadata": {},
   "outputs": [
    {
     "data": {
      "text/plain": [
       "['84% off',\n",
       " '35% off',\n",
       " '88% off',\n",
       " '84% off',\n",
       " '86% off',\n",
       " '80% off',\n",
       " '89% off',\n",
       " '44% off',\n",
       " '20% off',\n",
       " '78% off',\n",
       " '88% off',\n",
       " '22% off',\n",
       " '80% off',\n",
       " '84% off',\n",
       " '76% off',\n",
       " '81% off',\n",
       " '80% off',\n",
       " '84% off',\n",
       " '85% off',\n",
       " '67% off',\n",
       " '20% off',\n",
       " '81% off',\n",
       " '87% off',\n",
       " '30% off',\n",
       " '86% off',\n",
       " '82% off',\n",
       " '81% off',\n",
       " '50% off',\n",
       " '77% off',\n",
       " '78% off',\n",
       " '81% off',\n",
       " '26% off',\n",
       " '85% off',\n",
       " '68% off',\n",
       " '76% off',\n",
       " '83% off',\n",
       " '83% off',\n",
       " '20% off',\n",
       " '75% off',\n",
       " '77% off']"
      ]
     },
     "execution_count": 214,
     "metadata": {},
     "output_type": "execute_result"
    }
   ],
   "source": [
    "#we will get the discount text using for loop\n",
    "\n",
    "for i in discount_tag:\n",
    "    discount=i.text\n",
    "    discount_per_list.append(discount)\n",
    "discount_per_list"
   ]
  },
  {
   "cell_type": "code",
   "execution_count": 215,
   "id": "a72598a2",
   "metadata": {},
   "outputs": [
    {
     "name": "stdout",
     "output_type": "stream",
     "text": [
      "40 40 40 40\n"
     ]
    }
   ],
   "source": [
    "print(len(brand_names_list), len(product_disc_list), len(price_list), len(discount_per_list))"
   ]
  },
  {
   "cell_type": "code",
   "execution_count": 216,
   "id": "c361b14d",
   "metadata": {},
   "outputs": [],
   "source": [
    "#, go to the “Next” Button at the bottom ofthe page , then click on it.\n",
    "next_button=driver.find_element_by_xpath(\"/html/body/div[1]/div/div[3]/div[1]/div[2]/div[12]/div/div/nav/a[11]\")\n",
    "next_button.click()"
   ]
  },
  {
   "cell_type": "code",
   "execution_count": 217,
   "id": "68721c6f",
   "metadata": {},
   "outputs": [
    {
     "data": {
      "text/plain": [
       "[<selenium.webdriver.remote.webelement.WebElement (session=\"cfdcce8833f3dff7bebd8c39c0f921df\", element=\"4b886115-60ad-45af-9a90-a37d516e8f5c\")>,\n",
       " <selenium.webdriver.remote.webelement.WebElement (session=\"cfdcce8833f3dff7bebd8c39c0f921df\", element=\"b3a62943-a1ac-4dce-a29a-5b41df2ee29a\")>,\n",
       " <selenium.webdriver.remote.webelement.WebElement (session=\"cfdcce8833f3dff7bebd8c39c0f921df\", element=\"f10ea073-6d65-4a82-838c-f60678d89e3c\")>,\n",
       " <selenium.webdriver.remote.webelement.WebElement (session=\"cfdcce8833f3dff7bebd8c39c0f921df\", element=\"f8b2bfb0-17b7-46bc-8bcb-69e6a041d630\")>,\n",
       " <selenium.webdriver.remote.webelement.WebElement (session=\"cfdcce8833f3dff7bebd8c39c0f921df\", element=\"febbbe90-7edc-45ab-9b93-455beeb29f90\")>,\n",
       " <selenium.webdriver.remote.webelement.WebElement (session=\"cfdcce8833f3dff7bebd8c39c0f921df\", element=\"609284b0-908d-4316-ae02-a9237962dd6c\")>,\n",
       " <selenium.webdriver.remote.webelement.WebElement (session=\"cfdcce8833f3dff7bebd8c39c0f921df\", element=\"f8e36038-1404-4ad5-9068-c1b87d2ec60a\")>,\n",
       " <selenium.webdriver.remote.webelement.WebElement (session=\"cfdcce8833f3dff7bebd8c39c0f921df\", element=\"d77750fe-2966-4d09-a433-ed60f731ca6c\")>,\n",
       " <selenium.webdriver.remote.webelement.WebElement (session=\"cfdcce8833f3dff7bebd8c39c0f921df\", element=\"861a685f-72d1-4636-adfe-ca8d693b2e5d\")>,\n",
       " <selenium.webdriver.remote.webelement.WebElement (session=\"cfdcce8833f3dff7bebd8c39c0f921df\", element=\"f5ea23b1-f48b-4373-b9e3-3a205eea53b9\")>,\n",
       " <selenium.webdriver.remote.webelement.WebElement (session=\"cfdcce8833f3dff7bebd8c39c0f921df\", element=\"8756b7d5-fda4-4a75-b323-004d292a2e26\")>,\n",
       " <selenium.webdriver.remote.webelement.WebElement (session=\"cfdcce8833f3dff7bebd8c39c0f921df\", element=\"b18b8d39-9d1a-4272-a112-1895642041bf\")>,\n",
       " <selenium.webdriver.remote.webelement.WebElement (session=\"cfdcce8833f3dff7bebd8c39c0f921df\", element=\"29ad33a1-bd3e-4bde-9844-ad41655317ed\")>,\n",
       " <selenium.webdriver.remote.webelement.WebElement (session=\"cfdcce8833f3dff7bebd8c39c0f921df\", element=\"33c55f34-1df8-4902-bfd6-fa4c53d0964b\")>,\n",
       " <selenium.webdriver.remote.webelement.WebElement (session=\"cfdcce8833f3dff7bebd8c39c0f921df\", element=\"edbd0457-ac6b-41ca-a4e2-690949470018\")>,\n",
       " <selenium.webdriver.remote.webelement.WebElement (session=\"cfdcce8833f3dff7bebd8c39c0f921df\", element=\"56713d57-532a-415f-b87f-a6e8bf6cd546\")>,\n",
       " <selenium.webdriver.remote.webelement.WebElement (session=\"cfdcce8833f3dff7bebd8c39c0f921df\", element=\"e4a933be-ea0a-45d5-8b59-39d31fcf6853\")>,\n",
       " <selenium.webdriver.remote.webelement.WebElement (session=\"cfdcce8833f3dff7bebd8c39c0f921df\", element=\"bde169cc-9299-4a95-b803-309c9e4d8b1c\")>,\n",
       " <selenium.webdriver.remote.webelement.WebElement (session=\"cfdcce8833f3dff7bebd8c39c0f921df\", element=\"e7ae83f4-4377-415e-8f37-118add604f34\")>,\n",
       " <selenium.webdriver.remote.webelement.WebElement (session=\"cfdcce8833f3dff7bebd8c39c0f921df\", element=\"ce583c79-9f39-4bc7-8e10-79fc9a78e826\")>,\n",
       " <selenium.webdriver.remote.webelement.WebElement (session=\"cfdcce8833f3dff7bebd8c39c0f921df\", element=\"318d4522-69a3-46a4-bfe0-e1352c82a758\")>,\n",
       " <selenium.webdriver.remote.webelement.WebElement (session=\"cfdcce8833f3dff7bebd8c39c0f921df\", element=\"ae9fa774-d253-460e-ae56-5777ba3b0fb5\")>,\n",
       " <selenium.webdriver.remote.webelement.WebElement (session=\"cfdcce8833f3dff7bebd8c39c0f921df\", element=\"6878afe9-2393-423b-bc9b-7e98c790c240\")>,\n",
       " <selenium.webdriver.remote.webelement.WebElement (session=\"cfdcce8833f3dff7bebd8c39c0f921df\", element=\"92b6bf1f-88c5-408c-bdf2-d4002c1cb6cb\")>,\n",
       " <selenium.webdriver.remote.webelement.WebElement (session=\"cfdcce8833f3dff7bebd8c39c0f921df\", element=\"bfa10d2e-edbd-4e2d-8db3-16582211cbcd\")>,\n",
       " <selenium.webdriver.remote.webelement.WebElement (session=\"cfdcce8833f3dff7bebd8c39c0f921df\", element=\"7a24f252-d15a-4510-a3b6-95b83d0f716c\")>,\n",
       " <selenium.webdriver.remote.webelement.WebElement (session=\"cfdcce8833f3dff7bebd8c39c0f921df\", element=\"22fbdf90-579e-4502-8cab-6f5719c5aa24\")>,\n",
       " <selenium.webdriver.remote.webelement.WebElement (session=\"cfdcce8833f3dff7bebd8c39c0f921df\", element=\"6438c83e-af64-4d8d-95ee-56f8299be9c3\")>,\n",
       " <selenium.webdriver.remote.webelement.WebElement (session=\"cfdcce8833f3dff7bebd8c39c0f921df\", element=\"33350234-e4bc-48bf-b4d3-9cf5ba22bcea\")>,\n",
       " <selenium.webdriver.remote.webelement.WebElement (session=\"cfdcce8833f3dff7bebd8c39c0f921df\", element=\"70a21c6b-f90f-46ce-baa4-8b530490a618\")>,\n",
       " <selenium.webdriver.remote.webelement.WebElement (session=\"cfdcce8833f3dff7bebd8c39c0f921df\", element=\"fc70c8da-cfbb-47f8-89ca-db6901ceeb21\")>,\n",
       " <selenium.webdriver.remote.webelement.WebElement (session=\"cfdcce8833f3dff7bebd8c39c0f921df\", element=\"6531ed7e-fd5b-4461-9fbe-f0c6d5cb840d\")>,\n",
       " <selenium.webdriver.remote.webelement.WebElement (session=\"cfdcce8833f3dff7bebd8c39c0f921df\", element=\"b6ea28cf-c72e-4dda-ab98-0590ac78a8ed\")>,\n",
       " <selenium.webdriver.remote.webelement.WebElement (session=\"cfdcce8833f3dff7bebd8c39c0f921df\", element=\"321834a8-0a2b-4ad4-ba4f-18f2bffb0c05\")>,\n",
       " <selenium.webdriver.remote.webelement.WebElement (session=\"cfdcce8833f3dff7bebd8c39c0f921df\", element=\"5817e58e-61af-45ff-80fb-8f00c35815b5\")>,\n",
       " <selenium.webdriver.remote.webelement.WebElement (session=\"cfdcce8833f3dff7bebd8c39c0f921df\", element=\"2b1d8ac0-2441-4087-ae66-97a39a299c6e\")>,\n",
       " <selenium.webdriver.remote.webelement.WebElement (session=\"cfdcce8833f3dff7bebd8c39c0f921df\", element=\"852bd209-0188-4c9f-ad3a-56b19b917ad2\")>,\n",
       " <selenium.webdriver.remote.webelement.WebElement (session=\"cfdcce8833f3dff7bebd8c39c0f921df\", element=\"1b64f70d-b5a1-4ef9-9ff4-43bf0234819b\")>,\n",
       " <selenium.webdriver.remote.webelement.WebElement (session=\"cfdcce8833f3dff7bebd8c39c0f921df\", element=\"7e38ea40-cf96-4938-8d27-e0eb4167cc61\")>,\n",
       " <selenium.webdriver.remote.webelement.WebElement (session=\"cfdcce8833f3dff7bebd8c39c0f921df\", element=\"b7172fb9-31ef-4149-9b67-e78a3292e8e7\")>]"
      ]
     },
     "execution_count": 217,
     "metadata": {},
     "output_type": "execute_result"
    }
   ],
   "source": [
    "#extract brand names\n",
    "brand_names=driver.find_elements_by_xpath(\"//div[@class='_2WkVRV']\")\n",
    "brand_names"
   ]
  },
  {
   "cell_type": "code",
   "execution_count": 218,
   "id": "7d5264ec",
   "metadata": {},
   "outputs": [
    {
     "data": {
      "text/plain": [
       "['CART2DEAL',\n",
       " 'john jacobs',\n",
       " 'Elligator',\n",
       " 'PIRASO',\n",
       " 'New Specs',\n",
       " 'SRPM',\n",
       " 'SHAAH COLLECTIONS',\n",
       " 'john jacobs',\n",
       " 'Fastrack',\n",
       " 'SUNBEE',\n",
       " 'Lee Topper',\n",
       " 'john jacobs',\n",
       " 'Lee Topper',\n",
       " 'PIRASO',\n",
       " 'ROZZETTA CRAFT',\n",
       " 'ROZZETTA CRAFT',\n",
       " 'SUNBEE',\n",
       " 'PIRASO',\n",
       " 'PIRASO',\n",
       " 'VINCENT CHASE',\n",
       " 'Fastrack',\n",
       " 'New Specs',\n",
       " 'GANSTA',\n",
       " 'john jacobs',\n",
       " 'kingsunglasses',\n",
       " 'kingsunglasses',\n",
       " 'SUNBEE',\n",
       " 'john jacobs',\n",
       " 'Elligator',\n",
       " 'SRPM',\n",
       " 'DEIXELS',\n",
       " 'VILLAIN',\n",
       " 'hipe',\n",
       " 'PHENOMENAL',\n",
       " 'hipe',\n",
       " 'LOUIS KOUROS',\n",
       " 'Singco India',\n",
       " 'Fastrack',\n",
       " 'SRPM',\n",
       " 'ROZZETTA CRAFT',\n",
       " 'SHAAH COLLECTIONS',\n",
       " 'kingsunglasses',\n",
       " 'Fastrack',\n",
       " 'LOUIS KOUROS',\n",
       " 'ROZZETTA CRAFT',\n",
       " 'kingsunglasses',\n",
       " 'hipe',\n",
       " 'ROZZETTA CRAFT',\n",
       " 'ROZZETTA CRAFT',\n",
       " 'hipe',\n",
       " 'PIRASO',\n",
       " 'john jacobs',\n",
       " 'kingsunglasses',\n",
       " 'kingsunglasses',\n",
       " 'HIPPON',\n",
       " 'ROZZETTA CRAFT',\n",
       " 'Fastrack',\n",
       " 'hipe',\n",
       " 'Fastrack',\n",
       " 'LOUIS KOUROS',\n",
       " 'Fastrack',\n",
       " 'elegante',\n",
       " 'GANSTA',\n",
       " 'SKYZA INDIA',\n",
       " 'Fastrack',\n",
       " 'ROYAL SON',\n",
       " 'NuVew',\n",
       " 'VINCENT CHASE',\n",
       " 'ROZZETTA CRAFT',\n",
       " 'PHENOMENAL',\n",
       " 'PHENOMENAL',\n",
       " 'VINCENT CHASE',\n",
       " 'Lee Topper',\n",
       " 'New Specs',\n",
       " 'AISLIN',\n",
       " 'john jacobs',\n",
       " 'SUNBEE',\n",
       " 'kingsunglasses',\n",
       " 'SRPM',\n",
       " 'VINCENT CHASE']"
      ]
     },
     "execution_count": 218,
     "metadata": {},
     "output_type": "execute_result"
    }
   ],
   "source": [
    "#we will get the brand name text using for loop\n",
    "\n",
    "for i in brand_names:\n",
    "    brand=i.text\n",
    "    brand_names_list.append(brand)\n",
    "brand_names_list"
   ]
  },
  {
   "cell_type": "code",
   "execution_count": 219,
   "id": "3ccf4b0c",
   "metadata": {},
   "outputs": [
    {
     "data": {
      "text/plain": [
       "[<selenium.webdriver.remote.webelement.WebElement (session=\"cfdcce8833f3dff7bebd8c39c0f921df\", element=\"ebc33606-d2dd-420c-8814-0e230f31b68e\")>,\n",
       " <selenium.webdriver.remote.webelement.WebElement (session=\"cfdcce8833f3dff7bebd8c39c0f921df\", element=\"9e605457-a201-42a0-a300-32846228851c\")>,\n",
       " <selenium.webdriver.remote.webelement.WebElement (session=\"cfdcce8833f3dff7bebd8c39c0f921df\", element=\"d85a2be5-cde7-47a4-89a9-c02e38851b8e\")>,\n",
       " <selenium.webdriver.remote.webelement.WebElement (session=\"cfdcce8833f3dff7bebd8c39c0f921df\", element=\"fd04724c-d52b-4668-8380-47f506d0b8ef\")>,\n",
       " <selenium.webdriver.remote.webelement.WebElement (session=\"cfdcce8833f3dff7bebd8c39c0f921df\", element=\"1429e704-9c99-483f-8300-bcb3f3ac8b36\")>,\n",
       " <selenium.webdriver.remote.webelement.WebElement (session=\"cfdcce8833f3dff7bebd8c39c0f921df\", element=\"07cd2752-e1da-44c4-bfc6-d0b54c3be523\")>,\n",
       " <selenium.webdriver.remote.webelement.WebElement (session=\"cfdcce8833f3dff7bebd8c39c0f921df\", element=\"b24ca5a0-994b-4b99-aa2a-911a8a78a70d\")>,\n",
       " <selenium.webdriver.remote.webelement.WebElement (session=\"cfdcce8833f3dff7bebd8c39c0f921df\", element=\"3bfd9d94-98d2-45b2-b50d-100aee79ebf8\")>,\n",
       " <selenium.webdriver.remote.webelement.WebElement (session=\"cfdcce8833f3dff7bebd8c39c0f921df\", element=\"3817a02e-e2b6-48f6-9814-eb9da89c022f\")>,\n",
       " <selenium.webdriver.remote.webelement.WebElement (session=\"cfdcce8833f3dff7bebd8c39c0f921df\", element=\"316b1440-c1d6-4d4f-94a5-2528e8f97871\")>,\n",
       " <selenium.webdriver.remote.webelement.WebElement (session=\"cfdcce8833f3dff7bebd8c39c0f921df\", element=\"d17240a3-8f15-43bc-a499-3c2fd7423447\")>,\n",
       " <selenium.webdriver.remote.webelement.WebElement (session=\"cfdcce8833f3dff7bebd8c39c0f921df\", element=\"29ec9bab-872f-46b6-81e4-8a9666fd7861\")>,\n",
       " <selenium.webdriver.remote.webelement.WebElement (session=\"cfdcce8833f3dff7bebd8c39c0f921df\", element=\"4eb6e08b-0093-43a6-a37b-ac9a87175d69\")>,\n",
       " <selenium.webdriver.remote.webelement.WebElement (session=\"cfdcce8833f3dff7bebd8c39c0f921df\", element=\"f01e4ab4-b21e-4631-8bf4-cdac6850834b\")>,\n",
       " <selenium.webdriver.remote.webelement.WebElement (session=\"cfdcce8833f3dff7bebd8c39c0f921df\", element=\"39bb52a0-1d16-4d4d-a67c-ba6cd726aaf5\")>,\n",
       " <selenium.webdriver.remote.webelement.WebElement (session=\"cfdcce8833f3dff7bebd8c39c0f921df\", element=\"4e70b126-5a89-438e-a1f5-39792dd7248e\")>,\n",
       " <selenium.webdriver.remote.webelement.WebElement (session=\"cfdcce8833f3dff7bebd8c39c0f921df\", element=\"fd455d4a-a299-46b9-80a3-ad72afd98002\")>,\n",
       " <selenium.webdriver.remote.webelement.WebElement (session=\"cfdcce8833f3dff7bebd8c39c0f921df\", element=\"4bd5a6c9-1783-470b-b171-c6213ec6b43a\")>,\n",
       " <selenium.webdriver.remote.webelement.WebElement (session=\"cfdcce8833f3dff7bebd8c39c0f921df\", element=\"198ebe52-45f8-448e-abcc-19ea6821c28b\")>,\n",
       " <selenium.webdriver.remote.webelement.WebElement (session=\"cfdcce8833f3dff7bebd8c39c0f921df\", element=\"fbaed941-294f-47fc-9f9e-35cd1fb23f5c\")>,\n",
       " <selenium.webdriver.remote.webelement.WebElement (session=\"cfdcce8833f3dff7bebd8c39c0f921df\", element=\"e27a4f93-17a0-46b3-a5ea-0ba03a4adf5f\")>,\n",
       " <selenium.webdriver.remote.webelement.WebElement (session=\"cfdcce8833f3dff7bebd8c39c0f921df\", element=\"6c222462-f7de-41dc-8992-55db25c8390d\")>,\n",
       " <selenium.webdriver.remote.webelement.WebElement (session=\"cfdcce8833f3dff7bebd8c39c0f921df\", element=\"345e9b7e-aac3-48db-a436-bf40bcae441a\")>,\n",
       " <selenium.webdriver.remote.webelement.WebElement (session=\"cfdcce8833f3dff7bebd8c39c0f921df\", element=\"761f5270-576c-4995-a93e-b55c9548ee19\")>,\n",
       " <selenium.webdriver.remote.webelement.WebElement (session=\"cfdcce8833f3dff7bebd8c39c0f921df\", element=\"46d2ffcf-dd4f-4550-816f-31751720d03b\")>,\n",
       " <selenium.webdriver.remote.webelement.WebElement (session=\"cfdcce8833f3dff7bebd8c39c0f921df\", element=\"0ca9fb3d-2ef8-4423-abec-6185e239fd78\")>,\n",
       " <selenium.webdriver.remote.webelement.WebElement (session=\"cfdcce8833f3dff7bebd8c39c0f921df\", element=\"366f76fa-176c-448c-bd51-87ddbdc21a0c\")>,\n",
       " <selenium.webdriver.remote.webelement.WebElement (session=\"cfdcce8833f3dff7bebd8c39c0f921df\", element=\"0091b34d-f197-4865-96c2-9264db7f6e26\")>,\n",
       " <selenium.webdriver.remote.webelement.WebElement (session=\"cfdcce8833f3dff7bebd8c39c0f921df\", element=\"aff90081-d1d2-4a0a-915e-b7f0b8c6d09a\")>,\n",
       " <selenium.webdriver.remote.webelement.WebElement (session=\"cfdcce8833f3dff7bebd8c39c0f921df\", element=\"85ec9461-f6e9-43b6-8c16-de0d4cd2c21b\")>,\n",
       " <selenium.webdriver.remote.webelement.WebElement (session=\"cfdcce8833f3dff7bebd8c39c0f921df\", element=\"9001b768-f0a1-4320-9a1f-caf21a4d58a7\")>,\n",
       " <selenium.webdriver.remote.webelement.WebElement (session=\"cfdcce8833f3dff7bebd8c39c0f921df\", element=\"a5608659-fbca-4c79-bd59-5886950be928\")>,\n",
       " <selenium.webdriver.remote.webelement.WebElement (session=\"cfdcce8833f3dff7bebd8c39c0f921df\", element=\"a5ee898f-d59a-418b-a19e-9e5a3d760b84\")>,\n",
       " <selenium.webdriver.remote.webelement.WebElement (session=\"cfdcce8833f3dff7bebd8c39c0f921df\", element=\"cd07ae2c-9bf4-4d20-8208-2f3bc4b4f6ce\")>,\n",
       " <selenium.webdriver.remote.webelement.WebElement (session=\"cfdcce8833f3dff7bebd8c39c0f921df\", element=\"fa1a05b0-52b1-4add-b2f6-2a8ca289e841\")>,\n",
       " <selenium.webdriver.remote.webelement.WebElement (session=\"cfdcce8833f3dff7bebd8c39c0f921df\", element=\"80aab0ca-fe97-4753-9bea-5eb25cca2c12\")>,\n",
       " <selenium.webdriver.remote.webelement.WebElement (session=\"cfdcce8833f3dff7bebd8c39c0f921df\", element=\"4162e3d8-45c3-4134-97b5-81ed609d9849\")>,\n",
       " <selenium.webdriver.remote.webelement.WebElement (session=\"cfdcce8833f3dff7bebd8c39c0f921df\", element=\"23ca8e8f-b797-404b-aef8-7159b5f75bf1\")>,\n",
       " <selenium.webdriver.remote.webelement.WebElement (session=\"cfdcce8833f3dff7bebd8c39c0f921df\", element=\"9624da66-8d0a-4bf8-8697-50f895602665\")>,\n",
       " <selenium.webdriver.remote.webelement.WebElement (session=\"cfdcce8833f3dff7bebd8c39c0f921df\", element=\"119c105d-f163-4044-8617-2c7c9f775fad\")>]"
      ]
     },
     "execution_count": 219,
     "metadata": {},
     "output_type": "execute_result"
    }
   ],
   "source": [
    "#extract product-disc\n",
    "product_disc=driver.find_elements_by_xpath(\"//a[@class='IRpwTa']\")\n",
    "product_disc"
   ]
  },
  {
   "cell_type": "code",
   "execution_count": 220,
   "id": "e1e19e71",
   "metadata": {},
   "outputs": [
    {
     "data": {
      "text/plain": [
       "['Riding Glasses, UV Protection, Mirrored Retro Square Su...',\n",
       " 'UV Protection Clubmaster Sunglasses (47)',\n",
       " 'UV Protection Round Sunglasses (54)',\n",
       " 'UV Protection Aviator Sunglasses (54)',\n",
       " 'UV Protection Rectangular Sunglasses (Free Size)',\n",
       " 'UV Protection Wayfarer Sunglasses (50)',\n",
       " 'UV Protection, Polarized, Mirrored Rectangular Sunglass...',\n",
       " 'Polarized, UV Protection Aviator Sunglasses (53)',\n",
       " 'UV Protection Rectangular Sunglasses (Free Size)',\n",
       " 'UV Protection, Polarized Wayfarer Sunglasses (Free Size...',\n",
       " 'Riding Glasses Wrap-around Sunglasses (Free Size)',\n",
       " 'Polarized, UV Protection Retro Square Sunglasses (54)',\n",
       " 'UV Protection Rectangular Sunglasses (Free Size)',\n",
       " 'UV Protection Aviator Sunglasses (54)',\n",
       " 'Polarized, Riding Glasses Sports, Wrap-around Sunglasse...',\n",
       " 'UV Protection, Gradient Rectangular Sunglasses (Free Si...',\n",
       " 'UV Protection, Polarized, Mirrored Retro Square Sunglas...',\n",
       " 'UV Protection Aviator Sunglasses (54)',\n",
       " 'UV Protection Wayfarer Sunglasses (32)',\n",
       " 'UV Protection Rectangular Sunglasses (50)',\n",
       " 'Gradient, UV Protection Wayfarer Sunglasses (Free Size)',\n",
       " 'Mirrored, UV Protection, Riding Glasses, Others Round S...',\n",
       " 'UV Protection, Riding Glasses Wayfarer Sunglasses (53)',\n",
       " 'UV Protection Aviator Sunglasses (55)',\n",
       " 'Mirrored, UV Protection Wayfarer Sunglasses (Free Size)',\n",
       " 'UV Protection, Riding Glasses, Mirrored Wayfarer Sungla...',\n",
       " 'UV Protection, Polarized, Mirrored Round Sunglasses (Fr...',\n",
       " 'UV Protection Round Sunglasses (54)',\n",
       " 'UV Protection Round Sunglasses (53)',\n",
       " 'UV Protection Wayfarer Sunglasses (54)',\n",
       " 'UV Protection Aviator, Wayfarer Sunglasses (Free Size)',\n",
       " 'Others Retro Square Sunglasses (Free Size)',\n",
       " 'Mirrored, UV Protection, Gradient Round Sunglasses (55)',\n",
       " 'UV Protection Retro Square Sunglasses (53)',\n",
       " 'UV Protection, Gradient, Mirrored, Riding Glasses Aviat...',\n",
       " 'UV Protection, Riding Glasses, Mirrored Aviator Sunglas...',\n",
       " 'Riding Glasses, UV Protection, Others Aviator Sunglasse...',\n",
       " 'UV Protection Wayfarer Sunglasses (Free Size)',\n",
       " 'UV Protection Wayfarer Sunglasses (53)',\n",
       " 'UV Protection, Gradient Rectangular Sunglasses (Free Si...',\n",
       " 'UV Protection, Polarized, Mirrored Rectangular Sunglass...',\n",
       " 'Mirrored, UV Protection Aviator Sunglasses (56)',\n",
       " 'UV Protection Shield Sunglasses (Free Size)',\n",
       " 'UV Protection, Riding Glasses, Mirrored Aviator Sunglas...',\n",
       " 'UV Protection Retro Square Sunglasses (Free Size)',\n",
       " 'UV Protection Rectangular Sunglasses (55)',\n",
       " 'UV Protection Sports Sunglasses (Free Size)',\n",
       " 'UV Protection Aviator Sunglasses (62)',\n",
       " 'UV Protection, Gradient Retro Square Sunglasses (Free S...',\n",
       " 'Mirrored Wayfarer Sunglasses (55)',\n",
       " 'UV Protection Over-sized Sunglasses (65)',\n",
       " 'Polarized, UV Protection Round Sunglasses (50)',\n",
       " 'UV Protection Round Sunglasses (54)',\n",
       " 'UV Protection Round Sunglasses (Free Size)',\n",
       " 'UV Protection Wayfarer Sunglasses (55)',\n",
       " 'Polarized, UV Protection Wayfarer Sunglasses (Free Size...',\n",
       " 'UV Protection Aviator Sunglasses (57)',\n",
       " 'Mirrored, Gradient, Riding Glasses Round Sunglasses (55...',\n",
       " 'UV Protection Aviator Sunglasses (Free Size)',\n",
       " 'UV Protection Aviator Sunglasses (60)',\n",
       " 'UV Protection Wayfarer Sunglasses (55)',\n",
       " 'Polarized, Riding Glasses, Night Vision Sports, Wrap-ar...',\n",
       " 'UV Protection Aviator Sunglasses (57)',\n",
       " 'Polarized, UV Protection Sports Sunglasses (Free Size)',\n",
       " 'UV Protection Wayfarer Sunglasses (Free Size)',\n",
       " 'UV Protection Rectangular, Retro Square Sunglasses (58)',\n",
       " 'UV Protection Aviator Sunglasses (57)',\n",
       " 'by Lenskart Polarized, UV Protection Aviator Sunglasses...',\n",
       " 'UV Protection Round Sunglasses (Free Size)',\n",
       " 'UV Protection Retro Square Sunglasses (Free Size)',\n",
       " 'UV Protection, Mirrored Clubmaster Sunglasses (Free Siz...',\n",
       " 'by Lenskart Polarized, UV Protection Round Sunglasses (...',\n",
       " 'Riding Glasses, Night Vision Wrap-around Sunglasses (Fr...',\n",
       " 'UV Protection Round Sunglasses (Free Size)',\n",
       " 'UV Protection, Gradient Round, Cat-eye Sunglasses (60)',\n",
       " 'UV Protection Wayfarer Sunglasses (Free Size)',\n",
       " 'UV Protection, Polarized, Mirrored Round Sunglasses (Fr...',\n",
       " 'UV Protection Round Sunglasses (Free Size)',\n",
       " 'Others Wayfarer, Retro Square Sunglasses (50)',\n",
       " 'UV Protection Wayfarer Sunglasses (55)']"
      ]
     },
     "execution_count": 220,
     "metadata": {},
     "output_type": "execute_result"
    }
   ],
   "source": [
    "#we will get the product disc text using for loop\n",
    "\n",
    "for i in product_disc:\n",
    "    product=i.text\n",
    "    product_disc_list.append(product)\n",
    "product_disc_list"
   ]
  },
  {
   "cell_type": "code",
   "execution_count": 221,
   "id": "556c3e14",
   "metadata": {},
   "outputs": [
    {
     "data": {
      "text/plain": [
       "[<selenium.webdriver.remote.webelement.WebElement (session=\"cfdcce8833f3dff7bebd8c39c0f921df\", element=\"433585e5-f39a-4697-8887-356c291c088d\")>,\n",
       " <selenium.webdriver.remote.webelement.WebElement (session=\"cfdcce8833f3dff7bebd8c39c0f921df\", element=\"ce5c9e7c-f99e-493c-80d9-993932431406\")>,\n",
       " <selenium.webdriver.remote.webelement.WebElement (session=\"cfdcce8833f3dff7bebd8c39c0f921df\", element=\"504b9b09-c2f4-4664-99a0-d87991ec6f81\")>,\n",
       " <selenium.webdriver.remote.webelement.WebElement (session=\"cfdcce8833f3dff7bebd8c39c0f921df\", element=\"53d02951-5e71-4cfc-a35a-2a89d8e47c6c\")>,\n",
       " <selenium.webdriver.remote.webelement.WebElement (session=\"cfdcce8833f3dff7bebd8c39c0f921df\", element=\"3ec594d4-11a6-4024-bd12-c33e9f4a8086\")>,\n",
       " <selenium.webdriver.remote.webelement.WebElement (session=\"cfdcce8833f3dff7bebd8c39c0f921df\", element=\"60e38a5d-e148-4a8b-ae0d-3a716860ced8\")>,\n",
       " <selenium.webdriver.remote.webelement.WebElement (session=\"cfdcce8833f3dff7bebd8c39c0f921df\", element=\"ff86febf-3d87-4348-906b-4d6f5845069b\")>,\n",
       " <selenium.webdriver.remote.webelement.WebElement (session=\"cfdcce8833f3dff7bebd8c39c0f921df\", element=\"3fa5d748-b7ae-4ee9-9444-40b9e51d5415\")>,\n",
       " <selenium.webdriver.remote.webelement.WebElement (session=\"cfdcce8833f3dff7bebd8c39c0f921df\", element=\"2c5f0488-78ee-414d-9c3c-d6991ed0dd88\")>,\n",
       " <selenium.webdriver.remote.webelement.WebElement (session=\"cfdcce8833f3dff7bebd8c39c0f921df\", element=\"dfa46e04-d593-4f32-9bea-f517ba74f352\")>,\n",
       " <selenium.webdriver.remote.webelement.WebElement (session=\"cfdcce8833f3dff7bebd8c39c0f921df\", element=\"60db0f37-e40c-4a58-be8e-1d871c6ee083\")>,\n",
       " <selenium.webdriver.remote.webelement.WebElement (session=\"cfdcce8833f3dff7bebd8c39c0f921df\", element=\"1de9148d-bdd4-496d-85b1-9b5ca7940d36\")>,\n",
       " <selenium.webdriver.remote.webelement.WebElement (session=\"cfdcce8833f3dff7bebd8c39c0f921df\", element=\"2ff46d57-8b5e-4776-8224-ef9f83a68765\")>,\n",
       " <selenium.webdriver.remote.webelement.WebElement (session=\"cfdcce8833f3dff7bebd8c39c0f921df\", element=\"19d73217-d741-4af1-9fa2-82705b692ec3\")>,\n",
       " <selenium.webdriver.remote.webelement.WebElement (session=\"cfdcce8833f3dff7bebd8c39c0f921df\", element=\"2ffb2ebd-7914-4ea1-817e-0c888354000c\")>,\n",
       " <selenium.webdriver.remote.webelement.WebElement (session=\"cfdcce8833f3dff7bebd8c39c0f921df\", element=\"1fee4ee2-cca2-4677-aff3-d24df98d8369\")>,\n",
       " <selenium.webdriver.remote.webelement.WebElement (session=\"cfdcce8833f3dff7bebd8c39c0f921df\", element=\"d612bc03-7a68-491f-9c62-bb4c960fa729\")>,\n",
       " <selenium.webdriver.remote.webelement.WebElement (session=\"cfdcce8833f3dff7bebd8c39c0f921df\", element=\"897124b8-b9b8-4fdd-81c0-f2e8bba17622\")>,\n",
       " <selenium.webdriver.remote.webelement.WebElement (session=\"cfdcce8833f3dff7bebd8c39c0f921df\", element=\"36f38e41-e86d-48f4-91e2-0ca54ed97efe\")>,\n",
       " <selenium.webdriver.remote.webelement.WebElement (session=\"cfdcce8833f3dff7bebd8c39c0f921df\", element=\"cdec21be-469c-43ac-911a-bd534bd2aebe\")>,\n",
       " <selenium.webdriver.remote.webelement.WebElement (session=\"cfdcce8833f3dff7bebd8c39c0f921df\", element=\"3319a111-5341-4de1-b2e2-87d8c7686cc5\")>,\n",
       " <selenium.webdriver.remote.webelement.WebElement (session=\"cfdcce8833f3dff7bebd8c39c0f921df\", element=\"b7ab92ea-26d2-4c61-b693-b7f1b73ff5ab\")>,\n",
       " <selenium.webdriver.remote.webelement.WebElement (session=\"cfdcce8833f3dff7bebd8c39c0f921df\", element=\"913c359d-729f-4fc1-a8ea-a85f5f8711b6\")>,\n",
       " <selenium.webdriver.remote.webelement.WebElement (session=\"cfdcce8833f3dff7bebd8c39c0f921df\", element=\"c98f0f5c-7a1b-42d2-88e4-ba95bacc4ddb\")>,\n",
       " <selenium.webdriver.remote.webelement.WebElement (session=\"cfdcce8833f3dff7bebd8c39c0f921df\", element=\"fe7e9c57-cc13-46b7-b8f5-012a6141998e\")>,\n",
       " <selenium.webdriver.remote.webelement.WebElement (session=\"cfdcce8833f3dff7bebd8c39c0f921df\", element=\"bf9a5f42-43ff-4991-b5e5-be344c300159\")>,\n",
       " <selenium.webdriver.remote.webelement.WebElement (session=\"cfdcce8833f3dff7bebd8c39c0f921df\", element=\"59adb4b7-fe48-4f83-a4ef-d210fc2f51e7\")>,\n",
       " <selenium.webdriver.remote.webelement.WebElement (session=\"cfdcce8833f3dff7bebd8c39c0f921df\", element=\"e66fa9c4-9a69-4d47-8e59-d9a9619a28e4\")>,\n",
       " <selenium.webdriver.remote.webelement.WebElement (session=\"cfdcce8833f3dff7bebd8c39c0f921df\", element=\"381292de-84a2-45da-9920-e7a204615e96\")>,\n",
       " <selenium.webdriver.remote.webelement.WebElement (session=\"cfdcce8833f3dff7bebd8c39c0f921df\", element=\"d9ebeb38-f525-4a22-a95e-c10714be7274\")>,\n",
       " <selenium.webdriver.remote.webelement.WebElement (session=\"cfdcce8833f3dff7bebd8c39c0f921df\", element=\"213f23d8-2536-4274-a524-7764c413b108\")>,\n",
       " <selenium.webdriver.remote.webelement.WebElement (session=\"cfdcce8833f3dff7bebd8c39c0f921df\", element=\"34177457-5159-495f-baf1-cb01086627bb\")>,\n",
       " <selenium.webdriver.remote.webelement.WebElement (session=\"cfdcce8833f3dff7bebd8c39c0f921df\", element=\"b279fe5b-f723-4b75-aa4c-45dfb8f54052\")>,\n",
       " <selenium.webdriver.remote.webelement.WebElement (session=\"cfdcce8833f3dff7bebd8c39c0f921df\", element=\"db148f26-2187-452f-a58c-d26837a52a62\")>,\n",
       " <selenium.webdriver.remote.webelement.WebElement (session=\"cfdcce8833f3dff7bebd8c39c0f921df\", element=\"61973dd4-719d-4aba-91b5-90694b578962\")>,\n",
       " <selenium.webdriver.remote.webelement.WebElement (session=\"cfdcce8833f3dff7bebd8c39c0f921df\", element=\"178d9785-f77a-48aa-aa81-041e3f656023\")>,\n",
       " <selenium.webdriver.remote.webelement.WebElement (session=\"cfdcce8833f3dff7bebd8c39c0f921df\", element=\"0881b4f9-ab43-407e-a2d6-ef0f1a85c118\")>,\n",
       " <selenium.webdriver.remote.webelement.WebElement (session=\"cfdcce8833f3dff7bebd8c39c0f921df\", element=\"54723c8e-1bb3-4c81-8b36-9d7803a8a3f5\")>,\n",
       " <selenium.webdriver.remote.webelement.WebElement (session=\"cfdcce8833f3dff7bebd8c39c0f921df\", element=\"cb574a46-540f-40b6-bdc6-77b69e4cee4b\")>,\n",
       " <selenium.webdriver.remote.webelement.WebElement (session=\"cfdcce8833f3dff7bebd8c39c0f921df\", element=\"9d4e7bb0-0d52-4a46-87db-2cc03d2d1a45\")>]"
      ]
     },
     "execution_count": 221,
     "metadata": {},
     "output_type": "execute_result"
    }
   ],
   "source": [
    "#extract price\n",
    "price_tag=driver.find_elements_by_xpath(\"//div[@class='_30jeq3']\")\n",
    "price_tag"
   ]
  },
  {
   "cell_type": "code",
   "execution_count": 222,
   "id": "e4cd9931",
   "metadata": {},
   "outputs": [
    {
     "data": {
      "text/plain": [
       "['₹1,274',\n",
       " '₹3,900',\n",
       " '₹295',\n",
       " '₹249',\n",
       " '₹265',\n",
       " '₹250',\n",
       " '₹185',\n",
       " '₹2,500',\n",
       " '₹639',\n",
       " '₹273',\n",
       " '₹275',\n",
       " '₹3,500',\n",
       " '₹199',\n",
       " '₹249',\n",
       " '₹474',\n",
       " '₹379',\n",
       " '₹249',\n",
       " '₹249',\n",
       " '₹225',\n",
       " '₹649',\n",
       " '₹639',\n",
       " '₹299',\n",
       " '₹221',\n",
       " '₹3,500',\n",
       " '₹269',\n",
       " '₹209',\n",
       " '₹314',\n",
       " '₹2,500',\n",
       " '₹229',\n",
       " '₹219',\n",
       " '₹217',\n",
       " '₹549',\n",
       " '₹210',\n",
       " '₹315',\n",
       " '₹233',\n",
       " '₹1,349',\n",
       " '₹245',\n",
       " '₹719',\n",
       " '₹246',\n",
       " '₹449',\n",
       " '₹203',\n",
       " '₹245',\n",
       " '₹809',\n",
       " '₹1,349',\n",
       " '₹499',\n",
       " '₹189',\n",
       " '₹258',\n",
       " '₹616',\n",
       " '₹349',\n",
       " '₹229',\n",
       " '₹399',\n",
       " '₹3,500',\n",
       " '₹216',\n",
       " '₹329',\n",
       " '₹171',\n",
       " '₹425',\n",
       " '₹639',\n",
       " '₹210',\n",
       " '₹639',\n",
       " '₹1,349',\n",
       " '₹683',\n",
       " '₹499',\n",
       " '₹284',\n",
       " '₹472',\n",
       " '₹639',\n",
       " '₹499',\n",
       " '₹175',\n",
       " '₹899',\n",
       " '₹398',\n",
       " '₹379',\n",
       " '₹369',\n",
       " '₹999',\n",
       " '₹276',\n",
       " '₹264',\n",
       " '₹458',\n",
       " '₹2,500',\n",
       " '₹314',\n",
       " '₹210',\n",
       " '₹239',\n",
       " '₹949']"
      ]
     },
     "execution_count": 222,
     "metadata": {},
     "output_type": "execute_result"
    }
   ],
   "source": [
    "#we will get the price using for loop\n",
    "\n",
    "for i in price_tag:\n",
    "    price=i.text\n",
    "    price_list.append(price)\n",
    "price_list"
   ]
  },
  {
   "cell_type": "code",
   "execution_count": 223,
   "id": "8fe04e16",
   "metadata": {},
   "outputs": [
    {
     "data": {
      "text/plain": [
       "[<selenium.webdriver.remote.webelement.WebElement (session=\"cfdcce8833f3dff7bebd8c39c0f921df\", element=\"1d39b085-35d6-48d2-9d77-587d4206efdb\")>,\n",
       " <selenium.webdriver.remote.webelement.WebElement (session=\"cfdcce8833f3dff7bebd8c39c0f921df\", element=\"865d2cd8-8dc1-4ae0-961d-9d7c63456f20\")>,\n",
       " <selenium.webdriver.remote.webelement.WebElement (session=\"cfdcce8833f3dff7bebd8c39c0f921df\", element=\"572bed9e-5fce-4efc-9220-599ba22e567e\")>,\n",
       " <selenium.webdriver.remote.webelement.WebElement (session=\"cfdcce8833f3dff7bebd8c39c0f921df\", element=\"85e398f2-d0d8-493a-94e0-cc5bc1ef298d\")>,\n",
       " <selenium.webdriver.remote.webelement.WebElement (session=\"cfdcce8833f3dff7bebd8c39c0f921df\", element=\"47235591-d031-43e1-bfd4-9481770580aa\")>,\n",
       " <selenium.webdriver.remote.webelement.WebElement (session=\"cfdcce8833f3dff7bebd8c39c0f921df\", element=\"11b9fc5d-8cf7-4e21-944d-09c2e769a03c\")>,\n",
       " <selenium.webdriver.remote.webelement.WebElement (session=\"cfdcce8833f3dff7bebd8c39c0f921df\", element=\"a60c86a4-31be-4905-b8e9-8a00361c2bf9\")>,\n",
       " <selenium.webdriver.remote.webelement.WebElement (session=\"cfdcce8833f3dff7bebd8c39c0f921df\", element=\"57b0023c-bb58-4fd1-b7e0-1e8f4f4c3a4c\")>,\n",
       " <selenium.webdriver.remote.webelement.WebElement (session=\"cfdcce8833f3dff7bebd8c39c0f921df\", element=\"70c359e6-4a4e-4bac-a579-00965922200a\")>,\n",
       " <selenium.webdriver.remote.webelement.WebElement (session=\"cfdcce8833f3dff7bebd8c39c0f921df\", element=\"c72b709d-9aaa-4ea6-9738-b1eba4963604\")>,\n",
       " <selenium.webdriver.remote.webelement.WebElement (session=\"cfdcce8833f3dff7bebd8c39c0f921df\", element=\"80b3c0db-4eee-4a9c-88fb-21e506d63f7a\")>,\n",
       " <selenium.webdriver.remote.webelement.WebElement (session=\"cfdcce8833f3dff7bebd8c39c0f921df\", element=\"def0a9a4-c6f4-4593-b5bd-f2e71ffa3a75\")>,\n",
       " <selenium.webdriver.remote.webelement.WebElement (session=\"cfdcce8833f3dff7bebd8c39c0f921df\", element=\"161e6a21-3982-4a0a-ad1f-3a6120dda07f\")>,\n",
       " <selenium.webdriver.remote.webelement.WebElement (session=\"cfdcce8833f3dff7bebd8c39c0f921df\", element=\"a60bd9af-8831-4085-839b-945402c302d2\")>,\n",
       " <selenium.webdriver.remote.webelement.WebElement (session=\"cfdcce8833f3dff7bebd8c39c0f921df\", element=\"c0352c86-43bc-4dd3-ac71-e80e0a04d1e8\")>,\n",
       " <selenium.webdriver.remote.webelement.WebElement (session=\"cfdcce8833f3dff7bebd8c39c0f921df\", element=\"0b73a287-bad7-47d3-a07e-57a92786ce5c\")>,\n",
       " <selenium.webdriver.remote.webelement.WebElement (session=\"cfdcce8833f3dff7bebd8c39c0f921df\", element=\"ca34c1fa-698e-45d5-9286-bddbb37fad80\")>,\n",
       " <selenium.webdriver.remote.webelement.WebElement (session=\"cfdcce8833f3dff7bebd8c39c0f921df\", element=\"9015aa60-c9a1-47f8-8618-0b1f758ab912\")>,\n",
       " <selenium.webdriver.remote.webelement.WebElement (session=\"cfdcce8833f3dff7bebd8c39c0f921df\", element=\"8989205f-ddd6-4604-ad05-a467d3b4981a\")>,\n",
       " <selenium.webdriver.remote.webelement.WebElement (session=\"cfdcce8833f3dff7bebd8c39c0f921df\", element=\"b332bb70-adc1-4f48-9bd7-cea9f97eedf7\")>,\n",
       " <selenium.webdriver.remote.webelement.WebElement (session=\"cfdcce8833f3dff7bebd8c39c0f921df\", element=\"ad07daf3-cb19-4dde-b28b-a56f76da786f\")>,\n",
       " <selenium.webdriver.remote.webelement.WebElement (session=\"cfdcce8833f3dff7bebd8c39c0f921df\", element=\"7a3a4a41-ed9a-43ed-b719-42c6cb47edc6\")>,\n",
       " <selenium.webdriver.remote.webelement.WebElement (session=\"cfdcce8833f3dff7bebd8c39c0f921df\", element=\"e8bd7312-ddea-4a0e-801c-e5ee0fd68346\")>,\n",
       " <selenium.webdriver.remote.webelement.WebElement (session=\"cfdcce8833f3dff7bebd8c39c0f921df\", element=\"d671a3d8-1b57-46c3-8e0a-6341adb5ed93\")>,\n",
       " <selenium.webdriver.remote.webelement.WebElement (session=\"cfdcce8833f3dff7bebd8c39c0f921df\", element=\"fe71a08b-0bbc-445f-a115-dc540a48a241\")>,\n",
       " <selenium.webdriver.remote.webelement.WebElement (session=\"cfdcce8833f3dff7bebd8c39c0f921df\", element=\"728446e6-a270-4887-9e4d-c77d29ed5455\")>,\n",
       " <selenium.webdriver.remote.webelement.WebElement (session=\"cfdcce8833f3dff7bebd8c39c0f921df\", element=\"c3dd9e0f-a013-4968-bfeb-5f3755662329\")>,\n",
       " <selenium.webdriver.remote.webelement.WebElement (session=\"cfdcce8833f3dff7bebd8c39c0f921df\", element=\"969fb0e0-8f3d-470c-9620-8a9239eaa541\")>,\n",
       " <selenium.webdriver.remote.webelement.WebElement (session=\"cfdcce8833f3dff7bebd8c39c0f921df\", element=\"b51b7572-b150-4a2b-9b9f-7d59318da377\")>,\n",
       " <selenium.webdriver.remote.webelement.WebElement (session=\"cfdcce8833f3dff7bebd8c39c0f921df\", element=\"835f4628-c7f9-4ab0-b67d-2ce74d221e95\")>,\n",
       " <selenium.webdriver.remote.webelement.WebElement (session=\"cfdcce8833f3dff7bebd8c39c0f921df\", element=\"b53a26ec-e1bb-43c5-b2de-0a4191f893fd\")>,\n",
       " <selenium.webdriver.remote.webelement.WebElement (session=\"cfdcce8833f3dff7bebd8c39c0f921df\", element=\"69b88af4-1aa3-4497-88a1-855e2893e702\")>,\n",
       " <selenium.webdriver.remote.webelement.WebElement (session=\"cfdcce8833f3dff7bebd8c39c0f921df\", element=\"aa0de351-ec0d-45cd-8920-3e687a753349\")>,\n",
       " <selenium.webdriver.remote.webelement.WebElement (session=\"cfdcce8833f3dff7bebd8c39c0f921df\", element=\"762506cc-023d-4219-ab22-ce506f6c969c\")>,\n",
       " <selenium.webdriver.remote.webelement.WebElement (session=\"cfdcce8833f3dff7bebd8c39c0f921df\", element=\"3692f3d8-43e3-4ea7-9b92-c9df8e182d21\")>,\n",
       " <selenium.webdriver.remote.webelement.WebElement (session=\"cfdcce8833f3dff7bebd8c39c0f921df\", element=\"f8847a6d-c5d1-40f5-8ffd-f6c1687fa237\")>,\n",
       " <selenium.webdriver.remote.webelement.WebElement (session=\"cfdcce8833f3dff7bebd8c39c0f921df\", element=\"0fb9394e-6e59-4e6f-b000-1597b4e4b617\")>,\n",
       " <selenium.webdriver.remote.webelement.WebElement (session=\"cfdcce8833f3dff7bebd8c39c0f921df\", element=\"c40386d3-496b-4dec-be4b-ca91c2821618\")>,\n",
       " <selenium.webdriver.remote.webelement.WebElement (session=\"cfdcce8833f3dff7bebd8c39c0f921df\", element=\"51b18847-e065-4e2a-992b-df4eae608b67\")>,\n",
       " <selenium.webdriver.remote.webelement.WebElement (session=\"cfdcce8833f3dff7bebd8c39c0f921df\", element=\"ae2800d2-66d7-4a08-8b9e-ac71f36f9bac\")>]"
      ]
     },
     "execution_count": 223,
     "metadata": {},
     "output_type": "execute_result"
    }
   ],
   "source": [
    "#extract discount\n",
    "discount_tag=driver.find_elements_by_xpath(\"//div[@class='_3Ay6Sb']/span[1]\")\n",
    "discount_tag"
   ]
  },
  {
   "cell_type": "code",
   "execution_count": 224,
   "id": "fdcc2208",
   "metadata": {},
   "outputs": [
    {
     "data": {
      "text/plain": [
       "['84% off',\n",
       " '35% off',\n",
       " '88% off',\n",
       " '84% off',\n",
       " '86% off',\n",
       " '80% off',\n",
       " '89% off',\n",
       " '44% off',\n",
       " '20% off',\n",
       " '78% off',\n",
       " '88% off',\n",
       " '22% off',\n",
       " '80% off',\n",
       " '84% off',\n",
       " '76% off',\n",
       " '81% off',\n",
       " '80% off',\n",
       " '84% off',\n",
       " '85% off',\n",
       " '67% off',\n",
       " '20% off',\n",
       " '81% off',\n",
       " '87% off',\n",
       " '30% off',\n",
       " '86% off',\n",
       " '82% off',\n",
       " '81% off',\n",
       " '50% off',\n",
       " '77% off',\n",
       " '78% off',\n",
       " '81% off',\n",
       " '26% off',\n",
       " '85% off',\n",
       " '68% off',\n",
       " '76% off',\n",
       " '83% off',\n",
       " '83% off',\n",
       " '20% off',\n",
       " '75% off',\n",
       " '77% off',\n",
       " '79% off',\n",
       " '81% off',\n",
       " '10% off',\n",
       " '83% off',\n",
       " '77% off',\n",
       " '85% off',\n",
       " '86% off',\n",
       " '75% off',\n",
       " '82% off',\n",
       " '77% off',\n",
       " '84% off',\n",
       " '22% off',\n",
       " '80% off',\n",
       " '79% off',\n",
       " '82% off',\n",
       " '78% off',\n",
       " '20% off',\n",
       " '84% off',\n",
       " '20% off',\n",
       " '83% off',\n",
       " '14% off',\n",
       " '78% off',\n",
       " '85% off',\n",
       " '60% off',\n",
       " '20% off',\n",
       " '66% off',\n",
       " '76% off',\n",
       " '55% off',\n",
       " '80% off',\n",
       " '81% off',\n",
       " '81% off',\n",
       " '50% off',\n",
       " '88% off',\n",
       " '79% off',\n",
       " '73% off',\n",
       " '44% off',\n",
       " '81% off',\n",
       " '78% off',\n",
       " '76% off',\n",
       " '52% off']"
      ]
     },
     "execution_count": 224,
     "metadata": {},
     "output_type": "execute_result"
    }
   ],
   "source": [
    "#we will get the discount text using for loop\n",
    "\n",
    "for i in discount_tag:\n",
    "    discount=i.text\n",
    "    discount_per_list.append(discount)\n",
    "discount_per_list"
   ]
  },
  {
   "cell_type": "code",
   "execution_count": 225,
   "id": "17084d25",
   "metadata": {},
   "outputs": [
    {
     "name": "stdout",
     "output_type": "stream",
     "text": [
      "80 80 80 80\n"
     ]
    }
   ],
   "source": [
    "print(len(brand_names_list), len(product_disc_list), len(price_list), len(discount_per_list))"
   ]
  },
  {
   "cell_type": "code",
   "execution_count": 226,
   "id": "f7180edc",
   "metadata": {},
   "outputs": [],
   "source": [
    "#, go to the “Next” Button at the bottom ofthe page , then click on it.\n",
    "next_button=driver.find_element_by_xpath(\"/html/body/div[1]/div/div[3]/div[1]/div[2]/div[12]/div/div/nav/a[12]\")\n",
    "next_button.click()"
   ]
  },
  {
   "cell_type": "code",
   "execution_count": 229,
   "id": "639d3ae5",
   "metadata": {},
   "outputs": [
    {
     "data": {
      "text/plain": [
       "[<selenium.webdriver.remote.webelement.WebElement (session=\"cfdcce8833f3dff7bebd8c39c0f921df\", element=\"a9a29188-ea21-4614-b81c-405880ccbb99\")>,\n",
       " <selenium.webdriver.remote.webelement.WebElement (session=\"cfdcce8833f3dff7bebd8c39c0f921df\", element=\"02c72a7b-45cc-4684-ae8c-eb84176b457f\")>,\n",
       " <selenium.webdriver.remote.webelement.WebElement (session=\"cfdcce8833f3dff7bebd8c39c0f921df\", element=\"df57668c-5814-4c86-9103-6db62d84247d\")>,\n",
       " <selenium.webdriver.remote.webelement.WebElement (session=\"cfdcce8833f3dff7bebd8c39c0f921df\", element=\"ee163096-a730-45d2-a695-f749e492de47\")>,\n",
       " <selenium.webdriver.remote.webelement.WebElement (session=\"cfdcce8833f3dff7bebd8c39c0f921df\", element=\"d6ae2d4b-0b69-4fde-9be7-1ed1041dad1c\")>,\n",
       " <selenium.webdriver.remote.webelement.WebElement (session=\"cfdcce8833f3dff7bebd8c39c0f921df\", element=\"f5e90889-3571-4d7d-8857-d3aca2ef0d57\")>,\n",
       " <selenium.webdriver.remote.webelement.WebElement (session=\"cfdcce8833f3dff7bebd8c39c0f921df\", element=\"441ffd86-ff6d-4542-a177-d1d69985facd\")>,\n",
       " <selenium.webdriver.remote.webelement.WebElement (session=\"cfdcce8833f3dff7bebd8c39c0f921df\", element=\"6d0f1efe-27ae-4bbf-ab62-42f1ea8c77e4\")>,\n",
       " <selenium.webdriver.remote.webelement.WebElement (session=\"cfdcce8833f3dff7bebd8c39c0f921df\", element=\"55326083-f4db-4259-a616-73cf7b8b9930\")>,\n",
       " <selenium.webdriver.remote.webelement.WebElement (session=\"cfdcce8833f3dff7bebd8c39c0f921df\", element=\"0b3a86df-c921-401c-8153-42b65b6fd724\")>,\n",
       " <selenium.webdriver.remote.webelement.WebElement (session=\"cfdcce8833f3dff7bebd8c39c0f921df\", element=\"c17226cc-3928-4282-b623-3fd38a664059\")>,\n",
       " <selenium.webdriver.remote.webelement.WebElement (session=\"cfdcce8833f3dff7bebd8c39c0f921df\", element=\"196f5573-10a2-4100-9a02-3297f4d07568\")>,\n",
       " <selenium.webdriver.remote.webelement.WebElement (session=\"cfdcce8833f3dff7bebd8c39c0f921df\", element=\"1ae9a130-675a-46b4-8239-eb0552b7a3d5\")>,\n",
       " <selenium.webdriver.remote.webelement.WebElement (session=\"cfdcce8833f3dff7bebd8c39c0f921df\", element=\"49ac5c67-33eb-497e-b4e5-f0f7498744e0\")>,\n",
       " <selenium.webdriver.remote.webelement.WebElement (session=\"cfdcce8833f3dff7bebd8c39c0f921df\", element=\"0cf2992b-0016-4348-9b46-2aee41c010ce\")>,\n",
       " <selenium.webdriver.remote.webelement.WebElement (session=\"cfdcce8833f3dff7bebd8c39c0f921df\", element=\"7ebc0a3b-62a7-4691-853f-4d9c4c8d6e60\")>,\n",
       " <selenium.webdriver.remote.webelement.WebElement (session=\"cfdcce8833f3dff7bebd8c39c0f921df\", element=\"c557f0ef-a41a-4fe3-8f9f-838231d9a313\")>,\n",
       " <selenium.webdriver.remote.webelement.WebElement (session=\"cfdcce8833f3dff7bebd8c39c0f921df\", element=\"17f48772-a998-4f8a-b248-cedda6b682f7\")>,\n",
       " <selenium.webdriver.remote.webelement.WebElement (session=\"cfdcce8833f3dff7bebd8c39c0f921df\", element=\"ed05b473-d772-4b8d-960b-095390bdf5b6\")>,\n",
       " <selenium.webdriver.remote.webelement.WebElement (session=\"cfdcce8833f3dff7bebd8c39c0f921df\", element=\"884f5e0b-3f1d-4565-9dca-8a0561b14f3a\")>,\n",
       " <selenium.webdriver.remote.webelement.WebElement (session=\"cfdcce8833f3dff7bebd8c39c0f921df\", element=\"31f3a670-e3ae-4606-97d5-3bd636cd4711\")>,\n",
       " <selenium.webdriver.remote.webelement.WebElement (session=\"cfdcce8833f3dff7bebd8c39c0f921df\", element=\"398d273f-d626-4f02-86e1-0b68c3ac5685\")>,\n",
       " <selenium.webdriver.remote.webelement.WebElement (session=\"cfdcce8833f3dff7bebd8c39c0f921df\", element=\"92b5ffcc-a51b-4fc8-9b61-187b85317a16\")>,\n",
       " <selenium.webdriver.remote.webelement.WebElement (session=\"cfdcce8833f3dff7bebd8c39c0f921df\", element=\"ee42b169-5058-4b51-b3d3-b2a24d7aa8b2\")>,\n",
       " <selenium.webdriver.remote.webelement.WebElement (session=\"cfdcce8833f3dff7bebd8c39c0f921df\", element=\"29fd0e59-d16e-4c6d-ab60-8b73a45960b0\")>,\n",
       " <selenium.webdriver.remote.webelement.WebElement (session=\"cfdcce8833f3dff7bebd8c39c0f921df\", element=\"501895f9-5559-4e0b-b272-8b37e9cead4d\")>,\n",
       " <selenium.webdriver.remote.webelement.WebElement (session=\"cfdcce8833f3dff7bebd8c39c0f921df\", element=\"f1d3d86a-502f-40f4-bb25-3e273ead0f31\")>,\n",
       " <selenium.webdriver.remote.webelement.WebElement (session=\"cfdcce8833f3dff7bebd8c39c0f921df\", element=\"52c7a7a3-405c-428e-8d6d-eed4d9f19596\")>,\n",
       " <selenium.webdriver.remote.webelement.WebElement (session=\"cfdcce8833f3dff7bebd8c39c0f921df\", element=\"f09c277c-2f71-4ed7-a898-159035b7551e\")>,\n",
       " <selenium.webdriver.remote.webelement.WebElement (session=\"cfdcce8833f3dff7bebd8c39c0f921df\", element=\"8796918a-e57b-4e57-a3bc-5b9b263eff82\")>,\n",
       " <selenium.webdriver.remote.webelement.WebElement (session=\"cfdcce8833f3dff7bebd8c39c0f921df\", element=\"bae0554a-0137-45b9-88e8-0439bd6dde48\")>,\n",
       " <selenium.webdriver.remote.webelement.WebElement (session=\"cfdcce8833f3dff7bebd8c39c0f921df\", element=\"9567d1d4-9096-4f92-9ba6-15a3e164c05b\")>,\n",
       " <selenium.webdriver.remote.webelement.WebElement (session=\"cfdcce8833f3dff7bebd8c39c0f921df\", element=\"133ee59a-f5e6-4ab2-9c3a-814b80eefe82\")>,\n",
       " <selenium.webdriver.remote.webelement.WebElement (session=\"cfdcce8833f3dff7bebd8c39c0f921df\", element=\"57ed2e19-3ad8-4e88-8dba-9fa79247468b\")>,\n",
       " <selenium.webdriver.remote.webelement.WebElement (session=\"cfdcce8833f3dff7bebd8c39c0f921df\", element=\"5bbb240e-b329-404d-89cd-a2734725ed79\")>,\n",
       " <selenium.webdriver.remote.webelement.WebElement (session=\"cfdcce8833f3dff7bebd8c39c0f921df\", element=\"acb370e2-31f9-41b8-a23c-697ae2ad9fb5\")>,\n",
       " <selenium.webdriver.remote.webelement.WebElement (session=\"cfdcce8833f3dff7bebd8c39c0f921df\", element=\"35c060f4-8f55-4271-be74-3aab54c6a1cd\")>,\n",
       " <selenium.webdriver.remote.webelement.WebElement (session=\"cfdcce8833f3dff7bebd8c39c0f921df\", element=\"6bfdad7d-804a-4d4c-9e1c-52c466181d15\")>,\n",
       " <selenium.webdriver.remote.webelement.WebElement (session=\"cfdcce8833f3dff7bebd8c39c0f921df\", element=\"53da492d-49f6-4573-a15a-cd4a886dac5c\")>,\n",
       " <selenium.webdriver.remote.webelement.WebElement (session=\"cfdcce8833f3dff7bebd8c39c0f921df\", element=\"72bb178f-22f6-4ed7-861a-9372df96f414\")>]"
      ]
     },
     "execution_count": 229,
     "metadata": {},
     "output_type": "execute_result"
    }
   ],
   "source": [
    "#extract brand names\n",
    "brand_names=driver.find_elements_by_xpath(\"//div[@class='_2WkVRV']\")\n",
    "brand_names[0:100]"
   ]
  },
  {
   "cell_type": "code",
   "execution_count": 230,
   "id": "6c2d7605",
   "metadata": {},
   "outputs": [
    {
     "data": {
      "text/plain": [
       "['CART2DEAL',\n",
       " 'john jacobs',\n",
       " 'Elligator',\n",
       " 'PIRASO',\n",
       " 'New Specs',\n",
       " 'SRPM',\n",
       " 'SHAAH COLLECTIONS',\n",
       " 'john jacobs',\n",
       " 'Fastrack',\n",
       " 'SUNBEE',\n",
       " 'Lee Topper',\n",
       " 'john jacobs',\n",
       " 'Lee Topper',\n",
       " 'PIRASO',\n",
       " 'ROZZETTA CRAFT',\n",
       " 'ROZZETTA CRAFT',\n",
       " 'SUNBEE',\n",
       " 'PIRASO',\n",
       " 'PIRASO',\n",
       " 'VINCENT CHASE',\n",
       " 'Fastrack',\n",
       " 'New Specs',\n",
       " 'GANSTA',\n",
       " 'john jacobs',\n",
       " 'kingsunglasses',\n",
       " 'kingsunglasses',\n",
       " 'SUNBEE',\n",
       " 'john jacobs',\n",
       " 'Elligator',\n",
       " 'SRPM',\n",
       " 'DEIXELS',\n",
       " 'VILLAIN',\n",
       " 'hipe',\n",
       " 'PHENOMENAL',\n",
       " 'hipe',\n",
       " 'LOUIS KOUROS',\n",
       " 'Singco India',\n",
       " 'Fastrack',\n",
       " 'SRPM',\n",
       " 'ROZZETTA CRAFT',\n",
       " 'SHAAH COLLECTIONS',\n",
       " 'kingsunglasses',\n",
       " 'Fastrack',\n",
       " 'LOUIS KOUROS',\n",
       " 'ROZZETTA CRAFT',\n",
       " 'kingsunglasses',\n",
       " 'hipe',\n",
       " 'ROZZETTA CRAFT',\n",
       " 'ROZZETTA CRAFT',\n",
       " 'hipe',\n",
       " 'PIRASO',\n",
       " 'john jacobs',\n",
       " 'kingsunglasses',\n",
       " 'kingsunglasses',\n",
       " 'HIPPON',\n",
       " 'ROZZETTA CRAFT',\n",
       " 'Fastrack',\n",
       " 'hipe',\n",
       " 'Fastrack',\n",
       " 'LOUIS KOUROS',\n",
       " 'Fastrack',\n",
       " 'elegante',\n",
       " 'GANSTA',\n",
       " 'SKYZA INDIA',\n",
       " 'Fastrack',\n",
       " 'ROYAL SON',\n",
       " 'NuVew',\n",
       " 'VINCENT CHASE',\n",
       " 'ROZZETTA CRAFT',\n",
       " 'PHENOMENAL',\n",
       " 'PHENOMENAL',\n",
       " 'VINCENT CHASE',\n",
       " 'Lee Topper',\n",
       " 'New Specs',\n",
       " 'AISLIN',\n",
       " 'john jacobs',\n",
       " 'SUNBEE',\n",
       " 'kingsunglasses',\n",
       " 'SRPM',\n",
       " 'VINCENT CHASE',\n",
       " 'Singco India',\n",
       " 'AISLIN',\n",
       " 'Fastrack',\n",
       " 'ROZZETTA CRAFT',\n",
       " 'LIZA ANGEL',\n",
       " 'kingsunglasses',\n",
       " 'Elligator',\n",
       " 'ROZZETTA CRAFT',\n",
       " 'NuVew',\n",
       " 'Elligator',\n",
       " 'ROZZETTA CRAFT',\n",
       " 'VINCENT CHASE',\n",
       " 'IDEE',\n",
       " 'Elligator',\n",
       " 'Fastrack',\n",
       " 'ROZZETTA CRAFT',\n",
       " 'kingsunglasses',\n",
       " 'SHAAH COLLECTIONS',\n",
       " 'GANSTA',\n",
       " 'ROZZETTA CRAFT']"
      ]
     },
     "execution_count": 230,
     "metadata": {},
     "output_type": "execute_result"
    }
   ],
   "source": [
    "#we will get the brand name text using for loop\n",
    "\n",
    "for i in brand_names:\n",
    "    brand=i.text\n",
    "    brand_names_list.append(brand)\n",
    "brand_names_list[0:100]"
   ]
  },
  {
   "cell_type": "code",
   "execution_count": 231,
   "id": "d7487d9a",
   "metadata": {},
   "outputs": [
    {
     "data": {
      "text/plain": [
       "[<selenium.webdriver.remote.webelement.WebElement (session=\"cfdcce8833f3dff7bebd8c39c0f921df\", element=\"a36105c1-f04a-44ea-af0b-8e8b99737452\")>,\n",
       " <selenium.webdriver.remote.webelement.WebElement (session=\"cfdcce8833f3dff7bebd8c39c0f921df\", element=\"05a6184b-5625-41bf-8720-c6e05fd6b738\")>,\n",
       " <selenium.webdriver.remote.webelement.WebElement (session=\"cfdcce8833f3dff7bebd8c39c0f921df\", element=\"305a802d-a245-4cbe-acbd-16c32fcd5543\")>,\n",
       " <selenium.webdriver.remote.webelement.WebElement (session=\"cfdcce8833f3dff7bebd8c39c0f921df\", element=\"4b3ce144-c66a-4a7f-a7ef-9373fb153e90\")>,\n",
       " <selenium.webdriver.remote.webelement.WebElement (session=\"cfdcce8833f3dff7bebd8c39c0f921df\", element=\"e4d0aa20-39c6-4f63-bc58-65446f8cc0b8\")>,\n",
       " <selenium.webdriver.remote.webelement.WebElement (session=\"cfdcce8833f3dff7bebd8c39c0f921df\", element=\"988845ac-37ab-4229-919e-8dec842d46b2\")>,\n",
       " <selenium.webdriver.remote.webelement.WebElement (session=\"cfdcce8833f3dff7bebd8c39c0f921df\", element=\"46ada098-8fd1-4e8b-98ca-02127d535ced\")>,\n",
       " <selenium.webdriver.remote.webelement.WebElement (session=\"cfdcce8833f3dff7bebd8c39c0f921df\", element=\"a7ab849f-970b-4f0d-9701-1a497ce7413e\")>,\n",
       " <selenium.webdriver.remote.webelement.WebElement (session=\"cfdcce8833f3dff7bebd8c39c0f921df\", element=\"19791d4c-2ad6-4d26-a04a-3c066ca51dc8\")>,\n",
       " <selenium.webdriver.remote.webelement.WebElement (session=\"cfdcce8833f3dff7bebd8c39c0f921df\", element=\"5645bd63-a341-44e8-81ad-34a8d0e910fe\")>,\n",
       " <selenium.webdriver.remote.webelement.WebElement (session=\"cfdcce8833f3dff7bebd8c39c0f921df\", element=\"a7dcc2c3-e956-4f0b-976f-495fc2a33346\")>,\n",
       " <selenium.webdriver.remote.webelement.WebElement (session=\"cfdcce8833f3dff7bebd8c39c0f921df\", element=\"d087f484-c5dc-4a65-8e3b-034936f4b603\")>,\n",
       " <selenium.webdriver.remote.webelement.WebElement (session=\"cfdcce8833f3dff7bebd8c39c0f921df\", element=\"d15e0a4c-4f90-4bfa-9348-bcfeb6b53d4a\")>,\n",
       " <selenium.webdriver.remote.webelement.WebElement (session=\"cfdcce8833f3dff7bebd8c39c0f921df\", element=\"0d628f8b-cb46-48f8-a868-85e26c30afd5\")>,\n",
       " <selenium.webdriver.remote.webelement.WebElement (session=\"cfdcce8833f3dff7bebd8c39c0f921df\", element=\"ac38efb7-0512-46ea-b014-5a85ab3023b8\")>,\n",
       " <selenium.webdriver.remote.webelement.WebElement (session=\"cfdcce8833f3dff7bebd8c39c0f921df\", element=\"e90e7871-b5db-4bb7-9ca2-ed49b5fc1271\")>,\n",
       " <selenium.webdriver.remote.webelement.WebElement (session=\"cfdcce8833f3dff7bebd8c39c0f921df\", element=\"493157e8-f1e8-4359-81b0-7bedcf4ad13a\")>,\n",
       " <selenium.webdriver.remote.webelement.WebElement (session=\"cfdcce8833f3dff7bebd8c39c0f921df\", element=\"2871bea4-6aa1-4625-bf66-31161f4f681f\")>,\n",
       " <selenium.webdriver.remote.webelement.WebElement (session=\"cfdcce8833f3dff7bebd8c39c0f921df\", element=\"e77848c7-19a5-4695-be02-0cdf794d6b43\")>,\n",
       " <selenium.webdriver.remote.webelement.WebElement (session=\"cfdcce8833f3dff7bebd8c39c0f921df\", element=\"6cab2bfe-d79c-43a5-a43f-8560aa52ca91\")>,\n",
       " <selenium.webdriver.remote.webelement.WebElement (session=\"cfdcce8833f3dff7bebd8c39c0f921df\", element=\"a965d643-1df4-437e-8ced-fa3fb4689e5e\")>,\n",
       " <selenium.webdriver.remote.webelement.WebElement (session=\"cfdcce8833f3dff7bebd8c39c0f921df\", element=\"225600a2-e971-4306-9033-0d8595345a0d\")>,\n",
       " <selenium.webdriver.remote.webelement.WebElement (session=\"cfdcce8833f3dff7bebd8c39c0f921df\", element=\"ac5f5fcc-72b6-40c0-8f47-53ee0e2d6e19\")>,\n",
       " <selenium.webdriver.remote.webelement.WebElement (session=\"cfdcce8833f3dff7bebd8c39c0f921df\", element=\"75fcbc1b-97cc-4395-95b0-d89b5552fca9\")>,\n",
       " <selenium.webdriver.remote.webelement.WebElement (session=\"cfdcce8833f3dff7bebd8c39c0f921df\", element=\"857cabc1-d86a-442c-8fbf-6d41cb4ff2a0\")>,\n",
       " <selenium.webdriver.remote.webelement.WebElement (session=\"cfdcce8833f3dff7bebd8c39c0f921df\", element=\"250c6ccf-a810-41fa-bbd7-7512a72dfd05\")>,\n",
       " <selenium.webdriver.remote.webelement.WebElement (session=\"cfdcce8833f3dff7bebd8c39c0f921df\", element=\"8a6b7096-2cd1-4676-b31f-88648a87032f\")>,\n",
       " <selenium.webdriver.remote.webelement.WebElement (session=\"cfdcce8833f3dff7bebd8c39c0f921df\", element=\"28df62b5-5581-4465-bc2f-840bd9c108ce\")>,\n",
       " <selenium.webdriver.remote.webelement.WebElement (session=\"cfdcce8833f3dff7bebd8c39c0f921df\", element=\"4f587de2-006e-491f-9dd1-22788d1fd627\")>,\n",
       " <selenium.webdriver.remote.webelement.WebElement (session=\"cfdcce8833f3dff7bebd8c39c0f921df\", element=\"5bdbaeab-d473-4e8c-a8b2-d4a22ed6d3f1\")>,\n",
       " <selenium.webdriver.remote.webelement.WebElement (session=\"cfdcce8833f3dff7bebd8c39c0f921df\", element=\"e4e200cc-9b19-4d23-951e-db31dc2ad9e9\")>,\n",
       " <selenium.webdriver.remote.webelement.WebElement (session=\"cfdcce8833f3dff7bebd8c39c0f921df\", element=\"4f5078ac-db6f-491c-b92f-337c7f59ed58\")>,\n",
       " <selenium.webdriver.remote.webelement.WebElement (session=\"cfdcce8833f3dff7bebd8c39c0f921df\", element=\"e6de3f08-cc05-4d97-8f75-0cc4bfd98e18\")>,\n",
       " <selenium.webdriver.remote.webelement.WebElement (session=\"cfdcce8833f3dff7bebd8c39c0f921df\", element=\"60eb5aa5-5360-4ab2-a828-c098437059f1\")>,\n",
       " <selenium.webdriver.remote.webelement.WebElement (session=\"cfdcce8833f3dff7bebd8c39c0f921df\", element=\"ad53dc28-4e35-436c-a833-5f6aa2efee3d\")>,\n",
       " <selenium.webdriver.remote.webelement.WebElement (session=\"cfdcce8833f3dff7bebd8c39c0f921df\", element=\"d101bc96-f3da-4b2c-8db6-495ac1f227d2\")>,\n",
       " <selenium.webdriver.remote.webelement.WebElement (session=\"cfdcce8833f3dff7bebd8c39c0f921df\", element=\"ebce3ab9-5ffa-46a0-8a67-b48ffe12b70a\")>,\n",
       " <selenium.webdriver.remote.webelement.WebElement (session=\"cfdcce8833f3dff7bebd8c39c0f921df\", element=\"fecf31db-f1d2-4dfa-97c6-4526c500291d\")>,\n",
       " <selenium.webdriver.remote.webelement.WebElement (session=\"cfdcce8833f3dff7bebd8c39c0f921df\", element=\"412a7862-22dc-4d38-93f8-0cd7095a0c2f\")>,\n",
       " <selenium.webdriver.remote.webelement.WebElement (session=\"cfdcce8833f3dff7bebd8c39c0f921df\", element=\"628bd874-05d3-435d-bb42-6c568a8ae886\")>]"
      ]
     },
     "execution_count": 231,
     "metadata": {},
     "output_type": "execute_result"
    }
   ],
   "source": [
    "#extract product-disc\n",
    "product_disc=driver.find_elements_by_xpath(\"//a[@class='IRpwTa']\")\n",
    "product_disc[0:100]"
   ]
  },
  {
   "cell_type": "code",
   "execution_count": 232,
   "id": "9616ef0e",
   "metadata": {},
   "outputs": [
    {
     "data": {
      "text/plain": [
       "['Riding Glasses, UV Protection, Mirrored Retro Square Su...',\n",
       " 'UV Protection Clubmaster Sunglasses (47)',\n",
       " 'UV Protection Round Sunglasses (54)',\n",
       " 'UV Protection Aviator Sunglasses (54)',\n",
       " 'UV Protection Rectangular Sunglasses (Free Size)',\n",
       " 'UV Protection Wayfarer Sunglasses (50)',\n",
       " 'UV Protection, Polarized, Mirrored Rectangular Sunglass...',\n",
       " 'Polarized, UV Protection Aviator Sunglasses (53)',\n",
       " 'UV Protection Rectangular Sunglasses (Free Size)',\n",
       " 'UV Protection, Polarized Wayfarer Sunglasses (Free Size...',\n",
       " 'Riding Glasses Wrap-around Sunglasses (Free Size)',\n",
       " 'Polarized, UV Protection Retro Square Sunglasses (54)',\n",
       " 'UV Protection Rectangular Sunglasses (Free Size)',\n",
       " 'UV Protection Aviator Sunglasses (54)',\n",
       " 'Polarized, Riding Glasses Sports, Wrap-around Sunglasse...',\n",
       " 'UV Protection, Gradient Rectangular Sunglasses (Free Si...',\n",
       " 'UV Protection, Polarized, Mirrored Retro Square Sunglas...',\n",
       " 'UV Protection Aviator Sunglasses (54)',\n",
       " 'UV Protection Wayfarer Sunglasses (32)',\n",
       " 'UV Protection Rectangular Sunglasses (50)',\n",
       " 'Gradient, UV Protection Wayfarer Sunglasses (Free Size)',\n",
       " 'Mirrored, UV Protection, Riding Glasses, Others Round S...',\n",
       " 'UV Protection, Riding Glasses Wayfarer Sunglasses (53)',\n",
       " 'UV Protection Aviator Sunglasses (55)',\n",
       " 'Mirrored, UV Protection Wayfarer Sunglasses (Free Size)',\n",
       " 'UV Protection, Riding Glasses, Mirrored Wayfarer Sungla...',\n",
       " 'UV Protection, Polarized, Mirrored Round Sunglasses (Fr...',\n",
       " 'UV Protection Round Sunglasses (54)',\n",
       " 'UV Protection Round Sunglasses (53)',\n",
       " 'UV Protection Wayfarer Sunglasses (54)',\n",
       " 'UV Protection Aviator, Wayfarer Sunglasses (Free Size)',\n",
       " 'Others Retro Square Sunglasses (Free Size)',\n",
       " 'Mirrored, UV Protection, Gradient Round Sunglasses (55)',\n",
       " 'UV Protection Retro Square Sunglasses (53)',\n",
       " 'UV Protection, Gradient, Mirrored, Riding Glasses Aviat...',\n",
       " 'UV Protection, Riding Glasses, Mirrored Aviator Sunglas...',\n",
       " 'Riding Glasses, UV Protection, Others Aviator Sunglasse...',\n",
       " 'UV Protection Wayfarer Sunglasses (Free Size)',\n",
       " 'UV Protection Wayfarer Sunglasses (53)',\n",
       " 'UV Protection, Gradient Rectangular Sunglasses (Free Si...',\n",
       " 'UV Protection, Polarized, Mirrored Rectangular Sunglass...',\n",
       " 'Mirrored, UV Protection Aviator Sunglasses (56)',\n",
       " 'UV Protection Shield Sunglasses (Free Size)',\n",
       " 'UV Protection, Riding Glasses, Mirrored Aviator Sunglas...',\n",
       " 'UV Protection Retro Square Sunglasses (Free Size)',\n",
       " 'UV Protection Rectangular Sunglasses (55)',\n",
       " 'UV Protection Sports Sunglasses (Free Size)',\n",
       " 'UV Protection Aviator Sunglasses (62)',\n",
       " 'UV Protection, Gradient Retro Square Sunglasses (Free S...',\n",
       " 'Mirrored Wayfarer Sunglasses (55)',\n",
       " 'UV Protection Over-sized Sunglasses (65)',\n",
       " 'Polarized, UV Protection Round Sunglasses (50)',\n",
       " 'UV Protection Round Sunglasses (54)',\n",
       " 'UV Protection Round Sunglasses (Free Size)',\n",
       " 'UV Protection Wayfarer Sunglasses (55)',\n",
       " 'Polarized, UV Protection Wayfarer Sunglasses (Free Size...',\n",
       " 'UV Protection Aviator Sunglasses (57)',\n",
       " 'Mirrored, Gradient, Riding Glasses Round Sunglasses (55...',\n",
       " 'UV Protection Aviator Sunglasses (Free Size)',\n",
       " 'UV Protection Aviator Sunglasses (60)',\n",
       " 'UV Protection Wayfarer Sunglasses (55)',\n",
       " 'Polarized, Riding Glasses, Night Vision Sports, Wrap-ar...',\n",
       " 'UV Protection Aviator Sunglasses (57)',\n",
       " 'Polarized, UV Protection Sports Sunglasses (Free Size)',\n",
       " 'UV Protection Wayfarer Sunglasses (Free Size)',\n",
       " 'UV Protection Rectangular, Retro Square Sunglasses (58)',\n",
       " 'UV Protection Aviator Sunglasses (57)',\n",
       " 'by Lenskart Polarized, UV Protection Aviator Sunglasses...',\n",
       " 'UV Protection Round Sunglasses (Free Size)',\n",
       " 'UV Protection Retro Square Sunglasses (Free Size)',\n",
       " 'UV Protection, Mirrored Clubmaster Sunglasses (Free Siz...',\n",
       " 'by Lenskart Polarized, UV Protection Round Sunglasses (...',\n",
       " 'Riding Glasses, Night Vision Wrap-around Sunglasses (Fr...',\n",
       " 'UV Protection Round Sunglasses (Free Size)',\n",
       " 'UV Protection, Gradient Round, Cat-eye Sunglasses (60)',\n",
       " 'UV Protection Wayfarer Sunglasses (Free Size)',\n",
       " 'UV Protection, Polarized, Mirrored Round Sunglasses (Fr...',\n",
       " 'UV Protection Round Sunglasses (Free Size)',\n",
       " 'Others Wayfarer, Retro Square Sunglasses (50)',\n",
       " 'UV Protection Wayfarer Sunglasses (55)',\n",
       " 'Gradient, Toughened Glass Lens, UV Protection Retro Squ...',\n",
       " 'UV Protection, Gradient Butterfly, Retro Square Sunglas...',\n",
       " 'UV Protection Wayfarer Sunglasses (Free Size)',\n",
       " 'UV Protection Aviator Sunglasses (62)',\n",
       " 'Riding Glasses, Night Vision Spectacle Sunglasses (Fre...',\n",
       " 'UV Protection Rectangular Sunglasses (55)',\n",
       " 'UV Protection Aviator Sunglasses (55)',\n",
       " 'UV Protection, Gradient Rectangular Sunglasses (Free Si...',\n",
       " 'UV Protection Sports Sunglasses (62)',\n",
       " 'Mirrored Round Sunglasses (53)',\n",
       " 'UV Protection, Gradient Round Sunglasses (Free Size)',\n",
       " 'by Lenskart Polarized, UV Protection Wayfarer Sunglasse...',\n",
       " 'UV Protection Cat-eye Sunglasses (57)',\n",
       " 'Others Cat-eye, Retro Square, Wayfarer Sunglasses (54)',\n",
       " 'UV Protection Wayfarer Sunglasses (Free Size)',\n",
       " 'Polarized, UV Protection Wayfarer Sunglasses (Free Size...',\n",
       " 'UV Protection, Night Vision Wayfarer Sunglasses (Free S...',\n",
       " 'UV Protection Round Sunglasses (Free Size)',\n",
       " 'UV Protection, Gradient Clubmaster Sunglasses (52)',\n",
       " 'UV Protection Retro Square Sunglasses (Free Size)']"
      ]
     },
     "execution_count": 232,
     "metadata": {},
     "output_type": "execute_result"
    }
   ],
   "source": [
    "#we will get the product disc text using for loop\n",
    "\n",
    "for i in product_disc:\n",
    "    product=i.text\n",
    "    product_disc_list.append(product)\n",
    "product_disc_list[0:100]"
   ]
  },
  {
   "cell_type": "code",
   "execution_count": 233,
   "id": "38a71d4a",
   "metadata": {},
   "outputs": [
    {
     "data": {
      "text/plain": [
       "[<selenium.webdriver.remote.webelement.WebElement (session=\"cfdcce8833f3dff7bebd8c39c0f921df\", element=\"90b1e883-42e4-4353-a2e2-6b96a50873df\")>,\n",
       " <selenium.webdriver.remote.webelement.WebElement (session=\"cfdcce8833f3dff7bebd8c39c0f921df\", element=\"c4756e46-1630-46a8-95f4-58aa5fa8bd7c\")>,\n",
       " <selenium.webdriver.remote.webelement.WebElement (session=\"cfdcce8833f3dff7bebd8c39c0f921df\", element=\"748d9cee-bc39-4200-983f-609cd1aa7cc7\")>,\n",
       " <selenium.webdriver.remote.webelement.WebElement (session=\"cfdcce8833f3dff7bebd8c39c0f921df\", element=\"cfc9d5d3-eb76-486c-a3a5-a1009256fb98\")>,\n",
       " <selenium.webdriver.remote.webelement.WebElement (session=\"cfdcce8833f3dff7bebd8c39c0f921df\", element=\"e09cbe5d-5b1f-4ff6-bc78-b7006f3b1fae\")>,\n",
       " <selenium.webdriver.remote.webelement.WebElement (session=\"cfdcce8833f3dff7bebd8c39c0f921df\", element=\"58230380-db45-43af-937d-45daf95e3310\")>,\n",
       " <selenium.webdriver.remote.webelement.WebElement (session=\"cfdcce8833f3dff7bebd8c39c0f921df\", element=\"23bfb3c4-193d-4262-aad3-b3feb1350930\")>,\n",
       " <selenium.webdriver.remote.webelement.WebElement (session=\"cfdcce8833f3dff7bebd8c39c0f921df\", element=\"dc97b593-aa77-46ba-b2ed-64b8acd6cf98\")>,\n",
       " <selenium.webdriver.remote.webelement.WebElement (session=\"cfdcce8833f3dff7bebd8c39c0f921df\", element=\"7aad6940-aa90-4fb5-8c73-2b44dd78bf9c\")>,\n",
       " <selenium.webdriver.remote.webelement.WebElement (session=\"cfdcce8833f3dff7bebd8c39c0f921df\", element=\"332e8e17-0134-46d5-8598-756381928cf3\")>,\n",
       " <selenium.webdriver.remote.webelement.WebElement (session=\"cfdcce8833f3dff7bebd8c39c0f921df\", element=\"251ff51a-c789-4f4b-aade-0dbc95fc5538\")>,\n",
       " <selenium.webdriver.remote.webelement.WebElement (session=\"cfdcce8833f3dff7bebd8c39c0f921df\", element=\"e1725f02-3264-424f-b011-1887f1526330\")>,\n",
       " <selenium.webdriver.remote.webelement.WebElement (session=\"cfdcce8833f3dff7bebd8c39c0f921df\", element=\"57acd8d7-f0ff-4270-9c27-0288549e5553\")>,\n",
       " <selenium.webdriver.remote.webelement.WebElement (session=\"cfdcce8833f3dff7bebd8c39c0f921df\", element=\"1303a222-d30c-478e-87ca-07979677e410\")>,\n",
       " <selenium.webdriver.remote.webelement.WebElement (session=\"cfdcce8833f3dff7bebd8c39c0f921df\", element=\"009afee5-cde9-466e-bffa-7bd2df4c671b\")>,\n",
       " <selenium.webdriver.remote.webelement.WebElement (session=\"cfdcce8833f3dff7bebd8c39c0f921df\", element=\"bb842cf1-bed0-4a7a-9273-0f77758d76d8\")>,\n",
       " <selenium.webdriver.remote.webelement.WebElement (session=\"cfdcce8833f3dff7bebd8c39c0f921df\", element=\"741b916e-979a-4b51-b648-a5a6e0b65123\")>,\n",
       " <selenium.webdriver.remote.webelement.WebElement (session=\"cfdcce8833f3dff7bebd8c39c0f921df\", element=\"0dfd9607-2086-4887-92bc-29d438e141c6\")>,\n",
       " <selenium.webdriver.remote.webelement.WebElement (session=\"cfdcce8833f3dff7bebd8c39c0f921df\", element=\"f189d185-42f7-4ca0-91eb-5975b3071ee2\")>,\n",
       " <selenium.webdriver.remote.webelement.WebElement (session=\"cfdcce8833f3dff7bebd8c39c0f921df\", element=\"a579b92c-6f73-4c11-bfe9-8d55502eca38\")>,\n",
       " <selenium.webdriver.remote.webelement.WebElement (session=\"cfdcce8833f3dff7bebd8c39c0f921df\", element=\"67fd2cb2-49e2-4d59-8a13-49c582b2798e\")>,\n",
       " <selenium.webdriver.remote.webelement.WebElement (session=\"cfdcce8833f3dff7bebd8c39c0f921df\", element=\"76ae3fd7-62f9-44a8-bc76-2180b8868133\")>,\n",
       " <selenium.webdriver.remote.webelement.WebElement (session=\"cfdcce8833f3dff7bebd8c39c0f921df\", element=\"da4e0b2a-9a6e-4085-8709-938cf8198850\")>,\n",
       " <selenium.webdriver.remote.webelement.WebElement (session=\"cfdcce8833f3dff7bebd8c39c0f921df\", element=\"ec977858-b1d2-48f2-9124-dbaa920b19ee\")>,\n",
       " <selenium.webdriver.remote.webelement.WebElement (session=\"cfdcce8833f3dff7bebd8c39c0f921df\", element=\"a308b9c2-0bcb-4efd-85d7-b06871490483\")>,\n",
       " <selenium.webdriver.remote.webelement.WebElement (session=\"cfdcce8833f3dff7bebd8c39c0f921df\", element=\"3419ff6b-d733-4f18-baa7-02aa6180dea9\")>,\n",
       " <selenium.webdriver.remote.webelement.WebElement (session=\"cfdcce8833f3dff7bebd8c39c0f921df\", element=\"3098158a-57d0-4afd-bd8d-073c305b1fa4\")>,\n",
       " <selenium.webdriver.remote.webelement.WebElement (session=\"cfdcce8833f3dff7bebd8c39c0f921df\", element=\"bcf12aa7-28a3-48c6-8e0e-74626cced7b2\")>,\n",
       " <selenium.webdriver.remote.webelement.WebElement (session=\"cfdcce8833f3dff7bebd8c39c0f921df\", element=\"0cd5f8ec-15ee-419c-bb25-f752af081cf4\")>,\n",
       " <selenium.webdriver.remote.webelement.WebElement (session=\"cfdcce8833f3dff7bebd8c39c0f921df\", element=\"06ee1bec-3a7b-46fa-bc2f-6fd7c09373a9\")>,\n",
       " <selenium.webdriver.remote.webelement.WebElement (session=\"cfdcce8833f3dff7bebd8c39c0f921df\", element=\"4bbe3756-dd0b-4e85-a01a-fb3a543e69e0\")>,\n",
       " <selenium.webdriver.remote.webelement.WebElement (session=\"cfdcce8833f3dff7bebd8c39c0f921df\", element=\"039b12a1-1ec4-418a-b3ea-e81e0ff34bd4\")>,\n",
       " <selenium.webdriver.remote.webelement.WebElement (session=\"cfdcce8833f3dff7bebd8c39c0f921df\", element=\"666a3190-f951-4ca0-a7d3-b8b7342b5dcd\")>,\n",
       " <selenium.webdriver.remote.webelement.WebElement (session=\"cfdcce8833f3dff7bebd8c39c0f921df\", element=\"f2c55d34-0e36-4d0e-8b7b-7f3f79cab6a8\")>,\n",
       " <selenium.webdriver.remote.webelement.WebElement (session=\"cfdcce8833f3dff7bebd8c39c0f921df\", element=\"2136d571-3d07-479c-a160-93631edbfa44\")>,\n",
       " <selenium.webdriver.remote.webelement.WebElement (session=\"cfdcce8833f3dff7bebd8c39c0f921df\", element=\"76c412d8-76bb-4e6b-b616-aa82d791a58b\")>,\n",
       " <selenium.webdriver.remote.webelement.WebElement (session=\"cfdcce8833f3dff7bebd8c39c0f921df\", element=\"16794ea7-a7d2-40fe-90d7-871e5bd1f683\")>,\n",
       " <selenium.webdriver.remote.webelement.WebElement (session=\"cfdcce8833f3dff7bebd8c39c0f921df\", element=\"446bb7b4-56a9-4a4a-9db4-700aaf6dcc0c\")>,\n",
       " <selenium.webdriver.remote.webelement.WebElement (session=\"cfdcce8833f3dff7bebd8c39c0f921df\", element=\"395fe669-de05-457b-a0a0-475df361dca3\")>,\n",
       " <selenium.webdriver.remote.webelement.WebElement (session=\"cfdcce8833f3dff7bebd8c39c0f921df\", element=\"e64458fb-e4fb-4118-9fc1-ec1684db680a\")>]"
      ]
     },
     "execution_count": 233,
     "metadata": {},
     "output_type": "execute_result"
    }
   ],
   "source": [
    "#extract price\n",
    "price_tag=driver.find_elements_by_xpath(\"//div[@class='_30jeq3']\")\n",
    "price_tag[0:100]"
   ]
  },
  {
   "cell_type": "code",
   "execution_count": 234,
   "id": "3373b927",
   "metadata": {},
   "outputs": [
    {
     "data": {
      "text/plain": [
       "['₹1,274',\n",
       " '₹3,900',\n",
       " '₹295',\n",
       " '₹249',\n",
       " '₹265',\n",
       " '₹250',\n",
       " '₹185',\n",
       " '₹2,500',\n",
       " '₹639',\n",
       " '₹273',\n",
       " '₹275',\n",
       " '₹3,500',\n",
       " '₹199',\n",
       " '₹249',\n",
       " '₹474',\n",
       " '₹379',\n",
       " '₹249',\n",
       " '₹249',\n",
       " '₹225',\n",
       " '₹649',\n",
       " '₹639',\n",
       " '₹299',\n",
       " '₹221',\n",
       " '₹3,500',\n",
       " '₹269',\n",
       " '₹209',\n",
       " '₹314',\n",
       " '₹2,500',\n",
       " '₹229',\n",
       " '₹219',\n",
       " '₹217',\n",
       " '₹549',\n",
       " '₹210',\n",
       " '₹315',\n",
       " '₹233',\n",
       " '₹1,349',\n",
       " '₹245',\n",
       " '₹719',\n",
       " '₹246',\n",
       " '₹449',\n",
       " '₹203',\n",
       " '₹245',\n",
       " '₹809',\n",
       " '₹1,349',\n",
       " '₹499',\n",
       " '₹189',\n",
       " '₹258',\n",
       " '₹616',\n",
       " '₹349',\n",
       " '₹229',\n",
       " '₹399',\n",
       " '₹3,500',\n",
       " '₹216',\n",
       " '₹329',\n",
       " '₹171',\n",
       " '₹425',\n",
       " '₹639',\n",
       " '₹210',\n",
       " '₹639',\n",
       " '₹1,349',\n",
       " '₹683',\n",
       " '₹499',\n",
       " '₹284',\n",
       " '₹472',\n",
       " '₹639',\n",
       " '₹499',\n",
       " '₹175',\n",
       " '₹899',\n",
       " '₹398',\n",
       " '₹379',\n",
       " '₹369',\n",
       " '₹999',\n",
       " '₹276',\n",
       " '₹264',\n",
       " '₹458',\n",
       " '₹2,500',\n",
       " '₹314',\n",
       " '₹210',\n",
       " '₹239',\n",
       " '₹949',\n",
       " '₹664',\n",
       " '₹458',\n",
       " '₹719',\n",
       " '₹649',\n",
       " '₹199',\n",
       " '₹269',\n",
       " '₹333',\n",
       " '₹426',\n",
       " '₹327',\n",
       " '₹312',\n",
       " '₹342',\n",
       " '₹799',\n",
       " '₹979',\n",
       " '₹236',\n",
       " '₹849',\n",
       " '₹449',\n",
       " '₹299',\n",
       " '₹314',\n",
       " '₹221',\n",
       " '₹308']"
      ]
     },
     "execution_count": 234,
     "metadata": {},
     "output_type": "execute_result"
    }
   ],
   "source": [
    "#we will get the price using for loop\n",
    "\n",
    "for i in price_tag:\n",
    "    price=i.text\n",
    "    price_list.append(price)\n",
    "price_list[0:100]"
   ]
  },
  {
   "cell_type": "code",
   "execution_count": 235,
   "id": "c29fdc3c",
   "metadata": {},
   "outputs": [
    {
     "data": {
      "text/plain": [
       "[<selenium.webdriver.remote.webelement.WebElement (session=\"cfdcce8833f3dff7bebd8c39c0f921df\", element=\"76efd72c-fbb0-4b4f-93aa-0ee2e17b322f\")>,\n",
       " <selenium.webdriver.remote.webelement.WebElement (session=\"cfdcce8833f3dff7bebd8c39c0f921df\", element=\"8330f44b-ca73-4c5b-bb66-b3f6348ab7be\")>,\n",
       " <selenium.webdriver.remote.webelement.WebElement (session=\"cfdcce8833f3dff7bebd8c39c0f921df\", element=\"fc07ccb4-ad3b-4200-911e-1173a2edc9ff\")>,\n",
       " <selenium.webdriver.remote.webelement.WebElement (session=\"cfdcce8833f3dff7bebd8c39c0f921df\", element=\"99fbfb36-8f65-44ac-9b1a-a63ac704fc02\")>,\n",
       " <selenium.webdriver.remote.webelement.WebElement (session=\"cfdcce8833f3dff7bebd8c39c0f921df\", element=\"32144c72-b1f9-4307-b9ec-2d66a798e02a\")>,\n",
       " <selenium.webdriver.remote.webelement.WebElement (session=\"cfdcce8833f3dff7bebd8c39c0f921df\", element=\"200ea993-4508-4027-9065-cd90f11a22ea\")>,\n",
       " <selenium.webdriver.remote.webelement.WebElement (session=\"cfdcce8833f3dff7bebd8c39c0f921df\", element=\"a7df87ff-6717-4a9e-a88b-e7a858d73df0\")>,\n",
       " <selenium.webdriver.remote.webelement.WebElement (session=\"cfdcce8833f3dff7bebd8c39c0f921df\", element=\"a7721c8d-c1ad-4cb0-adcb-272a5fa6391d\")>,\n",
       " <selenium.webdriver.remote.webelement.WebElement (session=\"cfdcce8833f3dff7bebd8c39c0f921df\", element=\"c3d84708-a631-4c39-acf4-f323831f9d08\")>,\n",
       " <selenium.webdriver.remote.webelement.WebElement (session=\"cfdcce8833f3dff7bebd8c39c0f921df\", element=\"05744161-1f90-4903-83ce-335403a62712\")>,\n",
       " <selenium.webdriver.remote.webelement.WebElement (session=\"cfdcce8833f3dff7bebd8c39c0f921df\", element=\"e9a39b8f-9c81-448f-8761-0fbe329818e4\")>,\n",
       " <selenium.webdriver.remote.webelement.WebElement (session=\"cfdcce8833f3dff7bebd8c39c0f921df\", element=\"9b0c434d-b80a-41b9-be72-ad39eed941ac\")>,\n",
       " <selenium.webdriver.remote.webelement.WebElement (session=\"cfdcce8833f3dff7bebd8c39c0f921df\", element=\"11a6f3d4-2400-4194-85bc-d3f2bbdefe66\")>,\n",
       " <selenium.webdriver.remote.webelement.WebElement (session=\"cfdcce8833f3dff7bebd8c39c0f921df\", element=\"c308f651-8998-46dc-b1e4-20398881b444\")>,\n",
       " <selenium.webdriver.remote.webelement.WebElement (session=\"cfdcce8833f3dff7bebd8c39c0f921df\", element=\"ad6cf930-6a87-47b3-9fe2-0f595a58cd6e\")>,\n",
       " <selenium.webdriver.remote.webelement.WebElement (session=\"cfdcce8833f3dff7bebd8c39c0f921df\", element=\"9f7cf86e-3f92-444b-9538-784c83ae88a6\")>,\n",
       " <selenium.webdriver.remote.webelement.WebElement (session=\"cfdcce8833f3dff7bebd8c39c0f921df\", element=\"0c73ebd9-3129-4431-a1ca-df674fe3c97c\")>,\n",
       " <selenium.webdriver.remote.webelement.WebElement (session=\"cfdcce8833f3dff7bebd8c39c0f921df\", element=\"217fa2c0-1ef9-44b3-a022-86de1d89256d\")>,\n",
       " <selenium.webdriver.remote.webelement.WebElement (session=\"cfdcce8833f3dff7bebd8c39c0f921df\", element=\"d8f9bec4-cade-489a-8176-ce567c58bd3a\")>,\n",
       " <selenium.webdriver.remote.webelement.WebElement (session=\"cfdcce8833f3dff7bebd8c39c0f921df\", element=\"2d69dccd-560d-4185-83b7-4b43a240f18a\")>,\n",
       " <selenium.webdriver.remote.webelement.WebElement (session=\"cfdcce8833f3dff7bebd8c39c0f921df\", element=\"bbfa4f2a-e90d-4b81-b3e9-755f1072b27b\")>,\n",
       " <selenium.webdriver.remote.webelement.WebElement (session=\"cfdcce8833f3dff7bebd8c39c0f921df\", element=\"2154060b-f2c2-41e4-8f61-cf75d600af63\")>,\n",
       " <selenium.webdriver.remote.webelement.WebElement (session=\"cfdcce8833f3dff7bebd8c39c0f921df\", element=\"4ea8b749-9c38-4ade-a4a2-3fe956d97b89\")>,\n",
       " <selenium.webdriver.remote.webelement.WebElement (session=\"cfdcce8833f3dff7bebd8c39c0f921df\", element=\"7667058d-34d4-4350-979d-2f65c248b440\")>,\n",
       " <selenium.webdriver.remote.webelement.WebElement (session=\"cfdcce8833f3dff7bebd8c39c0f921df\", element=\"86a87cea-1f05-4533-947d-cc0e6b79c4ec\")>,\n",
       " <selenium.webdriver.remote.webelement.WebElement (session=\"cfdcce8833f3dff7bebd8c39c0f921df\", element=\"5d0ea1be-62fb-4623-b4a7-307d157e9786\")>,\n",
       " <selenium.webdriver.remote.webelement.WebElement (session=\"cfdcce8833f3dff7bebd8c39c0f921df\", element=\"895a72ab-2f99-4557-8da9-c9f60bfe716b\")>,\n",
       " <selenium.webdriver.remote.webelement.WebElement (session=\"cfdcce8833f3dff7bebd8c39c0f921df\", element=\"ccb6947a-9cb0-446a-8f56-6eebc0b6d433\")>,\n",
       " <selenium.webdriver.remote.webelement.WebElement (session=\"cfdcce8833f3dff7bebd8c39c0f921df\", element=\"6177d125-91e2-4e98-871f-e476af41f613\")>,\n",
       " <selenium.webdriver.remote.webelement.WebElement (session=\"cfdcce8833f3dff7bebd8c39c0f921df\", element=\"e3232461-13f7-42ac-a5ab-87fb4d616ac9\")>,\n",
       " <selenium.webdriver.remote.webelement.WebElement (session=\"cfdcce8833f3dff7bebd8c39c0f921df\", element=\"59a6c790-8bc6-4e16-b2d3-c3ca47f1b789\")>,\n",
       " <selenium.webdriver.remote.webelement.WebElement (session=\"cfdcce8833f3dff7bebd8c39c0f921df\", element=\"c7a7a72f-2ce3-403a-a75d-f2799b97b6af\")>,\n",
       " <selenium.webdriver.remote.webelement.WebElement (session=\"cfdcce8833f3dff7bebd8c39c0f921df\", element=\"ceab57ad-211c-4f33-bade-58853fa8e04f\")>,\n",
       " <selenium.webdriver.remote.webelement.WebElement (session=\"cfdcce8833f3dff7bebd8c39c0f921df\", element=\"39d6ec2a-4023-4223-aa95-d490fd99349a\")>,\n",
       " <selenium.webdriver.remote.webelement.WebElement (session=\"cfdcce8833f3dff7bebd8c39c0f921df\", element=\"ae786dab-88f1-4cdb-9575-b781e5bf3d09\")>,\n",
       " <selenium.webdriver.remote.webelement.WebElement (session=\"cfdcce8833f3dff7bebd8c39c0f921df\", element=\"e72bfccd-2031-4e6d-8bb4-142ecbb03334\")>,\n",
       " <selenium.webdriver.remote.webelement.WebElement (session=\"cfdcce8833f3dff7bebd8c39c0f921df\", element=\"af1cc0e6-a0df-4467-a01c-bb22f81174e2\")>,\n",
       " <selenium.webdriver.remote.webelement.WebElement (session=\"cfdcce8833f3dff7bebd8c39c0f921df\", element=\"96e29f93-d0cd-41c6-bc21-ee2399b3fe79\")>,\n",
       " <selenium.webdriver.remote.webelement.WebElement (session=\"cfdcce8833f3dff7bebd8c39c0f921df\", element=\"d8f53925-61bc-4227-bde7-01a14e5fa64c\")>,\n",
       " <selenium.webdriver.remote.webelement.WebElement (session=\"cfdcce8833f3dff7bebd8c39c0f921df\", element=\"1e4717b2-8e89-4bae-9441-7d73d552578f\")>]"
      ]
     },
     "execution_count": 235,
     "metadata": {},
     "output_type": "execute_result"
    }
   ],
   "source": [
    "#extract discount\n",
    "discount_tag=driver.find_elements_by_xpath(\"//div[@class='_3Ay6Sb']/span[1]\")\n",
    "discount_tag[0:100]"
   ]
  },
  {
   "cell_type": "code",
   "execution_count": 236,
   "id": "12b9fdaa",
   "metadata": {},
   "outputs": [
    {
     "data": {
      "text/plain": [
       "['84% off',\n",
       " '35% off',\n",
       " '88% off',\n",
       " '84% off',\n",
       " '86% off',\n",
       " '80% off',\n",
       " '89% off',\n",
       " '44% off',\n",
       " '20% off',\n",
       " '78% off',\n",
       " '88% off',\n",
       " '22% off',\n",
       " '80% off',\n",
       " '84% off',\n",
       " '76% off',\n",
       " '81% off',\n",
       " '80% off',\n",
       " '84% off',\n",
       " '85% off',\n",
       " '67% off',\n",
       " '20% off',\n",
       " '81% off',\n",
       " '87% off',\n",
       " '30% off',\n",
       " '86% off',\n",
       " '82% off',\n",
       " '81% off',\n",
       " '50% off',\n",
       " '77% off',\n",
       " '78% off',\n",
       " '81% off',\n",
       " '26% off',\n",
       " '85% off',\n",
       " '68% off',\n",
       " '76% off',\n",
       " '83% off',\n",
       " '83% off',\n",
       " '20% off',\n",
       " '75% off',\n",
       " '77% off',\n",
       " '79% off',\n",
       " '81% off',\n",
       " '10% off',\n",
       " '83% off',\n",
       " '77% off',\n",
       " '85% off',\n",
       " '86% off',\n",
       " '75% off',\n",
       " '82% off',\n",
       " '77% off',\n",
       " '84% off',\n",
       " '22% off',\n",
       " '80% off',\n",
       " '79% off',\n",
       " '82% off',\n",
       " '78% off',\n",
       " '20% off',\n",
       " '84% off',\n",
       " '20% off',\n",
       " '83% off',\n",
       " '14% off',\n",
       " '78% off',\n",
       " '85% off',\n",
       " '60% off',\n",
       " '20% off',\n",
       " '66% off',\n",
       " '76% off',\n",
       " '55% off',\n",
       " '80% off',\n",
       " '81% off',\n",
       " '81% off',\n",
       " '50% off',\n",
       " '88% off',\n",
       " '79% off',\n",
       " '73% off',\n",
       " '44% off',\n",
       " '81% off',\n",
       " '78% off',\n",
       " '76% off',\n",
       " '52% off',\n",
       " '77% off',\n",
       " '69% off',\n",
       " '20% off',\n",
       " '74% off',\n",
       " '80% off',\n",
       " '82% off',\n",
       " '83% off',\n",
       " '78% off',\n",
       " '73% off',\n",
       " '87% off',\n",
       " '82% off',\n",
       " '68% off',\n",
       " '49% off',\n",
       " '80% off',\n",
       " '15% off',\n",
       " '77% off',\n",
       " '82% off',\n",
       " '81% off',\n",
       " '77% off',\n",
       " '81% off']"
      ]
     },
     "execution_count": 236,
     "metadata": {},
     "output_type": "execute_result"
    }
   ],
   "source": [
    "#we will get the discount text using for loop\n",
    "\n",
    "for i in discount_tag:\n",
    "    discount=i.text\n",
    "    discount_per_list.append(discount)\n",
    "discount_per_list[0:100]"
   ]
  },
  {
   "cell_type": "code",
   "execution_count": 238,
   "id": "10f45795",
   "metadata": {},
   "outputs": [],
   "source": [
    "#import pandas as pd\n",
    "sunglasses=pd.DataFrame({})\n",
    "sunglasses[\"Brand Name\"]=brand_names_list[0:100]\n",
    "sunglasses[\"Discription\"]=product_disc_list[0:100]\n",
    "sunglasses[\"Price\"]=price_list[0:100]\n",
    "sunglasses[\"Discount\"]=discount_per_list[0:100]"
   ]
  },
  {
   "cell_type": "code",
   "execution_count": 239,
   "id": "5afbac80",
   "metadata": {},
   "outputs": [
    {
     "data": {
      "text/html": [
       "<div>\n",
       "<style scoped>\n",
       "    .dataframe tbody tr th:only-of-type {\n",
       "        vertical-align: middle;\n",
       "    }\n",
       "\n",
       "    .dataframe tbody tr th {\n",
       "        vertical-align: top;\n",
       "    }\n",
       "\n",
       "    .dataframe thead th {\n",
       "        text-align: right;\n",
       "    }\n",
       "</style>\n",
       "<table border=\"1\" class=\"dataframe\">\n",
       "  <thead>\n",
       "    <tr style=\"text-align: right;\">\n",
       "      <th></th>\n",
       "      <th>Brand Name</th>\n",
       "      <th>Discription</th>\n",
       "      <th>Price</th>\n",
       "      <th>Discount</th>\n",
       "    </tr>\n",
       "  </thead>\n",
       "  <tbody>\n",
       "    <tr>\n",
       "      <th>0</th>\n",
       "      <td>CART2DEAL</td>\n",
       "      <td>Riding Glasses, UV Protection, Mirrored Retro ...</td>\n",
       "      <td>₹1,274</td>\n",
       "      <td>84% off</td>\n",
       "    </tr>\n",
       "    <tr>\n",
       "      <th>1</th>\n",
       "      <td>john jacobs</td>\n",
       "      <td>UV Protection Clubmaster Sunglasses (47)</td>\n",
       "      <td>₹3,900</td>\n",
       "      <td>35% off</td>\n",
       "    </tr>\n",
       "    <tr>\n",
       "      <th>2</th>\n",
       "      <td>Elligator</td>\n",
       "      <td>UV Protection Round Sunglasses (54)</td>\n",
       "      <td>₹295</td>\n",
       "      <td>88% off</td>\n",
       "    </tr>\n",
       "    <tr>\n",
       "      <th>3</th>\n",
       "      <td>PIRASO</td>\n",
       "      <td>UV Protection Aviator Sunglasses (54)</td>\n",
       "      <td>₹249</td>\n",
       "      <td>84% off</td>\n",
       "    </tr>\n",
       "    <tr>\n",
       "      <th>4</th>\n",
       "      <td>New Specs</td>\n",
       "      <td>UV Protection Rectangular Sunglasses (Free Size)</td>\n",
       "      <td>₹265</td>\n",
       "      <td>86% off</td>\n",
       "    </tr>\n",
       "    <tr>\n",
       "      <th>...</th>\n",
       "      <td>...</td>\n",
       "      <td>...</td>\n",
       "      <td>...</td>\n",
       "      <td>...</td>\n",
       "    </tr>\n",
       "    <tr>\n",
       "      <th>95</th>\n",
       "      <td>ROZZETTA CRAFT</td>\n",
       "      <td>Polarized, UV Protection Wayfarer Sunglasses (...</td>\n",
       "      <td>₹449</td>\n",
       "      <td>77% off</td>\n",
       "    </tr>\n",
       "    <tr>\n",
       "      <th>96</th>\n",
       "      <td>kingsunglasses</td>\n",
       "      <td>UV Protection, Night Vision Wayfarer Sunglasse...</td>\n",
       "      <td>₹299</td>\n",
       "      <td>82% off</td>\n",
       "    </tr>\n",
       "    <tr>\n",
       "      <th>97</th>\n",
       "      <td>SHAAH COLLECTIONS</td>\n",
       "      <td>UV Protection Round Sunglasses (Free Size)</td>\n",
       "      <td>₹314</td>\n",
       "      <td>81% off</td>\n",
       "    </tr>\n",
       "    <tr>\n",
       "      <th>98</th>\n",
       "      <td>GANSTA</td>\n",
       "      <td>UV Protection, Gradient Clubmaster Sunglasses ...</td>\n",
       "      <td>₹221</td>\n",
       "      <td>77% off</td>\n",
       "    </tr>\n",
       "    <tr>\n",
       "      <th>99</th>\n",
       "      <td>ROZZETTA CRAFT</td>\n",
       "      <td>UV Protection Retro Square Sunglasses (Free Size)</td>\n",
       "      <td>₹308</td>\n",
       "      <td>81% off</td>\n",
       "    </tr>\n",
       "  </tbody>\n",
       "</table>\n",
       "<p>100 rows × 4 columns</p>\n",
       "</div>"
      ],
      "text/plain": [
       "           Brand Name                                        Discription  \\\n",
       "0           CART2DEAL  Riding Glasses, UV Protection, Mirrored Retro ...   \n",
       "1         john jacobs           UV Protection Clubmaster Sunglasses (47)   \n",
       "2           Elligator                UV Protection Round Sunglasses (54)   \n",
       "3              PIRASO              UV Protection Aviator Sunglasses (54)   \n",
       "4           New Specs   UV Protection Rectangular Sunglasses (Free Size)   \n",
       "..                ...                                                ...   \n",
       "95     ROZZETTA CRAFT  Polarized, UV Protection Wayfarer Sunglasses (...   \n",
       "96     kingsunglasses  UV Protection, Night Vision Wayfarer Sunglasse...   \n",
       "97  SHAAH COLLECTIONS         UV Protection Round Sunglasses (Free Size)   \n",
       "98             GANSTA  UV Protection, Gradient Clubmaster Sunglasses ...   \n",
       "99     ROZZETTA CRAFT  UV Protection Retro Square Sunglasses (Free Size)   \n",
       "\n",
       "     Price Discount  \n",
       "0   ₹1,274  84% off  \n",
       "1   ₹3,900  35% off  \n",
       "2     ₹295  88% off  \n",
       "3     ₹249  84% off  \n",
       "4     ₹265  86% off  \n",
       "..     ...      ...  \n",
       "95    ₹449  77% off  \n",
       "96    ₹299  82% off  \n",
       "97    ₹314  81% off  \n",
       "98    ₹221  77% off  \n",
       "99    ₹308  81% off  \n",
       "\n",
       "[100 rows x 4 columns]"
      ]
     },
     "execution_count": 239,
     "metadata": {},
     "output_type": "execute_result"
    }
   ],
   "source": [
    "sunglasses"
   ]
  },
  {
   "cell_type": "markdown",
   "id": "3d91e1b7",
   "metadata": {},
   "source": [
    "# Scrape 100 reviews data from flipkart.com for iphone11 phone. You have to go the link:\n",
    "https://www.flipkart.com/apple-iphone-11-black-64-gb-includes- earpods-power\u0002adapter/p/itm0f37c2240b217?pid=MOBFKCTSVZAXUHGR&lid=LSTMOBFKC\n",
    "TSVZAXUHGREPBFGI&marketplace.\n",
    "When you will open the above link you will reach to the below shown webpage .\n",
    "\n",
    "As shown in the above page you have to scrape the tick marked attributes.These are:\n",
    "1. Rating\n",
    "2. Review summary\n",
    "3. Full review\n",
    "4. You have to scrape this data for first 100 reviews.\n",
    "Note: All the steps required during scraping should be done through code only and not manually"
   ]
  },
  {
   "cell_type": "code",
   "execution_count": 1420,
   "id": "895d30a6",
   "metadata": {},
   "outputs": [],
   "source": [
    "driver=webdriver.Chrome(\"chromedriver.exe\")\n",
    "time.sleep(2)"
   ]
  },
  {
   "cell_type": "code",
   "execution_count": 1421,
   "id": "552d05f8",
   "metadata": {},
   "outputs": [],
   "source": [
    "driver.get(\"https://www.flipkart.com/apple-iphone-11-black-64-gb-includes- earpods-poweradapter/p/itm0f37c2240b217?pid=MOBFKCTSVZAXUHGR&lid=LSTMOBFKCTSVZAXUHGREPBFGI&marketplace\")"
   ]
  },
  {
   "cell_type": "code",
   "execution_count": 1422,
   "id": "8e1fe47a",
   "metadata": {},
   "outputs": [],
   "source": [
    "rating_list=[]\n",
    "review_summary_list=[]\n",
    "full_review_list=[]"
   ]
  },
  {
   "cell_type": "code",
   "execution_count": 1423,
   "id": "cfa53613",
   "metadata": {},
   "outputs": [],
   "source": [
    "#, go to the all review Button at the bottom ofthe page , then click on it.\n",
    "next_button=driver.find_element_by_xpath(\"/html/body/div[1]/div/div[3]/div[1]/div[2]/div[9]/div/div/div[5]/div/a\")\n",
    "next_button.click()"
   ]
  },
  {
   "cell_type": "code",
   "execution_count": 1424,
   "id": "42002cd4",
   "metadata": {},
   "outputs": [
    {
     "data": {
      "text/plain": [
       "[<selenium.webdriver.remote.webelement.WebElement (session=\"21adad40789ed2d83ae180cc85aa07d7\", element=\"1a365b5f-6742-410a-b81d-1f4abc5146e7\")>,\n",
       " <selenium.webdriver.remote.webelement.WebElement (session=\"21adad40789ed2d83ae180cc85aa07d7\", element=\"a3732297-d4ca-4e27-b805-3b876df2e45e\")>,\n",
       " <selenium.webdriver.remote.webelement.WebElement (session=\"21adad40789ed2d83ae180cc85aa07d7\", element=\"4674c3ae-1b4e-4eb3-8a68-770e4ba55747\")>,\n",
       " <selenium.webdriver.remote.webelement.WebElement (session=\"21adad40789ed2d83ae180cc85aa07d7\", element=\"eccb0307-3ed2-490f-b032-895c353d5732\")>,\n",
       " <selenium.webdriver.remote.webelement.WebElement (session=\"21adad40789ed2d83ae180cc85aa07d7\", element=\"1c145615-f52a-4791-a631-b222dbea1d40\")>,\n",
       " <selenium.webdriver.remote.webelement.WebElement (session=\"21adad40789ed2d83ae180cc85aa07d7\", element=\"a7414ff2-023b-49cb-aa1d-73e2e0c712bd\")>,\n",
       " <selenium.webdriver.remote.webelement.WebElement (session=\"21adad40789ed2d83ae180cc85aa07d7\", element=\"bba57803-aaa2-44ae-8414-ca2a203e5355\")>,\n",
       " <selenium.webdriver.remote.webelement.WebElement (session=\"21adad40789ed2d83ae180cc85aa07d7\", element=\"b9dbe722-2a3c-4d2b-86ed-12079bd0b840\")>,\n",
       " <selenium.webdriver.remote.webelement.WebElement (session=\"21adad40789ed2d83ae180cc85aa07d7\", element=\"9caec46d-fba7-4822-82fe-874002c37f6b\")>,\n",
       " <selenium.webdriver.remote.webelement.WebElement (session=\"21adad40789ed2d83ae180cc85aa07d7\", element=\"ca2948d5-02b5-49d4-bab4-92db696cfed0\")>]"
      ]
     },
     "execution_count": 1424,
     "metadata": {},
     "output_type": "execute_result"
    }
   ],
   "source": [
    "#extract ratings\n",
    "rating_tag=driver.find_elements_by_xpath(\"//div[@class='_3LWZlK _1BLPMq'or @class='_3LWZlK _1rdVr6 _1BLPMq']\")\n",
    "rating_tag"
   ]
  },
  {
   "cell_type": "code",
   "execution_count": 1425,
   "id": "95d42b6a",
   "metadata": {},
   "outputs": [
    {
     "data": {
      "text/plain": [
       "['5', '5', '5', '5', '5', '5', '5', '4', '5', '5']"
      ]
     },
     "execution_count": 1425,
     "metadata": {},
     "output_type": "execute_result"
    }
   ],
   "source": [
    "#we will get the rating text using for loop\n",
    "\n",
    "for i in rating_tag:\n",
    "    rating=i.text\n",
    "    rating_list.append(rating)\n",
    "rating_list"
   ]
  },
  {
   "cell_type": "code",
   "execution_count": 1426,
   "id": "0d777bf3",
   "metadata": {},
   "outputs": [
    {
     "data": {
      "text/plain": [
       "[<selenium.webdriver.remote.webelement.WebElement (session=\"21adad40789ed2d83ae180cc85aa07d7\", element=\"3a64058d-92e7-4677-8903-dc96afb86521\")>,\n",
       " <selenium.webdriver.remote.webelement.WebElement (session=\"21adad40789ed2d83ae180cc85aa07d7\", element=\"7929d9f2-33c5-4617-95f6-516c9abb2ca6\")>,\n",
       " <selenium.webdriver.remote.webelement.WebElement (session=\"21adad40789ed2d83ae180cc85aa07d7\", element=\"3194711e-99a9-4588-a510-e2ad7bbaf7e4\")>,\n",
       " <selenium.webdriver.remote.webelement.WebElement (session=\"21adad40789ed2d83ae180cc85aa07d7\", element=\"1d1ec7d7-6be8-48bc-aa65-95ddcc7ef558\")>,\n",
       " <selenium.webdriver.remote.webelement.WebElement (session=\"21adad40789ed2d83ae180cc85aa07d7\", element=\"b0981f62-f58e-46ca-bff8-ac3f464bb364\")>,\n",
       " <selenium.webdriver.remote.webelement.WebElement (session=\"21adad40789ed2d83ae180cc85aa07d7\", element=\"85351570-8783-4523-8b4b-88bc6a6580fe\")>,\n",
       " <selenium.webdriver.remote.webelement.WebElement (session=\"21adad40789ed2d83ae180cc85aa07d7\", element=\"3eb21de5-e100-4093-9cf1-eb4a5327ba75\")>,\n",
       " <selenium.webdriver.remote.webelement.WebElement (session=\"21adad40789ed2d83ae180cc85aa07d7\", element=\"2f05f534-5c14-413a-b55d-9676cf1f288f\")>,\n",
       " <selenium.webdriver.remote.webelement.WebElement (session=\"21adad40789ed2d83ae180cc85aa07d7\", element=\"8162e52a-b8be-4d2d-8afe-6ca41e39a026\")>,\n",
       " <selenium.webdriver.remote.webelement.WebElement (session=\"21adad40789ed2d83ae180cc85aa07d7\", element=\"6f38c35e-b911-4d08-a5d3-2936cafd8332\")>]"
      ]
     },
     "execution_count": 1426,
     "metadata": {},
     "output_type": "execute_result"
    }
   ],
   "source": [
    "#extract review summary\n",
    "review_summary_tag=driver.find_elements_by_xpath(\"//p[@class='_2-N8zT']\")\n",
    "review_summary_tag"
   ]
  },
  {
   "cell_type": "code",
   "execution_count": 1427,
   "id": "ceb01ca9",
   "metadata": {},
   "outputs": [
    {
     "data": {
      "text/plain": [
       "['Brilliant',\n",
       " 'Simply awesome',\n",
       " 'Best in the market!',\n",
       " 'Perfect product!',\n",
       " 'Fabulous!',\n",
       " 'Worth every penny',\n",
       " 'Great product',\n",
       " 'Good choice',\n",
       " 'Highly recommended',\n",
       " 'Worth every penny']"
      ]
     },
     "execution_count": 1427,
     "metadata": {},
     "output_type": "execute_result"
    }
   ],
   "source": [
    "#we will get the review summary text using for loop\n",
    "\n",
    "for i in review_summary_tag:\n",
    "    summary=i.text\n",
    "    review_summary_list.append(summary)\n",
    "review_summary_list"
   ]
  },
  {
   "cell_type": "code",
   "execution_count": 1428,
   "id": "b7f40b48",
   "metadata": {
    "scrolled": true
   },
   "outputs": [
    {
     "data": {
      "text/plain": [
       "[<selenium.webdriver.remote.webelement.WebElement (session=\"21adad40789ed2d83ae180cc85aa07d7\", element=\"0f779280-2d34-44ac-8ce4-1962b10b4185\")>,\n",
       " <selenium.webdriver.remote.webelement.WebElement (session=\"21adad40789ed2d83ae180cc85aa07d7\", element=\"5d384950-f73c-4c7f-876d-dd135bddf9cd\")>,\n",
       " <selenium.webdriver.remote.webelement.WebElement (session=\"21adad40789ed2d83ae180cc85aa07d7\", element=\"d2498c0a-dc4e-41d4-a625-2599fc855e85\")>,\n",
       " <selenium.webdriver.remote.webelement.WebElement (session=\"21adad40789ed2d83ae180cc85aa07d7\", element=\"43ecb26f-879d-45a0-9355-53f9e5830a82\")>,\n",
       " <selenium.webdriver.remote.webelement.WebElement (session=\"21adad40789ed2d83ae180cc85aa07d7\", element=\"da0cae18-6939-4fc1-9c1c-002439f50d21\")>,\n",
       " <selenium.webdriver.remote.webelement.WebElement (session=\"21adad40789ed2d83ae180cc85aa07d7\", element=\"4dd4a7a2-7fcf-483a-a939-1bf9927951ad\")>,\n",
       " <selenium.webdriver.remote.webelement.WebElement (session=\"21adad40789ed2d83ae180cc85aa07d7\", element=\"cf4c4740-0aff-48d4-94a3-0427d360f1ba\")>,\n",
       " <selenium.webdriver.remote.webelement.WebElement (session=\"21adad40789ed2d83ae180cc85aa07d7\", element=\"346318fd-2249-4c32-a711-175d4afd4ec1\")>,\n",
       " <selenium.webdriver.remote.webelement.WebElement (session=\"21adad40789ed2d83ae180cc85aa07d7\", element=\"58e39743-df3c-45ba-b762-31ece7ae8f0d\")>,\n",
       " <selenium.webdriver.remote.webelement.WebElement (session=\"21adad40789ed2d83ae180cc85aa07d7\", element=\"3b07ae4e-e746-42ce-913a-744ed48c15e1\")>]"
      ]
     },
     "execution_count": 1428,
     "metadata": {},
     "output_type": "execute_result"
    }
   ],
   "source": [
    "#extract  full review \n",
    "review_tag=driver.find_elements_by_xpath(\"//div[@class='t-ZTKy']\")\n",
    "review_tag"
   ]
  },
  {
   "cell_type": "code",
   "execution_count": 1429,
   "id": "fd800b1b",
   "metadata": {},
   "outputs": [
    {
     "data": {
      "text/plain": [
       "['The Best Phone for the Money\\n\\nThe iPhone 11 offers superb cameras, a more durable design and excellent battery life for an affordable price.\\n\\nCompelling ultra-wide camera\\nNew Night mode is excellent\\nLong battery life',\n",
       " 'Really satisfied with the Product I received... It’s totally genuine and the packaging was also really good so if ur planning to buy just go for it.',\n",
       " 'Great iPhone very snappy experience as apple kind. Upgraded from iPhone 7.\\nPros\\n-Camera top class\\n- Battery top performed\\n-Chipset no need to say as apple kind\\n-Security as you expect from apple\\n- Display super bright industry leading colour\\naccuracy and super responsive\\n-Build quality as expect from apple sturdy\\npremium durable beautiful stylish.\\n-Os most stable os in smartphone industry\\n\\nCons\\n-No 5G\\n-Display is not based on OLED technology\\n-Charger headphones and 1 apple stic...\\nREAD MORE',\n",
       " 'Amazing phone with great cameras and better battery which gives you the best performance. I just love the camera .',\n",
       " 'This is my first iOS phone. I am very happy with this product. Very much satisfied with this. I love this phone.',\n",
       " 'Previously I was using one plus 3t it was a great phone\\nAnd then I decided to upgrade I am stuck between Samsung s10 plus or iPhone 11\\nI have seen the specs and everything were good except the display it’s somewhere between 720-1080 and it’s not even an amoled it’s an LCD display\\nBut I decided to go with iPhone because I have never used an IOS device I have Been an android user from the past 9 years I ordered IPhone 11 (128gb) product red\\nMy experience after using 3 weeks\\n1. The delivery ...\\nREAD MORE',\n",
       " 'Amazing Powerful and Durable Gadget.\\n\\nI’m am very happy with the camera picture quality, Amazing face id unlocked in dark room, Strong battery with perfect screen size as you can carry easily in pocket. This is my third iPhone.\\n\\nI shifted from android Samsung Note series to iPhone because of the strong build quality and peace of mind for next 3-4 years.\\n\\nDon’t think to much just go for it and I suggest you to go for minimum 128gb variant or more 256gb.\\n\\nI’ve attached my puppy pics and no fi...\\nREAD MORE',\n",
       " 'So far it’s been an AMAZING experience coming back to iOS after nearly a decade but it’s not as versatile as android though phone is sturdy dropped it accidentally a couple of times and nothing happened fortunately camera is awesome',\n",
       " 'What a camera .....just awesome ..you can feel this iPhone just awesome . Good for gaming also ...try pubg in hd it’s just wow',\n",
       " 'i11 is worthy to buy, too much happy with the product. Thank u flipkart I received the item on time..loved it..']"
      ]
     },
     "execution_count": 1429,
     "metadata": {},
     "output_type": "execute_result"
    }
   ],
   "source": [
    "\n",
    "#we will get the full review text using for loop\n",
    "for i in review_tag:\n",
    "    review=i.text\n",
    "    full_review_list.append(review)\n",
    "full_review_list"
   ]
  },
  {
   "cell_type": "code",
   "execution_count": 1430,
   "id": "45b5c2e4",
   "metadata": {},
   "outputs": [],
   "source": [
    "#, go to the next Button at the bottom ofthe page , then click on it.\n",
    "next_button=driver.find_element_by_xpath(\"/html/body/div[1]/div/div[3]/div/div/div[2]/div[13]/div/div/nav/a[11]\")\n",
    "next_button.click()"
   ]
  },
  {
   "cell_type": "code",
   "execution_count": 1431,
   "id": "a947de04",
   "metadata": {},
   "outputs": [
    {
     "data": {
      "text/plain": [
       "[<selenium.webdriver.remote.webelement.WebElement (session=\"21adad40789ed2d83ae180cc85aa07d7\", element=\"f77d4a3c-4ef6-4e36-89a4-7b5075af93c5\")>,\n",
       " <selenium.webdriver.remote.webelement.WebElement (session=\"21adad40789ed2d83ae180cc85aa07d7\", element=\"2edc0bcc-b6b3-40bb-89e7-e75a8b5fb6e5\")>,\n",
       " <selenium.webdriver.remote.webelement.WebElement (session=\"21adad40789ed2d83ae180cc85aa07d7\", element=\"f615ab52-d3d3-4524-b0ef-b9f2f59d176b\")>,\n",
       " <selenium.webdriver.remote.webelement.WebElement (session=\"21adad40789ed2d83ae180cc85aa07d7\", element=\"959f40e1-f04e-4018-8cc1-cdbc83ed017e\")>,\n",
       " <selenium.webdriver.remote.webelement.WebElement (session=\"21adad40789ed2d83ae180cc85aa07d7\", element=\"34edf7c6-e8af-4807-9daf-c6163ab6dde8\")>,\n",
       " <selenium.webdriver.remote.webelement.WebElement (session=\"21adad40789ed2d83ae180cc85aa07d7\", element=\"13f18187-c093-40a0-a22c-4b74dfc5328c\")>,\n",
       " <selenium.webdriver.remote.webelement.WebElement (session=\"21adad40789ed2d83ae180cc85aa07d7\", element=\"569e3e1a-321b-4f6a-9c61-bcf884a1a441\")>,\n",
       " <selenium.webdriver.remote.webelement.WebElement (session=\"21adad40789ed2d83ae180cc85aa07d7\", element=\"c8ac40c8-c1ea-45a5-833b-b5bc98a4af39\")>,\n",
       " <selenium.webdriver.remote.webelement.WebElement (session=\"21adad40789ed2d83ae180cc85aa07d7\", element=\"a25557e1-e079-4201-81c9-c4d24d5dfbc7\")>,\n",
       " <selenium.webdriver.remote.webelement.WebElement (session=\"21adad40789ed2d83ae180cc85aa07d7\", element=\"d163cbbe-2194-47db-bd3d-556f249b3928\")>]"
      ]
     },
     "execution_count": 1431,
     "metadata": {},
     "output_type": "execute_result"
    }
   ],
   "source": [
    "#extract ratings\n",
    "rating_tag=driver.find_elements_by_xpath(\"//div[@class='_3LWZlK _1BLPMq'or @class='_3LWZlK _1rdVr6 _1BLPMq']\")\n",
    "rating_tag"
   ]
  },
  {
   "cell_type": "code",
   "execution_count": 1432,
   "id": "5c67aed4",
   "metadata": {},
   "outputs": [
    {
     "data": {
      "text/plain": [
       "['5',\n",
       " '5',\n",
       " '5',\n",
       " '5',\n",
       " '5',\n",
       " '5',\n",
       " '5',\n",
       " '4',\n",
       " '5',\n",
       " '5',\n",
       " '5',\n",
       " '5',\n",
       " '5',\n",
       " '5',\n",
       " '5',\n",
       " '5',\n",
       " '5',\n",
       " '5',\n",
       " '5',\n",
       " '5']"
      ]
     },
     "execution_count": 1432,
     "metadata": {},
     "output_type": "execute_result"
    }
   ],
   "source": [
    "#we will get the rating text using for loop\n",
    "\n",
    "for i in rating_tag:\n",
    "    rating=i.text\n",
    "    rating_list.append(rating)\n",
    "rating_list"
   ]
  },
  {
   "cell_type": "code",
   "execution_count": 1433,
   "id": "1f177219",
   "metadata": {},
   "outputs": [
    {
     "data": {
      "text/plain": [
       "[<selenium.webdriver.remote.webelement.WebElement (session=\"21adad40789ed2d83ae180cc85aa07d7\", element=\"bead8abd-5a38-4187-b186-d7388f3c4565\")>,\n",
       " <selenium.webdriver.remote.webelement.WebElement (session=\"21adad40789ed2d83ae180cc85aa07d7\", element=\"948ca177-7dda-4d22-a790-f67a7d94c7bb\")>,\n",
       " <selenium.webdriver.remote.webelement.WebElement (session=\"21adad40789ed2d83ae180cc85aa07d7\", element=\"04756937-e6fc-464a-821e-e6397493b781\")>,\n",
       " <selenium.webdriver.remote.webelement.WebElement (session=\"21adad40789ed2d83ae180cc85aa07d7\", element=\"5d41d5d5-45f9-44bf-bf05-42aa3d30ee75\")>,\n",
       " <selenium.webdriver.remote.webelement.WebElement (session=\"21adad40789ed2d83ae180cc85aa07d7\", element=\"0f657299-207e-4927-b865-9487da834d81\")>,\n",
       " <selenium.webdriver.remote.webelement.WebElement (session=\"21adad40789ed2d83ae180cc85aa07d7\", element=\"0c5c5d3e-0ee4-4b90-89e8-65aafd1512b0\")>,\n",
       " <selenium.webdriver.remote.webelement.WebElement (session=\"21adad40789ed2d83ae180cc85aa07d7\", element=\"a1cb7945-da0f-4678-a575-ba550cf46f93\")>,\n",
       " <selenium.webdriver.remote.webelement.WebElement (session=\"21adad40789ed2d83ae180cc85aa07d7\", element=\"90ff726f-a31c-4223-bcd2-6f2428a6850f\")>,\n",
       " <selenium.webdriver.remote.webelement.WebElement (session=\"21adad40789ed2d83ae180cc85aa07d7\", element=\"6b12e07d-52c9-43da-91e5-9200d113354d\")>,\n",
       " <selenium.webdriver.remote.webelement.WebElement (session=\"21adad40789ed2d83ae180cc85aa07d7\", element=\"5f27d90a-f12e-4a1d-9640-ca8ffdfd31be\")>]"
      ]
     },
     "execution_count": 1433,
     "metadata": {},
     "output_type": "execute_result"
    }
   ],
   "source": [
    "#extract review summary\n",
    "review_summary_tag=driver.find_elements_by_xpath(\"//p[@class='_2-N8zT']\")\n",
    "review_summary_tag"
   ]
  },
  {
   "cell_type": "code",
   "execution_count": 1434,
   "id": "5361c969",
   "metadata": {},
   "outputs": [
    {
     "data": {
      "text/plain": [
       "['Brilliant',\n",
       " 'Simply awesome',\n",
       " 'Best in the market!',\n",
       " 'Perfect product!',\n",
       " 'Fabulous!',\n",
       " 'Worth every penny',\n",
       " 'Great product',\n",
       " 'Good choice',\n",
       " 'Highly recommended',\n",
       " 'Worth every penny',\n",
       " 'Highly recommended',\n",
       " 'Perfect product!',\n",
       " 'Perfect product!',\n",
       " 'Highly recommended',\n",
       " 'Worth every penny',\n",
       " 'Perfect product!',\n",
       " 'Worth every penny',\n",
       " 'Simply awesome',\n",
       " 'Classy product',\n",
       " 'Worth every penny']"
      ]
     },
     "execution_count": 1434,
     "metadata": {},
     "output_type": "execute_result"
    }
   ],
   "source": [
    "#we will get the review summary text using for loop\n",
    "\n",
    "for i in review_summary_tag:\n",
    "    summary=i.text\n",
    "    review_summary_list.append(summary)\n",
    "review_summary_list"
   ]
  },
  {
   "cell_type": "code",
   "execution_count": 1435,
   "id": "0822a8cd",
   "metadata": {},
   "outputs": [
    {
     "data": {
      "text/plain": [
       "[<selenium.webdriver.remote.webelement.WebElement (session=\"21adad40789ed2d83ae180cc85aa07d7\", element=\"df9f2047-4c16-499b-9854-c2744eb93efc\")>,\n",
       " <selenium.webdriver.remote.webelement.WebElement (session=\"21adad40789ed2d83ae180cc85aa07d7\", element=\"dbbb1300-1bd4-40fe-bcac-6881a79970db\")>,\n",
       " <selenium.webdriver.remote.webelement.WebElement (session=\"21adad40789ed2d83ae180cc85aa07d7\", element=\"e5baa0ea-cb37-4258-a5ae-7704ae2fdd04\")>,\n",
       " <selenium.webdriver.remote.webelement.WebElement (session=\"21adad40789ed2d83ae180cc85aa07d7\", element=\"12002055-4d07-4975-bfb0-24c395099777\")>,\n",
       " <selenium.webdriver.remote.webelement.WebElement (session=\"21adad40789ed2d83ae180cc85aa07d7\", element=\"affa3d12-0e56-455e-b944-a2f22e40f089\")>,\n",
       " <selenium.webdriver.remote.webelement.WebElement (session=\"21adad40789ed2d83ae180cc85aa07d7\", element=\"ddfddd78-fb5e-486d-bbfd-fcfb09374883\")>,\n",
       " <selenium.webdriver.remote.webelement.WebElement (session=\"21adad40789ed2d83ae180cc85aa07d7\", element=\"5e114e50-43ca-44a1-8ded-0ca8411bd473\")>,\n",
       " <selenium.webdriver.remote.webelement.WebElement (session=\"21adad40789ed2d83ae180cc85aa07d7\", element=\"e5cc8a0b-4cdc-47cf-ab83-5470cd42105f\")>,\n",
       " <selenium.webdriver.remote.webelement.WebElement (session=\"21adad40789ed2d83ae180cc85aa07d7\", element=\"43b5ac2b-4530-460a-966e-c2af51fab1f2\")>,\n",
       " <selenium.webdriver.remote.webelement.WebElement (session=\"21adad40789ed2d83ae180cc85aa07d7\", element=\"dcd5272a-f4f8-440c-8cbd-20aa622bf985\")>]"
      ]
     },
     "execution_count": 1435,
     "metadata": {},
     "output_type": "execute_result"
    }
   ],
   "source": [
    "#extract  full review \n",
    "review_tag=driver.find_elements_by_xpath(\"//div[@class='t-ZTKy']\")\n",
    "review_tag"
   ]
  },
  {
   "cell_type": "code",
   "execution_count": 1436,
   "id": "84608d13",
   "metadata": {},
   "outputs": [
    {
     "data": {
      "text/plain": [
       "['The Best Phone for the Money\\n\\nThe iPhone 11 offers superb cameras, a more durable design and excellent battery life for an affordable price.\\n\\nCompelling ultra-wide camera\\nNew Night mode is excellent\\nLong battery life',\n",
       " 'Really satisfied with the Product I received... It’s totally genuine and the packaging was also really good so if ur planning to buy just go for it.',\n",
       " 'Great iPhone very snappy experience as apple kind. Upgraded from iPhone 7.\\nPros\\n-Camera top class\\n- Battery top performed\\n-Chipset no need to say as apple kind\\n-Security as you expect from apple\\n- Display super bright industry leading colour\\naccuracy and super responsive\\n-Build quality as expect from apple sturdy\\npremium durable beautiful stylish.\\n-Os most stable os in smartphone industry\\n\\nCons\\n-No 5G\\n-Display is not based on OLED technology\\n-Charger headphones and 1 apple stic...\\nREAD MORE',\n",
       " 'Amazing phone with great cameras and better battery which gives you the best performance. I just love the camera .',\n",
       " 'This is my first iOS phone. I am very happy with this product. Very much satisfied with this. I love this phone.',\n",
       " 'Previously I was using one plus 3t it was a great phone\\nAnd then I decided to upgrade I am stuck between Samsung s10 plus or iPhone 11\\nI have seen the specs and everything were good except the display it’s somewhere between 720-1080 and it’s not even an amoled it’s an LCD display\\nBut I decided to go with iPhone because I have never used an IOS device I have Been an android user from the past 9 years I ordered IPhone 11 (128gb) product red\\nMy experience after using 3 weeks\\n1. The delivery ...\\nREAD MORE',\n",
       " 'Amazing Powerful and Durable Gadget.\\n\\nI’m am very happy with the camera picture quality, Amazing face id unlocked in dark room, Strong battery with perfect screen size as you can carry easily in pocket. This is my third iPhone.\\n\\nI shifted from android Samsung Note series to iPhone because of the strong build quality and peace of mind for next 3-4 years.\\n\\nDon’t think to much just go for it and I suggest you to go for minimum 128gb variant or more 256gb.\\n\\nI’ve attached my puppy pics and no fi...\\nREAD MORE',\n",
       " 'So far it’s been an AMAZING experience coming back to iOS after nearly a decade but it’s not as versatile as android though phone is sturdy dropped it accidentally a couple of times and nothing happened fortunately camera is awesome',\n",
       " 'What a camera .....just awesome ..you can feel this iPhone just awesome . Good for gaming also ...try pubg in hd it’s just wow',\n",
       " 'i11 is worthy to buy, too much happy with the product. Thank u flipkart I received the item on time..loved it..',\n",
       " 'iphone 11 is a very good phone to buy only if you can compromise for the display. The display on this is device is pretty good but you can get other options with better displays in this price segment.\\nIf you can survive with an HD+ LCD panel with thicker bezels and a notch up top then this is a very good phone for you.\\nCameras are awesome, battery backup excellent, great performance and a decent premium look. Good job Apple !',\n",
       " 'It’s a must buy who is looking for an upgrade from previous generation of iPhones. If you are using XR then still you can hold on for sometime and upgrade to 2020 model else this phone is a must buy . Camera quality is amazing and wide angle is something to count upon. Performance wise it’s amazing and feels premium while holding in hand. So a big YES for this device. Go for 128 GB variant as the 4K videos will occupy lots of space and the storage can get over very quickly. Try to buy it with...\\nREAD MORE',\n",
       " 'Value for money❤️❤️\\nIts awesome mobile phone in the world ...\\nDisplay was very good and bright ..\\nTrust me freinds you r never regret after Buying..\\nJust go for it....\\nI love this phone and i switch to iphone x to 11',\n",
       " \"It's my first time to use iOS phone and I am loving my upgradation 😍😍 I love the color, I love the assebility of the phone....I need to learn more about its functionality, but as far as I have seen, it's quite easy and it has a lot of functions to work on, specially if you are a content writer or a blogger you get a lot of content creation platforms and they are really amazing.\\n\\nThis phone not only for good quality photography but a lot of other task too.😍💯\",\n",
       " 'Smooth like butter, camera like fantabulous, sound is crystal clear & its red color is damn attractive, i am just loving it. Must buy if you love photography.\\n\\nLucky to get it in sale, thank you Flipkart.',\n",
       " \"Iphone is just awesome.. battery backup is very very nice.. continuously for 10 hours we can use it.camera is just awesome.. display is just fab.i love it alot..i had to wait 15 days for it as i pre ordered it..overalll it's worth the price..these all images are clicked by my iPhone..and i love it.\",\n",
       " 'Best budget Iphone till date ❤️ go for it guys without second thought. Let me explain you guys about Camera, Display, battery, and performance.\\n\\nCamera: at this price range there is no comparison of camera, you’ll love the picture quality as well as video quality. I am a Vlogger I wanted an iPhone with 4k video by front camera and I got this phone and I am more than happy 😃\\n\\nBattery: I use this phone roughly as I am active social media person and I have a youtube channel. so the battery ba...\\nREAD MORE',\n",
       " 'Excellent camera, good performance, no lag. The lcd display is also good.. but difference come when we watch movie in prime and Netflix, the colours are not vibrant.. as we see in amoled display.. and the charger in box is of 5 watts.. takes more than 3 hours to charge from 0 to 100.. so guys be prepare to buy 18 watts charger . Finally I am an android user, it was my first Iapple phone, I promise u guys the iOS is so smooth.. overall the phone is damn good.... close eyes to buy it.. thanks t...\\nREAD MORE',\n",
       " 'Totally in love with this ❤ the camera quality is amazing just love it 😘😘😘 itsss dammnnnnnn amazing... Must buy iPhone 11 this is my best experience ever ☀👌👌🧡🧡🧡🧡🧡 thanku apple ❤',\n",
       " 'It’s been almost a month since I have been using this phone. I upgraded from an iPhone 8. The main issue with my 8 was battery and this phone is just awesome when it comes to battery. It lasts a day and a half for me with my regular use , internet connected always with 4g\\nCan’t move forward without saying this. Battery of this phone is a life saver when I am traveling or at work when I don’t get the option to charge\\nCamera is superb. Front cam selfies and back cam photos are just awesome.\\n...\\nREAD MORE']"
      ]
     },
     "execution_count": 1436,
     "metadata": {},
     "output_type": "execute_result"
    }
   ],
   "source": [
    "\n",
    "#we will get the full review text using for loop\n",
    "\n",
    "for i in review_tag:\n",
    "    review=i.text\n",
    "    full_review_list.append(review)\n",
    "full_review_list"
   ]
  },
  {
   "cell_type": "code",
   "execution_count": 1437,
   "id": "f348c3ff",
   "metadata": {},
   "outputs": [
    {
     "name": "stdout",
     "output_type": "stream",
     "text": [
      "20 20 20\n"
     ]
    }
   ],
   "source": [
    "print(len(rating_list), len(review_summary_list), len(full_review_list))"
   ]
  },
  {
   "cell_type": "code",
   "execution_count": 1438,
   "id": "0e3b71cc",
   "metadata": {},
   "outputs": [],
   "source": [
    "#, go to the all review Button at the bottom ofthe page , then click on it.\n",
    "next_button=driver.find_element_by_xpath(\"/html/body/div[1]/div/div[3]/div/div/div[2]/div[13]/div/div/nav/a[12]\")\n",
    "next_button.click()"
   ]
  },
  {
   "cell_type": "code",
   "execution_count": 1439,
   "id": "d6d29987",
   "metadata": {},
   "outputs": [
    {
     "data": {
      "text/plain": [
       "[<selenium.webdriver.remote.webelement.WebElement (session=\"21adad40789ed2d83ae180cc85aa07d7\", element=\"2cf7c321-8d03-42eb-9c51-e86c0d58cd3d\")>,\n",
       " <selenium.webdriver.remote.webelement.WebElement (session=\"21adad40789ed2d83ae180cc85aa07d7\", element=\"ad85c27e-47a7-4419-b4d5-c3e143f19aa2\")>,\n",
       " <selenium.webdriver.remote.webelement.WebElement (session=\"21adad40789ed2d83ae180cc85aa07d7\", element=\"e2eac2f9-bf2e-40a8-b0f2-4a1a6dfeef36\")>,\n",
       " <selenium.webdriver.remote.webelement.WebElement (session=\"21adad40789ed2d83ae180cc85aa07d7\", element=\"a765fb35-49ff-4ae9-9b70-b8e8448e2b2a\")>,\n",
       " <selenium.webdriver.remote.webelement.WebElement (session=\"21adad40789ed2d83ae180cc85aa07d7\", element=\"1734b1d3-13fc-48a8-a370-a3b27c05e930\")>,\n",
       " <selenium.webdriver.remote.webelement.WebElement (session=\"21adad40789ed2d83ae180cc85aa07d7\", element=\"1f03dfff-fe2e-4920-9487-94662e207467\")>,\n",
       " <selenium.webdriver.remote.webelement.WebElement (session=\"21adad40789ed2d83ae180cc85aa07d7\", element=\"2c927bdf-e9f1-4529-bc1b-71477d7ca682\")>,\n",
       " <selenium.webdriver.remote.webelement.WebElement (session=\"21adad40789ed2d83ae180cc85aa07d7\", element=\"1e1eef91-7f9a-4677-af19-02d101b15032\")>,\n",
       " <selenium.webdriver.remote.webelement.WebElement (session=\"21adad40789ed2d83ae180cc85aa07d7\", element=\"04068119-0542-45ea-86d6-7ba85461794d\")>,\n",
       " <selenium.webdriver.remote.webelement.WebElement (session=\"21adad40789ed2d83ae180cc85aa07d7\", element=\"5942dd1c-53b4-4b39-81e3-c7784ae33b7c\")>]"
      ]
     },
     "execution_count": 1439,
     "metadata": {},
     "output_type": "execute_result"
    }
   ],
   "source": [
    "#extract ratings\n",
    "rating_tag=driver.find_elements_by_xpath(\"//div[@class='_3LWZlK _1BLPMq'or @class='_3LWZlK _1rdVr6 _1BLPMq']\")\n",
    "rating_tag"
   ]
  },
  {
   "cell_type": "code",
   "execution_count": 1440,
   "id": "d2e73562",
   "metadata": {},
   "outputs": [
    {
     "data": {
      "text/plain": [
       "['5',\n",
       " '5',\n",
       " '5',\n",
       " '5',\n",
       " '5',\n",
       " '5',\n",
       " '5',\n",
       " '4',\n",
       " '5',\n",
       " '5',\n",
       " '5',\n",
       " '5',\n",
       " '5',\n",
       " '5',\n",
       " '5',\n",
       " '5',\n",
       " '5',\n",
       " '5',\n",
       " '5',\n",
       " '5',\n",
       " '5',\n",
       " '5',\n",
       " '4',\n",
       " '5',\n",
       " '5',\n",
       " '5',\n",
       " '5',\n",
       " '4',\n",
       " '5',\n",
       " '5']"
      ]
     },
     "execution_count": 1440,
     "metadata": {},
     "output_type": "execute_result"
    }
   ],
   "source": [
    "#we will get the rating text using for loop\n",
    "\n",
    "for i in rating_tag:\n",
    "    rating=i.text\n",
    "    rating_list.append(rating)\n",
    "rating_list\n"
   ]
  },
  {
   "cell_type": "code",
   "execution_count": 1441,
   "id": "4f897f12",
   "metadata": {},
   "outputs": [
    {
     "data": {
      "text/plain": [
       "[<selenium.webdriver.remote.webelement.WebElement (session=\"21adad40789ed2d83ae180cc85aa07d7\", element=\"14be7318-0493-4e2a-9e32-5c3855fc370f\")>,\n",
       " <selenium.webdriver.remote.webelement.WebElement (session=\"21adad40789ed2d83ae180cc85aa07d7\", element=\"e6702848-56bb-429d-83e3-5dfccb362106\")>,\n",
       " <selenium.webdriver.remote.webelement.WebElement (session=\"21adad40789ed2d83ae180cc85aa07d7\", element=\"d95d3b39-5fd6-4a67-b1d8-76dd81c4cae8\")>,\n",
       " <selenium.webdriver.remote.webelement.WebElement (session=\"21adad40789ed2d83ae180cc85aa07d7\", element=\"3bb0508e-7370-40c2-8bff-88949681c777\")>,\n",
       " <selenium.webdriver.remote.webelement.WebElement (session=\"21adad40789ed2d83ae180cc85aa07d7\", element=\"d0c6b59d-e81b-43aa-b256-59dea9543c51\")>,\n",
       " <selenium.webdriver.remote.webelement.WebElement (session=\"21adad40789ed2d83ae180cc85aa07d7\", element=\"4995b8c6-0830-4fea-bf3d-7ef9ec2cf2ac\")>,\n",
       " <selenium.webdriver.remote.webelement.WebElement (session=\"21adad40789ed2d83ae180cc85aa07d7\", element=\"f84ee1ad-6fb9-4906-835d-ca313e1b784c\")>,\n",
       " <selenium.webdriver.remote.webelement.WebElement (session=\"21adad40789ed2d83ae180cc85aa07d7\", element=\"21f00882-3436-4c00-bafe-6a03769e3842\")>,\n",
       " <selenium.webdriver.remote.webelement.WebElement (session=\"21adad40789ed2d83ae180cc85aa07d7\", element=\"c4c16536-59b1-4a6b-b727-f7c2191312fe\")>,\n",
       " <selenium.webdriver.remote.webelement.WebElement (session=\"21adad40789ed2d83ae180cc85aa07d7\", element=\"066aab99-f69c-4557-a179-74183314cf6d\")>]"
      ]
     },
     "execution_count": 1441,
     "metadata": {},
     "output_type": "execute_result"
    }
   ],
   "source": [
    "#extract review summary\n",
    "review_summary_tag=driver.find_elements_by_xpath(\"//p[@class='_2-N8zT']\")\n",
    "review_summary_tag"
   ]
  },
  {
   "cell_type": "code",
   "execution_count": 1442,
   "id": "7011567d",
   "metadata": {},
   "outputs": [
    {
     "data": {
      "text/plain": [
       "['Brilliant',\n",
       " 'Simply awesome',\n",
       " 'Best in the market!',\n",
       " 'Perfect product!',\n",
       " 'Fabulous!',\n",
       " 'Worth every penny',\n",
       " 'Great product',\n",
       " 'Good choice',\n",
       " 'Highly recommended',\n",
       " 'Worth every penny',\n",
       " 'Highly recommended',\n",
       " 'Perfect product!',\n",
       " 'Perfect product!',\n",
       " 'Highly recommended',\n",
       " 'Worth every penny',\n",
       " 'Perfect product!',\n",
       " 'Worth every penny',\n",
       " 'Simply awesome',\n",
       " 'Classy product',\n",
       " 'Worth every penny',\n",
       " 'Wonderful',\n",
       " 'Terrific',\n",
       " 'Nice product',\n",
       " 'Perfect product!',\n",
       " 'Perfect product!',\n",
       " 'Classy product',\n",
       " 'Brilliant',\n",
       " 'Good choice',\n",
       " 'Great product',\n",
       " 'Must buy!']"
      ]
     },
     "execution_count": 1442,
     "metadata": {},
     "output_type": "execute_result"
    }
   ],
   "source": [
    "#we will get the review summary text using for loop\n",
    "\n",
    "for i in review_summary_tag:\n",
    "    summary=i.text\n",
    "    review_summary_list.append(summary)\n",
    "review_summary_list"
   ]
  },
  {
   "cell_type": "code",
   "execution_count": 1443,
   "id": "dbb3b188",
   "metadata": {},
   "outputs": [
    {
     "data": {
      "text/plain": [
       "[<selenium.webdriver.remote.webelement.WebElement (session=\"21adad40789ed2d83ae180cc85aa07d7\", element=\"71985559-63ec-4e74-bcb1-bdcea4a0f74a\")>,\n",
       " <selenium.webdriver.remote.webelement.WebElement (session=\"21adad40789ed2d83ae180cc85aa07d7\", element=\"481b9fc3-72d8-46c2-a9b3-231eeab05e54\")>,\n",
       " <selenium.webdriver.remote.webelement.WebElement (session=\"21adad40789ed2d83ae180cc85aa07d7\", element=\"30576b4e-a223-4ed0-9e92-741b9ceecf3c\")>,\n",
       " <selenium.webdriver.remote.webelement.WebElement (session=\"21adad40789ed2d83ae180cc85aa07d7\", element=\"d3ebb4d7-0258-4f68-adbd-1b38f4082b8e\")>,\n",
       " <selenium.webdriver.remote.webelement.WebElement (session=\"21adad40789ed2d83ae180cc85aa07d7\", element=\"99c042d5-8858-4ca3-8d68-df50367cc970\")>,\n",
       " <selenium.webdriver.remote.webelement.WebElement (session=\"21adad40789ed2d83ae180cc85aa07d7\", element=\"73073f9c-c853-4974-93ca-e78c9205f91b\")>,\n",
       " <selenium.webdriver.remote.webelement.WebElement (session=\"21adad40789ed2d83ae180cc85aa07d7\", element=\"f895eff9-7005-4074-a987-dc00594a3936\")>,\n",
       " <selenium.webdriver.remote.webelement.WebElement (session=\"21adad40789ed2d83ae180cc85aa07d7\", element=\"1f1e225d-93f2-443c-9516-2f3317927a60\")>,\n",
       " <selenium.webdriver.remote.webelement.WebElement (session=\"21adad40789ed2d83ae180cc85aa07d7\", element=\"7fda4163-9334-430f-9ae1-d8dc1db749b6\")>,\n",
       " <selenium.webdriver.remote.webelement.WebElement (session=\"21adad40789ed2d83ae180cc85aa07d7\", element=\"7544a3dd-81ff-4ea7-aa62-329f635877db\")>]"
      ]
     },
     "execution_count": 1443,
     "metadata": {},
     "output_type": "execute_result"
    }
   ],
   "source": [
    "#extract  full review \n",
    "review_tag=driver.find_elements_by_xpath(\"//div[@class='t-ZTKy']\")\n",
    "review_tag"
   ]
  },
  {
   "cell_type": "code",
   "execution_count": 1444,
   "id": "066b4889",
   "metadata": {},
   "outputs": [
    {
     "data": {
      "text/plain": [
       "['The Best Phone for the Money\\n\\nThe iPhone 11 offers superb cameras, a more durable design and excellent battery life for an affordable price.\\n\\nCompelling ultra-wide camera\\nNew Night mode is excellent\\nLong battery life',\n",
       " 'Really satisfied with the Product I received... It’s totally genuine and the packaging was also really good so if ur planning to buy just go for it.',\n",
       " 'Great iPhone very snappy experience as apple kind. Upgraded from iPhone 7.\\nPros\\n-Camera top class\\n- Battery top performed\\n-Chipset no need to say as apple kind\\n-Security as you expect from apple\\n- Display super bright industry leading colour\\naccuracy and super responsive\\n-Build quality as expect from apple sturdy\\npremium durable beautiful stylish.\\n-Os most stable os in smartphone industry\\n\\nCons\\n-No 5G\\n-Display is not based on OLED technology\\n-Charger headphones and 1 apple stic...\\nREAD MORE',\n",
       " 'Amazing phone with great cameras and better battery which gives you the best performance. I just love the camera .',\n",
       " 'This is my first iOS phone. I am very happy with this product. Very much satisfied with this. I love this phone.',\n",
       " 'Previously I was using one plus 3t it was a great phone\\nAnd then I decided to upgrade I am stuck between Samsung s10 plus or iPhone 11\\nI have seen the specs and everything were good except the display it’s somewhere between 720-1080 and it’s not even an amoled it’s an LCD display\\nBut I decided to go with iPhone because I have never used an IOS device I have Been an android user from the past 9 years I ordered IPhone 11 (128gb) product red\\nMy experience after using 3 weeks\\n1. The delivery ...\\nREAD MORE',\n",
       " 'Amazing Powerful and Durable Gadget.\\n\\nI’m am very happy with the camera picture quality, Amazing face id unlocked in dark room, Strong battery with perfect screen size as you can carry easily in pocket. This is my third iPhone.\\n\\nI shifted from android Samsung Note series to iPhone because of the strong build quality and peace of mind for next 3-4 years.\\n\\nDon’t think to much just go for it and I suggest you to go for minimum 128gb variant or more 256gb.\\n\\nI’ve attached my puppy pics and no fi...\\nREAD MORE',\n",
       " 'So far it’s been an AMAZING experience coming back to iOS after nearly a decade but it’s not as versatile as android though phone is sturdy dropped it accidentally a couple of times and nothing happened fortunately camera is awesome',\n",
       " 'What a camera .....just awesome ..you can feel this iPhone just awesome . Good for gaming also ...try pubg in hd it’s just wow',\n",
       " 'i11 is worthy to buy, too much happy with the product. Thank u flipkart I received the item on time..loved it..',\n",
       " 'iphone 11 is a very good phone to buy only if you can compromise for the display. The display on this is device is pretty good but you can get other options with better displays in this price segment.\\nIf you can survive with an HD+ LCD panel with thicker bezels and a notch up top then this is a very good phone for you.\\nCameras are awesome, battery backup excellent, great performance and a decent premium look. Good job Apple !',\n",
       " 'It’s a must buy who is looking for an upgrade from previous generation of iPhones. If you are using XR then still you can hold on for sometime and upgrade to 2020 model else this phone is a must buy . Camera quality is amazing and wide angle is something to count upon. Performance wise it’s amazing and feels premium while holding in hand. So a big YES for this device. Go for 128 GB variant as the 4K videos will occupy lots of space and the storage can get over very quickly. Try to buy it with...\\nREAD MORE',\n",
       " 'Value for money❤️❤️\\nIts awesome mobile phone in the world ...\\nDisplay was very good and bright ..\\nTrust me freinds you r never regret after Buying..\\nJust go for it....\\nI love this phone and i switch to iphone x to 11',\n",
       " \"It's my first time to use iOS phone and I am loving my upgradation 😍😍 I love the color, I love the assebility of the phone....I need to learn more about its functionality, but as far as I have seen, it's quite easy and it has a lot of functions to work on, specially if you are a content writer or a blogger you get a lot of content creation platforms and they are really amazing.\\n\\nThis phone not only for good quality photography but a lot of other task too.😍💯\",\n",
       " 'Smooth like butter, camera like fantabulous, sound is crystal clear & its red color is damn attractive, i am just loving it. Must buy if you love photography.\\n\\nLucky to get it in sale, thank you Flipkart.',\n",
       " \"Iphone is just awesome.. battery backup is very very nice.. continuously for 10 hours we can use it.camera is just awesome.. display is just fab.i love it alot..i had to wait 15 days for it as i pre ordered it..overalll it's worth the price..these all images are clicked by my iPhone..and i love it.\",\n",
       " 'Best budget Iphone till date ❤️ go for it guys without second thought. Let me explain you guys about Camera, Display, battery, and performance.\\n\\nCamera: at this price range there is no comparison of camera, you’ll love the picture quality as well as video quality. I am a Vlogger I wanted an iPhone with 4k video by front camera and I got this phone and I am more than happy 😃\\n\\nBattery: I use this phone roughly as I am active social media person and I have a youtube channel. so the battery ba...\\nREAD MORE',\n",
       " 'Excellent camera, good performance, no lag. The lcd display is also good.. but difference come when we watch movie in prime and Netflix, the colours are not vibrant.. as we see in amoled display.. and the charger in box is of 5 watts.. takes more than 3 hours to charge from 0 to 100.. so guys be prepare to buy 18 watts charger . Finally I am an android user, it was my first Iapple phone, I promise u guys the iOS is so smooth.. overall the phone is damn good.... close eyes to buy it.. thanks t...\\nREAD MORE',\n",
       " 'Totally in love with this ❤ the camera quality is amazing just love it 😘😘😘 itsss dammnnnnnn amazing... Must buy iPhone 11 this is my best experience ever ☀👌👌🧡🧡🧡🧡🧡 thanku apple ❤',\n",
       " 'It’s been almost a month since I have been using this phone. I upgraded from an iPhone 8. The main issue with my 8 was battery and this phone is just awesome when it comes to battery. It lasts a day and a half for me with my regular use , internet connected always with 4g\\nCan’t move forward without saying this. Battery of this phone is a life saver when I am traveling or at work when I don’t get the option to charge\\nCamera is superb. Front cam selfies and back cam photos are just awesome.\\n...\\nREAD MORE',\n",
       " 'This is my first ever I phone. Before this I was using my google nexus 5. But moving from android to iOS is a great experience. It’s worth at this price. I will highly recommend it if you want to move to iOS. The best part of this phone is it’s camera and it’s battery life. This two things have won my heart. I loved it. Happy to have it in my hand. Still exploring its features. And can’t forget to mention Flipkart service. Very prompt service and fast delivery.',\n",
       " 'Really worth of money. i just love it. It is the best phone ever.',\n",
       " 'Awesome Phone. Slightly high price but worth. Better than iPhone XR.\\nCamera is superb and wide angle camera is very clear.\\n12MP selfie camera is also very good.\\nA13 Chip gives a very good and smooth performance.',\n",
       " 'It is just awesome mobile for this price from Apple,\\n\\nAfter 10 days review\\n\\nBattery enough for 1 day even 24*7 Internet will be on and mostly internet usage\\n\\nCamera is just awesome cool , android 64 MP is equal to this just 12 MP\\n\\nA13 Bionic chip will give more high performance without hanging\\n\\nAudio stereo speakers will give Dolby atoms sound with crystal clear\\n\\nVideo recording is like cinematic shots of every sec can be a 4K 60fps. Just awesome this phone\\niPhone 11 loved one',\n",
       " 'Battery backup is extraordinary, camera is decent & performance offered by A13 bionic is awsome. The display is good in practical usage like the visibility of display is very good in direct sun light compare to pro models. Iam extremely satisfied for the money I spent.',\n",
       " 'Superb Product !!!\\nA big and worthy upgrade from mi 3S to iphone 11 .\\nTotally loved it !',\n",
       " 'I have migrated from OP 7pro... and trust me, iPhone 11 is totally worth it.. following are the reasons:-\\n1)there is ABSOLUTELY NO ISSUE WITH THE DISPLAY... its crisp, sharp and I found it to be much much better than OP7 pro. Netflix, Prime video all run crisply... you won’t miss a thing. True Tone works flawlessly...the display brightness is perfect. OP have not calibrated their screens properly.\\n2) iPhone 11 series have really good cameras... others have spoken in depth about them.\\n3) bat...\\nREAD MORE',\n",
       " 'Looking so good 👍 😍 super 👌 stylish 😎 phone\\nClean box 📦 good 👍 delivery 👌 fast delivery\\nOriginal box Original iphone 📱 👌 😍😍😍',\n",
       " \"Again back to apple iphone after a gap of 2-3 years. It's pleasure to use iOS and the quality product by Apple. Iphone 11 still works like a beast in 2021 also. It really capable of doing day to day usage as well as hard core gaming. Battery is awesome. I'm really too much satisfied with it. Apart fto the very gorgious IPS LCD (AMOLED will be better) everything is mind boggling. Iphone💕.\",\n",
       " 'It’s an amazing product from apple and the camera is simply superb. Phone is faster.Night shot is simply superb and detailing and colour differentiation from camera is an added advantage\\n\\nThis review I have written from iPhone 11 only and I am glad to say outside.\\n\\nCons wise if we see HD+ display only, no battery percentage indicator as in older iPhone 8.\\nNo assistive touch control button in it\\nNo oleophobic coating on back panel glass and finger prints are visible but since I bought mint gr...\\nREAD MORE']"
      ]
     },
     "execution_count": 1444,
     "metadata": {},
     "output_type": "execute_result"
    }
   ],
   "source": [
    "#we will get the full review text using for loop\n",
    "\n",
    "for i in review_tag:\n",
    "    review=i.text\n",
    "    full_review_list.append(review)\n",
    "full_review_list"
   ]
  },
  {
   "cell_type": "code",
   "execution_count": 1445,
   "id": "abdd8c2c",
   "metadata": {},
   "outputs": [],
   "source": [
    "#, go to the all review Button at the bottom ofthe page , then click on it.\n",
    "next_button=driver.find_element_by_xpath(\"/html/body/div[1]/div/div[3]/div/div/div[2]/div[13]/div/div/nav/a[12]\")\n",
    "next_button.click()"
   ]
  },
  {
   "cell_type": "code",
   "execution_count": 1446,
   "id": "395688e7",
   "metadata": {},
   "outputs": [
    {
     "data": {
      "text/plain": [
       "[<selenium.webdriver.remote.webelement.WebElement (session=\"21adad40789ed2d83ae180cc85aa07d7\", element=\"c1e5b982-777b-43f1-be7a-d98521eee308\")>,\n",
       " <selenium.webdriver.remote.webelement.WebElement (session=\"21adad40789ed2d83ae180cc85aa07d7\", element=\"a2b87326-8091-4b60-809f-f8a5a38f239f\")>,\n",
       " <selenium.webdriver.remote.webelement.WebElement (session=\"21adad40789ed2d83ae180cc85aa07d7\", element=\"0f06da0b-b1b0-4f53-bdc2-afb5c85bb46d\")>,\n",
       " <selenium.webdriver.remote.webelement.WebElement (session=\"21adad40789ed2d83ae180cc85aa07d7\", element=\"5be47fc2-0b3b-4c95-84b2-c522c25d19b9\")>,\n",
       " <selenium.webdriver.remote.webelement.WebElement (session=\"21adad40789ed2d83ae180cc85aa07d7\", element=\"e6dedcc3-8624-47ae-a077-852d9ad6ef8d\")>,\n",
       " <selenium.webdriver.remote.webelement.WebElement (session=\"21adad40789ed2d83ae180cc85aa07d7\", element=\"6b2f2601-9f64-4623-aa93-bae5232d3940\")>,\n",
       " <selenium.webdriver.remote.webelement.WebElement (session=\"21adad40789ed2d83ae180cc85aa07d7\", element=\"e9fabc57-1294-4faf-bbba-d08c640a71a3\")>,\n",
       " <selenium.webdriver.remote.webelement.WebElement (session=\"21adad40789ed2d83ae180cc85aa07d7\", element=\"42085982-6101-4092-8d5d-f06f7a957621\")>,\n",
       " <selenium.webdriver.remote.webelement.WebElement (session=\"21adad40789ed2d83ae180cc85aa07d7\", element=\"3b432e60-0b99-4a1a-853d-cd60170f49bd\")>,\n",
       " <selenium.webdriver.remote.webelement.WebElement (session=\"21adad40789ed2d83ae180cc85aa07d7\", element=\"ff61beae-1c65-43ef-a417-b26c26d79a96\")>]"
      ]
     },
     "execution_count": 1446,
     "metadata": {},
     "output_type": "execute_result"
    }
   ],
   "source": [
    "#extract ratings\n",
    "rating_tag=driver.find_elements_by_xpath(\"//div[@class='_3LWZlK _1BLPMq'or @class='_3LWZlK _1rdVr6 _1BLPMq']\")\n",
    "rating_tag"
   ]
  },
  {
   "cell_type": "code",
   "execution_count": 1447,
   "id": "c451f69d",
   "metadata": {},
   "outputs": [
    {
     "data": {
      "text/plain": [
       "['5',\n",
       " '5',\n",
       " '5',\n",
       " '5',\n",
       " '5',\n",
       " '5',\n",
       " '5',\n",
       " '4',\n",
       " '5',\n",
       " '5',\n",
       " '5',\n",
       " '5',\n",
       " '5',\n",
       " '5',\n",
       " '5',\n",
       " '5',\n",
       " '5',\n",
       " '5',\n",
       " '5',\n",
       " '5',\n",
       " '5',\n",
       " '5',\n",
       " '4',\n",
       " '5',\n",
       " '5',\n",
       " '5',\n",
       " '5',\n",
       " '4',\n",
       " '5',\n",
       " '5',\n",
       " '5',\n",
       " '5',\n",
       " '5',\n",
       " '5',\n",
       " '5',\n",
       " '5',\n",
       " '5',\n",
       " '5',\n",
       " '5',\n",
       " '4']"
      ]
     },
     "execution_count": 1447,
     "metadata": {},
     "output_type": "execute_result"
    }
   ],
   "source": [
    "#we will get the rating text using for loop\n",
    "\n",
    "for i in rating_tag:\n",
    "    rating=i.text\n",
    "    rating_list.append(rating)\n",
    "rating_list"
   ]
  },
  {
   "cell_type": "code",
   "execution_count": 1448,
   "id": "b3c4ce7a",
   "metadata": {},
   "outputs": [
    {
     "data": {
      "text/plain": [
       "[<selenium.webdriver.remote.webelement.WebElement (session=\"21adad40789ed2d83ae180cc85aa07d7\", element=\"92448509-5ab4-4d66-8003-3d030a7dd029\")>,\n",
       " <selenium.webdriver.remote.webelement.WebElement (session=\"21adad40789ed2d83ae180cc85aa07d7\", element=\"ed8fea7a-34d5-462d-90a9-ea5b9a495f9d\")>,\n",
       " <selenium.webdriver.remote.webelement.WebElement (session=\"21adad40789ed2d83ae180cc85aa07d7\", element=\"9a6606c1-1cc6-4abf-9bbb-25813d1fd850\")>,\n",
       " <selenium.webdriver.remote.webelement.WebElement (session=\"21adad40789ed2d83ae180cc85aa07d7\", element=\"60de0b05-d739-49c0-90cb-5b2eed5eb203\")>,\n",
       " <selenium.webdriver.remote.webelement.WebElement (session=\"21adad40789ed2d83ae180cc85aa07d7\", element=\"f0bd0ecd-264d-460c-81b3-722f5c24b0ba\")>,\n",
       " <selenium.webdriver.remote.webelement.WebElement (session=\"21adad40789ed2d83ae180cc85aa07d7\", element=\"f8e8410b-934d-4523-b27b-90028f2160d3\")>,\n",
       " <selenium.webdriver.remote.webelement.WebElement (session=\"21adad40789ed2d83ae180cc85aa07d7\", element=\"e24a7acc-bc96-43f9-a9e2-306041d8c0f6\")>,\n",
       " <selenium.webdriver.remote.webelement.WebElement (session=\"21adad40789ed2d83ae180cc85aa07d7\", element=\"b46c4bc9-acf1-4701-a978-1f8e866d30d1\")>,\n",
       " <selenium.webdriver.remote.webelement.WebElement (session=\"21adad40789ed2d83ae180cc85aa07d7\", element=\"2f3e8c91-0bd8-4b6f-be8f-47e1215a50a2\")>,\n",
       " <selenium.webdriver.remote.webelement.WebElement (session=\"21adad40789ed2d83ae180cc85aa07d7\", element=\"25beb37f-db76-4fff-90ab-f1438bb8461d\")>]"
      ]
     },
     "execution_count": 1448,
     "metadata": {},
     "output_type": "execute_result"
    }
   ],
   "source": [
    "#extract review summary\n",
    "review_summary_tag=driver.find_elements_by_xpath(\"//p[@class='_2-N8zT']\")\n",
    "review_summary_tag"
   ]
  },
  {
   "cell_type": "code",
   "execution_count": 1449,
   "id": "5eee3a48",
   "metadata": {},
   "outputs": [
    {
     "data": {
      "text/plain": [
       "['Brilliant',\n",
       " 'Simply awesome',\n",
       " 'Best in the market!',\n",
       " 'Perfect product!',\n",
       " 'Fabulous!',\n",
       " 'Worth every penny',\n",
       " 'Great product',\n",
       " 'Good choice',\n",
       " 'Highly recommended',\n",
       " 'Worth every penny',\n",
       " 'Highly recommended',\n",
       " 'Perfect product!',\n",
       " 'Perfect product!',\n",
       " 'Highly recommended',\n",
       " 'Worth every penny',\n",
       " 'Perfect product!',\n",
       " 'Worth every penny',\n",
       " 'Simply awesome',\n",
       " 'Classy product',\n",
       " 'Worth every penny',\n",
       " 'Wonderful',\n",
       " 'Terrific',\n",
       " 'Nice product',\n",
       " 'Perfect product!',\n",
       " 'Perfect product!',\n",
       " 'Classy product',\n",
       " 'Brilliant',\n",
       " 'Good choice',\n",
       " 'Great product',\n",
       " 'Must buy!',\n",
       " 'Perfect product!',\n",
       " 'Simply awesome',\n",
       " 'Wonderful',\n",
       " 'Terrific purchase',\n",
       " 'Terrific purchase',\n",
       " 'Great product',\n",
       " 'Mind-blowing purchase',\n",
       " 'Excellent',\n",
       " 'Simply awesome',\n",
       " 'Good quality product']"
      ]
     },
     "execution_count": 1449,
     "metadata": {},
     "output_type": "execute_result"
    }
   ],
   "source": [
    "#we will get the review summary text using for loop\n",
    "\n",
    "for i in review_summary_tag:\n",
    "    summary=i.text\n",
    "    review_summary_list.append(summary)\n",
    "review_summary_list"
   ]
  },
  {
   "cell_type": "code",
   "execution_count": 1450,
   "id": "9372467b",
   "metadata": {},
   "outputs": [
    {
     "data": {
      "text/plain": [
       "[<selenium.webdriver.remote.webelement.WebElement (session=\"21adad40789ed2d83ae180cc85aa07d7\", element=\"e9578eee-28f6-4a81-a800-30ddd44985ed\")>,\n",
       " <selenium.webdriver.remote.webelement.WebElement (session=\"21adad40789ed2d83ae180cc85aa07d7\", element=\"5ee5df01-e019-4320-b9fc-4bf8e5eb9810\")>,\n",
       " <selenium.webdriver.remote.webelement.WebElement (session=\"21adad40789ed2d83ae180cc85aa07d7\", element=\"ab46e407-8203-4e32-a81d-8792aed89fe8\")>,\n",
       " <selenium.webdriver.remote.webelement.WebElement (session=\"21adad40789ed2d83ae180cc85aa07d7\", element=\"ad42fb60-52c8-4dc1-b9db-73b613e28cc9\")>,\n",
       " <selenium.webdriver.remote.webelement.WebElement (session=\"21adad40789ed2d83ae180cc85aa07d7\", element=\"e7a8cbcb-ffde-47ae-8522-4876c9392395\")>,\n",
       " <selenium.webdriver.remote.webelement.WebElement (session=\"21adad40789ed2d83ae180cc85aa07d7\", element=\"3141270d-3ccb-46aa-b320-4812fec70bd6\")>,\n",
       " <selenium.webdriver.remote.webelement.WebElement (session=\"21adad40789ed2d83ae180cc85aa07d7\", element=\"aeeec4cd-fa48-47fc-ae4a-7715dc53c8a9\")>,\n",
       " <selenium.webdriver.remote.webelement.WebElement (session=\"21adad40789ed2d83ae180cc85aa07d7\", element=\"d0b91a5a-1bd6-4f62-9bc4-a6f6dc197342\")>,\n",
       " <selenium.webdriver.remote.webelement.WebElement (session=\"21adad40789ed2d83ae180cc85aa07d7\", element=\"2d5b915b-c1ef-45da-aebf-7da2fd5bff74\")>,\n",
       " <selenium.webdriver.remote.webelement.WebElement (session=\"21adad40789ed2d83ae180cc85aa07d7\", element=\"f5216f1a-b87e-4e76-a3c7-d2003b8a2bba\")>]"
      ]
     },
     "execution_count": 1450,
     "metadata": {},
     "output_type": "execute_result"
    }
   ],
   "source": [
    "#extract  full review \n",
    "review_tag=driver.find_elements_by_xpath(\"//div[@class='t-ZTKy']\")\n",
    "review_tag"
   ]
  },
  {
   "cell_type": "code",
   "execution_count": 1451,
   "id": "6815f32c",
   "metadata": {},
   "outputs": [
    {
     "data": {
      "text/plain": [
       "['The Best Phone for the Money\\n\\nThe iPhone 11 offers superb cameras, a more durable design and excellent battery life for an affordable price.\\n\\nCompelling ultra-wide camera\\nNew Night mode is excellent\\nLong battery life',\n",
       " 'Really satisfied with the Product I received... It’s totally genuine and the packaging was also really good so if ur planning to buy just go for it.',\n",
       " 'Great iPhone very snappy experience as apple kind. Upgraded from iPhone 7.\\nPros\\n-Camera top class\\n- Battery top performed\\n-Chipset no need to say as apple kind\\n-Security as you expect from apple\\n- Display super bright industry leading colour\\naccuracy and super responsive\\n-Build quality as expect from apple sturdy\\npremium durable beautiful stylish.\\n-Os most stable os in smartphone industry\\n\\nCons\\n-No 5G\\n-Display is not based on OLED technology\\n-Charger headphones and 1 apple stic...\\nREAD MORE',\n",
       " 'Amazing phone with great cameras and better battery which gives you the best performance. I just love the camera .',\n",
       " 'This is my first iOS phone. I am very happy with this product. Very much satisfied with this. I love this phone.',\n",
       " 'Previously I was using one plus 3t it was a great phone\\nAnd then I decided to upgrade I am stuck between Samsung s10 plus or iPhone 11\\nI have seen the specs and everything were good except the display it’s somewhere between 720-1080 and it’s not even an amoled it’s an LCD display\\nBut I decided to go with iPhone because I have never used an IOS device I have Been an android user from the past 9 years I ordered IPhone 11 (128gb) product red\\nMy experience after using 3 weeks\\n1. The delivery ...\\nREAD MORE',\n",
       " 'Amazing Powerful and Durable Gadget.\\n\\nI’m am very happy with the camera picture quality, Amazing face id unlocked in dark room, Strong battery with perfect screen size as you can carry easily in pocket. This is my third iPhone.\\n\\nI shifted from android Samsung Note series to iPhone because of the strong build quality and peace of mind for next 3-4 years.\\n\\nDon’t think to much just go for it and I suggest you to go for minimum 128gb variant or more 256gb.\\n\\nI’ve attached my puppy pics and no fi...\\nREAD MORE',\n",
       " 'So far it’s been an AMAZING experience coming back to iOS after nearly a decade but it’s not as versatile as android though phone is sturdy dropped it accidentally a couple of times and nothing happened fortunately camera is awesome',\n",
       " 'What a camera .....just awesome ..you can feel this iPhone just awesome . Good for gaming also ...try pubg in hd it’s just wow',\n",
       " 'i11 is worthy to buy, too much happy with the product. Thank u flipkart I received the item on time..loved it..',\n",
       " 'iphone 11 is a very good phone to buy only if you can compromise for the display. The display on this is device is pretty good but you can get other options with better displays in this price segment.\\nIf you can survive with an HD+ LCD panel with thicker bezels and a notch up top then this is a very good phone for you.\\nCameras are awesome, battery backup excellent, great performance and a decent premium look. Good job Apple !',\n",
       " 'It’s a must buy who is looking for an upgrade from previous generation of iPhones. If you are using XR then still you can hold on for sometime and upgrade to 2020 model else this phone is a must buy . Camera quality is amazing and wide angle is something to count upon. Performance wise it’s amazing and feels premium while holding in hand. So a big YES for this device. Go for 128 GB variant as the 4K videos will occupy lots of space and the storage can get over very quickly. Try to buy it with...\\nREAD MORE',\n",
       " 'Value for money❤️❤️\\nIts awesome mobile phone in the world ...\\nDisplay was very good and bright ..\\nTrust me freinds you r never regret after Buying..\\nJust go for it....\\nI love this phone and i switch to iphone x to 11',\n",
       " \"It's my first time to use iOS phone and I am loving my upgradation 😍😍 I love the color, I love the assebility of the phone....I need to learn more about its functionality, but as far as I have seen, it's quite easy and it has a lot of functions to work on, specially if you are a content writer or a blogger you get a lot of content creation platforms and they are really amazing.\\n\\nThis phone not only for good quality photography but a lot of other task too.😍💯\",\n",
       " 'Smooth like butter, camera like fantabulous, sound is crystal clear & its red color is damn attractive, i am just loving it. Must buy if you love photography.\\n\\nLucky to get it in sale, thank you Flipkart.',\n",
       " \"Iphone is just awesome.. battery backup is very very nice.. continuously for 10 hours we can use it.camera is just awesome.. display is just fab.i love it alot..i had to wait 15 days for it as i pre ordered it..overalll it's worth the price..these all images are clicked by my iPhone..and i love it.\",\n",
       " 'Best budget Iphone till date ❤️ go for it guys without second thought. Let me explain you guys about Camera, Display, battery, and performance.\\n\\nCamera: at this price range there is no comparison of camera, you’ll love the picture quality as well as video quality. I am a Vlogger I wanted an iPhone with 4k video by front camera and I got this phone and I am more than happy 😃\\n\\nBattery: I use this phone roughly as I am active social media person and I have a youtube channel. so the battery ba...\\nREAD MORE',\n",
       " 'Excellent camera, good performance, no lag. The lcd display is also good.. but difference come when we watch movie in prime and Netflix, the colours are not vibrant.. as we see in amoled display.. and the charger in box is of 5 watts.. takes more than 3 hours to charge from 0 to 100.. so guys be prepare to buy 18 watts charger . Finally I am an android user, it was my first Iapple phone, I promise u guys the iOS is so smooth.. overall the phone is damn good.... close eyes to buy it.. thanks t...\\nREAD MORE',\n",
       " 'Totally in love with this ❤ the camera quality is amazing just love it 😘😘😘 itsss dammnnnnnn amazing... Must buy iPhone 11 this is my best experience ever ☀👌👌🧡🧡🧡🧡🧡 thanku apple ❤',\n",
       " 'It’s been almost a month since I have been using this phone. I upgraded from an iPhone 8. The main issue with my 8 was battery and this phone is just awesome when it comes to battery. It lasts a day and a half for me with my regular use , internet connected always with 4g\\nCan’t move forward without saying this. Battery of this phone is a life saver when I am traveling or at work when I don’t get the option to charge\\nCamera is superb. Front cam selfies and back cam photos are just awesome.\\n...\\nREAD MORE',\n",
       " 'This is my first ever I phone. Before this I was using my google nexus 5. But moving from android to iOS is a great experience. It’s worth at this price. I will highly recommend it if you want to move to iOS. The best part of this phone is it’s camera and it’s battery life. This two things have won my heart. I loved it. Happy to have it in my hand. Still exploring its features. And can’t forget to mention Flipkart service. Very prompt service and fast delivery.',\n",
       " 'Really worth of money. i just love it. It is the best phone ever.',\n",
       " 'Awesome Phone. Slightly high price but worth. Better than iPhone XR.\\nCamera is superb and wide angle camera is very clear.\\n12MP selfie camera is also very good.\\nA13 Chip gives a very good and smooth performance.',\n",
       " 'It is just awesome mobile for this price from Apple,\\n\\nAfter 10 days review\\n\\nBattery enough for 1 day even 24*7 Internet will be on and mostly internet usage\\n\\nCamera is just awesome cool , android 64 MP is equal to this just 12 MP\\n\\nA13 Bionic chip will give more high performance without hanging\\n\\nAudio stereo speakers will give Dolby atoms sound with crystal clear\\n\\nVideo recording is like cinematic shots of every sec can be a 4K 60fps. Just awesome this phone\\niPhone 11 loved one',\n",
       " 'Battery backup is extraordinary, camera is decent & performance offered by A13 bionic is awsome. The display is good in practical usage like the visibility of display is very good in direct sun light compare to pro models. Iam extremely satisfied for the money I spent.',\n",
       " 'Superb Product !!!\\nA big and worthy upgrade from mi 3S to iphone 11 .\\nTotally loved it !',\n",
       " 'I have migrated from OP 7pro... and trust me, iPhone 11 is totally worth it.. following are the reasons:-\\n1)there is ABSOLUTELY NO ISSUE WITH THE DISPLAY... its crisp, sharp and I found it to be much much better than OP7 pro. Netflix, Prime video all run crisply... you won’t miss a thing. True Tone works flawlessly...the display brightness is perfect. OP have not calibrated their screens properly.\\n2) iPhone 11 series have really good cameras... others have spoken in depth about them.\\n3) bat...\\nREAD MORE',\n",
       " 'Looking so good 👍 😍 super 👌 stylish 😎 phone\\nClean box 📦 good 👍 delivery 👌 fast delivery\\nOriginal box Original iphone 📱 👌 😍😍😍',\n",
       " \"Again back to apple iphone after a gap of 2-3 years. It's pleasure to use iOS and the quality product by Apple. Iphone 11 still works like a beast in 2021 also. It really capable of doing day to day usage as well as hard core gaming. Battery is awesome. I'm really too much satisfied with it. Apart fto the very gorgious IPS LCD (AMOLED will be better) everything is mind boggling. Iphone💕.\",\n",
       " 'It’s an amazing product from apple and the camera is simply superb. Phone is faster.Night shot is simply superb and detailing and colour differentiation from camera is an added advantage\\n\\nThis review I have written from iPhone 11 only and I am glad to say outside.\\n\\nCons wise if we see HD+ display only, no battery percentage indicator as in older iPhone 8.\\nNo assistive touch control button in it\\nNo oleophobic coating on back panel glass and finger prints are visible but since I bought mint gr...\\nREAD MORE',\n",
       " 'After 1 month use I found camera quality best compared to my previous Samsung note 10+.Display not good as note 10 also charging too slow.Apple should add fast charger like 11 plus and pro.Best phone for daily use',\n",
       " \"It's very high performances devise i am like the service of flipkart delevary very fast and packing very nice perfect phone\",\n",
       " 'I just directly switch from iphone 6s to iphone 11 .The best premium smartphone I recommend to everyone. Excellent quality and colors the iphone have in 11 series.\\nCamera quality is just awesome and the major feel when we hold in our hands. The sound quality and volume is also higher then the previous models.\\nI will recommend to buy iphone 11 instead of pro models , there is nothing much difference as this model contains everything which fulfill our needs.\\n\\nOnly one thing that I dislike abo...\\nREAD MORE',\n",
       " 'Upgraded from iphone 6 to 11 best phone for iphone users battery is much better than other iphones camera is awesome love to use it.camera is so clear in night.',\n",
       " 'The built quality is not very premium.\\nThe battery back is great .\\nThe LCD panel is not so sharp but the brightness level is very High .\\nCamera is super duper awesome.\\nThe red colour which people think is bright is actually very soothing and excellent colour to choose from .\\nThe A13 Bionic chip is really a flagship processor and can beat any phone which even has 12 gb ram .\\nCamera module is very great and looks very stylish.',\n",
       " 'Well you all know the specifications . One of a kind. Best iPhone till date. Many enhancements to the camera app with many options. Love the glass body with matte finish in the lens area on the back. Lovely colours to choose from. Best battery in an iPhone till date, enough to last more than a day in normal usage. I tested my iPhone 11 battery and lasted for than 24 hours after full charge still with 30% battery charge left. Watched movies for some time. Normal usage on calls, browsing, musi...\\nREAD MORE',\n",
       " 'This will help you more. See if you are planning to buy iPhone 11. I will say. Yes. But there are some plans I just want to disclose before you buy. 1) If you are an existing iPhone X/XS/XS Max/ XR user, better you guys do not think it to buy. You guys have more or less better gadget. 2) If you are an android user and planning to buy premium phone. I will suggest them to please buy iPhone instead of buying an Android. I bet you will never go back to android after using IOS. Now I want to shar...\\nREAD MORE',\n",
       " 'Amazing camera and feel super machine I am not describe my feeling but this is amazing Phone I am so lucky I have this',\n",
       " 'Really good actually this is my first apple product am using its really awesome performance wise excellent. Am really happy with this iphone11',\n",
       " 'it is very good at performance. Camera is best like before and very smooth response even in water. Don’t buy 12 mini buy iPhone 11 , it is far better than 12 mini believe me ! Have a nice day \\uf8ff ☺️']"
      ]
     },
     "execution_count": 1451,
     "metadata": {},
     "output_type": "execute_result"
    }
   ],
   "source": [
    "#we will get the full review text using for loop\n",
    "\n",
    "for i in review_tag:\n",
    "    review=i.text\n",
    "    full_review_list.append(review)\n",
    "full_review_list"
   ]
  },
  {
   "cell_type": "code",
   "execution_count": 1452,
   "id": "1e72f1f3",
   "metadata": {},
   "outputs": [],
   "source": [
    "\n",
    "#, go to the all review Button at the bottom ofthe page , then click on it.\n",
    "next_button=driver.find_element_by_xpath(\"/html/body/div[1]/div/div[3]/div/div/div[2]/div[13]/div/div/nav/a[12]\")\n",
    "next_button.click()"
   ]
  },
  {
   "cell_type": "code",
   "execution_count": 1453,
   "id": "3c92d9eb",
   "metadata": {},
   "outputs": [
    {
     "data": {
      "text/plain": [
       "[<selenium.webdriver.remote.webelement.WebElement (session=\"21adad40789ed2d83ae180cc85aa07d7\", element=\"2413cd25-9483-45f1-bbe5-bcdf06224439\")>,\n",
       " <selenium.webdriver.remote.webelement.WebElement (session=\"21adad40789ed2d83ae180cc85aa07d7\", element=\"e5b01a94-dfbd-42cd-9557-d39e05d05a54\")>,\n",
       " <selenium.webdriver.remote.webelement.WebElement (session=\"21adad40789ed2d83ae180cc85aa07d7\", element=\"81e14fd3-b353-4611-9be3-d41daeb91143\")>,\n",
       " <selenium.webdriver.remote.webelement.WebElement (session=\"21adad40789ed2d83ae180cc85aa07d7\", element=\"b61c935d-f108-457a-8a8c-7dfd7af1f876\")>,\n",
       " <selenium.webdriver.remote.webelement.WebElement (session=\"21adad40789ed2d83ae180cc85aa07d7\", element=\"a360c622-d277-4a47-a4b9-3209fd96eeaf\")>,\n",
       " <selenium.webdriver.remote.webelement.WebElement (session=\"21adad40789ed2d83ae180cc85aa07d7\", element=\"9e68267f-bf69-4446-b4d0-072d94f586bf\")>,\n",
       " <selenium.webdriver.remote.webelement.WebElement (session=\"21adad40789ed2d83ae180cc85aa07d7\", element=\"cc3e163f-72c2-4a61-abc1-f1c9cf54573e\")>,\n",
       " <selenium.webdriver.remote.webelement.WebElement (session=\"21adad40789ed2d83ae180cc85aa07d7\", element=\"dd163483-855e-4a09-b9fa-e0481e74f1e5\")>,\n",
       " <selenium.webdriver.remote.webelement.WebElement (session=\"21adad40789ed2d83ae180cc85aa07d7\", element=\"3e6ba4a0-46a7-4c1c-8d02-693df9ac8fab\")>,\n",
       " <selenium.webdriver.remote.webelement.WebElement (session=\"21adad40789ed2d83ae180cc85aa07d7\", element=\"aaac6ffe-6804-4d2e-95df-daba064fbf5e\")>]"
      ]
     },
     "execution_count": 1453,
     "metadata": {},
     "output_type": "execute_result"
    }
   ],
   "source": [
    "#extract ratings\n",
    "rating_tag=driver.find_elements_by_xpath(\"//div[@class='_3LWZlK _1BLPMq'or @class='_3LWZlK _1rdVr6 _1BLPMq']\")\n",
    "rating_tag"
   ]
  },
  {
   "cell_type": "code",
   "execution_count": 1454,
   "id": "8b6ca9b3",
   "metadata": {},
   "outputs": [
    {
     "data": {
      "text/plain": [
       "['5',\n",
       " '5',\n",
       " '5',\n",
       " '5',\n",
       " '5',\n",
       " '5',\n",
       " '5',\n",
       " '4',\n",
       " '5',\n",
       " '5',\n",
       " '5',\n",
       " '5',\n",
       " '5',\n",
       " '5',\n",
       " '5',\n",
       " '5',\n",
       " '5',\n",
       " '5',\n",
       " '5',\n",
       " '5',\n",
       " '5',\n",
       " '5',\n",
       " '4',\n",
       " '5',\n",
       " '5',\n",
       " '5',\n",
       " '5',\n",
       " '4',\n",
       " '5',\n",
       " '5',\n",
       " '5',\n",
       " '5',\n",
       " '5',\n",
       " '5',\n",
       " '5',\n",
       " '5',\n",
       " '5',\n",
       " '5',\n",
       " '5',\n",
       " '4',\n",
       " '1',\n",
       " '5',\n",
       " '5',\n",
       " '5',\n",
       " '5',\n",
       " '5',\n",
       " '5',\n",
       " '5',\n",
       " '5',\n",
       " '5']"
      ]
     },
     "execution_count": 1454,
     "metadata": {},
     "output_type": "execute_result"
    }
   ],
   "source": [
    "#we will get the rating text using for loop\n",
    "\n",
    "for i in rating_tag:\n",
    "    rating=i.text\n",
    "    rating_list.append(rating)\n",
    "rating_list"
   ]
  },
  {
   "cell_type": "code",
   "execution_count": 1455,
   "id": "73f0cab7",
   "metadata": {},
   "outputs": [
    {
     "data": {
      "text/plain": [
       "[<selenium.webdriver.remote.webelement.WebElement (session=\"21adad40789ed2d83ae180cc85aa07d7\", element=\"d0e53157-5107-44a8-a20a-68c5f76db471\")>,\n",
       " <selenium.webdriver.remote.webelement.WebElement (session=\"21adad40789ed2d83ae180cc85aa07d7\", element=\"317cb2ce-e202-4406-aad9-fce59050480d\")>,\n",
       " <selenium.webdriver.remote.webelement.WebElement (session=\"21adad40789ed2d83ae180cc85aa07d7\", element=\"29b7e36d-9076-438d-a56b-2913cd4b3a1f\")>,\n",
       " <selenium.webdriver.remote.webelement.WebElement (session=\"21adad40789ed2d83ae180cc85aa07d7\", element=\"f40274f3-986f-412e-9f0f-7fdab4a0a5c5\")>,\n",
       " <selenium.webdriver.remote.webelement.WebElement (session=\"21adad40789ed2d83ae180cc85aa07d7\", element=\"89adbfbc-aa57-41a1-88cc-79f1ec6af3a9\")>,\n",
       " <selenium.webdriver.remote.webelement.WebElement (session=\"21adad40789ed2d83ae180cc85aa07d7\", element=\"1db8cd43-d994-4eee-b3f0-479cfdfe13a2\")>,\n",
       " <selenium.webdriver.remote.webelement.WebElement (session=\"21adad40789ed2d83ae180cc85aa07d7\", element=\"56360a1d-ba70-4357-851b-487ec7706911\")>,\n",
       " <selenium.webdriver.remote.webelement.WebElement (session=\"21adad40789ed2d83ae180cc85aa07d7\", element=\"f094ba9f-b8bb-46b9-95b7-b5893445a515\")>,\n",
       " <selenium.webdriver.remote.webelement.WebElement (session=\"21adad40789ed2d83ae180cc85aa07d7\", element=\"a102b700-7af3-4d1f-8f7b-614a98a39def\")>,\n",
       " <selenium.webdriver.remote.webelement.WebElement (session=\"21adad40789ed2d83ae180cc85aa07d7\", element=\"98173bf9-a241-4f6e-84d6-9bf5b229a084\")>]"
      ]
     },
     "execution_count": 1455,
     "metadata": {},
     "output_type": "execute_result"
    }
   ],
   "source": [
    "#extract review summary\n",
    "review_summary_tag=driver.find_elements_by_xpath(\"//p[@class='_2-N8zT']\")\n",
    "review_summary_tag"
   ]
  },
  {
   "cell_type": "code",
   "execution_count": 1456,
   "id": "d44dc07c",
   "metadata": {},
   "outputs": [
    {
     "data": {
      "text/plain": [
       "['Brilliant',\n",
       " 'Simply awesome',\n",
       " 'Best in the market!',\n",
       " 'Perfect product!',\n",
       " 'Fabulous!',\n",
       " 'Worth every penny',\n",
       " 'Great product',\n",
       " 'Good choice',\n",
       " 'Highly recommended',\n",
       " 'Worth every penny',\n",
       " 'Highly recommended',\n",
       " 'Perfect product!',\n",
       " 'Perfect product!',\n",
       " 'Highly recommended',\n",
       " 'Worth every penny',\n",
       " 'Perfect product!',\n",
       " 'Worth every penny',\n",
       " 'Simply awesome',\n",
       " 'Classy product',\n",
       " 'Worth every penny',\n",
       " 'Wonderful',\n",
       " 'Terrific',\n",
       " 'Nice product',\n",
       " 'Perfect product!',\n",
       " 'Perfect product!',\n",
       " 'Classy product',\n",
       " 'Brilliant',\n",
       " 'Good choice',\n",
       " 'Great product',\n",
       " 'Must buy!',\n",
       " 'Perfect product!',\n",
       " 'Simply awesome',\n",
       " 'Wonderful',\n",
       " 'Terrific purchase',\n",
       " 'Terrific purchase',\n",
       " 'Great product',\n",
       " 'Mind-blowing purchase',\n",
       " 'Excellent',\n",
       " 'Simply awesome',\n",
       " 'Good quality product',\n",
       " 'Very poor',\n",
       " 'Perfect product!',\n",
       " 'Classy product',\n",
       " 'Fabulous!',\n",
       " 'Highly recommended',\n",
       " 'Must buy!',\n",
       " 'Fabulous!',\n",
       " 'Mind-blowing purchase',\n",
       " 'Wonderful',\n",
       " 'Must buy!']"
      ]
     },
     "execution_count": 1456,
     "metadata": {},
     "output_type": "execute_result"
    }
   ],
   "source": [
    "#we will get the review summary text using for loop\n",
    "\n",
    "for i in review_summary_tag:\n",
    "    summary=i.text\n",
    "    review_summary_list.append(summary)\n",
    "review_summary_list"
   ]
  },
  {
   "cell_type": "code",
   "execution_count": 1457,
   "id": "fdfae0dd",
   "metadata": {},
   "outputs": [
    {
     "data": {
      "text/plain": [
       "[<selenium.webdriver.remote.webelement.WebElement (session=\"21adad40789ed2d83ae180cc85aa07d7\", element=\"2a8f0bfa-7106-4c70-9477-16e4b8c42821\")>,\n",
       " <selenium.webdriver.remote.webelement.WebElement (session=\"21adad40789ed2d83ae180cc85aa07d7\", element=\"99bd8bcb-4bd8-495d-ba64-cecfb9db8ef7\")>,\n",
       " <selenium.webdriver.remote.webelement.WebElement (session=\"21adad40789ed2d83ae180cc85aa07d7\", element=\"be31acc8-c0be-4008-941f-8669f221b508\")>,\n",
       " <selenium.webdriver.remote.webelement.WebElement (session=\"21adad40789ed2d83ae180cc85aa07d7\", element=\"1c93aec2-ef68-4488-9edc-d2d3cd4b5ac3\")>,\n",
       " <selenium.webdriver.remote.webelement.WebElement (session=\"21adad40789ed2d83ae180cc85aa07d7\", element=\"d58be167-fee4-4295-a7ac-5a8f6b425879\")>,\n",
       " <selenium.webdriver.remote.webelement.WebElement (session=\"21adad40789ed2d83ae180cc85aa07d7\", element=\"caa06831-6dbd-42ed-8de3-1919d754e451\")>,\n",
       " <selenium.webdriver.remote.webelement.WebElement (session=\"21adad40789ed2d83ae180cc85aa07d7\", element=\"304217a1-aa04-4e84-9a7a-14d736700114\")>,\n",
       " <selenium.webdriver.remote.webelement.WebElement (session=\"21adad40789ed2d83ae180cc85aa07d7\", element=\"1eac4eb2-5848-400f-b37f-57726ae68b0f\")>,\n",
       " <selenium.webdriver.remote.webelement.WebElement (session=\"21adad40789ed2d83ae180cc85aa07d7\", element=\"7ced87b9-2b8d-46f0-bed8-efef7480ed75\")>,\n",
       " <selenium.webdriver.remote.webelement.WebElement (session=\"21adad40789ed2d83ae180cc85aa07d7\", element=\"de4343ca-18de-4847-9400-9fab2fad92ef\")>]"
      ]
     },
     "execution_count": 1457,
     "metadata": {},
     "output_type": "execute_result"
    }
   ],
   "source": [
    "#extract  full review \n",
    "review_tag=driver.find_elements_by_xpath(\"//div[@class='t-ZTKy']\")\n",
    "review_tag"
   ]
  },
  {
   "cell_type": "code",
   "execution_count": 1458,
   "id": "998a76c2",
   "metadata": {},
   "outputs": [
    {
     "data": {
      "text/plain": [
       "['The Best Phone for the Money\\n\\nThe iPhone 11 offers superb cameras, a more durable design and excellent battery life for an affordable price.\\n\\nCompelling ultra-wide camera\\nNew Night mode is excellent\\nLong battery life',\n",
       " 'Really satisfied with the Product I received... It’s totally genuine and the packaging was also really good so if ur planning to buy just go for it.',\n",
       " 'Great iPhone very snappy experience as apple kind. Upgraded from iPhone 7.\\nPros\\n-Camera top class\\n- Battery top performed\\n-Chipset no need to say as apple kind\\n-Security as you expect from apple\\n- Display super bright industry leading colour\\naccuracy and super responsive\\n-Build quality as expect from apple sturdy\\npremium durable beautiful stylish.\\n-Os most stable os in smartphone industry\\n\\nCons\\n-No 5G\\n-Display is not based on OLED technology\\n-Charger headphones and 1 apple stic...\\nREAD MORE',\n",
       " 'Amazing phone with great cameras and better battery which gives you the best performance. I just love the camera .',\n",
       " 'This is my first iOS phone. I am very happy with this product. Very much satisfied with this. I love this phone.',\n",
       " 'Previously I was using one plus 3t it was a great phone\\nAnd then I decided to upgrade I am stuck between Samsung s10 plus or iPhone 11\\nI have seen the specs and everything were good except the display it’s somewhere between 720-1080 and it’s not even an amoled it’s an LCD display\\nBut I decided to go with iPhone because I have never used an IOS device I have Been an android user from the past 9 years I ordered IPhone 11 (128gb) product red\\nMy experience after using 3 weeks\\n1. The delivery ...\\nREAD MORE',\n",
       " 'Amazing Powerful and Durable Gadget.\\n\\nI’m am very happy with the camera picture quality, Amazing face id unlocked in dark room, Strong battery with perfect screen size as you can carry easily in pocket. This is my third iPhone.\\n\\nI shifted from android Samsung Note series to iPhone because of the strong build quality and peace of mind for next 3-4 years.\\n\\nDon’t think to much just go for it and I suggest you to go for minimum 128gb variant or more 256gb.\\n\\nI’ve attached my puppy pics and no fi...\\nREAD MORE',\n",
       " 'So far it’s been an AMAZING experience coming back to iOS after nearly a decade but it’s not as versatile as android though phone is sturdy dropped it accidentally a couple of times and nothing happened fortunately camera is awesome',\n",
       " 'What a camera .....just awesome ..you can feel this iPhone just awesome . Good for gaming also ...try pubg in hd it’s just wow',\n",
       " 'i11 is worthy to buy, too much happy with the product. Thank u flipkart I received the item on time..loved it..',\n",
       " 'iphone 11 is a very good phone to buy only if you can compromise for the display. The display on this is device is pretty good but you can get other options with better displays in this price segment.\\nIf you can survive with an HD+ LCD panel with thicker bezels and a notch up top then this is a very good phone for you.\\nCameras are awesome, battery backup excellent, great performance and a decent premium look. Good job Apple !',\n",
       " 'It’s a must buy who is looking for an upgrade from previous generation of iPhones. If you are using XR then still you can hold on for sometime and upgrade to 2020 model else this phone is a must buy . Camera quality is amazing and wide angle is something to count upon. Performance wise it’s amazing and feels premium while holding in hand. So a big YES for this device. Go for 128 GB variant as the 4K videos will occupy lots of space and the storage can get over very quickly. Try to buy it with...\\nREAD MORE',\n",
       " 'Value for money❤️❤️\\nIts awesome mobile phone in the world ...\\nDisplay was very good and bright ..\\nTrust me freinds you r never regret after Buying..\\nJust go for it....\\nI love this phone and i switch to iphone x to 11',\n",
       " \"It's my first time to use iOS phone and I am loving my upgradation 😍😍 I love the color, I love the assebility of the phone....I need to learn more about its functionality, but as far as I have seen, it's quite easy and it has a lot of functions to work on, specially if you are a content writer or a blogger you get a lot of content creation platforms and they are really amazing.\\n\\nThis phone not only for good quality photography but a lot of other task too.😍💯\",\n",
       " 'Smooth like butter, camera like fantabulous, sound is crystal clear & its red color is damn attractive, i am just loving it. Must buy if you love photography.\\n\\nLucky to get it in sale, thank you Flipkart.',\n",
       " \"Iphone is just awesome.. battery backup is very very nice.. continuously for 10 hours we can use it.camera is just awesome.. display is just fab.i love it alot..i had to wait 15 days for it as i pre ordered it..overalll it's worth the price..these all images are clicked by my iPhone..and i love it.\",\n",
       " 'Best budget Iphone till date ❤️ go for it guys without second thought. Let me explain you guys about Camera, Display, battery, and performance.\\n\\nCamera: at this price range there is no comparison of camera, you’ll love the picture quality as well as video quality. I am a Vlogger I wanted an iPhone with 4k video by front camera and I got this phone and I am more than happy 😃\\n\\nBattery: I use this phone roughly as I am active social media person and I have a youtube channel. so the battery ba...\\nREAD MORE',\n",
       " 'Excellent camera, good performance, no lag. The lcd display is also good.. but difference come when we watch movie in prime and Netflix, the colours are not vibrant.. as we see in amoled display.. and the charger in box is of 5 watts.. takes more than 3 hours to charge from 0 to 100.. so guys be prepare to buy 18 watts charger . Finally I am an android user, it was my first Iapple phone, I promise u guys the iOS is so smooth.. overall the phone is damn good.... close eyes to buy it.. thanks t...\\nREAD MORE',\n",
       " 'Totally in love with this ❤ the camera quality is amazing just love it 😘😘😘 itsss dammnnnnnn amazing... Must buy iPhone 11 this is my best experience ever ☀👌👌🧡🧡🧡🧡🧡 thanku apple ❤',\n",
       " 'It’s been almost a month since I have been using this phone. I upgraded from an iPhone 8. The main issue with my 8 was battery and this phone is just awesome when it comes to battery. It lasts a day and a half for me with my regular use , internet connected always with 4g\\nCan’t move forward without saying this. Battery of this phone is a life saver when I am traveling or at work when I don’t get the option to charge\\nCamera is superb. Front cam selfies and back cam photos are just awesome.\\n...\\nREAD MORE',\n",
       " 'This is my first ever I phone. Before this I was using my google nexus 5. But moving from android to iOS is a great experience. It’s worth at this price. I will highly recommend it if you want to move to iOS. The best part of this phone is it’s camera and it’s battery life. This two things have won my heart. I loved it. Happy to have it in my hand. Still exploring its features. And can’t forget to mention Flipkart service. Very prompt service and fast delivery.',\n",
       " 'Really worth of money. i just love it. It is the best phone ever.',\n",
       " 'Awesome Phone. Slightly high price but worth. Better than iPhone XR.\\nCamera is superb and wide angle camera is very clear.\\n12MP selfie camera is also very good.\\nA13 Chip gives a very good and smooth performance.',\n",
       " 'It is just awesome mobile for this price from Apple,\\n\\nAfter 10 days review\\n\\nBattery enough for 1 day even 24*7 Internet will be on and mostly internet usage\\n\\nCamera is just awesome cool , android 64 MP is equal to this just 12 MP\\n\\nA13 Bionic chip will give more high performance without hanging\\n\\nAudio stereo speakers will give Dolby atoms sound with crystal clear\\n\\nVideo recording is like cinematic shots of every sec can be a 4K 60fps. Just awesome this phone\\niPhone 11 loved one',\n",
       " 'Battery backup is extraordinary, camera is decent & performance offered by A13 bionic is awsome. The display is good in practical usage like the visibility of display is very good in direct sun light compare to pro models. Iam extremely satisfied for the money I spent.',\n",
       " 'Superb Product !!!\\nA big and worthy upgrade from mi 3S to iphone 11 .\\nTotally loved it !',\n",
       " 'I have migrated from OP 7pro... and trust me, iPhone 11 is totally worth it.. following are the reasons:-\\n1)there is ABSOLUTELY NO ISSUE WITH THE DISPLAY... its crisp, sharp and I found it to be much much better than OP7 pro. Netflix, Prime video all run crisply... you won’t miss a thing. True Tone works flawlessly...the display brightness is perfect. OP have not calibrated their screens properly.\\n2) iPhone 11 series have really good cameras... others have spoken in depth about them.\\n3) bat...\\nREAD MORE',\n",
       " 'Looking so good 👍 😍 super 👌 stylish 😎 phone\\nClean box 📦 good 👍 delivery 👌 fast delivery\\nOriginal box Original iphone 📱 👌 😍😍😍',\n",
       " \"Again back to apple iphone after a gap of 2-3 years. It's pleasure to use iOS and the quality product by Apple. Iphone 11 still works like a beast in 2021 also. It really capable of doing day to day usage as well as hard core gaming. Battery is awesome. I'm really too much satisfied with it. Apart fto the very gorgious IPS LCD (AMOLED will be better) everything is mind boggling. Iphone💕.\",\n",
       " 'It’s an amazing product from apple and the camera is simply superb. Phone is faster.Night shot is simply superb and detailing and colour differentiation from camera is an added advantage\\n\\nThis review I have written from iPhone 11 only and I am glad to say outside.\\n\\nCons wise if we see HD+ display only, no battery percentage indicator as in older iPhone 8.\\nNo assistive touch control button in it\\nNo oleophobic coating on back panel glass and finger prints are visible but since I bought mint gr...\\nREAD MORE',\n",
       " 'After 1 month use I found camera quality best compared to my previous Samsung note 10+.Display not good as note 10 also charging too slow.Apple should add fast charger like 11 plus and pro.Best phone for daily use',\n",
       " \"It's very high performances devise i am like the service of flipkart delevary very fast and packing very nice perfect phone\",\n",
       " 'I just directly switch from iphone 6s to iphone 11 .The best premium smartphone I recommend to everyone. Excellent quality and colors the iphone have in 11 series.\\nCamera quality is just awesome and the major feel when we hold in our hands. The sound quality and volume is also higher then the previous models.\\nI will recommend to buy iphone 11 instead of pro models , there is nothing much difference as this model contains everything which fulfill our needs.\\n\\nOnly one thing that I dislike abo...\\nREAD MORE',\n",
       " 'Upgraded from iphone 6 to 11 best phone for iphone users battery is much better than other iphones camera is awesome love to use it.camera is so clear in night.',\n",
       " 'The built quality is not very premium.\\nThe battery back is great .\\nThe LCD panel is not so sharp but the brightness level is very High .\\nCamera is super duper awesome.\\nThe red colour which people think is bright is actually very soothing and excellent colour to choose from .\\nThe A13 Bionic chip is really a flagship processor and can beat any phone which even has 12 gb ram .\\nCamera module is very great and looks very stylish.',\n",
       " 'Well you all know the specifications . One of a kind. Best iPhone till date. Many enhancements to the camera app with many options. Love the glass body with matte finish in the lens area on the back. Lovely colours to choose from. Best battery in an iPhone till date, enough to last more than a day in normal usage. I tested my iPhone 11 battery and lasted for than 24 hours after full charge still with 30% battery charge left. Watched movies for some time. Normal usage on calls, browsing, musi...\\nREAD MORE',\n",
       " 'This will help you more. See if you are planning to buy iPhone 11. I will say. Yes. But there are some plans I just want to disclose before you buy. 1) If you are an existing iPhone X/XS/XS Max/ XR user, better you guys do not think it to buy. You guys have more or less better gadget. 2) If you are an android user and planning to buy premium phone. I will suggest them to please buy iPhone instead of buying an Android. I bet you will never go back to android after using IOS. Now I want to shar...\\nREAD MORE',\n",
       " 'Amazing camera and feel super machine I am not describe my feeling but this is amazing Phone I am so lucky I have this',\n",
       " 'Really good actually this is my first apple product am using its really awesome performance wise excellent. Am really happy with this iphone11',\n",
       " 'it is very good at performance. Camera is best like before and very smooth response even in water. Don’t buy 12 mini buy iPhone 11 , it is far better than 12 mini believe me ! Have a nice day \\uf8ff ☺️',\n",
       " 'Reviewing again after 5 months. At the beginning the battery and performance was good but it degraded soon. Also I was facing heating issues. The mobile will heat up like a stove sometimes. You cannot even play Pubg even in low settings properly, performance is not a problem but heating is. Also if you play that game for 10 mins the brightness will be automatically down due to over heating even when the auto brightness is set to off. This will not be solved even if u manually increase the bri...\\nREAD MORE',\n",
       " 'In love with this iphone great performance,camera ,battery everything. Go for it have a uncompareble battery backup, no doubts in iPhone camera here You can see the picture which is shot on my iPhone In love with this iphone great performance,camera ,battery everything. Go for it have a uncompareble battery backup, no doubts in iPhone camera here You can see the picture which is shot on my iPhone In love with this iphone great performance,camera ,battery everything. Go for it have a uncompare...\\nREAD MORE',\n",
       " 'We are on apple ecosystem for almost eight years now with couple of iPads and iPhones, including Xr.\\n\\nBought iPhone 11 as a gift to my daughter who loves it. We chose for a purple coloured one. Believe me it is gorgeous and towards the lighter shade. Dazzling and brilliant!\\n\\nThe phone is great and does excellent RAM management like any other Apple device.\\n\\nThe screen, though a LCD and lesser ppi as compared to other flagship phones of competitor brands, is a delight to watch with perfect re...\\nREAD MORE',\n",
       " 'Everything is perfect pictures come out so clearly and at first I wasn’t sure when I got it then when I started to use it and get the hang of it it was amazing!! I can’t wait to see what the next future phones will be like. The screen display on this bad boy are unbelievable they are so clear and never fail me. The performance is super cool there is a lot of cool features as well I like this phone because I feel that it is easy to use and one of my favorite things about this phone is the Face...\\nREAD MORE',\n",
       " 'Amazing camera quality as expected, battery also has very good performance. Display, body, and touch experience is the best I’ve ever had. Sound quality of speakers is more than sufficient. Apple is known for it’s customer friendly security services and I can see it how. The A13 processor is the best in its work. So I would definitely recommend it for everyone who are looking for it, just go for it without delay.\\n\\nThe most amazing thing it the delivery. Flipkart has delivered it in the span ...\\nREAD MORE',\n",
       " 'Best Apple iPhone that i have bought at a very reasonable price, camera quality is next level just awesome n of superior quality android phones not even close(RIP) to that and also battery is really good but packaging by Flipkart of iPhone was very poor of such a expensive product, firstly im bit worried about the quality of product if i purchased it through online how was the product but i think now this was mine best decision to bought it through Flipkart online because i got genuine Apple...\\nREAD MORE',\n",
       " \"I can say I'm damn impressed with iPhone 11. As they says iPhone 11 have the toughest glass ever in the smartphone which you'll find on the front and back and it's totally smooth. The fit and finish is full apple quality - there's no sense that any cheaping out has happened in the construction. Without saying it's camera features this review won't complete. The iPhone 11 has a dual camera system, consisting of a wide angle len's that's pretty much same as found on the iPhone XR last year, but...\\nREAD MORE\",\n",
       " 'Best Quality Product OF iPhone Series , Sound Quality & Camera quality is very awesome, Battery Life is very Sufficient for 24 hr Backup With Full Internet Access , I love this this Product too much , It is very fast & making me Very fast in all my daily Routine\\nHighlights;\\n1.Camera: 5 STAR\\n2.Video Recording: 5 star\\n3.Night mODE sHOOTING & Camera:4 star\\n4. Audio Quality: Awesome\\n5. Battery : 5 Star\\n6. Touch:5 Star\\n7. Processor: Very Fast\\nThe M...\\nREAD MORE',\n",
       " 'Superfast delivery by Flipkart. Thanks.\\n\\n1. iPhone 11 is a pretty solid phone for the money you are paying.\\n2. All the bad reviews about the display is confusing. It’s not that bad.\\n3. I switched from a Oneplus 7t. I have no complaints about the display quality of iPhone. Yes, it’s not OLED, so, we are missing on the deep blacks. But that’s it. It is a very colour accurate display. Gets adequately bright and I could not find any pixelation.\\n4. Performance is one of the best, if not best, in ...\\nREAD MORE',\n",
       " 'I rate this product 5* as it has got amazing user experience with the best performing A13 bionic processor. The screen responds and graphics rendering is top notch. With casual gaming and internet browsing, the battery lasts for approx. 1 day. Camera is very good. You will fall in love with the portrait mode. You can call me a loyal Apple customer or whatever but I won’t stop praising the products and overall experience. That user experience matters and is worth every penny you pay.\\n\\nBelow ar...\\nREAD MORE']"
      ]
     },
     "execution_count": 1458,
     "metadata": {},
     "output_type": "execute_result"
    }
   ],
   "source": [
    "#we will get the full review text using for loop\n",
    "\n",
    "for i in review_tag:\n",
    "    review=i.text\n",
    "    full_review_list.append(review)\n",
    "full_review_list"
   ]
  },
  {
   "cell_type": "code",
   "execution_count": 1459,
   "id": "2aa5f01d",
   "metadata": {},
   "outputs": [],
   "source": [
    "#, go to the all review Button at the bottom ofthe page , then click on it.\n",
    "next_button=driver.find_element_by_xpath(\"/html/body/div[1]/div/div[3]/div/div/div[2]/div[13]/div/div/nav/a[12]\")\n",
    "next_button.click()"
   ]
  },
  {
   "cell_type": "code",
   "execution_count": 1460,
   "id": "d76aecf4",
   "metadata": {},
   "outputs": [
    {
     "data": {
      "text/plain": [
       "[<selenium.webdriver.remote.webelement.WebElement (session=\"21adad40789ed2d83ae180cc85aa07d7\", element=\"1733c1e5-c959-406f-9246-c637ce17c7d0\")>,\n",
       " <selenium.webdriver.remote.webelement.WebElement (session=\"21adad40789ed2d83ae180cc85aa07d7\", element=\"ec33ebd9-8f4f-4a90-b417-cad3e547ce5f\")>,\n",
       " <selenium.webdriver.remote.webelement.WebElement (session=\"21adad40789ed2d83ae180cc85aa07d7\", element=\"590b3ca6-1439-497f-a203-a8b845a5e249\")>,\n",
       " <selenium.webdriver.remote.webelement.WebElement (session=\"21adad40789ed2d83ae180cc85aa07d7\", element=\"30574322-39ca-40e6-bbe3-0dd11b9bdc82\")>,\n",
       " <selenium.webdriver.remote.webelement.WebElement (session=\"21adad40789ed2d83ae180cc85aa07d7\", element=\"51ea7b30-3afb-418c-b77a-43531ba25f74\")>,\n",
       " <selenium.webdriver.remote.webelement.WebElement (session=\"21adad40789ed2d83ae180cc85aa07d7\", element=\"4854a6ed-4e2c-4788-aa10-299dd5c9a7de\")>,\n",
       " <selenium.webdriver.remote.webelement.WebElement (session=\"21adad40789ed2d83ae180cc85aa07d7\", element=\"519c7b54-5c00-421d-b305-6e507eb171fb\")>,\n",
       " <selenium.webdriver.remote.webelement.WebElement (session=\"21adad40789ed2d83ae180cc85aa07d7\", element=\"51c7d138-4750-40e6-8f7f-7c11b99aeb36\")>,\n",
       " <selenium.webdriver.remote.webelement.WebElement (session=\"21adad40789ed2d83ae180cc85aa07d7\", element=\"bdcb5033-a9ac-4d43-bc30-878c789f1c13\")>,\n",
       " <selenium.webdriver.remote.webelement.WebElement (session=\"21adad40789ed2d83ae180cc85aa07d7\", element=\"59011fa4-4f71-487e-b7c0-60d4914c0474\")>]"
      ]
     },
     "execution_count": 1460,
     "metadata": {},
     "output_type": "execute_result"
    }
   ],
   "source": [
    "#extract ratings\n",
    "rating_tag=driver.find_elements_by_xpath(\"//div[@class='_3LWZlK _1BLPMq'or @class='_3LWZlK _1rdVr6 _1BLPMq']\")\n",
    "rating_tag"
   ]
  },
  {
   "cell_type": "code",
   "execution_count": 1461,
   "id": "eabc2626",
   "metadata": {},
   "outputs": [
    {
     "data": {
      "text/plain": [
       "['5',\n",
       " '5',\n",
       " '5',\n",
       " '5',\n",
       " '5',\n",
       " '5',\n",
       " '5',\n",
       " '4',\n",
       " '5',\n",
       " '5',\n",
       " '5',\n",
       " '5',\n",
       " '5',\n",
       " '5',\n",
       " '5',\n",
       " '5',\n",
       " '5',\n",
       " '5',\n",
       " '5',\n",
       " '5',\n",
       " '5',\n",
       " '5',\n",
       " '4',\n",
       " '5',\n",
       " '5',\n",
       " '5',\n",
       " '5',\n",
       " '4',\n",
       " '5',\n",
       " '5',\n",
       " '5',\n",
       " '5',\n",
       " '5',\n",
       " '5',\n",
       " '5',\n",
       " '5',\n",
       " '5',\n",
       " '5',\n",
       " '5',\n",
       " '4',\n",
       " '1',\n",
       " '5',\n",
       " '5',\n",
       " '5',\n",
       " '5',\n",
       " '5',\n",
       " '5',\n",
       " '5',\n",
       " '5',\n",
       " '5',\n",
       " '4',\n",
       " '5',\n",
       " '5',\n",
       " '5',\n",
       " '5',\n",
       " '4',\n",
       " '5',\n",
       " '5',\n",
       " '5',\n",
       " '5']"
      ]
     },
     "execution_count": 1461,
     "metadata": {},
     "output_type": "execute_result"
    }
   ],
   "source": [
    "#we will get the rating text using for loop\n",
    "\n",
    "for i in rating_tag:\n",
    "    rating=i.text\n",
    "    rating_list.append(rating)\n",
    "rating_list"
   ]
  },
  {
   "cell_type": "code",
   "execution_count": 1462,
   "id": "ef11f77e",
   "metadata": {},
   "outputs": [
    {
     "data": {
      "text/plain": [
       "[<selenium.webdriver.remote.webelement.WebElement (session=\"21adad40789ed2d83ae180cc85aa07d7\", element=\"f8e6589f-278c-4d72-97e4-a1cf00ec823c\")>,\n",
       " <selenium.webdriver.remote.webelement.WebElement (session=\"21adad40789ed2d83ae180cc85aa07d7\", element=\"68ce065a-28a9-4538-9507-144ccc721b05\")>,\n",
       " <selenium.webdriver.remote.webelement.WebElement (session=\"21adad40789ed2d83ae180cc85aa07d7\", element=\"95a60044-8065-4547-9790-85422066bb85\")>,\n",
       " <selenium.webdriver.remote.webelement.WebElement (session=\"21adad40789ed2d83ae180cc85aa07d7\", element=\"e2d078f4-bf27-420b-b215-1ae1f2c256f3\")>,\n",
       " <selenium.webdriver.remote.webelement.WebElement (session=\"21adad40789ed2d83ae180cc85aa07d7\", element=\"d3490d7d-5467-4465-b28a-0f9b4d1052ba\")>,\n",
       " <selenium.webdriver.remote.webelement.WebElement (session=\"21adad40789ed2d83ae180cc85aa07d7\", element=\"4054dada-83f5-49ac-9b90-bfb77cfcdef7\")>,\n",
       " <selenium.webdriver.remote.webelement.WebElement (session=\"21adad40789ed2d83ae180cc85aa07d7\", element=\"eaeecccb-0469-48de-8253-9684954c554b\")>,\n",
       " <selenium.webdriver.remote.webelement.WebElement (session=\"21adad40789ed2d83ae180cc85aa07d7\", element=\"c53df655-4add-4a69-aa95-217013835a4c\")>,\n",
       " <selenium.webdriver.remote.webelement.WebElement (session=\"21adad40789ed2d83ae180cc85aa07d7\", element=\"1e0a9ccb-099d-429d-a3bb-ea5f6767168f\")>,\n",
       " <selenium.webdriver.remote.webelement.WebElement (session=\"21adad40789ed2d83ae180cc85aa07d7\", element=\"81fb665f-e692-4f93-a9d5-a1c8cebde971\")>]"
      ]
     },
     "execution_count": 1462,
     "metadata": {},
     "output_type": "execute_result"
    }
   ],
   "source": [
    "#extract review summary\n",
    "review_summary_tag=driver.find_elements_by_xpath(\"//p[@class='_2-N8zT']\")\n",
    "review_summary_tag\n"
   ]
  },
  {
   "cell_type": "code",
   "execution_count": 1463,
   "id": "31ecd0a1",
   "metadata": {},
   "outputs": [
    {
     "data": {
      "text/plain": [
       "['Brilliant',\n",
       " 'Simply awesome',\n",
       " 'Best in the market!',\n",
       " 'Perfect product!',\n",
       " 'Fabulous!',\n",
       " 'Worth every penny',\n",
       " 'Great product',\n",
       " 'Good choice',\n",
       " 'Highly recommended',\n",
       " 'Worth every penny',\n",
       " 'Highly recommended',\n",
       " 'Perfect product!',\n",
       " 'Perfect product!',\n",
       " 'Highly recommended',\n",
       " 'Worth every penny',\n",
       " 'Perfect product!',\n",
       " 'Worth every penny',\n",
       " 'Simply awesome',\n",
       " 'Classy product',\n",
       " 'Worth every penny',\n",
       " 'Wonderful',\n",
       " 'Terrific',\n",
       " 'Nice product',\n",
       " 'Perfect product!',\n",
       " 'Perfect product!',\n",
       " 'Classy product',\n",
       " 'Brilliant',\n",
       " 'Good choice',\n",
       " 'Great product',\n",
       " 'Must buy!',\n",
       " 'Perfect product!',\n",
       " 'Simply awesome',\n",
       " 'Wonderful',\n",
       " 'Terrific purchase',\n",
       " 'Terrific purchase',\n",
       " 'Great product',\n",
       " 'Mind-blowing purchase',\n",
       " 'Excellent',\n",
       " 'Simply awesome',\n",
       " 'Good quality product',\n",
       " 'Very poor',\n",
       " 'Perfect product!',\n",
       " 'Classy product',\n",
       " 'Fabulous!',\n",
       " 'Highly recommended',\n",
       " 'Must buy!',\n",
       " 'Fabulous!',\n",
       " 'Mind-blowing purchase',\n",
       " 'Wonderful',\n",
       " 'Must buy!',\n",
       " 'Very Good',\n",
       " 'Wonderful',\n",
       " 'Classy product',\n",
       " 'Just wow!',\n",
       " 'Awesome',\n",
       " 'Pretty good',\n",
       " 'Terrific purchase',\n",
       " 'Awesome',\n",
       " 'Classy product',\n",
       " 'Brilliant']"
      ]
     },
     "execution_count": 1463,
     "metadata": {},
     "output_type": "execute_result"
    }
   ],
   "source": [
    "#we will get the review summary text using for loop\n",
    "\n",
    "for i in review_summary_tag:\n",
    "    summary=i.text\n",
    "    review_summary_list.append(summary)\n",
    "review_summary_list\n"
   ]
  },
  {
   "cell_type": "code",
   "execution_count": 1464,
   "id": "2fc4400d",
   "metadata": {},
   "outputs": [
    {
     "data": {
      "text/plain": [
       "[<selenium.webdriver.remote.webelement.WebElement (session=\"21adad40789ed2d83ae180cc85aa07d7\", element=\"774ec496-758f-40ba-a486-3dbd72b30f8c\")>,\n",
       " <selenium.webdriver.remote.webelement.WebElement (session=\"21adad40789ed2d83ae180cc85aa07d7\", element=\"c49c2140-01a1-44c7-90b5-8d2b50b6c473\")>,\n",
       " <selenium.webdriver.remote.webelement.WebElement (session=\"21adad40789ed2d83ae180cc85aa07d7\", element=\"4ee11350-a42d-4607-a360-540885abed10\")>,\n",
       " <selenium.webdriver.remote.webelement.WebElement (session=\"21adad40789ed2d83ae180cc85aa07d7\", element=\"f6c6ee01-6b1a-4597-87ba-1d6b28c3a31d\")>,\n",
       " <selenium.webdriver.remote.webelement.WebElement (session=\"21adad40789ed2d83ae180cc85aa07d7\", element=\"3a697601-8cbd-4107-9a9d-ea18572dd7da\")>,\n",
       " <selenium.webdriver.remote.webelement.WebElement (session=\"21adad40789ed2d83ae180cc85aa07d7\", element=\"937f11b3-0181-410e-bd48-f1212983c4fc\")>,\n",
       " <selenium.webdriver.remote.webelement.WebElement (session=\"21adad40789ed2d83ae180cc85aa07d7\", element=\"bb1628ab-2901-42bf-9bc7-12be01104d27\")>,\n",
       " <selenium.webdriver.remote.webelement.WebElement (session=\"21adad40789ed2d83ae180cc85aa07d7\", element=\"e9a2b7ec-76df-4a9b-9995-881a6c8b6932\")>,\n",
       " <selenium.webdriver.remote.webelement.WebElement (session=\"21adad40789ed2d83ae180cc85aa07d7\", element=\"0fb8c12a-dfd8-4b52-a9f9-6a1c1ee06285\")>,\n",
       " <selenium.webdriver.remote.webelement.WebElement (session=\"21adad40789ed2d83ae180cc85aa07d7\", element=\"c15493c6-b31e-4763-a3e7-fabb0772f656\")>]"
      ]
     },
     "execution_count": 1464,
     "metadata": {},
     "output_type": "execute_result"
    }
   ],
   "source": [
    "#extract  full review \n",
    "review_tag=driver.find_elements_by_xpath(\"//div[@class='t-ZTKy']\")\n",
    "review_tag"
   ]
  },
  {
   "cell_type": "code",
   "execution_count": 1465,
   "id": "ea52eb34",
   "metadata": {},
   "outputs": [
    {
     "data": {
      "text/plain": [
       "['The Best Phone for the Money\\n\\nThe iPhone 11 offers superb cameras, a more durable design and excellent battery life for an affordable price.\\n\\nCompelling ultra-wide camera\\nNew Night mode is excellent\\nLong battery life',\n",
       " 'Really satisfied with the Product I received... It’s totally genuine and the packaging was also really good so if ur planning to buy just go for it.',\n",
       " 'Great iPhone very snappy experience as apple kind. Upgraded from iPhone 7.\\nPros\\n-Camera top class\\n- Battery top performed\\n-Chipset no need to say as apple kind\\n-Security as you expect from apple\\n- Display super bright industry leading colour\\naccuracy and super responsive\\n-Build quality as expect from apple sturdy\\npremium durable beautiful stylish.\\n-Os most stable os in smartphone industry\\n\\nCons\\n-No 5G\\n-Display is not based on OLED technology\\n-Charger headphones and 1 apple stic...\\nREAD MORE',\n",
       " 'Amazing phone with great cameras and better battery which gives you the best performance. I just love the camera .',\n",
       " 'This is my first iOS phone. I am very happy with this product. Very much satisfied with this. I love this phone.',\n",
       " 'Previously I was using one plus 3t it was a great phone\\nAnd then I decided to upgrade I am stuck between Samsung s10 plus or iPhone 11\\nI have seen the specs and everything were good except the display it’s somewhere between 720-1080 and it’s not even an amoled it’s an LCD display\\nBut I decided to go with iPhone because I have never used an IOS device I have Been an android user from the past 9 years I ordered IPhone 11 (128gb) product red\\nMy experience after using 3 weeks\\n1. The delivery ...\\nREAD MORE',\n",
       " 'Amazing Powerful and Durable Gadget.\\n\\nI’m am very happy with the camera picture quality, Amazing face id unlocked in dark room, Strong battery with perfect screen size as you can carry easily in pocket. This is my third iPhone.\\n\\nI shifted from android Samsung Note series to iPhone because of the strong build quality and peace of mind for next 3-4 years.\\n\\nDon’t think to much just go for it and I suggest you to go for minimum 128gb variant or more 256gb.\\n\\nI’ve attached my puppy pics and no fi...\\nREAD MORE',\n",
       " 'So far it’s been an AMAZING experience coming back to iOS after nearly a decade but it’s not as versatile as android though phone is sturdy dropped it accidentally a couple of times and nothing happened fortunately camera is awesome',\n",
       " 'What a camera .....just awesome ..you can feel this iPhone just awesome . Good for gaming also ...try pubg in hd it’s just wow',\n",
       " 'i11 is worthy to buy, too much happy with the product. Thank u flipkart I received the item on time..loved it..',\n",
       " 'iphone 11 is a very good phone to buy only if you can compromise for the display. The display on this is device is pretty good but you can get other options with better displays in this price segment.\\nIf you can survive with an HD+ LCD panel with thicker bezels and a notch up top then this is a very good phone for you.\\nCameras are awesome, battery backup excellent, great performance and a decent premium look. Good job Apple !',\n",
       " 'It’s a must buy who is looking for an upgrade from previous generation of iPhones. If you are using XR then still you can hold on for sometime and upgrade to 2020 model else this phone is a must buy . Camera quality is amazing and wide angle is something to count upon. Performance wise it’s amazing and feels premium while holding in hand. So a big YES for this device. Go for 128 GB variant as the 4K videos will occupy lots of space and the storage can get over very quickly. Try to buy it with...\\nREAD MORE',\n",
       " 'Value for money❤️❤️\\nIts awesome mobile phone in the world ...\\nDisplay was very good and bright ..\\nTrust me freinds you r never regret after Buying..\\nJust go for it....\\nI love this phone and i switch to iphone x to 11',\n",
       " \"It's my first time to use iOS phone and I am loving my upgradation 😍😍 I love the color, I love the assebility of the phone....I need to learn more about its functionality, but as far as I have seen, it's quite easy and it has a lot of functions to work on, specially if you are a content writer or a blogger you get a lot of content creation platforms and they are really amazing.\\n\\nThis phone not only for good quality photography but a lot of other task too.😍💯\",\n",
       " 'Smooth like butter, camera like fantabulous, sound is crystal clear & its red color is damn attractive, i am just loving it. Must buy if you love photography.\\n\\nLucky to get it in sale, thank you Flipkart.',\n",
       " \"Iphone is just awesome.. battery backup is very very nice.. continuously for 10 hours we can use it.camera is just awesome.. display is just fab.i love it alot..i had to wait 15 days for it as i pre ordered it..overalll it's worth the price..these all images are clicked by my iPhone..and i love it.\",\n",
       " 'Best budget Iphone till date ❤️ go for it guys without second thought. Let me explain you guys about Camera, Display, battery, and performance.\\n\\nCamera: at this price range there is no comparison of camera, you’ll love the picture quality as well as video quality. I am a Vlogger I wanted an iPhone with 4k video by front camera and I got this phone and I am more than happy 😃\\n\\nBattery: I use this phone roughly as I am active social media person and I have a youtube channel. so the battery ba...\\nREAD MORE',\n",
       " 'Excellent camera, good performance, no lag. The lcd display is also good.. but difference come when we watch movie in prime and Netflix, the colours are not vibrant.. as we see in amoled display.. and the charger in box is of 5 watts.. takes more than 3 hours to charge from 0 to 100.. so guys be prepare to buy 18 watts charger . Finally I am an android user, it was my first Iapple phone, I promise u guys the iOS is so smooth.. overall the phone is damn good.... close eyes to buy it.. thanks t...\\nREAD MORE',\n",
       " 'Totally in love with this ❤ the camera quality is amazing just love it 😘😘😘 itsss dammnnnnnn amazing... Must buy iPhone 11 this is my best experience ever ☀👌👌🧡🧡🧡🧡🧡 thanku apple ❤',\n",
       " 'It’s been almost a month since I have been using this phone. I upgraded from an iPhone 8. The main issue with my 8 was battery and this phone is just awesome when it comes to battery. It lasts a day and a half for me with my regular use , internet connected always with 4g\\nCan’t move forward without saying this. Battery of this phone is a life saver when I am traveling or at work when I don’t get the option to charge\\nCamera is superb. Front cam selfies and back cam photos are just awesome.\\n...\\nREAD MORE',\n",
       " 'This is my first ever I phone. Before this I was using my google nexus 5. But moving from android to iOS is a great experience. It’s worth at this price. I will highly recommend it if you want to move to iOS. The best part of this phone is it’s camera and it’s battery life. This two things have won my heart. I loved it. Happy to have it in my hand. Still exploring its features. And can’t forget to mention Flipkart service. Very prompt service and fast delivery.',\n",
       " 'Really worth of money. i just love it. It is the best phone ever.',\n",
       " 'Awesome Phone. Slightly high price but worth. Better than iPhone XR.\\nCamera is superb and wide angle camera is very clear.\\n12MP selfie camera is also very good.\\nA13 Chip gives a very good and smooth performance.',\n",
       " 'It is just awesome mobile for this price from Apple,\\n\\nAfter 10 days review\\n\\nBattery enough for 1 day even 24*7 Internet will be on and mostly internet usage\\n\\nCamera is just awesome cool , android 64 MP is equal to this just 12 MP\\n\\nA13 Bionic chip will give more high performance without hanging\\n\\nAudio stereo speakers will give Dolby atoms sound with crystal clear\\n\\nVideo recording is like cinematic shots of every sec can be a 4K 60fps. Just awesome this phone\\niPhone 11 loved one',\n",
       " 'Battery backup is extraordinary, camera is decent & performance offered by A13 bionic is awsome. The display is good in practical usage like the visibility of display is very good in direct sun light compare to pro models. Iam extremely satisfied for the money I spent.',\n",
       " 'Superb Product !!!\\nA big and worthy upgrade from mi 3S to iphone 11 .\\nTotally loved it !',\n",
       " 'I have migrated from OP 7pro... and trust me, iPhone 11 is totally worth it.. following are the reasons:-\\n1)there is ABSOLUTELY NO ISSUE WITH THE DISPLAY... its crisp, sharp and I found it to be much much better than OP7 pro. Netflix, Prime video all run crisply... you won’t miss a thing. True Tone works flawlessly...the display brightness is perfect. OP have not calibrated their screens properly.\\n2) iPhone 11 series have really good cameras... others have spoken in depth about them.\\n3) bat...\\nREAD MORE',\n",
       " 'Looking so good 👍 😍 super 👌 stylish 😎 phone\\nClean box 📦 good 👍 delivery 👌 fast delivery\\nOriginal box Original iphone 📱 👌 😍😍😍',\n",
       " \"Again back to apple iphone after a gap of 2-3 years. It's pleasure to use iOS and the quality product by Apple. Iphone 11 still works like a beast in 2021 also. It really capable of doing day to day usage as well as hard core gaming. Battery is awesome. I'm really too much satisfied with it. Apart fto the very gorgious IPS LCD (AMOLED will be better) everything is mind boggling. Iphone💕.\",\n",
       " 'It’s an amazing product from apple and the camera is simply superb. Phone is faster.Night shot is simply superb and detailing and colour differentiation from camera is an added advantage\\n\\nThis review I have written from iPhone 11 only and I am glad to say outside.\\n\\nCons wise if we see HD+ display only, no battery percentage indicator as in older iPhone 8.\\nNo assistive touch control button in it\\nNo oleophobic coating on back panel glass and finger prints are visible but since I bought mint gr...\\nREAD MORE',\n",
       " 'After 1 month use I found camera quality best compared to my previous Samsung note 10+.Display not good as note 10 also charging too slow.Apple should add fast charger like 11 plus and pro.Best phone for daily use',\n",
       " \"It's very high performances devise i am like the service of flipkart delevary very fast and packing very nice perfect phone\",\n",
       " 'I just directly switch from iphone 6s to iphone 11 .The best premium smartphone I recommend to everyone. Excellent quality and colors the iphone have in 11 series.\\nCamera quality is just awesome and the major feel when we hold in our hands. The sound quality and volume is also higher then the previous models.\\nI will recommend to buy iphone 11 instead of pro models , there is nothing much difference as this model contains everything which fulfill our needs.\\n\\nOnly one thing that I dislike abo...\\nREAD MORE',\n",
       " 'Upgraded from iphone 6 to 11 best phone for iphone users battery is much better than other iphones camera is awesome love to use it.camera is so clear in night.',\n",
       " 'The built quality is not very premium.\\nThe battery back is great .\\nThe LCD panel is not so sharp but the brightness level is very High .\\nCamera is super duper awesome.\\nThe red colour which people think is bright is actually very soothing and excellent colour to choose from .\\nThe A13 Bionic chip is really a flagship processor and can beat any phone which even has 12 gb ram .\\nCamera module is very great and looks very stylish.',\n",
       " 'Well you all know the specifications . One of a kind. Best iPhone till date. Many enhancements to the camera app with many options. Love the glass body with matte finish in the lens area on the back. Lovely colours to choose from. Best battery in an iPhone till date, enough to last more than a day in normal usage. I tested my iPhone 11 battery and lasted for than 24 hours after full charge still with 30% battery charge left. Watched movies for some time. Normal usage on calls, browsing, musi...\\nREAD MORE',\n",
       " 'This will help you more. See if you are planning to buy iPhone 11. I will say. Yes. But there are some plans I just want to disclose before you buy. 1) If you are an existing iPhone X/XS/XS Max/ XR user, better you guys do not think it to buy. You guys have more or less better gadget. 2) If you are an android user and planning to buy premium phone. I will suggest them to please buy iPhone instead of buying an Android. I bet you will never go back to android after using IOS. Now I want to shar...\\nREAD MORE',\n",
       " 'Amazing camera and feel super machine I am not describe my feeling but this is amazing Phone I am so lucky I have this',\n",
       " 'Really good actually this is my first apple product am using its really awesome performance wise excellent. Am really happy with this iphone11',\n",
       " 'it is very good at performance. Camera is best like before and very smooth response even in water. Don’t buy 12 mini buy iPhone 11 , it is far better than 12 mini believe me ! Have a nice day \\uf8ff ☺️',\n",
       " 'Reviewing again after 5 months. At the beginning the battery and performance was good but it degraded soon. Also I was facing heating issues. The mobile will heat up like a stove sometimes. You cannot even play Pubg even in low settings properly, performance is not a problem but heating is. Also if you play that game for 10 mins the brightness will be automatically down due to over heating even when the auto brightness is set to off. This will not be solved even if u manually increase the bri...\\nREAD MORE',\n",
       " 'In love with this iphone great performance,camera ,battery everything. Go for it have a uncompareble battery backup, no doubts in iPhone camera here You can see the picture which is shot on my iPhone In love with this iphone great performance,camera ,battery everything. Go for it have a uncompareble battery backup, no doubts in iPhone camera here You can see the picture which is shot on my iPhone In love with this iphone great performance,camera ,battery everything. Go for it have a uncompare...\\nREAD MORE',\n",
       " 'We are on apple ecosystem for almost eight years now with couple of iPads and iPhones, including Xr.\\n\\nBought iPhone 11 as a gift to my daughter who loves it. We chose for a purple coloured one. Believe me it is gorgeous and towards the lighter shade. Dazzling and brilliant!\\n\\nThe phone is great and does excellent RAM management like any other Apple device.\\n\\nThe screen, though a LCD and lesser ppi as compared to other flagship phones of competitor brands, is a delight to watch with perfect re...\\nREAD MORE',\n",
       " 'Everything is perfect pictures come out so clearly and at first I wasn’t sure when I got it then when I started to use it and get the hang of it it was amazing!! I can’t wait to see what the next future phones will be like. The screen display on this bad boy are unbelievable they are so clear and never fail me. The performance is super cool there is a lot of cool features as well I like this phone because I feel that it is easy to use and one of my favorite things about this phone is the Face...\\nREAD MORE',\n",
       " 'Amazing camera quality as expected, battery also has very good performance. Display, body, and touch experience is the best I’ve ever had. Sound quality of speakers is more than sufficient. Apple is known for it’s customer friendly security services and I can see it how. The A13 processor is the best in its work. So I would definitely recommend it for everyone who are looking for it, just go for it without delay.\\n\\nThe most amazing thing it the delivery. Flipkart has delivered it in the span ...\\nREAD MORE',\n",
       " 'Best Apple iPhone that i have bought at a very reasonable price, camera quality is next level just awesome n of superior quality android phones not even close(RIP) to that and also battery is really good but packaging by Flipkart of iPhone was very poor of such a expensive product, firstly im bit worried about the quality of product if i purchased it through online how was the product but i think now this was mine best decision to bought it through Flipkart online because i got genuine Apple...\\nREAD MORE',\n",
       " \"I can say I'm damn impressed with iPhone 11. As they says iPhone 11 have the toughest glass ever in the smartphone which you'll find on the front and back and it's totally smooth. The fit and finish is full apple quality - there's no sense that any cheaping out has happened in the construction. Without saying it's camera features this review won't complete. The iPhone 11 has a dual camera system, consisting of a wide angle len's that's pretty much same as found on the iPhone XR last year, but...\\nREAD MORE\",\n",
       " 'Best Quality Product OF iPhone Series , Sound Quality & Camera quality is very awesome, Battery Life is very Sufficient for 24 hr Backup With Full Internet Access , I love this this Product too much , It is very fast & making me Very fast in all my daily Routine\\nHighlights;\\n1.Camera: 5 STAR\\n2.Video Recording: 5 star\\n3.Night mODE sHOOTING & Camera:4 star\\n4. Audio Quality: Awesome\\n5. Battery : 5 Star\\n6. Touch:5 Star\\n7. Processor: Very Fast\\nThe M...\\nREAD MORE',\n",
       " 'Superfast delivery by Flipkart. Thanks.\\n\\n1. iPhone 11 is a pretty solid phone for the money you are paying.\\n2. All the bad reviews about the display is confusing. It’s not that bad.\\n3. I switched from a Oneplus 7t. I have no complaints about the display quality of iPhone. Yes, it’s not OLED, so, we are missing on the deep blacks. But that’s it. It is a very colour accurate display. Gets adequately bright and I could not find any pixelation.\\n4. Performance is one of the best, if not best, in ...\\nREAD MORE',\n",
       " 'I rate this product 5* as it has got amazing user experience with the best performing A13 bionic processor. The screen responds and graphics rendering is top notch. With casual gaming and internet browsing, the battery lasts for approx. 1 day. Camera is very good. You will fall in love with the portrait mode. You can call me a loyal Apple customer or whatever but I won’t stop praising the products and overall experience. That user experience matters and is worth every penny you pay.\\n\\nBelow ar...\\nREAD MORE',\n",
       " 'impressive super phone and best in class camera ,sound and face unlock is super fast just see and phone is unlock and fast in daily apps use',\n",
       " 'Super and marvellous phone look very cute and nice sound. I love this phone i think white is good colur.Excellent camer 5*😍😘♥️♥️',\n",
       " 'Well while switching from android to iOS the first thing you need to be careful about is that you will loose all your whatsapp chat backups as both are different operating systems. Camera clarity is awesome and though being an lcd screen clarity and resolution is good. Battery backup is also good unlike previous gen iPhone. So far the experience is good will Padre after a few months of usage.\\n\\nP.S the black is more of a dark grey shade and not jet black',\n",
       " 'Best in class. Battery backup is good especially when you play games like Pubg COD. But it is sort of heavy when you hold in hands. Portrait mode is best to click pictures. Stage light effect is awesome. Try to click photos outside in nature because photos inside home or room will not give you the quality in any phone even in DSLR.',\n",
       " 'Very excited to have this phone. This phone has the real power unlike the android phones having SD 855 . The battery life is very good and the camera quality is excellent as comapred to redmi and other phones except google pixel. I M enjoying every single bit of it. Would recommed only if you have the budget.',\n",
       " 'I was using Iphone 6s and also Oneplus 6t. Both mobiles were perfectly alright in Photos, gaming, and smooth interface . My 6s mobile getting battery issue. thought upgrade to 11. Really like this mobile of its Internal storage (compare to 6s) , camera and its touch feeling. Its a worth buying mobile for me.',\n",
       " 'Its Very awesome product working and good camera quality and all about best product and also flipkart is very great deal and offer nice price',\n",
       " 'I am using this phone for 5 days and its one of the best camera out there ❤️ the screen is not oled and i am coming from iphone xs so its little bit not up to the mark i would say\\nBut overall value for money💕😍the battery back up is far better than my iphone xs and its worth in my apple ecosystem💫❤️if u are an apple User and have the eco system then go for it❤️though i will be getting the new iphone but its pretty good💫',\n",
       " 'Best and amazing product.....phone looks so premium.... battary is also good as expected .... Wide angle camera is so addictive ...if you are a IOS lover....then this phone will be the best choice for you all!!💯🔥',\n",
       " 'Excellent camera and display touching very nice and smooth very improvement against iPhone XR and new processor is very fast']"
      ]
     },
     "execution_count": 1465,
     "metadata": {},
     "output_type": "execute_result"
    }
   ],
   "source": [
    "#we will get the full review text using for loop\n",
    "\n",
    "for i in review_tag:\n",
    "    review=i.text\n",
    "    full_review_list.append(review)\n",
    "full_review_list"
   ]
  },
  {
   "cell_type": "code",
   "execution_count": 1466,
   "id": "491d052a",
   "metadata": {},
   "outputs": [],
   "source": [
    "#, go to the all review Button at the bottom ofthe page , then click on it.\n",
    "next_button=driver.find_element_by_xpath(\"/html/body/div[1]/div/div[3]/div/div/div[2]/div[13]/div/div/nav/a[12]\")\n",
    "next_button.click()"
   ]
  },
  {
   "cell_type": "code",
   "execution_count": 1467,
   "id": "a77caa52",
   "metadata": {},
   "outputs": [
    {
     "data": {
      "text/plain": [
       "[<selenium.webdriver.remote.webelement.WebElement (session=\"21adad40789ed2d83ae180cc85aa07d7\", element=\"5e597519-2558-4a2c-a238-3791d72aff7d\")>,\n",
       " <selenium.webdriver.remote.webelement.WebElement (session=\"21adad40789ed2d83ae180cc85aa07d7\", element=\"e73a509a-8154-4ad5-9c17-42838f3a6d93\")>,\n",
       " <selenium.webdriver.remote.webelement.WebElement (session=\"21adad40789ed2d83ae180cc85aa07d7\", element=\"30f01963-6fc4-4f7c-9d69-1f4c34de5f8e\")>,\n",
       " <selenium.webdriver.remote.webelement.WebElement (session=\"21adad40789ed2d83ae180cc85aa07d7\", element=\"e93237e0-f65c-4b0e-aaef-0e74d4c4ce85\")>,\n",
       " <selenium.webdriver.remote.webelement.WebElement (session=\"21adad40789ed2d83ae180cc85aa07d7\", element=\"3d017be8-74a6-47d3-bced-2cf70ab8e6c4\")>,\n",
       " <selenium.webdriver.remote.webelement.WebElement (session=\"21adad40789ed2d83ae180cc85aa07d7\", element=\"a2c6cfef-ea7c-48d9-acea-da526a47475e\")>,\n",
       " <selenium.webdriver.remote.webelement.WebElement (session=\"21adad40789ed2d83ae180cc85aa07d7\", element=\"8d07c381-7b30-4729-baa4-055d2560089a\")>,\n",
       " <selenium.webdriver.remote.webelement.WebElement (session=\"21adad40789ed2d83ae180cc85aa07d7\", element=\"6d14732f-12cd-46ad-97a5-49dd299e70da\")>,\n",
       " <selenium.webdriver.remote.webelement.WebElement (session=\"21adad40789ed2d83ae180cc85aa07d7\", element=\"98c10fbc-1d83-4220-bfb1-30bbec587870\")>,\n",
       " <selenium.webdriver.remote.webelement.WebElement (session=\"21adad40789ed2d83ae180cc85aa07d7\", element=\"34afd946-c4f7-4d33-9893-6da19b56e165\")>]"
      ]
     },
     "execution_count": 1467,
     "metadata": {},
     "output_type": "execute_result"
    }
   ],
   "source": [
    "\n",
    "#extract ratings\n",
    "rating_tag=driver.find_elements_by_xpath(\"//div[@class='_3LWZlK _1BLPMq'or @class='_3LWZlK _1rdVr6 _1BLPMq']\")\n",
    "rating_tag\n"
   ]
  },
  {
   "cell_type": "code",
   "execution_count": 1468,
   "id": "ac755123",
   "metadata": {},
   "outputs": [
    {
     "data": {
      "text/plain": [
       "['5',\n",
       " '5',\n",
       " '5',\n",
       " '5',\n",
       " '5',\n",
       " '5',\n",
       " '5',\n",
       " '4',\n",
       " '5',\n",
       " '5',\n",
       " '5',\n",
       " '5',\n",
       " '5',\n",
       " '5',\n",
       " '5',\n",
       " '5',\n",
       " '5',\n",
       " '5',\n",
       " '5',\n",
       " '5',\n",
       " '5',\n",
       " '5',\n",
       " '4',\n",
       " '5',\n",
       " '5',\n",
       " '5',\n",
       " '5',\n",
       " '4',\n",
       " '5',\n",
       " '5',\n",
       " '5',\n",
       " '5',\n",
       " '5',\n",
       " '5',\n",
       " '5',\n",
       " '5',\n",
       " '5',\n",
       " '5',\n",
       " '5',\n",
       " '4',\n",
       " '1',\n",
       " '5',\n",
       " '5',\n",
       " '5',\n",
       " '5',\n",
       " '5',\n",
       " '5',\n",
       " '5',\n",
       " '5',\n",
       " '5',\n",
       " '4',\n",
       " '5',\n",
       " '5',\n",
       " '5',\n",
       " '5',\n",
       " '4',\n",
       " '5',\n",
       " '5',\n",
       " '5',\n",
       " '5',\n",
       " '5',\n",
       " '5',\n",
       " '5',\n",
       " '3',\n",
       " '5',\n",
       " '5',\n",
       " '1',\n",
       " '5',\n",
       " '5',\n",
       " '5']"
      ]
     },
     "execution_count": 1468,
     "metadata": {},
     "output_type": "execute_result"
    }
   ],
   "source": [
    "\n",
    "#we will get the rating text using for loop\n",
    "\n",
    "for i in rating_tag:\n",
    "    rating=i.text\n",
    "    rating_list.append(rating)\n",
    "rating_list"
   ]
  },
  {
   "cell_type": "code",
   "execution_count": 1469,
   "id": "4c2ff226",
   "metadata": {},
   "outputs": [
    {
     "data": {
      "text/plain": [
       "[<selenium.webdriver.remote.webelement.WebElement (session=\"21adad40789ed2d83ae180cc85aa07d7\", element=\"1033cddd-a7f3-4dd7-a70a-6ed6ef777069\")>,\n",
       " <selenium.webdriver.remote.webelement.WebElement (session=\"21adad40789ed2d83ae180cc85aa07d7\", element=\"8a5b1514-1f53-4c9e-a67e-8c6320b61449\")>,\n",
       " <selenium.webdriver.remote.webelement.WebElement (session=\"21adad40789ed2d83ae180cc85aa07d7\", element=\"201b00e2-a6ca-432f-b1ff-677c92f62b60\")>,\n",
       " <selenium.webdriver.remote.webelement.WebElement (session=\"21adad40789ed2d83ae180cc85aa07d7\", element=\"042c812e-7814-41ae-9954-87435ecd85e4\")>,\n",
       " <selenium.webdriver.remote.webelement.WebElement (session=\"21adad40789ed2d83ae180cc85aa07d7\", element=\"0b7dc404-f951-46ad-9f93-827f152dfd75\")>,\n",
       " <selenium.webdriver.remote.webelement.WebElement (session=\"21adad40789ed2d83ae180cc85aa07d7\", element=\"ad56b040-7460-4130-a84a-9d99e0c13638\")>,\n",
       " <selenium.webdriver.remote.webelement.WebElement (session=\"21adad40789ed2d83ae180cc85aa07d7\", element=\"9945852e-2b55-4600-8f87-4320fafc30c1\")>,\n",
       " <selenium.webdriver.remote.webelement.WebElement (session=\"21adad40789ed2d83ae180cc85aa07d7\", element=\"51b4e0f5-06e4-4992-8f13-db568db237f5\")>,\n",
       " <selenium.webdriver.remote.webelement.WebElement (session=\"21adad40789ed2d83ae180cc85aa07d7\", element=\"cdfebf87-5852-4440-a632-16e459905700\")>,\n",
       " <selenium.webdriver.remote.webelement.WebElement (session=\"21adad40789ed2d83ae180cc85aa07d7\", element=\"e27b87d2-2af4-43ac-b204-bc7bde43fbcb\")>]"
      ]
     },
     "execution_count": 1469,
     "metadata": {},
     "output_type": "execute_result"
    }
   ],
   "source": [
    "#extract review summary\n",
    "review_summary_tag=driver.find_elements_by_xpath(\"//p[@class='_2-N8zT']\")\n",
    "review_summary_tag"
   ]
  },
  {
   "cell_type": "code",
   "execution_count": 1470,
   "id": "a6d51b3e",
   "metadata": {},
   "outputs": [
    {
     "data": {
      "text/plain": [
       "['Brilliant',\n",
       " 'Simply awesome',\n",
       " 'Best in the market!',\n",
       " 'Perfect product!',\n",
       " 'Fabulous!',\n",
       " 'Worth every penny',\n",
       " 'Great product',\n",
       " 'Good choice',\n",
       " 'Highly recommended',\n",
       " 'Worth every penny',\n",
       " 'Highly recommended',\n",
       " 'Perfect product!',\n",
       " 'Perfect product!',\n",
       " 'Highly recommended',\n",
       " 'Worth every penny',\n",
       " 'Perfect product!',\n",
       " 'Worth every penny',\n",
       " 'Simply awesome',\n",
       " 'Classy product',\n",
       " 'Worth every penny',\n",
       " 'Wonderful',\n",
       " 'Terrific',\n",
       " 'Nice product',\n",
       " 'Perfect product!',\n",
       " 'Perfect product!',\n",
       " 'Classy product',\n",
       " 'Brilliant',\n",
       " 'Good choice',\n",
       " 'Great product',\n",
       " 'Must buy!',\n",
       " 'Perfect product!',\n",
       " 'Simply awesome',\n",
       " 'Wonderful',\n",
       " 'Terrific purchase',\n",
       " 'Terrific purchase',\n",
       " 'Great product',\n",
       " 'Mind-blowing purchase',\n",
       " 'Excellent',\n",
       " 'Simply awesome',\n",
       " 'Good quality product',\n",
       " 'Very poor',\n",
       " 'Perfect product!',\n",
       " 'Classy product',\n",
       " 'Fabulous!',\n",
       " 'Highly recommended',\n",
       " 'Must buy!',\n",
       " 'Fabulous!',\n",
       " 'Mind-blowing purchase',\n",
       " 'Wonderful',\n",
       " 'Must buy!',\n",
       " 'Very Good',\n",
       " 'Wonderful',\n",
       " 'Classy product',\n",
       " 'Just wow!',\n",
       " 'Awesome',\n",
       " 'Pretty good',\n",
       " 'Terrific purchase',\n",
       " 'Awesome',\n",
       " 'Classy product',\n",
       " 'Brilliant',\n",
       " 'Terrific',\n",
       " 'Perfect product!',\n",
       " 'Awesome',\n",
       " 'Does the job',\n",
       " 'Perfect product!',\n",
       " 'Highly recommended',\n",
       " 'Very poor',\n",
       " 'Fabulous!',\n",
       " 'Excellent',\n",
       " 'Must buy!']"
      ]
     },
     "execution_count": 1470,
     "metadata": {},
     "output_type": "execute_result"
    }
   ],
   "source": [
    "#we will get the review summary text using for loop\n",
    "\n",
    "for i in review_summary_tag:\n",
    "    summary=i.text\n",
    "    review_summary_list.append(summary)\n",
    "review_summary_list"
   ]
  },
  {
   "cell_type": "code",
   "execution_count": 1471,
   "id": "0797fb35",
   "metadata": {},
   "outputs": [
    {
     "data": {
      "text/plain": [
       "[<selenium.webdriver.remote.webelement.WebElement (session=\"21adad40789ed2d83ae180cc85aa07d7\", element=\"85245f9d-d066-489c-b87b-b9d89d6a79eb\")>,\n",
       " <selenium.webdriver.remote.webelement.WebElement (session=\"21adad40789ed2d83ae180cc85aa07d7\", element=\"67e53dcf-c74c-4d9d-9f89-6effed67fbfc\")>,\n",
       " <selenium.webdriver.remote.webelement.WebElement (session=\"21adad40789ed2d83ae180cc85aa07d7\", element=\"c35ac3ad-bb44-4177-8b80-5540ec7e478e\")>,\n",
       " <selenium.webdriver.remote.webelement.WebElement (session=\"21adad40789ed2d83ae180cc85aa07d7\", element=\"56e5826c-8c2c-441a-8f6f-a65b665728da\")>,\n",
       " <selenium.webdriver.remote.webelement.WebElement (session=\"21adad40789ed2d83ae180cc85aa07d7\", element=\"b20f874b-864f-455e-a7d4-01e17f94373e\")>,\n",
       " <selenium.webdriver.remote.webelement.WebElement (session=\"21adad40789ed2d83ae180cc85aa07d7\", element=\"98a38fbc-ac97-4e79-8abc-4a6058aa91a5\")>,\n",
       " <selenium.webdriver.remote.webelement.WebElement (session=\"21adad40789ed2d83ae180cc85aa07d7\", element=\"197c74a5-b038-47e9-8be5-5acc6b5b60cf\")>,\n",
       " <selenium.webdriver.remote.webelement.WebElement (session=\"21adad40789ed2d83ae180cc85aa07d7\", element=\"631b96b6-e466-40fc-ae8f-bca94094ca9d\")>,\n",
       " <selenium.webdriver.remote.webelement.WebElement (session=\"21adad40789ed2d83ae180cc85aa07d7\", element=\"51275a10-da37-4af5-8f73-7832367bcf3e\")>,\n",
       " <selenium.webdriver.remote.webelement.WebElement (session=\"21adad40789ed2d83ae180cc85aa07d7\", element=\"e861e83f-d030-4590-80e3-d7212cafafa0\")>]"
      ]
     },
     "execution_count": 1471,
     "metadata": {},
     "output_type": "execute_result"
    }
   ],
   "source": [
    "#extract  full review \n",
    "review_tag=driver.find_elements_by_xpath(\"//div[@class='t-ZTKy']\")\n",
    "review_tag"
   ]
  },
  {
   "cell_type": "code",
   "execution_count": 1472,
   "id": "80dcb5d5",
   "metadata": {},
   "outputs": [
    {
     "data": {
      "text/plain": [
       "['The Best Phone for the Money\\n\\nThe iPhone 11 offers superb cameras, a more durable design and excellent battery life for an affordable price.\\n\\nCompelling ultra-wide camera\\nNew Night mode is excellent\\nLong battery life',\n",
       " 'Really satisfied with the Product I received... It’s totally genuine and the packaging was also really good so if ur planning to buy just go for it.',\n",
       " 'Great iPhone very snappy experience as apple kind. Upgraded from iPhone 7.\\nPros\\n-Camera top class\\n- Battery top performed\\n-Chipset no need to say as apple kind\\n-Security as you expect from apple\\n- Display super bright industry leading colour\\naccuracy and super responsive\\n-Build quality as expect from apple sturdy\\npremium durable beautiful stylish.\\n-Os most stable os in smartphone industry\\n\\nCons\\n-No 5G\\n-Display is not based on OLED technology\\n-Charger headphones and 1 apple stic...\\nREAD MORE',\n",
       " 'Amazing phone with great cameras and better battery which gives you the best performance. I just love the camera .',\n",
       " 'This is my first iOS phone. I am very happy with this product. Very much satisfied with this. I love this phone.',\n",
       " 'Previously I was using one plus 3t it was a great phone\\nAnd then I decided to upgrade I am stuck between Samsung s10 plus or iPhone 11\\nI have seen the specs and everything were good except the display it’s somewhere between 720-1080 and it’s not even an amoled it’s an LCD display\\nBut I decided to go with iPhone because I have never used an IOS device I have Been an android user from the past 9 years I ordered IPhone 11 (128gb) product red\\nMy experience after using 3 weeks\\n1. The delivery ...\\nREAD MORE',\n",
       " 'Amazing Powerful and Durable Gadget.\\n\\nI’m am very happy with the camera picture quality, Amazing face id unlocked in dark room, Strong battery with perfect screen size as you can carry easily in pocket. This is my third iPhone.\\n\\nI shifted from android Samsung Note series to iPhone because of the strong build quality and peace of mind for next 3-4 years.\\n\\nDon’t think to much just go for it and I suggest you to go for minimum 128gb variant or more 256gb.\\n\\nI’ve attached my puppy pics and no fi...\\nREAD MORE',\n",
       " 'So far it’s been an AMAZING experience coming back to iOS after nearly a decade but it’s not as versatile as android though phone is sturdy dropped it accidentally a couple of times and nothing happened fortunately camera is awesome',\n",
       " 'What a camera .....just awesome ..you can feel this iPhone just awesome . Good for gaming also ...try pubg in hd it’s just wow',\n",
       " 'i11 is worthy to buy, too much happy with the product. Thank u flipkart I received the item on time..loved it..',\n",
       " 'iphone 11 is a very good phone to buy only if you can compromise for the display. The display on this is device is pretty good but you can get other options with better displays in this price segment.\\nIf you can survive with an HD+ LCD panel with thicker bezels and a notch up top then this is a very good phone for you.\\nCameras are awesome, battery backup excellent, great performance and a decent premium look. Good job Apple !',\n",
       " 'It’s a must buy who is looking for an upgrade from previous generation of iPhones. If you are using XR then still you can hold on for sometime and upgrade to 2020 model else this phone is a must buy . Camera quality is amazing and wide angle is something to count upon. Performance wise it’s amazing and feels premium while holding in hand. So a big YES for this device. Go for 128 GB variant as the 4K videos will occupy lots of space and the storage can get over very quickly. Try to buy it with...\\nREAD MORE',\n",
       " 'Value for money❤️❤️\\nIts awesome mobile phone in the world ...\\nDisplay was very good and bright ..\\nTrust me freinds you r never regret after Buying..\\nJust go for it....\\nI love this phone and i switch to iphone x to 11',\n",
       " \"It's my first time to use iOS phone and I am loving my upgradation 😍😍 I love the color, I love the assebility of the phone....I need to learn more about its functionality, but as far as I have seen, it's quite easy and it has a lot of functions to work on, specially if you are a content writer or a blogger you get a lot of content creation platforms and they are really amazing.\\n\\nThis phone not only for good quality photography but a lot of other task too.😍💯\",\n",
       " 'Smooth like butter, camera like fantabulous, sound is crystal clear & its red color is damn attractive, i am just loving it. Must buy if you love photography.\\n\\nLucky to get it in sale, thank you Flipkart.',\n",
       " \"Iphone is just awesome.. battery backup is very very nice.. continuously for 10 hours we can use it.camera is just awesome.. display is just fab.i love it alot..i had to wait 15 days for it as i pre ordered it..overalll it's worth the price..these all images are clicked by my iPhone..and i love it.\",\n",
       " 'Best budget Iphone till date ❤️ go for it guys without second thought. Let me explain you guys about Camera, Display, battery, and performance.\\n\\nCamera: at this price range there is no comparison of camera, you’ll love the picture quality as well as video quality. I am a Vlogger I wanted an iPhone with 4k video by front camera and I got this phone and I am more than happy 😃\\n\\nBattery: I use this phone roughly as I am active social media person and I have a youtube channel. so the battery ba...\\nREAD MORE',\n",
       " 'Excellent camera, good performance, no lag. The lcd display is also good.. but difference come when we watch movie in prime and Netflix, the colours are not vibrant.. as we see in amoled display.. and the charger in box is of 5 watts.. takes more than 3 hours to charge from 0 to 100.. so guys be prepare to buy 18 watts charger . Finally I am an android user, it was my first Iapple phone, I promise u guys the iOS is so smooth.. overall the phone is damn good.... close eyes to buy it.. thanks t...\\nREAD MORE',\n",
       " 'Totally in love with this ❤ the camera quality is amazing just love it 😘😘😘 itsss dammnnnnnn amazing... Must buy iPhone 11 this is my best experience ever ☀👌👌🧡🧡🧡🧡🧡 thanku apple ❤',\n",
       " 'It’s been almost a month since I have been using this phone. I upgraded from an iPhone 8. The main issue with my 8 was battery and this phone is just awesome when it comes to battery. It lasts a day and a half for me with my regular use , internet connected always with 4g\\nCan’t move forward without saying this. Battery of this phone is a life saver when I am traveling or at work when I don’t get the option to charge\\nCamera is superb. Front cam selfies and back cam photos are just awesome.\\n...\\nREAD MORE',\n",
       " 'This is my first ever I phone. Before this I was using my google nexus 5. But moving from android to iOS is a great experience. It’s worth at this price. I will highly recommend it if you want to move to iOS. The best part of this phone is it’s camera and it’s battery life. This two things have won my heart. I loved it. Happy to have it in my hand. Still exploring its features. And can’t forget to mention Flipkart service. Very prompt service and fast delivery.',\n",
       " 'Really worth of money. i just love it. It is the best phone ever.',\n",
       " 'Awesome Phone. Slightly high price but worth. Better than iPhone XR.\\nCamera is superb and wide angle camera is very clear.\\n12MP selfie camera is also very good.\\nA13 Chip gives a very good and smooth performance.',\n",
       " 'It is just awesome mobile for this price from Apple,\\n\\nAfter 10 days review\\n\\nBattery enough for 1 day even 24*7 Internet will be on and mostly internet usage\\n\\nCamera is just awesome cool , android 64 MP is equal to this just 12 MP\\n\\nA13 Bionic chip will give more high performance without hanging\\n\\nAudio stereo speakers will give Dolby atoms sound with crystal clear\\n\\nVideo recording is like cinematic shots of every sec can be a 4K 60fps. Just awesome this phone\\niPhone 11 loved one',\n",
       " 'Battery backup is extraordinary, camera is decent & performance offered by A13 bionic is awsome. The display is good in practical usage like the visibility of display is very good in direct sun light compare to pro models. Iam extremely satisfied for the money I spent.',\n",
       " 'Superb Product !!!\\nA big and worthy upgrade from mi 3S to iphone 11 .\\nTotally loved it !',\n",
       " 'I have migrated from OP 7pro... and trust me, iPhone 11 is totally worth it.. following are the reasons:-\\n1)there is ABSOLUTELY NO ISSUE WITH THE DISPLAY... its crisp, sharp and I found it to be much much better than OP7 pro. Netflix, Prime video all run crisply... you won’t miss a thing. True Tone works flawlessly...the display brightness is perfect. OP have not calibrated their screens properly.\\n2) iPhone 11 series have really good cameras... others have spoken in depth about them.\\n3) bat...\\nREAD MORE',\n",
       " 'Looking so good 👍 😍 super 👌 stylish 😎 phone\\nClean box 📦 good 👍 delivery 👌 fast delivery\\nOriginal box Original iphone 📱 👌 😍😍😍',\n",
       " \"Again back to apple iphone after a gap of 2-3 years. It's pleasure to use iOS and the quality product by Apple. Iphone 11 still works like a beast in 2021 also. It really capable of doing day to day usage as well as hard core gaming. Battery is awesome. I'm really too much satisfied with it. Apart fto the very gorgious IPS LCD (AMOLED will be better) everything is mind boggling. Iphone💕.\",\n",
       " 'It’s an amazing product from apple and the camera is simply superb. Phone is faster.Night shot is simply superb and detailing and colour differentiation from camera is an added advantage\\n\\nThis review I have written from iPhone 11 only and I am glad to say outside.\\n\\nCons wise if we see HD+ display only, no battery percentage indicator as in older iPhone 8.\\nNo assistive touch control button in it\\nNo oleophobic coating on back panel glass and finger prints are visible but since I bought mint gr...\\nREAD MORE',\n",
       " 'After 1 month use I found camera quality best compared to my previous Samsung note 10+.Display not good as note 10 also charging too slow.Apple should add fast charger like 11 plus and pro.Best phone for daily use',\n",
       " \"It's very high performances devise i am like the service of flipkart delevary very fast and packing very nice perfect phone\",\n",
       " 'I just directly switch from iphone 6s to iphone 11 .The best premium smartphone I recommend to everyone. Excellent quality and colors the iphone have in 11 series.\\nCamera quality is just awesome and the major feel when we hold in our hands. The sound quality and volume is also higher then the previous models.\\nI will recommend to buy iphone 11 instead of pro models , there is nothing much difference as this model contains everything which fulfill our needs.\\n\\nOnly one thing that I dislike abo...\\nREAD MORE',\n",
       " 'Upgraded from iphone 6 to 11 best phone for iphone users battery is much better than other iphones camera is awesome love to use it.camera is so clear in night.',\n",
       " 'The built quality is not very premium.\\nThe battery back is great .\\nThe LCD panel is not so sharp but the brightness level is very High .\\nCamera is super duper awesome.\\nThe red colour which people think is bright is actually very soothing and excellent colour to choose from .\\nThe A13 Bionic chip is really a flagship processor and can beat any phone which even has 12 gb ram .\\nCamera module is very great and looks very stylish.',\n",
       " 'Well you all know the specifications . One of a kind. Best iPhone till date. Many enhancements to the camera app with many options. Love the glass body with matte finish in the lens area on the back. Lovely colours to choose from. Best battery in an iPhone till date, enough to last more than a day in normal usage. I tested my iPhone 11 battery and lasted for than 24 hours after full charge still with 30% battery charge left. Watched movies for some time. Normal usage on calls, browsing, musi...\\nREAD MORE',\n",
       " 'This will help you more. See if you are planning to buy iPhone 11. I will say. Yes. But there are some plans I just want to disclose before you buy. 1) If you are an existing iPhone X/XS/XS Max/ XR user, better you guys do not think it to buy. You guys have more or less better gadget. 2) If you are an android user and planning to buy premium phone. I will suggest them to please buy iPhone instead of buying an Android. I bet you will never go back to android after using IOS. Now I want to shar...\\nREAD MORE',\n",
       " 'Amazing camera and feel super machine I am not describe my feeling but this is amazing Phone I am so lucky I have this',\n",
       " 'Really good actually this is my first apple product am using its really awesome performance wise excellent. Am really happy with this iphone11',\n",
       " 'it is very good at performance. Camera is best like before and very smooth response even in water. Don’t buy 12 mini buy iPhone 11 , it is far better than 12 mini believe me ! Have a nice day \\uf8ff ☺️',\n",
       " 'Reviewing again after 5 months. At the beginning the battery and performance was good but it degraded soon. Also I was facing heating issues. The mobile will heat up like a stove sometimes. You cannot even play Pubg even in low settings properly, performance is not a problem but heating is. Also if you play that game for 10 mins the brightness will be automatically down due to over heating even when the auto brightness is set to off. This will not be solved even if u manually increase the bri...\\nREAD MORE',\n",
       " 'In love with this iphone great performance,camera ,battery everything. Go for it have a uncompareble battery backup, no doubts in iPhone camera here You can see the picture which is shot on my iPhone In love with this iphone great performance,camera ,battery everything. Go for it have a uncompareble battery backup, no doubts in iPhone camera here You can see the picture which is shot on my iPhone In love with this iphone great performance,camera ,battery everything. Go for it have a uncompare...\\nREAD MORE',\n",
       " 'We are on apple ecosystem for almost eight years now with couple of iPads and iPhones, including Xr.\\n\\nBought iPhone 11 as a gift to my daughter who loves it. We chose for a purple coloured one. Believe me it is gorgeous and towards the lighter shade. Dazzling and brilliant!\\n\\nThe phone is great and does excellent RAM management like any other Apple device.\\n\\nThe screen, though a LCD and lesser ppi as compared to other flagship phones of competitor brands, is a delight to watch with perfect re...\\nREAD MORE',\n",
       " 'Everything is perfect pictures come out so clearly and at first I wasn’t sure when I got it then when I started to use it and get the hang of it it was amazing!! I can’t wait to see what the next future phones will be like. The screen display on this bad boy are unbelievable they are so clear and never fail me. The performance is super cool there is a lot of cool features as well I like this phone because I feel that it is easy to use and one of my favorite things about this phone is the Face...\\nREAD MORE',\n",
       " 'Amazing camera quality as expected, battery also has very good performance. Display, body, and touch experience is the best I’ve ever had. Sound quality of speakers is more than sufficient. Apple is known for it’s customer friendly security services and I can see it how. The A13 processor is the best in its work. So I would definitely recommend it for everyone who are looking for it, just go for it without delay.\\n\\nThe most amazing thing it the delivery. Flipkart has delivered it in the span ...\\nREAD MORE',\n",
       " 'Best Apple iPhone that i have bought at a very reasonable price, camera quality is next level just awesome n of superior quality android phones not even close(RIP) to that and also battery is really good but packaging by Flipkart of iPhone was very poor of such a expensive product, firstly im bit worried about the quality of product if i purchased it through online how was the product but i think now this was mine best decision to bought it through Flipkart online because i got genuine Apple...\\nREAD MORE',\n",
       " \"I can say I'm damn impressed with iPhone 11. As they says iPhone 11 have the toughest glass ever in the smartphone which you'll find on the front and back and it's totally smooth. The fit and finish is full apple quality - there's no sense that any cheaping out has happened in the construction. Without saying it's camera features this review won't complete. The iPhone 11 has a dual camera system, consisting of a wide angle len's that's pretty much same as found on the iPhone XR last year, but...\\nREAD MORE\",\n",
       " 'Best Quality Product OF iPhone Series , Sound Quality & Camera quality is very awesome, Battery Life is very Sufficient for 24 hr Backup With Full Internet Access , I love this this Product too much , It is very fast & making me Very fast in all my daily Routine\\nHighlights;\\n1.Camera: 5 STAR\\n2.Video Recording: 5 star\\n3.Night mODE sHOOTING & Camera:4 star\\n4. Audio Quality: Awesome\\n5. Battery : 5 Star\\n6. Touch:5 Star\\n7. Processor: Very Fast\\nThe M...\\nREAD MORE',\n",
       " 'Superfast delivery by Flipkart. Thanks.\\n\\n1. iPhone 11 is a pretty solid phone for the money you are paying.\\n2. All the bad reviews about the display is confusing. It’s not that bad.\\n3. I switched from a Oneplus 7t. I have no complaints about the display quality of iPhone. Yes, it’s not OLED, so, we are missing on the deep blacks. But that’s it. It is a very colour accurate display. Gets adequately bright and I could not find any pixelation.\\n4. Performance is one of the best, if not best, in ...\\nREAD MORE',\n",
       " 'I rate this product 5* as it has got amazing user experience with the best performing A13 bionic processor. The screen responds and graphics rendering is top notch. With casual gaming and internet browsing, the battery lasts for approx. 1 day. Camera is very good. You will fall in love with the portrait mode. You can call me a loyal Apple customer or whatever but I won’t stop praising the products and overall experience. That user experience matters and is worth every penny you pay.\\n\\nBelow ar...\\nREAD MORE',\n",
       " 'impressive super phone and best in class camera ,sound and face unlock is super fast just see and phone is unlock and fast in daily apps use',\n",
       " 'Super and marvellous phone look very cute and nice sound. I love this phone i think white is good colur.Excellent camer 5*😍😘♥️♥️',\n",
       " 'Well while switching from android to iOS the first thing you need to be careful about is that you will loose all your whatsapp chat backups as both are different operating systems. Camera clarity is awesome and though being an lcd screen clarity and resolution is good. Battery backup is also good unlike previous gen iPhone. So far the experience is good will Padre after a few months of usage.\\n\\nP.S the black is more of a dark grey shade and not jet black',\n",
       " 'Best in class. Battery backup is good especially when you play games like Pubg COD. But it is sort of heavy when you hold in hands. Portrait mode is best to click pictures. Stage light effect is awesome. Try to click photos outside in nature because photos inside home or room will not give you the quality in any phone even in DSLR.',\n",
       " 'Very excited to have this phone. This phone has the real power unlike the android phones having SD 855 . The battery life is very good and the camera quality is excellent as comapred to redmi and other phones except google pixel. I M enjoying every single bit of it. Would recommed only if you have the budget.',\n",
       " 'I was using Iphone 6s and also Oneplus 6t. Both mobiles were perfectly alright in Photos, gaming, and smooth interface . My 6s mobile getting battery issue. thought upgrade to 11. Really like this mobile of its Internal storage (compare to 6s) , camera and its touch feeling. Its a worth buying mobile for me.',\n",
       " 'Its Very awesome product working and good camera quality and all about best product and also flipkart is very great deal and offer nice price',\n",
       " 'I am using this phone for 5 days and its one of the best camera out there ❤️ the screen is not oled and i am coming from iphone xs so its little bit not up to the mark i would say\\nBut overall value for money💕😍the battery back up is far better than my iphone xs and its worth in my apple ecosystem💫❤️if u are an apple User and have the eco system then go for it❤️though i will be getting the new iphone but its pretty good💫',\n",
       " 'Best and amazing product.....phone looks so premium.... battary is also good as expected .... Wide angle camera is so addictive ...if you are a IOS lover....then this phone will be the best choice for you all!!💯🔥',\n",
       " 'Excellent camera and display touching very nice and smooth very improvement against iPhone XR and new processor is very fast',\n",
       " \"I got this beast today. And I must say the picture quality of its camera is awesome. Both the cameras works fine.\\n\\nAs for as the processing is concerned, it runs without any lag. You can play and do whatever you want without a glitch.\\n\\nThe battery runs for a day with medium and high workload.\\n\\nThe display is good and the speakers are working fine.\\n\\nThe earphones doesn't have any base and you can use it for calling mostly.\\n\\nThe charging time is approximately for 90 minutes for full charging...\\nREAD MORE\",\n",
       " 'Awesome purchase. Amazing phone with good battery backup. It’s a top notch device. White colour looks amazing. Phone has a few extra feature than iPhone XR. Overall, this is value for money',\n",
       " 'Always love the apple products, upgraded from old iPhone 6S plus to this after having my first baby. I just love to click baby’s photos with it. Overall I just love this phone. Battery back up is okay, sound quality is good. Haven’t tested yet waterproof yet. Only one thing I hate is apple could have given charger & headphones in box.',\n",
       " \"phone is good but in display is 720p lcd in this price range we can get full hd OLED displays with higher refresh rate processor is very good camera is nice but looks kind of oldish in front of todays phone also there's no charging in box had to buy it seperately\",\n",
       " 'Value for money\\n5 star rating\\nExcellent camera\\nBattery backup full day in single charge.\\n\\nTougher and water resistant design, glossy back.\\nThe screen has excellent brightness and contrast.\\nApple A13 Bionic is the fastest smartphone chip on the planet.\\nExcellent battery life, fast charging support.\\nStereo speakers with great quality.',\n",
       " 'Thanks Flipkart For this amazing deal! I had a dream of owning a iphone since i had known about.\\nIm very happy with my purchase & it is totally worth it.\\nAmazing experience all over !!\\n\\nAnyone who’s thinking of buying it in 2021, i would simply say go for it without any second thoughts ❤️',\n",
       " 'Please DONT buy from here,\\n\\nI purchased Apple iPhone 11. with an exchange of IPhone 7, the exchange did not go well, iPhone 7 had a small scratch out side screen which i could never identify till date, but the FLIPKART person could, so he reduced 50% from exchange rate. I decided not to trade in, but paid money.\\n\\niPhone 11 Detail Below\\n---------------------------------------------\\nIt came with no charging, then i have put for charging, it took lot of time for charging, the phone also showe...\\nREAD MORE',\n",
       " 'awesome phone to have. it has got many smart features apart from mind blowing looks, camera, display, battery and sound. have fallen in love with this phone. must buy phone if you have got enough money. thanks to flipkart and apple of course..',\n",
       " 'Its a fabulous mobile look awesome performance unbeaten camera like dslr battery good i think this is a beast of mobile',\n",
       " 'Dear friends... I want to share my experience with you about this amazing I phone 11....this is my first iPhone and special things about this mobile is it has great camera, battery backup and awesome display.... I mean everything is perfect.loved it 👍👍👍']"
      ]
     },
     "execution_count": 1472,
     "metadata": {},
     "output_type": "execute_result"
    }
   ],
   "source": [
    "#we will get the full review text using for loop\n",
    "\n",
    "for i in review_tag:\n",
    "    review=i.text\n",
    "    full_review_list.append(review)\n",
    "full_review_list\n"
   ]
  },
  {
   "cell_type": "code",
   "execution_count": 1473,
   "id": "d5d23b70",
   "metadata": {},
   "outputs": [],
   "source": [
    "#, go to the all review Button at the bottom ofthe page , then click on it.\n",
    "next_button=driver.find_element_by_xpath(\"/html/body/div[1]/div/div[3]/div/div/div[2]/div[13]/div/div/nav/a[12]\")\n",
    "next_button.click()"
   ]
  },
  {
   "cell_type": "code",
   "execution_count": 1474,
   "id": "4173b71a",
   "metadata": {},
   "outputs": [
    {
     "data": {
      "text/plain": [
       "[<selenium.webdriver.remote.webelement.WebElement (session=\"21adad40789ed2d83ae180cc85aa07d7\", element=\"d53ab51f-4550-41e1-bcff-a43ad3cef3ce\")>,\n",
       " <selenium.webdriver.remote.webelement.WebElement (session=\"21adad40789ed2d83ae180cc85aa07d7\", element=\"0de3bf0d-c2e1-4a7a-a800-6d4a865888cd\")>,\n",
       " <selenium.webdriver.remote.webelement.WebElement (session=\"21adad40789ed2d83ae180cc85aa07d7\", element=\"8f07ade7-837d-43dc-9643-07bab81012c3\")>,\n",
       " <selenium.webdriver.remote.webelement.WebElement (session=\"21adad40789ed2d83ae180cc85aa07d7\", element=\"9bea6e45-804a-465b-b9d1-204927b6ccff\")>,\n",
       " <selenium.webdriver.remote.webelement.WebElement (session=\"21adad40789ed2d83ae180cc85aa07d7\", element=\"a65edc83-bfd0-48bc-8bc7-67c4df8a7ba7\")>,\n",
       " <selenium.webdriver.remote.webelement.WebElement (session=\"21adad40789ed2d83ae180cc85aa07d7\", element=\"42741744-da4d-4f83-bd0d-abc7ab3cceb2\")>,\n",
       " <selenium.webdriver.remote.webelement.WebElement (session=\"21adad40789ed2d83ae180cc85aa07d7\", element=\"1fb55fb9-0d17-4553-b4c2-c7fcfeddd388\")>,\n",
       " <selenium.webdriver.remote.webelement.WebElement (session=\"21adad40789ed2d83ae180cc85aa07d7\", element=\"ba1bcfd2-7e21-4ba1-84ba-9805991a227c\")>,\n",
       " <selenium.webdriver.remote.webelement.WebElement (session=\"21adad40789ed2d83ae180cc85aa07d7\", element=\"20247788-d541-4730-ae4c-dfb9a3cd258e\")>,\n",
       " <selenium.webdriver.remote.webelement.WebElement (session=\"21adad40789ed2d83ae180cc85aa07d7\", element=\"95d10317-72ff-4799-8890-3d3e0abfa069\")>]"
      ]
     },
     "execution_count": 1474,
     "metadata": {},
     "output_type": "execute_result"
    }
   ],
   "source": [
    "\n",
    "#extract ratings\n",
    "rating_tag=driver.find_elements_by_xpath(\"//div[@class='_3LWZlK _1BLPMq'or @class='_3LWZlK _1rdVr6 _1BLPMq']\")\n",
    "rating_tag"
   ]
  },
  {
   "cell_type": "code",
   "execution_count": 1475,
   "id": "be0daba9",
   "metadata": {},
   "outputs": [
    {
     "data": {
      "text/plain": [
       "['5',\n",
       " '5',\n",
       " '5',\n",
       " '5',\n",
       " '5',\n",
       " '5',\n",
       " '5',\n",
       " '4',\n",
       " '5',\n",
       " '5',\n",
       " '5',\n",
       " '5',\n",
       " '5',\n",
       " '5',\n",
       " '5',\n",
       " '5',\n",
       " '5',\n",
       " '5',\n",
       " '5',\n",
       " '5',\n",
       " '5',\n",
       " '5',\n",
       " '4',\n",
       " '5',\n",
       " '5',\n",
       " '5',\n",
       " '5',\n",
       " '4',\n",
       " '5',\n",
       " '5',\n",
       " '5',\n",
       " '5',\n",
       " '5',\n",
       " '5',\n",
       " '5',\n",
       " '5',\n",
       " '5',\n",
       " '5',\n",
       " '5',\n",
       " '4',\n",
       " '1',\n",
       " '5',\n",
       " '5',\n",
       " '5',\n",
       " '5',\n",
       " '5',\n",
       " '5',\n",
       " '5',\n",
       " '5',\n",
       " '5',\n",
       " '4',\n",
       " '5',\n",
       " '5',\n",
       " '5',\n",
       " '5',\n",
       " '4',\n",
       " '5',\n",
       " '5',\n",
       " '5',\n",
       " '5',\n",
       " '5',\n",
       " '5',\n",
       " '5',\n",
       " '3',\n",
       " '5',\n",
       " '5',\n",
       " '1',\n",
       " '5',\n",
       " '5',\n",
       " '5',\n",
       " '4',\n",
       " '5',\n",
       " '5',\n",
       " '5',\n",
       " '4',\n",
       " '5',\n",
       " '5',\n",
       " '5',\n",
       " '5',\n",
       " '4']"
      ]
     },
     "execution_count": 1475,
     "metadata": {},
     "output_type": "execute_result"
    }
   ],
   "source": [
    "#we will get the rating text using for loop\n",
    "\n",
    "for i in rating_tag:\n",
    "    rating=i.text\n",
    "    rating_list.append(rating)\n",
    "rating_list"
   ]
  },
  {
   "cell_type": "code",
   "execution_count": 1476,
   "id": "468f5978",
   "metadata": {},
   "outputs": [
    {
     "data": {
      "text/plain": [
       "[<selenium.webdriver.remote.webelement.WebElement (session=\"21adad40789ed2d83ae180cc85aa07d7\", element=\"13b5bf33-c19d-4f08-868a-b54e041830b3\")>,\n",
       " <selenium.webdriver.remote.webelement.WebElement (session=\"21adad40789ed2d83ae180cc85aa07d7\", element=\"23adf8a1-dcfa-4cff-b6a9-1d20eeef4283\")>,\n",
       " <selenium.webdriver.remote.webelement.WebElement (session=\"21adad40789ed2d83ae180cc85aa07d7\", element=\"a03883f2-546f-4936-bf54-b5c3bcb888b3\")>,\n",
       " <selenium.webdriver.remote.webelement.WebElement (session=\"21adad40789ed2d83ae180cc85aa07d7\", element=\"b66b901a-2111-4aa7-89d1-11031f19641e\")>,\n",
       " <selenium.webdriver.remote.webelement.WebElement (session=\"21adad40789ed2d83ae180cc85aa07d7\", element=\"664ebdbc-f42a-4d7c-9b16-2c6c1555752f\")>,\n",
       " <selenium.webdriver.remote.webelement.WebElement (session=\"21adad40789ed2d83ae180cc85aa07d7\", element=\"80178d92-e05c-4ead-8a2c-7089096bfd85\")>,\n",
       " <selenium.webdriver.remote.webelement.WebElement (session=\"21adad40789ed2d83ae180cc85aa07d7\", element=\"310fd504-ec9a-466d-82e8-859779492cfb\")>,\n",
       " <selenium.webdriver.remote.webelement.WebElement (session=\"21adad40789ed2d83ae180cc85aa07d7\", element=\"67213eac-0b2a-4d8f-b1c3-4cea34ba673f\")>,\n",
       " <selenium.webdriver.remote.webelement.WebElement (session=\"21adad40789ed2d83ae180cc85aa07d7\", element=\"d151e200-d043-4c37-b107-bb281c4eacf1\")>,\n",
       " <selenium.webdriver.remote.webelement.WebElement (session=\"21adad40789ed2d83ae180cc85aa07d7\", element=\"bdf9490e-600e-4ef4-afba-a86df2a0a4a6\")>]"
      ]
     },
     "execution_count": 1476,
     "metadata": {},
     "output_type": "execute_result"
    }
   ],
   "source": [
    "#extract review summary\n",
    "review_summary_tag=driver.find_elements_by_xpath(\"//p[@class='_2-N8zT']\")\n",
    "review_summary_tag"
   ]
  },
  {
   "cell_type": "code",
   "execution_count": 1477,
   "id": "95e3a189",
   "metadata": {},
   "outputs": [
    {
     "data": {
      "text/plain": [
       "['Brilliant',\n",
       " 'Simply awesome',\n",
       " 'Best in the market!',\n",
       " 'Perfect product!',\n",
       " 'Fabulous!',\n",
       " 'Worth every penny',\n",
       " 'Great product',\n",
       " 'Good choice',\n",
       " 'Highly recommended',\n",
       " 'Worth every penny',\n",
       " 'Highly recommended',\n",
       " 'Perfect product!',\n",
       " 'Perfect product!',\n",
       " 'Highly recommended',\n",
       " 'Worth every penny',\n",
       " 'Perfect product!',\n",
       " 'Worth every penny',\n",
       " 'Simply awesome',\n",
       " 'Classy product',\n",
       " 'Worth every penny',\n",
       " 'Wonderful',\n",
       " 'Terrific',\n",
       " 'Nice product',\n",
       " 'Perfect product!',\n",
       " 'Perfect product!',\n",
       " 'Classy product',\n",
       " 'Brilliant',\n",
       " 'Good choice',\n",
       " 'Great product',\n",
       " 'Must buy!',\n",
       " 'Perfect product!',\n",
       " 'Simply awesome',\n",
       " 'Wonderful',\n",
       " 'Terrific purchase',\n",
       " 'Terrific purchase',\n",
       " 'Great product',\n",
       " 'Mind-blowing purchase',\n",
       " 'Excellent',\n",
       " 'Simply awesome',\n",
       " 'Good quality product',\n",
       " 'Very poor',\n",
       " 'Perfect product!',\n",
       " 'Classy product',\n",
       " 'Fabulous!',\n",
       " 'Highly recommended',\n",
       " 'Must buy!',\n",
       " 'Fabulous!',\n",
       " 'Mind-blowing purchase',\n",
       " 'Wonderful',\n",
       " 'Must buy!',\n",
       " 'Very Good',\n",
       " 'Wonderful',\n",
       " 'Classy product',\n",
       " 'Just wow!',\n",
       " 'Awesome',\n",
       " 'Pretty good',\n",
       " 'Terrific purchase',\n",
       " 'Awesome',\n",
       " 'Classy product',\n",
       " 'Brilliant',\n",
       " 'Terrific',\n",
       " 'Perfect product!',\n",
       " 'Awesome',\n",
       " 'Does the job',\n",
       " 'Perfect product!',\n",
       " 'Highly recommended',\n",
       " 'Very poor',\n",
       " 'Fabulous!',\n",
       " 'Excellent',\n",
       " 'Must buy!',\n",
       " 'Value-for-money',\n",
       " 'Best in the market!',\n",
       " 'Brilliant',\n",
       " 'Terrific purchase',\n",
       " 'Good quality product',\n",
       " 'Terrific',\n",
       " 'Best in the market!',\n",
       " 'Perfect product!',\n",
       " 'Awesome',\n",
       " 'Value-for-money']"
      ]
     },
     "execution_count": 1477,
     "metadata": {},
     "output_type": "execute_result"
    }
   ],
   "source": [
    "#we will get the review summary text using for loop\n",
    "\n",
    "for i in review_summary_tag:\n",
    "    summary=i.text\n",
    "    review_summary_list.append(summary)\n",
    "review_summary_list"
   ]
  },
  {
   "cell_type": "code",
   "execution_count": 1478,
   "id": "b2110f30",
   "metadata": {},
   "outputs": [
    {
     "data": {
      "text/plain": [
       "[<selenium.webdriver.remote.webelement.WebElement (session=\"21adad40789ed2d83ae180cc85aa07d7\", element=\"5a806c6a-cf3c-416c-bf0d-02fb0cb5c51c\")>,\n",
       " <selenium.webdriver.remote.webelement.WebElement (session=\"21adad40789ed2d83ae180cc85aa07d7\", element=\"2a0db295-2968-4b78-8bcf-bd6fb4a2fcee\")>,\n",
       " <selenium.webdriver.remote.webelement.WebElement (session=\"21adad40789ed2d83ae180cc85aa07d7\", element=\"e608e58f-73d5-433e-82a1-c61fcba542d5\")>,\n",
       " <selenium.webdriver.remote.webelement.WebElement (session=\"21adad40789ed2d83ae180cc85aa07d7\", element=\"4f5b565a-fe1d-4edc-b057-9474e1714840\")>,\n",
       " <selenium.webdriver.remote.webelement.WebElement (session=\"21adad40789ed2d83ae180cc85aa07d7\", element=\"6d7dafc4-d2a0-4fec-a888-087241a836ff\")>,\n",
       " <selenium.webdriver.remote.webelement.WebElement (session=\"21adad40789ed2d83ae180cc85aa07d7\", element=\"53ad52d8-6cf7-4360-aacc-0bf04d04fe58\")>,\n",
       " <selenium.webdriver.remote.webelement.WebElement (session=\"21adad40789ed2d83ae180cc85aa07d7\", element=\"6e9ca3b1-b652-4edf-81d6-87e4b106e5af\")>,\n",
       " <selenium.webdriver.remote.webelement.WebElement (session=\"21adad40789ed2d83ae180cc85aa07d7\", element=\"970c5ab5-4551-4725-a8dc-298cb9c383c4\")>,\n",
       " <selenium.webdriver.remote.webelement.WebElement (session=\"21adad40789ed2d83ae180cc85aa07d7\", element=\"5e4b131d-aa00-4c12-8c68-67791647b346\")>,\n",
       " <selenium.webdriver.remote.webelement.WebElement (session=\"21adad40789ed2d83ae180cc85aa07d7\", element=\"283a964a-d165-4f9d-92aa-3b95e7c35629\")>]"
      ]
     },
     "execution_count": 1478,
     "metadata": {},
     "output_type": "execute_result"
    }
   ],
   "source": [
    "#extract  full review \n",
    "review_tag=driver.find_elements_by_xpath(\"//div[@class='t-ZTKy']\")\n",
    "review_tag\n"
   ]
  },
  {
   "cell_type": "code",
   "execution_count": 1479,
   "id": "a02f612e",
   "metadata": {},
   "outputs": [
    {
     "data": {
      "text/plain": [
       "['The Best Phone for the Money\\n\\nThe iPhone 11 offers superb cameras, a more durable design and excellent battery life for an affordable price.\\n\\nCompelling ultra-wide camera\\nNew Night mode is excellent\\nLong battery life',\n",
       " 'Really satisfied with the Product I received... It’s totally genuine and the packaging was also really good so if ur planning to buy just go for it.',\n",
       " 'Great iPhone very snappy experience as apple kind. Upgraded from iPhone 7.\\nPros\\n-Camera top class\\n- Battery top performed\\n-Chipset no need to say as apple kind\\n-Security as you expect from apple\\n- Display super bright industry leading colour\\naccuracy and super responsive\\n-Build quality as expect from apple sturdy\\npremium durable beautiful stylish.\\n-Os most stable os in smartphone industry\\n\\nCons\\n-No 5G\\n-Display is not based on OLED technology\\n-Charger headphones and 1 apple stic...\\nREAD MORE',\n",
       " 'Amazing phone with great cameras and better battery which gives you the best performance. I just love the camera .',\n",
       " 'This is my first iOS phone. I am very happy with this product. Very much satisfied with this. I love this phone.',\n",
       " 'Previously I was using one plus 3t it was a great phone\\nAnd then I decided to upgrade I am stuck between Samsung s10 plus or iPhone 11\\nI have seen the specs and everything were good except the display it’s somewhere between 720-1080 and it’s not even an amoled it’s an LCD display\\nBut I decided to go with iPhone because I have never used an IOS device I have Been an android user from the past 9 years I ordered IPhone 11 (128gb) product red\\nMy experience after using 3 weeks\\n1. The delivery ...\\nREAD MORE',\n",
       " 'Amazing Powerful and Durable Gadget.\\n\\nI’m am very happy with the camera picture quality, Amazing face id unlocked in dark room, Strong battery with perfect screen size as you can carry easily in pocket. This is my third iPhone.\\n\\nI shifted from android Samsung Note series to iPhone because of the strong build quality and peace of mind for next 3-4 years.\\n\\nDon’t think to much just go for it and I suggest you to go for minimum 128gb variant or more 256gb.\\n\\nI’ve attached my puppy pics and no fi...\\nREAD MORE',\n",
       " 'So far it’s been an AMAZING experience coming back to iOS after nearly a decade but it’s not as versatile as android though phone is sturdy dropped it accidentally a couple of times and nothing happened fortunately camera is awesome',\n",
       " 'What a camera .....just awesome ..you can feel this iPhone just awesome . Good for gaming also ...try pubg in hd it’s just wow',\n",
       " 'i11 is worthy to buy, too much happy with the product. Thank u flipkart I received the item on time..loved it..',\n",
       " 'iphone 11 is a very good phone to buy only if you can compromise for the display. The display on this is device is pretty good but you can get other options with better displays in this price segment.\\nIf you can survive with an HD+ LCD panel with thicker bezels and a notch up top then this is a very good phone for you.\\nCameras are awesome, battery backup excellent, great performance and a decent premium look. Good job Apple !',\n",
       " 'It’s a must buy who is looking for an upgrade from previous generation of iPhones. If you are using XR then still you can hold on for sometime and upgrade to 2020 model else this phone is a must buy . Camera quality is amazing and wide angle is something to count upon. Performance wise it’s amazing and feels premium while holding in hand. So a big YES for this device. Go for 128 GB variant as the 4K videos will occupy lots of space and the storage can get over very quickly. Try to buy it with...\\nREAD MORE',\n",
       " 'Value for money❤️❤️\\nIts awesome mobile phone in the world ...\\nDisplay was very good and bright ..\\nTrust me freinds you r never regret after Buying..\\nJust go for it....\\nI love this phone and i switch to iphone x to 11',\n",
       " \"It's my first time to use iOS phone and I am loving my upgradation 😍😍 I love the color, I love the assebility of the phone....I need to learn more about its functionality, but as far as I have seen, it's quite easy and it has a lot of functions to work on, specially if you are a content writer or a blogger you get a lot of content creation platforms and they are really amazing.\\n\\nThis phone not only for good quality photography but a lot of other task too.😍💯\",\n",
       " 'Smooth like butter, camera like fantabulous, sound is crystal clear & its red color is damn attractive, i am just loving it. Must buy if you love photography.\\n\\nLucky to get it in sale, thank you Flipkart.',\n",
       " \"Iphone is just awesome.. battery backup is very very nice.. continuously for 10 hours we can use it.camera is just awesome.. display is just fab.i love it alot..i had to wait 15 days for it as i pre ordered it..overalll it's worth the price..these all images are clicked by my iPhone..and i love it.\",\n",
       " 'Best budget Iphone till date ❤️ go for it guys without second thought. Let me explain you guys about Camera, Display, battery, and performance.\\n\\nCamera: at this price range there is no comparison of camera, you’ll love the picture quality as well as video quality. I am a Vlogger I wanted an iPhone with 4k video by front camera and I got this phone and I am more than happy 😃\\n\\nBattery: I use this phone roughly as I am active social media person and I have a youtube channel. so the battery ba...\\nREAD MORE',\n",
       " 'Excellent camera, good performance, no lag. The lcd display is also good.. but difference come when we watch movie in prime and Netflix, the colours are not vibrant.. as we see in amoled display.. and the charger in box is of 5 watts.. takes more than 3 hours to charge from 0 to 100.. so guys be prepare to buy 18 watts charger . Finally I am an android user, it was my first Iapple phone, I promise u guys the iOS is so smooth.. overall the phone is damn good.... close eyes to buy it.. thanks t...\\nREAD MORE',\n",
       " 'Totally in love with this ❤ the camera quality is amazing just love it 😘😘😘 itsss dammnnnnnn amazing... Must buy iPhone 11 this is my best experience ever ☀👌👌🧡🧡🧡🧡🧡 thanku apple ❤',\n",
       " 'It’s been almost a month since I have been using this phone. I upgraded from an iPhone 8. The main issue with my 8 was battery and this phone is just awesome when it comes to battery. It lasts a day and a half for me with my regular use , internet connected always with 4g\\nCan’t move forward without saying this. Battery of this phone is a life saver when I am traveling or at work when I don’t get the option to charge\\nCamera is superb. Front cam selfies and back cam photos are just awesome.\\n...\\nREAD MORE',\n",
       " 'This is my first ever I phone. Before this I was using my google nexus 5. But moving from android to iOS is a great experience. It’s worth at this price. I will highly recommend it if you want to move to iOS. The best part of this phone is it’s camera and it’s battery life. This two things have won my heart. I loved it. Happy to have it in my hand. Still exploring its features. And can’t forget to mention Flipkart service. Very prompt service and fast delivery.',\n",
       " 'Really worth of money. i just love it. It is the best phone ever.',\n",
       " 'Awesome Phone. Slightly high price but worth. Better than iPhone XR.\\nCamera is superb and wide angle camera is very clear.\\n12MP selfie camera is also very good.\\nA13 Chip gives a very good and smooth performance.',\n",
       " 'It is just awesome mobile for this price from Apple,\\n\\nAfter 10 days review\\n\\nBattery enough for 1 day even 24*7 Internet will be on and mostly internet usage\\n\\nCamera is just awesome cool , android 64 MP is equal to this just 12 MP\\n\\nA13 Bionic chip will give more high performance without hanging\\n\\nAudio stereo speakers will give Dolby atoms sound with crystal clear\\n\\nVideo recording is like cinematic shots of every sec can be a 4K 60fps. Just awesome this phone\\niPhone 11 loved one',\n",
       " 'Battery backup is extraordinary, camera is decent & performance offered by A13 bionic is awsome. The display is good in practical usage like the visibility of display is very good in direct sun light compare to pro models. Iam extremely satisfied for the money I spent.',\n",
       " 'Superb Product !!!\\nA big and worthy upgrade from mi 3S to iphone 11 .\\nTotally loved it !',\n",
       " 'I have migrated from OP 7pro... and trust me, iPhone 11 is totally worth it.. following are the reasons:-\\n1)there is ABSOLUTELY NO ISSUE WITH THE DISPLAY... its crisp, sharp and I found it to be much much better than OP7 pro. Netflix, Prime video all run crisply... you won’t miss a thing. True Tone works flawlessly...the display brightness is perfect. OP have not calibrated their screens properly.\\n2) iPhone 11 series have really good cameras... others have spoken in depth about them.\\n3) bat...\\nREAD MORE',\n",
       " 'Looking so good 👍 😍 super 👌 stylish 😎 phone\\nClean box 📦 good 👍 delivery 👌 fast delivery\\nOriginal box Original iphone 📱 👌 😍😍😍',\n",
       " \"Again back to apple iphone after a gap of 2-3 years. It's pleasure to use iOS and the quality product by Apple. Iphone 11 still works like a beast in 2021 also. It really capable of doing day to day usage as well as hard core gaming. Battery is awesome. I'm really too much satisfied with it. Apart fto the very gorgious IPS LCD (AMOLED will be better) everything is mind boggling. Iphone💕.\",\n",
       " 'It’s an amazing product from apple and the camera is simply superb. Phone is faster.Night shot is simply superb and detailing and colour differentiation from camera is an added advantage\\n\\nThis review I have written from iPhone 11 only and I am glad to say outside.\\n\\nCons wise if we see HD+ display only, no battery percentage indicator as in older iPhone 8.\\nNo assistive touch control button in it\\nNo oleophobic coating on back panel glass and finger prints are visible but since I bought mint gr...\\nREAD MORE',\n",
       " 'After 1 month use I found camera quality best compared to my previous Samsung note 10+.Display not good as note 10 also charging too slow.Apple should add fast charger like 11 plus and pro.Best phone for daily use',\n",
       " \"It's very high performances devise i am like the service of flipkart delevary very fast and packing very nice perfect phone\",\n",
       " 'I just directly switch from iphone 6s to iphone 11 .The best premium smartphone I recommend to everyone. Excellent quality and colors the iphone have in 11 series.\\nCamera quality is just awesome and the major feel when we hold in our hands. The sound quality and volume is also higher then the previous models.\\nI will recommend to buy iphone 11 instead of pro models , there is nothing much difference as this model contains everything which fulfill our needs.\\n\\nOnly one thing that I dislike abo...\\nREAD MORE',\n",
       " 'Upgraded from iphone 6 to 11 best phone for iphone users battery is much better than other iphones camera is awesome love to use it.camera is so clear in night.',\n",
       " 'The built quality is not very premium.\\nThe battery back is great .\\nThe LCD panel is not so sharp but the brightness level is very High .\\nCamera is super duper awesome.\\nThe red colour which people think is bright is actually very soothing and excellent colour to choose from .\\nThe A13 Bionic chip is really a flagship processor and can beat any phone which even has 12 gb ram .\\nCamera module is very great and looks very stylish.',\n",
       " 'Well you all know the specifications . One of a kind. Best iPhone till date. Many enhancements to the camera app with many options. Love the glass body with matte finish in the lens area on the back. Lovely colours to choose from. Best battery in an iPhone till date, enough to last more than a day in normal usage. I tested my iPhone 11 battery and lasted for than 24 hours after full charge still with 30% battery charge left. Watched movies for some time. Normal usage on calls, browsing, musi...\\nREAD MORE',\n",
       " 'This will help you more. See if you are planning to buy iPhone 11. I will say. Yes. But there are some plans I just want to disclose before you buy. 1) If you are an existing iPhone X/XS/XS Max/ XR user, better you guys do not think it to buy. You guys have more or less better gadget. 2) If you are an android user and planning to buy premium phone. I will suggest them to please buy iPhone instead of buying an Android. I bet you will never go back to android after using IOS. Now I want to shar...\\nREAD MORE',\n",
       " 'Amazing camera and feel super machine I am not describe my feeling but this is amazing Phone I am so lucky I have this',\n",
       " 'Really good actually this is my first apple product am using its really awesome performance wise excellent. Am really happy with this iphone11',\n",
       " 'it is very good at performance. Camera is best like before and very smooth response even in water. Don’t buy 12 mini buy iPhone 11 , it is far better than 12 mini believe me ! Have a nice day \\uf8ff ☺️',\n",
       " 'Reviewing again after 5 months. At the beginning the battery and performance was good but it degraded soon. Also I was facing heating issues. The mobile will heat up like a stove sometimes. You cannot even play Pubg even in low settings properly, performance is not a problem but heating is. Also if you play that game for 10 mins the brightness will be automatically down due to over heating even when the auto brightness is set to off. This will not be solved even if u manually increase the bri...\\nREAD MORE',\n",
       " 'In love with this iphone great performance,camera ,battery everything. Go for it have a uncompareble battery backup, no doubts in iPhone camera here You can see the picture which is shot on my iPhone In love with this iphone great performance,camera ,battery everything. Go for it have a uncompareble battery backup, no doubts in iPhone camera here You can see the picture which is shot on my iPhone In love with this iphone great performance,camera ,battery everything. Go for it have a uncompare...\\nREAD MORE',\n",
       " 'We are on apple ecosystem for almost eight years now with couple of iPads and iPhones, including Xr.\\n\\nBought iPhone 11 as a gift to my daughter who loves it. We chose for a purple coloured one. Believe me it is gorgeous and towards the lighter shade. Dazzling and brilliant!\\n\\nThe phone is great and does excellent RAM management like any other Apple device.\\n\\nThe screen, though a LCD and lesser ppi as compared to other flagship phones of competitor brands, is a delight to watch with perfect re...\\nREAD MORE',\n",
       " 'Everything is perfect pictures come out so clearly and at first I wasn’t sure when I got it then when I started to use it and get the hang of it it was amazing!! I can’t wait to see what the next future phones will be like. The screen display on this bad boy are unbelievable they are so clear and never fail me. The performance is super cool there is a lot of cool features as well I like this phone because I feel that it is easy to use and one of my favorite things about this phone is the Face...\\nREAD MORE',\n",
       " 'Amazing camera quality as expected, battery also has very good performance. Display, body, and touch experience is the best I’ve ever had. Sound quality of speakers is more than sufficient. Apple is known for it’s customer friendly security services and I can see it how. The A13 processor is the best in its work. So I would definitely recommend it for everyone who are looking for it, just go for it without delay.\\n\\nThe most amazing thing it the delivery. Flipkart has delivered it in the span ...\\nREAD MORE',\n",
       " 'Best Apple iPhone that i have bought at a very reasonable price, camera quality is next level just awesome n of superior quality android phones not even close(RIP) to that and also battery is really good but packaging by Flipkart of iPhone was very poor of such a expensive product, firstly im bit worried about the quality of product if i purchased it through online how was the product but i think now this was mine best decision to bought it through Flipkart online because i got genuine Apple...\\nREAD MORE',\n",
       " \"I can say I'm damn impressed with iPhone 11. As they says iPhone 11 have the toughest glass ever in the smartphone which you'll find on the front and back and it's totally smooth. The fit and finish is full apple quality - there's no sense that any cheaping out has happened in the construction. Without saying it's camera features this review won't complete. The iPhone 11 has a dual camera system, consisting of a wide angle len's that's pretty much same as found on the iPhone XR last year, but...\\nREAD MORE\",\n",
       " 'Best Quality Product OF iPhone Series , Sound Quality & Camera quality is very awesome, Battery Life is very Sufficient for 24 hr Backup With Full Internet Access , I love this this Product too much , It is very fast & making me Very fast in all my daily Routine\\nHighlights;\\n1.Camera: 5 STAR\\n2.Video Recording: 5 star\\n3.Night mODE sHOOTING & Camera:4 star\\n4. Audio Quality: Awesome\\n5. Battery : 5 Star\\n6. Touch:5 Star\\n7. Processor: Very Fast\\nThe M...\\nREAD MORE',\n",
       " 'Superfast delivery by Flipkart. Thanks.\\n\\n1. iPhone 11 is a pretty solid phone for the money you are paying.\\n2. All the bad reviews about the display is confusing. It’s not that bad.\\n3. I switched from a Oneplus 7t. I have no complaints about the display quality of iPhone. Yes, it’s not OLED, so, we are missing on the deep blacks. But that’s it. It is a very colour accurate display. Gets adequately bright and I could not find any pixelation.\\n4. Performance is one of the best, if not best, in ...\\nREAD MORE',\n",
       " 'I rate this product 5* as it has got amazing user experience with the best performing A13 bionic processor. The screen responds and graphics rendering is top notch. With casual gaming and internet browsing, the battery lasts for approx. 1 day. Camera is very good. You will fall in love with the portrait mode. You can call me a loyal Apple customer or whatever but I won’t stop praising the products and overall experience. That user experience matters and is worth every penny you pay.\\n\\nBelow ar...\\nREAD MORE',\n",
       " 'impressive super phone and best in class camera ,sound and face unlock is super fast just see and phone is unlock and fast in daily apps use',\n",
       " 'Super and marvellous phone look very cute and nice sound. I love this phone i think white is good colur.Excellent camer 5*😍😘♥️♥️',\n",
       " 'Well while switching from android to iOS the first thing you need to be careful about is that you will loose all your whatsapp chat backups as both are different operating systems. Camera clarity is awesome and though being an lcd screen clarity and resolution is good. Battery backup is also good unlike previous gen iPhone. So far the experience is good will Padre after a few months of usage.\\n\\nP.S the black is more of a dark grey shade and not jet black',\n",
       " 'Best in class. Battery backup is good especially when you play games like Pubg COD. But it is sort of heavy when you hold in hands. Portrait mode is best to click pictures. Stage light effect is awesome. Try to click photos outside in nature because photos inside home or room will not give you the quality in any phone even in DSLR.',\n",
       " 'Very excited to have this phone. This phone has the real power unlike the android phones having SD 855 . The battery life is very good and the camera quality is excellent as comapred to redmi and other phones except google pixel. I M enjoying every single bit of it. Would recommed only if you have the budget.',\n",
       " 'I was using Iphone 6s and also Oneplus 6t. Both mobiles were perfectly alright in Photos, gaming, and smooth interface . My 6s mobile getting battery issue. thought upgrade to 11. Really like this mobile of its Internal storage (compare to 6s) , camera and its touch feeling. Its a worth buying mobile for me.',\n",
       " 'Its Very awesome product working and good camera quality and all about best product and also flipkart is very great deal and offer nice price',\n",
       " 'I am using this phone for 5 days and its one of the best camera out there ❤️ the screen is not oled and i am coming from iphone xs so its little bit not up to the mark i would say\\nBut overall value for money💕😍the battery back up is far better than my iphone xs and its worth in my apple ecosystem💫❤️if u are an apple User and have the eco system then go for it❤️though i will be getting the new iphone but its pretty good💫',\n",
       " 'Best and amazing product.....phone looks so premium.... battary is also good as expected .... Wide angle camera is so addictive ...if you are a IOS lover....then this phone will be the best choice for you all!!💯🔥',\n",
       " 'Excellent camera and display touching very nice and smooth very improvement against iPhone XR and new processor is very fast',\n",
       " \"I got this beast today. And I must say the picture quality of its camera is awesome. Both the cameras works fine.\\n\\nAs for as the processing is concerned, it runs without any lag. You can play and do whatever you want without a glitch.\\n\\nThe battery runs for a day with medium and high workload.\\n\\nThe display is good and the speakers are working fine.\\n\\nThe earphones doesn't have any base and you can use it for calling mostly.\\n\\nThe charging time is approximately for 90 minutes for full charging...\\nREAD MORE\",\n",
       " 'Awesome purchase. Amazing phone with good battery backup. It’s a top notch device. White colour looks amazing. Phone has a few extra feature than iPhone XR. Overall, this is value for money',\n",
       " 'Always love the apple products, upgraded from old iPhone 6S plus to this after having my first baby. I just love to click baby’s photos with it. Overall I just love this phone. Battery back up is okay, sound quality is good. Haven’t tested yet waterproof yet. Only one thing I hate is apple could have given charger & headphones in box.',\n",
       " \"phone is good but in display is 720p lcd in this price range we can get full hd OLED displays with higher refresh rate processor is very good camera is nice but looks kind of oldish in front of todays phone also there's no charging in box had to buy it seperately\",\n",
       " 'Value for money\\n5 star rating\\nExcellent camera\\nBattery backup full day in single charge.\\n\\nTougher and water resistant design, glossy back.\\nThe screen has excellent brightness and contrast.\\nApple A13 Bionic is the fastest smartphone chip on the planet.\\nExcellent battery life, fast charging support.\\nStereo speakers with great quality.',\n",
       " 'Thanks Flipkart For this amazing deal! I had a dream of owning a iphone since i had known about.\\nIm very happy with my purchase & it is totally worth it.\\nAmazing experience all over !!\\n\\nAnyone who’s thinking of buying it in 2021, i would simply say go for it without any second thoughts ❤️',\n",
       " 'Please DONT buy from here,\\n\\nI purchased Apple iPhone 11. with an exchange of IPhone 7, the exchange did not go well, iPhone 7 had a small scratch out side screen which i could never identify till date, but the FLIPKART person could, so he reduced 50% from exchange rate. I decided not to trade in, but paid money.\\n\\niPhone 11 Detail Below\\n---------------------------------------------\\nIt came with no charging, then i have put for charging, it took lot of time for charging, the phone also showe...\\nREAD MORE',\n",
       " 'awesome phone to have. it has got many smart features apart from mind blowing looks, camera, display, battery and sound. have fallen in love with this phone. must buy phone if you have got enough money. thanks to flipkart and apple of course..',\n",
       " 'Its a fabulous mobile look awesome performance unbeaten camera like dslr battery good i think this is a beast of mobile',\n",
       " 'Dear friends... I want to share my experience with you about this amazing I phone 11....this is my first iPhone and special things about this mobile is it has great camera, battery backup and awesome display.... I mean everything is perfect.loved it 👍👍👍',\n",
       " \"Just got this iphone 11\\nAnd it is most powerful mobile phone I have used ever\\n\\nSo,go for it if you want a phone with best specification like camera,battery backup,display, A13 bionic chip\\n\\nThat's my review about this phone but yours can be differ from me....\",\n",
       " \"The best all rounder iphone. Flipkart is doing a great job. They're delivery services are blazing fast. I got delivery on the same day. Genuine Apple Product. Working great. Talking about review There's no need of review for iphones. They're simply the best.\",\n",
       " 'Amazing phone and on great deal I received with super fast delivery by Flipkart...',\n",
       " 'finally an iPhone with very nice battery backup. update from iPhone 7 and happy to have it. camera is not up to the mark in low light but overall a recommended phone if your budget allows 😀',\n",
       " \"I'm switching this phone to oppo reno 10x zoom\\nIt's really impressive\\nRarely I'm missing smooth display touch response like oppo reno but\\nI really loved it.\\nCamera really impressive\",\n",
       " 'Simply Awesome\\n\\nI have upgraded from iPhone 7 to iPhone 11.\\n\\n3110 mah Battery is good. I am not a heavy gamer. For official purpose, this is better than 12 mini.\\n\\nTotally impressed with battery performance.',\n",
       " 'Damn this phone is a blast . Upgraded from android to ios and is a duperb experience. Battery backup is top notch and display also pretty good',\n",
       " 'Worth the money’ starting first from its performance it beats out all phones , second the smoothness of camera is awesome, contrast ratio is much than expected. Price will not matter if u r a quality person, if not other phones are available with better discount',\n",
       " 'I dreamt about this day from a long time.... Getting an iPhone with my own money.... Super happy and worth spending every penny',\n",
       " \"I'm Really happy with the product\\nDelivery was fast as well\\n..it was a gift for my sister and she loved it so much.\"]"
      ]
     },
     "execution_count": 1479,
     "metadata": {},
     "output_type": "execute_result"
    }
   ],
   "source": [
    "#we will get the full review text using for loop\n",
    "\n",
    "for i in review_tag:\n",
    "    review=i.text\n",
    "    full_review_list.append(review)\n",
    "full_review_list"
   ]
  },
  {
   "cell_type": "code",
   "execution_count": 1480,
   "id": "73e0efd5",
   "metadata": {},
   "outputs": [],
   "source": [
    "#, go to the all review Button at the bottom ofthe page , then click on it.\n",
    "next_button=driver.find_element_by_xpath(\"/html/body/div[1]/div/div[3]/div/div/div[2]/div[13]/div/div/nav/a[12]\")\n",
    "next_button.click()"
   ]
  },
  {
   "cell_type": "code",
   "execution_count": 1481,
   "id": "04afa548",
   "metadata": {},
   "outputs": [
    {
     "data": {
      "text/plain": [
       "[<selenium.webdriver.remote.webelement.WebElement (session=\"21adad40789ed2d83ae180cc85aa07d7\", element=\"e1733af6-8df9-4511-b6c2-4068caa6ee2a\")>,\n",
       " <selenium.webdriver.remote.webelement.WebElement (session=\"21adad40789ed2d83ae180cc85aa07d7\", element=\"5843ac85-67c0-41ee-b4d4-59cc01d7199e\")>,\n",
       " <selenium.webdriver.remote.webelement.WebElement (session=\"21adad40789ed2d83ae180cc85aa07d7\", element=\"65abbb23-2871-438a-99fb-510f287bc897\")>,\n",
       " <selenium.webdriver.remote.webelement.WebElement (session=\"21adad40789ed2d83ae180cc85aa07d7\", element=\"92f2db7d-60fd-4af2-a43f-8d585afcdd8b\")>,\n",
       " <selenium.webdriver.remote.webelement.WebElement (session=\"21adad40789ed2d83ae180cc85aa07d7\", element=\"efd1b148-6170-43c1-a24b-4b880e3fb6c0\")>,\n",
       " <selenium.webdriver.remote.webelement.WebElement (session=\"21adad40789ed2d83ae180cc85aa07d7\", element=\"9d3fc286-586c-4a5a-ad3d-eea8e4212dc3\")>,\n",
       " <selenium.webdriver.remote.webelement.WebElement (session=\"21adad40789ed2d83ae180cc85aa07d7\", element=\"ac4f072e-6eda-4cc5-a5fc-4b723f84333a\")>,\n",
       " <selenium.webdriver.remote.webelement.WebElement (session=\"21adad40789ed2d83ae180cc85aa07d7\", element=\"214bac55-abe2-40e7-b3a7-69788632f6fe\")>,\n",
       " <selenium.webdriver.remote.webelement.WebElement (session=\"21adad40789ed2d83ae180cc85aa07d7\", element=\"c2fc533a-86f9-4d5a-80c4-0056b2f76594\")>,\n",
       " <selenium.webdriver.remote.webelement.WebElement (session=\"21adad40789ed2d83ae180cc85aa07d7\", element=\"ac8ccc6a-4604-4973-ac13-ed03a5e861b6\")>]"
      ]
     },
     "execution_count": 1481,
     "metadata": {},
     "output_type": "execute_result"
    }
   ],
   "source": [
    "#extract ratings\n",
    "rating_tag=driver.find_elements_by_xpath(\"//div[@class='_3LWZlK _1BLPMq'or @class='_3LWZlK _1rdVr6 _1BLPMq']\")\n",
    "rating_tag"
   ]
  },
  {
   "cell_type": "code",
   "execution_count": 1482,
   "id": "108f5508",
   "metadata": {},
   "outputs": [
    {
     "data": {
      "text/plain": [
       "['5',\n",
       " '5',\n",
       " '5',\n",
       " '5',\n",
       " '5',\n",
       " '5',\n",
       " '5',\n",
       " '4',\n",
       " '5',\n",
       " '5',\n",
       " '5',\n",
       " '5',\n",
       " '5',\n",
       " '5',\n",
       " '5',\n",
       " '5',\n",
       " '5',\n",
       " '5',\n",
       " '5',\n",
       " '5',\n",
       " '5',\n",
       " '5',\n",
       " '4',\n",
       " '5',\n",
       " '5',\n",
       " '5',\n",
       " '5',\n",
       " '4',\n",
       " '5',\n",
       " '5',\n",
       " '5',\n",
       " '5',\n",
       " '5',\n",
       " '5',\n",
       " '5',\n",
       " '5',\n",
       " '5',\n",
       " '5',\n",
       " '5',\n",
       " '4',\n",
       " '1',\n",
       " '5',\n",
       " '5',\n",
       " '5',\n",
       " '5',\n",
       " '5',\n",
       " '5',\n",
       " '5',\n",
       " '5',\n",
       " '5',\n",
       " '4',\n",
       " '5',\n",
       " '5',\n",
       " '5',\n",
       " '5',\n",
       " '4',\n",
       " '5',\n",
       " '5',\n",
       " '5',\n",
       " '5',\n",
       " '5',\n",
       " '5',\n",
       " '5',\n",
       " '3',\n",
       " '5',\n",
       " '5',\n",
       " '1',\n",
       " '5',\n",
       " '5',\n",
       " '5',\n",
       " '4',\n",
       " '5',\n",
       " '5',\n",
       " '5',\n",
       " '4',\n",
       " '5',\n",
       " '5',\n",
       " '5',\n",
       " '5',\n",
       " '4',\n",
       " '5',\n",
       " '1',\n",
       " '5',\n",
       " '5',\n",
       " '5',\n",
       " '5',\n",
       " '5',\n",
       " '5',\n",
       " '5',\n",
       " '5']"
      ]
     },
     "execution_count": 1482,
     "metadata": {},
     "output_type": "execute_result"
    }
   ],
   "source": [
    "#we will get the rating text using for loop\n",
    "\n",
    "for i in rating_tag:\n",
    "    rating=i.text\n",
    "    rating_list.append(rating)\n",
    "rating_list"
   ]
  },
  {
   "cell_type": "code",
   "execution_count": 1483,
   "id": "3ffaac54",
   "metadata": {},
   "outputs": [
    {
     "data": {
      "text/plain": [
       "[<selenium.webdriver.remote.webelement.WebElement (session=\"21adad40789ed2d83ae180cc85aa07d7\", element=\"06fa639b-0a05-4c35-8110-75a8fdd0eb4f\")>,\n",
       " <selenium.webdriver.remote.webelement.WebElement (session=\"21adad40789ed2d83ae180cc85aa07d7\", element=\"40e32333-982c-4020-851a-ae01112c89bc\")>,\n",
       " <selenium.webdriver.remote.webelement.WebElement (session=\"21adad40789ed2d83ae180cc85aa07d7\", element=\"728c0205-9bb7-4a9f-b2e5-abce3f87d833\")>,\n",
       " <selenium.webdriver.remote.webelement.WebElement (session=\"21adad40789ed2d83ae180cc85aa07d7\", element=\"eda36e31-6fd2-4f72-b03a-7f5dc15e4b38\")>,\n",
       " <selenium.webdriver.remote.webelement.WebElement (session=\"21adad40789ed2d83ae180cc85aa07d7\", element=\"1f9d29a1-5529-457b-8021-5d9e068e9c27\")>,\n",
       " <selenium.webdriver.remote.webelement.WebElement (session=\"21adad40789ed2d83ae180cc85aa07d7\", element=\"4899e9df-2292-41f3-b0ee-e84701947574\")>,\n",
       " <selenium.webdriver.remote.webelement.WebElement (session=\"21adad40789ed2d83ae180cc85aa07d7\", element=\"78fd26e0-b8f5-42bb-957a-f84defb9509a\")>,\n",
       " <selenium.webdriver.remote.webelement.WebElement (session=\"21adad40789ed2d83ae180cc85aa07d7\", element=\"a663ff95-989c-45ec-8b38-3069c9be6035\")>,\n",
       " <selenium.webdriver.remote.webelement.WebElement (session=\"21adad40789ed2d83ae180cc85aa07d7\", element=\"e7b53b77-2a11-4628-a33c-6cbbe02f827b\")>,\n",
       " <selenium.webdriver.remote.webelement.WebElement (session=\"21adad40789ed2d83ae180cc85aa07d7\", element=\"9bdeb061-3b76-424c-b800-239e3d74b2f2\")>]"
      ]
     },
     "execution_count": 1483,
     "metadata": {},
     "output_type": "execute_result"
    }
   ],
   "source": [
    "#extract review summary\n",
    "review_summary_tag=driver.find_elements_by_xpath(\"//p[@class='_2-N8zT']\")\n",
    "review_summary_tag"
   ]
  },
  {
   "cell_type": "code",
   "execution_count": 1484,
   "id": "31a1994e",
   "metadata": {},
   "outputs": [
    {
     "data": {
      "text/plain": [
       "['Brilliant',\n",
       " 'Simply awesome',\n",
       " 'Best in the market!',\n",
       " 'Perfect product!',\n",
       " 'Fabulous!',\n",
       " 'Worth every penny',\n",
       " 'Great product',\n",
       " 'Good choice',\n",
       " 'Highly recommended',\n",
       " 'Worth every penny',\n",
       " 'Highly recommended',\n",
       " 'Perfect product!',\n",
       " 'Perfect product!',\n",
       " 'Highly recommended',\n",
       " 'Worth every penny',\n",
       " 'Perfect product!',\n",
       " 'Worth every penny',\n",
       " 'Simply awesome',\n",
       " 'Classy product',\n",
       " 'Worth every penny',\n",
       " 'Wonderful',\n",
       " 'Terrific',\n",
       " 'Nice product',\n",
       " 'Perfect product!',\n",
       " 'Perfect product!',\n",
       " 'Classy product',\n",
       " 'Brilliant',\n",
       " 'Good choice',\n",
       " 'Great product',\n",
       " 'Must buy!',\n",
       " 'Perfect product!',\n",
       " 'Simply awesome',\n",
       " 'Wonderful',\n",
       " 'Terrific purchase',\n",
       " 'Terrific purchase',\n",
       " 'Great product',\n",
       " 'Mind-blowing purchase',\n",
       " 'Excellent',\n",
       " 'Simply awesome',\n",
       " 'Good quality product',\n",
       " 'Very poor',\n",
       " 'Perfect product!',\n",
       " 'Classy product',\n",
       " 'Fabulous!',\n",
       " 'Highly recommended',\n",
       " 'Must buy!',\n",
       " 'Fabulous!',\n",
       " 'Mind-blowing purchase',\n",
       " 'Wonderful',\n",
       " 'Must buy!',\n",
       " 'Very Good',\n",
       " 'Wonderful',\n",
       " 'Classy product',\n",
       " 'Just wow!',\n",
       " 'Awesome',\n",
       " 'Pretty good',\n",
       " 'Terrific purchase',\n",
       " 'Awesome',\n",
       " 'Classy product',\n",
       " 'Brilliant',\n",
       " 'Terrific',\n",
       " 'Perfect product!',\n",
       " 'Awesome',\n",
       " 'Does the job',\n",
       " 'Perfect product!',\n",
       " 'Highly recommended',\n",
       " 'Very poor',\n",
       " 'Fabulous!',\n",
       " 'Excellent',\n",
       " 'Must buy!',\n",
       " 'Value-for-money',\n",
       " 'Best in the market!',\n",
       " 'Brilliant',\n",
       " 'Terrific purchase',\n",
       " 'Good quality product',\n",
       " 'Terrific',\n",
       " 'Best in the market!',\n",
       " 'Perfect product!',\n",
       " 'Awesome',\n",
       " 'Value-for-money',\n",
       " 'Just wow!',\n",
       " 'Worthless',\n",
       " 'Super!',\n",
       " 'Mind-blowing purchase',\n",
       " 'Super!',\n",
       " 'Awesome',\n",
       " 'Mind-blowing purchase',\n",
       " 'Classy product',\n",
       " 'Worth every penny',\n",
       " 'Excellent']"
      ]
     },
     "execution_count": 1484,
     "metadata": {},
     "output_type": "execute_result"
    }
   ],
   "source": [
    "\n",
    "#we will get the review summary text using for loop\n",
    "\n",
    "for i in review_summary_tag:\n",
    "    summary=i.text\n",
    "    review_summary_list.append(summary)\n",
    "review_summary_list"
   ]
  },
  {
   "cell_type": "code",
   "execution_count": 1485,
   "id": "19696827",
   "metadata": {},
   "outputs": [
    {
     "data": {
      "text/plain": [
       "[<selenium.webdriver.remote.webelement.WebElement (session=\"21adad40789ed2d83ae180cc85aa07d7\", element=\"eb9c6d40-1193-44b7-b861-77c765fa490e\")>,\n",
       " <selenium.webdriver.remote.webelement.WebElement (session=\"21adad40789ed2d83ae180cc85aa07d7\", element=\"f5e0da95-7fb9-42bc-99ad-fd0d74e77138\")>,\n",
       " <selenium.webdriver.remote.webelement.WebElement (session=\"21adad40789ed2d83ae180cc85aa07d7\", element=\"f1102273-ab89-45fa-aebd-11473471e832\")>,\n",
       " <selenium.webdriver.remote.webelement.WebElement (session=\"21adad40789ed2d83ae180cc85aa07d7\", element=\"4de61613-787a-475e-bdfb-0bfebc9280bc\")>,\n",
       " <selenium.webdriver.remote.webelement.WebElement (session=\"21adad40789ed2d83ae180cc85aa07d7\", element=\"6eef6382-e93f-4541-becd-76796c7a39f7\")>,\n",
       " <selenium.webdriver.remote.webelement.WebElement (session=\"21adad40789ed2d83ae180cc85aa07d7\", element=\"4c1d9dd1-ea0a-4aaf-80e4-76f063be78ff\")>,\n",
       " <selenium.webdriver.remote.webelement.WebElement (session=\"21adad40789ed2d83ae180cc85aa07d7\", element=\"073494c9-09ca-4927-a45c-80a0439298b8\")>,\n",
       " <selenium.webdriver.remote.webelement.WebElement (session=\"21adad40789ed2d83ae180cc85aa07d7\", element=\"bcda9a2b-44ce-4806-9e54-517c901a7a38\")>,\n",
       " <selenium.webdriver.remote.webelement.WebElement (session=\"21adad40789ed2d83ae180cc85aa07d7\", element=\"9eb7b00a-4694-4be2-aeee-68aa90f5c6ea\")>,\n",
       " <selenium.webdriver.remote.webelement.WebElement (session=\"21adad40789ed2d83ae180cc85aa07d7\", element=\"1c1f4161-c462-4757-8a55-32d91ad18853\")>]"
      ]
     },
     "execution_count": 1485,
     "metadata": {},
     "output_type": "execute_result"
    }
   ],
   "source": [
    "#extract  full review \n",
    "review_tag=driver.find_elements_by_xpath(\"//div[@class='t-ZTKy']\")\n",
    "review_tag"
   ]
  },
  {
   "cell_type": "code",
   "execution_count": 1486,
   "id": "93b412d9",
   "metadata": {},
   "outputs": [
    {
     "data": {
      "text/plain": [
       "['The Best Phone for the Money\\n\\nThe iPhone 11 offers superb cameras, a more durable design and excellent battery life for an affordable price.\\n\\nCompelling ultra-wide camera\\nNew Night mode is excellent\\nLong battery life',\n",
       " 'Really satisfied with the Product I received... It’s totally genuine and the packaging was also really good so if ur planning to buy just go for it.',\n",
       " 'Great iPhone very snappy experience as apple kind. Upgraded from iPhone 7.\\nPros\\n-Camera top class\\n- Battery top performed\\n-Chipset no need to say as apple kind\\n-Security as you expect from apple\\n- Display super bright industry leading colour\\naccuracy and super responsive\\n-Build quality as expect from apple sturdy\\npremium durable beautiful stylish.\\n-Os most stable os in smartphone industry\\n\\nCons\\n-No 5G\\n-Display is not based on OLED technology\\n-Charger headphones and 1 apple stic...\\nREAD MORE',\n",
       " 'Amazing phone with great cameras and better battery which gives you the best performance. I just love the camera .',\n",
       " 'This is my first iOS phone. I am very happy with this product. Very much satisfied with this. I love this phone.',\n",
       " 'Previously I was using one plus 3t it was a great phone\\nAnd then I decided to upgrade I am stuck between Samsung s10 plus or iPhone 11\\nI have seen the specs and everything were good except the display it’s somewhere between 720-1080 and it’s not even an amoled it’s an LCD display\\nBut I decided to go with iPhone because I have never used an IOS device I have Been an android user from the past 9 years I ordered IPhone 11 (128gb) product red\\nMy experience after using 3 weeks\\n1. The delivery ...\\nREAD MORE',\n",
       " 'Amazing Powerful and Durable Gadget.\\n\\nI’m am very happy with the camera picture quality, Amazing face id unlocked in dark room, Strong battery with perfect screen size as you can carry easily in pocket. This is my third iPhone.\\n\\nI shifted from android Samsung Note series to iPhone because of the strong build quality and peace of mind for next 3-4 years.\\n\\nDon’t think to much just go for it and I suggest you to go for minimum 128gb variant or more 256gb.\\n\\nI’ve attached my puppy pics and no fi...\\nREAD MORE',\n",
       " 'So far it’s been an AMAZING experience coming back to iOS after nearly a decade but it’s not as versatile as android though phone is sturdy dropped it accidentally a couple of times and nothing happened fortunately camera is awesome',\n",
       " 'What a camera .....just awesome ..you can feel this iPhone just awesome . Good for gaming also ...try pubg in hd it’s just wow',\n",
       " 'i11 is worthy to buy, too much happy with the product. Thank u flipkart I received the item on time..loved it..',\n",
       " 'iphone 11 is a very good phone to buy only if you can compromise for the display. The display on this is device is pretty good but you can get other options with better displays in this price segment.\\nIf you can survive with an HD+ LCD panel with thicker bezels and a notch up top then this is a very good phone for you.\\nCameras are awesome, battery backup excellent, great performance and a decent premium look. Good job Apple !',\n",
       " 'It’s a must buy who is looking for an upgrade from previous generation of iPhones. If you are using XR then still you can hold on for sometime and upgrade to 2020 model else this phone is a must buy . Camera quality is amazing and wide angle is something to count upon. Performance wise it’s amazing and feels premium while holding in hand. So a big YES for this device. Go for 128 GB variant as the 4K videos will occupy lots of space and the storage can get over very quickly. Try to buy it with...\\nREAD MORE',\n",
       " 'Value for money❤️❤️\\nIts awesome mobile phone in the world ...\\nDisplay was very good and bright ..\\nTrust me freinds you r never regret after Buying..\\nJust go for it....\\nI love this phone and i switch to iphone x to 11',\n",
       " \"It's my first time to use iOS phone and I am loving my upgradation 😍😍 I love the color, I love the assebility of the phone....I need to learn more about its functionality, but as far as I have seen, it's quite easy and it has a lot of functions to work on, specially if you are a content writer or a blogger you get a lot of content creation platforms and they are really amazing.\\n\\nThis phone not only for good quality photography but a lot of other task too.😍💯\",\n",
       " 'Smooth like butter, camera like fantabulous, sound is crystal clear & its red color is damn attractive, i am just loving it. Must buy if you love photography.\\n\\nLucky to get it in sale, thank you Flipkart.',\n",
       " \"Iphone is just awesome.. battery backup is very very nice.. continuously for 10 hours we can use it.camera is just awesome.. display is just fab.i love it alot..i had to wait 15 days for it as i pre ordered it..overalll it's worth the price..these all images are clicked by my iPhone..and i love it.\",\n",
       " 'Best budget Iphone till date ❤️ go for it guys without second thought. Let me explain you guys about Camera, Display, battery, and performance.\\n\\nCamera: at this price range there is no comparison of camera, you’ll love the picture quality as well as video quality. I am a Vlogger I wanted an iPhone with 4k video by front camera and I got this phone and I am more than happy 😃\\n\\nBattery: I use this phone roughly as I am active social media person and I have a youtube channel. so the battery ba...\\nREAD MORE',\n",
       " 'Excellent camera, good performance, no lag. The lcd display is also good.. but difference come when we watch movie in prime and Netflix, the colours are not vibrant.. as we see in amoled display.. and the charger in box is of 5 watts.. takes more than 3 hours to charge from 0 to 100.. so guys be prepare to buy 18 watts charger . Finally I am an android user, it was my first Iapple phone, I promise u guys the iOS is so smooth.. overall the phone is damn good.... close eyes to buy it.. thanks t...\\nREAD MORE',\n",
       " 'Totally in love with this ❤ the camera quality is amazing just love it 😘😘😘 itsss dammnnnnnn amazing... Must buy iPhone 11 this is my best experience ever ☀👌👌🧡🧡🧡🧡🧡 thanku apple ❤',\n",
       " 'It’s been almost a month since I have been using this phone. I upgraded from an iPhone 8. The main issue with my 8 was battery and this phone is just awesome when it comes to battery. It lasts a day and a half for me with my regular use , internet connected always with 4g\\nCan’t move forward without saying this. Battery of this phone is a life saver when I am traveling or at work when I don’t get the option to charge\\nCamera is superb. Front cam selfies and back cam photos are just awesome.\\n...\\nREAD MORE',\n",
       " 'This is my first ever I phone. Before this I was using my google nexus 5. But moving from android to iOS is a great experience. It’s worth at this price. I will highly recommend it if you want to move to iOS. The best part of this phone is it’s camera and it’s battery life. This two things have won my heart. I loved it. Happy to have it in my hand. Still exploring its features. And can’t forget to mention Flipkart service. Very prompt service and fast delivery.',\n",
       " 'Really worth of money. i just love it. It is the best phone ever.',\n",
       " 'Awesome Phone. Slightly high price but worth. Better than iPhone XR.\\nCamera is superb and wide angle camera is very clear.\\n12MP selfie camera is also very good.\\nA13 Chip gives a very good and smooth performance.',\n",
       " 'It is just awesome mobile for this price from Apple,\\n\\nAfter 10 days review\\n\\nBattery enough for 1 day even 24*7 Internet will be on and mostly internet usage\\n\\nCamera is just awesome cool , android 64 MP is equal to this just 12 MP\\n\\nA13 Bionic chip will give more high performance without hanging\\n\\nAudio stereo speakers will give Dolby atoms sound with crystal clear\\n\\nVideo recording is like cinematic shots of every sec can be a 4K 60fps. Just awesome this phone\\niPhone 11 loved one',\n",
       " 'Battery backup is extraordinary, camera is decent & performance offered by A13 bionic is awsome. The display is good in practical usage like the visibility of display is very good in direct sun light compare to pro models. Iam extremely satisfied for the money I spent.',\n",
       " 'Superb Product !!!\\nA big and worthy upgrade from mi 3S to iphone 11 .\\nTotally loved it !',\n",
       " 'I have migrated from OP 7pro... and trust me, iPhone 11 is totally worth it.. following are the reasons:-\\n1)there is ABSOLUTELY NO ISSUE WITH THE DISPLAY... its crisp, sharp and I found it to be much much better than OP7 pro. Netflix, Prime video all run crisply... you won’t miss a thing. True Tone works flawlessly...the display brightness is perfect. OP have not calibrated their screens properly.\\n2) iPhone 11 series have really good cameras... others have spoken in depth about them.\\n3) bat...\\nREAD MORE',\n",
       " 'Looking so good 👍 😍 super 👌 stylish 😎 phone\\nClean box 📦 good 👍 delivery 👌 fast delivery\\nOriginal box Original iphone 📱 👌 😍😍😍',\n",
       " \"Again back to apple iphone after a gap of 2-3 years. It's pleasure to use iOS and the quality product by Apple. Iphone 11 still works like a beast in 2021 also. It really capable of doing day to day usage as well as hard core gaming. Battery is awesome. I'm really too much satisfied with it. Apart fto the very gorgious IPS LCD (AMOLED will be better) everything is mind boggling. Iphone💕.\",\n",
       " 'It’s an amazing product from apple and the camera is simply superb. Phone is faster.Night shot is simply superb and detailing and colour differentiation from camera is an added advantage\\n\\nThis review I have written from iPhone 11 only and I am glad to say outside.\\n\\nCons wise if we see HD+ display only, no battery percentage indicator as in older iPhone 8.\\nNo assistive touch control button in it\\nNo oleophobic coating on back panel glass and finger prints are visible but since I bought mint gr...\\nREAD MORE',\n",
       " 'After 1 month use I found camera quality best compared to my previous Samsung note 10+.Display not good as note 10 also charging too slow.Apple should add fast charger like 11 plus and pro.Best phone for daily use',\n",
       " \"It's very high performances devise i am like the service of flipkart delevary very fast and packing very nice perfect phone\",\n",
       " 'I just directly switch from iphone 6s to iphone 11 .The best premium smartphone I recommend to everyone. Excellent quality and colors the iphone have in 11 series.\\nCamera quality is just awesome and the major feel when we hold in our hands. The sound quality and volume is also higher then the previous models.\\nI will recommend to buy iphone 11 instead of pro models , there is nothing much difference as this model contains everything which fulfill our needs.\\n\\nOnly one thing that I dislike abo...\\nREAD MORE',\n",
       " 'Upgraded from iphone 6 to 11 best phone for iphone users battery is much better than other iphones camera is awesome love to use it.camera is so clear in night.',\n",
       " 'The built quality is not very premium.\\nThe battery back is great .\\nThe LCD panel is not so sharp but the brightness level is very High .\\nCamera is super duper awesome.\\nThe red colour which people think is bright is actually very soothing and excellent colour to choose from .\\nThe A13 Bionic chip is really a flagship processor and can beat any phone which even has 12 gb ram .\\nCamera module is very great and looks very stylish.',\n",
       " 'Well you all know the specifications . One of a kind. Best iPhone till date. Many enhancements to the camera app with many options. Love the glass body with matte finish in the lens area on the back. Lovely colours to choose from. Best battery in an iPhone till date, enough to last more than a day in normal usage. I tested my iPhone 11 battery and lasted for than 24 hours after full charge still with 30% battery charge left. Watched movies for some time. Normal usage on calls, browsing, musi...\\nREAD MORE',\n",
       " 'This will help you more. See if you are planning to buy iPhone 11. I will say. Yes. But there are some plans I just want to disclose before you buy. 1) If you are an existing iPhone X/XS/XS Max/ XR user, better you guys do not think it to buy. You guys have more or less better gadget. 2) If you are an android user and planning to buy premium phone. I will suggest them to please buy iPhone instead of buying an Android. I bet you will never go back to android after using IOS. Now I want to shar...\\nREAD MORE',\n",
       " 'Amazing camera and feel super machine I am not describe my feeling but this is amazing Phone I am so lucky I have this',\n",
       " 'Really good actually this is my first apple product am using its really awesome performance wise excellent. Am really happy with this iphone11',\n",
       " 'it is very good at performance. Camera is best like before and very smooth response even in water. Don’t buy 12 mini buy iPhone 11 , it is far better than 12 mini believe me ! Have a nice day \\uf8ff ☺️',\n",
       " 'Reviewing again after 5 months. At the beginning the battery and performance was good but it degraded soon. Also I was facing heating issues. The mobile will heat up like a stove sometimes. You cannot even play Pubg even in low settings properly, performance is not a problem but heating is. Also if you play that game for 10 mins the brightness will be automatically down due to over heating even when the auto brightness is set to off. This will not be solved even if u manually increase the bri...\\nREAD MORE',\n",
       " 'In love with this iphone great performance,camera ,battery everything. Go for it have a uncompareble battery backup, no doubts in iPhone camera here You can see the picture which is shot on my iPhone In love with this iphone great performance,camera ,battery everything. Go for it have a uncompareble battery backup, no doubts in iPhone camera here You can see the picture which is shot on my iPhone In love with this iphone great performance,camera ,battery everything. Go for it have a uncompare...\\nREAD MORE',\n",
       " 'We are on apple ecosystem for almost eight years now with couple of iPads and iPhones, including Xr.\\n\\nBought iPhone 11 as a gift to my daughter who loves it. We chose for a purple coloured one. Believe me it is gorgeous and towards the lighter shade. Dazzling and brilliant!\\n\\nThe phone is great and does excellent RAM management like any other Apple device.\\n\\nThe screen, though a LCD and lesser ppi as compared to other flagship phones of competitor brands, is a delight to watch with perfect re...\\nREAD MORE',\n",
       " 'Everything is perfect pictures come out so clearly and at first I wasn’t sure when I got it then when I started to use it and get the hang of it it was amazing!! I can’t wait to see what the next future phones will be like. The screen display on this bad boy are unbelievable they are so clear and never fail me. The performance is super cool there is a lot of cool features as well I like this phone because I feel that it is easy to use and one of my favorite things about this phone is the Face...\\nREAD MORE',\n",
       " 'Amazing camera quality as expected, battery also has very good performance. Display, body, and touch experience is the best I’ve ever had. Sound quality of speakers is more than sufficient. Apple is known for it’s customer friendly security services and I can see it how. The A13 processor is the best in its work. So I would definitely recommend it for everyone who are looking for it, just go for it without delay.\\n\\nThe most amazing thing it the delivery. Flipkart has delivered it in the span ...\\nREAD MORE',\n",
       " 'Best Apple iPhone that i have bought at a very reasonable price, camera quality is next level just awesome n of superior quality android phones not even close(RIP) to that and also battery is really good but packaging by Flipkart of iPhone was very poor of such a expensive product, firstly im bit worried about the quality of product if i purchased it through online how was the product but i think now this was mine best decision to bought it through Flipkart online because i got genuine Apple...\\nREAD MORE',\n",
       " \"I can say I'm damn impressed with iPhone 11. As they says iPhone 11 have the toughest glass ever in the smartphone which you'll find on the front and back and it's totally smooth. The fit and finish is full apple quality - there's no sense that any cheaping out has happened in the construction. Without saying it's camera features this review won't complete. The iPhone 11 has a dual camera system, consisting of a wide angle len's that's pretty much same as found on the iPhone XR last year, but...\\nREAD MORE\",\n",
       " 'Best Quality Product OF iPhone Series , Sound Quality & Camera quality is very awesome, Battery Life is very Sufficient for 24 hr Backup With Full Internet Access , I love this this Product too much , It is very fast & making me Very fast in all my daily Routine\\nHighlights;\\n1.Camera: 5 STAR\\n2.Video Recording: 5 star\\n3.Night mODE sHOOTING & Camera:4 star\\n4. Audio Quality: Awesome\\n5. Battery : 5 Star\\n6. Touch:5 Star\\n7. Processor: Very Fast\\nThe M...\\nREAD MORE',\n",
       " 'Superfast delivery by Flipkart. Thanks.\\n\\n1. iPhone 11 is a pretty solid phone for the money you are paying.\\n2. All the bad reviews about the display is confusing. It’s not that bad.\\n3. I switched from a Oneplus 7t. I have no complaints about the display quality of iPhone. Yes, it’s not OLED, so, we are missing on the deep blacks. But that’s it. It is a very colour accurate display. Gets adequately bright and I could not find any pixelation.\\n4. Performance is one of the best, if not best, in ...\\nREAD MORE',\n",
       " 'I rate this product 5* as it has got amazing user experience with the best performing A13 bionic processor. The screen responds and graphics rendering is top notch. With casual gaming and internet browsing, the battery lasts for approx. 1 day. Camera is very good. You will fall in love with the portrait mode. You can call me a loyal Apple customer or whatever but I won’t stop praising the products and overall experience. That user experience matters and is worth every penny you pay.\\n\\nBelow ar...\\nREAD MORE',\n",
       " 'impressive super phone and best in class camera ,sound and face unlock is super fast just see and phone is unlock and fast in daily apps use',\n",
       " 'Super and marvellous phone look very cute and nice sound. I love this phone i think white is good colur.Excellent camer 5*😍😘♥️♥️',\n",
       " 'Well while switching from android to iOS the first thing you need to be careful about is that you will loose all your whatsapp chat backups as both are different operating systems. Camera clarity is awesome and though being an lcd screen clarity and resolution is good. Battery backup is also good unlike previous gen iPhone. So far the experience is good will Padre after a few months of usage.\\n\\nP.S the black is more of a dark grey shade and not jet black',\n",
       " 'Best in class. Battery backup is good especially when you play games like Pubg COD. But it is sort of heavy when you hold in hands. Portrait mode is best to click pictures. Stage light effect is awesome. Try to click photos outside in nature because photos inside home or room will not give you the quality in any phone even in DSLR.',\n",
       " 'Very excited to have this phone. This phone has the real power unlike the android phones having SD 855 . The battery life is very good and the camera quality is excellent as comapred to redmi and other phones except google pixel. I M enjoying every single bit of it. Would recommed only if you have the budget.',\n",
       " 'I was using Iphone 6s and also Oneplus 6t. Both mobiles were perfectly alright in Photos, gaming, and smooth interface . My 6s mobile getting battery issue. thought upgrade to 11. Really like this mobile of its Internal storage (compare to 6s) , camera and its touch feeling. Its a worth buying mobile for me.',\n",
       " 'Its Very awesome product working and good camera quality and all about best product and also flipkart is very great deal and offer nice price',\n",
       " 'I am using this phone for 5 days and its one of the best camera out there ❤️ the screen is not oled and i am coming from iphone xs so its little bit not up to the mark i would say\\nBut overall value for money💕😍the battery back up is far better than my iphone xs and its worth in my apple ecosystem💫❤️if u are an apple User and have the eco system then go for it❤️though i will be getting the new iphone but its pretty good💫',\n",
       " 'Best and amazing product.....phone looks so premium.... battary is also good as expected .... Wide angle camera is so addictive ...if you are a IOS lover....then this phone will be the best choice for you all!!💯🔥',\n",
       " 'Excellent camera and display touching very nice and smooth very improvement against iPhone XR and new processor is very fast',\n",
       " \"I got this beast today. And I must say the picture quality of its camera is awesome. Both the cameras works fine.\\n\\nAs for as the processing is concerned, it runs without any lag. You can play and do whatever you want without a glitch.\\n\\nThe battery runs for a day with medium and high workload.\\n\\nThe display is good and the speakers are working fine.\\n\\nThe earphones doesn't have any base and you can use it for calling mostly.\\n\\nThe charging time is approximately for 90 minutes for full charging...\\nREAD MORE\",\n",
       " 'Awesome purchase. Amazing phone with good battery backup. It’s a top notch device. White colour looks amazing. Phone has a few extra feature than iPhone XR. Overall, this is value for money',\n",
       " 'Always love the apple products, upgraded from old iPhone 6S plus to this after having my first baby. I just love to click baby’s photos with it. Overall I just love this phone. Battery back up is okay, sound quality is good. Haven’t tested yet waterproof yet. Only one thing I hate is apple could have given charger & headphones in box.',\n",
       " \"phone is good but in display is 720p lcd in this price range we can get full hd OLED displays with higher refresh rate processor is very good camera is nice but looks kind of oldish in front of todays phone also there's no charging in box had to buy it seperately\",\n",
       " 'Value for money\\n5 star rating\\nExcellent camera\\nBattery backup full day in single charge.\\n\\nTougher and water resistant design, glossy back.\\nThe screen has excellent brightness and contrast.\\nApple A13 Bionic is the fastest smartphone chip on the planet.\\nExcellent battery life, fast charging support.\\nStereo speakers with great quality.',\n",
       " 'Thanks Flipkart For this amazing deal! I had a dream of owning a iphone since i had known about.\\nIm very happy with my purchase & it is totally worth it.\\nAmazing experience all over !!\\n\\nAnyone who’s thinking of buying it in 2021, i would simply say go for it without any second thoughts ❤️',\n",
       " 'Please DONT buy from here,\\n\\nI purchased Apple iPhone 11. with an exchange of IPhone 7, the exchange did not go well, iPhone 7 had a small scratch out side screen which i could never identify till date, but the FLIPKART person could, so he reduced 50% from exchange rate. I decided not to trade in, but paid money.\\n\\niPhone 11 Detail Below\\n---------------------------------------------\\nIt came with no charging, then i have put for charging, it took lot of time for charging, the phone also showe...\\nREAD MORE',\n",
       " 'awesome phone to have. it has got many smart features apart from mind blowing looks, camera, display, battery and sound. have fallen in love with this phone. must buy phone if you have got enough money. thanks to flipkart and apple of course..',\n",
       " 'Its a fabulous mobile look awesome performance unbeaten camera like dslr battery good i think this is a beast of mobile',\n",
       " 'Dear friends... I want to share my experience with you about this amazing I phone 11....this is my first iPhone and special things about this mobile is it has great camera, battery backup and awesome display.... I mean everything is perfect.loved it 👍👍👍',\n",
       " \"Just got this iphone 11\\nAnd it is most powerful mobile phone I have used ever\\n\\nSo,go for it if you want a phone with best specification like camera,battery backup,display, A13 bionic chip\\n\\nThat's my review about this phone but yours can be differ from me....\",\n",
       " \"The best all rounder iphone. Flipkart is doing a great job. They're delivery services are blazing fast. I got delivery on the same day. Genuine Apple Product. Working great. Talking about review There's no need of review for iphones. They're simply the best.\",\n",
       " 'Amazing phone and on great deal I received with super fast delivery by Flipkart...',\n",
       " 'finally an iPhone with very nice battery backup. update from iPhone 7 and happy to have it. camera is not up to the mark in low light but overall a recommended phone if your budget allows 😀',\n",
       " \"I'm switching this phone to oppo reno 10x zoom\\nIt's really impressive\\nRarely I'm missing smooth display touch response like oppo reno but\\nI really loved it.\\nCamera really impressive\",\n",
       " 'Simply Awesome\\n\\nI have upgraded from iPhone 7 to iPhone 11.\\n\\n3110 mah Battery is good. I am not a heavy gamer. For official purpose, this is better than 12 mini.\\n\\nTotally impressed with battery performance.',\n",
       " 'Damn this phone is a blast . Upgraded from android to ios and is a duperb experience. Battery backup is top notch and display also pretty good',\n",
       " 'Worth the money’ starting first from its performance it beats out all phones , second the smoothness of camera is awesome, contrast ratio is much than expected. Price will not matter if u r a quality person, if not other phones are available with better discount',\n",
       " 'I dreamt about this day from a long time.... Getting an iPhone with my own money.... Super happy and worth spending every penny',\n",
       " \"I'm Really happy with the product\\nDelivery was fast as well\\n..it was a gift for my sister and she loved it so much.\",\n",
       " 'Great iphone.\\nI am writing this review after 2 months of usage.\\nCamera is excellent, especially the nightmode\\nDisplay perfect\\nBattery backup awesome\\nSound quality very good\\nOverall Apple gives you a perfect iphone in this range.\\nReally in love with iPhone 11',\n",
       " \"Phone is awesome no doubt. But Camera & Display is not great. Performance is mind blowing.\\nBut the phone is heating too much when charging or when you regularly used. It's experience after using 1 week. It's heating extrem when I play PUBG for 30 minutes.\\nGo for iPhone 11 pro or 12. Otherwise go for Android phone you will get much better phone in less price.\",\n",
       " 'Did an upgrade from 6s plus to iphone 11.\\nAo far the experience is well and good. Felt smoother than 6s plus. The camera quality is superb. Battery backup is descent. Not a heavy user, and gets power more than a day. Go for it if you need an alrounder iphone in a competitve price.',\n",
       " 'First thanks to Flipkart for this amazing deal and phone is outstanding. I upgraded from iPhone 7 and this is like very big upgrade. But the packaging was very basic I expected a good packaging as they only wrapped one layer of bubble wrap which I don’t think is enough to protect this expensive phone. And I recommend this phone and seller as well.\\n\\nAnd I’m posting this review after using it for 4 days.',\n",
       " 'This is my first ever iPhone.\\nAnd I truly don’t regret switching to IOS from my Android.\\n\\nIt is easily an alternative to a DSLR camera.\\nIf you’re obsessed with photos and videos, just don’t think twice or don’t compare to other androids(Samsung S10 lite or OnePlus 8/8T), as it’s far better from them in every field.\\nComparing will only make you confused.\\n\\nI am getting an average Screen on Time of around 10 hours with 30 percent left. I haven’t let my device discharged below 30 % as it aff...\\nREAD MORE',\n",
       " 'Can’t beat the software and hardware integration of apple.\\nPerforms like a beast. Great quality camera\\n6-7 hours screen on time which is good. Nothing much to complaint about the screen. Good connectivity speeds.\\nGreat buy and Flipkart’s delivery top notch as usual',\n",
       " 'beautiful shining, battery performance is too good.\\nonly the draw back is my expectations not meeted front cam but back cam is superb.',\n",
       " 'Gifted my man on his 30th birthday 🎂 He loves it.. Him happy so i am more than happy 😍😘❤️🥰',\n",
       " 'Here is the thing\\n\\nThe only reason why you should buy this phone is for the camera, iOS, and if you have headaches looking at AMOLED display.\\n\\nI’m not an avid gamer but watch a lot of movies on smartphone. However, my migraine attacks increased considerably after using AMOLED Smartphone. That’s why I made a calculated decision to buy iPhone 11. It has the best LCD display and the blacks, though not as natural as an AMOLED, is better than some of the other smartphones.\\n\\nAdding to this the ste...\\nREAD MORE',\n",
       " \"It was amazing experience for me. Honestly i am using iPhone first time so I don't have that much past experience about that. But after using 7 days this mobile i want to give some honest feedback.\\n1- Display 9 out of 10\\n2- Camera 9.5 out of 10\\n3- Battery 7 out of 10\\n4- Performance 9.5 out of 10\\n5- Features & Functions 10 out of 10\\n6- Outer looks and colour 10 out of 10\\nRest i think i will understand after using this for few months.\\nI will highly recommend you guys if you have budget then you...\\nREAD MORE\"]"
      ]
     },
     "execution_count": 1486,
     "metadata": {},
     "output_type": "execute_result"
    }
   ],
   "source": [
    "#we will get the full review text using for loop\n",
    "\n",
    "for i in review_tag:\n",
    "    review=i.text\n",
    "    full_review_list.append(review)\n",
    "full_review_list"
   ]
  },
  {
   "cell_type": "code",
   "execution_count": 1487,
   "id": "db652cd1",
   "metadata": {},
   "outputs": [],
   "source": [
    "#, go to the all review Button at the bottom ofthe page , then click on it.\n",
    "next_button=driver.find_element_by_xpath(\"/html/body/div[1]/div/div[3]/div/div/div[2]/div[13]/div/div/nav/a[12]\")\n",
    "next_button.click()"
   ]
  },
  {
   "cell_type": "code",
   "execution_count": 1488,
   "id": "97a59067",
   "metadata": {},
   "outputs": [
    {
     "data": {
      "text/plain": [
       "[<selenium.webdriver.remote.webelement.WebElement (session=\"21adad40789ed2d83ae180cc85aa07d7\", element=\"4aa1155b-2373-4f56-8457-cffd7ad79c83\")>,\n",
       " <selenium.webdriver.remote.webelement.WebElement (session=\"21adad40789ed2d83ae180cc85aa07d7\", element=\"117cf0ff-8062-4ff5-87d3-0e2288621332\")>,\n",
       " <selenium.webdriver.remote.webelement.WebElement (session=\"21adad40789ed2d83ae180cc85aa07d7\", element=\"0dabcc41-b857-4c37-bd9a-92ca16291c4c\")>,\n",
       " <selenium.webdriver.remote.webelement.WebElement (session=\"21adad40789ed2d83ae180cc85aa07d7\", element=\"bbdde8ba-f774-42e7-9425-0bf5d1fbedf2\")>,\n",
       " <selenium.webdriver.remote.webelement.WebElement (session=\"21adad40789ed2d83ae180cc85aa07d7\", element=\"c2d9a124-0d13-4f79-9571-78163482fb60\")>,\n",
       " <selenium.webdriver.remote.webelement.WebElement (session=\"21adad40789ed2d83ae180cc85aa07d7\", element=\"5c0edc07-6d77-4ddb-b410-04eb5e3efccd\")>,\n",
       " <selenium.webdriver.remote.webelement.WebElement (session=\"21adad40789ed2d83ae180cc85aa07d7\", element=\"fffa196e-58f2-4d8a-abaf-cceff6f75f87\")>,\n",
       " <selenium.webdriver.remote.webelement.WebElement (session=\"21adad40789ed2d83ae180cc85aa07d7\", element=\"1f292d16-7d2c-4aa4-9069-f3b7a625e258\")>,\n",
       " <selenium.webdriver.remote.webelement.WebElement (session=\"21adad40789ed2d83ae180cc85aa07d7\", element=\"da64f4b5-da9b-444f-8466-3c5f9b7a6599\")>,\n",
       " <selenium.webdriver.remote.webelement.WebElement (session=\"21adad40789ed2d83ae180cc85aa07d7\", element=\"28b37a1c-49e7-4ed3-861b-4791f65b3403\")>]"
      ]
     },
     "execution_count": 1488,
     "metadata": {},
     "output_type": "execute_result"
    }
   ],
   "source": [
    "#extract ratings\n",
    "rating_tag=driver.find_elements_by_xpath(\"//div[@class='_3LWZlK _1BLPMq'or @class='_3LWZlK _1rdVr6 _1BLPMq']\")\n",
    "rating_tag"
   ]
  },
  {
   "cell_type": "code",
   "execution_count": 1489,
   "id": "06afa5c8",
   "metadata": {},
   "outputs": [
    {
     "data": {
      "text/plain": [
       "['5',\n",
       " '5',\n",
       " '5',\n",
       " '5',\n",
       " '5',\n",
       " '5',\n",
       " '5',\n",
       " '4',\n",
       " '5',\n",
       " '5',\n",
       " '5',\n",
       " '5',\n",
       " '5',\n",
       " '5',\n",
       " '5',\n",
       " '5',\n",
       " '5',\n",
       " '5',\n",
       " '5',\n",
       " '5',\n",
       " '5',\n",
       " '5',\n",
       " '4',\n",
       " '5',\n",
       " '5',\n",
       " '5',\n",
       " '5',\n",
       " '4',\n",
       " '5',\n",
       " '5',\n",
       " '5',\n",
       " '5',\n",
       " '5',\n",
       " '5',\n",
       " '5',\n",
       " '5',\n",
       " '5',\n",
       " '5',\n",
       " '5',\n",
       " '4',\n",
       " '1',\n",
       " '5',\n",
       " '5',\n",
       " '5',\n",
       " '5',\n",
       " '5',\n",
       " '5',\n",
       " '5',\n",
       " '5',\n",
       " '5',\n",
       " '4',\n",
       " '5',\n",
       " '5',\n",
       " '5',\n",
       " '5',\n",
       " '4',\n",
       " '5',\n",
       " '5',\n",
       " '5',\n",
       " '5',\n",
       " '5',\n",
       " '5',\n",
       " '5',\n",
       " '3',\n",
       " '5',\n",
       " '5',\n",
       " '1',\n",
       " '5',\n",
       " '5',\n",
       " '5',\n",
       " '4',\n",
       " '5',\n",
       " '5',\n",
       " '5',\n",
       " '4',\n",
       " '5',\n",
       " '5',\n",
       " '5',\n",
       " '5',\n",
       " '4',\n",
       " '5',\n",
       " '1',\n",
       " '5',\n",
       " '5',\n",
       " '5',\n",
       " '5',\n",
       " '5',\n",
       " '5',\n",
       " '5',\n",
       " '5',\n",
       " '5',\n",
       " '5',\n",
       " '4',\n",
       " '5',\n",
       " '5',\n",
       " '5',\n",
       " '5',\n",
       " '5',\n",
       " '5',\n",
       " '4']"
      ]
     },
     "execution_count": 1489,
     "metadata": {},
     "output_type": "execute_result"
    }
   ],
   "source": [
    "#we will get the rating text using for loop\n",
    "\n",
    "for i in rating_tag:\n",
    "    rating=i.text\n",
    "    rating_list.append(rating)\n",
    "rating_list"
   ]
  },
  {
   "cell_type": "code",
   "execution_count": 1490,
   "id": "6eba8f4a",
   "metadata": {},
   "outputs": [
    {
     "data": {
      "text/plain": [
       "[<selenium.webdriver.remote.webelement.WebElement (session=\"21adad40789ed2d83ae180cc85aa07d7\", element=\"1f7a2a14-a2ec-4d89-8637-bbe4bb5c6822\")>,\n",
       " <selenium.webdriver.remote.webelement.WebElement (session=\"21adad40789ed2d83ae180cc85aa07d7\", element=\"21f62618-3319-4523-8568-3ed7edd75bd4\")>,\n",
       " <selenium.webdriver.remote.webelement.WebElement (session=\"21adad40789ed2d83ae180cc85aa07d7\", element=\"a7efeb8f-1c69-4f2e-a4f3-845d99a0d353\")>,\n",
       " <selenium.webdriver.remote.webelement.WebElement (session=\"21adad40789ed2d83ae180cc85aa07d7\", element=\"084335f0-cc19-4d70-a163-f66191a81a6d\")>,\n",
       " <selenium.webdriver.remote.webelement.WebElement (session=\"21adad40789ed2d83ae180cc85aa07d7\", element=\"47d69a4e-c324-4714-b131-0246931d6ca6\")>,\n",
       " <selenium.webdriver.remote.webelement.WebElement (session=\"21adad40789ed2d83ae180cc85aa07d7\", element=\"af15ad42-6c4c-45df-8ce9-c70dcd4eba99\")>,\n",
       " <selenium.webdriver.remote.webelement.WebElement (session=\"21adad40789ed2d83ae180cc85aa07d7\", element=\"ae06be2f-3da0-41dc-82ff-f1caf9f38340\")>,\n",
       " <selenium.webdriver.remote.webelement.WebElement (session=\"21adad40789ed2d83ae180cc85aa07d7\", element=\"79eb919b-07ee-44a5-8932-517b1a45f5eb\")>,\n",
       " <selenium.webdriver.remote.webelement.WebElement (session=\"21adad40789ed2d83ae180cc85aa07d7\", element=\"2bf267b7-8c56-4051-b470-7fcf81a4f9cf\")>,\n",
       " <selenium.webdriver.remote.webelement.WebElement (session=\"21adad40789ed2d83ae180cc85aa07d7\", element=\"fac3470a-6b88-46a9-bad6-fb56f3e2e27f\")>]"
      ]
     },
     "execution_count": 1490,
     "metadata": {},
     "output_type": "execute_result"
    }
   ],
   "source": [
    "#extract review summary\n",
    "review_summary_tag=driver.find_elements_by_xpath(\"//p[@class='_2-N8zT']\")\n",
    "review_summary_tag"
   ]
  },
  {
   "cell_type": "code",
   "execution_count": 1491,
   "id": "4e5e378a",
   "metadata": {},
   "outputs": [
    {
     "data": {
      "text/plain": [
       "['Brilliant',\n",
       " 'Simply awesome',\n",
       " 'Best in the market!',\n",
       " 'Perfect product!',\n",
       " 'Fabulous!',\n",
       " 'Worth every penny',\n",
       " 'Great product',\n",
       " 'Good choice',\n",
       " 'Highly recommended',\n",
       " 'Worth every penny',\n",
       " 'Highly recommended',\n",
       " 'Perfect product!',\n",
       " 'Perfect product!',\n",
       " 'Highly recommended',\n",
       " 'Worth every penny',\n",
       " 'Perfect product!',\n",
       " 'Worth every penny',\n",
       " 'Simply awesome',\n",
       " 'Classy product',\n",
       " 'Worth every penny',\n",
       " 'Wonderful',\n",
       " 'Terrific',\n",
       " 'Nice product',\n",
       " 'Perfect product!',\n",
       " 'Perfect product!',\n",
       " 'Classy product',\n",
       " 'Brilliant',\n",
       " 'Good choice',\n",
       " 'Great product',\n",
       " 'Must buy!',\n",
       " 'Perfect product!',\n",
       " 'Simply awesome',\n",
       " 'Wonderful',\n",
       " 'Terrific purchase',\n",
       " 'Terrific purchase',\n",
       " 'Great product',\n",
       " 'Mind-blowing purchase',\n",
       " 'Excellent',\n",
       " 'Simply awesome',\n",
       " 'Good quality product',\n",
       " 'Very poor',\n",
       " 'Perfect product!',\n",
       " 'Classy product',\n",
       " 'Fabulous!',\n",
       " 'Highly recommended',\n",
       " 'Must buy!',\n",
       " 'Fabulous!',\n",
       " 'Mind-blowing purchase',\n",
       " 'Wonderful',\n",
       " 'Must buy!',\n",
       " 'Very Good',\n",
       " 'Wonderful',\n",
       " 'Classy product',\n",
       " 'Just wow!',\n",
       " 'Awesome',\n",
       " 'Pretty good',\n",
       " 'Terrific purchase',\n",
       " 'Awesome',\n",
       " 'Classy product',\n",
       " 'Brilliant',\n",
       " 'Terrific',\n",
       " 'Perfect product!',\n",
       " 'Awesome',\n",
       " 'Does the job',\n",
       " 'Perfect product!',\n",
       " 'Highly recommended',\n",
       " 'Very poor',\n",
       " 'Fabulous!',\n",
       " 'Excellent',\n",
       " 'Must buy!',\n",
       " 'Value-for-money',\n",
       " 'Best in the market!',\n",
       " 'Brilliant',\n",
       " 'Terrific purchase',\n",
       " 'Good quality product',\n",
       " 'Terrific',\n",
       " 'Best in the market!',\n",
       " 'Perfect product!',\n",
       " 'Awesome',\n",
       " 'Value-for-money',\n",
       " 'Just wow!',\n",
       " 'Worthless',\n",
       " 'Super!',\n",
       " 'Mind-blowing purchase',\n",
       " 'Super!',\n",
       " 'Awesome',\n",
       " 'Mind-blowing purchase',\n",
       " 'Classy product',\n",
       " 'Worth every penny',\n",
       " 'Excellent',\n",
       " 'Just wow!',\n",
       " 'Wonderful',\n",
       " 'Nice product',\n",
       " 'Mind-blowing purchase',\n",
       " 'Terrific',\n",
       " 'Excellent',\n",
       " 'Mind-blowing purchase',\n",
       " 'Brilliant',\n",
       " 'Excellent',\n",
       " 'Pretty good']"
      ]
     },
     "execution_count": 1491,
     "metadata": {},
     "output_type": "execute_result"
    }
   ],
   "source": [
    "#we will get the review summary text using for loop\n",
    "\n",
    "for i in review_summary_tag:\n",
    "    summary=i.text\n",
    "    review_summary_list.append(summary)\n",
    "review_summary_list"
   ]
  },
  {
   "cell_type": "code",
   "execution_count": 1492,
   "id": "2404dc10",
   "metadata": {},
   "outputs": [
    {
     "data": {
      "text/plain": [
       "[<selenium.webdriver.remote.webelement.WebElement (session=\"21adad40789ed2d83ae180cc85aa07d7\", element=\"9c09fc3d-8251-4576-8cd1-77b188d80ec9\")>,\n",
       " <selenium.webdriver.remote.webelement.WebElement (session=\"21adad40789ed2d83ae180cc85aa07d7\", element=\"a2ff9350-8d71-428e-8c41-fcd0e9b88343\")>,\n",
       " <selenium.webdriver.remote.webelement.WebElement (session=\"21adad40789ed2d83ae180cc85aa07d7\", element=\"3dfb894b-c1c9-4617-a29f-826c14fb10e0\")>,\n",
       " <selenium.webdriver.remote.webelement.WebElement (session=\"21adad40789ed2d83ae180cc85aa07d7\", element=\"c643af55-b9a8-4c94-a340-c36eec261d1e\")>,\n",
       " <selenium.webdriver.remote.webelement.WebElement (session=\"21adad40789ed2d83ae180cc85aa07d7\", element=\"2b7f1287-cabd-4a8f-ac2d-35f82cde7e24\")>,\n",
       " <selenium.webdriver.remote.webelement.WebElement (session=\"21adad40789ed2d83ae180cc85aa07d7\", element=\"60ba9d38-0379-4265-b9c1-c30e0d1994c4\")>,\n",
       " <selenium.webdriver.remote.webelement.WebElement (session=\"21adad40789ed2d83ae180cc85aa07d7\", element=\"f3a7274e-bfa6-40e6-8455-accaa553a118\")>,\n",
       " <selenium.webdriver.remote.webelement.WebElement (session=\"21adad40789ed2d83ae180cc85aa07d7\", element=\"6d2816ae-1bd7-452e-932c-3e52d0e8a7d1\")>,\n",
       " <selenium.webdriver.remote.webelement.WebElement (session=\"21adad40789ed2d83ae180cc85aa07d7\", element=\"b1d9eb5b-176c-4e1c-8db0-d12a8279125d\")>,\n",
       " <selenium.webdriver.remote.webelement.WebElement (session=\"21adad40789ed2d83ae180cc85aa07d7\", element=\"6c4f754c-4fc5-4958-80d7-8a61c7c5f01b\")>]"
      ]
     },
     "execution_count": 1492,
     "metadata": {},
     "output_type": "execute_result"
    }
   ],
   "source": [
    "#extract  full review \n",
    "review_tag=driver.find_elements_by_xpath(\"//div[@class='t-ZTKy']\")\n",
    "review_tag"
   ]
  },
  {
   "cell_type": "code",
   "execution_count": 1493,
   "id": "45260afe",
   "metadata": {},
   "outputs": [
    {
     "data": {
      "text/plain": [
       "['The Best Phone for the Money\\n\\nThe iPhone 11 offers superb cameras, a more durable design and excellent battery life for an affordable price.\\n\\nCompelling ultra-wide camera\\nNew Night mode is excellent\\nLong battery life',\n",
       " 'Really satisfied with the Product I received... It’s totally genuine and the packaging was also really good so if ur planning to buy just go for it.',\n",
       " 'Great iPhone very snappy experience as apple kind. Upgraded from iPhone 7.\\nPros\\n-Camera top class\\n- Battery top performed\\n-Chipset no need to say as apple kind\\n-Security as you expect from apple\\n- Display super bright industry leading colour\\naccuracy and super responsive\\n-Build quality as expect from apple sturdy\\npremium durable beautiful stylish.\\n-Os most stable os in smartphone industry\\n\\nCons\\n-No 5G\\n-Display is not based on OLED technology\\n-Charger headphones and 1 apple stic...\\nREAD MORE',\n",
       " 'Amazing phone with great cameras and better battery which gives you the best performance. I just love the camera .',\n",
       " 'This is my first iOS phone. I am very happy with this product. Very much satisfied with this. I love this phone.',\n",
       " 'Previously I was using one plus 3t it was a great phone\\nAnd then I decided to upgrade I am stuck between Samsung s10 plus or iPhone 11\\nI have seen the specs and everything were good except the display it’s somewhere between 720-1080 and it’s not even an amoled it’s an LCD display\\nBut I decided to go with iPhone because I have never used an IOS device I have Been an android user from the past 9 years I ordered IPhone 11 (128gb) product red\\nMy experience after using 3 weeks\\n1. The delivery ...\\nREAD MORE',\n",
       " 'Amazing Powerful and Durable Gadget.\\n\\nI’m am very happy with the camera picture quality, Amazing face id unlocked in dark room, Strong battery with perfect screen size as you can carry easily in pocket. This is my third iPhone.\\n\\nI shifted from android Samsung Note series to iPhone because of the strong build quality and peace of mind for next 3-4 years.\\n\\nDon’t think to much just go for it and I suggest you to go for minimum 128gb variant or more 256gb.\\n\\nI’ve attached my puppy pics and no fi...\\nREAD MORE',\n",
       " 'So far it’s been an AMAZING experience coming back to iOS after nearly a decade but it’s not as versatile as android though phone is sturdy dropped it accidentally a couple of times and nothing happened fortunately camera is awesome',\n",
       " 'What a camera .....just awesome ..you can feel this iPhone just awesome . Good for gaming also ...try pubg in hd it’s just wow',\n",
       " 'i11 is worthy to buy, too much happy with the product. Thank u flipkart I received the item on time..loved it..',\n",
       " 'iphone 11 is a very good phone to buy only if you can compromise for the display. The display on this is device is pretty good but you can get other options with better displays in this price segment.\\nIf you can survive with an HD+ LCD panel with thicker bezels and a notch up top then this is a very good phone for you.\\nCameras are awesome, battery backup excellent, great performance and a decent premium look. Good job Apple !',\n",
       " 'It’s a must buy who is looking for an upgrade from previous generation of iPhones. If you are using XR then still you can hold on for sometime and upgrade to 2020 model else this phone is a must buy . Camera quality is amazing and wide angle is something to count upon. Performance wise it’s amazing and feels premium while holding in hand. So a big YES for this device. Go for 128 GB variant as the 4K videos will occupy lots of space and the storage can get over very quickly. Try to buy it with...\\nREAD MORE',\n",
       " 'Value for money❤️❤️\\nIts awesome mobile phone in the world ...\\nDisplay was very good and bright ..\\nTrust me freinds you r never regret after Buying..\\nJust go for it....\\nI love this phone and i switch to iphone x to 11',\n",
       " \"It's my first time to use iOS phone and I am loving my upgradation 😍😍 I love the color, I love the assebility of the phone....I need to learn more about its functionality, but as far as I have seen, it's quite easy and it has a lot of functions to work on, specially if you are a content writer or a blogger you get a lot of content creation platforms and they are really amazing.\\n\\nThis phone not only for good quality photography but a lot of other task too.😍💯\",\n",
       " 'Smooth like butter, camera like fantabulous, sound is crystal clear & its red color is damn attractive, i am just loving it. Must buy if you love photography.\\n\\nLucky to get it in sale, thank you Flipkart.',\n",
       " \"Iphone is just awesome.. battery backup is very very nice.. continuously for 10 hours we can use it.camera is just awesome.. display is just fab.i love it alot..i had to wait 15 days for it as i pre ordered it..overalll it's worth the price..these all images are clicked by my iPhone..and i love it.\",\n",
       " 'Best budget Iphone till date ❤️ go for it guys without second thought. Let me explain you guys about Camera, Display, battery, and performance.\\n\\nCamera: at this price range there is no comparison of camera, you’ll love the picture quality as well as video quality. I am a Vlogger I wanted an iPhone with 4k video by front camera and I got this phone and I am more than happy 😃\\n\\nBattery: I use this phone roughly as I am active social media person and I have a youtube channel. so the battery ba...\\nREAD MORE',\n",
       " 'Excellent camera, good performance, no lag. The lcd display is also good.. but difference come when we watch movie in prime and Netflix, the colours are not vibrant.. as we see in amoled display.. and the charger in box is of 5 watts.. takes more than 3 hours to charge from 0 to 100.. so guys be prepare to buy 18 watts charger . Finally I am an android user, it was my first Iapple phone, I promise u guys the iOS is so smooth.. overall the phone is damn good.... close eyes to buy it.. thanks t...\\nREAD MORE',\n",
       " 'Totally in love with this ❤ the camera quality is amazing just love it 😘😘😘 itsss dammnnnnnn amazing... Must buy iPhone 11 this is my best experience ever ☀👌👌🧡🧡🧡🧡🧡 thanku apple ❤',\n",
       " 'It’s been almost a month since I have been using this phone. I upgraded from an iPhone 8. The main issue with my 8 was battery and this phone is just awesome when it comes to battery. It lasts a day and a half for me with my regular use , internet connected always with 4g\\nCan’t move forward without saying this. Battery of this phone is a life saver when I am traveling or at work when I don’t get the option to charge\\nCamera is superb. Front cam selfies and back cam photos are just awesome.\\n...\\nREAD MORE',\n",
       " 'This is my first ever I phone. Before this I was using my google nexus 5. But moving from android to iOS is a great experience. It’s worth at this price. I will highly recommend it if you want to move to iOS. The best part of this phone is it’s camera and it’s battery life. This two things have won my heart. I loved it. Happy to have it in my hand. Still exploring its features. And can’t forget to mention Flipkart service. Very prompt service and fast delivery.',\n",
       " 'Really worth of money. i just love it. It is the best phone ever.',\n",
       " 'Awesome Phone. Slightly high price but worth. Better than iPhone XR.\\nCamera is superb and wide angle camera is very clear.\\n12MP selfie camera is also very good.\\nA13 Chip gives a very good and smooth performance.',\n",
       " 'It is just awesome mobile for this price from Apple,\\n\\nAfter 10 days review\\n\\nBattery enough for 1 day even 24*7 Internet will be on and mostly internet usage\\n\\nCamera is just awesome cool , android 64 MP is equal to this just 12 MP\\n\\nA13 Bionic chip will give more high performance without hanging\\n\\nAudio stereo speakers will give Dolby atoms sound with crystal clear\\n\\nVideo recording is like cinematic shots of every sec can be a 4K 60fps. Just awesome this phone\\niPhone 11 loved one',\n",
       " 'Battery backup is extraordinary, camera is decent & performance offered by A13 bionic is awsome. The display is good in practical usage like the visibility of display is very good in direct sun light compare to pro models. Iam extremely satisfied for the money I spent.',\n",
       " 'Superb Product !!!\\nA big and worthy upgrade from mi 3S to iphone 11 .\\nTotally loved it !',\n",
       " 'I have migrated from OP 7pro... and trust me, iPhone 11 is totally worth it.. following are the reasons:-\\n1)there is ABSOLUTELY NO ISSUE WITH THE DISPLAY... its crisp, sharp and I found it to be much much better than OP7 pro. Netflix, Prime video all run crisply... you won’t miss a thing. True Tone works flawlessly...the display brightness is perfect. OP have not calibrated their screens properly.\\n2) iPhone 11 series have really good cameras... others have spoken in depth about them.\\n3) bat...\\nREAD MORE',\n",
       " 'Looking so good 👍 😍 super 👌 stylish 😎 phone\\nClean box 📦 good 👍 delivery 👌 fast delivery\\nOriginal box Original iphone 📱 👌 😍😍😍',\n",
       " \"Again back to apple iphone after a gap of 2-3 years. It's pleasure to use iOS and the quality product by Apple. Iphone 11 still works like a beast in 2021 also. It really capable of doing day to day usage as well as hard core gaming. Battery is awesome. I'm really too much satisfied with it. Apart fto the very gorgious IPS LCD (AMOLED will be better) everything is mind boggling. Iphone💕.\",\n",
       " 'It’s an amazing product from apple and the camera is simply superb. Phone is faster.Night shot is simply superb and detailing and colour differentiation from camera is an added advantage\\n\\nThis review I have written from iPhone 11 only and I am glad to say outside.\\n\\nCons wise if we see HD+ display only, no battery percentage indicator as in older iPhone 8.\\nNo assistive touch control button in it\\nNo oleophobic coating on back panel glass and finger prints are visible but since I bought mint gr...\\nREAD MORE',\n",
       " 'After 1 month use I found camera quality best compared to my previous Samsung note 10+.Display not good as note 10 also charging too slow.Apple should add fast charger like 11 plus and pro.Best phone for daily use',\n",
       " \"It's very high performances devise i am like the service of flipkart delevary very fast and packing very nice perfect phone\",\n",
       " 'I just directly switch from iphone 6s to iphone 11 .The best premium smartphone I recommend to everyone. Excellent quality and colors the iphone have in 11 series.\\nCamera quality is just awesome and the major feel when we hold in our hands. The sound quality and volume is also higher then the previous models.\\nI will recommend to buy iphone 11 instead of pro models , there is nothing much difference as this model contains everything which fulfill our needs.\\n\\nOnly one thing that I dislike abo...\\nREAD MORE',\n",
       " 'Upgraded from iphone 6 to 11 best phone for iphone users battery is much better than other iphones camera is awesome love to use it.camera is so clear in night.',\n",
       " 'The built quality is not very premium.\\nThe battery back is great .\\nThe LCD panel is not so sharp but the brightness level is very High .\\nCamera is super duper awesome.\\nThe red colour which people think is bright is actually very soothing and excellent colour to choose from .\\nThe A13 Bionic chip is really a flagship processor and can beat any phone which even has 12 gb ram .\\nCamera module is very great and looks very stylish.',\n",
       " 'Well you all know the specifications . One of a kind. Best iPhone till date. Many enhancements to the camera app with many options. Love the glass body with matte finish in the lens area on the back. Lovely colours to choose from. Best battery in an iPhone till date, enough to last more than a day in normal usage. I tested my iPhone 11 battery and lasted for than 24 hours after full charge still with 30% battery charge left. Watched movies for some time. Normal usage on calls, browsing, musi...\\nREAD MORE',\n",
       " 'This will help you more. See if you are planning to buy iPhone 11. I will say. Yes. But there are some plans I just want to disclose before you buy. 1) If you are an existing iPhone X/XS/XS Max/ XR user, better you guys do not think it to buy. You guys have more or less better gadget. 2) If you are an android user and planning to buy premium phone. I will suggest them to please buy iPhone instead of buying an Android. I bet you will never go back to android after using IOS. Now I want to shar...\\nREAD MORE',\n",
       " 'Amazing camera and feel super machine I am not describe my feeling but this is amazing Phone I am so lucky I have this',\n",
       " 'Really good actually this is my first apple product am using its really awesome performance wise excellent. Am really happy with this iphone11',\n",
       " 'it is very good at performance. Camera is best like before and very smooth response even in water. Don’t buy 12 mini buy iPhone 11 , it is far better than 12 mini believe me ! Have a nice day \\uf8ff ☺️',\n",
       " 'Reviewing again after 5 months. At the beginning the battery and performance was good but it degraded soon. Also I was facing heating issues. The mobile will heat up like a stove sometimes. You cannot even play Pubg even in low settings properly, performance is not a problem but heating is. Also if you play that game for 10 mins the brightness will be automatically down due to over heating even when the auto brightness is set to off. This will not be solved even if u manually increase the bri...\\nREAD MORE',\n",
       " 'In love with this iphone great performance,camera ,battery everything. Go for it have a uncompareble battery backup, no doubts in iPhone camera here You can see the picture which is shot on my iPhone In love with this iphone great performance,camera ,battery everything. Go for it have a uncompareble battery backup, no doubts in iPhone camera here You can see the picture which is shot on my iPhone In love with this iphone great performance,camera ,battery everything. Go for it have a uncompare...\\nREAD MORE',\n",
       " 'We are on apple ecosystem for almost eight years now with couple of iPads and iPhones, including Xr.\\n\\nBought iPhone 11 as a gift to my daughter who loves it. We chose for a purple coloured one. Believe me it is gorgeous and towards the lighter shade. Dazzling and brilliant!\\n\\nThe phone is great and does excellent RAM management like any other Apple device.\\n\\nThe screen, though a LCD and lesser ppi as compared to other flagship phones of competitor brands, is a delight to watch with perfect re...\\nREAD MORE',\n",
       " 'Everything is perfect pictures come out so clearly and at first I wasn’t sure when I got it then when I started to use it and get the hang of it it was amazing!! I can’t wait to see what the next future phones will be like. The screen display on this bad boy are unbelievable they are so clear and never fail me. The performance is super cool there is a lot of cool features as well I like this phone because I feel that it is easy to use and one of my favorite things about this phone is the Face...\\nREAD MORE',\n",
       " 'Amazing camera quality as expected, battery also has very good performance. Display, body, and touch experience is the best I’ve ever had. Sound quality of speakers is more than sufficient. Apple is known for it’s customer friendly security services and I can see it how. The A13 processor is the best in its work. So I would definitely recommend it for everyone who are looking for it, just go for it without delay.\\n\\nThe most amazing thing it the delivery. Flipkart has delivered it in the span ...\\nREAD MORE',\n",
       " 'Best Apple iPhone that i have bought at a very reasonable price, camera quality is next level just awesome n of superior quality android phones not even close(RIP) to that and also battery is really good but packaging by Flipkart of iPhone was very poor of such a expensive product, firstly im bit worried about the quality of product if i purchased it through online how was the product but i think now this was mine best decision to bought it through Flipkart online because i got genuine Apple...\\nREAD MORE',\n",
       " \"I can say I'm damn impressed with iPhone 11. As they says iPhone 11 have the toughest glass ever in the smartphone which you'll find on the front and back and it's totally smooth. The fit and finish is full apple quality - there's no sense that any cheaping out has happened in the construction. Without saying it's camera features this review won't complete. The iPhone 11 has a dual camera system, consisting of a wide angle len's that's pretty much same as found on the iPhone XR last year, but...\\nREAD MORE\",\n",
       " 'Best Quality Product OF iPhone Series , Sound Quality & Camera quality is very awesome, Battery Life is very Sufficient for 24 hr Backup With Full Internet Access , I love this this Product too much , It is very fast & making me Very fast in all my daily Routine\\nHighlights;\\n1.Camera: 5 STAR\\n2.Video Recording: 5 star\\n3.Night mODE sHOOTING & Camera:4 star\\n4. Audio Quality: Awesome\\n5. Battery : 5 Star\\n6. Touch:5 Star\\n7. Processor: Very Fast\\nThe M...\\nREAD MORE',\n",
       " 'Superfast delivery by Flipkart. Thanks.\\n\\n1. iPhone 11 is a pretty solid phone for the money you are paying.\\n2. All the bad reviews about the display is confusing. It’s not that bad.\\n3. I switched from a Oneplus 7t. I have no complaints about the display quality of iPhone. Yes, it’s not OLED, so, we are missing on the deep blacks. But that’s it. It is a very colour accurate display. Gets adequately bright and I could not find any pixelation.\\n4. Performance is one of the best, if not best, in ...\\nREAD MORE',\n",
       " 'I rate this product 5* as it has got amazing user experience with the best performing A13 bionic processor. The screen responds and graphics rendering is top notch. With casual gaming and internet browsing, the battery lasts for approx. 1 day. Camera is very good. You will fall in love with the portrait mode. You can call me a loyal Apple customer or whatever but I won’t stop praising the products and overall experience. That user experience matters and is worth every penny you pay.\\n\\nBelow ar...\\nREAD MORE',\n",
       " 'impressive super phone and best in class camera ,sound and face unlock is super fast just see and phone is unlock and fast in daily apps use',\n",
       " 'Super and marvellous phone look very cute and nice sound. I love this phone i think white is good colur.Excellent camer 5*😍😘♥️♥️',\n",
       " 'Well while switching from android to iOS the first thing you need to be careful about is that you will loose all your whatsapp chat backups as both are different operating systems. Camera clarity is awesome and though being an lcd screen clarity and resolution is good. Battery backup is also good unlike previous gen iPhone. So far the experience is good will Padre after a few months of usage.\\n\\nP.S the black is more of a dark grey shade and not jet black',\n",
       " 'Best in class. Battery backup is good especially when you play games like Pubg COD. But it is sort of heavy when you hold in hands. Portrait mode is best to click pictures. Stage light effect is awesome. Try to click photos outside in nature because photos inside home or room will not give you the quality in any phone even in DSLR.',\n",
       " 'Very excited to have this phone. This phone has the real power unlike the android phones having SD 855 . The battery life is very good and the camera quality is excellent as comapred to redmi and other phones except google pixel. I M enjoying every single bit of it. Would recommed only if you have the budget.',\n",
       " 'I was using Iphone 6s and also Oneplus 6t. Both mobiles were perfectly alright in Photos, gaming, and smooth interface . My 6s mobile getting battery issue. thought upgrade to 11. Really like this mobile of its Internal storage (compare to 6s) , camera and its touch feeling. Its a worth buying mobile for me.',\n",
       " 'Its Very awesome product working and good camera quality and all about best product and also flipkart is very great deal and offer nice price',\n",
       " 'I am using this phone for 5 days and its one of the best camera out there ❤️ the screen is not oled and i am coming from iphone xs so its little bit not up to the mark i would say\\nBut overall value for money💕😍the battery back up is far better than my iphone xs and its worth in my apple ecosystem💫❤️if u are an apple User and have the eco system then go for it❤️though i will be getting the new iphone but its pretty good💫',\n",
       " 'Best and amazing product.....phone looks so premium.... battary is also good as expected .... Wide angle camera is so addictive ...if you are a IOS lover....then this phone will be the best choice for you all!!💯🔥',\n",
       " 'Excellent camera and display touching very nice and smooth very improvement against iPhone XR and new processor is very fast',\n",
       " \"I got this beast today. And I must say the picture quality of its camera is awesome. Both the cameras works fine.\\n\\nAs for as the processing is concerned, it runs without any lag. You can play and do whatever you want without a glitch.\\n\\nThe battery runs for a day with medium and high workload.\\n\\nThe display is good and the speakers are working fine.\\n\\nThe earphones doesn't have any base and you can use it for calling mostly.\\n\\nThe charging time is approximately for 90 minutes for full charging...\\nREAD MORE\",\n",
       " 'Awesome purchase. Amazing phone with good battery backup. It’s a top notch device. White colour looks amazing. Phone has a few extra feature than iPhone XR. Overall, this is value for money',\n",
       " 'Always love the apple products, upgraded from old iPhone 6S plus to this after having my first baby. I just love to click baby’s photos with it. Overall I just love this phone. Battery back up is okay, sound quality is good. Haven’t tested yet waterproof yet. Only one thing I hate is apple could have given charger & headphones in box.',\n",
       " \"phone is good but in display is 720p lcd in this price range we can get full hd OLED displays with higher refresh rate processor is very good camera is nice but looks kind of oldish in front of todays phone also there's no charging in box had to buy it seperately\",\n",
       " 'Value for money\\n5 star rating\\nExcellent camera\\nBattery backup full day in single charge.\\n\\nTougher and water resistant design, glossy back.\\nThe screen has excellent brightness and contrast.\\nApple A13 Bionic is the fastest smartphone chip on the planet.\\nExcellent battery life, fast charging support.\\nStereo speakers with great quality.',\n",
       " 'Thanks Flipkart For this amazing deal! I had a dream of owning a iphone since i had known about.\\nIm very happy with my purchase & it is totally worth it.\\nAmazing experience all over !!\\n\\nAnyone who’s thinking of buying it in 2021, i would simply say go for it without any second thoughts ❤️',\n",
       " 'Please DONT buy from here,\\n\\nI purchased Apple iPhone 11. with an exchange of IPhone 7, the exchange did not go well, iPhone 7 had a small scratch out side screen which i could never identify till date, but the FLIPKART person could, so he reduced 50% from exchange rate. I decided not to trade in, but paid money.\\n\\niPhone 11 Detail Below\\n---------------------------------------------\\nIt came with no charging, then i have put for charging, it took lot of time for charging, the phone also showe...\\nREAD MORE',\n",
       " 'awesome phone to have. it has got many smart features apart from mind blowing looks, camera, display, battery and sound. have fallen in love with this phone. must buy phone if you have got enough money. thanks to flipkart and apple of course..',\n",
       " 'Its a fabulous mobile look awesome performance unbeaten camera like dslr battery good i think this is a beast of mobile',\n",
       " 'Dear friends... I want to share my experience with you about this amazing I phone 11....this is my first iPhone and special things about this mobile is it has great camera, battery backup and awesome display.... I mean everything is perfect.loved it 👍👍👍',\n",
       " \"Just got this iphone 11\\nAnd it is most powerful mobile phone I have used ever\\n\\nSo,go for it if you want a phone with best specification like camera,battery backup,display, A13 bionic chip\\n\\nThat's my review about this phone but yours can be differ from me....\",\n",
       " \"The best all rounder iphone. Flipkart is doing a great job. They're delivery services are blazing fast. I got delivery on the same day. Genuine Apple Product. Working great. Talking about review There's no need of review for iphones. They're simply the best.\",\n",
       " 'Amazing phone and on great deal I received with super fast delivery by Flipkart...',\n",
       " 'finally an iPhone with very nice battery backup. update from iPhone 7 and happy to have it. camera is not up to the mark in low light but overall a recommended phone if your budget allows 😀',\n",
       " \"I'm switching this phone to oppo reno 10x zoom\\nIt's really impressive\\nRarely I'm missing smooth display touch response like oppo reno but\\nI really loved it.\\nCamera really impressive\",\n",
       " 'Simply Awesome\\n\\nI have upgraded from iPhone 7 to iPhone 11.\\n\\n3110 mah Battery is good. I am not a heavy gamer. For official purpose, this is better than 12 mini.\\n\\nTotally impressed with battery performance.',\n",
       " 'Damn this phone is a blast . Upgraded from android to ios and is a duperb experience. Battery backup is top notch and display also pretty good',\n",
       " 'Worth the money’ starting first from its performance it beats out all phones , second the smoothness of camera is awesome, contrast ratio is much than expected. Price will not matter if u r a quality person, if not other phones are available with better discount',\n",
       " 'I dreamt about this day from a long time.... Getting an iPhone with my own money.... Super happy and worth spending every penny',\n",
       " \"I'm Really happy with the product\\nDelivery was fast as well\\n..it was a gift for my sister and she loved it so much.\",\n",
       " 'Great iphone.\\nI am writing this review after 2 months of usage.\\nCamera is excellent, especially the nightmode\\nDisplay perfect\\nBattery backup awesome\\nSound quality very good\\nOverall Apple gives you a perfect iphone in this range.\\nReally in love with iPhone 11',\n",
       " \"Phone is awesome no doubt. But Camera & Display is not great. Performance is mind blowing.\\nBut the phone is heating too much when charging or when you regularly used. It's experience after using 1 week. It's heating extrem when I play PUBG for 30 minutes.\\nGo for iPhone 11 pro or 12. Otherwise go for Android phone you will get much better phone in less price.\",\n",
       " 'Did an upgrade from 6s plus to iphone 11.\\nAo far the experience is well and good. Felt smoother than 6s plus. The camera quality is superb. Battery backup is descent. Not a heavy user, and gets power more than a day. Go for it if you need an alrounder iphone in a competitve price.',\n",
       " 'First thanks to Flipkart for this amazing deal and phone is outstanding. I upgraded from iPhone 7 and this is like very big upgrade. But the packaging was very basic I expected a good packaging as they only wrapped one layer of bubble wrap which I don’t think is enough to protect this expensive phone. And I recommend this phone and seller as well.\\n\\nAnd I’m posting this review after using it for 4 days.',\n",
       " 'This is my first ever iPhone.\\nAnd I truly don’t regret switching to IOS from my Android.\\n\\nIt is easily an alternative to a DSLR camera.\\nIf you’re obsessed with photos and videos, just don’t think twice or don’t compare to other androids(Samsung S10 lite or OnePlus 8/8T), as it’s far better from them in every field.\\nComparing will only make you confused.\\n\\nI am getting an average Screen on Time of around 10 hours with 30 percent left. I haven’t let my device discharged below 30 % as it aff...\\nREAD MORE',\n",
       " 'Can’t beat the software and hardware integration of apple.\\nPerforms like a beast. Great quality camera\\n6-7 hours screen on time which is good. Nothing much to complaint about the screen. Good connectivity speeds.\\nGreat buy and Flipkart’s delivery top notch as usual',\n",
       " 'beautiful shining, battery performance is too good.\\nonly the draw back is my expectations not meeted front cam but back cam is superb.',\n",
       " 'Gifted my man on his 30th birthday 🎂 He loves it.. Him happy so i am more than happy 😍😘❤️🥰',\n",
       " 'Here is the thing\\n\\nThe only reason why you should buy this phone is for the camera, iOS, and if you have headaches looking at AMOLED display.\\n\\nI’m not an avid gamer but watch a lot of movies on smartphone. However, my migraine attacks increased considerably after using AMOLED Smartphone. That’s why I made a calculated decision to buy iPhone 11. It has the best LCD display and the blacks, though not as natural as an AMOLED, is better than some of the other smartphones.\\n\\nAdding to this the ste...\\nREAD MORE',\n",
       " \"It was amazing experience for me. Honestly i am using iPhone first time so I don't have that much past experience about that. But after using 7 days this mobile i want to give some honest feedback.\\n1- Display 9 out of 10\\n2- Camera 9.5 out of 10\\n3- Battery 7 out of 10\\n4- Performance 9.5 out of 10\\n5- Features & Functions 10 out of 10\\n6- Outer looks and colour 10 out of 10\\nRest i think i will understand after using this for few months.\\nI will highly recommend you guys if you have budget then you...\\nREAD MORE\",\n",
       " 'Not mere a phone , Its more than that for fun and enjoy life. Just grab it. Best luck',\n",
       " \"Ok, so after almost 3 years I am again back into Apple Ecosystem. Switching from Android to iOS has just one disadvantage imo, and that's you can't take your WhatsApp data restored to iOS. Everything starts fresh, pretty sad. I am so glad that I chose iPhone 11 over 12. With 5G nowhere in India for at least an year will have an added advantage to iPhone 11. Spending extra 25k just for A14 chipset and OLED display is not a clever choice. Anyways, a fantastic phone with everything fit perfectly...\\nREAD MORE\",\n",
       " \"If you are looking for a premium phone under 55k, this is the one for you.Got the iPhone 11 during the Republic day sale. Performance is top notch in this price range. Camera's do a perfect job in taking good quality photos and videos. Battery backup too is satisfactory. Writing this review after using for a week. Any further observations would be updated.\",\n",
       " 'awesome Phone Smooth Touch Too good Sexyy looks one word Awesome',\n",
       " 'I bought iPhone 11 On March 2021, And I am Writing this review after using the phone for 4 Months. I would Say Everything is fine, Top Performance, Nice Camera as Anyone would Expect from any series of iPhone but when the Question comes to Battery it is complicated. The Battery is fully optimised and it comes 3110 mAh capacity but the problem is with the charger. Honestly Apple Removed charger from in Box items in the name of Environment and they are also forcing us to buy any 20W PD 3rd part...\\nREAD MORE',\n",
       " \"Just go for it.\\nThis phone is really amazing. I ordered it for my wife and we click photos on this thing which are better than dslr. I own OnePlus 6t but it's camera sucks. iPhone is really amazing when it comes to camera. It's worth spending 50k on this. Cons- only display is lcd. While using u don't feel it but if u compare with other phone then u can see difference quite easily.\\nChanging from Android to iphone is bit difficult coz most of things u don't know but I liked it. Some of the a...\\nREAD MORE\",\n",
       " 'Excellent camera 📸 And Display touching very Nice And Smooth and very improvement against\\nI phone 11 and new processor is very fast',\n",
       " 'A wort full value for money decision it’s . Simply go for it in 2021 its still a good decision . Awesome camera , Super smothered performance, Heck of build quality. And Most important it protects your privacy.',\n",
       " 'A perfect phone and a good battery super camera and the sound is dynamic overall the phone is perfect for upgrading from lower iPhone model to iPhone 11',\n",
       " \"I've used this phone for over a month now and here are my takeaways.\\nI would like to first talk about the best things about this phone and then the cons of it.\\n\\nPros:\\nThis phone is a performance beast. It handles large games and applications effortlessly and you won't find any stutters or lags while playing graphic intensive games like pubg, cod , mortal kombat and asphalt.\\n\\nThis phone has only 4gb ram and yet the ram management is amazing, it can keep 3 heavy games in memory without reload...\\nREAD MORE\"]"
      ]
     },
     "execution_count": 1493,
     "metadata": {},
     "output_type": "execute_result"
    }
   ],
   "source": [
    "#we will get the full review text using for loop\n",
    "\n",
    "for i in review_tag:\n",
    "    review=i.text\n",
    "    full_review_list.append(review)\n",
    "full_review_list"
   ]
  },
  {
   "cell_type": "code",
   "execution_count": 1495,
   "id": "b28722b0",
   "metadata": {},
   "outputs": [],
   "source": [
    "#import pandas as pd\n",
    "reviews=pd.DataFrame({})\n",
    "reviews[\"Rating\"]=rating_list\n",
    "reviews[\"Review Summary\"]=review_summary_list\n",
    "reviews[\"Review\"]=full_review_list"
   ]
  },
  {
   "cell_type": "code",
   "execution_count": 1496,
   "id": "38c86ddc",
   "metadata": {},
   "outputs": [
    {
     "data": {
      "text/html": [
       "<div>\n",
       "<style scoped>\n",
       "    .dataframe tbody tr th:only-of-type {\n",
       "        vertical-align: middle;\n",
       "    }\n",
       "\n",
       "    .dataframe tbody tr th {\n",
       "        vertical-align: top;\n",
       "    }\n",
       "\n",
       "    .dataframe thead th {\n",
       "        text-align: right;\n",
       "    }\n",
       "</style>\n",
       "<table border=\"1\" class=\"dataframe\">\n",
       "  <thead>\n",
       "    <tr style=\"text-align: right;\">\n",
       "      <th></th>\n",
       "      <th>Rating</th>\n",
       "      <th>Review Summary</th>\n",
       "      <th>Review</th>\n",
       "    </tr>\n",
       "  </thead>\n",
       "  <tbody>\n",
       "    <tr>\n",
       "      <th>0</th>\n",
       "      <td>5</td>\n",
       "      <td>Brilliant</td>\n",
       "      <td>The Best Phone for the Money\\n\\nThe iPhone 11 ...</td>\n",
       "    </tr>\n",
       "    <tr>\n",
       "      <th>1</th>\n",
       "      <td>5</td>\n",
       "      <td>Simply awesome</td>\n",
       "      <td>Really satisfied with the Product I received.....</td>\n",
       "    </tr>\n",
       "    <tr>\n",
       "      <th>2</th>\n",
       "      <td>5</td>\n",
       "      <td>Best in the market!</td>\n",
       "      <td>Great iPhone very snappy experience as apple k...</td>\n",
       "    </tr>\n",
       "    <tr>\n",
       "      <th>3</th>\n",
       "      <td>5</td>\n",
       "      <td>Perfect product!</td>\n",
       "      <td>Amazing phone with great cameras and better ba...</td>\n",
       "    </tr>\n",
       "    <tr>\n",
       "      <th>4</th>\n",
       "      <td>5</td>\n",
       "      <td>Fabulous!</td>\n",
       "      <td>This is my first iOS phone. I am very happy wi...</td>\n",
       "    </tr>\n",
       "    <tr>\n",
       "      <th>...</th>\n",
       "      <td>...</td>\n",
       "      <td>...</td>\n",
       "      <td>...</td>\n",
       "    </tr>\n",
       "    <tr>\n",
       "      <th>95</th>\n",
       "      <td>5</td>\n",
       "      <td>Excellent</td>\n",
       "      <td>Just go for it.\\nThis phone is really amazing....</td>\n",
       "    </tr>\n",
       "    <tr>\n",
       "      <th>96</th>\n",
       "      <td>5</td>\n",
       "      <td>Mind-blowing purchase</td>\n",
       "      <td>Excellent camera 📸 And Display touching very N...</td>\n",
       "    </tr>\n",
       "    <tr>\n",
       "      <th>97</th>\n",
       "      <td>5</td>\n",
       "      <td>Brilliant</td>\n",
       "      <td>A wort full value for money decision it’s . Si...</td>\n",
       "    </tr>\n",
       "    <tr>\n",
       "      <th>98</th>\n",
       "      <td>5</td>\n",
       "      <td>Excellent</td>\n",
       "      <td>A perfect phone and a good battery super camer...</td>\n",
       "    </tr>\n",
       "    <tr>\n",
       "      <th>99</th>\n",
       "      <td>4</td>\n",
       "      <td>Pretty good</td>\n",
       "      <td>I've used this phone for over a month now and ...</td>\n",
       "    </tr>\n",
       "  </tbody>\n",
       "</table>\n",
       "<p>100 rows × 3 columns</p>\n",
       "</div>"
      ],
      "text/plain": [
       "   Rating         Review Summary  \\\n",
       "0       5              Brilliant   \n",
       "1       5         Simply awesome   \n",
       "2       5    Best in the market!   \n",
       "3       5       Perfect product!   \n",
       "4       5              Fabulous!   \n",
       "..    ...                    ...   \n",
       "95      5              Excellent   \n",
       "96      5  Mind-blowing purchase   \n",
       "97      5              Brilliant   \n",
       "98      5              Excellent   \n",
       "99      4            Pretty good   \n",
       "\n",
       "                                               Review  \n",
       "0   The Best Phone for the Money\\n\\nThe iPhone 11 ...  \n",
       "1   Really satisfied with the Product I received.....  \n",
       "2   Great iPhone very snappy experience as apple k...  \n",
       "3   Amazing phone with great cameras and better ba...  \n",
       "4   This is my first iOS phone. I am very happy wi...  \n",
       "..                                                ...  \n",
       "95  Just go for it.\\nThis phone is really amazing....  \n",
       "96  Excellent camera 📸 And Display touching very N...  \n",
       "97  A wort full value for money decision it’s . Si...  \n",
       "98  A perfect phone and a good battery super camer...  \n",
       "99  I've used this phone for over a month now and ...  \n",
       "\n",
       "[100 rows x 3 columns]"
      ]
     },
     "execution_count": 1496,
     "metadata": {},
     "output_type": "execute_result"
    }
   ],
   "source": [
    "reviews"
   ]
  },
  {
   "cell_type": "code",
   "execution_count": 1494,
   "id": "32612f48",
   "metadata": {},
   "outputs": [
    {
     "name": "stdout",
     "output_type": "stream",
     "text": [
      "100 100 100\n"
     ]
    }
   ],
   "source": [
    "print(len(rating_list), len(review_summary_list), len(full_review_list))"
   ]
  },
  {
   "cell_type": "markdown",
   "id": "c15a804f",
   "metadata": {},
   "source": [
    "# Scrape data for first 100 sneakers you find when you visit flipkart.com andsearch for “sneakers” in the\n",
    "search field.\n",
    "You have to scrape 4 attributes of each sneaker:\n",
    "1. Brand\n",
    "2. Product Description\n",
    "3. Price\n",
    "As shown in the below image, you have to scrape the tick marked attributes\n",
    "\n",
    "Note: All the steps required during scraping should be done through code only and not manually."
   ]
  },
  {
   "cell_type": "code",
   "execution_count": 302,
   "id": "1b701415",
   "metadata": {},
   "outputs": [],
   "source": [
    "driver=webdriver.Chrome(\"chromedriver.exe\")\n",
    "time.sleep(2)"
   ]
  },
  {
   "cell_type": "code",
   "execution_count": 303,
   "id": "1736b74d",
   "metadata": {},
   "outputs": [],
   "source": [
    "driver.get(\"https://www.flipkart.com/\")"
   ]
  },
  {
   "cell_type": "code",
   "execution_count": 304,
   "id": "b3132ff5",
   "metadata": {},
   "outputs": [],
   "source": [
    "brand_names_list_s=[]\n",
    "product_disc_list_s=[]\n",
    "price_list_s=[]\n",
    "discount_per_list_s=[]"
   ]
  },
  {
   "cell_type": "code",
   "execution_count": 305,
   "id": "99a3be42",
   "metadata": {},
   "outputs": [],
   "source": [
    "#finding elements for sunglasses \n",
    "search_field_designation=driver.find_element_by_class_name(\"_3704LK\")\n",
    "search_field_designation.send_keys(\"sneaker\")"
   ]
  },
  {
   "cell_type": "code",
   "execution_count": 306,
   "id": "725f8e27",
   "metadata": {},
   "outputs": [],
   "source": [
    "search_button=driver.find_element_by_xpath(\"/html/body/div[1]/div/div[1]/div[1]/div[2]/div[2]/form/div/button\")\n",
    "search_button.click()"
   ]
  },
  {
   "cell_type": "code",
   "execution_count": 307,
   "id": "c90dec11",
   "metadata": {},
   "outputs": [
    {
     "data": {
      "text/plain": [
       "[<selenium.webdriver.remote.webelement.WebElement (session=\"36b8a8e1fa934ccec9f4728feaccc917\", element=\"e5e5013d-4d5f-4fb2-b5f3-39fb46535049\")>,\n",
       " <selenium.webdriver.remote.webelement.WebElement (session=\"36b8a8e1fa934ccec9f4728feaccc917\", element=\"fa0159eb-0ce5-4fc2-acc0-564f42c75f60\")>,\n",
       " <selenium.webdriver.remote.webelement.WebElement (session=\"36b8a8e1fa934ccec9f4728feaccc917\", element=\"39dd0e58-0119-483f-b965-4b7ee3aa840a\")>,\n",
       " <selenium.webdriver.remote.webelement.WebElement (session=\"36b8a8e1fa934ccec9f4728feaccc917\", element=\"82b78022-4cfe-4c1f-b10b-a177e5f09bbd\")>,\n",
       " <selenium.webdriver.remote.webelement.WebElement (session=\"36b8a8e1fa934ccec9f4728feaccc917\", element=\"0ac7ed61-a2da-4082-8539-e0be2e2c7fef\")>,\n",
       " <selenium.webdriver.remote.webelement.WebElement (session=\"36b8a8e1fa934ccec9f4728feaccc917\", element=\"a82cd948-d9d2-4279-8956-69d757773b86\")>,\n",
       " <selenium.webdriver.remote.webelement.WebElement (session=\"36b8a8e1fa934ccec9f4728feaccc917\", element=\"0dae7fcd-af10-4408-8e31-cd215c7929cd\")>,\n",
       " <selenium.webdriver.remote.webelement.WebElement (session=\"36b8a8e1fa934ccec9f4728feaccc917\", element=\"9cd6de5b-669c-4cea-ab6b-9a74904b3566\")>,\n",
       " <selenium.webdriver.remote.webelement.WebElement (session=\"36b8a8e1fa934ccec9f4728feaccc917\", element=\"a7a1bcfa-c24f-4254-9dea-f145e0ece3ef\")>,\n",
       " <selenium.webdriver.remote.webelement.WebElement (session=\"36b8a8e1fa934ccec9f4728feaccc917\", element=\"44e87696-4d3c-4be8-8a6e-6701176c3b45\")>,\n",
       " <selenium.webdriver.remote.webelement.WebElement (session=\"36b8a8e1fa934ccec9f4728feaccc917\", element=\"d856c696-88f0-4d8f-8321-061488651b05\")>,\n",
       " <selenium.webdriver.remote.webelement.WebElement (session=\"36b8a8e1fa934ccec9f4728feaccc917\", element=\"d19857da-0603-4bfe-95a4-0d0639fd3855\")>,\n",
       " <selenium.webdriver.remote.webelement.WebElement (session=\"36b8a8e1fa934ccec9f4728feaccc917\", element=\"dff08b4a-b786-404c-8db9-f96cc4f19bc2\")>,\n",
       " <selenium.webdriver.remote.webelement.WebElement (session=\"36b8a8e1fa934ccec9f4728feaccc917\", element=\"50f4ee0b-2dd1-45fc-9019-5a3dc154b630\")>,\n",
       " <selenium.webdriver.remote.webelement.WebElement (session=\"36b8a8e1fa934ccec9f4728feaccc917\", element=\"731a2cb4-81c3-49de-8833-f4fd85ecea7f\")>,\n",
       " <selenium.webdriver.remote.webelement.WebElement (session=\"36b8a8e1fa934ccec9f4728feaccc917\", element=\"f6b29e4a-5aca-4774-8432-8d744455d362\")>,\n",
       " <selenium.webdriver.remote.webelement.WebElement (session=\"36b8a8e1fa934ccec9f4728feaccc917\", element=\"08742e65-1d9e-454c-96ef-a25bc940f84f\")>,\n",
       " <selenium.webdriver.remote.webelement.WebElement (session=\"36b8a8e1fa934ccec9f4728feaccc917\", element=\"c841ee16-52d0-42ef-b40e-946b5f838f2e\")>,\n",
       " <selenium.webdriver.remote.webelement.WebElement (session=\"36b8a8e1fa934ccec9f4728feaccc917\", element=\"4c319e0c-cb56-4128-a93f-4439e78083b1\")>,\n",
       " <selenium.webdriver.remote.webelement.WebElement (session=\"36b8a8e1fa934ccec9f4728feaccc917\", element=\"7c446863-9a5b-41ba-a201-0ff3ec2aca4e\")>,\n",
       " <selenium.webdriver.remote.webelement.WebElement (session=\"36b8a8e1fa934ccec9f4728feaccc917\", element=\"2da992ff-656b-42fb-a10b-21d73b5e3900\")>,\n",
       " <selenium.webdriver.remote.webelement.WebElement (session=\"36b8a8e1fa934ccec9f4728feaccc917\", element=\"74a25eca-95c9-45dc-b660-c21e6fc24ccd\")>,\n",
       " <selenium.webdriver.remote.webelement.WebElement (session=\"36b8a8e1fa934ccec9f4728feaccc917\", element=\"368c6a0d-6818-4637-be93-a1408f7de9ae\")>,\n",
       " <selenium.webdriver.remote.webelement.WebElement (session=\"36b8a8e1fa934ccec9f4728feaccc917\", element=\"84bebdc1-bcc4-4df7-90b5-acd7bb60ac93\")>,\n",
       " <selenium.webdriver.remote.webelement.WebElement (session=\"36b8a8e1fa934ccec9f4728feaccc917\", element=\"6c32f43b-c52e-450d-91dc-e68fdb10c46a\")>,\n",
       " <selenium.webdriver.remote.webelement.WebElement (session=\"36b8a8e1fa934ccec9f4728feaccc917\", element=\"52e35ad1-4d54-4004-9314-69a917af722d\")>,\n",
       " <selenium.webdriver.remote.webelement.WebElement (session=\"36b8a8e1fa934ccec9f4728feaccc917\", element=\"44aaf4a3-5312-49bf-ae26-2f16c0ccff56\")>,\n",
       " <selenium.webdriver.remote.webelement.WebElement (session=\"36b8a8e1fa934ccec9f4728feaccc917\", element=\"d890b0b4-a426-4818-b6eb-f025b5c5eac8\")>,\n",
       " <selenium.webdriver.remote.webelement.WebElement (session=\"36b8a8e1fa934ccec9f4728feaccc917\", element=\"c64f9a13-bae0-44b8-918a-e84397cb68d2\")>,\n",
       " <selenium.webdriver.remote.webelement.WebElement (session=\"36b8a8e1fa934ccec9f4728feaccc917\", element=\"e6f39ce6-ee5a-4c4d-9c00-4c7b8a6d9f14\")>,\n",
       " <selenium.webdriver.remote.webelement.WebElement (session=\"36b8a8e1fa934ccec9f4728feaccc917\", element=\"9bed3065-a4ac-46b2-a914-6b3f6676cc4b\")>,\n",
       " <selenium.webdriver.remote.webelement.WebElement (session=\"36b8a8e1fa934ccec9f4728feaccc917\", element=\"33124fae-615b-42db-a176-4522c95d9998\")>,\n",
       " <selenium.webdriver.remote.webelement.WebElement (session=\"36b8a8e1fa934ccec9f4728feaccc917\", element=\"06e74bed-3aa3-4dff-9416-e9196e32abc7\")>,\n",
       " <selenium.webdriver.remote.webelement.WebElement (session=\"36b8a8e1fa934ccec9f4728feaccc917\", element=\"78af3473-8ea8-4ecf-8a58-02c63ffffdc0\")>,\n",
       " <selenium.webdriver.remote.webelement.WebElement (session=\"36b8a8e1fa934ccec9f4728feaccc917\", element=\"21ad5fe2-26ca-4444-99fd-5203bce14d6c\")>,\n",
       " <selenium.webdriver.remote.webelement.WebElement (session=\"36b8a8e1fa934ccec9f4728feaccc917\", element=\"877a527a-d262-473e-b0ee-72a6e15ebfc5\")>,\n",
       " <selenium.webdriver.remote.webelement.WebElement (session=\"36b8a8e1fa934ccec9f4728feaccc917\", element=\"750f22f2-4f02-4773-8174-08c9d9f6d60f\")>,\n",
       " <selenium.webdriver.remote.webelement.WebElement (session=\"36b8a8e1fa934ccec9f4728feaccc917\", element=\"0f32261a-7a69-4b79-9c69-558d22f047b9\")>,\n",
       " <selenium.webdriver.remote.webelement.WebElement (session=\"36b8a8e1fa934ccec9f4728feaccc917\", element=\"9af7185c-68f0-4303-a5ed-81668cb61da4\")>,\n",
       " <selenium.webdriver.remote.webelement.WebElement (session=\"36b8a8e1fa934ccec9f4728feaccc917\", element=\"d579b281-8923-47a1-9304-b9f22f9c980b\")>]"
      ]
     },
     "execution_count": 307,
     "metadata": {},
     "output_type": "execute_result"
    }
   ],
   "source": [
    "#extract brand names\n",
    "brand_names=driver.find_elements_by_xpath(\"//div[@class='_2WkVRV']\")\n",
    "brand_names"
   ]
  },
  {
   "cell_type": "code",
   "execution_count": 308,
   "id": "75fbe6bc",
   "metadata": {},
   "outputs": [
    {
     "data": {
      "text/plain": [
       "['ADIDAS',\n",
       " 'HIGHLANDER',\n",
       " 'URBANBOX',\n",
       " 'corsac',\n",
       " 'D-SNEAKERZ',\n",
       " 'Chevit',\n",
       " 'aadi',\n",
       " 'SHELBY',\n",
       " 'World Wear Footwear',\n",
       " 'BRUTON',\n",
       " 'Magnolia',\n",
       " 'HIGHLANDER',\n",
       " 'KWIK FIT',\n",
       " 'World Wear Footwear',\n",
       " 'ASTEROID',\n",
       " 'HIGHLANDER',\n",
       " 'Labbin',\n",
       " 'Chevit',\n",
       " 'PUMA',\n",
       " 'HIGHLANDER',\n",
       " 'World Wear Footwear',\n",
       " 'aadi',\n",
       " 'SCATCHITE',\n",
       " 'HIGHLANDER',\n",
       " 'ASTEROID',\n",
       " 'Kraasa',\n",
       " 'BIRDE',\n",
       " 'HIGHLANDER',\n",
       " 'BIRDE',\n",
       " 'BRUTON',\n",
       " 'BRUTON',\n",
       " 'Bacan',\n",
       " 'BRUTON',\n",
       " 'D-SNEAKERZ',\n",
       " 'Layasa',\n",
       " 'Layasa',\n",
       " 'CLYMB',\n",
       " 'Kraasa',\n",
       " 'Airland',\n",
       " 'HIGHLANDER']"
      ]
     },
     "execution_count": 308,
     "metadata": {},
     "output_type": "execute_result"
    }
   ],
   "source": [
    "#we will get the brand name text using for loop\n",
    "\n",
    "for i in brand_names:\n",
    "    brand=i.text\n",
    "    brand_names_list_s.append(brand)\n",
    "brand_names_list_s"
   ]
  },
  {
   "cell_type": "code",
   "execution_count": 309,
   "id": "ad8be2b5",
   "metadata": {},
   "outputs": [
    {
     "data": {
      "text/plain": [
       "[<selenium.webdriver.remote.webelement.WebElement (session=\"36b8a8e1fa934ccec9f4728feaccc917\", element=\"f4e0391a-3fcb-477f-ad9e-1841d384cad9\")>,\n",
       " <selenium.webdriver.remote.webelement.WebElement (session=\"36b8a8e1fa934ccec9f4728feaccc917\", element=\"7b48d528-5a7c-4fe1-813a-b8f7e8de008e\")>,\n",
       " <selenium.webdriver.remote.webelement.WebElement (session=\"36b8a8e1fa934ccec9f4728feaccc917\", element=\"2ec131ce-1449-4177-8ecc-25cabff4a4d0\")>,\n",
       " <selenium.webdriver.remote.webelement.WebElement (session=\"36b8a8e1fa934ccec9f4728feaccc917\", element=\"531ad2f7-74db-417a-8784-1b09cdd2d1b3\")>,\n",
       " <selenium.webdriver.remote.webelement.WebElement (session=\"36b8a8e1fa934ccec9f4728feaccc917\", element=\"5cebda8d-fc57-4efd-909d-d315b4f77877\")>,\n",
       " <selenium.webdriver.remote.webelement.WebElement (session=\"36b8a8e1fa934ccec9f4728feaccc917\", element=\"4edbfb52-0abc-4a4c-bd39-13e05176981e\")>,\n",
       " <selenium.webdriver.remote.webelement.WebElement (session=\"36b8a8e1fa934ccec9f4728feaccc917\", element=\"4d541440-82ba-4c1c-9cd3-0a24dd53336e\")>,\n",
       " <selenium.webdriver.remote.webelement.WebElement (session=\"36b8a8e1fa934ccec9f4728feaccc917\", element=\"43228bcc-14bc-4a1d-a483-c167b8f2e9ea\")>,\n",
       " <selenium.webdriver.remote.webelement.WebElement (session=\"36b8a8e1fa934ccec9f4728feaccc917\", element=\"430dcc5a-78dc-405d-8157-7839d5f21708\")>,\n",
       " <selenium.webdriver.remote.webelement.WebElement (session=\"36b8a8e1fa934ccec9f4728feaccc917\", element=\"2c10a0f0-08ae-49c4-9856-2bd95d0b5331\")>,\n",
       " <selenium.webdriver.remote.webelement.WebElement (session=\"36b8a8e1fa934ccec9f4728feaccc917\", element=\"09c0a038-4767-444c-ac88-1ac5c9291ae7\")>,\n",
       " <selenium.webdriver.remote.webelement.WebElement (session=\"36b8a8e1fa934ccec9f4728feaccc917\", element=\"68f66d48-bb3c-442f-ac82-17940358e846\")>,\n",
       " <selenium.webdriver.remote.webelement.WebElement (session=\"36b8a8e1fa934ccec9f4728feaccc917\", element=\"581dd0f1-ddc3-4d80-b4d6-4db3ddccc6d5\")>,\n",
       " <selenium.webdriver.remote.webelement.WebElement (session=\"36b8a8e1fa934ccec9f4728feaccc917\", element=\"e27de0e8-a2e1-4c6f-bfe5-05973800b861\")>,\n",
       " <selenium.webdriver.remote.webelement.WebElement (session=\"36b8a8e1fa934ccec9f4728feaccc917\", element=\"8b9f307c-d516-4fe8-a06e-5c4e9029adb0\")>,\n",
       " <selenium.webdriver.remote.webelement.WebElement (session=\"36b8a8e1fa934ccec9f4728feaccc917\", element=\"37db6a90-7202-48d1-a965-becf9cbc2e2d\")>,\n",
       " <selenium.webdriver.remote.webelement.WebElement (session=\"36b8a8e1fa934ccec9f4728feaccc917\", element=\"60d97bbf-9876-4462-80dc-3b009563f7d2\")>,\n",
       " <selenium.webdriver.remote.webelement.WebElement (session=\"36b8a8e1fa934ccec9f4728feaccc917\", element=\"71d1cef7-4028-43f8-8246-eb0f1a964d8b\")>,\n",
       " <selenium.webdriver.remote.webelement.WebElement (session=\"36b8a8e1fa934ccec9f4728feaccc917\", element=\"53263892-4ed8-442c-8f45-e5b517a49fb1\")>,\n",
       " <selenium.webdriver.remote.webelement.WebElement (session=\"36b8a8e1fa934ccec9f4728feaccc917\", element=\"4de042bb-e779-46e8-88c1-4c450ab2d6ef\")>,\n",
       " <selenium.webdriver.remote.webelement.WebElement (session=\"36b8a8e1fa934ccec9f4728feaccc917\", element=\"78b9bc04-8dcf-4972-acb3-7cde961483ec\")>,\n",
       " <selenium.webdriver.remote.webelement.WebElement (session=\"36b8a8e1fa934ccec9f4728feaccc917\", element=\"ef51b5c9-1b46-4dc8-8fb7-e6ce93c11213\")>,\n",
       " <selenium.webdriver.remote.webelement.WebElement (session=\"36b8a8e1fa934ccec9f4728feaccc917\", element=\"1f0124ea-f0df-4d10-a02a-986e2e15d740\")>,\n",
       " <selenium.webdriver.remote.webelement.WebElement (session=\"36b8a8e1fa934ccec9f4728feaccc917\", element=\"f64aa309-f3af-4066-825f-211b2b4c7244\")>,\n",
       " <selenium.webdriver.remote.webelement.WebElement (session=\"36b8a8e1fa934ccec9f4728feaccc917\", element=\"09fd4988-fa45-48eb-b48b-d0da1f630b94\")>,\n",
       " <selenium.webdriver.remote.webelement.WebElement (session=\"36b8a8e1fa934ccec9f4728feaccc917\", element=\"7444dcca-7050-40c8-a6b6-33f04fac8cb4\")>,\n",
       " <selenium.webdriver.remote.webelement.WebElement (session=\"36b8a8e1fa934ccec9f4728feaccc917\", element=\"59b3122c-7ae3-4b0e-8a2a-9a09d311a87f\")>,\n",
       " <selenium.webdriver.remote.webelement.WebElement (session=\"36b8a8e1fa934ccec9f4728feaccc917\", element=\"5943b81e-96cb-4ef2-a946-69c7a9e8c2fb\")>,\n",
       " <selenium.webdriver.remote.webelement.WebElement (session=\"36b8a8e1fa934ccec9f4728feaccc917\", element=\"913453c7-b388-44fa-a3a9-39860d4a0e26\")>,\n",
       " <selenium.webdriver.remote.webelement.WebElement (session=\"36b8a8e1fa934ccec9f4728feaccc917\", element=\"c164fc39-b519-4e31-8b88-ccb2c60b1c23\")>,\n",
       " <selenium.webdriver.remote.webelement.WebElement (session=\"36b8a8e1fa934ccec9f4728feaccc917\", element=\"4d7f1681-3317-471b-85d5-9807c9fd74f7\")>,\n",
       " <selenium.webdriver.remote.webelement.WebElement (session=\"36b8a8e1fa934ccec9f4728feaccc917\", element=\"261aa1a5-15ce-484f-a364-446a3bb02a97\")>,\n",
       " <selenium.webdriver.remote.webelement.WebElement (session=\"36b8a8e1fa934ccec9f4728feaccc917\", element=\"f3402815-7ed7-4bbe-962b-7757dbeaff8f\")>,\n",
       " <selenium.webdriver.remote.webelement.WebElement (session=\"36b8a8e1fa934ccec9f4728feaccc917\", element=\"87d5ab1f-078e-4061-92f9-315b1d61519d\")>,\n",
       " <selenium.webdriver.remote.webelement.WebElement (session=\"36b8a8e1fa934ccec9f4728feaccc917\", element=\"c638abd6-fff6-473d-ac49-87929a072fa5\")>,\n",
       " <selenium.webdriver.remote.webelement.WebElement (session=\"36b8a8e1fa934ccec9f4728feaccc917\", element=\"20a01279-4425-460d-9a93-e928c1db7a74\")>,\n",
       " <selenium.webdriver.remote.webelement.WebElement (session=\"36b8a8e1fa934ccec9f4728feaccc917\", element=\"c7bae7da-c716-4c39-8a68-480b26adbb61\")>]"
      ]
     },
     "execution_count": 309,
     "metadata": {},
     "output_type": "execute_result"
    }
   ],
   "source": [
    "#extract product-disc\n",
    "product_disc=driver.find_elements_by_xpath(\"//a[@class='IRpwTa']\")\n",
    "product_disc"
   ]
  },
  {
   "cell_type": "code",
   "execution_count": 310,
   "id": "a49a048e",
   "metadata": {},
   "outputs": [
    {
     "data": {
      "text/plain": [
       "['Easy Vulc 2.0 Sneakers For Men',\n",
       " 'Sneakers For Men',\n",
       " 'STYLISH MENS BLACK SNEAKER Sneakers For Men',\n",
       " \"Casual , Partywear Sneakers Shoes For Men's And Boys Wh...\",\n",
       " '516 Trendy Star Perfect Sneakers For Men',\n",
       " 'Sneakers For Men',\n",
       " '5011-Latest Collection Stylish & Trendy Casual Sneakers...',\n",
       " 'Modern Trendy Sneakers Shoes Sneakers For Men',\n",
       " 'Sneakers For Men',\n",
       " 'Sneakers For Men',\n",
       " 'Kwik FIT casual sneaker shoes and partywear shoes Casua...',\n",
       " '5013-Latest Collection Stylish & Trendy of casuals Snea...',\n",
       " \"Original Luxury Branded Fashionable Men's Casual Walkin...\",\n",
       " 'Sneakers For Men',\n",
       " 'Sneakers For Men',\n",
       " 'Perfect Combo Pack of 03 Pairs Casual Sneakers Outdoor ...',\n",
       " 'Blend Sneakers For Men',\n",
       " 'Sneakers For Men',\n",
       " 'Men 5014 Latest Collection Stylish Casual Sports Loafer...',\n",
       " 'Sneakers For Men',\n",
       " 'Sneakers Sneakers For Men',\n",
       " 'Original Luxury Branded Black Fancy Casual Walking Part...',\n",
       " 'Casuals, Canvas, Partywear Sneakers For Men',\n",
       " 'Stylish Comfortable Lightweight, Breathable Walking Sho...',\n",
       " 'Sneakers For Men',\n",
       " 'Sports Running Shoes Sneakers For Men',\n",
       " 'Sneaker Sneakers For Men',\n",
       " 'Combo Pack Of 4 Casual Shoes Loafer Shoes Sneakers For ...',\n",
       " 'White Sneakers For Men',\n",
       " 'Lightweight Pack Of 1 Trendy Sneakers Sneakers Sneakers...',\n",
       " \"Casual , Partywear Sneakers Shoes For Men's And Boys Wh...\",\n",
       " 'Sneakers For Men',\n",
       " 'Sneakers For Men',\n",
       " 'Sneakers For Men',\n",
       " 'Series 7 Sneakers For Men',\n",
       " '1259 smart black lace-ups sneakers for men Sneakers For...',\n",
       " 'Sneakers For Men']"
      ]
     },
     "execution_count": 310,
     "metadata": {},
     "output_type": "execute_result"
    }
   ],
   "source": [
    "#we will get the product disc text using for loop\n",
    "\n",
    "for i in product_disc:\n",
    "    product=i.text\n",
    "    product_disc_list_s.append(product)\n",
    "product_disc_list_s"
   ]
  },
  {
   "cell_type": "code",
   "execution_count": 311,
   "id": "cfa5d987",
   "metadata": {},
   "outputs": [
    {
     "data": {
      "text/plain": [
       "[<selenium.webdriver.remote.webelement.WebElement (session=\"36b8a8e1fa934ccec9f4728feaccc917\", element=\"c3454e4b-622e-43f7-b804-33d631447d3e\")>,\n",
       " <selenium.webdriver.remote.webelement.WebElement (session=\"36b8a8e1fa934ccec9f4728feaccc917\", element=\"cac46c45-f5b7-4508-a777-f4d9a4587767\")>,\n",
       " <selenium.webdriver.remote.webelement.WebElement (session=\"36b8a8e1fa934ccec9f4728feaccc917\", element=\"cfda3a20-7198-445a-9852-f016f21e2f72\")>,\n",
       " <selenium.webdriver.remote.webelement.WebElement (session=\"36b8a8e1fa934ccec9f4728feaccc917\", element=\"c9eee573-cb5e-424c-a4b3-7fafa3b30198\")>,\n",
       " <selenium.webdriver.remote.webelement.WebElement (session=\"36b8a8e1fa934ccec9f4728feaccc917\", element=\"913c9263-3009-4b22-9bab-e74f831c15e1\")>,\n",
       " <selenium.webdriver.remote.webelement.WebElement (session=\"36b8a8e1fa934ccec9f4728feaccc917\", element=\"7e4e7eca-185d-49ca-a2f0-cc70c92b38d9\")>,\n",
       " <selenium.webdriver.remote.webelement.WebElement (session=\"36b8a8e1fa934ccec9f4728feaccc917\", element=\"0ca3c293-91fd-4a3d-96f9-795f03a11437\")>,\n",
       " <selenium.webdriver.remote.webelement.WebElement (session=\"36b8a8e1fa934ccec9f4728feaccc917\", element=\"fcc9b3d0-de2a-468a-b510-e1faf839b91c\")>,\n",
       " <selenium.webdriver.remote.webelement.WebElement (session=\"36b8a8e1fa934ccec9f4728feaccc917\", element=\"6cc7fa86-01c6-4e62-8113-d690e669d149\")>,\n",
       " <selenium.webdriver.remote.webelement.WebElement (session=\"36b8a8e1fa934ccec9f4728feaccc917\", element=\"c0a1482a-8c1a-4d95-ae0e-06c2f8ac53e9\")>,\n",
       " <selenium.webdriver.remote.webelement.WebElement (session=\"36b8a8e1fa934ccec9f4728feaccc917\", element=\"ffe53f20-ddfb-441b-9fc9-6b7eeabe2b4e\")>,\n",
       " <selenium.webdriver.remote.webelement.WebElement (session=\"36b8a8e1fa934ccec9f4728feaccc917\", element=\"c541de90-9aa6-4fad-a83b-a20b197d5e13\")>,\n",
       " <selenium.webdriver.remote.webelement.WebElement (session=\"36b8a8e1fa934ccec9f4728feaccc917\", element=\"ee2b7eef-b5f0-4184-96ac-c149ac7dc78a\")>,\n",
       " <selenium.webdriver.remote.webelement.WebElement (session=\"36b8a8e1fa934ccec9f4728feaccc917\", element=\"b99c52da-fd0a-46b1-9b2f-18adbb867261\")>,\n",
       " <selenium.webdriver.remote.webelement.WebElement (session=\"36b8a8e1fa934ccec9f4728feaccc917\", element=\"9740cc28-3dad-4634-8242-75d7b95f9b7b\")>,\n",
       " <selenium.webdriver.remote.webelement.WebElement (session=\"36b8a8e1fa934ccec9f4728feaccc917\", element=\"cc06ec6a-1534-4ac6-915e-743eca0ee3ea\")>,\n",
       " <selenium.webdriver.remote.webelement.WebElement (session=\"36b8a8e1fa934ccec9f4728feaccc917\", element=\"69565180-0b1a-4df1-b98c-3b2f8ec1b560\")>,\n",
       " <selenium.webdriver.remote.webelement.WebElement (session=\"36b8a8e1fa934ccec9f4728feaccc917\", element=\"f91e443f-636f-4b8f-b95a-7e22e6bfb25e\")>,\n",
       " <selenium.webdriver.remote.webelement.WebElement (session=\"36b8a8e1fa934ccec9f4728feaccc917\", element=\"5ad57088-c4d2-47aa-85c9-d590bda15b6f\")>,\n",
       " <selenium.webdriver.remote.webelement.WebElement (session=\"36b8a8e1fa934ccec9f4728feaccc917\", element=\"8f0583f6-e1b9-4af2-8a35-af73f7374b61\")>,\n",
       " <selenium.webdriver.remote.webelement.WebElement (session=\"36b8a8e1fa934ccec9f4728feaccc917\", element=\"969b903d-a224-47d2-b5b0-5f235e8d8eed\")>,\n",
       " <selenium.webdriver.remote.webelement.WebElement (session=\"36b8a8e1fa934ccec9f4728feaccc917\", element=\"b0622f3e-053a-4110-b06a-6639b1c52a23\")>,\n",
       " <selenium.webdriver.remote.webelement.WebElement (session=\"36b8a8e1fa934ccec9f4728feaccc917\", element=\"96ee4443-f48d-4186-91e9-660503d97987\")>,\n",
       " <selenium.webdriver.remote.webelement.WebElement (session=\"36b8a8e1fa934ccec9f4728feaccc917\", element=\"9da6a141-01a4-46c4-bc26-c8e6fecb92f8\")>,\n",
       " <selenium.webdriver.remote.webelement.WebElement (session=\"36b8a8e1fa934ccec9f4728feaccc917\", element=\"3593b49a-054c-409f-9f39-31bd2947703f\")>,\n",
       " <selenium.webdriver.remote.webelement.WebElement (session=\"36b8a8e1fa934ccec9f4728feaccc917\", element=\"086d2d21-9eb6-4003-bb4d-80741ec88cb4\")>,\n",
       " <selenium.webdriver.remote.webelement.WebElement (session=\"36b8a8e1fa934ccec9f4728feaccc917\", element=\"362561c7-0f4e-4bf3-9e2e-60ed664839e2\")>,\n",
       " <selenium.webdriver.remote.webelement.WebElement (session=\"36b8a8e1fa934ccec9f4728feaccc917\", element=\"98e650ae-46f5-448b-a1a4-f439be635bd0\")>,\n",
       " <selenium.webdriver.remote.webelement.WebElement (session=\"36b8a8e1fa934ccec9f4728feaccc917\", element=\"157e92a4-51dd-42a5-8aa2-737e7b0bf2da\")>,\n",
       " <selenium.webdriver.remote.webelement.WebElement (session=\"36b8a8e1fa934ccec9f4728feaccc917\", element=\"ea76f737-271c-4167-a94f-b4b89d3be630\")>,\n",
       " <selenium.webdriver.remote.webelement.WebElement (session=\"36b8a8e1fa934ccec9f4728feaccc917\", element=\"09b5832e-02a7-4975-b9ae-57df725c5f29\")>,\n",
       " <selenium.webdriver.remote.webelement.WebElement (session=\"36b8a8e1fa934ccec9f4728feaccc917\", element=\"620a441d-d71b-437a-b1ed-b21c90f02528\")>,\n",
       " <selenium.webdriver.remote.webelement.WebElement (session=\"36b8a8e1fa934ccec9f4728feaccc917\", element=\"43dc852a-6027-4eff-994b-1ba31c132705\")>,\n",
       " <selenium.webdriver.remote.webelement.WebElement (session=\"36b8a8e1fa934ccec9f4728feaccc917\", element=\"c13209a0-03a0-4448-bb7a-ea37d265853f\")>,\n",
       " <selenium.webdriver.remote.webelement.WebElement (session=\"36b8a8e1fa934ccec9f4728feaccc917\", element=\"f619a71c-17c5-494b-88eb-d9f17acc2a5d\")>,\n",
       " <selenium.webdriver.remote.webelement.WebElement (session=\"36b8a8e1fa934ccec9f4728feaccc917\", element=\"b79295af-7fb4-48f4-a82e-753d6659d6f5\")>,\n",
       " <selenium.webdriver.remote.webelement.WebElement (session=\"36b8a8e1fa934ccec9f4728feaccc917\", element=\"c2299d17-5db6-4ce4-a16a-f6abbbaff466\")>,\n",
       " <selenium.webdriver.remote.webelement.WebElement (session=\"36b8a8e1fa934ccec9f4728feaccc917\", element=\"5e5363fb-1e60-47ac-a4d5-3c3ef6eb3683\")>,\n",
       " <selenium.webdriver.remote.webelement.WebElement (session=\"36b8a8e1fa934ccec9f4728feaccc917\", element=\"3bd71080-fe60-4773-aa65-cd53b09c4164\")>,\n",
       " <selenium.webdriver.remote.webelement.WebElement (session=\"36b8a8e1fa934ccec9f4728feaccc917\", element=\"d1779e44-6e8b-4fe8-9ccf-114586b021b7\")>]"
      ]
     },
     "execution_count": 311,
     "metadata": {},
     "output_type": "execute_result"
    }
   ],
   "source": [
    "#extract price\n",
    "price_tag=driver.find_elements_by_xpath(\"//div[@class='_30jeq3']\")\n",
    "price_tag"
   ]
  },
  {
   "cell_type": "code",
   "execution_count": 312,
   "id": "d66e6e23",
   "metadata": {},
   "outputs": [
    {
     "data": {
      "text/plain": [
       "['₹1,612',\n",
       " '₹945',\n",
       " '₹158',\n",
       " '₹449',\n",
       " '₹249',\n",
       " '₹249',\n",
       " '₹269',\n",
       " '₹499',\n",
       " '₹199',\n",
       " '₹249',\n",
       " '₹422',\n",
       " '₹945',\n",
       " '₹349',\n",
       " '₹192',\n",
       " '₹499',\n",
       " '₹746',\n",
       " '₹424',\n",
       " '₹565',\n",
       " '₹1,758',\n",
       " '₹669',\n",
       " '₹199',\n",
       " '₹269',\n",
       " '₹348',\n",
       " '₹746',\n",
       " '₹499',\n",
       " '₹421',\n",
       " '₹301',\n",
       " '₹746',\n",
       " '₹301',\n",
       " '₹301',\n",
       " '₹449',\n",
       " '₹449',\n",
       " '₹151',\n",
       " '₹384',\n",
       " '₹399',\n",
       " '₹399',\n",
       " '₹599',\n",
       " '₹421',\n",
       " '₹159',\n",
       " '₹945']"
      ]
     },
     "execution_count": 312,
     "metadata": {},
     "output_type": "execute_result"
    }
   ],
   "source": [
    "#we will get the price using for loop\n",
    "\n",
    "for i in price_tag:\n",
    "    price=i.text\n",
    "    price_list_s.append(price)\n",
    "price_list_s"
   ]
  },
  {
   "cell_type": "code",
   "execution_count": 313,
   "id": "0d52fb2e",
   "metadata": {},
   "outputs": [
    {
     "data": {
      "text/plain": [
       "[<selenium.webdriver.remote.webelement.WebElement (session=\"36b8a8e1fa934ccec9f4728feaccc917\", element=\"bf52ab79-937d-4804-86a6-ebf7c9dcb368\")>,\n",
       " <selenium.webdriver.remote.webelement.WebElement (session=\"36b8a8e1fa934ccec9f4728feaccc917\", element=\"3b7e91af-cd09-4417-820f-3565149c46ca\")>,\n",
       " <selenium.webdriver.remote.webelement.WebElement (session=\"36b8a8e1fa934ccec9f4728feaccc917\", element=\"00738e0d-2cdc-43f7-be4a-c6dfbc74b088\")>,\n",
       " <selenium.webdriver.remote.webelement.WebElement (session=\"36b8a8e1fa934ccec9f4728feaccc917\", element=\"6d2e6031-3487-4f1b-81ad-a4f1c4faa330\")>,\n",
       " <selenium.webdriver.remote.webelement.WebElement (session=\"36b8a8e1fa934ccec9f4728feaccc917\", element=\"df3b4411-7481-475e-bb44-5269413ce930\")>,\n",
       " <selenium.webdriver.remote.webelement.WebElement (session=\"36b8a8e1fa934ccec9f4728feaccc917\", element=\"11aa0e46-8c31-4c2c-9e1c-af6b57dba9f2\")>,\n",
       " <selenium.webdriver.remote.webelement.WebElement (session=\"36b8a8e1fa934ccec9f4728feaccc917\", element=\"14691eed-3d1e-4265-8b98-a5251255926a\")>,\n",
       " <selenium.webdriver.remote.webelement.WebElement (session=\"36b8a8e1fa934ccec9f4728feaccc917\", element=\"68989995-360d-483d-93f1-2a8ea647525d\")>,\n",
       " <selenium.webdriver.remote.webelement.WebElement (session=\"36b8a8e1fa934ccec9f4728feaccc917\", element=\"352763a3-4096-40d0-905d-4a6bce1607e5\")>,\n",
       " <selenium.webdriver.remote.webelement.WebElement (session=\"36b8a8e1fa934ccec9f4728feaccc917\", element=\"7d9b606e-792d-4fc3-b58b-340e6c88a9e3\")>,\n",
       " <selenium.webdriver.remote.webelement.WebElement (session=\"36b8a8e1fa934ccec9f4728feaccc917\", element=\"285a7657-1dd7-48b7-895b-3a2543be80fc\")>,\n",
       " <selenium.webdriver.remote.webelement.WebElement (session=\"36b8a8e1fa934ccec9f4728feaccc917\", element=\"78b75675-d8d7-4048-bd23-879ea25edd01\")>,\n",
       " <selenium.webdriver.remote.webelement.WebElement (session=\"36b8a8e1fa934ccec9f4728feaccc917\", element=\"d163666d-3619-40b8-b1c6-38ec9825d0e8\")>,\n",
       " <selenium.webdriver.remote.webelement.WebElement (session=\"36b8a8e1fa934ccec9f4728feaccc917\", element=\"ad189c12-e1ae-47c6-9c9b-cdc5bcf3417f\")>,\n",
       " <selenium.webdriver.remote.webelement.WebElement (session=\"36b8a8e1fa934ccec9f4728feaccc917\", element=\"a9d72340-22e1-40ca-aaba-6f30b8574fcc\")>,\n",
       " <selenium.webdriver.remote.webelement.WebElement (session=\"36b8a8e1fa934ccec9f4728feaccc917\", element=\"6c7ea7ae-a125-4407-9cd4-49744baa9c53\")>,\n",
       " <selenium.webdriver.remote.webelement.WebElement (session=\"36b8a8e1fa934ccec9f4728feaccc917\", element=\"dcb9124a-5cf5-47d8-91a6-b768b2a80236\")>,\n",
       " <selenium.webdriver.remote.webelement.WebElement (session=\"36b8a8e1fa934ccec9f4728feaccc917\", element=\"5df8ec25-886d-4a67-b9f6-36c0c33ebb2e\")>,\n",
       " <selenium.webdriver.remote.webelement.WebElement (session=\"36b8a8e1fa934ccec9f4728feaccc917\", element=\"20081224-a03f-44f7-883c-7cd12771e7d7\")>,\n",
       " <selenium.webdriver.remote.webelement.WebElement (session=\"36b8a8e1fa934ccec9f4728feaccc917\", element=\"b573eb7d-b55f-42b2-a64f-4039c5605a5d\")>,\n",
       " <selenium.webdriver.remote.webelement.WebElement (session=\"36b8a8e1fa934ccec9f4728feaccc917\", element=\"9bb59612-a627-4a8d-ab25-6a316c5e964f\")>,\n",
       " <selenium.webdriver.remote.webelement.WebElement (session=\"36b8a8e1fa934ccec9f4728feaccc917\", element=\"5b9564a8-7428-4f27-a548-646ec687622d\")>,\n",
       " <selenium.webdriver.remote.webelement.WebElement (session=\"36b8a8e1fa934ccec9f4728feaccc917\", element=\"dbaa7327-c4ec-4b1b-a347-eb16e5e1d198\")>,\n",
       " <selenium.webdriver.remote.webelement.WebElement (session=\"36b8a8e1fa934ccec9f4728feaccc917\", element=\"c1e63eee-813d-4c25-ac26-6a7731d4889c\")>,\n",
       " <selenium.webdriver.remote.webelement.WebElement (session=\"36b8a8e1fa934ccec9f4728feaccc917\", element=\"57477d26-6858-4a8b-89a2-fbcc6c0cfef4\")>,\n",
       " <selenium.webdriver.remote.webelement.WebElement (session=\"36b8a8e1fa934ccec9f4728feaccc917\", element=\"3eb9bd8d-caf6-4e52-a326-7feadac2e70a\")>,\n",
       " <selenium.webdriver.remote.webelement.WebElement (session=\"36b8a8e1fa934ccec9f4728feaccc917\", element=\"981f9244-fdfa-4ea6-baef-46d5403b96c8\")>,\n",
       " <selenium.webdriver.remote.webelement.WebElement (session=\"36b8a8e1fa934ccec9f4728feaccc917\", element=\"f8e7b5a2-1a96-4ac6-bdb5-60e981dcd9f8\")>,\n",
       " <selenium.webdriver.remote.webelement.WebElement (session=\"36b8a8e1fa934ccec9f4728feaccc917\", element=\"dd0dcbca-a980-4e9c-9b82-c599cd8d126b\")>,\n",
       " <selenium.webdriver.remote.webelement.WebElement (session=\"36b8a8e1fa934ccec9f4728feaccc917\", element=\"c577cd43-86f0-45d9-ae58-971009d222f4\")>,\n",
       " <selenium.webdriver.remote.webelement.WebElement (session=\"36b8a8e1fa934ccec9f4728feaccc917\", element=\"05df3385-2b23-4f33-b3e8-d3f72306fb3d\")>,\n",
       " <selenium.webdriver.remote.webelement.WebElement (session=\"36b8a8e1fa934ccec9f4728feaccc917\", element=\"d257d02f-886f-46cc-ae8b-6ad6c153d3ee\")>,\n",
       " <selenium.webdriver.remote.webelement.WebElement (session=\"36b8a8e1fa934ccec9f4728feaccc917\", element=\"6b14209c-d15c-4a7b-a597-e5c48875b077\")>,\n",
       " <selenium.webdriver.remote.webelement.WebElement (session=\"36b8a8e1fa934ccec9f4728feaccc917\", element=\"6d1196fa-4699-4efd-a0d3-16ebe1fda0cc\")>,\n",
       " <selenium.webdriver.remote.webelement.WebElement (session=\"36b8a8e1fa934ccec9f4728feaccc917\", element=\"322f8eaa-acf9-4e99-8a6f-871463e02cd4\")>,\n",
       " <selenium.webdriver.remote.webelement.WebElement (session=\"36b8a8e1fa934ccec9f4728feaccc917\", element=\"a91fd584-b93b-4da1-8378-778d6df7a231\")>,\n",
       " <selenium.webdriver.remote.webelement.WebElement (session=\"36b8a8e1fa934ccec9f4728feaccc917\", element=\"01dbe7ed-5dbd-4547-a948-77eb58f9267c\")>,\n",
       " <selenium.webdriver.remote.webelement.WebElement (session=\"36b8a8e1fa934ccec9f4728feaccc917\", element=\"f68bf62f-49aa-4014-9ce5-5ecffd6de5bb\")>,\n",
       " <selenium.webdriver.remote.webelement.WebElement (session=\"36b8a8e1fa934ccec9f4728feaccc917\", element=\"5b0d1f79-a7a2-4fd2-bfc6-5f1d704dfa35\")>,\n",
       " <selenium.webdriver.remote.webelement.WebElement (session=\"36b8a8e1fa934ccec9f4728feaccc917\", element=\"a948e71e-0001-4d25-8223-3d9c8d44b36c\")>]"
      ]
     },
     "execution_count": 313,
     "metadata": {},
     "output_type": "execute_result"
    }
   ],
   "source": [
    "#extract discount\n",
    "discount_tag=driver.find_elements_by_xpath(\"//div[@class='_3Ay6Sb']/span[1]\")\n",
    "discount_tag"
   ]
  },
  {
   "cell_type": "code",
   "execution_count": 314,
   "id": "d3b0b1d3",
   "metadata": {},
   "outputs": [
    {
     "data": {
      "text/plain": [
       "['59% off',\n",
       " '52% off',\n",
       " '84% off',\n",
       " '70% off',\n",
       " '62% off',\n",
       " '68% off',\n",
       " '73% off',\n",
       " '61% off',\n",
       " '60% off',\n",
       " '80% off',\n",
       " '57% off',\n",
       " '52% off',\n",
       " '82% off',\n",
       " '61% off',\n",
       " '75% off',\n",
       " '62% off',\n",
       " '57% off',\n",
       " '75% off',\n",
       " '41% off',\n",
       " '44% off',\n",
       " '60% off',\n",
       " '73% off',\n",
       " '65% off',\n",
       " '62% off',\n",
       " '50% off',\n",
       " '57% off',\n",
       " '69% off',\n",
       " '62% off',\n",
       " '69% off',\n",
       " '76% off',\n",
       " '87% off',\n",
       " '55% off',\n",
       " '74% off',\n",
       " '61% off',\n",
       " '60% off',\n",
       " '60% off',\n",
       " '60% off',\n",
       " '57% off',\n",
       " '68% off',\n",
       " '52% off']"
      ]
     },
     "execution_count": 314,
     "metadata": {},
     "output_type": "execute_result"
    }
   ],
   "source": [
    "#we will get the discount text using for loop\n",
    "\n",
    "for i in discount_tag:\n",
    "    discount=i.text\n",
    "    discount_per_list_s.append(discount)\n",
    "discount_per_list_s"
   ]
  },
  {
   "cell_type": "code",
   "execution_count": 315,
   "id": "d7fe4a2c",
   "metadata": {},
   "outputs": [],
   "source": [
    "#, go to the “Next” Button at the bottom ofthe page , then click on it.\n",
    "next_button=driver.find_element_by_xpath(\"/html/body/div[1]/div/div[3]/div[1]/div[2]/div[12]/div/div/nav/a[11]\")\n",
    "next_button.click()"
   ]
  },
  {
   "cell_type": "code",
   "execution_count": 316,
   "id": "a81a6512",
   "metadata": {},
   "outputs": [
    {
     "data": {
      "text/plain": [
       "[<selenium.webdriver.remote.webelement.WebElement (session=\"36b8a8e1fa934ccec9f4728feaccc917\", element=\"5f688706-7cdf-4bf8-be3c-b8d3dc4c24d1\")>,\n",
       " <selenium.webdriver.remote.webelement.WebElement (session=\"36b8a8e1fa934ccec9f4728feaccc917\", element=\"e70a5ce4-173c-41e1-91ad-85de622cf06e\")>,\n",
       " <selenium.webdriver.remote.webelement.WebElement (session=\"36b8a8e1fa934ccec9f4728feaccc917\", element=\"a19b0e43-f808-44a0-ab19-3e11c4899c8f\")>,\n",
       " <selenium.webdriver.remote.webelement.WebElement (session=\"36b8a8e1fa934ccec9f4728feaccc917\", element=\"3ce32673-4f58-46b6-bf85-e58a3e108fce\")>,\n",
       " <selenium.webdriver.remote.webelement.WebElement (session=\"36b8a8e1fa934ccec9f4728feaccc917\", element=\"06eec08b-e552-47e8-b737-236be47323bb\")>,\n",
       " <selenium.webdriver.remote.webelement.WebElement (session=\"36b8a8e1fa934ccec9f4728feaccc917\", element=\"f3d2803e-9b37-42a1-b371-978b6eddfa6c\")>,\n",
       " <selenium.webdriver.remote.webelement.WebElement (session=\"36b8a8e1fa934ccec9f4728feaccc917\", element=\"e4464d21-d8a9-4653-b01e-5068d919ccdd\")>,\n",
       " <selenium.webdriver.remote.webelement.WebElement (session=\"36b8a8e1fa934ccec9f4728feaccc917\", element=\"865fb5ff-edf5-41c8-b939-e8827fa82709\")>,\n",
       " <selenium.webdriver.remote.webelement.WebElement (session=\"36b8a8e1fa934ccec9f4728feaccc917\", element=\"242f3f45-49ac-42ff-bcf6-3a9d9ee1a0a2\")>,\n",
       " <selenium.webdriver.remote.webelement.WebElement (session=\"36b8a8e1fa934ccec9f4728feaccc917\", element=\"1addc4ad-fdab-42ac-8997-b8d94bb746a6\")>,\n",
       " <selenium.webdriver.remote.webelement.WebElement (session=\"36b8a8e1fa934ccec9f4728feaccc917\", element=\"0d80938b-b70b-412e-ba95-fe9dee8ba8d9\")>,\n",
       " <selenium.webdriver.remote.webelement.WebElement (session=\"36b8a8e1fa934ccec9f4728feaccc917\", element=\"c7635907-6822-4069-b22f-68724e599d07\")>,\n",
       " <selenium.webdriver.remote.webelement.WebElement (session=\"36b8a8e1fa934ccec9f4728feaccc917\", element=\"5a26ab0f-d1f3-4521-8ac6-a7e4249a5a67\")>,\n",
       " <selenium.webdriver.remote.webelement.WebElement (session=\"36b8a8e1fa934ccec9f4728feaccc917\", element=\"cf55b1fa-04ac-4c10-8ead-c0a6cb120d9e\")>,\n",
       " <selenium.webdriver.remote.webelement.WebElement (session=\"36b8a8e1fa934ccec9f4728feaccc917\", element=\"bebfe75d-4f04-4351-8e8e-88da112b7d34\")>,\n",
       " <selenium.webdriver.remote.webelement.WebElement (session=\"36b8a8e1fa934ccec9f4728feaccc917\", element=\"b382398e-0e15-4e76-8703-99287a3784eb\")>,\n",
       " <selenium.webdriver.remote.webelement.WebElement (session=\"36b8a8e1fa934ccec9f4728feaccc917\", element=\"bfe9826e-052a-48b0-b36e-1137a9ccb24f\")>,\n",
       " <selenium.webdriver.remote.webelement.WebElement (session=\"36b8a8e1fa934ccec9f4728feaccc917\", element=\"3028e513-d428-46fa-a61b-f6d8664fcda8\")>,\n",
       " <selenium.webdriver.remote.webelement.WebElement (session=\"36b8a8e1fa934ccec9f4728feaccc917\", element=\"92d79979-397c-4f52-a5cd-6d534d0e11d1\")>,\n",
       " <selenium.webdriver.remote.webelement.WebElement (session=\"36b8a8e1fa934ccec9f4728feaccc917\", element=\"2733734b-9385-48ee-a75d-37b822651302\")>,\n",
       " <selenium.webdriver.remote.webelement.WebElement (session=\"36b8a8e1fa934ccec9f4728feaccc917\", element=\"721393c8-6e10-4c83-801b-a5b6ed547478\")>,\n",
       " <selenium.webdriver.remote.webelement.WebElement (session=\"36b8a8e1fa934ccec9f4728feaccc917\", element=\"e5280ffb-998d-4630-a54a-346092a6c788\")>,\n",
       " <selenium.webdriver.remote.webelement.WebElement (session=\"36b8a8e1fa934ccec9f4728feaccc917\", element=\"f31e1da8-68b5-45f2-a5ad-5468e1da5fc8\")>,\n",
       " <selenium.webdriver.remote.webelement.WebElement (session=\"36b8a8e1fa934ccec9f4728feaccc917\", element=\"3b17b5fd-c604-4ff8-9b55-842acb927d78\")>,\n",
       " <selenium.webdriver.remote.webelement.WebElement (session=\"36b8a8e1fa934ccec9f4728feaccc917\", element=\"d1da28d4-9b15-4e63-8417-dd0bef366aa2\")>,\n",
       " <selenium.webdriver.remote.webelement.WebElement (session=\"36b8a8e1fa934ccec9f4728feaccc917\", element=\"f002b0ad-cb29-43cf-9cd0-4f94abd30425\")>,\n",
       " <selenium.webdriver.remote.webelement.WebElement (session=\"36b8a8e1fa934ccec9f4728feaccc917\", element=\"6a8eb320-3253-4183-9391-4c42265bd46b\")>,\n",
       " <selenium.webdriver.remote.webelement.WebElement (session=\"36b8a8e1fa934ccec9f4728feaccc917\", element=\"dd66be35-af84-4a39-9560-46c998c57c65\")>,\n",
       " <selenium.webdriver.remote.webelement.WebElement (session=\"36b8a8e1fa934ccec9f4728feaccc917\", element=\"7fce3997-9472-41e7-8314-fa4faee22956\")>,\n",
       " <selenium.webdriver.remote.webelement.WebElement (session=\"36b8a8e1fa934ccec9f4728feaccc917\", element=\"363b5884-1500-42b6-803c-b0d0696d8bb1\")>,\n",
       " <selenium.webdriver.remote.webelement.WebElement (session=\"36b8a8e1fa934ccec9f4728feaccc917\", element=\"1b36de67-a8e4-44e5-a085-2a130d41a709\")>,\n",
       " <selenium.webdriver.remote.webelement.WebElement (session=\"36b8a8e1fa934ccec9f4728feaccc917\", element=\"b2f3c708-de0c-4037-afd5-7b626c6e7868\")>,\n",
       " <selenium.webdriver.remote.webelement.WebElement (session=\"36b8a8e1fa934ccec9f4728feaccc917\", element=\"8d006e0a-1216-4d99-ac4b-0850f597c344\")>,\n",
       " <selenium.webdriver.remote.webelement.WebElement (session=\"36b8a8e1fa934ccec9f4728feaccc917\", element=\"97319596-3938-449e-bee7-76e3021afc49\")>,\n",
       " <selenium.webdriver.remote.webelement.WebElement (session=\"36b8a8e1fa934ccec9f4728feaccc917\", element=\"3abb84d5-21dc-4de3-817a-c1da8c665438\")>,\n",
       " <selenium.webdriver.remote.webelement.WebElement (session=\"36b8a8e1fa934ccec9f4728feaccc917\", element=\"c42a2c99-7c30-48a2-a33f-6124ef83d3f5\")>,\n",
       " <selenium.webdriver.remote.webelement.WebElement (session=\"36b8a8e1fa934ccec9f4728feaccc917\", element=\"37023f92-6551-4356-adce-71f91939cad4\")>,\n",
       " <selenium.webdriver.remote.webelement.WebElement (session=\"36b8a8e1fa934ccec9f4728feaccc917\", element=\"b1d3c5e5-4495-4e85-98fb-4dfba2cfa5ce\")>,\n",
       " <selenium.webdriver.remote.webelement.WebElement (session=\"36b8a8e1fa934ccec9f4728feaccc917\", element=\"d7d03625-8e30-45cb-b10f-ce8c44e4e1e9\")>,\n",
       " <selenium.webdriver.remote.webelement.WebElement (session=\"36b8a8e1fa934ccec9f4728feaccc917\", element=\"1186fe3a-dfaa-4861-95b1-1c02a9f8f00c\")>]"
      ]
     },
     "execution_count": 316,
     "metadata": {},
     "output_type": "execute_result"
    }
   ],
   "source": [
    "#extract brand names\n",
    "brand_names=driver.find_elements_by_xpath(\"//div[@class='_2WkVRV']\")\n",
    "brand_names"
   ]
  },
  {
   "cell_type": "code",
   "execution_count": 317,
   "id": "19365343",
   "metadata": {},
   "outputs": [
    {
     "data": {
      "text/plain": [
       "['ADIDAS',\n",
       " 'HIGHLANDER',\n",
       " 'URBANBOX',\n",
       " 'corsac',\n",
       " 'D-SNEAKERZ',\n",
       " 'Chevit',\n",
       " 'aadi',\n",
       " 'SHELBY',\n",
       " 'World Wear Footwear',\n",
       " 'BRUTON',\n",
       " 'Magnolia',\n",
       " 'HIGHLANDER',\n",
       " 'KWIK FIT',\n",
       " 'World Wear Footwear',\n",
       " 'ASTEROID',\n",
       " 'HIGHLANDER',\n",
       " 'Labbin',\n",
       " 'Chevit',\n",
       " 'PUMA',\n",
       " 'HIGHLANDER',\n",
       " 'World Wear Footwear',\n",
       " 'aadi',\n",
       " 'SCATCHITE',\n",
       " 'HIGHLANDER',\n",
       " 'ASTEROID',\n",
       " 'Kraasa',\n",
       " 'BIRDE',\n",
       " 'HIGHLANDER',\n",
       " 'BIRDE',\n",
       " 'BRUTON',\n",
       " 'BRUTON',\n",
       " 'Bacan',\n",
       " 'BRUTON',\n",
       " 'D-SNEAKERZ',\n",
       " 'Layasa',\n",
       " 'Layasa',\n",
       " 'CLYMB',\n",
       " 'Kraasa',\n",
       " 'Airland',\n",
       " 'HIGHLANDER',\n",
       " 'BRUTON',\n",
       " 'Chevit',\n",
       " 'aadi',\n",
       " 'Arivo',\n",
       " 'BRUTON',\n",
       " 'corsac',\n",
       " 'World Wear Footwear',\n",
       " 'Brothers Gift',\n",
       " 'Chevit',\n",
       " 'BIRDE',\n",
       " 'Zsyto',\n",
       " 'Chevit',\n",
       " 'WHITE WALKERS',\n",
       " 'LuvShus',\n",
       " 'Rzisbo',\n",
       " 'Chevit',\n",
       " 'Kzaara',\n",
       " 'Hida',\n",
       " 'Echor',\n",
       " 'Chevit',\n",
       " 'bluemaker',\n",
       " 'Chevit',\n",
       " 'kardam&sons',\n",
       " 'Chevit',\n",
       " 'Arohi',\n",
       " 'Chevit',\n",
       " 'EMPTILE',\n",
       " 'Bacan',\n",
       " 'Chevit',\n",
       " 'RapidBox',\n",
       " 'Magnolia',\n",
       " 'Chevit',\n",
       " 'Echor',\n",
       " 'ZF - ALFIYA',\n",
       " 'Robbie jones',\n",
       " 'HIGHLANDER',\n",
       " 'KNIGHT WALKERS',\n",
       " 'Kraasa',\n",
       " 'EZDEZARIO',\n",
       " 'HIGHLANDER']"
      ]
     },
     "execution_count": 317,
     "metadata": {},
     "output_type": "execute_result"
    }
   ],
   "source": [
    "#we will get the brand name text using for loop\n",
    "\n",
    "for i in brand_names:\n",
    "    brand=i.text\n",
    "    brand_names_list_s.append(brand)\n",
    "brand_names_list_s"
   ]
  },
  {
   "cell_type": "code",
   "execution_count": 318,
   "id": "a6133aad",
   "metadata": {},
   "outputs": [
    {
     "data": {
      "text/plain": [
       "[<selenium.webdriver.remote.webelement.WebElement (session=\"36b8a8e1fa934ccec9f4728feaccc917\", element=\"27ac63d9-6f6c-4387-a9d9-35e40de1a9d5\")>,\n",
       " <selenium.webdriver.remote.webelement.WebElement (session=\"36b8a8e1fa934ccec9f4728feaccc917\", element=\"90b99d28-fefc-457a-9477-c2603f9f8d20\")>,\n",
       " <selenium.webdriver.remote.webelement.WebElement (session=\"36b8a8e1fa934ccec9f4728feaccc917\", element=\"a36bfa2c-6711-43a7-aff2-4157e19a6eff\")>,\n",
       " <selenium.webdriver.remote.webelement.WebElement (session=\"36b8a8e1fa934ccec9f4728feaccc917\", element=\"87240e2f-270b-4630-abfd-d73be8b9f49d\")>,\n",
       " <selenium.webdriver.remote.webelement.WebElement (session=\"36b8a8e1fa934ccec9f4728feaccc917\", element=\"1f1d6bf2-3d94-4ca1-ad21-d12c6e838f72\")>,\n",
       " <selenium.webdriver.remote.webelement.WebElement (session=\"36b8a8e1fa934ccec9f4728feaccc917\", element=\"d026a4e3-575a-4a3d-a4ac-faa20b40af98\")>,\n",
       " <selenium.webdriver.remote.webelement.WebElement (session=\"36b8a8e1fa934ccec9f4728feaccc917\", element=\"ba7f29f4-45f8-467b-bc32-aa9e5177879d\")>,\n",
       " <selenium.webdriver.remote.webelement.WebElement (session=\"36b8a8e1fa934ccec9f4728feaccc917\", element=\"836ccaee-6a5a-4b76-b8b5-3e1508ec84ff\")>,\n",
       " <selenium.webdriver.remote.webelement.WebElement (session=\"36b8a8e1fa934ccec9f4728feaccc917\", element=\"f1a1157e-69c2-4519-b3bf-051fbb82ec99\")>,\n",
       " <selenium.webdriver.remote.webelement.WebElement (session=\"36b8a8e1fa934ccec9f4728feaccc917\", element=\"f8163287-da09-406d-8ead-1d5bf956e260\")>,\n",
       " <selenium.webdriver.remote.webelement.WebElement (session=\"36b8a8e1fa934ccec9f4728feaccc917\", element=\"52ef8f6f-24da-4440-8b1c-41b20c3182cf\")>,\n",
       " <selenium.webdriver.remote.webelement.WebElement (session=\"36b8a8e1fa934ccec9f4728feaccc917\", element=\"cf313be2-8dbf-42e8-b8f9-8e667b0d14ef\")>,\n",
       " <selenium.webdriver.remote.webelement.WebElement (session=\"36b8a8e1fa934ccec9f4728feaccc917\", element=\"30df1ca0-88c2-4efe-bdb4-f8860a4add74\")>,\n",
       " <selenium.webdriver.remote.webelement.WebElement (session=\"36b8a8e1fa934ccec9f4728feaccc917\", element=\"c40e41da-d68a-4c6f-8b2d-342648b670ea\")>,\n",
       " <selenium.webdriver.remote.webelement.WebElement (session=\"36b8a8e1fa934ccec9f4728feaccc917\", element=\"ccd5a657-1b0f-47c8-9cb5-1a7602745fb3\")>,\n",
       " <selenium.webdriver.remote.webelement.WebElement (session=\"36b8a8e1fa934ccec9f4728feaccc917\", element=\"c09b0941-500f-48ec-bd4e-5d933762a3ab\")>,\n",
       " <selenium.webdriver.remote.webelement.WebElement (session=\"36b8a8e1fa934ccec9f4728feaccc917\", element=\"962776e3-c5b2-4873-86bf-1687c2569a35\")>,\n",
       " <selenium.webdriver.remote.webelement.WebElement (session=\"36b8a8e1fa934ccec9f4728feaccc917\", element=\"7b29e21c-818b-44ff-8cb9-f8f1dfa5d63a\")>,\n",
       " <selenium.webdriver.remote.webelement.WebElement (session=\"36b8a8e1fa934ccec9f4728feaccc917\", element=\"e1bd6665-fca8-4036-a7ca-df60ad1c4e5a\")>,\n",
       " <selenium.webdriver.remote.webelement.WebElement (session=\"36b8a8e1fa934ccec9f4728feaccc917\", element=\"4dc8a968-95ef-4097-b145-ccc8b4e85ccd\")>,\n",
       " <selenium.webdriver.remote.webelement.WebElement (session=\"36b8a8e1fa934ccec9f4728feaccc917\", element=\"1f494af1-a9ca-47b1-92b2-84906d7334a3\")>,\n",
       " <selenium.webdriver.remote.webelement.WebElement (session=\"36b8a8e1fa934ccec9f4728feaccc917\", element=\"2f551190-6ab1-45ae-b99c-8b70fde8d2ff\")>,\n",
       " <selenium.webdriver.remote.webelement.WebElement (session=\"36b8a8e1fa934ccec9f4728feaccc917\", element=\"2d2e1bc5-9c1d-4b88-9814-c5180e425eca\")>,\n",
       " <selenium.webdriver.remote.webelement.WebElement (session=\"36b8a8e1fa934ccec9f4728feaccc917\", element=\"0557f693-f7c8-488a-ab79-9920914c0ba5\")>,\n",
       " <selenium.webdriver.remote.webelement.WebElement (session=\"36b8a8e1fa934ccec9f4728feaccc917\", element=\"e9d5f71d-102c-4453-bda7-a99ddcbc6034\")>,\n",
       " <selenium.webdriver.remote.webelement.WebElement (session=\"36b8a8e1fa934ccec9f4728feaccc917\", element=\"3d9dd20c-27f0-481a-82f5-e447c034fe11\")>,\n",
       " <selenium.webdriver.remote.webelement.WebElement (session=\"36b8a8e1fa934ccec9f4728feaccc917\", element=\"76500e60-b7fe-40e9-a5f4-c960b70e29fb\")>,\n",
       " <selenium.webdriver.remote.webelement.WebElement (session=\"36b8a8e1fa934ccec9f4728feaccc917\", element=\"57172b04-72ff-4167-b6f7-19e419671258\")>,\n",
       " <selenium.webdriver.remote.webelement.WebElement (session=\"36b8a8e1fa934ccec9f4728feaccc917\", element=\"c5439065-7cdb-4bcd-abfe-28195a3cb10e\")>,\n",
       " <selenium.webdriver.remote.webelement.WebElement (session=\"36b8a8e1fa934ccec9f4728feaccc917\", element=\"f0b7a47b-449c-4a6f-9df8-e2662243d873\")>,\n",
       " <selenium.webdriver.remote.webelement.WebElement (session=\"36b8a8e1fa934ccec9f4728feaccc917\", element=\"987a2f1b-00e4-4d4c-88b7-29bc584b5e7c\")>]"
      ]
     },
     "execution_count": 318,
     "metadata": {},
     "output_type": "execute_result"
    }
   ],
   "source": [
    "#extract product-disc\n",
    "product_disc=driver.find_elements_by_xpath(\"//a[@class='IRpwTa']\")\n",
    "product_disc"
   ]
  },
  {
   "cell_type": "code",
   "execution_count": 319,
   "id": "36f0c3bf",
   "metadata": {},
   "outputs": [
    {
     "data": {
      "text/plain": [
       "['Easy Vulc 2.0 Sneakers For Men',\n",
       " 'Sneakers For Men',\n",
       " 'STYLISH MENS BLACK SNEAKER Sneakers For Men',\n",
       " \"Casual , Partywear Sneakers Shoes For Men's And Boys Wh...\",\n",
       " '516 Trendy Star Perfect Sneakers For Men',\n",
       " 'Sneakers For Men',\n",
       " '5011-Latest Collection Stylish & Trendy Casual Sneakers...',\n",
       " 'Modern Trendy Sneakers Shoes Sneakers For Men',\n",
       " 'Sneakers For Men',\n",
       " 'Sneakers For Men',\n",
       " 'Kwik FIT casual sneaker shoes and partywear shoes Casua...',\n",
       " '5013-Latest Collection Stylish & Trendy of casuals Snea...',\n",
       " \"Original Luxury Branded Fashionable Men's Casual Walkin...\",\n",
       " 'Sneakers For Men',\n",
       " 'Sneakers For Men',\n",
       " 'Perfect Combo Pack of 03 Pairs Casual Sneakers Outdoor ...',\n",
       " 'Blend Sneakers For Men',\n",
       " 'Sneakers For Men',\n",
       " 'Men 5014 Latest Collection Stylish Casual Sports Loafer...',\n",
       " 'Sneakers For Men',\n",
       " 'Sneakers Sneakers For Men',\n",
       " 'Original Luxury Branded Black Fancy Casual Walking Part...',\n",
       " 'Casuals, Canvas, Partywear Sneakers For Men',\n",
       " 'Stylish Comfortable Lightweight, Breathable Walking Sho...',\n",
       " 'Sneakers For Men',\n",
       " 'Sports Running Shoes Sneakers For Men',\n",
       " 'Sneaker Sneakers For Men',\n",
       " 'Combo Pack Of 4 Casual Shoes Loafer Shoes Sneakers For ...',\n",
       " 'White Sneakers For Men',\n",
       " 'Lightweight Pack Of 1 Trendy Sneakers Sneakers Sneakers...',\n",
       " \"Casual , Partywear Sneakers Shoes For Men's And Boys Wh...\",\n",
       " 'Sneakers For Men',\n",
       " 'Sneakers For Men',\n",
       " 'Sneakers For Men',\n",
       " 'Series 7 Sneakers For Men',\n",
       " '1259 smart black lace-ups sneakers for men Sneakers For...',\n",
       " 'Sneakers For Men',\n",
       " 'Lightweight Pack Of 1 Trendy Sneakers Sneakers For Men',\n",
       " 'Super Stylish & Trendy Combo Pack of 02 Pairs Sneakers ...',\n",
       " 'Sneakers For Men',\n",
       " 'Lattest Sneakers Shoe Sneakers For Men',\n",
       " 'Latest Collection-1227 Stylish Casual Sports Sneakers F...',\n",
       " 'Sneakers For Men',\n",
       " 'Stylish Comfortable Lightweight, Breathable Walking Sho...',\n",
       " '494 Perfect Sports Shoes for Running Training Hikking &...',\n",
       " 'Stylish & Trending Outdoor Walking Comfortable Sneakers...',\n",
       " 'Men Casual Shoe New Trend With Fashion Panda Desgined L...',\n",
       " 'Sneakers For Men',\n",
       " 'Latest Fashion Combo Pack of 2 Pairs Casual Outdoors Sh...',\n",
       " 'Sneakers For Men',\n",
       " \"Men's Sneakers Fashion Lightweight Running Shoes Tennis...\",\n",
       " 'Unique & Perfect Collection Combo Pack of 02 Shoes for ...',\n",
       " 'casual shoe for men Sneakers For Men',\n",
       " 'casual sneaker shoes for men luxury fashion casual snea...',\n",
       " 'Sneakers For Men',\n",
       " 'Super 445 Fashion Sneakers For Men',\n",
       " 'all white heartbeat casual shoe Sneakers For Men',\n",
       " 'Sneakers For Men',\n",
       " 'Perfect & Affordable Combo Pack of 02 Pairs Sneakers Ou...',\n",
       " 'Sneakers For Men',\n",
       " \"Men's Combo Pack of 02 Shoes for Men Casual Sneakers Ou...\",\n",
       " \"Men's Sneakers Fashion Lightweight Running Shoes Tennis...\",\n",
       " 'Sneakers For Men',\n",
       " 'Sneakers For Men',\n",
       " 'Sneakers For Men',\n",
       " 'Sneakers For Men',\n",
       " 'Shoes in Black Color Party wear/Outdoor/Casual Shoes Fo...',\n",
       " 'Sneakers For Men']"
      ]
     },
     "execution_count": 319,
     "metadata": {},
     "output_type": "execute_result"
    }
   ],
   "source": [
    "#we will get the product disc text using for loop\n",
    "\n",
    "for i in product_disc:\n",
    "    product=i.text\n",
    "    product_disc_list_s.append(product)\n",
    "product_disc_list_s"
   ]
  },
  {
   "cell_type": "code",
   "execution_count": 320,
   "id": "a0ecf4d5",
   "metadata": {},
   "outputs": [
    {
     "data": {
      "text/plain": [
       "[<selenium.webdriver.remote.webelement.WebElement (session=\"36b8a8e1fa934ccec9f4728feaccc917\", element=\"c766d20e-1fc4-41b4-a794-de6564afa9e5\")>,\n",
       " <selenium.webdriver.remote.webelement.WebElement (session=\"36b8a8e1fa934ccec9f4728feaccc917\", element=\"1cada69d-1393-465e-9c35-4eb78b091ae5\")>,\n",
       " <selenium.webdriver.remote.webelement.WebElement (session=\"36b8a8e1fa934ccec9f4728feaccc917\", element=\"6d8c7b5f-e090-4a5f-ae2f-165a6cd61b99\")>,\n",
       " <selenium.webdriver.remote.webelement.WebElement (session=\"36b8a8e1fa934ccec9f4728feaccc917\", element=\"873e8f09-dad4-4f46-9878-1531ca535d44\")>,\n",
       " <selenium.webdriver.remote.webelement.WebElement (session=\"36b8a8e1fa934ccec9f4728feaccc917\", element=\"48be8f32-4d68-4072-928a-cb29ff9409b1\")>,\n",
       " <selenium.webdriver.remote.webelement.WebElement (session=\"36b8a8e1fa934ccec9f4728feaccc917\", element=\"04ea6e17-99a7-4092-b2fa-51b62441d513\")>,\n",
       " <selenium.webdriver.remote.webelement.WebElement (session=\"36b8a8e1fa934ccec9f4728feaccc917\", element=\"f54f9cd2-3686-4ffd-bc20-7f4ac3effc0d\")>,\n",
       " <selenium.webdriver.remote.webelement.WebElement (session=\"36b8a8e1fa934ccec9f4728feaccc917\", element=\"a3d25d54-53aa-4c5e-b0ef-97f2d7308b85\")>,\n",
       " <selenium.webdriver.remote.webelement.WebElement (session=\"36b8a8e1fa934ccec9f4728feaccc917\", element=\"b07862f5-787a-4003-baf1-34f77f810576\")>,\n",
       " <selenium.webdriver.remote.webelement.WebElement (session=\"36b8a8e1fa934ccec9f4728feaccc917\", element=\"0e6dde47-90ef-4c37-9244-25d5250d3b93\")>,\n",
       " <selenium.webdriver.remote.webelement.WebElement (session=\"36b8a8e1fa934ccec9f4728feaccc917\", element=\"e6d2ec95-351b-4370-b984-9b159810ea28\")>,\n",
       " <selenium.webdriver.remote.webelement.WebElement (session=\"36b8a8e1fa934ccec9f4728feaccc917\", element=\"4c73f3ad-f7f2-4a41-bf0d-65e2e89b2847\")>,\n",
       " <selenium.webdriver.remote.webelement.WebElement (session=\"36b8a8e1fa934ccec9f4728feaccc917\", element=\"e3ed0432-374f-43ac-bb08-9cfa2837117a\")>,\n",
       " <selenium.webdriver.remote.webelement.WebElement (session=\"36b8a8e1fa934ccec9f4728feaccc917\", element=\"bde84775-f37b-46b1-991a-d8ceae9c60eb\")>,\n",
       " <selenium.webdriver.remote.webelement.WebElement (session=\"36b8a8e1fa934ccec9f4728feaccc917\", element=\"2c5649bb-2adf-4e86-afce-07dcf4d6c336\")>,\n",
       " <selenium.webdriver.remote.webelement.WebElement (session=\"36b8a8e1fa934ccec9f4728feaccc917\", element=\"947f57ea-4442-45d8-bd2c-b1debdcaa510\")>,\n",
       " <selenium.webdriver.remote.webelement.WebElement (session=\"36b8a8e1fa934ccec9f4728feaccc917\", element=\"d360b5ad-0a10-4fdc-ad77-110ec76e5894\")>,\n",
       " <selenium.webdriver.remote.webelement.WebElement (session=\"36b8a8e1fa934ccec9f4728feaccc917\", element=\"f9228702-b640-4835-83ac-6ed0b6f699da\")>,\n",
       " <selenium.webdriver.remote.webelement.WebElement (session=\"36b8a8e1fa934ccec9f4728feaccc917\", element=\"2a75feaf-337a-4538-a0df-cc1310803073\")>,\n",
       " <selenium.webdriver.remote.webelement.WebElement (session=\"36b8a8e1fa934ccec9f4728feaccc917\", element=\"2ccf03c1-532c-427e-96b4-101dd6053581\")>,\n",
       " <selenium.webdriver.remote.webelement.WebElement (session=\"36b8a8e1fa934ccec9f4728feaccc917\", element=\"d9ce7025-064d-465b-8134-f58edf5432a0\")>,\n",
       " <selenium.webdriver.remote.webelement.WebElement (session=\"36b8a8e1fa934ccec9f4728feaccc917\", element=\"5cbae472-ccb7-48c7-a75d-3b0b31df59fb\")>,\n",
       " <selenium.webdriver.remote.webelement.WebElement (session=\"36b8a8e1fa934ccec9f4728feaccc917\", element=\"4956a7f9-a263-47dc-b321-d228eae2ca8d\")>,\n",
       " <selenium.webdriver.remote.webelement.WebElement (session=\"36b8a8e1fa934ccec9f4728feaccc917\", element=\"0e522297-da57-4589-9b0d-f52f833e6e12\")>,\n",
       " <selenium.webdriver.remote.webelement.WebElement (session=\"36b8a8e1fa934ccec9f4728feaccc917\", element=\"92100574-155e-4302-b273-89c552b6eda1\")>,\n",
       " <selenium.webdriver.remote.webelement.WebElement (session=\"36b8a8e1fa934ccec9f4728feaccc917\", element=\"6303477a-5a9e-460a-bfe1-02fa468f3573\")>,\n",
       " <selenium.webdriver.remote.webelement.WebElement (session=\"36b8a8e1fa934ccec9f4728feaccc917\", element=\"ed3560a4-dfa2-4753-93a5-ef099df55114\")>,\n",
       " <selenium.webdriver.remote.webelement.WebElement (session=\"36b8a8e1fa934ccec9f4728feaccc917\", element=\"2b265cbc-706a-46cc-b8a2-de4cdb773663\")>,\n",
       " <selenium.webdriver.remote.webelement.WebElement (session=\"36b8a8e1fa934ccec9f4728feaccc917\", element=\"e6870c71-aa31-4072-93ba-855228514790\")>,\n",
       " <selenium.webdriver.remote.webelement.WebElement (session=\"36b8a8e1fa934ccec9f4728feaccc917\", element=\"8bc84822-97fa-4c41-a415-ebddf09e0dae\")>,\n",
       " <selenium.webdriver.remote.webelement.WebElement (session=\"36b8a8e1fa934ccec9f4728feaccc917\", element=\"1d4cf631-ed90-4754-9de2-a55ac650f940\")>,\n",
       " <selenium.webdriver.remote.webelement.WebElement (session=\"36b8a8e1fa934ccec9f4728feaccc917\", element=\"8121a667-5f53-4dde-8b64-5f732a332239\")>,\n",
       " <selenium.webdriver.remote.webelement.WebElement (session=\"36b8a8e1fa934ccec9f4728feaccc917\", element=\"bde23776-4004-4832-83a8-b854334ac8d0\")>,\n",
       " <selenium.webdriver.remote.webelement.WebElement (session=\"36b8a8e1fa934ccec9f4728feaccc917\", element=\"8c436bf3-7194-4925-96d4-b1ccc2907686\")>,\n",
       " <selenium.webdriver.remote.webelement.WebElement (session=\"36b8a8e1fa934ccec9f4728feaccc917\", element=\"92a26586-766c-4cf1-8871-4f74c21ead11\")>,\n",
       " <selenium.webdriver.remote.webelement.WebElement (session=\"36b8a8e1fa934ccec9f4728feaccc917\", element=\"62e7a3a3-3383-4a3f-b4fe-e7c718606315\")>,\n",
       " <selenium.webdriver.remote.webelement.WebElement (session=\"36b8a8e1fa934ccec9f4728feaccc917\", element=\"d2c0198e-0b20-42a2-9bdf-20e7277b6ecc\")>,\n",
       " <selenium.webdriver.remote.webelement.WebElement (session=\"36b8a8e1fa934ccec9f4728feaccc917\", element=\"50e3dd4f-5df1-4939-b591-cca9250ec1a9\")>,\n",
       " <selenium.webdriver.remote.webelement.WebElement (session=\"36b8a8e1fa934ccec9f4728feaccc917\", element=\"ac01f063-4335-4ff0-a7ad-65bed3fa317e\")>,\n",
       " <selenium.webdriver.remote.webelement.WebElement (session=\"36b8a8e1fa934ccec9f4728feaccc917\", element=\"d2bfc510-06bc-4384-85d9-f074576394c6\")>]"
      ]
     },
     "execution_count": 320,
     "metadata": {},
     "output_type": "execute_result"
    }
   ],
   "source": [
    "#extract price\n",
    "price_tag=driver.find_elements_by_xpath(\"//div[@class='_30jeq3']\")\n",
    "price_tag"
   ]
  },
  {
   "cell_type": "code",
   "execution_count": 321,
   "id": "5a44b61d",
   "metadata": {},
   "outputs": [
    {
     "data": {
      "text/plain": [
       "['₹1,612',\n",
       " '₹945',\n",
       " '₹158',\n",
       " '₹449',\n",
       " '₹249',\n",
       " '₹249',\n",
       " '₹269',\n",
       " '₹499',\n",
       " '₹199',\n",
       " '₹249',\n",
       " '₹422',\n",
       " '₹945',\n",
       " '₹349',\n",
       " '₹192',\n",
       " '₹499',\n",
       " '₹746',\n",
       " '₹424',\n",
       " '₹565',\n",
       " '₹1,758',\n",
       " '₹669',\n",
       " '₹199',\n",
       " '₹269',\n",
       " '₹348',\n",
       " '₹746',\n",
       " '₹499',\n",
       " '₹421',\n",
       " '₹301',\n",
       " '₹746',\n",
       " '₹301',\n",
       " '₹301',\n",
       " '₹449',\n",
       " '₹449',\n",
       " '₹151',\n",
       " '₹384',\n",
       " '₹399',\n",
       " '₹399',\n",
       " '₹599',\n",
       " '₹421',\n",
       " '₹159',\n",
       " '₹945',\n",
       " '₹158',\n",
       " '₹599',\n",
       " '₹269',\n",
       " '₹549',\n",
       " '₹265',\n",
       " '₹499',\n",
       " '₹199',\n",
       " '₹449',\n",
       " '₹249',\n",
       " '₹301',\n",
       " '₹298',\n",
       " '₹249',\n",
       " '₹549',\n",
       " '₹354',\n",
       " '₹549',\n",
       " '₹399',\n",
       " '₹249',\n",
       " '₹599',\n",
       " '₹489',\n",
       " '₹449',\n",
       " '₹399',\n",
       " '₹213',\n",
       " '₹399',\n",
       " '₹213',\n",
       " '₹379',\n",
       " '₹494',\n",
       " '₹344',\n",
       " '₹424',\n",
       " '₹499',\n",
       " '₹670',\n",
       " '₹422',\n",
       " '₹449',\n",
       " '₹489',\n",
       " '₹395',\n",
       " '₹424',\n",
       " '₹945',\n",
       " '₹598',\n",
       " '₹374',\n",
       " '₹349',\n",
       " '₹945']"
      ]
     },
     "execution_count": 321,
     "metadata": {},
     "output_type": "execute_result"
    }
   ],
   "source": [
    "#we will get the price using for loop\n",
    "\n",
    "for i in price_tag:\n",
    "    price=i.text\n",
    "    price_list_s.append(price)\n",
    "price_list_s"
   ]
  },
  {
   "cell_type": "code",
   "execution_count": 322,
   "id": "f9238a64",
   "metadata": {},
   "outputs": [
    {
     "data": {
      "text/plain": [
       "[<selenium.webdriver.remote.webelement.WebElement (session=\"36b8a8e1fa934ccec9f4728feaccc917\", element=\"b742e121-f85d-48bc-9636-85f0ef5a2254\")>,\n",
       " <selenium.webdriver.remote.webelement.WebElement (session=\"36b8a8e1fa934ccec9f4728feaccc917\", element=\"5dc398a9-a087-4cfa-bf3e-bee2678711f0\")>,\n",
       " <selenium.webdriver.remote.webelement.WebElement (session=\"36b8a8e1fa934ccec9f4728feaccc917\", element=\"8e7ebbed-523c-401f-9ea6-8b86a2afdb87\")>,\n",
       " <selenium.webdriver.remote.webelement.WebElement (session=\"36b8a8e1fa934ccec9f4728feaccc917\", element=\"95a66345-6107-486b-98e4-9f7a2b7d519f\")>,\n",
       " <selenium.webdriver.remote.webelement.WebElement (session=\"36b8a8e1fa934ccec9f4728feaccc917\", element=\"ce2859a4-be16-4182-b558-74590b404003\")>,\n",
       " <selenium.webdriver.remote.webelement.WebElement (session=\"36b8a8e1fa934ccec9f4728feaccc917\", element=\"c76de467-b765-4acd-9a6f-2bf6ae35c5eb\")>,\n",
       " <selenium.webdriver.remote.webelement.WebElement (session=\"36b8a8e1fa934ccec9f4728feaccc917\", element=\"071ef321-10ca-410f-81e8-a1d3ea6ce5cf\")>,\n",
       " <selenium.webdriver.remote.webelement.WebElement (session=\"36b8a8e1fa934ccec9f4728feaccc917\", element=\"ca9f23c7-6512-4190-9a25-351b94bd3cbb\")>,\n",
       " <selenium.webdriver.remote.webelement.WebElement (session=\"36b8a8e1fa934ccec9f4728feaccc917\", element=\"0d9d0dd1-0699-49a2-8d03-b32accf65367\")>,\n",
       " <selenium.webdriver.remote.webelement.WebElement (session=\"36b8a8e1fa934ccec9f4728feaccc917\", element=\"1026c801-7f19-472b-8a66-fc0151618432\")>,\n",
       " <selenium.webdriver.remote.webelement.WebElement (session=\"36b8a8e1fa934ccec9f4728feaccc917\", element=\"4d75d958-f707-40dd-87f3-233719d3e4e4\")>,\n",
       " <selenium.webdriver.remote.webelement.WebElement (session=\"36b8a8e1fa934ccec9f4728feaccc917\", element=\"c1082e93-c6f3-48d1-b319-71c63a60ff50\")>,\n",
       " <selenium.webdriver.remote.webelement.WebElement (session=\"36b8a8e1fa934ccec9f4728feaccc917\", element=\"ee11cc6a-b0cc-4c33-982b-4c906616fd55\")>,\n",
       " <selenium.webdriver.remote.webelement.WebElement (session=\"36b8a8e1fa934ccec9f4728feaccc917\", element=\"c6e09793-8ce5-45fb-8db6-1e4f9fcab33e\")>,\n",
       " <selenium.webdriver.remote.webelement.WebElement (session=\"36b8a8e1fa934ccec9f4728feaccc917\", element=\"3f29f620-ca0c-47d0-b303-b8fe501276e5\")>,\n",
       " <selenium.webdriver.remote.webelement.WebElement (session=\"36b8a8e1fa934ccec9f4728feaccc917\", element=\"a0b7f223-5082-46f2-8ea3-3cc59a91e54b\")>,\n",
       " <selenium.webdriver.remote.webelement.WebElement (session=\"36b8a8e1fa934ccec9f4728feaccc917\", element=\"3566b437-667c-4ccb-849a-54917cddcd8a\")>,\n",
       " <selenium.webdriver.remote.webelement.WebElement (session=\"36b8a8e1fa934ccec9f4728feaccc917\", element=\"28586690-290f-4bc3-b6cf-f8b36e7b2fd8\")>,\n",
       " <selenium.webdriver.remote.webelement.WebElement (session=\"36b8a8e1fa934ccec9f4728feaccc917\", element=\"871dd2ea-ad2d-48ed-b81b-947549d7042a\")>,\n",
       " <selenium.webdriver.remote.webelement.WebElement (session=\"36b8a8e1fa934ccec9f4728feaccc917\", element=\"d132c779-b6e5-435b-851f-608176bfba8e\")>,\n",
       " <selenium.webdriver.remote.webelement.WebElement (session=\"36b8a8e1fa934ccec9f4728feaccc917\", element=\"ef9b6544-1c0d-44f2-bb02-04327480d418\")>,\n",
       " <selenium.webdriver.remote.webelement.WebElement (session=\"36b8a8e1fa934ccec9f4728feaccc917\", element=\"4d346ee1-27b2-49a9-8790-bed85753691a\")>,\n",
       " <selenium.webdriver.remote.webelement.WebElement (session=\"36b8a8e1fa934ccec9f4728feaccc917\", element=\"0c27d304-b372-4f10-9672-84aa2627b40c\")>,\n",
       " <selenium.webdriver.remote.webelement.WebElement (session=\"36b8a8e1fa934ccec9f4728feaccc917\", element=\"e3b5fe1f-0632-4a8a-89cf-9cd4492aa771\")>,\n",
       " <selenium.webdriver.remote.webelement.WebElement (session=\"36b8a8e1fa934ccec9f4728feaccc917\", element=\"2965c75a-b221-4b7f-80e3-76ec46a95057\")>,\n",
       " <selenium.webdriver.remote.webelement.WebElement (session=\"36b8a8e1fa934ccec9f4728feaccc917\", element=\"0e097590-395d-4df3-a19a-89b19c8c1bb8\")>,\n",
       " <selenium.webdriver.remote.webelement.WebElement (session=\"36b8a8e1fa934ccec9f4728feaccc917\", element=\"5a9d611a-b1ff-460a-9c77-8ffd1ec4616f\")>,\n",
       " <selenium.webdriver.remote.webelement.WebElement (session=\"36b8a8e1fa934ccec9f4728feaccc917\", element=\"4bb68859-8122-4a97-be1a-c8698ad2207f\")>,\n",
       " <selenium.webdriver.remote.webelement.WebElement (session=\"36b8a8e1fa934ccec9f4728feaccc917\", element=\"92956361-d401-4e02-98e8-dbb1104f77d9\")>,\n",
       " <selenium.webdriver.remote.webelement.WebElement (session=\"36b8a8e1fa934ccec9f4728feaccc917\", element=\"151400e7-8b3a-4516-aea1-2539999fdcc0\")>,\n",
       " <selenium.webdriver.remote.webelement.WebElement (session=\"36b8a8e1fa934ccec9f4728feaccc917\", element=\"931c71f6-3100-493e-b9a0-da9985072f3d\")>,\n",
       " <selenium.webdriver.remote.webelement.WebElement (session=\"36b8a8e1fa934ccec9f4728feaccc917\", element=\"7dfa232a-ed8c-4406-b98c-28c01adcf992\")>,\n",
       " <selenium.webdriver.remote.webelement.WebElement (session=\"36b8a8e1fa934ccec9f4728feaccc917\", element=\"b5320e6a-4ef4-49cc-8fe1-0c94b5143a0f\")>,\n",
       " <selenium.webdriver.remote.webelement.WebElement (session=\"36b8a8e1fa934ccec9f4728feaccc917\", element=\"e86fc1e2-c9a5-46bb-8061-6c7327df8402\")>,\n",
       " <selenium.webdriver.remote.webelement.WebElement (session=\"36b8a8e1fa934ccec9f4728feaccc917\", element=\"1e05394a-4baa-41b0-aaad-6ee4c38088df\")>,\n",
       " <selenium.webdriver.remote.webelement.WebElement (session=\"36b8a8e1fa934ccec9f4728feaccc917\", element=\"93de4013-25c0-443b-aa78-3c5a214fba47\")>,\n",
       " <selenium.webdriver.remote.webelement.WebElement (session=\"36b8a8e1fa934ccec9f4728feaccc917\", element=\"11998649-346d-4538-87b0-7d6b6fe6bcaf\")>,\n",
       " <selenium.webdriver.remote.webelement.WebElement (session=\"36b8a8e1fa934ccec9f4728feaccc917\", element=\"27971ba2-6110-4b70-9444-9d8a41010c87\")>,\n",
       " <selenium.webdriver.remote.webelement.WebElement (session=\"36b8a8e1fa934ccec9f4728feaccc917\", element=\"036841a0-c521-403f-9aec-d19c8f3e57a3\")>,\n",
       " <selenium.webdriver.remote.webelement.WebElement (session=\"36b8a8e1fa934ccec9f4728feaccc917\", element=\"4f851bf7-6773-4dd3-83f6-7551333cc607\")>]"
      ]
     },
     "execution_count": 322,
     "metadata": {},
     "output_type": "execute_result"
    }
   ],
   "source": [
    "#extract discount\n",
    "discount_tag=driver.find_elements_by_xpath(\"//div[@class='_3Ay6Sb']/span[1]\")\n",
    "discount_tag"
   ]
  },
  {
   "cell_type": "code",
   "execution_count": 323,
   "id": "d000812a",
   "metadata": {},
   "outputs": [
    {
     "data": {
      "text/plain": [
       "['59% off',\n",
       " '52% off',\n",
       " '84% off',\n",
       " '70% off',\n",
       " '62% off',\n",
       " '68% off',\n",
       " '73% off',\n",
       " '61% off',\n",
       " '60% off',\n",
       " '80% off',\n",
       " '57% off',\n",
       " '52% off',\n",
       " '82% off',\n",
       " '61% off',\n",
       " '75% off',\n",
       " '62% off',\n",
       " '57% off',\n",
       " '75% off',\n",
       " '41% off',\n",
       " '44% off',\n",
       " '60% off',\n",
       " '73% off',\n",
       " '65% off',\n",
       " '62% off',\n",
       " '50% off',\n",
       " '57% off',\n",
       " '69% off',\n",
       " '62% off',\n",
       " '69% off',\n",
       " '76% off',\n",
       " '87% off',\n",
       " '55% off',\n",
       " '74% off',\n",
       " '61% off',\n",
       " '60% off',\n",
       " '60% off',\n",
       " '60% off',\n",
       " '57% off',\n",
       " '68% off',\n",
       " '52% off',\n",
       " '73% off',\n",
       " '62% off',\n",
       " '86% off',\n",
       " '72% off',\n",
       " '79% off',\n",
       " '66% off',\n",
       " '60% off',\n",
       " '55% off',\n",
       " '68% off',\n",
       " '69% off',\n",
       " '77% off',\n",
       " '75% off',\n",
       " '54% off',\n",
       " '64% off',\n",
       " '45% off',\n",
       " '73% off',\n",
       " '75% off',\n",
       " '40% off',\n",
       " '51% off',\n",
       " '70% off',\n",
       " '60% off',\n",
       " '73% off',\n",
       " '69% off',\n",
       " '73% off',\n",
       " '62% off',\n",
       " '38% off',\n",
       " '65% off',\n",
       " '57% off',\n",
       " '72% off',\n",
       " '32% off',\n",
       " '57% off',\n",
       " '55% off',\n",
       " '51% off',\n",
       " '60% off',\n",
       " '57% off',\n",
       " '52% off',\n",
       " '60% off',\n",
       " '62% off',\n",
       " '65% off',\n",
       " '52% off']"
      ]
     },
     "execution_count": 323,
     "metadata": {},
     "output_type": "execute_result"
    }
   ],
   "source": [
    "#we will get the discount text using for loop\n",
    "\n",
    "for i in discount_tag:\n",
    "    discount=i.text\n",
    "    discount_per_list_s.append(discount)\n",
    "discount_per_list_s"
   ]
  },
  {
   "cell_type": "code",
   "execution_count": 324,
   "id": "9066c01d",
   "metadata": {},
   "outputs": [],
   "source": [
    "#, go to the “Next” Button at the bottom ofthe page , then click on it.\n",
    "next_button=driver.find_element_by_xpath(\"/html/body/div[1]/div/div[3]/div[1]/div[2]/div[12]/div/div/nav/a[12]\")\n",
    "next_button.click()"
   ]
  },
  {
   "cell_type": "code",
   "execution_count": 325,
   "id": "baea35f8",
   "metadata": {},
   "outputs": [
    {
     "data": {
      "text/plain": [
       "[<selenium.webdriver.remote.webelement.WebElement (session=\"36b8a8e1fa934ccec9f4728feaccc917\", element=\"e89df256-35a7-4985-84bd-2c61209044e1\")>,\n",
       " <selenium.webdriver.remote.webelement.WebElement (session=\"36b8a8e1fa934ccec9f4728feaccc917\", element=\"6ca30148-ac7c-47d5-bd32-c85dbb4e05c8\")>,\n",
       " <selenium.webdriver.remote.webelement.WebElement (session=\"36b8a8e1fa934ccec9f4728feaccc917\", element=\"c445f062-2fd8-4aca-86be-b4cb4da94c73\")>,\n",
       " <selenium.webdriver.remote.webelement.WebElement (session=\"36b8a8e1fa934ccec9f4728feaccc917\", element=\"d18fec3c-bc32-4563-b31b-ebbd9df026a6\")>,\n",
       " <selenium.webdriver.remote.webelement.WebElement (session=\"36b8a8e1fa934ccec9f4728feaccc917\", element=\"dd9b9efa-6e2f-44de-a284-10abebbcfc4c\")>,\n",
       " <selenium.webdriver.remote.webelement.WebElement (session=\"36b8a8e1fa934ccec9f4728feaccc917\", element=\"f3c89065-3978-426a-a90b-3ac5686d1744\")>,\n",
       " <selenium.webdriver.remote.webelement.WebElement (session=\"36b8a8e1fa934ccec9f4728feaccc917\", element=\"595a323d-95cb-4913-a067-2069a54b6a85\")>,\n",
       " <selenium.webdriver.remote.webelement.WebElement (session=\"36b8a8e1fa934ccec9f4728feaccc917\", element=\"55f26fe6-4b12-4583-83c2-da069a4763e5\")>,\n",
       " <selenium.webdriver.remote.webelement.WebElement (session=\"36b8a8e1fa934ccec9f4728feaccc917\", element=\"47c36246-e6a0-4c45-914b-b52d4f0ad8e3\")>,\n",
       " <selenium.webdriver.remote.webelement.WebElement (session=\"36b8a8e1fa934ccec9f4728feaccc917\", element=\"ace92896-6ef1-4290-b4d1-ee54927168d4\")>,\n",
       " <selenium.webdriver.remote.webelement.WebElement (session=\"36b8a8e1fa934ccec9f4728feaccc917\", element=\"e033b596-8bec-4632-9814-d99ea2378a67\")>,\n",
       " <selenium.webdriver.remote.webelement.WebElement (session=\"36b8a8e1fa934ccec9f4728feaccc917\", element=\"aa257583-b66e-4d7f-b094-4ed693b30ff2\")>,\n",
       " <selenium.webdriver.remote.webelement.WebElement (session=\"36b8a8e1fa934ccec9f4728feaccc917\", element=\"2ce864d9-9979-4d79-b0e3-b5e4148fe983\")>,\n",
       " <selenium.webdriver.remote.webelement.WebElement (session=\"36b8a8e1fa934ccec9f4728feaccc917\", element=\"4f8b3122-13b9-4101-b881-e3768a80c898\")>,\n",
       " <selenium.webdriver.remote.webelement.WebElement (session=\"36b8a8e1fa934ccec9f4728feaccc917\", element=\"9c8d5e28-13f1-4080-b32e-5a11080f6957\")>,\n",
       " <selenium.webdriver.remote.webelement.WebElement (session=\"36b8a8e1fa934ccec9f4728feaccc917\", element=\"c1edd8b9-05b5-43bc-9154-7fb942a9ddea\")>,\n",
       " <selenium.webdriver.remote.webelement.WebElement (session=\"36b8a8e1fa934ccec9f4728feaccc917\", element=\"e81d2937-2cde-49e5-a517-943a0ca47afe\")>,\n",
       " <selenium.webdriver.remote.webelement.WebElement (session=\"36b8a8e1fa934ccec9f4728feaccc917\", element=\"ac3ca835-6d98-4b9e-913f-2893577ecfe0\")>,\n",
       " <selenium.webdriver.remote.webelement.WebElement (session=\"36b8a8e1fa934ccec9f4728feaccc917\", element=\"5b33a55e-4008-4af9-b704-20ebcb2341dd\")>,\n",
       " <selenium.webdriver.remote.webelement.WebElement (session=\"36b8a8e1fa934ccec9f4728feaccc917\", element=\"f46a65e9-78a8-4167-a58a-0d0ed6e9fa57\")>,\n",
       " <selenium.webdriver.remote.webelement.WebElement (session=\"36b8a8e1fa934ccec9f4728feaccc917\", element=\"87fcd12b-61a4-46c2-867b-065979492106\")>,\n",
       " <selenium.webdriver.remote.webelement.WebElement (session=\"36b8a8e1fa934ccec9f4728feaccc917\", element=\"ac3a79c6-c1ca-47a5-a925-829878661b6e\")>,\n",
       " <selenium.webdriver.remote.webelement.WebElement (session=\"36b8a8e1fa934ccec9f4728feaccc917\", element=\"e69b3958-21f6-4166-988e-61dface6136d\")>,\n",
       " <selenium.webdriver.remote.webelement.WebElement (session=\"36b8a8e1fa934ccec9f4728feaccc917\", element=\"85542524-0473-4f75-b83e-f3bd650f0b8d\")>,\n",
       " <selenium.webdriver.remote.webelement.WebElement (session=\"36b8a8e1fa934ccec9f4728feaccc917\", element=\"2b09efdb-7a3b-4588-8a0b-124c019b4dd4\")>,\n",
       " <selenium.webdriver.remote.webelement.WebElement (session=\"36b8a8e1fa934ccec9f4728feaccc917\", element=\"3723acc2-a238-4a8d-ab4d-0937bddfe50c\")>,\n",
       " <selenium.webdriver.remote.webelement.WebElement (session=\"36b8a8e1fa934ccec9f4728feaccc917\", element=\"f96d072f-d7a0-4ee0-b068-0727f9204ff0\")>,\n",
       " <selenium.webdriver.remote.webelement.WebElement (session=\"36b8a8e1fa934ccec9f4728feaccc917\", element=\"b7ae3ba4-bef0-4e2d-9ed4-2b0fb313ce14\")>,\n",
       " <selenium.webdriver.remote.webelement.WebElement (session=\"36b8a8e1fa934ccec9f4728feaccc917\", element=\"287a93b2-7bd2-4cef-95a9-a342d0b3fe89\")>,\n",
       " <selenium.webdriver.remote.webelement.WebElement (session=\"36b8a8e1fa934ccec9f4728feaccc917\", element=\"6d0b1d4a-2c2f-4d91-abe1-219d393c3c69\")>,\n",
       " <selenium.webdriver.remote.webelement.WebElement (session=\"36b8a8e1fa934ccec9f4728feaccc917\", element=\"3dee9504-b221-4e83-97eb-da9af4512824\")>,\n",
       " <selenium.webdriver.remote.webelement.WebElement (session=\"36b8a8e1fa934ccec9f4728feaccc917\", element=\"cbeda1ae-9766-4702-bff8-fd2143a6872f\")>,\n",
       " <selenium.webdriver.remote.webelement.WebElement (session=\"36b8a8e1fa934ccec9f4728feaccc917\", element=\"b2d942cf-164b-4486-9077-ebea38aa2865\")>,\n",
       " <selenium.webdriver.remote.webelement.WebElement (session=\"36b8a8e1fa934ccec9f4728feaccc917\", element=\"66231ee2-4225-4608-a21a-f6343de91061\")>,\n",
       " <selenium.webdriver.remote.webelement.WebElement (session=\"36b8a8e1fa934ccec9f4728feaccc917\", element=\"5cca9f4d-f438-4f80-bf21-2e9bfec9e9f5\")>,\n",
       " <selenium.webdriver.remote.webelement.WebElement (session=\"36b8a8e1fa934ccec9f4728feaccc917\", element=\"c7a37e89-a129-4961-95bb-286d1dd98c16\")>,\n",
       " <selenium.webdriver.remote.webelement.WebElement (session=\"36b8a8e1fa934ccec9f4728feaccc917\", element=\"1f62d1aa-f907-4d1c-8cc2-fe2b071a431b\")>,\n",
       " <selenium.webdriver.remote.webelement.WebElement (session=\"36b8a8e1fa934ccec9f4728feaccc917\", element=\"650c9231-a3bc-4749-a204-e3da44b171d2\")>,\n",
       " <selenium.webdriver.remote.webelement.WebElement (session=\"36b8a8e1fa934ccec9f4728feaccc917\", element=\"d2a6e6f8-39f0-451e-94ad-cb79e44e9e10\")>,\n",
       " <selenium.webdriver.remote.webelement.WebElement (session=\"36b8a8e1fa934ccec9f4728feaccc917\", element=\"179e315c-c9ff-4bd8-af2d-fda186045b0a\")>]"
      ]
     },
     "execution_count": 325,
     "metadata": {},
     "output_type": "execute_result"
    }
   ],
   "source": [
    "#extract discount\n",
    "discount_tag=driver.find_elements_by_xpath(\"//div[@class='_3Ay6Sb']/span[1]\")\n",
    "discount_tag[0:100]"
   ]
  },
  {
   "cell_type": "code",
   "execution_count": 326,
   "id": "107c4e00",
   "metadata": {},
   "outputs": [
    {
     "data": {
      "text/plain": [
       "['59% off',\n",
       " '52% off',\n",
       " '84% off',\n",
       " '70% off',\n",
       " '62% off',\n",
       " '68% off',\n",
       " '73% off',\n",
       " '61% off',\n",
       " '60% off',\n",
       " '80% off',\n",
       " '57% off',\n",
       " '52% off',\n",
       " '82% off',\n",
       " '61% off',\n",
       " '75% off',\n",
       " '62% off',\n",
       " '57% off',\n",
       " '75% off',\n",
       " '41% off',\n",
       " '44% off',\n",
       " '60% off',\n",
       " '73% off',\n",
       " '65% off',\n",
       " '62% off',\n",
       " '50% off',\n",
       " '57% off',\n",
       " '69% off',\n",
       " '62% off',\n",
       " '69% off',\n",
       " '76% off',\n",
       " '87% off',\n",
       " '55% off',\n",
       " '74% off',\n",
       " '61% off',\n",
       " '60% off',\n",
       " '60% off',\n",
       " '60% off',\n",
       " '57% off',\n",
       " '68% off',\n",
       " '52% off',\n",
       " '73% off',\n",
       " '62% off',\n",
       " '86% off',\n",
       " '72% off',\n",
       " '79% off',\n",
       " '66% off',\n",
       " '60% off',\n",
       " '55% off',\n",
       " '68% off',\n",
       " '69% off',\n",
       " '77% off',\n",
       " '75% off',\n",
       " '54% off',\n",
       " '64% off',\n",
       " '45% off',\n",
       " '73% off',\n",
       " '75% off',\n",
       " '40% off',\n",
       " '51% off',\n",
       " '70% off',\n",
       " '60% off',\n",
       " '73% off',\n",
       " '69% off',\n",
       " '73% off',\n",
       " '62% off',\n",
       " '38% off',\n",
       " '65% off',\n",
       " '57% off',\n",
       " '72% off',\n",
       " '32% off',\n",
       " '57% off',\n",
       " '55% off',\n",
       " '51% off',\n",
       " '60% off',\n",
       " '57% off',\n",
       " '52% off',\n",
       " '60% off',\n",
       " '62% off',\n",
       " '65% off',\n",
       " '52% off',\n",
       " '57% off',\n",
       " '71% off',\n",
       " '54% off',\n",
       " '75% off',\n",
       " '70% off',\n",
       " '70% off',\n",
       " '60% off',\n",
       " '55% off',\n",
       " '69% off',\n",
       " '50% off',\n",
       " '66% off',\n",
       " '73% off',\n",
       " '65% off',\n",
       " '57% off',\n",
       " '60% off',\n",
       " '60% off',\n",
       " '63% off',\n",
       " '65% off',\n",
       " '73% off',\n",
       " '62% off']"
      ]
     },
     "execution_count": 326,
     "metadata": {},
     "output_type": "execute_result"
    }
   ],
   "source": [
    "#we will get the discount text using for loop\n",
    "\n",
    "for i in discount_tag:\n",
    "    discount=i.text\n",
    "    discount_per_list_s.append(discount)\n",
    "discount_per_list_s[0:100]"
   ]
  },
  {
   "cell_type": "code",
   "execution_count": 327,
   "id": "12bca4b3",
   "metadata": {},
   "outputs": [
    {
     "data": {
      "text/plain": [
       "[<selenium.webdriver.remote.webelement.WebElement (session=\"36b8a8e1fa934ccec9f4728feaccc917\", element=\"91993ae0-0ae5-49f8-8768-d44f5f1c706d\")>,\n",
       " <selenium.webdriver.remote.webelement.WebElement (session=\"36b8a8e1fa934ccec9f4728feaccc917\", element=\"bd12328d-f87a-4669-84b0-ab8c7858e4e0\")>,\n",
       " <selenium.webdriver.remote.webelement.WebElement (session=\"36b8a8e1fa934ccec9f4728feaccc917\", element=\"09780082-1c0e-4588-af61-59f1bb9e5b74\")>,\n",
       " <selenium.webdriver.remote.webelement.WebElement (session=\"36b8a8e1fa934ccec9f4728feaccc917\", element=\"d8d56782-038d-4c1b-bcac-8f6a5cc24359\")>,\n",
       " <selenium.webdriver.remote.webelement.WebElement (session=\"36b8a8e1fa934ccec9f4728feaccc917\", element=\"dd2f30f0-088f-4534-b2b2-042a8b0e0295\")>,\n",
       " <selenium.webdriver.remote.webelement.WebElement (session=\"36b8a8e1fa934ccec9f4728feaccc917\", element=\"0b01bb47-a47d-4d8f-a5be-32663b87186c\")>,\n",
       " <selenium.webdriver.remote.webelement.WebElement (session=\"36b8a8e1fa934ccec9f4728feaccc917\", element=\"29bd56c0-e05d-452d-804b-4d943c0e9951\")>,\n",
       " <selenium.webdriver.remote.webelement.WebElement (session=\"36b8a8e1fa934ccec9f4728feaccc917\", element=\"50bcfe7d-72b5-4eaa-bae9-f6f8c9a27782\")>,\n",
       " <selenium.webdriver.remote.webelement.WebElement (session=\"36b8a8e1fa934ccec9f4728feaccc917\", element=\"d348b1fb-6433-4e31-b8af-d546a733149a\")>,\n",
       " <selenium.webdriver.remote.webelement.WebElement (session=\"36b8a8e1fa934ccec9f4728feaccc917\", element=\"091441e9-af05-417c-8935-7784c45263da\")>,\n",
       " <selenium.webdriver.remote.webelement.WebElement (session=\"36b8a8e1fa934ccec9f4728feaccc917\", element=\"0dc6c4b5-5830-4d51-8ae1-2a465fe441b3\")>,\n",
       " <selenium.webdriver.remote.webelement.WebElement (session=\"36b8a8e1fa934ccec9f4728feaccc917\", element=\"47ec2d63-b35d-4c63-b81b-6f48c1f21ed3\")>,\n",
       " <selenium.webdriver.remote.webelement.WebElement (session=\"36b8a8e1fa934ccec9f4728feaccc917\", element=\"6b100495-365c-45b6-a6c2-db83ec2c7c54\")>,\n",
       " <selenium.webdriver.remote.webelement.WebElement (session=\"36b8a8e1fa934ccec9f4728feaccc917\", element=\"9da74a68-3dd8-48c9-bce4-4f1937c2e771\")>,\n",
       " <selenium.webdriver.remote.webelement.WebElement (session=\"36b8a8e1fa934ccec9f4728feaccc917\", element=\"4163f30c-7ff9-473b-95f9-10c2692c15bb\")>,\n",
       " <selenium.webdriver.remote.webelement.WebElement (session=\"36b8a8e1fa934ccec9f4728feaccc917\", element=\"c6b5e02e-c64f-462e-b4b6-f0320a01b151\")>,\n",
       " <selenium.webdriver.remote.webelement.WebElement (session=\"36b8a8e1fa934ccec9f4728feaccc917\", element=\"acb423cf-6b19-49de-90ac-d393c696ecb5\")>,\n",
       " <selenium.webdriver.remote.webelement.WebElement (session=\"36b8a8e1fa934ccec9f4728feaccc917\", element=\"9bbd0d18-33c8-4218-956e-089de2fd28b2\")>,\n",
       " <selenium.webdriver.remote.webelement.WebElement (session=\"36b8a8e1fa934ccec9f4728feaccc917\", element=\"a3a3ba1b-f96f-4234-9e44-67809b753c77\")>,\n",
       " <selenium.webdriver.remote.webelement.WebElement (session=\"36b8a8e1fa934ccec9f4728feaccc917\", element=\"7e519f6f-8bfe-4bb7-b4c3-7fc64b19d8b1\")>,\n",
       " <selenium.webdriver.remote.webelement.WebElement (session=\"36b8a8e1fa934ccec9f4728feaccc917\", element=\"4b482f9e-157d-43d1-a2ab-8c9ee1c39a9c\")>,\n",
       " <selenium.webdriver.remote.webelement.WebElement (session=\"36b8a8e1fa934ccec9f4728feaccc917\", element=\"7d824536-a48a-4d96-8e32-8e93e37ccb46\")>,\n",
       " <selenium.webdriver.remote.webelement.WebElement (session=\"36b8a8e1fa934ccec9f4728feaccc917\", element=\"37ae352a-d360-46fc-8327-d2631b5efba2\")>,\n",
       " <selenium.webdriver.remote.webelement.WebElement (session=\"36b8a8e1fa934ccec9f4728feaccc917\", element=\"fd3c14b3-7c92-4c5f-ac48-21b6708f82a4\")>,\n",
       " <selenium.webdriver.remote.webelement.WebElement (session=\"36b8a8e1fa934ccec9f4728feaccc917\", element=\"6019c5ab-ff2c-4c3a-a0b0-12159bddc007\")>,\n",
       " <selenium.webdriver.remote.webelement.WebElement (session=\"36b8a8e1fa934ccec9f4728feaccc917\", element=\"dc59188b-63e1-4be2-901b-c9f71a061fc9\")>,\n",
       " <selenium.webdriver.remote.webelement.WebElement (session=\"36b8a8e1fa934ccec9f4728feaccc917\", element=\"344a6baa-4430-42fa-8434-c6cb33f04651\")>,\n",
       " <selenium.webdriver.remote.webelement.WebElement (session=\"36b8a8e1fa934ccec9f4728feaccc917\", element=\"8ae22bc4-609e-410c-98ec-9e34d51e8b10\")>,\n",
       " <selenium.webdriver.remote.webelement.WebElement (session=\"36b8a8e1fa934ccec9f4728feaccc917\", element=\"c091355b-272b-4c81-854a-e38ec7f1780b\")>,\n",
       " <selenium.webdriver.remote.webelement.WebElement (session=\"36b8a8e1fa934ccec9f4728feaccc917\", element=\"ae5e3f73-4701-4d82-92fc-6cf9f803fbe5\")>,\n",
       " <selenium.webdriver.remote.webelement.WebElement (session=\"36b8a8e1fa934ccec9f4728feaccc917\", element=\"9a9359a5-bd6e-4ccf-99ae-104ac6d3b50e\")>,\n",
       " <selenium.webdriver.remote.webelement.WebElement (session=\"36b8a8e1fa934ccec9f4728feaccc917\", element=\"ad89a5da-f2e6-4b9e-ad59-c6de5d2ba12e\")>,\n",
       " <selenium.webdriver.remote.webelement.WebElement (session=\"36b8a8e1fa934ccec9f4728feaccc917\", element=\"e029cd7b-1e9b-442e-a47c-227a81cce501\")>,\n",
       " <selenium.webdriver.remote.webelement.WebElement (session=\"36b8a8e1fa934ccec9f4728feaccc917\", element=\"1d7536e9-3a77-4371-9037-16e10eb48ba7\")>,\n",
       " <selenium.webdriver.remote.webelement.WebElement (session=\"36b8a8e1fa934ccec9f4728feaccc917\", element=\"396e9be9-b41b-422d-a068-7e0bc7f905be\")>,\n",
       " <selenium.webdriver.remote.webelement.WebElement (session=\"36b8a8e1fa934ccec9f4728feaccc917\", element=\"990a11ee-b97b-4758-91e8-8e8814159be9\")>,\n",
       " <selenium.webdriver.remote.webelement.WebElement (session=\"36b8a8e1fa934ccec9f4728feaccc917\", element=\"70f48a1c-0a28-4ca0-9515-733be1cba82f\")>,\n",
       " <selenium.webdriver.remote.webelement.WebElement (session=\"36b8a8e1fa934ccec9f4728feaccc917\", element=\"70554cc9-7975-449e-82a4-63875ee3471c\")>,\n",
       " <selenium.webdriver.remote.webelement.WebElement (session=\"36b8a8e1fa934ccec9f4728feaccc917\", element=\"e773c397-eab2-42c7-adb9-2f37e04334e5\")>,\n",
       " <selenium.webdriver.remote.webelement.WebElement (session=\"36b8a8e1fa934ccec9f4728feaccc917\", element=\"653773e8-d018-439a-9af5-99285ea20f9c\")>]"
      ]
     },
     "execution_count": 327,
     "metadata": {},
     "output_type": "execute_result"
    }
   ],
   "source": [
    "#extract price\n",
    "price_tag=driver.find_elements_by_xpath(\"//div[@class='_30jeq3']\")\n",
    "price_tag[0:100]"
   ]
  },
  {
   "cell_type": "code",
   "execution_count": 328,
   "id": "fb116d3a",
   "metadata": {},
   "outputs": [
    {
     "data": {
      "text/plain": [
       "['₹1,612',\n",
       " '₹945',\n",
       " '₹158',\n",
       " '₹449',\n",
       " '₹249',\n",
       " '₹249',\n",
       " '₹269',\n",
       " '₹499',\n",
       " '₹199',\n",
       " '₹249',\n",
       " '₹422',\n",
       " '₹945',\n",
       " '₹349',\n",
       " '₹192',\n",
       " '₹499',\n",
       " '₹746',\n",
       " '₹424',\n",
       " '₹565',\n",
       " '₹1,758',\n",
       " '₹669',\n",
       " '₹199',\n",
       " '₹269',\n",
       " '₹348',\n",
       " '₹746',\n",
       " '₹499',\n",
       " '₹421',\n",
       " '₹301',\n",
       " '₹746',\n",
       " '₹301',\n",
       " '₹301',\n",
       " '₹449',\n",
       " '₹449',\n",
       " '₹151',\n",
       " '₹384',\n",
       " '₹399',\n",
       " '₹399',\n",
       " '₹599',\n",
       " '₹421',\n",
       " '₹159',\n",
       " '₹945',\n",
       " '₹158',\n",
       " '₹599',\n",
       " '₹269',\n",
       " '₹549',\n",
       " '₹265',\n",
       " '₹499',\n",
       " '₹199',\n",
       " '₹449',\n",
       " '₹249',\n",
       " '₹301',\n",
       " '₹298',\n",
       " '₹249',\n",
       " '₹549',\n",
       " '₹354',\n",
       " '₹549',\n",
       " '₹399',\n",
       " '₹249',\n",
       " '₹599',\n",
       " '₹489',\n",
       " '₹449',\n",
       " '₹399',\n",
       " '₹213',\n",
       " '₹399',\n",
       " '₹213',\n",
       " '₹379',\n",
       " '₹494',\n",
       " '₹344',\n",
       " '₹424',\n",
       " '₹499',\n",
       " '₹670',\n",
       " '₹422',\n",
       " '₹449',\n",
       " '₹489',\n",
       " '₹395',\n",
       " '₹424',\n",
       " '₹945',\n",
       " '₹598',\n",
       " '₹374',\n",
       " '₹349',\n",
       " '₹945',\n",
       " '₹424',\n",
       " '₹201',\n",
       " '₹549',\n",
       " '₹449',\n",
       " '₹449',\n",
       " '₹449',\n",
       " '₹599',\n",
       " '₹449',\n",
       " '₹301',\n",
       " '₹249',\n",
       " '₹435',\n",
       " '₹399',\n",
       " '₹349',\n",
       " '₹424',\n",
       " '₹250',\n",
       " '₹399',\n",
       " '₹183',\n",
       " '₹273',\n",
       " '₹269',\n",
       " '₹746']"
      ]
     },
     "execution_count": 328,
     "metadata": {},
     "output_type": "execute_result"
    }
   ],
   "source": [
    "#we will get the price using for loop\n",
    "\n",
    "for i in price_tag:\n",
    "    price=i.text\n",
    "    price_list_s.append(price)\n",
    "price_list_s[0:100]"
   ]
  },
  {
   "cell_type": "code",
   "execution_count": 329,
   "id": "a9bd28ba",
   "metadata": {},
   "outputs": [
    {
     "data": {
      "text/plain": [
       "[<selenium.webdriver.remote.webelement.WebElement (session=\"36b8a8e1fa934ccec9f4728feaccc917\", element=\"ce68b7e8-1b79-4df8-9c01-181817ffafec\")>,\n",
       " <selenium.webdriver.remote.webelement.WebElement (session=\"36b8a8e1fa934ccec9f4728feaccc917\", element=\"8f1792fc-6c24-458c-8de0-bd888412cc7a\")>,\n",
       " <selenium.webdriver.remote.webelement.WebElement (session=\"36b8a8e1fa934ccec9f4728feaccc917\", element=\"daefcc22-0115-45cb-90ab-b7b71be26f77\")>,\n",
       " <selenium.webdriver.remote.webelement.WebElement (session=\"36b8a8e1fa934ccec9f4728feaccc917\", element=\"a14112bf-8d51-4316-bc36-dc30eeaec614\")>,\n",
       " <selenium.webdriver.remote.webelement.WebElement (session=\"36b8a8e1fa934ccec9f4728feaccc917\", element=\"4a16c5f1-2f38-4bb2-8613-ec7144524eed\")>,\n",
       " <selenium.webdriver.remote.webelement.WebElement (session=\"36b8a8e1fa934ccec9f4728feaccc917\", element=\"9db49239-4971-4359-992c-8b9924527fd3\")>,\n",
       " <selenium.webdriver.remote.webelement.WebElement (session=\"36b8a8e1fa934ccec9f4728feaccc917\", element=\"31ee6c1c-c1c9-4aae-81d5-b3462e62ea87\")>,\n",
       " <selenium.webdriver.remote.webelement.WebElement (session=\"36b8a8e1fa934ccec9f4728feaccc917\", element=\"96e4d438-a34f-44f7-83c9-646d20ecdae2\")>,\n",
       " <selenium.webdriver.remote.webelement.WebElement (session=\"36b8a8e1fa934ccec9f4728feaccc917\", element=\"a81be77a-4e36-468f-8f36-ec5d54b892bc\")>,\n",
       " <selenium.webdriver.remote.webelement.WebElement (session=\"36b8a8e1fa934ccec9f4728feaccc917\", element=\"c2e77477-808c-4304-96b2-96a2b725f975\")>,\n",
       " <selenium.webdriver.remote.webelement.WebElement (session=\"36b8a8e1fa934ccec9f4728feaccc917\", element=\"283e2854-390d-4489-ab36-0cd1031ab5dc\")>,\n",
       " <selenium.webdriver.remote.webelement.WebElement (session=\"36b8a8e1fa934ccec9f4728feaccc917\", element=\"37e2563a-f372-4759-83f0-0b9a19fc1c3a\")>,\n",
       " <selenium.webdriver.remote.webelement.WebElement (session=\"36b8a8e1fa934ccec9f4728feaccc917\", element=\"38ba9e6a-240d-432c-9bcf-677c8d910121\")>,\n",
       " <selenium.webdriver.remote.webelement.WebElement (session=\"36b8a8e1fa934ccec9f4728feaccc917\", element=\"816e8a3f-1dca-4d80-a9db-a9f59ed67683\")>,\n",
       " <selenium.webdriver.remote.webelement.WebElement (session=\"36b8a8e1fa934ccec9f4728feaccc917\", element=\"b08b90f6-2859-4287-91e8-e397950c37ab\")>,\n",
       " <selenium.webdriver.remote.webelement.WebElement (session=\"36b8a8e1fa934ccec9f4728feaccc917\", element=\"d48458fc-9b7a-4e1c-a499-e53d4f2bb247\")>,\n",
       " <selenium.webdriver.remote.webelement.WebElement (session=\"36b8a8e1fa934ccec9f4728feaccc917\", element=\"7bf61682-91e1-435e-b24e-19dfbdb5e442\")>,\n",
       " <selenium.webdriver.remote.webelement.WebElement (session=\"36b8a8e1fa934ccec9f4728feaccc917\", element=\"061327ab-5f8e-4fbf-b90a-553815caa85b\")>,\n",
       " <selenium.webdriver.remote.webelement.WebElement (session=\"36b8a8e1fa934ccec9f4728feaccc917\", element=\"238094a5-0564-4f24-b0f1-a942b108d858\")>,\n",
       " <selenium.webdriver.remote.webelement.WebElement (session=\"36b8a8e1fa934ccec9f4728feaccc917\", element=\"7f49d68e-ffc0-4b14-bba8-3baeaf2a8931\")>,\n",
       " <selenium.webdriver.remote.webelement.WebElement (session=\"36b8a8e1fa934ccec9f4728feaccc917\", element=\"7ffdb043-ba5b-492d-9719-098bf1365c0e\")>,\n",
       " <selenium.webdriver.remote.webelement.WebElement (session=\"36b8a8e1fa934ccec9f4728feaccc917\", element=\"750bbfed-2529-43b8-81a0-d12ccc15ffe5\")>,\n",
       " <selenium.webdriver.remote.webelement.WebElement (session=\"36b8a8e1fa934ccec9f4728feaccc917\", element=\"6d6b4612-f917-4504-95df-b2e7a87aa895\")>,\n",
       " <selenium.webdriver.remote.webelement.WebElement (session=\"36b8a8e1fa934ccec9f4728feaccc917\", element=\"5087bdc3-e689-4c36-a5a9-b7597191ff66\")>,\n",
       " <selenium.webdriver.remote.webelement.WebElement (session=\"36b8a8e1fa934ccec9f4728feaccc917\", element=\"c827c23f-de03-4ccf-b3f0-e32d9ce3d281\")>,\n",
       " <selenium.webdriver.remote.webelement.WebElement (session=\"36b8a8e1fa934ccec9f4728feaccc917\", element=\"32db5480-7e8b-4d17-aac8-605953f2f51e\")>,\n",
       " <selenium.webdriver.remote.webelement.WebElement (session=\"36b8a8e1fa934ccec9f4728feaccc917\", element=\"0c586a82-5f50-4713-811c-2f21e4fe0786\")>,\n",
       " <selenium.webdriver.remote.webelement.WebElement (session=\"36b8a8e1fa934ccec9f4728feaccc917\", element=\"bbf0d740-a723-4b88-bc94-0803dc7782b8\")>,\n",
       " <selenium.webdriver.remote.webelement.WebElement (session=\"36b8a8e1fa934ccec9f4728feaccc917\", element=\"78404264-2666-4962-a2e1-2910266a0a0e\")>,\n",
       " <selenium.webdriver.remote.webelement.WebElement (session=\"36b8a8e1fa934ccec9f4728feaccc917\", element=\"85f9e574-2416-4168-a496-ad2845a29745\")>,\n",
       " <selenium.webdriver.remote.webelement.WebElement (session=\"36b8a8e1fa934ccec9f4728feaccc917\", element=\"83b47624-7737-48da-b00a-6a243547aef8\")>,\n",
       " <selenium.webdriver.remote.webelement.WebElement (session=\"36b8a8e1fa934ccec9f4728feaccc917\", element=\"f0120f8a-aed4-4149-b7fa-7dcfacb900cf\")>]"
      ]
     },
     "execution_count": 329,
     "metadata": {},
     "output_type": "execute_result"
    }
   ],
   "source": [
    "#extract product-disc\n",
    "product_disc=driver.find_elements_by_xpath(\"//a[@class='IRpwTa']\")\n",
    "product_disc[0:100]"
   ]
  },
  {
   "cell_type": "code",
   "execution_count": 330,
   "id": "8bbd154a",
   "metadata": {},
   "outputs": [
    {
     "data": {
      "text/plain": [
       "['Easy Vulc 2.0 Sneakers For Men',\n",
       " 'Sneakers For Men',\n",
       " 'STYLISH MENS BLACK SNEAKER Sneakers For Men',\n",
       " \"Casual , Partywear Sneakers Shoes For Men's And Boys Wh...\",\n",
       " '516 Trendy Star Perfect Sneakers For Men',\n",
       " 'Sneakers For Men',\n",
       " '5011-Latest Collection Stylish & Trendy Casual Sneakers...',\n",
       " 'Modern Trendy Sneakers Shoes Sneakers For Men',\n",
       " 'Sneakers For Men',\n",
       " 'Sneakers For Men',\n",
       " 'Kwik FIT casual sneaker shoes and partywear shoes Casua...',\n",
       " '5013-Latest Collection Stylish & Trendy of casuals Snea...',\n",
       " \"Original Luxury Branded Fashionable Men's Casual Walkin...\",\n",
       " 'Sneakers For Men',\n",
       " 'Sneakers For Men',\n",
       " 'Perfect Combo Pack of 03 Pairs Casual Sneakers Outdoor ...',\n",
       " 'Blend Sneakers For Men',\n",
       " 'Sneakers For Men',\n",
       " 'Men 5014 Latest Collection Stylish Casual Sports Loafer...',\n",
       " 'Sneakers For Men',\n",
       " 'Sneakers Sneakers For Men',\n",
       " 'Original Luxury Branded Black Fancy Casual Walking Part...',\n",
       " 'Casuals, Canvas, Partywear Sneakers For Men',\n",
       " 'Stylish Comfortable Lightweight, Breathable Walking Sho...',\n",
       " 'Sneakers For Men',\n",
       " 'Sports Running Shoes Sneakers For Men',\n",
       " 'Sneaker Sneakers For Men',\n",
       " 'Combo Pack Of 4 Casual Shoes Loafer Shoes Sneakers For ...',\n",
       " 'White Sneakers For Men',\n",
       " 'Lightweight Pack Of 1 Trendy Sneakers Sneakers Sneakers...',\n",
       " \"Casual , Partywear Sneakers Shoes For Men's And Boys Wh...\",\n",
       " 'Sneakers For Men',\n",
       " 'Sneakers For Men',\n",
       " 'Sneakers For Men',\n",
       " 'Series 7 Sneakers For Men',\n",
       " '1259 smart black lace-ups sneakers for men Sneakers For...',\n",
       " 'Sneakers For Men',\n",
       " 'Lightweight Pack Of 1 Trendy Sneakers Sneakers For Men',\n",
       " 'Super Stylish & Trendy Combo Pack of 02 Pairs Sneakers ...',\n",
       " 'Sneakers For Men',\n",
       " 'Lattest Sneakers Shoe Sneakers For Men',\n",
       " 'Latest Collection-1227 Stylish Casual Sports Sneakers F...',\n",
       " 'Sneakers For Men',\n",
       " 'Stylish Comfortable Lightweight, Breathable Walking Sho...',\n",
       " '494 Perfect Sports Shoes for Running Training Hikking &...',\n",
       " 'Stylish & Trending Outdoor Walking Comfortable Sneakers...',\n",
       " 'Men Casual Shoe New Trend With Fashion Panda Desgined L...',\n",
       " 'Sneakers For Men',\n",
       " 'Latest Fashion Combo Pack of 2 Pairs Casual Outdoors Sh...',\n",
       " 'Sneakers For Men',\n",
       " \"Men's Sneakers Fashion Lightweight Running Shoes Tennis...\",\n",
       " 'Unique & Perfect Collection Combo Pack of 02 Shoes for ...',\n",
       " 'casual shoe for men Sneakers For Men',\n",
       " 'casual sneaker shoes for men luxury fashion casual snea...',\n",
       " 'Sneakers For Men',\n",
       " 'Super 445 Fashion Sneakers For Men',\n",
       " 'all white heartbeat casual shoe Sneakers For Men',\n",
       " 'Sneakers For Men',\n",
       " 'Perfect & Affordable Combo Pack of 02 Pairs Sneakers Ou...',\n",
       " 'Sneakers For Men',\n",
       " \"Men's Combo Pack of 02 Shoes for Men Casual Sneakers Ou...\",\n",
       " \"Men's Sneakers Fashion Lightweight Running Shoes Tennis...\",\n",
       " 'Sneakers For Men',\n",
       " 'Sneakers For Men',\n",
       " 'Sneakers For Men',\n",
       " 'Sneakers For Men',\n",
       " 'Shoes in Black Color Party wear/Outdoor/Casual Shoes Fo...',\n",
       " 'Sneakers For Men',\n",
       " 'Sneakers For Men',\n",
       " 'Stylish & Trending Outdoor Walking Comfortable Sneakers...',\n",
       " 'Sneakers For Men',\n",
       " 'casual sneaker shoes and partywear shoes Sneakers For M...',\n",
       " \"white Casual shoes,Sneakers for men's Sneakers For Men\",\n",
       " 'Sneakers For Men',\n",
       " 'Sneakers For Men',\n",
       " 'Stylish Comfortable Lightweight, Breathable Walking Sho...',\n",
       " 'Latest Collection Black-349 Trendy & Stylish Casual Sne...',\n",
       " 'Stylish Party Wear Fashionable Lightweight New arrival ...',\n",
       " 'Sneakers For Men',\n",
       " \"White Sneaker For Men's/Boy's Sneakers For Men\",\n",
       " 'Casual Sneakers White Shoes For Men Sneakers For Men',\n",
       " 'Sneakers For Men',\n",
       " 'sneaker men red 1258 - 6 Sneakers For Men',\n",
       " 'CH-527 Trendy Star Perfect Casuals Sneakers For Men',\n",
       " 'Sneakers For Men',\n",
       " 'Fashion Outdoor Canvas Casual Light Weight Lace-up Even...',\n",
       " 'Sneakers For Men',\n",
       " 'casual shoe for men Sneakers For Men',\n",
       " 'shoe Sneakers For Men',\n",
       " 'Sneakers For Men',\n",
       " 'Unique & Perfect Collection Combo Pack of 02 Shoes for ...',\n",
       " 'Vs Pace Sneakers For Men',\n",
       " 'Stylish & Trending Outdoor Walking Comfortable Sneakers...',\n",
       " 'Combo Pack of 3 Casual Shoes (Sneakers Shoes) Sneakers ...',\n",
       " 'Sneakers For Men',\n",
       " 'Sneakers For Men',\n",
       " 'Sneakers For Men',\n",
       " 'Sneakers For Men',\n",
       " 'Synthetic Leather Sneakers For Men',\n",
       " 'Fashion & Trendy Sports Shoes Sneakers For Men']"
      ]
     },
     "execution_count": 330,
     "metadata": {},
     "output_type": "execute_result"
    }
   ],
   "source": [
    "#we will get the product disc text using for loop\n",
    "\n",
    "for i in product_disc:\n",
    "    product=i.text\n",
    "    product_disc_list_s.append(product)\n",
    "product_disc_list_s[0:100]"
   ]
  },
  {
   "cell_type": "code",
   "execution_count": 331,
   "id": "54fc3d26",
   "metadata": {},
   "outputs": [
    {
     "data": {
      "text/plain": [
       "[<selenium.webdriver.remote.webelement.WebElement (session=\"36b8a8e1fa934ccec9f4728feaccc917\", element=\"2e5609b9-3f6e-4ba2-8acf-57dba7813024\")>,\n",
       " <selenium.webdriver.remote.webelement.WebElement (session=\"36b8a8e1fa934ccec9f4728feaccc917\", element=\"81069085-b944-4bb2-a5ae-3538bc012dc7\")>,\n",
       " <selenium.webdriver.remote.webelement.WebElement (session=\"36b8a8e1fa934ccec9f4728feaccc917\", element=\"c8af53ab-4143-4d78-a94b-180fef85c5a6\")>,\n",
       " <selenium.webdriver.remote.webelement.WebElement (session=\"36b8a8e1fa934ccec9f4728feaccc917\", element=\"1d1b20eb-6222-4068-8ebb-9cdf59e22206\")>,\n",
       " <selenium.webdriver.remote.webelement.WebElement (session=\"36b8a8e1fa934ccec9f4728feaccc917\", element=\"29e25109-6913-4482-b83b-b35569e21ea1\")>,\n",
       " <selenium.webdriver.remote.webelement.WebElement (session=\"36b8a8e1fa934ccec9f4728feaccc917\", element=\"785aedea-067d-481f-808e-c89366b37cc0\")>,\n",
       " <selenium.webdriver.remote.webelement.WebElement (session=\"36b8a8e1fa934ccec9f4728feaccc917\", element=\"c9165eaa-f11b-44bc-928c-e1ccda4c4899\")>,\n",
       " <selenium.webdriver.remote.webelement.WebElement (session=\"36b8a8e1fa934ccec9f4728feaccc917\", element=\"1a6ec1cf-a7b5-4827-bac5-d79e3a32bfed\")>,\n",
       " <selenium.webdriver.remote.webelement.WebElement (session=\"36b8a8e1fa934ccec9f4728feaccc917\", element=\"4d663381-2336-46cc-bfb4-dcde836f00de\")>,\n",
       " <selenium.webdriver.remote.webelement.WebElement (session=\"36b8a8e1fa934ccec9f4728feaccc917\", element=\"69ea3ebc-c01f-4e62-bf44-813998df4868\")>,\n",
       " <selenium.webdriver.remote.webelement.WebElement (session=\"36b8a8e1fa934ccec9f4728feaccc917\", element=\"56b22917-37ac-4d4f-995c-8e78e1c3db31\")>,\n",
       " <selenium.webdriver.remote.webelement.WebElement (session=\"36b8a8e1fa934ccec9f4728feaccc917\", element=\"4a8b487d-c4fb-4b41-b393-a1c1f09a4c63\")>,\n",
       " <selenium.webdriver.remote.webelement.WebElement (session=\"36b8a8e1fa934ccec9f4728feaccc917\", element=\"14562b11-41b7-4076-9a47-955b7b8e07f5\")>,\n",
       " <selenium.webdriver.remote.webelement.WebElement (session=\"36b8a8e1fa934ccec9f4728feaccc917\", element=\"1b0eb36e-e639-48d5-88bd-05bd91dead37\")>,\n",
       " <selenium.webdriver.remote.webelement.WebElement (session=\"36b8a8e1fa934ccec9f4728feaccc917\", element=\"448a7dc6-cfa2-4922-81db-32e2a6a43318\")>,\n",
       " <selenium.webdriver.remote.webelement.WebElement (session=\"36b8a8e1fa934ccec9f4728feaccc917\", element=\"235b4694-df27-4d0c-bf7f-326ded930636\")>,\n",
       " <selenium.webdriver.remote.webelement.WebElement (session=\"36b8a8e1fa934ccec9f4728feaccc917\", element=\"b450f8e5-266f-4e7a-a30d-b2988428c412\")>,\n",
       " <selenium.webdriver.remote.webelement.WebElement (session=\"36b8a8e1fa934ccec9f4728feaccc917\", element=\"3593eb6f-7e25-4378-a4b9-90a93bd7ad6a\")>,\n",
       " <selenium.webdriver.remote.webelement.WebElement (session=\"36b8a8e1fa934ccec9f4728feaccc917\", element=\"0db8ae91-b2a8-43e3-9fd5-003a2e84cfdf\")>,\n",
       " <selenium.webdriver.remote.webelement.WebElement (session=\"36b8a8e1fa934ccec9f4728feaccc917\", element=\"b7b6402c-f250-4e5b-9cb5-63f0152a57c6\")>,\n",
       " <selenium.webdriver.remote.webelement.WebElement (session=\"36b8a8e1fa934ccec9f4728feaccc917\", element=\"28040c44-93a2-4bce-b97a-906c3079d637\")>,\n",
       " <selenium.webdriver.remote.webelement.WebElement (session=\"36b8a8e1fa934ccec9f4728feaccc917\", element=\"18706c81-72a5-407d-a5cb-8eb67d9658b3\")>,\n",
       " <selenium.webdriver.remote.webelement.WebElement (session=\"36b8a8e1fa934ccec9f4728feaccc917\", element=\"971d4b27-a841-47d4-ac42-de006b873bf5\")>,\n",
       " <selenium.webdriver.remote.webelement.WebElement (session=\"36b8a8e1fa934ccec9f4728feaccc917\", element=\"d14761b4-c978-42a2-9993-23cb4eafd950\")>,\n",
       " <selenium.webdriver.remote.webelement.WebElement (session=\"36b8a8e1fa934ccec9f4728feaccc917\", element=\"148ce368-01ba-419d-b1de-7f63bd93a200\")>,\n",
       " <selenium.webdriver.remote.webelement.WebElement (session=\"36b8a8e1fa934ccec9f4728feaccc917\", element=\"4755a777-4de4-472d-9b0c-d50dc11d2d74\")>,\n",
       " <selenium.webdriver.remote.webelement.WebElement (session=\"36b8a8e1fa934ccec9f4728feaccc917\", element=\"89a127b0-252c-403b-b96a-79c5a049394d\")>,\n",
       " <selenium.webdriver.remote.webelement.WebElement (session=\"36b8a8e1fa934ccec9f4728feaccc917\", element=\"5b583173-b1a0-4de2-adbd-3d9288edef2a\")>,\n",
       " <selenium.webdriver.remote.webelement.WebElement (session=\"36b8a8e1fa934ccec9f4728feaccc917\", element=\"71be4c6d-4fcd-4653-bc3d-e63e837700dc\")>,\n",
       " <selenium.webdriver.remote.webelement.WebElement (session=\"36b8a8e1fa934ccec9f4728feaccc917\", element=\"2eaec528-5e86-4ccc-af71-d2edc45e4643\")>,\n",
       " <selenium.webdriver.remote.webelement.WebElement (session=\"36b8a8e1fa934ccec9f4728feaccc917\", element=\"3cd04e61-5e71-41b8-b17f-bd9785308dac\")>,\n",
       " <selenium.webdriver.remote.webelement.WebElement (session=\"36b8a8e1fa934ccec9f4728feaccc917\", element=\"845ce9ef-cecb-44c6-a964-7c6ba0af1fb4\")>,\n",
       " <selenium.webdriver.remote.webelement.WebElement (session=\"36b8a8e1fa934ccec9f4728feaccc917\", element=\"d984fa81-66af-4331-99e7-d54d891b31e7\")>,\n",
       " <selenium.webdriver.remote.webelement.WebElement (session=\"36b8a8e1fa934ccec9f4728feaccc917\", element=\"1b3c3191-454f-4c54-86a4-705b6ef4e10d\")>,\n",
       " <selenium.webdriver.remote.webelement.WebElement (session=\"36b8a8e1fa934ccec9f4728feaccc917\", element=\"5ae3b405-130c-4634-9c27-52eee2cf6e21\")>,\n",
       " <selenium.webdriver.remote.webelement.WebElement (session=\"36b8a8e1fa934ccec9f4728feaccc917\", element=\"6c15f855-c505-4bed-a81b-8c8d22206dd6\")>,\n",
       " <selenium.webdriver.remote.webelement.WebElement (session=\"36b8a8e1fa934ccec9f4728feaccc917\", element=\"57c51148-9ff0-4c49-913a-7f0091c093cb\")>,\n",
       " <selenium.webdriver.remote.webelement.WebElement (session=\"36b8a8e1fa934ccec9f4728feaccc917\", element=\"ac9a49b0-4534-4662-9313-9aaa123848c4\")>,\n",
       " <selenium.webdriver.remote.webelement.WebElement (session=\"36b8a8e1fa934ccec9f4728feaccc917\", element=\"f9436c1a-1b04-453b-8cc0-227464961fdc\")>,\n",
       " <selenium.webdriver.remote.webelement.WebElement (session=\"36b8a8e1fa934ccec9f4728feaccc917\", element=\"a1857d19-aab9-41e2-bd72-9ce21218c154\")>]"
      ]
     },
     "execution_count": 331,
     "metadata": {},
     "output_type": "execute_result"
    }
   ],
   "source": [
    "#extract brand names\n",
    "brand_names=driver.find_elements_by_xpath(\"//div[@class='_2WkVRV']\")\n",
    "brand_names[0:100]"
   ]
  },
  {
   "cell_type": "code",
   "execution_count": 332,
   "id": "389b090a",
   "metadata": {},
   "outputs": [
    {
     "data": {
      "text/plain": [
       "['ADIDAS',\n",
       " 'HIGHLANDER',\n",
       " 'URBANBOX',\n",
       " 'corsac',\n",
       " 'D-SNEAKERZ',\n",
       " 'Chevit',\n",
       " 'aadi',\n",
       " 'SHELBY',\n",
       " 'World Wear Footwear',\n",
       " 'BRUTON',\n",
       " 'Magnolia',\n",
       " 'HIGHLANDER',\n",
       " 'KWIK FIT',\n",
       " 'World Wear Footwear',\n",
       " 'ASTEROID',\n",
       " 'HIGHLANDER',\n",
       " 'Labbin',\n",
       " 'Chevit',\n",
       " 'PUMA',\n",
       " 'HIGHLANDER',\n",
       " 'World Wear Footwear',\n",
       " 'aadi',\n",
       " 'SCATCHITE',\n",
       " 'HIGHLANDER',\n",
       " 'ASTEROID',\n",
       " 'Kraasa',\n",
       " 'BIRDE',\n",
       " 'HIGHLANDER',\n",
       " 'BIRDE',\n",
       " 'BRUTON',\n",
       " 'BRUTON',\n",
       " 'Bacan',\n",
       " 'BRUTON',\n",
       " 'D-SNEAKERZ',\n",
       " 'Layasa',\n",
       " 'Layasa',\n",
       " 'CLYMB',\n",
       " 'Kraasa',\n",
       " 'Airland',\n",
       " 'HIGHLANDER',\n",
       " 'BRUTON',\n",
       " 'Chevit',\n",
       " 'aadi',\n",
       " 'Arivo',\n",
       " 'BRUTON',\n",
       " 'corsac',\n",
       " 'World Wear Footwear',\n",
       " 'Brothers Gift',\n",
       " 'Chevit',\n",
       " 'BIRDE',\n",
       " 'Zsyto',\n",
       " 'Chevit',\n",
       " 'WHITE WALKERS',\n",
       " 'LuvShus',\n",
       " 'Rzisbo',\n",
       " 'Chevit',\n",
       " 'Kzaara',\n",
       " 'Hida',\n",
       " 'Echor',\n",
       " 'Chevit',\n",
       " 'bluemaker',\n",
       " 'Chevit',\n",
       " 'kardam&sons',\n",
       " 'Chevit',\n",
       " 'Arohi',\n",
       " 'Chevit',\n",
       " 'EMPTILE',\n",
       " 'Bacan',\n",
       " 'Chevit',\n",
       " 'RapidBox',\n",
       " 'Magnolia',\n",
       " 'Chevit',\n",
       " 'Echor',\n",
       " 'ZF - ALFIYA',\n",
       " 'Robbie jones',\n",
       " 'HIGHLANDER',\n",
       " 'KNIGHT WALKERS',\n",
       " 'Kraasa',\n",
       " 'EZDEZARIO',\n",
       " 'HIGHLANDER',\n",
       " 'Robbie jones',\n",
       " 'Stefano Rads',\n",
       " 'WHITE WALKERS',\n",
       " 'tigonis',\n",
       " 'DUNKASTON',\n",
       " 'Xtoon',\n",
       " 'CLYMB',\n",
       " 'Bacan',\n",
       " 'BIRDE',\n",
       " 'World Wear Footwear',\n",
       " 'OUTALYFE',\n",
       " 'DUNKASTON',\n",
       " 'Shoes Bank',\n",
       " 'Robbie jones',\n",
       " 'ONECENTRE',\n",
       " 'Layasa',\n",
       " 'Airland',\n",
       " 'Chevit',\n",
       " 'aadi',\n",
       " 'HIGHLANDER']"
      ]
     },
     "execution_count": 332,
     "metadata": {},
     "output_type": "execute_result"
    }
   ],
   "source": [
    "#we will get the brand name text using for loop\n",
    "\n",
    "for i in brand_names:\n",
    "    brand=i.text\n",
    "    brand_names_list_s.append(brand)\n",
    "brand_names_list_s[0:100]"
   ]
  },
  {
   "cell_type": "code",
   "execution_count": 333,
   "id": "a2e13595",
   "metadata": {},
   "outputs": [],
   "source": [
    "#import pandas as pd\n",
    "sneaker=pd.DataFrame({})\n",
    "sneaker[\"Brand Name\"]=brand_names_list_s[0:100]\n",
    "sneaker[\"Discription\"]=product_disc_list_s[0:100]\n",
    "sneaker[\"Price\"]=price_list_s[0:100]\n",
    "sneaker[\"Discount\"]=discount_per_list_s[0:100]"
   ]
  },
  {
   "cell_type": "code",
   "execution_count": 334,
   "id": "35ea6bf3",
   "metadata": {},
   "outputs": [
    {
     "data": {
      "text/html": [
       "<div>\n",
       "<style scoped>\n",
       "    .dataframe tbody tr th:only-of-type {\n",
       "        vertical-align: middle;\n",
       "    }\n",
       "\n",
       "    .dataframe tbody tr th {\n",
       "        vertical-align: top;\n",
       "    }\n",
       "\n",
       "    .dataframe thead th {\n",
       "        text-align: right;\n",
       "    }\n",
       "</style>\n",
       "<table border=\"1\" class=\"dataframe\">\n",
       "  <thead>\n",
       "    <tr style=\"text-align: right;\">\n",
       "      <th></th>\n",
       "      <th>Brand Name</th>\n",
       "      <th>Discription</th>\n",
       "      <th>Price</th>\n",
       "      <th>Discount</th>\n",
       "    </tr>\n",
       "  </thead>\n",
       "  <tbody>\n",
       "    <tr>\n",
       "      <th>0</th>\n",
       "      <td>ADIDAS</td>\n",
       "      <td>Easy Vulc 2.0 Sneakers For Men</td>\n",
       "      <td>₹1,612</td>\n",
       "      <td>59% off</td>\n",
       "    </tr>\n",
       "    <tr>\n",
       "      <th>1</th>\n",
       "      <td>HIGHLANDER</td>\n",
       "      <td>Sneakers For Men</td>\n",
       "      <td>₹945</td>\n",
       "      <td>52% off</td>\n",
       "    </tr>\n",
       "    <tr>\n",
       "      <th>2</th>\n",
       "      <td>URBANBOX</td>\n",
       "      <td>STYLISH MENS BLACK SNEAKER Sneakers For Men</td>\n",
       "      <td>₹158</td>\n",
       "      <td>84% off</td>\n",
       "    </tr>\n",
       "    <tr>\n",
       "      <th>3</th>\n",
       "      <td>corsac</td>\n",
       "      <td>Casual , Partywear Sneakers Shoes For Men's An...</td>\n",
       "      <td>₹449</td>\n",
       "      <td>70% off</td>\n",
       "    </tr>\n",
       "    <tr>\n",
       "      <th>4</th>\n",
       "      <td>D-SNEAKERZ</td>\n",
       "      <td>516 Trendy Star Perfect Sneakers For Men</td>\n",
       "      <td>₹249</td>\n",
       "      <td>62% off</td>\n",
       "    </tr>\n",
       "    <tr>\n",
       "      <th>...</th>\n",
       "      <td>...</td>\n",
       "      <td>...</td>\n",
       "      <td>...</td>\n",
       "      <td>...</td>\n",
       "    </tr>\n",
       "    <tr>\n",
       "      <th>95</th>\n",
       "      <td>Layasa</td>\n",
       "      <td>Sneakers For Men</td>\n",
       "      <td>₹399</td>\n",
       "      <td>60% off</td>\n",
       "    </tr>\n",
       "    <tr>\n",
       "      <th>96</th>\n",
       "      <td>Airland</td>\n",
       "      <td>Sneakers For Men</td>\n",
       "      <td>₹183</td>\n",
       "      <td>63% off</td>\n",
       "    </tr>\n",
       "    <tr>\n",
       "      <th>97</th>\n",
       "      <td>Chevit</td>\n",
       "      <td>Sneakers For Men</td>\n",
       "      <td>₹273</td>\n",
       "      <td>65% off</td>\n",
       "    </tr>\n",
       "    <tr>\n",
       "      <th>98</th>\n",
       "      <td>aadi</td>\n",
       "      <td>Synthetic Leather Sneakers For Men</td>\n",
       "      <td>₹269</td>\n",
       "      <td>73% off</td>\n",
       "    </tr>\n",
       "    <tr>\n",
       "      <th>99</th>\n",
       "      <td>HIGHLANDER</td>\n",
       "      <td>Fashion &amp; Trendy Sports Shoes Sneakers For Men</td>\n",
       "      <td>₹746</td>\n",
       "      <td>62% off</td>\n",
       "    </tr>\n",
       "  </tbody>\n",
       "</table>\n",
       "<p>100 rows × 4 columns</p>\n",
       "</div>"
      ],
      "text/plain": [
       "    Brand Name                                        Discription   Price  \\\n",
       "0       ADIDAS                     Easy Vulc 2.0 Sneakers For Men  ₹1,612   \n",
       "1   HIGHLANDER                                   Sneakers For Men    ₹945   \n",
       "2     URBANBOX        STYLISH MENS BLACK SNEAKER Sneakers For Men    ₹158   \n",
       "3       corsac  Casual , Partywear Sneakers Shoes For Men's An...    ₹449   \n",
       "4   D-SNEAKERZ           516 Trendy Star Perfect Sneakers For Men    ₹249   \n",
       "..         ...                                                ...     ...   \n",
       "95      Layasa                                   Sneakers For Men    ₹399   \n",
       "96     Airland                                   Sneakers For Men    ₹183   \n",
       "97      Chevit                                   Sneakers For Men    ₹273   \n",
       "98        aadi                 Synthetic Leather Sneakers For Men    ₹269   \n",
       "99  HIGHLANDER     Fashion & Trendy Sports Shoes Sneakers For Men    ₹746   \n",
       "\n",
       "   Discount  \n",
       "0   59% off  \n",
       "1   52% off  \n",
       "2   84% off  \n",
       "3   70% off  \n",
       "4   62% off  \n",
       "..      ...  \n",
       "95  60% off  \n",
       "96  63% off  \n",
       "97  65% off  \n",
       "98  73% off  \n",
       "99  62% off  \n",
       "\n",
       "[100 rows x 4 columns]"
      ]
     },
     "execution_count": 334,
     "metadata": {},
     "output_type": "execute_result"
    }
   ],
   "source": [
    "sneaker"
   ]
  },
  {
   "cell_type": "code",
   "execution_count": 335,
   "id": "63896666",
   "metadata": {},
   "outputs": [],
   "source": [
    "driver.close()"
   ]
  },
  {
   "cell_type": "markdown",
   "id": "dbaef12d",
   "metadata": {},
   "source": [
    "# Go to the link - https://www.myntra.com/shoes\n",
    "Set Price filter to “Rs. 7149 to Rs. 14099 ” , Color filter to “Black”, as shown inthe below image.\n",
    "And then scrape First 100 shoes data you get. The data should include “Brand” of the shoes , Short Shoe\n",
    "description, price of the shoe as shown in the below image.\n",
    "Note: Applying the filter and scraping the data, everything should be done through code only and there\n",
    "should not be any manual step."
   ]
  },
  {
   "cell_type": "code",
   "execution_count": 353,
   "id": "d72f05f1",
   "metadata": {},
   "outputs": [],
   "source": [
    "driver=webdriver.Chrome(\"chromedriver.exe\")\n",
    "time.sleep(2)"
   ]
  },
  {
   "cell_type": "code",
   "execution_count": 354,
   "id": "0d2793b9",
   "metadata": {},
   "outputs": [],
   "source": [
    "driver.get(\"https://www.myntra.com/shoes\")"
   ]
  },
  {
   "cell_type": "code",
   "execution_count": 355,
   "id": "74814a9c",
   "metadata": {},
   "outputs": [],
   "source": [
    "#Set Color filter to “Black”\n",
    "add_filter_color=driver.find_element_by_xpath(\"/html/body/div[2]/div/div[1]/main/div[3]/div[1]/section/div/div[6]/ul/li[1]/label\")\n",
    "add_filter_color.click()"
   ]
  },
  {
   "cell_type": "code",
   "execution_count": 358,
   "id": "363c7bd4",
   "metadata": {},
   "outputs": [],
   "source": [
    "#Set Price filter to “Rs. 7149 to Rs. 14099 ”\n",
    "add_filter_price=driver.find_element_by_xpath(\"/html/body/div[2]/div/div[1]/main/div[3]/div[1]/section/div/div[5]/ul/li[2]/label\")\n",
    "add_filter_price.click()"
   ]
  },
  {
   "cell_type": "code",
   "execution_count": 383,
   "id": "8ea9ffd8",
   "metadata": {},
   "outputs": [],
   "source": [
    "brand_names_list=[]\n",
    "product_disc_list=[]\n",
    "price_list_1=[]"
   ]
  },
  {
   "cell_type": "code",
   "execution_count": 384,
   "id": "32cdb16f",
   "metadata": {},
   "outputs": [
    {
     "data": {
      "text/plain": [
       "[<selenium.webdriver.remote.webelement.WebElement (session=\"41fbdcef14932a64006005f6fe7b6746\", element=\"d7af0412-76a0-41e4-99c4-d40966373f93\")>,\n",
       " <selenium.webdriver.remote.webelement.WebElement (session=\"41fbdcef14932a64006005f6fe7b6746\", element=\"c0c91eba-f43b-4cfd-9604-f46bc05f8dcc\")>,\n",
       " <selenium.webdriver.remote.webelement.WebElement (session=\"41fbdcef14932a64006005f6fe7b6746\", element=\"981bed75-cb6a-44f3-917c-c1ab7667d5b7\")>,\n",
       " <selenium.webdriver.remote.webelement.WebElement (session=\"41fbdcef14932a64006005f6fe7b6746\", element=\"51c4f11c-67b5-4691-a10e-273919510ba6\")>,\n",
       " <selenium.webdriver.remote.webelement.WebElement (session=\"41fbdcef14932a64006005f6fe7b6746\", element=\"9a9c940a-92b1-4207-b85e-18a036854cc7\")>,\n",
       " <selenium.webdriver.remote.webelement.WebElement (session=\"41fbdcef14932a64006005f6fe7b6746\", element=\"e1bf9f96-c9db-492a-a2f6-ba6c85a55c66\")>,\n",
       " <selenium.webdriver.remote.webelement.WebElement (session=\"41fbdcef14932a64006005f6fe7b6746\", element=\"64d341db-bd35-419e-8864-92f01b1ae816\")>,\n",
       " <selenium.webdriver.remote.webelement.WebElement (session=\"41fbdcef14932a64006005f6fe7b6746\", element=\"a976704f-0e1c-4cfd-9d0f-1e3a5da63169\")>,\n",
       " <selenium.webdriver.remote.webelement.WebElement (session=\"41fbdcef14932a64006005f6fe7b6746\", element=\"34a039a6-8440-4e10-b285-ceb4d2fd8927\")>,\n",
       " <selenium.webdriver.remote.webelement.WebElement (session=\"41fbdcef14932a64006005f6fe7b6746\", element=\"62b9a08a-9890-403f-9e5a-5f0a9c1cfa1e\")>,\n",
       " <selenium.webdriver.remote.webelement.WebElement (session=\"41fbdcef14932a64006005f6fe7b6746\", element=\"a4011290-81da-482d-b2ce-7bb59c763767\")>,\n",
       " <selenium.webdriver.remote.webelement.WebElement (session=\"41fbdcef14932a64006005f6fe7b6746\", element=\"4d04bc58-22e0-4854-8daf-f20aa9c59999\")>,\n",
       " <selenium.webdriver.remote.webelement.WebElement (session=\"41fbdcef14932a64006005f6fe7b6746\", element=\"1a7f2281-90d9-466d-869a-daf553ff3802\")>,\n",
       " <selenium.webdriver.remote.webelement.WebElement (session=\"41fbdcef14932a64006005f6fe7b6746\", element=\"820c8fc4-b021-4f44-af81-0c1d738ebff3\")>,\n",
       " <selenium.webdriver.remote.webelement.WebElement (session=\"41fbdcef14932a64006005f6fe7b6746\", element=\"d55c335d-0c19-4c87-be56-636569e47d19\")>,\n",
       " <selenium.webdriver.remote.webelement.WebElement (session=\"41fbdcef14932a64006005f6fe7b6746\", element=\"fecf5943-950d-4f8d-b289-f0d7985edd9a\")>,\n",
       " <selenium.webdriver.remote.webelement.WebElement (session=\"41fbdcef14932a64006005f6fe7b6746\", element=\"9b50467d-6d24-4876-bfa3-87825c5b3f22\")>,\n",
       " <selenium.webdriver.remote.webelement.WebElement (session=\"41fbdcef14932a64006005f6fe7b6746\", element=\"ef7e0d6b-783c-49c0-9f85-2b502db071e0\")>,\n",
       " <selenium.webdriver.remote.webelement.WebElement (session=\"41fbdcef14932a64006005f6fe7b6746\", element=\"a6d295db-e8b3-4307-ab50-3b9586da3be1\")>,\n",
       " <selenium.webdriver.remote.webelement.WebElement (session=\"41fbdcef14932a64006005f6fe7b6746\", element=\"0de521eb-1bdf-45fa-aca0-f11f2f5bcacc\")>,\n",
       " <selenium.webdriver.remote.webelement.WebElement (session=\"41fbdcef14932a64006005f6fe7b6746\", element=\"014513f2-fad8-476c-9157-6a546ce0f4b4\")>,\n",
       " <selenium.webdriver.remote.webelement.WebElement (session=\"41fbdcef14932a64006005f6fe7b6746\", element=\"d9e2de3b-e287-4a68-b720-3179b0a393c0\")>,\n",
       " <selenium.webdriver.remote.webelement.WebElement (session=\"41fbdcef14932a64006005f6fe7b6746\", element=\"6400bfb6-a58c-4639-9168-f13b97e7867b\")>,\n",
       " <selenium.webdriver.remote.webelement.WebElement (session=\"41fbdcef14932a64006005f6fe7b6746\", element=\"a680c3a7-95a0-446c-8869-437e0bf8471e\")>,\n",
       " <selenium.webdriver.remote.webelement.WebElement (session=\"41fbdcef14932a64006005f6fe7b6746\", element=\"c4a9a3ed-176e-422c-8c63-79419e9503b2\")>,\n",
       " <selenium.webdriver.remote.webelement.WebElement (session=\"41fbdcef14932a64006005f6fe7b6746\", element=\"8e824731-9d04-4481-a548-5c4e8b30f44b\")>,\n",
       " <selenium.webdriver.remote.webelement.WebElement (session=\"41fbdcef14932a64006005f6fe7b6746\", element=\"9854ad25-fac8-43c5-814e-6c0d9fc4e00a\")>,\n",
       " <selenium.webdriver.remote.webelement.WebElement (session=\"41fbdcef14932a64006005f6fe7b6746\", element=\"3951d684-8125-4796-9da1-986155b190a8\")>,\n",
       " <selenium.webdriver.remote.webelement.WebElement (session=\"41fbdcef14932a64006005f6fe7b6746\", element=\"8bb7dd00-b69b-4111-9cfe-3d830d306b5a\")>,\n",
       " <selenium.webdriver.remote.webelement.WebElement (session=\"41fbdcef14932a64006005f6fe7b6746\", element=\"393a82a0-53e1-4994-b4f6-3726a8b877ff\")>,\n",
       " <selenium.webdriver.remote.webelement.WebElement (session=\"41fbdcef14932a64006005f6fe7b6746\", element=\"9c8e2613-7e8a-4f90-8fbe-2959ca27384d\")>,\n",
       " <selenium.webdriver.remote.webelement.WebElement (session=\"41fbdcef14932a64006005f6fe7b6746\", element=\"14356dc2-bca3-45bf-a24a-34ab5a824281\")>,\n",
       " <selenium.webdriver.remote.webelement.WebElement (session=\"41fbdcef14932a64006005f6fe7b6746\", element=\"1ee5f421-4027-4b9c-99e0-062626179330\")>,\n",
       " <selenium.webdriver.remote.webelement.WebElement (session=\"41fbdcef14932a64006005f6fe7b6746\", element=\"28484406-73ee-4681-9fec-6971a878bf72\")>,\n",
       " <selenium.webdriver.remote.webelement.WebElement (session=\"41fbdcef14932a64006005f6fe7b6746\", element=\"919cefc1-adf6-417d-903a-5274a1359248\")>,\n",
       " <selenium.webdriver.remote.webelement.WebElement (session=\"41fbdcef14932a64006005f6fe7b6746\", element=\"494278a6-8b51-4ca8-879c-64166b2acf23\")>,\n",
       " <selenium.webdriver.remote.webelement.WebElement (session=\"41fbdcef14932a64006005f6fe7b6746\", element=\"f8bd7cb7-98e7-4365-8002-a75452b25cf0\")>,\n",
       " <selenium.webdriver.remote.webelement.WebElement (session=\"41fbdcef14932a64006005f6fe7b6746\", element=\"f076cc78-9e4c-49e3-bddc-6a90537c7fed\")>,\n",
       " <selenium.webdriver.remote.webelement.WebElement (session=\"41fbdcef14932a64006005f6fe7b6746\", element=\"ccc3c891-cb8a-400c-b9f0-6cbc13bddd79\")>,\n",
       " <selenium.webdriver.remote.webelement.WebElement (session=\"41fbdcef14932a64006005f6fe7b6746\", element=\"3a0ad2e2-be6b-4e2b-b55f-988552ef226a\")>,\n",
       " <selenium.webdriver.remote.webelement.WebElement (session=\"41fbdcef14932a64006005f6fe7b6746\", element=\"2f85caf5-71fc-482f-99df-d791b20d7936\")>,\n",
       " <selenium.webdriver.remote.webelement.WebElement (session=\"41fbdcef14932a64006005f6fe7b6746\", element=\"a9571065-eee7-4a5d-b0c3-a744b44ba7a2\")>,\n",
       " <selenium.webdriver.remote.webelement.WebElement (session=\"41fbdcef14932a64006005f6fe7b6746\", element=\"f578214a-95c1-4262-ae11-5c8f04072581\")>,\n",
       " <selenium.webdriver.remote.webelement.WebElement (session=\"41fbdcef14932a64006005f6fe7b6746\", element=\"732115d0-7674-4bfd-ab1d-2fd3d6aa964a\")>,\n",
       " <selenium.webdriver.remote.webelement.WebElement (session=\"41fbdcef14932a64006005f6fe7b6746\", element=\"bed29e7a-add6-44aa-a2e9-afd90ccd8fe5\")>,\n",
       " <selenium.webdriver.remote.webelement.WebElement (session=\"41fbdcef14932a64006005f6fe7b6746\", element=\"c68e0d67-e80e-4dd2-a037-c98d4d78b21b\")>,\n",
       " <selenium.webdriver.remote.webelement.WebElement (session=\"41fbdcef14932a64006005f6fe7b6746\", element=\"99034fba-b052-4fb9-a01d-4d5bf22a3e06\")>,\n",
       " <selenium.webdriver.remote.webelement.WebElement (session=\"41fbdcef14932a64006005f6fe7b6746\", element=\"897bb95e-a467-4f8d-82b4-69245470ebe4\")>,\n",
       " <selenium.webdriver.remote.webelement.WebElement (session=\"41fbdcef14932a64006005f6fe7b6746\", element=\"c44d9008-b47a-4f59-a762-76c2b43ffd81\")>,\n",
       " <selenium.webdriver.remote.webelement.WebElement (session=\"41fbdcef14932a64006005f6fe7b6746\", element=\"9febb9ee-614b-48d7-bd5f-4cd849400bbf\")>]"
      ]
     },
     "execution_count": 384,
     "metadata": {},
     "output_type": "execute_result"
    }
   ],
   "source": [
    "#extract brand names\n",
    "brand_names=driver.find_elements_by_xpath(\"//h3[@class='product-brand']\")\n",
    "brand_names"
   ]
  },
  {
   "cell_type": "code",
   "execution_count": 385,
   "id": "246bfa0b",
   "metadata": {},
   "outputs": [
    {
     "data": {
      "text/plain": [
       "['Nike',\n",
       " 'ALDO',\n",
       " 'ALDO',\n",
       " 'Hush Puppies',\n",
       " 'ADIDAS',\n",
       " 'Puma',\n",
       " 'ALDO',\n",
       " 'Skechers',\n",
       " 'Puma',\n",
       " 'Skechers',\n",
       " 'one8 x PUMA',\n",
       " 'ALDO',\n",
       " 'Skechers',\n",
       " 'Puma',\n",
       " 'PUMA Motorsport',\n",
       " 'ADIDAS',\n",
       " 'PUMA Motorsport',\n",
       " 'Columbia',\n",
       " 'Reebok',\n",
       " 'Nike',\n",
       " 'Bugatti',\n",
       " 'Clarks',\n",
       " 'Puma',\n",
       " 'PUMA Motorsport',\n",
       " 'ADIDAS Originals',\n",
       " 'Hush Puppies',\n",
       " 'PUMA Motorsport',\n",
       " 'ADIDAS',\n",
       " 'Puma',\n",
       " 'Puma',\n",
       " 'ADIDAS',\n",
       " 'Bugatti',\n",
       " 'Hush Puppies',\n",
       " 'Tommy Hilfiger',\n",
       " 'Tommy Hilfiger',\n",
       " 'Hush Puppies',\n",
       " 'Tommy Hilfiger',\n",
       " 'Puma',\n",
       " 'ADIDAS Originals',\n",
       " 'PUMA Motorsport',\n",
       " 'FILA',\n",
       " 'DAVINCHI',\n",
       " 'Puma',\n",
       " 'Puma',\n",
       " 'DAVINCHI',\n",
       " 'Saint G',\n",
       " 'Bugatti',\n",
       " 'DEL MONDO',\n",
       " 'ADIDAS',\n",
       " 'ADIDAS']"
      ]
     },
     "execution_count": 385,
     "metadata": {},
     "output_type": "execute_result"
    }
   ],
   "source": [
    "#we will get the brand text using for loop\n",
    "\n",
    "for i in brand_names:\n",
    "    brand=i.text\n",
    "    brand_names_list.append(brand)\n",
    "brand_names_list"
   ]
  },
  {
   "cell_type": "code",
   "execution_count": 386,
   "id": "98151ab7",
   "metadata": {},
   "outputs": [
    {
     "data": {
      "text/plain": [
       "[<selenium.webdriver.remote.webelement.WebElement (session=\"41fbdcef14932a64006005f6fe7b6746\", element=\"6eaa8dcd-c751-4324-bd55-a4099e8898eb\")>,\n",
       " <selenium.webdriver.remote.webelement.WebElement (session=\"41fbdcef14932a64006005f6fe7b6746\", element=\"33949cef-e155-4bda-8c96-9f7b07fedc83\")>,\n",
       " <selenium.webdriver.remote.webelement.WebElement (session=\"41fbdcef14932a64006005f6fe7b6746\", element=\"3fe02802-5d6e-4009-ae1a-69a50df4124c\")>,\n",
       " <selenium.webdriver.remote.webelement.WebElement (session=\"41fbdcef14932a64006005f6fe7b6746\", element=\"91ff49a3-8e45-4816-9d3a-18c2bc289194\")>,\n",
       " <selenium.webdriver.remote.webelement.WebElement (session=\"41fbdcef14932a64006005f6fe7b6746\", element=\"ec5f76e7-5963-4940-a963-02946f04fa01\")>,\n",
       " <selenium.webdriver.remote.webelement.WebElement (session=\"41fbdcef14932a64006005f6fe7b6746\", element=\"dd4520ba-20f7-4438-9f44-0d4695006f2d\")>,\n",
       " <selenium.webdriver.remote.webelement.WebElement (session=\"41fbdcef14932a64006005f6fe7b6746\", element=\"a09e4b4c-22ea-4310-a025-941ae98298b5\")>,\n",
       " <selenium.webdriver.remote.webelement.WebElement (session=\"41fbdcef14932a64006005f6fe7b6746\", element=\"959a6ef3-15fc-4f8f-9980-2c258a019455\")>,\n",
       " <selenium.webdriver.remote.webelement.WebElement (session=\"41fbdcef14932a64006005f6fe7b6746\", element=\"e588b536-bf79-416b-ac74-7f817f810afe\")>,\n",
       " <selenium.webdriver.remote.webelement.WebElement (session=\"41fbdcef14932a64006005f6fe7b6746\", element=\"883742b1-27c8-420a-aaa7-cc362bde2076\")>,\n",
       " <selenium.webdriver.remote.webelement.WebElement (session=\"41fbdcef14932a64006005f6fe7b6746\", element=\"ef81a7af-2e40-4d13-83cd-3db338987c01\")>,\n",
       " <selenium.webdriver.remote.webelement.WebElement (session=\"41fbdcef14932a64006005f6fe7b6746\", element=\"e9a42de1-32f3-4e14-8078-c7a476dc83c8\")>,\n",
       " <selenium.webdriver.remote.webelement.WebElement (session=\"41fbdcef14932a64006005f6fe7b6746\", element=\"f958afb2-40f8-4304-b73d-90168f327804\")>,\n",
       " <selenium.webdriver.remote.webelement.WebElement (session=\"41fbdcef14932a64006005f6fe7b6746\", element=\"567a3838-1ac2-4016-abee-a903e2adfe23\")>,\n",
       " <selenium.webdriver.remote.webelement.WebElement (session=\"41fbdcef14932a64006005f6fe7b6746\", element=\"77717d56-864b-4e86-9a30-5a864132284f\")>,\n",
       " <selenium.webdriver.remote.webelement.WebElement (session=\"41fbdcef14932a64006005f6fe7b6746\", element=\"0df7baa7-760b-4aa3-aa13-7a15a46ae157\")>,\n",
       " <selenium.webdriver.remote.webelement.WebElement (session=\"41fbdcef14932a64006005f6fe7b6746\", element=\"89e2c85e-e75e-434d-80ae-3710b430d0c0\")>,\n",
       " <selenium.webdriver.remote.webelement.WebElement (session=\"41fbdcef14932a64006005f6fe7b6746\", element=\"7cbbbf04-26f9-4aac-83c0-8939231b87d4\")>,\n",
       " <selenium.webdriver.remote.webelement.WebElement (session=\"41fbdcef14932a64006005f6fe7b6746\", element=\"99e3a6c9-2d9d-46f5-9696-601e7e4652f2\")>,\n",
       " <selenium.webdriver.remote.webelement.WebElement (session=\"41fbdcef14932a64006005f6fe7b6746\", element=\"802ac867-0da9-44f7-a379-a8fbce2cdd99\")>,\n",
       " <selenium.webdriver.remote.webelement.WebElement (session=\"41fbdcef14932a64006005f6fe7b6746\", element=\"093d8046-6c4f-4e4d-bc35-902380570e81\")>,\n",
       " <selenium.webdriver.remote.webelement.WebElement (session=\"41fbdcef14932a64006005f6fe7b6746\", element=\"d42863d0-668d-404e-a54e-309b37f70ec7\")>,\n",
       " <selenium.webdriver.remote.webelement.WebElement (session=\"41fbdcef14932a64006005f6fe7b6746\", element=\"101f2ca2-e993-49c7-bf7b-cbdc0b27857f\")>,\n",
       " <selenium.webdriver.remote.webelement.WebElement (session=\"41fbdcef14932a64006005f6fe7b6746\", element=\"6aaeae8c-3502-4359-9285-4a1246403a2d\")>,\n",
       " <selenium.webdriver.remote.webelement.WebElement (session=\"41fbdcef14932a64006005f6fe7b6746\", element=\"8701c982-28d4-4796-95c2-6eb6509e0977\")>,\n",
       " <selenium.webdriver.remote.webelement.WebElement (session=\"41fbdcef14932a64006005f6fe7b6746\", element=\"b81889ef-b22c-4799-82a7-54b2b22bb426\")>,\n",
       " <selenium.webdriver.remote.webelement.WebElement (session=\"41fbdcef14932a64006005f6fe7b6746\", element=\"7686c176-1519-49e7-9219-5c7c1939991f\")>,\n",
       " <selenium.webdriver.remote.webelement.WebElement (session=\"41fbdcef14932a64006005f6fe7b6746\", element=\"f407475b-a336-4d00-8b83-b212907dd7e1\")>,\n",
       " <selenium.webdriver.remote.webelement.WebElement (session=\"41fbdcef14932a64006005f6fe7b6746\", element=\"dd6d0e59-bcca-472d-8590-52f449da352c\")>,\n",
       " <selenium.webdriver.remote.webelement.WebElement (session=\"41fbdcef14932a64006005f6fe7b6746\", element=\"39ca606f-51ed-4d3f-9b24-a451d5cabba9\")>,\n",
       " <selenium.webdriver.remote.webelement.WebElement (session=\"41fbdcef14932a64006005f6fe7b6746\", element=\"305bb86b-da23-4a9a-8afe-62564e063b10\")>,\n",
       " <selenium.webdriver.remote.webelement.WebElement (session=\"41fbdcef14932a64006005f6fe7b6746\", element=\"fc356d2d-89e7-4b1d-aa16-8c8258bdebb6\")>,\n",
       " <selenium.webdriver.remote.webelement.WebElement (session=\"41fbdcef14932a64006005f6fe7b6746\", element=\"3dcd400f-3798-4279-8a1c-82d7dad63bda\")>,\n",
       " <selenium.webdriver.remote.webelement.WebElement (session=\"41fbdcef14932a64006005f6fe7b6746\", element=\"2a252aac-0ef3-419c-8e2b-9983279cb499\")>,\n",
       " <selenium.webdriver.remote.webelement.WebElement (session=\"41fbdcef14932a64006005f6fe7b6746\", element=\"d93db82f-99a8-4ba4-bf8e-24330fcf5ce9\")>,\n",
       " <selenium.webdriver.remote.webelement.WebElement (session=\"41fbdcef14932a64006005f6fe7b6746\", element=\"5cbb7fd2-da27-405e-8b15-acc5370d65f0\")>,\n",
       " <selenium.webdriver.remote.webelement.WebElement (session=\"41fbdcef14932a64006005f6fe7b6746\", element=\"5a3e3d4e-ef85-4103-8981-038491422d9c\")>,\n",
       " <selenium.webdriver.remote.webelement.WebElement (session=\"41fbdcef14932a64006005f6fe7b6746\", element=\"0170d407-0586-4608-8b7d-5d0136e0c797\")>,\n",
       " <selenium.webdriver.remote.webelement.WebElement (session=\"41fbdcef14932a64006005f6fe7b6746\", element=\"53854b7d-45f6-42e8-bf08-d9e08494918a\")>,\n",
       " <selenium.webdriver.remote.webelement.WebElement (session=\"41fbdcef14932a64006005f6fe7b6746\", element=\"cd157739-5de5-4de7-b04b-9ad31387e6cd\")>,\n",
       " <selenium.webdriver.remote.webelement.WebElement (session=\"41fbdcef14932a64006005f6fe7b6746\", element=\"61fe1dea-a625-40e6-97c5-c8b21d99ae1e\")>,\n",
       " <selenium.webdriver.remote.webelement.WebElement (session=\"41fbdcef14932a64006005f6fe7b6746\", element=\"4c63a0af-b96f-400d-bde0-cd104e817659\")>,\n",
       " <selenium.webdriver.remote.webelement.WebElement (session=\"41fbdcef14932a64006005f6fe7b6746\", element=\"b757f9dc-b4fe-440b-b7af-6c9675c90f6b\")>,\n",
       " <selenium.webdriver.remote.webelement.WebElement (session=\"41fbdcef14932a64006005f6fe7b6746\", element=\"33cb536d-dfc6-4af4-8ea8-20c6c07a0b95\")>,\n",
       " <selenium.webdriver.remote.webelement.WebElement (session=\"41fbdcef14932a64006005f6fe7b6746\", element=\"a9c512f2-93dc-4644-a6dc-90587d97a885\")>,\n",
       " <selenium.webdriver.remote.webelement.WebElement (session=\"41fbdcef14932a64006005f6fe7b6746\", element=\"faeac9a4-ba1b-4db0-ad7d-b42bfc48d0e7\")>,\n",
       " <selenium.webdriver.remote.webelement.WebElement (session=\"41fbdcef14932a64006005f6fe7b6746\", element=\"1b0e892a-7653-46bf-9c87-d7ae0ad4db8d\")>,\n",
       " <selenium.webdriver.remote.webelement.WebElement (session=\"41fbdcef14932a64006005f6fe7b6746\", element=\"fc0717ab-56f8-4d8b-9b0e-cd8be8691081\")>,\n",
       " <selenium.webdriver.remote.webelement.WebElement (session=\"41fbdcef14932a64006005f6fe7b6746\", element=\"2ae13ea0-0d19-463e-920a-9d378067f064\")>,\n",
       " <selenium.webdriver.remote.webelement.WebElement (session=\"41fbdcef14932a64006005f6fe7b6746\", element=\"c4e155d7-2136-4b5f-8598-2f991a91ae2b\")>]"
      ]
     },
     "execution_count": 386,
     "metadata": {},
     "output_type": "execute_result"
    }
   ],
   "source": [
    "#extract product discription\n",
    "product_disc=driver.find_elements_by_xpath(\"//h4[@class='product-product']\")\n",
    "product_disc"
   ]
  },
  {
   "cell_type": "code",
   "execution_count": 387,
   "id": "a7adcdf8",
   "metadata": {},
   "outputs": [
    {
     "data": {
      "text/plain": [
       "[\"AIRFORCE 1'07 LV8 EMB Sneakers\",\n",
       " 'Men Leather Driving Shoes',\n",
       " 'Men Printed Sneakers',\n",
       " 'Men Solid Leather Formal Slip-Ons',\n",
       " 'Men Dropset Training Shoes',\n",
       " 'Men Colourblocked RS-Z Core',\n",
       " 'Men Woven Design Sneakers',\n",
       " 'Men Sky Vault Walking Shoes',\n",
       " 'Electrify Nitro Running Shoes',\n",
       " 'Men Max Cushioning Running',\n",
       " 'Men Fuse One8 Training Shoes',\n",
       " 'Men Leather Loafers',\n",
       " 'Men Walking Shoes',\n",
       " 'Eternity Nitro Running Shoes',\n",
       " 'Ferrari X-Ray Speed Sneakers',\n",
       " 'Men Sl20.3 Running Shoes',\n",
       " 'Unisex Ferrari IONSpeed',\n",
       " 'Men FACET OUTDRY Trekking Shoe',\n",
       " 'Men Zig Dynamica 2.0 Running',\n",
       " 'Men Air Max Dawn Sneakers',\n",
       " 'Men Solid Sneakers',\n",
       " 'Men Leather Derbys',\n",
       " 'Men Golf Shoes',\n",
       " 'Men ZenonSpeed Sneakers',\n",
       " 'Men Solid Ozweego Sneakers',\n",
       " 'Men Formal Derbys',\n",
       " 'Unisex Ferrari Drift Cat Delta',\n",
       " 'Men Solar Glide 5 Running Shoe',\n",
       " 'Men Deviate Nitro Shoes',\n",
       " 'Women Kosmo Rider DC5 Sneakers',\n",
       " 'Women Supernova Running Shoes',\n",
       " 'Men Black Formal Derby Shoes',\n",
       " 'Men Solid Formal Slip-Ons',\n",
       " 'Men Textured Loafers',\n",
       " 'Men Leather Sneakers',\n",
       " 'Men Solid Leather Formal Slip-Ons',\n",
       " 'Men Flexi Sneakers',\n",
       " 'Men Running Shoes',\n",
       " 'Men Solid Retropy F2 Sneakers',\n",
       " 'Unisex Mercedes F1 R-Cat',\n",
       " 'Men Printed PU Sneakers',\n",
       " 'Men Textured Formal Leather Loafers',\n",
       " 'Unisex KING Top FG Shoes',\n",
       " 'Mirage Sport Hacked Sneakers',\n",
       " 'Men Solid Leather Formal Loafers',\n",
       " 'Leather Block Sandals',\n",
       " 'Men Leather Driving Shoes',\n",
       " 'Men Leather Sneakers',\n",
       " 'Women KarlieKlossX9000 Running',\n",
       " 'Women Dropset Training Shoes']"
      ]
     },
     "execution_count": 387,
     "metadata": {},
     "output_type": "execute_result"
    }
   ],
   "source": [
    "#we will get the discription text using for loop\n",
    "\n",
    "for i in product_disc:\n",
    "    discription=i.text\n",
    "    product_disc_list.append(discription)\n",
    "product_disc_list"
   ]
  },
  {
   "cell_type": "code",
   "execution_count": 388,
   "id": "0a36944c",
   "metadata": {},
   "outputs": [
    {
     "data": {
      "text/plain": [
       "[<selenium.webdriver.remote.webelement.WebElement (session=\"41fbdcef14932a64006005f6fe7b6746\", element=\"4de1e93a-0850-42fb-b289-248957e9dad3\")>,\n",
       " <selenium.webdriver.remote.webelement.WebElement (session=\"41fbdcef14932a64006005f6fe7b6746\", element=\"4496de4e-62fe-47d4-8f75-a7675576cec5\")>,\n",
       " <selenium.webdriver.remote.webelement.WebElement (session=\"41fbdcef14932a64006005f6fe7b6746\", element=\"70cf12e2-8318-420d-bb2d-5f1f8053014c\")>,\n",
       " <selenium.webdriver.remote.webelement.WebElement (session=\"41fbdcef14932a64006005f6fe7b6746\", element=\"c6992350-12af-4dc9-aead-4666fb526191\")>,\n",
       " <selenium.webdriver.remote.webelement.WebElement (session=\"41fbdcef14932a64006005f6fe7b6746\", element=\"ed7e91ba-a90e-45c6-a73d-9dd78af77b2b\")>,\n",
       " <selenium.webdriver.remote.webelement.WebElement (session=\"41fbdcef14932a64006005f6fe7b6746\", element=\"d079644f-bf90-4892-a9fb-838592b3a2aa\")>,\n",
       " <selenium.webdriver.remote.webelement.WebElement (session=\"41fbdcef14932a64006005f6fe7b6746\", element=\"18d77b85-6b3a-4735-8d33-3b7fd88d1a83\")>,\n",
       " <selenium.webdriver.remote.webelement.WebElement (session=\"41fbdcef14932a64006005f6fe7b6746\", element=\"a34347d0-f1e8-4be0-923b-fceb2046e9ca\")>,\n",
       " <selenium.webdriver.remote.webelement.WebElement (session=\"41fbdcef14932a64006005f6fe7b6746\", element=\"00bdfd5a-7333-456c-9199-6a36aef2e8e0\")>,\n",
       " <selenium.webdriver.remote.webelement.WebElement (session=\"41fbdcef14932a64006005f6fe7b6746\", element=\"36228051-a9ae-4fe4-8ecd-cedbaa102c1d\")>,\n",
       " <selenium.webdriver.remote.webelement.WebElement (session=\"41fbdcef14932a64006005f6fe7b6746\", element=\"3eec7746-139c-4935-a269-64cfc7015086\")>,\n",
       " <selenium.webdriver.remote.webelement.WebElement (session=\"41fbdcef14932a64006005f6fe7b6746\", element=\"fd2fa4aa-fddc-4f50-a757-ea8e998af798\")>,\n",
       " <selenium.webdriver.remote.webelement.WebElement (session=\"41fbdcef14932a64006005f6fe7b6746\", element=\"f4df3a9e-21ff-4f44-89b7-f6a79feb79ed\")>,\n",
       " <selenium.webdriver.remote.webelement.WebElement (session=\"41fbdcef14932a64006005f6fe7b6746\", element=\"c35c41a1-12ae-401c-85ab-daa2f323a109\")>,\n",
       " <selenium.webdriver.remote.webelement.WebElement (session=\"41fbdcef14932a64006005f6fe7b6746\", element=\"af8e5f1f-b4e2-465b-815a-e681645e943d\")>,\n",
       " <selenium.webdriver.remote.webelement.WebElement (session=\"41fbdcef14932a64006005f6fe7b6746\", element=\"93ea71ca-9bfa-4774-9d2c-3e270733b014\")>,\n",
       " <selenium.webdriver.remote.webelement.WebElement (session=\"41fbdcef14932a64006005f6fe7b6746\", element=\"1b4422b9-e150-4aaf-8a69-e3882efcf264\")>,\n",
       " <selenium.webdriver.remote.webelement.WebElement (session=\"41fbdcef14932a64006005f6fe7b6746\", element=\"d183da8b-f223-4ded-87fb-7e0d858c8f3c\")>,\n",
       " <selenium.webdriver.remote.webelement.WebElement (session=\"41fbdcef14932a64006005f6fe7b6746\", element=\"c45f8f34-0b56-4af5-8694-4f1201e8dbda\")>,\n",
       " <selenium.webdriver.remote.webelement.WebElement (session=\"41fbdcef14932a64006005f6fe7b6746\", element=\"a3ff187e-c6af-4eb6-9c79-97346c1198d2\")>,\n",
       " <selenium.webdriver.remote.webelement.WebElement (session=\"41fbdcef14932a64006005f6fe7b6746\", element=\"005ec487-e1d2-47b2-9564-b37145d2a606\")>,\n",
       " <selenium.webdriver.remote.webelement.WebElement (session=\"41fbdcef14932a64006005f6fe7b6746\", element=\"0ca533a8-6ed4-4e22-b467-24fcf7ecc414\")>,\n",
       " <selenium.webdriver.remote.webelement.WebElement (session=\"41fbdcef14932a64006005f6fe7b6746\", element=\"70d140b2-c163-4f53-af3e-160e82079efa\")>,\n",
       " <selenium.webdriver.remote.webelement.WebElement (session=\"41fbdcef14932a64006005f6fe7b6746\", element=\"6f0011fe-83f6-4ce0-9679-c3fe73499f74\")>,\n",
       " <selenium.webdriver.remote.webelement.WebElement (session=\"41fbdcef14932a64006005f6fe7b6746\", element=\"0d3d8aeb-f2bd-4a02-b5dc-afaa60381b25\")>,\n",
       " <selenium.webdriver.remote.webelement.WebElement (session=\"41fbdcef14932a64006005f6fe7b6746\", element=\"fa293536-9ceb-448d-b960-e232e834c456\")>,\n",
       " <selenium.webdriver.remote.webelement.WebElement (session=\"41fbdcef14932a64006005f6fe7b6746\", element=\"3290f86d-c6b0-4658-9145-2b469b8aa858\")>,\n",
       " <selenium.webdriver.remote.webelement.WebElement (session=\"41fbdcef14932a64006005f6fe7b6746\", element=\"94c561b0-b495-4f8c-8236-249338735767\")>,\n",
       " <selenium.webdriver.remote.webelement.WebElement (session=\"41fbdcef14932a64006005f6fe7b6746\", element=\"8e236f0d-c5b2-4a41-b8b1-edf498335a68\")>,\n",
       " <selenium.webdriver.remote.webelement.WebElement (session=\"41fbdcef14932a64006005f6fe7b6746\", element=\"0bcc3301-3110-46d8-9a4e-795896ab17a2\")>,\n",
       " <selenium.webdriver.remote.webelement.WebElement (session=\"41fbdcef14932a64006005f6fe7b6746\", element=\"659c4aab-d7e9-4387-ac38-c5fec66a8ce1\")>,\n",
       " <selenium.webdriver.remote.webelement.WebElement (session=\"41fbdcef14932a64006005f6fe7b6746\", element=\"40e72434-dd7f-4b3c-b1bc-7bd68c72b8ea\")>,\n",
       " <selenium.webdriver.remote.webelement.WebElement (session=\"41fbdcef14932a64006005f6fe7b6746\", element=\"4ab5f119-4598-4d90-a8c3-f945473427b2\")>,\n",
       " <selenium.webdriver.remote.webelement.WebElement (session=\"41fbdcef14932a64006005f6fe7b6746\", element=\"e237a842-1d58-4f69-be1c-ae3b10a37668\")>,\n",
       " <selenium.webdriver.remote.webelement.WebElement (session=\"41fbdcef14932a64006005f6fe7b6746\", element=\"69fce4b4-3d84-41cd-90a3-0857b55ad263\")>,\n",
       " <selenium.webdriver.remote.webelement.WebElement (session=\"41fbdcef14932a64006005f6fe7b6746\", element=\"606f1bb7-75e4-4b2e-9d65-06bdce9083d6\")>,\n",
       " <selenium.webdriver.remote.webelement.WebElement (session=\"41fbdcef14932a64006005f6fe7b6746\", element=\"45f5c8c9-5f5e-4203-b5a9-e40fe6b45416\")>,\n",
       " <selenium.webdriver.remote.webelement.WebElement (session=\"41fbdcef14932a64006005f6fe7b6746\", element=\"0eb16e7f-b9ce-4fbe-b586-557c3cd0346d\")>,\n",
       " <selenium.webdriver.remote.webelement.WebElement (session=\"41fbdcef14932a64006005f6fe7b6746\", element=\"d6e5bcd6-4e5d-4722-89c1-3b9615f18c8e\")>,\n",
       " <selenium.webdriver.remote.webelement.WebElement (session=\"41fbdcef14932a64006005f6fe7b6746\", element=\"bcd6a7a1-14ff-432f-bc19-41e1c69b760f\")>,\n",
       " <selenium.webdriver.remote.webelement.WebElement (session=\"41fbdcef14932a64006005f6fe7b6746\", element=\"db121df1-431f-4ec5-bac9-4d6eb0d12581\")>,\n",
       " <selenium.webdriver.remote.webelement.WebElement (session=\"41fbdcef14932a64006005f6fe7b6746\", element=\"61605c1c-4af4-4813-97b2-833b209da14c\")>,\n",
       " <selenium.webdriver.remote.webelement.WebElement (session=\"41fbdcef14932a64006005f6fe7b6746\", element=\"3d85acda-b954-483d-8ebe-f38b77d3c9a5\")>,\n",
       " <selenium.webdriver.remote.webelement.WebElement (session=\"41fbdcef14932a64006005f6fe7b6746\", element=\"e422fccc-dda3-4318-8f16-07cc2f9f62ad\")>,\n",
       " <selenium.webdriver.remote.webelement.WebElement (session=\"41fbdcef14932a64006005f6fe7b6746\", element=\"59935127-17d0-4054-9421-ec9a2000613b\")>,\n",
       " <selenium.webdriver.remote.webelement.WebElement (session=\"41fbdcef14932a64006005f6fe7b6746\", element=\"db24b130-1d18-4a35-8380-6a368815e0bd\")>,\n",
       " <selenium.webdriver.remote.webelement.WebElement (session=\"41fbdcef14932a64006005f6fe7b6746\", element=\"6a161fb1-c446-45a2-9314-f4184cb72226\")>,\n",
       " <selenium.webdriver.remote.webelement.WebElement (session=\"41fbdcef14932a64006005f6fe7b6746\", element=\"17de9cb3-ec6b-4a1d-b54b-bb774917192e\")>,\n",
       " <selenium.webdriver.remote.webelement.WebElement (session=\"41fbdcef14932a64006005f6fe7b6746\", element=\"bc1bc9d0-c160-4151-a59f-87b0e658aff7\")>,\n",
       " <selenium.webdriver.remote.webelement.WebElement (session=\"41fbdcef14932a64006005f6fe7b6746\", element=\"9de2e5da-e51c-4bfc-8ddd-81977de2bf43\")>]"
      ]
     },
     "execution_count": 388,
     "metadata": {},
     "output_type": "execute_result"
    }
   ],
   "source": [
    "#extract price\n",
    "product_price=driver.find_elements_by_xpath(\"//div[@class='product-price']\")\n",
    "product_price"
   ]
  },
  {
   "cell_type": "code",
   "execution_count": 389,
   "id": "01d2661c",
   "metadata": {},
   "outputs": [
    {
     "data": {
      "text/plain": [
       "['Rs. 8725Rs. 9695(10% OFF)',\n",
       " 'Rs. 12999',\n",
       " 'Rs. 9099Rs. 12999(30% OFF)',\n",
       " 'Rs. 7649Rs. 8999(15% OFF)',\n",
       " 'Rs. 12999',\n",
       " 'Rs. 9999',\n",
       " 'Rs. 13999',\n",
       " 'Rs. 7199Rs. 8999(20% OFF)',\n",
       " 'Rs. 9999',\n",
       " 'Rs. 7649Rs. 8999(15% OFF)',\n",
       " 'Rs. 7999',\n",
       " 'Rs. 12999',\n",
       " 'Rs. 7649Rs. 8999(15% OFF)',\n",
       " 'Rs. 12999',\n",
       " 'Rs. 7999',\n",
       " 'Rs. 11999',\n",
       " 'Rs. 8999',\n",
       " 'Rs. 12999',\n",
       " 'Rs. 7999',\n",
       " 'Rs. 7436Rs. 9295(20% OFF)',\n",
       " 'Rs. 10499',\n",
       " 'Rs. 7499',\n",
       " 'Rs. 8999',\n",
       " 'Rs. 8999',\n",
       " 'Rs. 9349Rs. 10999(15% OFF)',\n",
       " 'Rs. 8499Rs. 9999(15% OFF)',\n",
       " 'Rs. 7999',\n",
       " 'Rs. 13999',\n",
       " 'Rs. 12749Rs. 14999(15% OFF)',\n",
       " 'Rs. 7999',\n",
       " 'Rs. 9999',\n",
       " 'Rs. 11999',\n",
       " 'Rs. 8499Rs. 9999(15% OFF)',\n",
       " 'Rs. 8999',\n",
       " 'Rs. 8599',\n",
       " 'Rs. 8499Rs. 9999(15% OFF)',\n",
       " 'Rs. 7999',\n",
       " 'Rs. 8499Rs. 9999(15% OFF)',\n",
       " 'Rs. 8099Rs. 8999(10% OFF)',\n",
       " 'Rs. 7499',\n",
       " 'Rs. 9999',\n",
       " 'Rs. 8990',\n",
       " 'Rs. 8999Rs. 11999(25% OFF)',\n",
       " 'Rs. 7649Rs. 8999(15% OFF)',\n",
       " 'Rs. 8490',\n",
       " 'Rs. 9810Rs. 10900(10% OFF)',\n",
       " 'Rs. 8499',\n",
       " 'Rs. 7890',\n",
       " 'Rs. 13999',\n",
       " 'Rs. 12999']"
      ]
     },
     "execution_count": 389,
     "metadata": {},
     "output_type": "execute_result"
    }
   ],
   "source": [
    "#we will get the price text using for loop\n",
    "\n",
    "for i in product_price:\n",
    "    price=i.text\n",
    "    price_list_1.append(price)\n",
    "price_list_1"
   ]
  },
  {
   "cell_type": "code",
   "execution_count": 390,
   "id": "f1596623",
   "metadata": {},
   "outputs": [
    {
     "name": "stdout",
     "output_type": "stream",
     "text": [
      "50 50 50\n"
     ]
    }
   ],
   "source": [
    "print(len(price_list_1), len(brand_names_list), len(product_disc_list))"
   ]
  },
  {
   "cell_type": "code",
   "execution_count": 391,
   "id": "ff408cfe",
   "metadata": {},
   "outputs": [],
   "source": [
    "#, go to the “Next” Button at the bottom ofthe page , then click on it.\n",
    "next_button=driver.find_element_by_xpath(\"/html/body/div[2]/div/div[1]/main/div[3]/div[2]/div/div[2]/section/div[2]/ul/li[12]\")\n",
    "next_button.click()"
   ]
  },
  {
   "cell_type": "code",
   "execution_count": 392,
   "id": "ece89a94",
   "metadata": {},
   "outputs": [
    {
     "data": {
      "text/plain": [
       "[<selenium.webdriver.remote.webelement.WebElement (session=\"41fbdcef14932a64006005f6fe7b6746\", element=\"9febb9ee-614b-48d7-bd5f-4cd849400bbf\")>,\n",
       " <selenium.webdriver.remote.webelement.WebElement (session=\"41fbdcef14932a64006005f6fe7b6746\", element=\"9a176e79-2441-4c28-a021-f79a01d0bfb1\")>,\n",
       " <selenium.webdriver.remote.webelement.WebElement (session=\"41fbdcef14932a64006005f6fe7b6746\", element=\"8c54cd23-2e5b-43dc-9b29-b5832e2a8b35\")>,\n",
       " <selenium.webdriver.remote.webelement.WebElement (session=\"41fbdcef14932a64006005f6fe7b6746\", element=\"290aa968-7c91-48d9-98c9-efe65296eb63\")>,\n",
       " <selenium.webdriver.remote.webelement.WebElement (session=\"41fbdcef14932a64006005f6fe7b6746\", element=\"9f17937e-9812-420a-92be-1e046b253af5\")>,\n",
       " <selenium.webdriver.remote.webelement.WebElement (session=\"41fbdcef14932a64006005f6fe7b6746\", element=\"5def792e-e161-447a-9df9-609f4d036814\")>,\n",
       " <selenium.webdriver.remote.webelement.WebElement (session=\"41fbdcef14932a64006005f6fe7b6746\", element=\"8e4b7120-6fe5-4280-9322-2eed53e77fd6\")>,\n",
       " <selenium.webdriver.remote.webelement.WebElement (session=\"41fbdcef14932a64006005f6fe7b6746\", element=\"4e74915e-f5d4-449c-a77b-9a7b49894e0c\")>,\n",
       " <selenium.webdriver.remote.webelement.WebElement (session=\"41fbdcef14932a64006005f6fe7b6746\", element=\"ab1f0512-1b77-45a6-831b-03e96e1078bf\")>,\n",
       " <selenium.webdriver.remote.webelement.WebElement (session=\"41fbdcef14932a64006005f6fe7b6746\", element=\"4fc23381-31dc-4e0c-bb48-99fbe3074d49\")>,\n",
       " <selenium.webdriver.remote.webelement.WebElement (session=\"41fbdcef14932a64006005f6fe7b6746\", element=\"bcb3e5ec-d1df-4a38-a0d0-85e4dfc65579\")>,\n",
       " <selenium.webdriver.remote.webelement.WebElement (session=\"41fbdcef14932a64006005f6fe7b6746\", element=\"9640e530-48ec-4d10-a24b-ab9a9ed46849\")>,\n",
       " <selenium.webdriver.remote.webelement.WebElement (session=\"41fbdcef14932a64006005f6fe7b6746\", element=\"d1ff1f21-985a-4804-95f6-d5c6bb2bccb2\")>,\n",
       " <selenium.webdriver.remote.webelement.WebElement (session=\"41fbdcef14932a64006005f6fe7b6746\", element=\"16fbd8ea-eed0-46c3-9024-fc8ef2179a7b\")>,\n",
       " <selenium.webdriver.remote.webelement.WebElement (session=\"41fbdcef14932a64006005f6fe7b6746\", element=\"f0a934b9-52bf-4a37-9e6d-a7ed53a5683b\")>,\n",
       " <selenium.webdriver.remote.webelement.WebElement (session=\"41fbdcef14932a64006005f6fe7b6746\", element=\"13d43c24-c6d1-4005-98a0-d97d5451eda0\")>,\n",
       " <selenium.webdriver.remote.webelement.WebElement (session=\"41fbdcef14932a64006005f6fe7b6746\", element=\"3d1e38f2-90f7-4ba4-bb73-a033f2224523\")>,\n",
       " <selenium.webdriver.remote.webelement.WebElement (session=\"41fbdcef14932a64006005f6fe7b6746\", element=\"8fb038b1-d2e8-4502-be2c-8cffbe52a273\")>,\n",
       " <selenium.webdriver.remote.webelement.WebElement (session=\"41fbdcef14932a64006005f6fe7b6746\", element=\"28710aef-a1da-4ee3-830e-676d45160521\")>,\n",
       " <selenium.webdriver.remote.webelement.WebElement (session=\"41fbdcef14932a64006005f6fe7b6746\", element=\"5dbb1399-9ba5-4591-8b33-da2464bded2d\")>,\n",
       " <selenium.webdriver.remote.webelement.WebElement (session=\"41fbdcef14932a64006005f6fe7b6746\", element=\"f9a97a16-225c-4f29-9377-2261379bb096\")>,\n",
       " <selenium.webdriver.remote.webelement.WebElement (session=\"41fbdcef14932a64006005f6fe7b6746\", element=\"99cb608e-8153-4cd8-b832-1f798cc58e3e\")>,\n",
       " <selenium.webdriver.remote.webelement.WebElement (session=\"41fbdcef14932a64006005f6fe7b6746\", element=\"7ff18bb0-cf27-437c-8955-59f9c6df570b\")>,\n",
       " <selenium.webdriver.remote.webelement.WebElement (session=\"41fbdcef14932a64006005f6fe7b6746\", element=\"39ffc9cd-6af7-4a57-b829-e5467c307f02\")>,\n",
       " <selenium.webdriver.remote.webelement.WebElement (session=\"41fbdcef14932a64006005f6fe7b6746\", element=\"57bc45b7-9e79-40b0-85ea-027f2b0cbcf5\")>,\n",
       " <selenium.webdriver.remote.webelement.WebElement (session=\"41fbdcef14932a64006005f6fe7b6746\", element=\"b48c8015-4366-433b-b39c-b85fc12029e1\")>,\n",
       " <selenium.webdriver.remote.webelement.WebElement (session=\"41fbdcef14932a64006005f6fe7b6746\", element=\"523febc3-d267-404f-9fe6-a961d2f37fc3\")>,\n",
       " <selenium.webdriver.remote.webelement.WebElement (session=\"41fbdcef14932a64006005f6fe7b6746\", element=\"f0fd286d-1557-4587-9b80-72bf0ccde530\")>,\n",
       " <selenium.webdriver.remote.webelement.WebElement (session=\"41fbdcef14932a64006005f6fe7b6746\", element=\"410e51eb-91b4-4571-ac45-8af3ff2d2040\")>,\n",
       " <selenium.webdriver.remote.webelement.WebElement (session=\"41fbdcef14932a64006005f6fe7b6746\", element=\"6f51d408-079f-4073-8a9c-66e7f7823bcb\")>,\n",
       " <selenium.webdriver.remote.webelement.WebElement (session=\"41fbdcef14932a64006005f6fe7b6746\", element=\"82c4bb95-1d60-48c4-8d8f-088674e3b987\")>,\n",
       " <selenium.webdriver.remote.webelement.WebElement (session=\"41fbdcef14932a64006005f6fe7b6746\", element=\"f6a6f3cf-2c8c-462f-8f9f-defa9a3e4e0e\")>,\n",
       " <selenium.webdriver.remote.webelement.WebElement (session=\"41fbdcef14932a64006005f6fe7b6746\", element=\"96dc26df-9416-4c57-bc50-ebc68c0c919d\")>,\n",
       " <selenium.webdriver.remote.webelement.WebElement (session=\"41fbdcef14932a64006005f6fe7b6746\", element=\"d49546ca-c0da-4df5-bfa2-8485c5332dac\")>,\n",
       " <selenium.webdriver.remote.webelement.WebElement (session=\"41fbdcef14932a64006005f6fe7b6746\", element=\"de56e6cc-d8e5-4d92-9c95-ef425fedbcff\")>,\n",
       " <selenium.webdriver.remote.webelement.WebElement (session=\"41fbdcef14932a64006005f6fe7b6746\", element=\"b71cc4ee-a46b-4f0f-86b2-cf6d1a7d58d0\")>,\n",
       " <selenium.webdriver.remote.webelement.WebElement (session=\"41fbdcef14932a64006005f6fe7b6746\", element=\"3dba23fa-9c64-4091-95b9-4aecce7d45bf\")>,\n",
       " <selenium.webdriver.remote.webelement.WebElement (session=\"41fbdcef14932a64006005f6fe7b6746\", element=\"c22b3de1-40ab-4180-aee5-727b14858787\")>,\n",
       " <selenium.webdriver.remote.webelement.WebElement (session=\"41fbdcef14932a64006005f6fe7b6746\", element=\"875aa01c-fb57-48e1-b2d3-dd3e0cb8516f\")>,\n",
       " <selenium.webdriver.remote.webelement.WebElement (session=\"41fbdcef14932a64006005f6fe7b6746\", element=\"9d4bba8e-52e9-4feb-958c-ce389b2ee5af\")>,\n",
       " <selenium.webdriver.remote.webelement.WebElement (session=\"41fbdcef14932a64006005f6fe7b6746\", element=\"55cc546b-db02-46a7-b5c0-db7e83ebf1dc\")>,\n",
       " <selenium.webdriver.remote.webelement.WebElement (session=\"41fbdcef14932a64006005f6fe7b6746\", element=\"81e356a2-0206-4f92-896d-3296ff2c4fbc\")>,\n",
       " <selenium.webdriver.remote.webelement.WebElement (session=\"41fbdcef14932a64006005f6fe7b6746\", element=\"5f41e1fb-55a3-41bd-96ab-a865fe9ca44d\")>,\n",
       " <selenium.webdriver.remote.webelement.WebElement (session=\"41fbdcef14932a64006005f6fe7b6746\", element=\"94102794-8eec-4bc7-89fc-8229f27b2517\")>,\n",
       " <selenium.webdriver.remote.webelement.WebElement (session=\"41fbdcef14932a64006005f6fe7b6746\", element=\"611220d6-01ef-4c06-ad33-64465c15ea42\")>,\n",
       " <selenium.webdriver.remote.webelement.WebElement (session=\"41fbdcef14932a64006005f6fe7b6746\", element=\"f167832b-6e0d-4af3-8698-dc84e7f70ac4\")>,\n",
       " <selenium.webdriver.remote.webelement.WebElement (session=\"41fbdcef14932a64006005f6fe7b6746\", element=\"daa4d635-f609-4e72-a134-1e6b4cee8a75\")>,\n",
       " <selenium.webdriver.remote.webelement.WebElement (session=\"41fbdcef14932a64006005f6fe7b6746\", element=\"4d3b9109-bc7a-4cdb-ad06-256881a712b9\")>,\n",
       " <selenium.webdriver.remote.webelement.WebElement (session=\"41fbdcef14932a64006005f6fe7b6746\", element=\"8a9f85f1-3649-419d-b2f8-6d9a5752ae4d\")>,\n",
       " <selenium.webdriver.remote.webelement.WebElement (session=\"41fbdcef14932a64006005f6fe7b6746\", element=\"1f849321-6172-4a67-9985-7e92e0da787d\")>]"
      ]
     },
     "execution_count": 392,
     "metadata": {},
     "output_type": "execute_result"
    }
   ],
   "source": [
    "#extract brand names\n",
    "brand_names=driver.find_elements_by_xpath(\"//h3[@class='product-brand']\")\n",
    "brand_names"
   ]
  },
  {
   "cell_type": "code",
   "execution_count": 393,
   "id": "979fb887",
   "metadata": {},
   "outputs": [
    {
     "data": {
      "text/plain": [
       "['Nike',\n",
       " 'ALDO',\n",
       " 'ALDO',\n",
       " 'Hush Puppies',\n",
       " 'ADIDAS',\n",
       " 'Puma',\n",
       " 'ALDO',\n",
       " 'Skechers',\n",
       " 'Puma',\n",
       " 'Skechers',\n",
       " 'one8 x PUMA',\n",
       " 'ALDO',\n",
       " 'Skechers',\n",
       " 'Puma',\n",
       " 'PUMA Motorsport',\n",
       " 'ADIDAS',\n",
       " 'PUMA Motorsport',\n",
       " 'Columbia',\n",
       " 'Reebok',\n",
       " 'Nike',\n",
       " 'Bugatti',\n",
       " 'Clarks',\n",
       " 'Puma',\n",
       " 'PUMA Motorsport',\n",
       " 'ADIDAS Originals',\n",
       " 'Hush Puppies',\n",
       " 'PUMA Motorsport',\n",
       " 'ADIDAS',\n",
       " 'Puma',\n",
       " 'Puma',\n",
       " 'ADIDAS',\n",
       " 'Bugatti',\n",
       " 'Hush Puppies',\n",
       " 'Tommy Hilfiger',\n",
       " 'Tommy Hilfiger',\n",
       " 'Hush Puppies',\n",
       " 'Tommy Hilfiger',\n",
       " 'Puma',\n",
       " 'ADIDAS Originals',\n",
       " 'PUMA Motorsport',\n",
       " 'FILA',\n",
       " 'DAVINCHI',\n",
       " 'Puma',\n",
       " 'Puma',\n",
       " 'DAVINCHI',\n",
       " 'Saint G',\n",
       " 'Bugatti',\n",
       " 'DEL MONDO',\n",
       " 'ADIDAS',\n",
       " 'ADIDAS',\n",
       " 'ADIDAS',\n",
       " 'Bugatti',\n",
       " 'PUMA Hoops',\n",
       " 'Geox',\n",
       " 'Geox',\n",
       " 'FILA',\n",
       " 'Geox',\n",
       " 'Columbia',\n",
       " 'ROSSO BRUNELLO',\n",
       " 'Geox',\n",
       " 'Geox',\n",
       " 'Geox',\n",
       " 'Geox',\n",
       " 'Puma',\n",
       " 'Skechers',\n",
       " 'Saint G',\n",
       " 'Puma',\n",
       " 'Bugatti',\n",
       " 'Saint G',\n",
       " 'ROSSO BRUNELLO',\n",
       " 'Geox',\n",
       " 'Geox',\n",
       " 'Birkenstock',\n",
       " 'DAVINCHI',\n",
       " 'Hush Puppies',\n",
       " 'DAVINCHI',\n",
       " 'Sole To Soul',\n",
       " 'J.FONTINI',\n",
       " 'ALDO',\n",
       " 'ECCO',\n",
       " 'ALDO',\n",
       " 'Kenkoh',\n",
       " 'Saint G',\n",
       " 'MANGO',\n",
       " 'Geox',\n",
       " 'Geox',\n",
       " 'Saint G',\n",
       " 'Geox',\n",
       " 'Onitsuka Tiger',\n",
       " 'Cole Haan',\n",
       " 'J.FONTINI',\n",
       " 'J.FONTINI',\n",
       " 'Heel & Buckle London',\n",
       " 'J.FONTINI',\n",
       " 'Columbia',\n",
       " 'Columbia',\n",
       " 'Florsheim',\n",
       " 'Geox',\n",
       " 'RARE RABBIT',\n",
       " 'J.FONTINI']"
      ]
     },
     "execution_count": 393,
     "metadata": {},
     "output_type": "execute_result"
    }
   ],
   "source": [
    "#we will get the brand text using for loop\n",
    "\n",
    "for i in brand_names:\n",
    "    brand=i.text\n",
    "    brand_names_list.append(brand)\n",
    "brand_names_list"
   ]
  },
  {
   "cell_type": "code",
   "execution_count": 394,
   "id": "bc218695",
   "metadata": {},
   "outputs": [
    {
     "data": {
      "text/plain": [
       "[<selenium.webdriver.remote.webelement.WebElement (session=\"41fbdcef14932a64006005f6fe7b6746\", element=\"c4e155d7-2136-4b5f-8598-2f991a91ae2b\")>,\n",
       " <selenium.webdriver.remote.webelement.WebElement (session=\"41fbdcef14932a64006005f6fe7b6746\", element=\"ebc06cd0-f511-47eb-9d5f-3d6b897c02e2\")>,\n",
       " <selenium.webdriver.remote.webelement.WebElement (session=\"41fbdcef14932a64006005f6fe7b6746\", element=\"4d4acc9c-d855-4eaa-9873-bd33525c99c7\")>,\n",
       " <selenium.webdriver.remote.webelement.WebElement (session=\"41fbdcef14932a64006005f6fe7b6746\", element=\"f3846ccf-5cd3-4177-80c9-d2738cb5eb16\")>,\n",
       " <selenium.webdriver.remote.webelement.WebElement (session=\"41fbdcef14932a64006005f6fe7b6746\", element=\"e4bbde20-a02a-4214-ae53-0bec0ea45221\")>,\n",
       " <selenium.webdriver.remote.webelement.WebElement (session=\"41fbdcef14932a64006005f6fe7b6746\", element=\"084acd5b-c35d-4e3c-b4b6-6943eb75cbf1\")>,\n",
       " <selenium.webdriver.remote.webelement.WebElement (session=\"41fbdcef14932a64006005f6fe7b6746\", element=\"f800b633-3515-419f-b874-34d576af1825\")>,\n",
       " <selenium.webdriver.remote.webelement.WebElement (session=\"41fbdcef14932a64006005f6fe7b6746\", element=\"efe3b08d-02b2-4f33-b32b-586f913a8199\")>,\n",
       " <selenium.webdriver.remote.webelement.WebElement (session=\"41fbdcef14932a64006005f6fe7b6746\", element=\"7fb3546a-acf3-4b8f-a101-a6f8a5f3b17f\")>,\n",
       " <selenium.webdriver.remote.webelement.WebElement (session=\"41fbdcef14932a64006005f6fe7b6746\", element=\"85941c3d-aab9-4b12-b0f9-5e0a9ce653c0\")>,\n",
       " <selenium.webdriver.remote.webelement.WebElement (session=\"41fbdcef14932a64006005f6fe7b6746\", element=\"c0431164-4fe6-492a-ae13-b008bbc6f079\")>,\n",
       " <selenium.webdriver.remote.webelement.WebElement (session=\"41fbdcef14932a64006005f6fe7b6746\", element=\"ff8a8cb3-ce1a-4c63-86b3-11129f09108b\")>,\n",
       " <selenium.webdriver.remote.webelement.WebElement (session=\"41fbdcef14932a64006005f6fe7b6746\", element=\"6fa8a6ec-01ad-4def-af50-6aa672c7ab74\")>,\n",
       " <selenium.webdriver.remote.webelement.WebElement (session=\"41fbdcef14932a64006005f6fe7b6746\", element=\"0563bc1e-0a30-4f87-9e40-e5f2479497cc\")>,\n",
       " <selenium.webdriver.remote.webelement.WebElement (session=\"41fbdcef14932a64006005f6fe7b6746\", element=\"04bb2100-b2d4-4931-82ca-c146036b8940\")>,\n",
       " <selenium.webdriver.remote.webelement.WebElement (session=\"41fbdcef14932a64006005f6fe7b6746\", element=\"3ba16704-bf24-4502-9532-81fa63344355\")>,\n",
       " <selenium.webdriver.remote.webelement.WebElement (session=\"41fbdcef14932a64006005f6fe7b6746\", element=\"837cab1b-3c08-47a2-89c5-986f52957e44\")>,\n",
       " <selenium.webdriver.remote.webelement.WebElement (session=\"41fbdcef14932a64006005f6fe7b6746\", element=\"bb9b819f-ecd6-45d4-84fb-5f94d7218c61\")>,\n",
       " <selenium.webdriver.remote.webelement.WebElement (session=\"41fbdcef14932a64006005f6fe7b6746\", element=\"413217ce-74d0-48c9-ade5-339406782e25\")>,\n",
       " <selenium.webdriver.remote.webelement.WebElement (session=\"41fbdcef14932a64006005f6fe7b6746\", element=\"eed9717d-f8ab-40a0-b86d-6ed48c483882\")>,\n",
       " <selenium.webdriver.remote.webelement.WebElement (session=\"41fbdcef14932a64006005f6fe7b6746\", element=\"ba917d5a-7062-4367-8ea3-363451757bed\")>,\n",
       " <selenium.webdriver.remote.webelement.WebElement (session=\"41fbdcef14932a64006005f6fe7b6746\", element=\"394c8818-d773-4d6c-868f-aa780c94481e\")>,\n",
       " <selenium.webdriver.remote.webelement.WebElement (session=\"41fbdcef14932a64006005f6fe7b6746\", element=\"07193fb0-752d-401d-a7e8-6d5c876001b8\")>,\n",
       " <selenium.webdriver.remote.webelement.WebElement (session=\"41fbdcef14932a64006005f6fe7b6746\", element=\"4a5cee6a-bb31-466b-9475-29ccfb87eb68\")>,\n",
       " <selenium.webdriver.remote.webelement.WebElement (session=\"41fbdcef14932a64006005f6fe7b6746\", element=\"79cc9d3b-a9cb-4ee2-beef-78a9b37aad87\")>,\n",
       " <selenium.webdriver.remote.webelement.WebElement (session=\"41fbdcef14932a64006005f6fe7b6746\", element=\"8526a951-664a-41aa-8ff4-b4ec89559b5b\")>,\n",
       " <selenium.webdriver.remote.webelement.WebElement (session=\"41fbdcef14932a64006005f6fe7b6746\", element=\"01be48e5-c472-44ef-b21e-f600dabfddea\")>,\n",
       " <selenium.webdriver.remote.webelement.WebElement (session=\"41fbdcef14932a64006005f6fe7b6746\", element=\"0d306d6c-2343-4473-8900-562e447effab\")>,\n",
       " <selenium.webdriver.remote.webelement.WebElement (session=\"41fbdcef14932a64006005f6fe7b6746\", element=\"a8a8fa68-238f-4ba4-b8cd-46d2be3ea5dc\")>,\n",
       " <selenium.webdriver.remote.webelement.WebElement (session=\"41fbdcef14932a64006005f6fe7b6746\", element=\"aa5a7952-debe-4493-8162-11f18a766594\")>,\n",
       " <selenium.webdriver.remote.webelement.WebElement (session=\"41fbdcef14932a64006005f6fe7b6746\", element=\"53beee84-cfc0-4035-90d4-fd0b3bed26e7\")>,\n",
       " <selenium.webdriver.remote.webelement.WebElement (session=\"41fbdcef14932a64006005f6fe7b6746\", element=\"87db18b6-999f-4494-a514-e19d7b184d41\")>,\n",
       " <selenium.webdriver.remote.webelement.WebElement (session=\"41fbdcef14932a64006005f6fe7b6746\", element=\"c6fb0932-12cc-4aab-8b54-c83a5ee5a1a9\")>,\n",
       " <selenium.webdriver.remote.webelement.WebElement (session=\"41fbdcef14932a64006005f6fe7b6746\", element=\"9c25af10-21bf-429f-9c1f-ed1475a78ee9\")>,\n",
       " <selenium.webdriver.remote.webelement.WebElement (session=\"41fbdcef14932a64006005f6fe7b6746\", element=\"dec90e4a-f7cd-41fd-a004-d0029d1ff556\")>,\n",
       " <selenium.webdriver.remote.webelement.WebElement (session=\"41fbdcef14932a64006005f6fe7b6746\", element=\"2ad204c1-3e83-4d99-807c-d62bda2d2ae0\")>,\n",
       " <selenium.webdriver.remote.webelement.WebElement (session=\"41fbdcef14932a64006005f6fe7b6746\", element=\"5f3cbe9d-9643-4ef7-935c-695975340a3e\")>,\n",
       " <selenium.webdriver.remote.webelement.WebElement (session=\"41fbdcef14932a64006005f6fe7b6746\", element=\"de1ee4bc-406f-4729-b405-a96e780e405c\")>,\n",
       " <selenium.webdriver.remote.webelement.WebElement (session=\"41fbdcef14932a64006005f6fe7b6746\", element=\"f78efc46-0930-4b29-9dab-6f71b2c9175a\")>,\n",
       " <selenium.webdriver.remote.webelement.WebElement (session=\"41fbdcef14932a64006005f6fe7b6746\", element=\"68bfbb7f-23ca-4687-93b1-8b737768fcdf\")>,\n",
       " <selenium.webdriver.remote.webelement.WebElement (session=\"41fbdcef14932a64006005f6fe7b6746\", element=\"ea13801a-2518-468c-87bf-a41a0ccf10f6\")>,\n",
       " <selenium.webdriver.remote.webelement.WebElement (session=\"41fbdcef14932a64006005f6fe7b6746\", element=\"36e1c96a-891e-44f3-9a78-1323388a6134\")>,\n",
       " <selenium.webdriver.remote.webelement.WebElement (session=\"41fbdcef14932a64006005f6fe7b6746\", element=\"d92ce6d2-d6e4-4b6d-9e59-2c1ca263e47c\")>,\n",
       " <selenium.webdriver.remote.webelement.WebElement (session=\"41fbdcef14932a64006005f6fe7b6746\", element=\"1f5b9a40-dea2-4a3a-b2bc-2df3b7a6a27b\")>,\n",
       " <selenium.webdriver.remote.webelement.WebElement (session=\"41fbdcef14932a64006005f6fe7b6746\", element=\"67f45f73-3e7a-4547-9186-d6e70b632acd\")>,\n",
       " <selenium.webdriver.remote.webelement.WebElement (session=\"41fbdcef14932a64006005f6fe7b6746\", element=\"8a741222-d640-4a7e-8955-9ae52aeba7c7\")>,\n",
       " <selenium.webdriver.remote.webelement.WebElement (session=\"41fbdcef14932a64006005f6fe7b6746\", element=\"d3707dc6-728e-4ab9-b6eb-4287aa451ece\")>,\n",
       " <selenium.webdriver.remote.webelement.WebElement (session=\"41fbdcef14932a64006005f6fe7b6746\", element=\"a2056f9c-de61-4025-bdb7-f7882b1f418a\")>,\n",
       " <selenium.webdriver.remote.webelement.WebElement (session=\"41fbdcef14932a64006005f6fe7b6746\", element=\"67d9af21-6093-423f-8991-e29f58954ff5\")>,\n",
       " <selenium.webdriver.remote.webelement.WebElement (session=\"41fbdcef14932a64006005f6fe7b6746\", element=\"8cbbb30a-d325-4a7c-8c2e-9618504d5638\")>]"
      ]
     },
     "execution_count": 394,
     "metadata": {},
     "output_type": "execute_result"
    }
   ],
   "source": [
    "#extract product discription\n",
    "product_disc=driver.find_elements_by_xpath(\"//h4[@class='product-product']\")\n",
    "product_disc"
   ]
  },
  {
   "cell_type": "code",
   "execution_count": 395,
   "id": "3a5bd714",
   "metadata": {},
   "outputs": [
    {
     "data": {
      "text/plain": [
       "[\"AIRFORCE 1'07 LV8 EMB Sneakers\",\n",
       " 'Men Leather Driving Shoes',\n",
       " 'Men Printed Sneakers',\n",
       " 'Men Solid Leather Formal Slip-Ons',\n",
       " 'Men Dropset Training Shoes',\n",
       " 'Men Colourblocked RS-Z Core',\n",
       " 'Men Woven Design Sneakers',\n",
       " 'Men Sky Vault Walking Shoes',\n",
       " 'Electrify Nitro Running Shoes',\n",
       " 'Men Max Cushioning Running',\n",
       " 'Men Fuse One8 Training Shoes',\n",
       " 'Men Leather Loafers',\n",
       " 'Men Walking Shoes',\n",
       " 'Eternity Nitro Running Shoes',\n",
       " 'Ferrari X-Ray Speed Sneakers',\n",
       " 'Men Sl20.3 Running Shoes',\n",
       " 'Unisex Ferrari IONSpeed',\n",
       " 'Men FACET OUTDRY Trekking Shoe',\n",
       " 'Men Zig Dynamica 2.0 Running',\n",
       " 'Men Air Max Dawn Sneakers',\n",
       " 'Men Solid Sneakers',\n",
       " 'Men Leather Derbys',\n",
       " 'Men Golf Shoes',\n",
       " 'Men ZenonSpeed Sneakers',\n",
       " 'Men Solid Ozweego Sneakers',\n",
       " 'Men Formal Derbys',\n",
       " 'Unisex Ferrari Drift Cat Delta',\n",
       " 'Men Solar Glide 5 Running Shoe',\n",
       " 'Men Deviate Nitro Shoes',\n",
       " 'Women Kosmo Rider DC5 Sneakers',\n",
       " 'Women Supernova Running Shoes',\n",
       " 'Men Black Formal Derby Shoes',\n",
       " 'Men Solid Formal Slip-Ons',\n",
       " 'Men Textured Loafers',\n",
       " 'Men Leather Sneakers',\n",
       " 'Men Solid Leather Formal Slip-Ons',\n",
       " 'Men Flexi Sneakers',\n",
       " 'Men Running Shoes',\n",
       " 'Men Solid Retropy F2 Sneakers',\n",
       " 'Unisex Mercedes F1 R-Cat',\n",
       " 'Men Printed PU Sneakers',\n",
       " 'Men Textured Formal Leather Loafers',\n",
       " 'Unisex KING Top FG Shoes',\n",
       " 'Mirage Sport Hacked Sneakers',\n",
       " 'Men Solid Leather Formal Loafers',\n",
       " 'Leather Block Sandals',\n",
       " 'Men Leather Driving Shoes',\n",
       " 'Men Leather Sneakers',\n",
       " 'Women KarlieKlossX9000 Running',\n",
       " 'Women Dropset Training Shoes',\n",
       " 'Women Dropset Training Shoes',\n",
       " 'Men Leather Monks',\n",
       " 'Men Basketball Shoes',\n",
       " 'Men Textured Leather Driving Shoes',\n",
       " 'Men Textured Leather Sneakers',\n",
       " 'Men Printed Trekking Shoes',\n",
       " 'Men Textured Leather Driving Shoes',\n",
       " 'Women Trekking Shoes',\n",
       " 'Men Leather Loafers',\n",
       " 'Men Textured Leather Driving Shoes',\n",
       " 'Men Textured Leather Driving Shoes',\n",
       " 'Men Textured Leather Slip-On Sneakers',\n",
       " 'Men Textured Leather Driving Shoes',\n",
       " 'Men Training or Gym Shoes',\n",
       " 'Men MAX CUSHIONING ELITE-LUCID',\n",
       " 'Embellished Chelsea Boots',\n",
       " 'Women Eternity NITRO Shoes',\n",
       " 'Men Walking Shoes',\n",
       " 'Men Mid-Top Chelsea Boots',\n",
       " 'Men Leather Formal Oxfords',\n",
       " 'Men Formal Derbys',\n",
       " 'Men Leather Driving Shoes',\n",
       " 'Unisex Boston Super Grip Clogs',\n",
       " 'Men Textured Formal Leather Loafers',\n",
       " 'Men Solid Leather Formal Derbys',\n",
       " 'Ustraa black',\n",
       " 'High-Top Block Heeled Boots',\n",
       " 'Men Leather Formal Loafers',\n",
       " 'Embellished Wedge Sandals',\n",
       " 'Leather Block Pumps',\n",
       " 'Leather Slim Heels',\n",
       " 'Women Open Toe Flats',\n",
       " 'Women Leather Loafers',\n",
       " 'Embellish Mid-Top Heeled Boots',\n",
       " 'Women Ballerinas Flats',\n",
       " 'Women Textured Leather Loafers',\n",
       " 'Leather Party Block Sandals',\n",
       " 'Women Textured Leather Loafers',\n",
       " 'Unisex Ok Basketball MT',\n",
       " 'Men GENERATION ZEROGRAND STITCHLITE',\n",
       " 'Men Textured Leather Loafers',\n",
       " 'Men Textured Leather Loafers',\n",
       " 'Men Formal Leather Derby',\n",
       " 'Men Solid Loafers',\n",
       " 'Women REDMOND V2 TrekkingShoe',\n",
       " 'PEAKFREAK OUTDRY Trekking Shoe',\n",
       " 'Men Leather Formal Monks',\n",
       " 'Men Printed Slip-On Sneakers',\n",
       " 'Men Textured Leather Loafers',\n",
       " 'Men Leather Formal Loafers']"
      ]
     },
     "execution_count": 395,
     "metadata": {},
     "output_type": "execute_result"
    }
   ],
   "source": [
    "#we will get the discription text using for loop\n",
    "\n",
    "for i in product_disc:\n",
    "    discription=i.text\n",
    "    product_disc_list.append(discription)\n",
    "product_disc_list"
   ]
  },
  {
   "cell_type": "code",
   "execution_count": 396,
   "id": "80c81ae2",
   "metadata": {},
   "outputs": [
    {
     "data": {
      "text/plain": [
       "[<selenium.webdriver.remote.webelement.WebElement (session=\"41fbdcef14932a64006005f6fe7b6746\", element=\"9de2e5da-e51c-4bfc-8ddd-81977de2bf43\")>,\n",
       " <selenium.webdriver.remote.webelement.WebElement (session=\"41fbdcef14932a64006005f6fe7b6746\", element=\"a3f96192-3ca3-4bf9-95f0-9940e2138931\")>,\n",
       " <selenium.webdriver.remote.webelement.WebElement (session=\"41fbdcef14932a64006005f6fe7b6746\", element=\"d4bfca75-b766-42a6-a45d-8408c33c183f\")>,\n",
       " <selenium.webdriver.remote.webelement.WebElement (session=\"41fbdcef14932a64006005f6fe7b6746\", element=\"f507d959-cafd-4ddf-900d-641bd5daafec\")>,\n",
       " <selenium.webdriver.remote.webelement.WebElement (session=\"41fbdcef14932a64006005f6fe7b6746\", element=\"c20728e7-a4ee-4d3e-a7f2-bc890c8a85c1\")>,\n",
       " <selenium.webdriver.remote.webelement.WebElement (session=\"41fbdcef14932a64006005f6fe7b6746\", element=\"40228cbe-e644-4143-9abc-3f11db654530\")>,\n",
       " <selenium.webdriver.remote.webelement.WebElement (session=\"41fbdcef14932a64006005f6fe7b6746\", element=\"b0dd58cf-596f-4ce0-8ed1-024e0afdac28\")>,\n",
       " <selenium.webdriver.remote.webelement.WebElement (session=\"41fbdcef14932a64006005f6fe7b6746\", element=\"0a8d23e9-41ec-4477-879e-d189a345c5cc\")>,\n",
       " <selenium.webdriver.remote.webelement.WebElement (session=\"41fbdcef14932a64006005f6fe7b6746\", element=\"d1694e75-4c72-4f66-ad72-741ac0b4af7b\")>,\n",
       " <selenium.webdriver.remote.webelement.WebElement (session=\"41fbdcef14932a64006005f6fe7b6746\", element=\"6b7648ae-e641-45b2-8450-d05aafc63df1\")>,\n",
       " <selenium.webdriver.remote.webelement.WebElement (session=\"41fbdcef14932a64006005f6fe7b6746\", element=\"7d69f7ea-c4d4-43df-95e7-3fb5930fd093\")>,\n",
       " <selenium.webdriver.remote.webelement.WebElement (session=\"41fbdcef14932a64006005f6fe7b6746\", element=\"7cf3387f-b4d1-4480-a6cf-90b728cc0269\")>,\n",
       " <selenium.webdriver.remote.webelement.WebElement (session=\"41fbdcef14932a64006005f6fe7b6746\", element=\"7c125466-3724-4b44-8a2f-ccc420afe6ac\")>,\n",
       " <selenium.webdriver.remote.webelement.WebElement (session=\"41fbdcef14932a64006005f6fe7b6746\", element=\"5e56d373-3e92-46cb-9a2b-5b5d3b77a3f3\")>,\n",
       " <selenium.webdriver.remote.webelement.WebElement (session=\"41fbdcef14932a64006005f6fe7b6746\", element=\"4b5eb384-b1f1-4162-81f5-7ae94c73211a\")>,\n",
       " <selenium.webdriver.remote.webelement.WebElement (session=\"41fbdcef14932a64006005f6fe7b6746\", element=\"808bec7b-44ae-46fb-abf5-06f380fb2fad\")>,\n",
       " <selenium.webdriver.remote.webelement.WebElement (session=\"41fbdcef14932a64006005f6fe7b6746\", element=\"9ddbaf5b-6de8-4236-85d8-6f557837aeaa\")>,\n",
       " <selenium.webdriver.remote.webelement.WebElement (session=\"41fbdcef14932a64006005f6fe7b6746\", element=\"b3be709a-2864-4c0c-a77b-05bf0507bcca\")>,\n",
       " <selenium.webdriver.remote.webelement.WebElement (session=\"41fbdcef14932a64006005f6fe7b6746\", element=\"48896974-80eb-4f99-b1cc-0158538f52ba\")>,\n",
       " <selenium.webdriver.remote.webelement.WebElement (session=\"41fbdcef14932a64006005f6fe7b6746\", element=\"ddde7d8c-4efa-4057-b02e-371414b66935\")>,\n",
       " <selenium.webdriver.remote.webelement.WebElement (session=\"41fbdcef14932a64006005f6fe7b6746\", element=\"eb4fdad3-f091-4c58-8ca9-2aae473ec17a\")>,\n",
       " <selenium.webdriver.remote.webelement.WebElement (session=\"41fbdcef14932a64006005f6fe7b6746\", element=\"00931575-9a64-4913-aced-e9b2a230043d\")>,\n",
       " <selenium.webdriver.remote.webelement.WebElement (session=\"41fbdcef14932a64006005f6fe7b6746\", element=\"3437c09c-930f-431e-b7ab-8a12870f0158\")>,\n",
       " <selenium.webdriver.remote.webelement.WebElement (session=\"41fbdcef14932a64006005f6fe7b6746\", element=\"d14f2321-1e3a-41a2-8acb-32f95a4e5b14\")>,\n",
       " <selenium.webdriver.remote.webelement.WebElement (session=\"41fbdcef14932a64006005f6fe7b6746\", element=\"95caa140-1e2c-4770-89aa-96019c65462f\")>,\n",
       " <selenium.webdriver.remote.webelement.WebElement (session=\"41fbdcef14932a64006005f6fe7b6746\", element=\"1334814d-1ede-4d82-b4a9-55fd6f1b639e\")>,\n",
       " <selenium.webdriver.remote.webelement.WebElement (session=\"41fbdcef14932a64006005f6fe7b6746\", element=\"d9d20009-66db-4360-bfdb-9d1cbec6d540\")>,\n",
       " <selenium.webdriver.remote.webelement.WebElement (session=\"41fbdcef14932a64006005f6fe7b6746\", element=\"d311f2e5-be7e-45b8-acf9-ce9486b6e016\")>,\n",
       " <selenium.webdriver.remote.webelement.WebElement (session=\"41fbdcef14932a64006005f6fe7b6746\", element=\"cc7c7090-47a8-43b5-86fa-ecdffa4318d9\")>,\n",
       " <selenium.webdriver.remote.webelement.WebElement (session=\"41fbdcef14932a64006005f6fe7b6746\", element=\"5dcdf80e-9723-448c-8953-5847b792d8d6\")>,\n",
       " <selenium.webdriver.remote.webelement.WebElement (session=\"41fbdcef14932a64006005f6fe7b6746\", element=\"baa3dc2a-1c99-4e25-89a6-e1bc5e2f18aa\")>,\n",
       " <selenium.webdriver.remote.webelement.WebElement (session=\"41fbdcef14932a64006005f6fe7b6746\", element=\"ebc1e381-addd-40ea-bfb7-bce87d6ee67d\")>,\n",
       " <selenium.webdriver.remote.webelement.WebElement (session=\"41fbdcef14932a64006005f6fe7b6746\", element=\"d1ef9c9f-86df-4377-9b1b-04285876e0cf\")>,\n",
       " <selenium.webdriver.remote.webelement.WebElement (session=\"41fbdcef14932a64006005f6fe7b6746\", element=\"41a4d1df-2335-4c59-9d17-1e6eaf51aa16\")>,\n",
       " <selenium.webdriver.remote.webelement.WebElement (session=\"41fbdcef14932a64006005f6fe7b6746\", element=\"63ce7702-546d-45fb-9776-02b1bfecbc8f\")>,\n",
       " <selenium.webdriver.remote.webelement.WebElement (session=\"41fbdcef14932a64006005f6fe7b6746\", element=\"ffbb1f7c-4597-482c-8bb9-7fd746b6edc1\")>,\n",
       " <selenium.webdriver.remote.webelement.WebElement (session=\"41fbdcef14932a64006005f6fe7b6746\", element=\"ad65959f-d5b4-41b7-8362-279fc8ac3b26\")>,\n",
       " <selenium.webdriver.remote.webelement.WebElement (session=\"41fbdcef14932a64006005f6fe7b6746\", element=\"4c1bd4ac-1653-4ada-b9cb-0ac0b0213d79\")>,\n",
       " <selenium.webdriver.remote.webelement.WebElement (session=\"41fbdcef14932a64006005f6fe7b6746\", element=\"1f727739-1780-4e50-9737-27fb0924553d\")>,\n",
       " <selenium.webdriver.remote.webelement.WebElement (session=\"41fbdcef14932a64006005f6fe7b6746\", element=\"fd2ed015-4a6e-41af-a25f-624679baea41\")>,\n",
       " <selenium.webdriver.remote.webelement.WebElement (session=\"41fbdcef14932a64006005f6fe7b6746\", element=\"6f1d088a-63a3-423c-a42f-2b703c1daf87\")>,\n",
       " <selenium.webdriver.remote.webelement.WebElement (session=\"41fbdcef14932a64006005f6fe7b6746\", element=\"83d54882-224b-41de-8356-254ea9eacb0d\")>,\n",
       " <selenium.webdriver.remote.webelement.WebElement (session=\"41fbdcef14932a64006005f6fe7b6746\", element=\"5d84792b-6f30-408c-8866-ed94be9c06fa\")>,\n",
       " <selenium.webdriver.remote.webelement.WebElement (session=\"41fbdcef14932a64006005f6fe7b6746\", element=\"96013c57-e0c4-4355-822f-bb7e0fbdfcf6\")>,\n",
       " <selenium.webdriver.remote.webelement.WebElement (session=\"41fbdcef14932a64006005f6fe7b6746\", element=\"f180732b-94b6-4ed6-a7db-7b048a1cbb32\")>,\n",
       " <selenium.webdriver.remote.webelement.WebElement (session=\"41fbdcef14932a64006005f6fe7b6746\", element=\"bab05ffc-51a7-4965-93c1-48c26c4d4af3\")>,\n",
       " <selenium.webdriver.remote.webelement.WebElement (session=\"41fbdcef14932a64006005f6fe7b6746\", element=\"e0674bd4-d3f7-4758-9d8c-19b147e9eabb\")>,\n",
       " <selenium.webdriver.remote.webelement.WebElement (session=\"41fbdcef14932a64006005f6fe7b6746\", element=\"7adbe6f5-01bf-443d-a8da-40306ace1ee5\")>,\n",
       " <selenium.webdriver.remote.webelement.WebElement (session=\"41fbdcef14932a64006005f6fe7b6746\", element=\"6ba8c5ac-d696-4503-834d-6bd9966cdb39\")>,\n",
       " <selenium.webdriver.remote.webelement.WebElement (session=\"41fbdcef14932a64006005f6fe7b6746\", element=\"d12f2beb-9e8e-4917-8f18-92422be59d3c\")>]"
      ]
     },
     "execution_count": 396,
     "metadata": {},
     "output_type": "execute_result"
    }
   ],
   "source": [
    "#extract price\n",
    "product_price=driver.find_elements_by_xpath(\"//div[@class='product-price']\")\n",
    "product_price"
   ]
  },
  {
   "cell_type": "code",
   "execution_count": 397,
   "id": "2aa8ecfd",
   "metadata": {},
   "outputs": [
    {
     "data": {
      "text/plain": [
       "['Rs. 8725Rs. 9695(10% OFF)',\n",
       " 'Rs. 12999',\n",
       " 'Rs. 9099Rs. 12999(30% OFF)',\n",
       " 'Rs. 7649Rs. 8999(15% OFF)',\n",
       " 'Rs. 12999',\n",
       " 'Rs. 9999',\n",
       " 'Rs. 13999',\n",
       " 'Rs. 7199Rs. 8999(20% OFF)',\n",
       " 'Rs. 9999',\n",
       " 'Rs. 7649Rs. 8999(15% OFF)',\n",
       " 'Rs. 7999',\n",
       " 'Rs. 12999',\n",
       " 'Rs. 7649Rs. 8999(15% OFF)',\n",
       " 'Rs. 12999',\n",
       " 'Rs. 7999',\n",
       " 'Rs. 11999',\n",
       " 'Rs. 8999',\n",
       " 'Rs. 12999',\n",
       " 'Rs. 7999',\n",
       " 'Rs. 7436Rs. 9295(20% OFF)',\n",
       " 'Rs. 10499',\n",
       " 'Rs. 7499',\n",
       " 'Rs. 8999',\n",
       " 'Rs. 8999',\n",
       " 'Rs. 9349Rs. 10999(15% OFF)',\n",
       " 'Rs. 8499Rs. 9999(15% OFF)',\n",
       " 'Rs. 7999',\n",
       " 'Rs. 13999',\n",
       " 'Rs. 12749Rs. 14999(15% OFF)',\n",
       " 'Rs. 7999',\n",
       " 'Rs. 9999',\n",
       " 'Rs. 11999',\n",
       " 'Rs. 8499Rs. 9999(15% OFF)',\n",
       " 'Rs. 8999',\n",
       " 'Rs. 8599',\n",
       " 'Rs. 8499Rs. 9999(15% OFF)',\n",
       " 'Rs. 7999',\n",
       " 'Rs. 8499Rs. 9999(15% OFF)',\n",
       " 'Rs. 8099Rs. 8999(10% OFF)',\n",
       " 'Rs. 7499',\n",
       " 'Rs. 9999',\n",
       " 'Rs. 8990',\n",
       " 'Rs. 8999Rs. 11999(25% OFF)',\n",
       " 'Rs. 7649Rs. 8999(15% OFF)',\n",
       " 'Rs. 8490',\n",
       " 'Rs. 9810Rs. 10900(10% OFF)',\n",
       " 'Rs. 8499',\n",
       " 'Rs. 7890',\n",
       " 'Rs. 13999',\n",
       " 'Rs. 12999',\n",
       " 'Rs. 12999',\n",
       " 'Rs. 8999',\n",
       " 'Rs. 7999',\n",
       " 'Rs. 10490',\n",
       " 'Rs. 9990',\n",
       " 'Rs. 11599',\n",
       " 'Rs. 10990',\n",
       " 'Rs. 8999',\n",
       " 'Rs. 9999',\n",
       " 'Rs. 9990',\n",
       " 'Rs. 10990',\n",
       " 'Rs. 9990',\n",
       " 'Rs. 10990',\n",
       " 'Rs. 7999',\n",
       " 'Rs. 7599Rs. 9499(20% OFF)',\n",
       " 'Rs. 10900',\n",
       " 'Rs. 9099Rs. 12999(30% OFF)',\n",
       " 'Rs. 7199Rs. 8999(20% OFF)',\n",
       " 'Rs. 10500Rs. 10900(Rs. 400 OFF)',\n",
       " 'Rs. 10999',\n",
       " 'Rs. 9990',\n",
       " 'Rs. 9499',\n",
       " 'Rs. 9290',\n",
       " 'Rs. 8990',\n",
       " 'Rs. 8499Rs. 9999(15% OFF)',\n",
       " 'Rs. 8990',\n",
       " 'Rs. 7900',\n",
       " 'Rs. 7490',\n",
       " 'Rs. 7999',\n",
       " 'Rs. 7499Rs. 9999(25% OFF)',\n",
       " 'Rs. 7199Rs. 11999(40% OFF)',\n",
       " 'Rs. 8575',\n",
       " 'Rs. 7505Rs. 9500(21% OFF)',\n",
       " 'Rs. 7990',\n",
       " 'Rs. 8950',\n",
       " 'Rs. 9990',\n",
       " 'Rs. 10500',\n",
       " 'Rs. 9490',\n",
       " 'Rs. 7999',\n",
       " 'Rs. 11999',\n",
       " 'Rs. 7990',\n",
       " 'Rs. 8490',\n",
       " 'Rs. 7990',\n",
       " 'Rs. 8990',\n",
       " 'Rs. 7999',\n",
       " 'Rs. 9999',\n",
       " 'Rs. 9995',\n",
       " 'Rs. 10999',\n",
       " 'Rs. 7699Rs. 10999(30% OFF)',\n",
       " 'Rs. 7490']"
      ]
     },
     "execution_count": 397,
     "metadata": {},
     "output_type": "execute_result"
    }
   ],
   "source": [
    "#we will get the price text using for loop\n",
    "\n",
    "for i in product_price:\n",
    "    price=i.text\n",
    "    price_list_1.append(price)\n",
    "price_list_1"
   ]
  },
  {
   "cell_type": "code",
   "execution_count": 398,
   "id": "f915ddf2",
   "metadata": {},
   "outputs": [
    {
     "name": "stdout",
     "output_type": "stream",
     "text": [
      "100 100 100\n"
     ]
    }
   ],
   "source": [
    "print(len(price_list_1), len(brand_names_list), len(product_disc_list))"
   ]
  },
  {
   "cell_type": "code",
   "execution_count": 400,
   "id": "cfecdd67",
   "metadata": {},
   "outputs": [],
   "source": [
    "#import pandas as pd\n",
    "shoes=pd.DataFrame({})\n",
    "shoes[\"Brand Name\"]=brand_names_list\n",
    "shoes[\"Discription\"]=product_disc_list\n",
    "shoes[\"Price\"]=price_list_1"
   ]
  },
  {
   "cell_type": "code",
   "execution_count": 401,
   "id": "6a2daea7",
   "metadata": {},
   "outputs": [
    {
     "data": {
      "text/html": [
       "<div>\n",
       "<style scoped>\n",
       "    .dataframe tbody tr th:only-of-type {\n",
       "        vertical-align: middle;\n",
       "    }\n",
       "\n",
       "    .dataframe tbody tr th {\n",
       "        vertical-align: top;\n",
       "    }\n",
       "\n",
       "    .dataframe thead th {\n",
       "        text-align: right;\n",
       "    }\n",
       "</style>\n",
       "<table border=\"1\" class=\"dataframe\">\n",
       "  <thead>\n",
       "    <tr style=\"text-align: right;\">\n",
       "      <th></th>\n",
       "      <th>Brand Name</th>\n",
       "      <th>Discription</th>\n",
       "      <th>Price</th>\n",
       "    </tr>\n",
       "  </thead>\n",
       "  <tbody>\n",
       "    <tr>\n",
       "      <th>0</th>\n",
       "      <td>Nike</td>\n",
       "      <td>AIRFORCE 1'07 LV8 EMB Sneakers</td>\n",
       "      <td>Rs. 8725Rs. 9695(10% OFF)</td>\n",
       "    </tr>\n",
       "    <tr>\n",
       "      <th>1</th>\n",
       "      <td>ALDO</td>\n",
       "      <td>Men Leather Driving Shoes</td>\n",
       "      <td>Rs. 12999</td>\n",
       "    </tr>\n",
       "    <tr>\n",
       "      <th>2</th>\n",
       "      <td>ALDO</td>\n",
       "      <td>Men Printed Sneakers</td>\n",
       "      <td>Rs. 9099Rs. 12999(30% OFF)</td>\n",
       "    </tr>\n",
       "    <tr>\n",
       "      <th>3</th>\n",
       "      <td>Hush Puppies</td>\n",
       "      <td>Men Solid Leather Formal Slip-Ons</td>\n",
       "      <td>Rs. 7649Rs. 8999(15% OFF)</td>\n",
       "    </tr>\n",
       "    <tr>\n",
       "      <th>4</th>\n",
       "      <td>ADIDAS</td>\n",
       "      <td>Men Dropset Training Shoes</td>\n",
       "      <td>Rs. 12999</td>\n",
       "    </tr>\n",
       "    <tr>\n",
       "      <th>...</th>\n",
       "      <td>...</td>\n",
       "      <td>...</td>\n",
       "      <td>...</td>\n",
       "    </tr>\n",
       "    <tr>\n",
       "      <th>95</th>\n",
       "      <td>Columbia</td>\n",
       "      <td>PEAKFREAK OUTDRY Trekking Shoe</td>\n",
       "      <td>Rs. 9999</td>\n",
       "    </tr>\n",
       "    <tr>\n",
       "      <th>96</th>\n",
       "      <td>Florsheim</td>\n",
       "      <td>Men Leather Formal Monks</td>\n",
       "      <td>Rs. 9995</td>\n",
       "    </tr>\n",
       "    <tr>\n",
       "      <th>97</th>\n",
       "      <td>Geox</td>\n",
       "      <td>Men Printed Slip-On Sneakers</td>\n",
       "      <td>Rs. 10999</td>\n",
       "    </tr>\n",
       "    <tr>\n",
       "      <th>98</th>\n",
       "      <td>RARE RABBIT</td>\n",
       "      <td>Men Textured Leather Loafers</td>\n",
       "      <td>Rs. 7699Rs. 10999(30% OFF)</td>\n",
       "    </tr>\n",
       "    <tr>\n",
       "      <th>99</th>\n",
       "      <td>J.FONTINI</td>\n",
       "      <td>Men Leather Formal Loafers</td>\n",
       "      <td>Rs. 7490</td>\n",
       "    </tr>\n",
       "  </tbody>\n",
       "</table>\n",
       "<p>100 rows × 3 columns</p>\n",
       "</div>"
      ],
      "text/plain": [
       "      Brand Name                        Discription  \\\n",
       "0           Nike     AIRFORCE 1'07 LV8 EMB Sneakers   \n",
       "1           ALDO          Men Leather Driving Shoes   \n",
       "2           ALDO               Men Printed Sneakers   \n",
       "3   Hush Puppies  Men Solid Leather Formal Slip-Ons   \n",
       "4         ADIDAS         Men Dropset Training Shoes   \n",
       "..           ...                                ...   \n",
       "95      Columbia     PEAKFREAK OUTDRY Trekking Shoe   \n",
       "96     Florsheim           Men Leather Formal Monks   \n",
       "97          Geox       Men Printed Slip-On Sneakers   \n",
       "98   RARE RABBIT       Men Textured Leather Loafers   \n",
       "99     J.FONTINI         Men Leather Formal Loafers   \n",
       "\n",
       "                         Price  \n",
       "0    Rs. 8725Rs. 9695(10% OFF)  \n",
       "1                    Rs. 12999  \n",
       "2   Rs. 9099Rs. 12999(30% OFF)  \n",
       "3    Rs. 7649Rs. 8999(15% OFF)  \n",
       "4                    Rs. 12999  \n",
       "..                         ...  \n",
       "95                    Rs. 9999  \n",
       "96                    Rs. 9995  \n",
       "97                   Rs. 10999  \n",
       "98  Rs. 7699Rs. 10999(30% OFF)  \n",
       "99                    Rs. 7490  \n",
       "\n",
       "[100 rows x 3 columns]"
      ]
     },
     "execution_count": 401,
     "metadata": {},
     "output_type": "execute_result"
    }
   ],
   "source": [
    "shoes"
   ]
  },
  {
   "cell_type": "code",
   "execution_count": 402,
   "id": "13490ff8",
   "metadata": {},
   "outputs": [],
   "source": [
    "driver.close()"
   ]
  },
  {
   "cell_type": "markdown",
   "id": "69cda9d1",
   "metadata": {},
   "source": [
    "# Go to webpage https://www.amazon.in/\n",
    "Enter “Laptop” in the search field and then click the search icon.\n",
    "Then set CPU Type filter to “Intel Core i7” and “Intel Core i9” as shown in the below image:\n",
    "After setting the filters scrape first 10 laptops data. You have to scrape 3 attributesfor each laptop:\n",
    "1. Title\n",
    "2. Ratings\n",
    "3. Price\n",
    "As shown in the below image as the tick marked attributes.\n",
    "\n",
    "\n",
    "Note:- i skip to extract ratings because for that i need to use exception handling here and i generate ticket and sapna  verma ma'am tell me you can skip to extract ratings and i use only one filter beacus ma'am told me that website interface has changed now so i extract using 1 filter and get titles and price"
   ]
  },
  {
   "cell_type": "code",
   "execution_count": 1227,
   "id": "4130be40",
   "metadata": {},
   "outputs": [],
   "source": [
    "driver=webdriver.Chrome(\"chromedriver.exe\")\n",
    "time.sleep(2)"
   ]
  },
  {
   "cell_type": "code",
   "execution_count": 1228,
   "id": "a7cc9950",
   "metadata": {},
   "outputs": [],
   "source": [
    "driver.get(\" https://www.amazon.in/\")"
   ]
  },
  {
   "cell_type": "code",
   "execution_count": 1229,
   "id": "7b176f8a",
   "metadata": {},
   "outputs": [],
   "source": [
    "#add laptop in search bar and click on search button\n",
    "search_field_designation=driver.find_element_by_xpath(\"/html/body/div[1]/header/div/div[1]/div[2]/div/form/div[2]/div[1]/input\")\n",
    "search_field_designation.send_keys(\"Laptop\")"
   ]
  },
  {
   "cell_type": "code",
   "execution_count": 1230,
   "id": "edeeccc9",
   "metadata": {},
   "outputs": [],
   "source": [
    "search_button=driver.find_element_by_xpath(\"/html/body/div[1]/header/div/div[1]/div[2]/div/form/div[3]/div/span/input\")\n",
    "search_button.click()"
   ]
  },
  {
   "cell_type": "code",
   "execution_count": 1233,
   "id": "2b3e9459",
   "metadata": {},
   "outputs": [],
   "source": [
    "#using filter cpu type find the result\n",
    "add_filter_cpu_type=driver.find_element_by_xpath(\"/html/body/div[1]/div[2]/div[1]/div[2]/div/div[3]/span/div[1]/div/div/div[6]/ul[4]/li[12]/span/a/span\")\n",
    "add_filter_cpu_type.click()"
   ]
  },
  {
   "cell_type": "code",
   "execution_count": 1234,
   "id": "7ab3cdf4",
   "metadata": {},
   "outputs": [],
   "source": [
    "title_list=[]\n",
    "price_list=[]"
   ]
  },
  {
   "cell_type": "code",
   "execution_count": 1235,
   "id": "a45fa38e",
   "metadata": {},
   "outputs": [
    {
     "data": {
      "text/plain": [
       "[<selenium.webdriver.remote.webelement.WebElement (session=\"c96207946e2d7bc7bdbb83196944c33b\", element=\"1c3f9334-5064-4911-b141-f3fe2ba055d8\")>,\n",
       " <selenium.webdriver.remote.webelement.WebElement (session=\"c96207946e2d7bc7bdbb83196944c33b\", element=\"f0d78a21-9e48-4aaa-b4eb-136d6d106c9c\")>,\n",
       " <selenium.webdriver.remote.webelement.WebElement (session=\"c96207946e2d7bc7bdbb83196944c33b\", element=\"6f2cbdf2-77c8-45c7-97f1-8e1303dba07c\")>,\n",
       " <selenium.webdriver.remote.webelement.WebElement (session=\"c96207946e2d7bc7bdbb83196944c33b\", element=\"c91cb2fc-9290-48ae-9cbd-0a7da5223e9b\")>,\n",
       " <selenium.webdriver.remote.webelement.WebElement (session=\"c96207946e2d7bc7bdbb83196944c33b\", element=\"a38fdbee-60d4-406d-bf20-86e775b44e7f\")>,\n",
       " <selenium.webdriver.remote.webelement.WebElement (session=\"c96207946e2d7bc7bdbb83196944c33b\", element=\"38761443-f19a-4e5b-809a-c6e086fa0906\")>,\n",
       " <selenium.webdriver.remote.webelement.WebElement (session=\"c96207946e2d7bc7bdbb83196944c33b\", element=\"0e781118-e1ea-44e4-8dd8-6a32ef3421d4\")>,\n",
       " <selenium.webdriver.remote.webelement.WebElement (session=\"c96207946e2d7bc7bdbb83196944c33b\", element=\"72733ff3-e214-42ba-97a4-99e2ba103c28\")>,\n",
       " <selenium.webdriver.remote.webelement.WebElement (session=\"c96207946e2d7bc7bdbb83196944c33b\", element=\"ebaff293-0708-4abe-978d-3db3a34a1ed3\")>,\n",
       " <selenium.webdriver.remote.webelement.WebElement (session=\"c96207946e2d7bc7bdbb83196944c33b\", element=\"77564e65-c54c-42c0-b353-3848e849330d\")>]"
      ]
     },
     "execution_count": 1235,
     "metadata": {},
     "output_type": "execute_result"
    }
   ],
   "source": [
    "#extract title names\n",
    "title_tags=driver.find_elements_by_xpath(\"//span[@class='a-size-medium a-color-base a-text-normal']\")\n",
    "title_tags[0:10]"
   ]
  },
  {
   "cell_type": "code",
   "execution_count": 1236,
   "id": "d939f8d6",
   "metadata": {},
   "outputs": [
    {
     "data": {
      "text/plain": [
       "['Acer Predator Helios 300 11th Gen Intel Core i9-11900H 15.6\" (39.62cms) FHD IPS Gaming Laptop (16 GB/1TB SSD/Win 11 Home/6 GB Graphics/NVIDIA GeForce RTX 3060/360 Hz, Black, 2.3 kg) PH315-54',\n",
       " 'Acer Predator Helios 300 11th Gen Intel Core i9-11900H 15.6\" (39.62cms) FHD IPS Gaming Laptop (16 GB/1TB SSD/Win 11 Home/6 GB Graphics/NVIDIA GeForce RTX 3060/360 Hz, Black, 2.3 kg) PH315-54',\n",
       " 'ASUS ROG Strix SCAR 15 (2022), 15.6-inch (39.62 cms) 2K WQHD 240Hz/3ms, Core i9-12900H 12th Gen, RTX 3080 Ti 16GB Graphics, Gaming Laptop (32GB/1TB SSD/Win 11/Office 2021/Black/2.3 Kg), G533ZX-LN024WS',\n",
       " 'ASUS ROG Strix Scar 15 (2022), 15.6\" (39.62 cms) 2K WQHD 240Hz/3ms, Intel Core i9-12900H 12th Gen, RTX 3070 Ti 8GB Graphics, Gaming Laptop (32GB/1TB SSD/Win 11/Office 2021/Black/2.3 kg) G533ZW-LN136WS',\n",
       " 'ASUS TUF Gaming F15 (2021), 15.6\" (39.62 cms) FHD 240Hz, Intel Core i9-11900H 11th Gen, GeForce RTX 3060 6GB Graphics, Gaming Laptop(16GB/1TB SSD/Office 2019/Windows 10/Gray/2.3 Kg), FX566HM-AZ096TS',\n",
       " 'ASUS ROG Strix Scar 15 (2022), 15.6-inch (39.62 cms) 2K WQHD 240Hz/3ms, Core i9-12900H 12th Gen, RTX 3070 Ti 8GB Graphics, Gaming Laptop (32GB/2TB SSD/Win 11/Office 2021/Black/2.3 Kg), G533ZW-LN106WS',\n",
       " 'HP Envy 15- 11th Gen Intel Core i9/32GB/1TB SSD/15.6 inch(39.6 cm) 400 nits,4K AMOLED Touch, TUV + Win 11 Pro 64/NVIDIA GeForce RTX 3060 6GB Graphics/Alexa/FPR /B&O/2.14kg,15-ep1087TX, Natural Silver',\n",
       " 'ASUS ROG Zephyrus M16 (2022), 16-inch (40.64 cms) 2K QHD 165Hz/3ms, Core i9-12900H 12th Gen, RTX 3080 Ti 16GB Graphics, Gaming Laptop (32GB/2TB SSD/Win 11/Office 2021/Black/2 Kg), GU603ZX-K8024WS',\n",
       " 'ASUS ROG Strix Scar 17 (2022), 17.3-inch (43.94 cms) 2K WQHD 240Hz/3ms, Core i9-12900H 12th Gen, RTX 3070 Ti 8GB Graphics, Gaming Laptop (32GB/2TB SSD/Win 11/Office 2021/Black/2.9 Kg), G733ZW-LL105WS',\n",
       " '(Renewed) HP Omen 15-dh0139TX Gaming Laptop (9th Gen i9-9880H/16GB/1TB HDD + 512GB SSD/Win 10/8GB NVIDIA RTX 2080 Graphics) & Z3700 Wireless Mouse']"
      ]
     },
     "execution_count": 1236,
     "metadata": {},
     "output_type": "execute_result"
    }
   ],
   "source": [
    "#we will get the title text using for loop\n",
    "\n",
    "for i in title_tags:\n",
    "    title=i.text\n",
    "    title_list.append(title)\n",
    "title_list[0:10]"
   ]
  },
  {
   "cell_type": "code",
   "execution_count": 1237,
   "id": "a8bfde94",
   "metadata": {},
   "outputs": [
    {
     "data": {
      "text/plain": [
       "[<selenium.webdriver.remote.webelement.WebElement (session=\"c96207946e2d7bc7bdbb83196944c33b\", element=\"c9ab3deb-9cf1-4399-89b7-da7e7b77ec52\")>,\n",
       " <selenium.webdriver.remote.webelement.WebElement (session=\"c96207946e2d7bc7bdbb83196944c33b\", element=\"54912f33-dc52-4cf2-a6b1-f342258687ad\")>,\n",
       " <selenium.webdriver.remote.webelement.WebElement (session=\"c96207946e2d7bc7bdbb83196944c33b\", element=\"2d2d6e4e-5882-4d64-acec-677556b793a3\")>,\n",
       " <selenium.webdriver.remote.webelement.WebElement (session=\"c96207946e2d7bc7bdbb83196944c33b\", element=\"b9f5dde3-5f20-43a3-9f1e-a8c2f10de2e6\")>,\n",
       " <selenium.webdriver.remote.webelement.WebElement (session=\"c96207946e2d7bc7bdbb83196944c33b\", element=\"a7b2b6f6-3b4c-49e7-a77d-ab1136638748\")>,\n",
       " <selenium.webdriver.remote.webelement.WebElement (session=\"c96207946e2d7bc7bdbb83196944c33b\", element=\"2c6c3e82-dccc-41c4-a77d-b1632b71e5e6\")>,\n",
       " <selenium.webdriver.remote.webelement.WebElement (session=\"c96207946e2d7bc7bdbb83196944c33b\", element=\"74582d42-de77-4abf-8e93-4014f1cc008f\")>,\n",
       " <selenium.webdriver.remote.webelement.WebElement (session=\"c96207946e2d7bc7bdbb83196944c33b\", element=\"402e30c2-d297-4979-b1d0-dd22c6d366a2\")>,\n",
       " <selenium.webdriver.remote.webelement.WebElement (session=\"c96207946e2d7bc7bdbb83196944c33b\", element=\"50699a11-82a4-479d-b972-dc7ee2309dad\")>,\n",
       " <selenium.webdriver.remote.webelement.WebElement (session=\"c96207946e2d7bc7bdbb83196944c33b\", element=\"022f553f-5416-46ef-ab31-76dc91b92485\")>]"
      ]
     },
     "execution_count": 1237,
     "metadata": {},
     "output_type": "execute_result"
    }
   ],
   "source": [
    "#extract price\n",
    "price_tags=driver.find_elements_by_xpath(\"//span[@class='a-price-whole']\")\n",
    "price_tags[0:10]"
   ]
  },
  {
   "cell_type": "code",
   "execution_count": 1238,
   "id": "3fd2acde",
   "metadata": {},
   "outputs": [
    {
     "data": {
      "text/plain": [
       "['1,44,990',\n",
       " '1,44,990',\n",
       " '3,01,521',\n",
       " '2,38,990',\n",
       " '1,77,885',\n",
       " '2,85,990',\n",
       " '2,02,990',\n",
       " '3,31,990',\n",
       " '1,38,000',\n",
       " '2,25,000']"
      ]
     },
     "execution_count": 1238,
     "metadata": {},
     "output_type": "execute_result"
    }
   ],
   "source": [
    "#we will get the price using for loop\n",
    "\n",
    "for i in price_tags:\n",
    "    price=i.text\n",
    "    price_list.append(price)\n",
    "price_list[0:10]"
   ]
  },
  {
   "cell_type": "code",
   "execution_count": 1240,
   "id": "18bf8d7b",
   "metadata": {},
   "outputs": [],
   "source": [
    "#import pandas as pd\n",
    "laptop=pd.DataFrame({})\n",
    "laptop[\"Title\"]=title_list[0:10]\n",
    "laptop[\"Price\"]=price_list[0:10]"
   ]
  },
  {
   "cell_type": "code",
   "execution_count": 1241,
   "id": "c36ba3fc",
   "metadata": {},
   "outputs": [
    {
     "data": {
      "text/html": [
       "<div>\n",
       "<style scoped>\n",
       "    .dataframe tbody tr th:only-of-type {\n",
       "        vertical-align: middle;\n",
       "    }\n",
       "\n",
       "    .dataframe tbody tr th {\n",
       "        vertical-align: top;\n",
       "    }\n",
       "\n",
       "    .dataframe thead th {\n",
       "        text-align: right;\n",
       "    }\n",
       "</style>\n",
       "<table border=\"1\" class=\"dataframe\">\n",
       "  <thead>\n",
       "    <tr style=\"text-align: right;\">\n",
       "      <th></th>\n",
       "      <th>Title</th>\n",
       "      <th>Price</th>\n",
       "    </tr>\n",
       "  </thead>\n",
       "  <tbody>\n",
       "    <tr>\n",
       "      <th>0</th>\n",
       "      <td>Acer Predator Helios 300 11th Gen Intel Core i...</td>\n",
       "      <td>1,44,990</td>\n",
       "    </tr>\n",
       "    <tr>\n",
       "      <th>1</th>\n",
       "      <td>Acer Predator Helios 300 11th Gen Intel Core i...</td>\n",
       "      <td>1,44,990</td>\n",
       "    </tr>\n",
       "    <tr>\n",
       "      <th>2</th>\n",
       "      <td>ASUS ROG Strix SCAR 15 (2022), 15.6-inch (39.6...</td>\n",
       "      <td>3,01,521</td>\n",
       "    </tr>\n",
       "    <tr>\n",
       "      <th>3</th>\n",
       "      <td>ASUS ROG Strix Scar 15 (2022), 15.6\" (39.62 cm...</td>\n",
       "      <td>2,38,990</td>\n",
       "    </tr>\n",
       "    <tr>\n",
       "      <th>4</th>\n",
       "      <td>ASUS TUF Gaming F15 (2021), 15.6\" (39.62 cms) ...</td>\n",
       "      <td>1,77,885</td>\n",
       "    </tr>\n",
       "    <tr>\n",
       "      <th>5</th>\n",
       "      <td>ASUS ROG Strix Scar 15 (2022), 15.6-inch (39.6...</td>\n",
       "      <td>2,85,990</td>\n",
       "    </tr>\n",
       "    <tr>\n",
       "      <th>6</th>\n",
       "      <td>HP Envy 15- 11th Gen Intel Core i9/32GB/1TB SS...</td>\n",
       "      <td>2,02,990</td>\n",
       "    </tr>\n",
       "    <tr>\n",
       "      <th>7</th>\n",
       "      <td>ASUS ROG Zephyrus M16 (2022), 16-inch (40.64 c...</td>\n",
       "      <td>3,31,990</td>\n",
       "    </tr>\n",
       "    <tr>\n",
       "      <th>8</th>\n",
       "      <td>ASUS ROG Strix Scar 17 (2022), 17.3-inch (43.9...</td>\n",
       "      <td>1,38,000</td>\n",
       "    </tr>\n",
       "    <tr>\n",
       "      <th>9</th>\n",
       "      <td>(Renewed) HP Omen 15-dh0139TX Gaming Laptop (9...</td>\n",
       "      <td>2,25,000</td>\n",
       "    </tr>\n",
       "  </tbody>\n",
       "</table>\n",
       "</div>"
      ],
      "text/plain": [
       "                                               Title     Price\n",
       "0  Acer Predator Helios 300 11th Gen Intel Core i...  1,44,990\n",
       "1  Acer Predator Helios 300 11th Gen Intel Core i...  1,44,990\n",
       "2  ASUS ROG Strix SCAR 15 (2022), 15.6-inch (39.6...  3,01,521\n",
       "3  ASUS ROG Strix Scar 15 (2022), 15.6\" (39.62 cm...  2,38,990\n",
       "4  ASUS TUF Gaming F15 (2021), 15.6\" (39.62 cms) ...  1,77,885\n",
       "5  ASUS ROG Strix Scar 15 (2022), 15.6-inch (39.6...  2,85,990\n",
       "6  HP Envy 15- 11th Gen Intel Core i9/32GB/1TB SS...  2,02,990\n",
       "7  ASUS ROG Zephyrus M16 (2022), 16-inch (40.64 c...  3,31,990\n",
       "8  ASUS ROG Strix Scar 17 (2022), 17.3-inch (43.9...  1,38,000\n",
       "9  (Renewed) HP Omen 15-dh0139TX Gaming Laptop (9...  2,25,000"
      ]
     },
     "execution_count": 1241,
     "metadata": {},
     "output_type": "execute_result"
    }
   ],
   "source": [
    "laptop"
   ]
  },
  {
   "cell_type": "markdown",
   "id": "92623a26",
   "metadata": {},
   "source": [
    "# Write a python program to scrape data for first 10 job results for Data Scientist Designation in Noida\n",
    "location. You have to scrape company name, No. of days ago when job was posted, Rating of the company.\n",
    "This task will be done in following steps:\n",
    "1. First get the webpage https://www.ambitionbox.com/\n",
    "2. Click on the Job option as shown in the image\n",
    "After reaching to the next webpage, In place of “Search by Designations, Companies, Skills” enter\n",
    "“Data Scientist” and click on search button.\n",
    "You will reach to the following web page click on location and in place of “Search location” enter\n",
    "“Noida” and select location “Noida”."
   ]
  },
  {
   "cell_type": "code",
   "execution_count": 970,
   "id": "20e871f1",
   "metadata": {},
   "outputs": [],
   "source": [
    "driver=webdriver.Chrome(\"chromedriver.exe\")\n",
    "time.sleep(2)"
   ]
  },
  {
   "cell_type": "code",
   "execution_count": 817,
   "id": "b645f13c",
   "metadata": {},
   "outputs": [],
   "source": [
    "driver.get(\"https://www.ambitionbox.com/\")"
   ]
  },
  {
   "cell_type": "code",
   "execution_count": 818,
   "id": "2e3c42fc",
   "metadata": {},
   "outputs": [],
   "source": [
    "#click on the job option\n",
    "click_job_option=driver.find_element_by_xpath(\"/html/body/div[1]/nav/nav/a[6]\")\n",
    "click_job_option.click()"
   ]
  },
  {
   "cell_type": "code",
   "execution_count": 821,
   "id": "aacc878f",
   "metadata": {},
   "outputs": [],
   "source": [
    "#finding elements for job search bar and click on search button\n",
    "search_field_designation=driver.find_element_by_xpath(\"/html/body/div/div/div/div[2]/div[1]/div[1]/div/div/div/div/span/input\")\n",
    "search_field_designation.send_keys(\"Data Scientist\")\n",
    "search_button=driver.find_element_by_xpath(\"/html/body/div/div/div/div[2]/div[1]/div[1]/div/div/div/button\")\n",
    "search_button.click()"
   ]
  },
  {
   "cell_type": "code",
   "execution_count": 822,
   "id": "77bed6ea",
   "metadata": {},
   "outputs": [],
   "source": [
    "#click on location tab \n",
    "location_button=driver.find_element_by_xpath(\"/html/body/div/div/div/div[2]/div[1]/div[2]/div[1]/div/div/div/div[2]/div[1]\")\n",
    "location_button.click()"
   ]
  },
  {
   "cell_type": "code",
   "execution_count": 823,
   "id": "37c49d5c",
   "metadata": {},
   "outputs": [],
   "source": [
    "#enter location noida\n",
    "search_location_field_designation=driver.find_element_by_xpath(\"/html/body/div/div/div/div[2]/div[1]/div[2]/div[1]/div/div/div/div[2]/div[2]/div/div[2]/input\")\n",
    "search_location_field_designation.send_keys(\"Noida\")"
   ]
  },
  {
   "cell_type": "code",
   "execution_count": 824,
   "id": "d4e6f477",
   "metadata": {},
   "outputs": [],
   "source": [
    "#click on noida\n",
    "location_noida=driver.find_element_by_xpath(\"/html/body/div/div/div/div[2]/div[1]/div[2]/div[1]/div/div/div/div[2]/div[2]/div/div[3]/div[1]/div[1]/div/label\")\n",
    "location_noida.click()"
   ]
  },
  {
   "cell_type": "code",
   "execution_count": 846,
   "id": "aace735a",
   "metadata": {},
   "outputs": [],
   "source": [
    "company_name=[]\n",
    "no_of_days_ago=[]\n",
    "rating_company=[]"
   ]
  },
  {
   "cell_type": "code",
   "execution_count": 847,
   "id": "649caaff",
   "metadata": {},
   "outputs": [
    {
     "data": {
      "text/plain": [
       "[<selenium.webdriver.remote.webelement.WebElement (session=\"2c4b52eb0a492bbd6a6ee35dc48ecfd5\", element=\"c6dcddf8-af77-4440-b907-715d25e38b98\")>,\n",
       " <selenium.webdriver.remote.webelement.WebElement (session=\"2c4b52eb0a492bbd6a6ee35dc48ecfd5\", element=\"72c0d9ec-5034-4e47-8570-ad379956b742\")>,\n",
       " <selenium.webdriver.remote.webelement.WebElement (session=\"2c4b52eb0a492bbd6a6ee35dc48ecfd5\", element=\"5a937c5a-a852-4d5e-b9e3-9e689abca108\")>,\n",
       " <selenium.webdriver.remote.webelement.WebElement (session=\"2c4b52eb0a492bbd6a6ee35dc48ecfd5\", element=\"85cf16ae-1688-496a-b0a4-d74958759b36\")>,\n",
       " <selenium.webdriver.remote.webelement.WebElement (session=\"2c4b52eb0a492bbd6a6ee35dc48ecfd5\", element=\"b538687d-9e1c-4e7a-8701-a24095c3ac2a\")>,\n",
       " <selenium.webdriver.remote.webelement.WebElement (session=\"2c4b52eb0a492bbd6a6ee35dc48ecfd5\", element=\"2383c057-f77d-4e0b-b0a7-26850acc4a5c\")>,\n",
       " <selenium.webdriver.remote.webelement.WebElement (session=\"2c4b52eb0a492bbd6a6ee35dc48ecfd5\", element=\"945de10e-dd2b-4f6a-a9a8-46cd1311bede\")>,\n",
       " <selenium.webdriver.remote.webelement.WebElement (session=\"2c4b52eb0a492bbd6a6ee35dc48ecfd5\", element=\"3dd4b02e-46f6-49f5-a1bd-b7fad527a8fa\")>,\n",
       " <selenium.webdriver.remote.webelement.WebElement (session=\"2c4b52eb0a492bbd6a6ee35dc48ecfd5\", element=\"41b4be3d-eb95-4efd-a1d2-bb84003d5fbc\")>,\n",
       " <selenium.webdriver.remote.webelement.WebElement (session=\"2c4b52eb0a492bbd6a6ee35dc48ecfd5\", element=\"4244f042-4847-45c7-9d70-d3272d9f1838\")>]"
      ]
     },
     "execution_count": 847,
     "metadata": {},
     "output_type": "execute_result"
    }
   ],
   "source": [
    "#extract company names\n",
    "company_tags=driver.find_elements_by_xpath(\"//p[@class='company body-medium']\")\n",
    "company_tags[0:10]"
   ]
  },
  {
   "cell_type": "code",
   "execution_count": 848,
   "id": "e878accd",
   "metadata": {},
   "outputs": [
    {
     "data": {
      "text/plain": [
       "['GENPACT India Private Limited',\n",
       " 'GENPACT India Private Limited',\n",
       " 'Tech Mahindra Ltd',\n",
       " 'GENPACT India Private Limited',\n",
       " 'HCL Technologies',\n",
       " 'Zyoin',\n",
       " 'Newgen Software Technologies Ltd.',\n",
       " 'Pitney Bowes India Pvt Ltd',\n",
       " 'JK Technosoft Ltd',\n",
       " 'Microsoft India (R and D) Pvt Ltd']"
      ]
     },
     "execution_count": 848,
     "metadata": {},
     "output_type": "execute_result"
    }
   ],
   "source": [
    "#we will get the company text using for loop\n",
    "\n",
    "for i in company_tags:\n",
    "    company=i.text\n",
    "    company_name.append(company)\n",
    "company_name[0:10]"
   ]
  },
  {
   "cell_type": "code",
   "execution_count": 850,
   "id": "2b2cb626",
   "metadata": {},
   "outputs": [
    {
     "data": {
      "text/plain": [
       "[<selenium.webdriver.remote.webelement.WebElement (session=\"2c4b52eb0a492bbd6a6ee35dc48ecfd5\", element=\"a9c4db54-28bd-44f0-968f-406673dc2d4c\")>,\n",
       " <selenium.webdriver.remote.webelement.WebElement (session=\"2c4b52eb0a492bbd6a6ee35dc48ecfd5\", element=\"6bd85fa0-0174-4500-9eb2-873aee2c0605\")>,\n",
       " <selenium.webdriver.remote.webelement.WebElement (session=\"2c4b52eb0a492bbd6a6ee35dc48ecfd5\", element=\"62863c72-3b14-4efb-8900-05c79d14e311\")>,\n",
       " <selenium.webdriver.remote.webelement.WebElement (session=\"2c4b52eb0a492bbd6a6ee35dc48ecfd5\", element=\"b764401d-c07f-40c7-af03-6640ac1b342c\")>,\n",
       " <selenium.webdriver.remote.webelement.WebElement (session=\"2c4b52eb0a492bbd6a6ee35dc48ecfd5\", element=\"f38ce345-b748-46b8-9c75-2242bde21e64\")>,\n",
       " <selenium.webdriver.remote.webelement.WebElement (session=\"2c4b52eb0a492bbd6a6ee35dc48ecfd5\", element=\"fb695097-edf7-41a1-8d53-131724ded876\")>,\n",
       " <selenium.webdriver.remote.webelement.WebElement (session=\"2c4b52eb0a492bbd6a6ee35dc48ecfd5\", element=\"7b25b5d6-363d-4b67-8817-a6735fd818c6\")>,\n",
       " <selenium.webdriver.remote.webelement.WebElement (session=\"2c4b52eb0a492bbd6a6ee35dc48ecfd5\", element=\"878156f4-a5fc-4e6e-b75e-25784244fb97\")>,\n",
       " <selenium.webdriver.remote.webelement.WebElement (session=\"2c4b52eb0a492bbd6a6ee35dc48ecfd5\", element=\"5024a155-aff2-4fdf-b49b-9891d5204a0e\")>,\n",
       " <selenium.webdriver.remote.webelement.WebElement (session=\"2c4b52eb0a492bbd6a6ee35dc48ecfd5\", element=\"d4bbb5fd-b7d1-4e48-b4ae-d770d24b2ca5\")>]"
      ]
     },
     "execution_count": 850,
     "metadata": {},
     "output_type": "execute_result"
    }
   ],
   "source": [
    "#extract no of days job posted ago\n",
    "days_tags=driver.find_elements_by_xpath(\"//div[@class='other-info']/span[1]\")\n",
    "days_tags[0:10]"
   ]
  },
  {
   "cell_type": "code",
   "execution_count": 851,
   "id": "10c1be64",
   "metadata": {},
   "outputs": [
    {
     "data": {
      "text/plain": [
       "['2d ago',\n",
       " '7d ago',\n",
       " '21d ago',\n",
       " '24d ago',\n",
       " '28d ago',\n",
       " '7d ago',\n",
       " '9d ago',\n",
       " '1mon ago',\n",
       " '17d ago',\n",
       " '2mon ago']"
      ]
     },
     "execution_count": 851,
     "metadata": {},
     "output_type": "execute_result"
    }
   ],
   "source": [
    "#we will get the company text using for loop\n",
    "\n",
    "for i in days_tags:\n",
    "    day=i.text\n",
    "    no_of_days_ago.append(day)\n",
    "no_of_days_ago[0:10]"
   ]
  },
  {
   "cell_type": "code",
   "execution_count": 858,
   "id": "62decca9",
   "metadata": {},
   "outputs": [
    {
     "data": {
      "text/plain": [
       "[<selenium.webdriver.remote.webelement.WebElement (session=\"2c4b52eb0a492bbd6a6ee35dc48ecfd5\", element=\"bcd143cc-a6d3-417b-a24a-5fd325c46b31\")>,\n",
       " <selenium.webdriver.remote.webelement.WebElement (session=\"2c4b52eb0a492bbd6a6ee35dc48ecfd5\", element=\"d9b1caa0-15ca-4138-a174-08fb9455c588\")>,\n",
       " <selenium.webdriver.remote.webelement.WebElement (session=\"2c4b52eb0a492bbd6a6ee35dc48ecfd5\", element=\"bde3a36a-6d0b-41cb-b6e7-e10a9730c5fe\")>,\n",
       " <selenium.webdriver.remote.webelement.WebElement (session=\"2c4b52eb0a492bbd6a6ee35dc48ecfd5\", element=\"4fdf6497-8449-422d-b6c9-86c6e6371948\")>,\n",
       " <selenium.webdriver.remote.webelement.WebElement (session=\"2c4b52eb0a492bbd6a6ee35dc48ecfd5\", element=\"1044cc83-7b33-44c0-a043-764d0fd897db\")>,\n",
       " <selenium.webdriver.remote.webelement.WebElement (session=\"2c4b52eb0a492bbd6a6ee35dc48ecfd5\", element=\"c3638e06-a12c-42dc-8ff3-72b3fa9a8968\")>,\n",
       " <selenium.webdriver.remote.webelement.WebElement (session=\"2c4b52eb0a492bbd6a6ee35dc48ecfd5\", element=\"fc466c95-5f70-4bff-9263-dce484b9a01b\")>,\n",
       " <selenium.webdriver.remote.webelement.WebElement (session=\"2c4b52eb0a492bbd6a6ee35dc48ecfd5\", element=\"1ce82571-2b70-44cf-9aac-71d666332661\")>,\n",
       " <selenium.webdriver.remote.webelement.WebElement (session=\"2c4b52eb0a492bbd6a6ee35dc48ecfd5\", element=\"b399008c-12b7-447e-af26-2c12fa59ca95\")>,\n",
       " <selenium.webdriver.remote.webelement.WebElement (session=\"2c4b52eb0a492bbd6a6ee35dc48ecfd5\", element=\"e3781684-acac-4382-beab-e4cf64b7bdf2\")>]"
      ]
     },
     "execution_count": 858,
     "metadata": {},
     "output_type": "execute_result"
    }
   ],
   "source": [
    "#extract rating\n",
    "rating_tags=driver.find_elements_by_xpath(\"//div[@class='rating-wrapper']\")\n",
    "rating_tags[0:10]"
   ]
  },
  {
   "cell_type": "code",
   "execution_count": 859,
   "id": "c2f018ab",
   "metadata": {},
   "outputs": [
    {
     "data": {
      "text/plain": [
       "['4.0', '4.0', '4.0', '4.0', '4.1', '4.2', '4.3', '4.0', '4.0', '4.0']"
      ]
     },
     "execution_count": 859,
     "metadata": {},
     "output_type": "execute_result"
    }
   ],
   "source": [
    "#we will get the rating text using for loop\n",
    "\n",
    "for i in rating_tags:\n",
    "    rating=i.text\n",
    "    rating_company.append(rating)\n",
    "rating_company[0:10]"
   ]
  },
  {
   "cell_type": "code",
   "execution_count": 861,
   "id": "29e1abb4",
   "metadata": {},
   "outputs": [],
   "source": [
    "#import pandas as pd\n",
    "data=pd.DataFrame({})\n",
    "data[\"company name\"]=company_name[0:10]\n",
    "data[\"no. of days ago posted\"]=no_of_days_ago[0:10]\n",
    "data[\"company-rating\"]=rating_company[0:10]"
   ]
  },
  {
   "cell_type": "code",
   "execution_count": 862,
   "id": "fef3d490",
   "metadata": {},
   "outputs": [
    {
     "data": {
      "text/html": [
       "<div>\n",
       "<style scoped>\n",
       "    .dataframe tbody tr th:only-of-type {\n",
       "        vertical-align: middle;\n",
       "    }\n",
       "\n",
       "    .dataframe tbody tr th {\n",
       "        vertical-align: top;\n",
       "    }\n",
       "\n",
       "    .dataframe thead th {\n",
       "        text-align: right;\n",
       "    }\n",
       "</style>\n",
       "<table border=\"1\" class=\"dataframe\">\n",
       "  <thead>\n",
       "    <tr style=\"text-align: right;\">\n",
       "      <th></th>\n",
       "      <th>company name</th>\n",
       "      <th>no. of days ago posted</th>\n",
       "      <th>company-rating</th>\n",
       "    </tr>\n",
       "  </thead>\n",
       "  <tbody>\n",
       "    <tr>\n",
       "      <th>0</th>\n",
       "      <td>GENPACT India Private Limited</td>\n",
       "      <td>2d ago</td>\n",
       "      <td>4.0</td>\n",
       "    </tr>\n",
       "    <tr>\n",
       "      <th>1</th>\n",
       "      <td>GENPACT India Private Limited</td>\n",
       "      <td>7d ago</td>\n",
       "      <td>4.0</td>\n",
       "    </tr>\n",
       "    <tr>\n",
       "      <th>2</th>\n",
       "      <td>Tech Mahindra Ltd</td>\n",
       "      <td>21d ago</td>\n",
       "      <td>4.0</td>\n",
       "    </tr>\n",
       "    <tr>\n",
       "      <th>3</th>\n",
       "      <td>GENPACT India Private Limited</td>\n",
       "      <td>24d ago</td>\n",
       "      <td>4.0</td>\n",
       "    </tr>\n",
       "    <tr>\n",
       "      <th>4</th>\n",
       "      <td>HCL Technologies</td>\n",
       "      <td>28d ago</td>\n",
       "      <td>4.1</td>\n",
       "    </tr>\n",
       "    <tr>\n",
       "      <th>5</th>\n",
       "      <td>Zyoin</td>\n",
       "      <td>7d ago</td>\n",
       "      <td>4.2</td>\n",
       "    </tr>\n",
       "    <tr>\n",
       "      <th>6</th>\n",
       "      <td>Newgen Software Technologies Ltd.</td>\n",
       "      <td>9d ago</td>\n",
       "      <td>4.3</td>\n",
       "    </tr>\n",
       "    <tr>\n",
       "      <th>7</th>\n",
       "      <td>Pitney Bowes India Pvt Ltd</td>\n",
       "      <td>1mon ago</td>\n",
       "      <td>4.0</td>\n",
       "    </tr>\n",
       "    <tr>\n",
       "      <th>8</th>\n",
       "      <td>JK Technosoft Ltd</td>\n",
       "      <td>17d ago</td>\n",
       "      <td>4.0</td>\n",
       "    </tr>\n",
       "    <tr>\n",
       "      <th>9</th>\n",
       "      <td>Microsoft India (R and D) Pvt Ltd</td>\n",
       "      <td>2mon ago</td>\n",
       "      <td>4.0</td>\n",
       "    </tr>\n",
       "  </tbody>\n",
       "</table>\n",
       "</div>"
      ],
      "text/plain": [
       "                        company name no. of days ago posted company-rating\n",
       "0      GENPACT India Private Limited                 2d ago            4.0\n",
       "1      GENPACT India Private Limited                 7d ago            4.0\n",
       "2                  Tech Mahindra Ltd                21d ago            4.0\n",
       "3      GENPACT India Private Limited                24d ago            4.0\n",
       "4                   HCL Technologies                28d ago            4.1\n",
       "5                              Zyoin                 7d ago            4.2\n",
       "6  Newgen Software Technologies Ltd.                 9d ago            4.3\n",
       "7         Pitney Bowes India Pvt Ltd               1mon ago            4.0\n",
       "8                  JK Technosoft Ltd                17d ago            4.0\n",
       "9  Microsoft India (R and D) Pvt Ltd               2mon ago            4.0"
      ]
     },
     "execution_count": 862,
     "metadata": {},
     "output_type": "execute_result"
    }
   ],
   "source": [
    "data"
   ]
  },
  {
   "cell_type": "code",
   "execution_count": 863,
   "id": "bb890475",
   "metadata": {},
   "outputs": [],
   "source": [
    "driver.close()"
   ]
  },
  {
   "cell_type": "markdown",
   "id": "a164c965",
   "metadata": {},
   "source": [
    "# Write a python program to scrape the salary data for Data Scientist designation.\n",
    "You have to scrape Company name, Number of salaries, Average salary, Minsalary, Max Salary.\n",
    "The above task will be, done as shown in the below steps:\n",
    "1. First get the webpage https://www.ambitionbox.com/\n",
    "2. Click on the salaries option as shown in the image.\n",
    " After reaching to the following webpage, In place of “Search Job Profile” enters “Data Scientist” and\n",
    "then click on “Data Scientist”.\n",
    "You have to scrape the data ticked in the above image.\n",
    "4. Scrape the data for the first 10 companies. Scrape the company name, total salary record, average\n",
    "salary, minimum salary, maximum salary, experience required.\n",
    "5. Store the data in a dataframe"
   ]
  },
  {
   "cell_type": "code",
   "execution_count": 1263,
   "id": "fe5356e8",
   "metadata": {},
   "outputs": [],
   "source": [
    "driver=webdriver.Chrome(\"chromedriver.exe\")\n",
    "time.sleep(2)"
   ]
  },
  {
   "cell_type": "code",
   "execution_count": 1264,
   "id": "3d743b82",
   "metadata": {},
   "outputs": [],
   "source": [
    "driver.get(\"https://www.ambitionbox.com/\")"
   ]
  },
  {
   "cell_type": "code",
   "execution_count": 1265,
   "id": "cd3ae797",
   "metadata": {},
   "outputs": [],
   "source": [
    "time.sleep(10)"
   ]
  },
  {
   "cell_type": "code",
   "execution_count": 1266,
   "id": "a06467ab",
   "metadata": {},
   "outputs": [],
   "source": [
    "#click on the salary option\n",
    "click_salary_option=driver.find_element_by_xpath(\"/html/body/div[1]/nav/nav/a[4]\")\n",
    "click_salary_option.click()"
   ]
  },
  {
   "cell_type": "code",
   "execution_count": 1269,
   "id": "5f3b1537",
   "metadata": {},
   "outputs": [],
   "source": [
    "#import By from selenium\n",
    "from selenium.webdriver.common.by import By"
   ]
  },
  {
   "cell_type": "code",
   "execution_count": 1271,
   "id": "b4dbee38",
   "metadata": {},
   "outputs": [],
   "source": [
    "#enter data scientist in search field and select data scientist\n",
    "search_button=driver.find_element(By.XPATH,\"/html/body/div/div/div/main/section[1]/div[2]/div[1]/span/input\")\n",
    "\n",
    "search_button.send_keys(\"Data Scientist\")\n",
    "\n",
    "time.sleep(10)\n",
    "\n",
    "search_button=driver.find_element(By.XPATH,\"/html/body/div/div/div/main/section[1]/div[2]/div[1]/span/div/div/div[1]\")\n",
    "\n",
    "search_button.click()"
   ]
  },
  {
   "cell_type": "code",
   "execution_count": 1277,
   "id": "e353faff",
   "metadata": {},
   "outputs": [],
   "source": [
    "companyname_list=[]\n",
    "salary_record_list=[]\n",
    "average_salary_list=[]\n",
    "minimum_salary_list=[]\n",
    "maximum_salary_list=[]"
   ]
  },
  {
   "cell_type": "code",
   "execution_count": 1289,
   "id": "35e6fb31",
   "metadata": {},
   "outputs": [],
   "source": [
    "experience_list=[]"
   ]
  },
  {
   "cell_type": "code",
   "execution_count": 1276,
   "id": "a56b6686",
   "metadata": {},
   "outputs": [
    {
     "data": {
      "text/plain": [
       "[<selenium.webdriver.remote.webelement.WebElement (session=\"1995e0a0936abc20e3cb5fa040895839\", element=\"abbaa8c6-9277-45e0-8b2b-4299aa8594c2\")>,\n",
       " <selenium.webdriver.remote.webelement.WebElement (session=\"1995e0a0936abc20e3cb5fa040895839\", element=\"9c2a58c2-ad30-4ee3-89cd-a2822b22e34b\")>,\n",
       " <selenium.webdriver.remote.webelement.WebElement (session=\"1995e0a0936abc20e3cb5fa040895839\", element=\"493c6aa8-d65f-4aaf-8f99-7331c208d525\")>,\n",
       " <selenium.webdriver.remote.webelement.WebElement (session=\"1995e0a0936abc20e3cb5fa040895839\", element=\"bbfc4477-a301-464b-8e82-2fc49e9a66d1\")>,\n",
       " <selenium.webdriver.remote.webelement.WebElement (session=\"1995e0a0936abc20e3cb5fa040895839\", element=\"50338366-3e31-448e-b6be-2a0a8ab6855b\")>,\n",
       " <selenium.webdriver.remote.webelement.WebElement (session=\"1995e0a0936abc20e3cb5fa040895839\", element=\"0bff749f-694d-4540-a18c-64418603e282\")>,\n",
       " <selenium.webdriver.remote.webelement.WebElement (session=\"1995e0a0936abc20e3cb5fa040895839\", element=\"31abe6e5-26d5-4903-a465-28375f99c837\")>,\n",
       " <selenium.webdriver.remote.webelement.WebElement (session=\"1995e0a0936abc20e3cb5fa040895839\", element=\"bf3eb4fd-a2e7-4dab-936e-01adf28ed11e\")>,\n",
       " <selenium.webdriver.remote.webelement.WebElement (session=\"1995e0a0936abc20e3cb5fa040895839\", element=\"d4630e98-7259-43ac-96db-cf3ed05f016d\")>,\n",
       " <selenium.webdriver.remote.webelement.WebElement (session=\"1995e0a0936abc20e3cb5fa040895839\", element=\"74b6ab9a-f442-4f5e-9828-a9a1f1d235d3\")>]"
      ]
     },
     "execution_count": 1276,
     "metadata": {},
     "output_type": "execute_result"
    }
   ],
   "source": [
    "#extract company names\n",
    "company_tags=driver.find_elements_by_xpath(\"//div[@class='name']/a[1]\")\n",
    "company_tags[0:10]"
   ]
  },
  {
   "cell_type": "code",
   "execution_count": 1278,
   "id": "8356f63e",
   "metadata": {},
   "outputs": [
    {
     "data": {
      "text/plain": [
       "['Walmart',\n",
       " 'Ab Inbev',\n",
       " 'Reliance Jio',\n",
       " 'ZS',\n",
       " 'Optum',\n",
       " 'Fractal Analytics',\n",
       " 'Tiger Analytics',\n",
       " 'UnitedHealth',\n",
       " 'Verizon',\n",
       " 'Ganit Business Solutions']"
      ]
     },
     "execution_count": 1278,
     "metadata": {},
     "output_type": "execute_result"
    }
   ],
   "source": [
    "#we will get the company text using for loop\n",
    "\n",
    "for i in company_tags:\n",
    "    company=i.text\n",
    "    companyname_list.append(company)\n",
    "companyname_list[0:10]"
   ]
  },
  {
   "cell_type": "code",
   "execution_count": 1279,
   "id": "de491d71",
   "metadata": {},
   "outputs": [
    {
     "data": {
      "text/plain": [
       "[<selenium.webdriver.remote.webelement.WebElement (session=\"1995e0a0936abc20e3cb5fa040895839\", element=\"9e0e57ea-4977-486d-be08-d6586c9741d7\")>,\n",
       " <selenium.webdriver.remote.webelement.WebElement (session=\"1995e0a0936abc20e3cb5fa040895839\", element=\"842543b8-ada3-41ee-8ea1-a9bd31d12ba0\")>,\n",
       " <selenium.webdriver.remote.webelement.WebElement (session=\"1995e0a0936abc20e3cb5fa040895839\", element=\"cf4d6bac-52f0-4aa5-bea8-0b674259e3e3\")>,\n",
       " <selenium.webdriver.remote.webelement.WebElement (session=\"1995e0a0936abc20e3cb5fa040895839\", element=\"af09e87d-1529-4f2f-acc4-c2d6f0bb414d\")>,\n",
       " <selenium.webdriver.remote.webelement.WebElement (session=\"1995e0a0936abc20e3cb5fa040895839\", element=\"39d0788a-aa8d-4f48-b39d-a49e502cf32c\")>,\n",
       " <selenium.webdriver.remote.webelement.WebElement (session=\"1995e0a0936abc20e3cb5fa040895839\", element=\"9dc64ea3-413f-4618-ae0d-dad83cc2e1c1\")>,\n",
       " <selenium.webdriver.remote.webelement.WebElement (session=\"1995e0a0936abc20e3cb5fa040895839\", element=\"658ffb1a-6b69-491e-9618-6cbba0f753f7\")>,\n",
       " <selenium.webdriver.remote.webelement.WebElement (session=\"1995e0a0936abc20e3cb5fa040895839\", element=\"2ffcb055-5f3a-4ef3-8b80-c4e0df509061\")>,\n",
       " <selenium.webdriver.remote.webelement.WebElement (session=\"1995e0a0936abc20e3cb5fa040895839\", element=\"13ee5a8c-37cd-4b8f-afde-f9c812c813fa\")>,\n",
       " <selenium.webdriver.remote.webelement.WebElement (session=\"1995e0a0936abc20e3cb5fa040895839\", element=\"0e40b54e-ed8b-41bd-a4de-eb095e68ef24\")>]"
      ]
     },
     "execution_count": 1279,
     "metadata": {},
     "output_type": "execute_result"
    }
   ],
   "source": [
    "#extract salary records\n",
    "salary_record_tags=driver.find_elements_by_xpath(\"//div[@class='name']/span[1]\")\n",
    "salary_record_tags"
   ]
  },
  {
   "cell_type": "code",
   "execution_count": 1280,
   "id": "79297af8",
   "metadata": {},
   "outputs": [
    {
     "data": {
      "text/plain": [
       "['based on 11 salaries',\n",
       " 'based on 32 salaries',\n",
       " 'based on 10 salaries',\n",
       " 'based on 15 salaries',\n",
       " 'based on 27 salaries',\n",
       " 'based on 81 salaries',\n",
       " 'based on 46 salaries',\n",
       " 'based on 53 salaries',\n",
       " 'based on 14 salaries',\n",
       " 'based on 13 salaries']"
      ]
     },
     "execution_count": 1280,
     "metadata": {},
     "output_type": "execute_result"
    }
   ],
   "source": [
    "#we will get the salary records text using for loop\n",
    "\n",
    "for i in salary_record_tags:\n",
    "    records=i.text\n",
    "    salary_record_list.append(records)\n",
    "salary_record_list[0:10]"
   ]
  },
  {
   "cell_type": "code",
   "execution_count": 1281,
   "id": "f9df9448",
   "metadata": {},
   "outputs": [
    {
     "data": {
      "text/plain": [
       "[<selenium.webdriver.remote.webelement.WebElement (session=\"1995e0a0936abc20e3cb5fa040895839\", element=\"fb0cb3e9-4619-4207-976d-c35d69b83a17\")>,\n",
       " <selenium.webdriver.remote.webelement.WebElement (session=\"1995e0a0936abc20e3cb5fa040895839\", element=\"c812a14d-2ec2-4451-962e-15eab4131ad5\")>,\n",
       " <selenium.webdriver.remote.webelement.WebElement (session=\"1995e0a0936abc20e3cb5fa040895839\", element=\"16b25dac-67e4-47cb-8f3e-4aa34addb7a0\")>,\n",
       " <selenium.webdriver.remote.webelement.WebElement (session=\"1995e0a0936abc20e3cb5fa040895839\", element=\"dd83e1f3-ff76-4e3e-87e8-2124b4842c6e\")>,\n",
       " <selenium.webdriver.remote.webelement.WebElement (session=\"1995e0a0936abc20e3cb5fa040895839\", element=\"1b2029c9-a214-45b5-b6a3-c595f9407ed6\")>,\n",
       " <selenium.webdriver.remote.webelement.WebElement (session=\"1995e0a0936abc20e3cb5fa040895839\", element=\"e0507e60-47e1-409c-b5cc-3bf8b5df1357\")>,\n",
       " <selenium.webdriver.remote.webelement.WebElement (session=\"1995e0a0936abc20e3cb5fa040895839\", element=\"63b8c25f-4186-4cf8-89df-79c67e75658f\")>,\n",
       " <selenium.webdriver.remote.webelement.WebElement (session=\"1995e0a0936abc20e3cb5fa040895839\", element=\"6b306b16-1786-4a35-92a1-23d8ae23838e\")>,\n",
       " <selenium.webdriver.remote.webelement.WebElement (session=\"1995e0a0936abc20e3cb5fa040895839\", element=\"50f6b418-28e0-4995-9ad9-fbeb4a071521\")>,\n",
       " <selenium.webdriver.remote.webelement.WebElement (session=\"1995e0a0936abc20e3cb5fa040895839\", element=\"0cdbb540-b783-467b-9c6d-e79bb3f61c84\")>]"
      ]
     },
     "execution_count": 1281,
     "metadata": {},
     "output_type": "execute_result"
    }
   ],
   "source": [
    "#extract average salary\n",
    "average_tags=driver.find_elements_by_xpath(\"//p[@class='averageCtc']\")\n",
    "average_tags"
   ]
  },
  {
   "cell_type": "code",
   "execution_count": 1282,
   "id": "74599cc3",
   "metadata": {},
   "outputs": [
    {
     "data": {
      "text/plain": [
       "['₹ 29.7L',\n",
       " '₹ 20.5L',\n",
       " '₹ 18.9L',\n",
       " '₹ 15.9L',\n",
       " '₹ 15.2L',\n",
       " '₹ 15.2L',\n",
       " '₹ 14.8L',\n",
       " '₹ 14.0L',\n",
       " '₹ 12.7L',\n",
       " '₹ 12.4L']"
      ]
     },
     "execution_count": 1282,
     "metadata": {},
     "output_type": "execute_result"
    }
   ],
   "source": [
    "#we will get the average salary text using for loop\n",
    "\n",
    "for i in average_tags:\n",
    "    average=i.text\n",
    "    average_salary_list.append(average)\n",
    "average_salary_list[0:10]"
   ]
  },
  {
   "cell_type": "code",
   "execution_count": 1283,
   "id": "0307fa70",
   "metadata": {},
   "outputs": [
    {
     "data": {
      "text/plain": [
       "[<selenium.webdriver.remote.webelement.WebElement (session=\"1995e0a0936abc20e3cb5fa040895839\", element=\"9b12829b-04b0-4494-98b5-a84be3d2cba2\")>,\n",
       " <selenium.webdriver.remote.webelement.WebElement (session=\"1995e0a0936abc20e3cb5fa040895839\", element=\"af388bb2-7d60-4fe7-873b-13a449f12240\")>,\n",
       " <selenium.webdriver.remote.webelement.WebElement (session=\"1995e0a0936abc20e3cb5fa040895839\", element=\"6a00d6a1-45f5-4347-8b7c-7447c54f9bad\")>,\n",
       " <selenium.webdriver.remote.webelement.WebElement (session=\"1995e0a0936abc20e3cb5fa040895839\", element=\"904060e4-3dc6-4d95-9330-e667f7ee7797\")>,\n",
       " <selenium.webdriver.remote.webelement.WebElement (session=\"1995e0a0936abc20e3cb5fa040895839\", element=\"37fe4a78-80f0-4fd9-bc5a-1d5bcf969eaa\")>,\n",
       " <selenium.webdriver.remote.webelement.WebElement (session=\"1995e0a0936abc20e3cb5fa040895839\", element=\"3df6b5ca-6174-4da7-90d3-5cbf5fb8ab0a\")>,\n",
       " <selenium.webdriver.remote.webelement.WebElement (session=\"1995e0a0936abc20e3cb5fa040895839\", element=\"b797794b-eb6a-47d5-ba48-ca0c86ab35cf\")>,\n",
       " <selenium.webdriver.remote.webelement.WebElement (session=\"1995e0a0936abc20e3cb5fa040895839\", element=\"7f55916e-52c7-4463-8536-7835902c7ad3\")>,\n",
       " <selenium.webdriver.remote.webelement.WebElement (session=\"1995e0a0936abc20e3cb5fa040895839\", element=\"eb037963-9f36-49f6-836b-5f417ba328f5\")>,\n",
       " <selenium.webdriver.remote.webelement.WebElement (session=\"1995e0a0936abc20e3cb5fa040895839\", element=\"fbfcb306-f6f7-40e1-915a-e09f80e5e397\")>]"
      ]
     },
     "execution_count": 1283,
     "metadata": {},
     "output_type": "execute_result"
    }
   ],
   "source": [
    "#extract minimum salary\n",
    "minimum_tags=driver.find_elements_by_xpath(\"//div[@class='salary-values']/div[1]\")\n",
    "minimum_tags"
   ]
  },
  {
   "cell_type": "code",
   "execution_count": 1284,
   "id": "b27b7126",
   "metadata": {},
   "outputs": [
    {
     "data": {
      "text/plain": [
       "['₹ 25.0L',\n",
       " '₹ 15.0L',\n",
       " '₹ 5.6L',\n",
       " '₹ 9.8L',\n",
       " '₹ 11.0L',\n",
       " '₹ 9.5L',\n",
       " '₹ 9.0L',\n",
       " '₹ 8.3L',\n",
       " '₹ 10.0L',\n",
       " '₹ 8.5L']"
      ]
     },
     "execution_count": 1284,
     "metadata": {},
     "output_type": "execute_result"
    }
   ],
   "source": [
    "#we will get the minimum salary text using for loop\n",
    "\n",
    "for i in minimum_tags:\n",
    "    minimum=i.text\n",
    "    minimum_salary_list.append(minimum)\n",
    "minimum_salary_list[0:10]"
   ]
  },
  {
   "cell_type": "code",
   "execution_count": 1285,
   "id": "d2afa8ac",
   "metadata": {},
   "outputs": [
    {
     "data": {
      "text/plain": [
       "[<selenium.webdriver.remote.webelement.WebElement (session=\"1995e0a0936abc20e3cb5fa040895839\", element=\"cf3df9e2-2e4a-4ed6-af0b-176032bb9161\")>,\n",
       " <selenium.webdriver.remote.webelement.WebElement (session=\"1995e0a0936abc20e3cb5fa040895839\", element=\"40f12c62-18f5-4644-8788-c9f61884774f\")>,\n",
       " <selenium.webdriver.remote.webelement.WebElement (session=\"1995e0a0936abc20e3cb5fa040895839\", element=\"cab01854-892d-4b70-b979-2abf7ea1d610\")>,\n",
       " <selenium.webdriver.remote.webelement.WebElement (session=\"1995e0a0936abc20e3cb5fa040895839\", element=\"45d36762-249d-469a-9846-cb303c2574d7\")>,\n",
       " <selenium.webdriver.remote.webelement.WebElement (session=\"1995e0a0936abc20e3cb5fa040895839\", element=\"682127f7-f6e6-486b-a539-0f775654d679\")>,\n",
       " <selenium.webdriver.remote.webelement.WebElement (session=\"1995e0a0936abc20e3cb5fa040895839\", element=\"e644e5ba-6e01-42ef-95ae-13d7a64a5f26\")>,\n",
       " <selenium.webdriver.remote.webelement.WebElement (session=\"1995e0a0936abc20e3cb5fa040895839\", element=\"7f3bf3b5-f3b9-4738-92ee-45b0beea629e\")>,\n",
       " <selenium.webdriver.remote.webelement.WebElement (session=\"1995e0a0936abc20e3cb5fa040895839\", element=\"b8f29140-9ef7-4d8e-936a-1f1ab3534225\")>,\n",
       " <selenium.webdriver.remote.webelement.WebElement (session=\"1995e0a0936abc20e3cb5fa040895839\", element=\"c440feb2-9246-48bd-aea7-380b135eded8\")>,\n",
       " <selenium.webdriver.remote.webelement.WebElement (session=\"1995e0a0936abc20e3cb5fa040895839\", element=\"030c9f8d-eac7-4fdd-ad2c-88f00bd68a0d\")>]"
      ]
     },
     "execution_count": 1285,
     "metadata": {},
     "output_type": "execute_result"
    }
   ],
   "source": [
    "#extract maximum salary\n",
    "maximum_tags=driver.find_elements_by_xpath(\"//div[@class='salary-values']/div[2]\")\n",
    "maximum_tags"
   ]
  },
  {
   "cell_type": "code",
   "execution_count": 1286,
   "id": "d997d9d8",
   "metadata": {},
   "outputs": [
    {
     "data": {
      "text/plain": [
       "['₹ 35.0L',\n",
       " '₹ 25.5L',\n",
       " '₹ 26.2L',\n",
       " '₹ 20.0L',\n",
       " '₹ 22.0L',\n",
       " '₹ 22.0L',\n",
       " '₹ 20.0L',\n",
       " '₹ 20.5L',\n",
       " '₹ 21.0L',\n",
       " '₹ 15.0L']"
      ]
     },
     "execution_count": 1286,
     "metadata": {},
     "output_type": "execute_result"
    }
   ],
   "source": [
    "#we will get the minimum salary text using for loop\n",
    "\n",
    "for i in maximum_tags:\n",
    "    maximum=i.text\n",
    "    maximum_salary_list.append(maximum)\n",
    "maximum_salary_list[0:10]"
   ]
  },
  {
   "cell_type": "code",
   "execution_count": 1294,
   "id": "5436a94b",
   "metadata": {},
   "outputs": [
    {
     "data": {
      "text/plain": [
       "[<selenium.webdriver.remote.webelement.WebElement (session=\"1995e0a0936abc20e3cb5fa040895839\", element=\"a24b70cc-c953-4c7e-bdb7-d20b835d44f2\")>,\n",
       " <selenium.webdriver.remote.webelement.WebElement (session=\"1995e0a0936abc20e3cb5fa040895839\", element=\"7dc33eef-dc5e-4299-9972-f7bcce2aada1\")>,\n",
       " <selenium.webdriver.remote.webelement.WebElement (session=\"1995e0a0936abc20e3cb5fa040895839\", element=\"b1748f21-64dc-49aa-83a4-bb5c3ad2245c\")>,\n",
       " <selenium.webdriver.remote.webelement.WebElement (session=\"1995e0a0936abc20e3cb5fa040895839\", element=\"5f4e7a1f-41c8-44ed-908d-72c9378bb7d8\")>,\n",
       " <selenium.webdriver.remote.webelement.WebElement (session=\"1995e0a0936abc20e3cb5fa040895839\", element=\"65ff607d-5d82-4b40-b34a-c8a7c4e4572e\")>,\n",
       " <selenium.webdriver.remote.webelement.WebElement (session=\"1995e0a0936abc20e3cb5fa040895839\", element=\"fd6b16d5-e527-4a7a-9a10-4d9d67aba776\")>,\n",
       " <selenium.webdriver.remote.webelement.WebElement (session=\"1995e0a0936abc20e3cb5fa040895839\", element=\"75b8b8ca-25a1-4387-8b22-23f25f4f0d86\")>,\n",
       " <selenium.webdriver.remote.webelement.WebElement (session=\"1995e0a0936abc20e3cb5fa040895839\", element=\"f3a80bd1-ab3c-450b-94d3-34bbff2ad9c9\")>,\n",
       " <selenium.webdriver.remote.webelement.WebElement (session=\"1995e0a0936abc20e3cb5fa040895839\", element=\"4d952b23-99b1-42ff-8a58-8662138df151\")>,\n",
       " <selenium.webdriver.remote.webelement.WebElement (session=\"1995e0a0936abc20e3cb5fa040895839\", element=\"0907a2ea-e027-4129-b3ed-f101b1d76556\")>]"
      ]
     },
     "execution_count": 1294,
     "metadata": {},
     "output_type": "execute_result"
    }
   ],
   "source": [
    "#extract experience required\n",
    "experience_tags=driver.find_elements_by_xpath(\"//div[@class='salaries sbold-list-header']\")\n",
    "experience_tags"
   ]
  },
  {
   "cell_type": "code",
   "execution_count": 1291,
   "id": "2d1acc12",
   "metadata": {},
   "outputs": [
    {
     "data": {
      "text/plain": [
       "['Data Scientist\\n . \\n3 yrs exp',\n",
       " 'Data Scientist\\n . \\n3-4 yrs exp',\n",
       " 'Data Scientist\\n . \\n4 yrs exp',\n",
       " 'Data Scientist\\n . \\n2 yrs exp',\n",
       " 'Data Scientist\\n . \\n3-4 yrs exp',\n",
       " 'Data Scientist\\n . \\n2-4 yrs exp',\n",
       " 'Data Scientist\\n . \\n2-4 yrs exp',\n",
       " 'Data Scientist\\n . \\n2-4 yrs exp',\n",
       " 'Data Scientist\\n . \\n4 yrs exp',\n",
       " 'Data Scientist\\n . \\n4 yrs exp']"
      ]
     },
     "execution_count": 1291,
     "metadata": {},
     "output_type": "execute_result"
    }
   ],
   "source": [
    "#we will get the exepero=ience text using for loop\n",
    "\n",
    "for i in experience_tags:\n",
    "    experience=i.text\n",
    "    experience_list.append(experience)\n",
    "experience_list[0:10]"
   ]
  },
  {
   "cell_type": "code",
   "execution_count": 1295,
   "id": "2929796e",
   "metadata": {},
   "outputs": [],
   "source": [
    "#making data frame\n",
    "#import pandas as pd\n",
    "salary=pd.DataFrame({})\n",
    "salary[\"company name\"]=companyname_list[0:10]\n",
    "salary[\"Salary records\"]=salary_record_list[0:10]\n",
    "salary[\"Average CTC\"]=average_salary_list[0:10]\n",
    "salary[\"Minimum CTC\"]=minimum_salary_list[0:10]\n",
    "salary[\"Maximum CTC\"]=maximum_salary_list[0:10]\n",
    "salary[\"Experience\"]=experience_list[0:10]"
   ]
  },
  {
   "cell_type": "code",
   "execution_count": 1296,
   "id": "9be4d353",
   "metadata": {},
   "outputs": [
    {
     "data": {
      "text/html": [
       "<div>\n",
       "<style scoped>\n",
       "    .dataframe tbody tr th:only-of-type {\n",
       "        vertical-align: middle;\n",
       "    }\n",
       "\n",
       "    .dataframe tbody tr th {\n",
       "        vertical-align: top;\n",
       "    }\n",
       "\n",
       "    .dataframe thead th {\n",
       "        text-align: right;\n",
       "    }\n",
       "</style>\n",
       "<table border=\"1\" class=\"dataframe\">\n",
       "  <thead>\n",
       "    <tr style=\"text-align: right;\">\n",
       "      <th></th>\n",
       "      <th>company name</th>\n",
       "      <th>Salary records</th>\n",
       "      <th>Average CTC</th>\n",
       "      <th>Minimum CTC</th>\n",
       "      <th>Maximum CTC</th>\n",
       "      <th>Experience</th>\n",
       "    </tr>\n",
       "  </thead>\n",
       "  <tbody>\n",
       "    <tr>\n",
       "      <th>0</th>\n",
       "      <td>Walmart</td>\n",
       "      <td>based on 11 salaries</td>\n",
       "      <td>₹ 29.7L</td>\n",
       "      <td>₹ 25.0L</td>\n",
       "      <td>₹ 35.0L</td>\n",
       "      <td>Data Scientist\\n . \\n3 yrs exp</td>\n",
       "    </tr>\n",
       "    <tr>\n",
       "      <th>1</th>\n",
       "      <td>Ab Inbev</td>\n",
       "      <td>based on 32 salaries</td>\n",
       "      <td>₹ 20.5L</td>\n",
       "      <td>₹ 15.0L</td>\n",
       "      <td>₹ 25.5L</td>\n",
       "      <td>Data Scientist\\n . \\n3-4 yrs exp</td>\n",
       "    </tr>\n",
       "    <tr>\n",
       "      <th>2</th>\n",
       "      <td>Reliance Jio</td>\n",
       "      <td>based on 10 salaries</td>\n",
       "      <td>₹ 18.9L</td>\n",
       "      <td>₹ 5.6L</td>\n",
       "      <td>₹ 26.2L</td>\n",
       "      <td>Data Scientist\\n . \\n4 yrs exp</td>\n",
       "    </tr>\n",
       "    <tr>\n",
       "      <th>3</th>\n",
       "      <td>ZS</td>\n",
       "      <td>based on 15 salaries</td>\n",
       "      <td>₹ 15.9L</td>\n",
       "      <td>₹ 9.8L</td>\n",
       "      <td>₹ 20.0L</td>\n",
       "      <td>Data Scientist\\n . \\n2 yrs exp</td>\n",
       "    </tr>\n",
       "    <tr>\n",
       "      <th>4</th>\n",
       "      <td>Optum</td>\n",
       "      <td>based on 27 salaries</td>\n",
       "      <td>₹ 15.2L</td>\n",
       "      <td>₹ 11.0L</td>\n",
       "      <td>₹ 22.0L</td>\n",
       "      <td>Data Scientist\\n . \\n3-4 yrs exp</td>\n",
       "    </tr>\n",
       "    <tr>\n",
       "      <th>5</th>\n",
       "      <td>Fractal Analytics</td>\n",
       "      <td>based on 81 salaries</td>\n",
       "      <td>₹ 15.2L</td>\n",
       "      <td>₹ 9.5L</td>\n",
       "      <td>₹ 22.0L</td>\n",
       "      <td>Data Scientist\\n . \\n2-4 yrs exp</td>\n",
       "    </tr>\n",
       "    <tr>\n",
       "      <th>6</th>\n",
       "      <td>Tiger Analytics</td>\n",
       "      <td>based on 46 salaries</td>\n",
       "      <td>₹ 14.8L</td>\n",
       "      <td>₹ 9.0L</td>\n",
       "      <td>₹ 20.0L</td>\n",
       "      <td>Data Scientist\\n . \\n2-4 yrs exp</td>\n",
       "    </tr>\n",
       "    <tr>\n",
       "      <th>7</th>\n",
       "      <td>UnitedHealth</td>\n",
       "      <td>based on 53 salaries</td>\n",
       "      <td>₹ 14.0L</td>\n",
       "      <td>₹ 8.3L</td>\n",
       "      <td>₹ 20.5L</td>\n",
       "      <td>Data Scientist\\n . \\n2-4 yrs exp</td>\n",
       "    </tr>\n",
       "    <tr>\n",
       "      <th>8</th>\n",
       "      <td>Verizon</td>\n",
       "      <td>based on 14 salaries</td>\n",
       "      <td>₹ 12.7L</td>\n",
       "      <td>₹ 10.0L</td>\n",
       "      <td>₹ 21.0L</td>\n",
       "      <td>Data Scientist\\n . \\n4 yrs exp</td>\n",
       "    </tr>\n",
       "    <tr>\n",
       "      <th>9</th>\n",
       "      <td>Ganit Business Solutions</td>\n",
       "      <td>based on 13 salaries</td>\n",
       "      <td>₹ 12.4L</td>\n",
       "      <td>₹ 8.5L</td>\n",
       "      <td>₹ 15.0L</td>\n",
       "      <td>Data Scientist\\n . \\n4 yrs exp</td>\n",
       "    </tr>\n",
       "  </tbody>\n",
       "</table>\n",
       "</div>"
      ],
      "text/plain": [
       "               company name        Salary records Average CTC Minimum CTC  \\\n",
       "0                   Walmart  based on 11 salaries     ₹ 29.7L     ₹ 25.0L   \n",
       "1                  Ab Inbev  based on 32 salaries     ₹ 20.5L     ₹ 15.0L   \n",
       "2              Reliance Jio  based on 10 salaries     ₹ 18.9L      ₹ 5.6L   \n",
       "3                        ZS  based on 15 salaries     ₹ 15.9L      ₹ 9.8L   \n",
       "4                     Optum  based on 27 salaries     ₹ 15.2L     ₹ 11.0L   \n",
       "5         Fractal Analytics  based on 81 salaries     ₹ 15.2L      ₹ 9.5L   \n",
       "6           Tiger Analytics  based on 46 salaries     ₹ 14.8L      ₹ 9.0L   \n",
       "7              UnitedHealth  based on 53 salaries     ₹ 14.0L      ₹ 8.3L   \n",
       "8                   Verizon  based on 14 salaries     ₹ 12.7L     ₹ 10.0L   \n",
       "9  Ganit Business Solutions  based on 13 salaries     ₹ 12.4L      ₹ 8.5L   \n",
       "\n",
       "  Maximum CTC                        Experience  \n",
       "0     ₹ 35.0L    Data Scientist\\n . \\n3 yrs exp  \n",
       "1     ₹ 25.5L  Data Scientist\\n . \\n3-4 yrs exp  \n",
       "2     ₹ 26.2L    Data Scientist\\n . \\n4 yrs exp  \n",
       "3     ₹ 20.0L    Data Scientist\\n . \\n2 yrs exp  \n",
       "4     ₹ 22.0L  Data Scientist\\n . \\n3-4 yrs exp  \n",
       "5     ₹ 22.0L  Data Scientist\\n . \\n2-4 yrs exp  \n",
       "6     ₹ 20.0L  Data Scientist\\n . \\n2-4 yrs exp  \n",
       "7     ₹ 20.5L  Data Scientist\\n . \\n2-4 yrs exp  \n",
       "8     ₹ 21.0L    Data Scientist\\n . \\n4 yrs exp  \n",
       "9     ₹ 15.0L    Data Scientist\\n . \\n4 yrs exp  "
      ]
     },
     "execution_count": 1296,
     "metadata": {},
     "output_type": "execute_result"
    }
   ],
   "source": [
    "salary"
   ]
  },
  {
   "cell_type": "code",
   "execution_count": 1297,
   "id": "855fa9dc",
   "metadata": {},
   "outputs": [],
   "source": [
    "driver.close()"
   ]
  },
  {
   "cell_type": "code",
   "execution_count": null,
   "id": "7a5f482e",
   "metadata": {},
   "outputs": [],
   "source": []
  }
 ],
 "metadata": {
  "kernelspec": {
   "display_name": "Python 3 (ipykernel)",
   "language": "python",
   "name": "python3"
  },
  "language_info": {
   "codemirror_mode": {
    "name": "ipython",
    "version": 3
   },
   "file_extension": ".py",
   "mimetype": "text/x-python",
   "name": "python",
   "nbconvert_exporter": "python",
   "pygments_lexer": "ipython3",
   "version": "3.9.7"
  }
 },
 "nbformat": 4,
 "nbformat_minor": 5
}
