{
 "cells": [
  {
   "cell_type": "markdown",
   "id": "8d6e44bb",
   "metadata": {},
   "source": [
    "# Answers"
   ]
  },
  {
   "cell_type": "code",
   "execution_count": 3,
   "id": "94b3d335",
   "metadata": {},
   "outputs": [
    {
     "name": "stdout",
     "output_type": "stream",
     "text": [
      "Enter any number to find factorial for that6\n",
      "Factorial of 6 is 720\n"
     ]
    }
   ],
   "source": [
    "#11.\tWrite a python program to find the factorial of a number.\n",
    "\n",
    "import math\n",
    "def function_factorial(x):\n",
    "    return(math.factorial(x))\n",
    "\n",
    "number=int(input(\"Enter any number to find factorial for that\"))\n",
    "n=function_factorial(number)\n",
    "print(\"Factorial of\",number,\"is\",n)"
   ]
  },
  {
   "cell_type": "code",
   "execution_count": 8,
   "id": "754f3fd3",
   "metadata": {},
   "outputs": [
    {
     "name": "stdout",
     "output_type": "stream",
     "text": [
      "Enter any number to find it is a prime or composite : 0\n",
      "0 is a neither prime NOR composite number\n"
     ]
    }
   ],
   "source": [
    "#12.\tWrite a python program to find whether a number is prime or composite\n",
    "\n",
    "number = int(input(\"Enter any number to find it is a prime or composite : \"))\n",
    "if number > 1:\n",
    "    for i in range(2, number):\n",
    "        if (number % i) == 0:\n",
    "            print(number, \"is NOT a prime number\")\n",
    "            break\n",
    "    else:\n",
    "        print(number, \"is a PRIME number\")\n",
    "elif number == 0 or 1:\n",
    "    print(number, \"is a neither prime NOR composite number\")\n",
    "else:\n",
    "    print(number, \"is NOT a prime number it is a COMPOSITE number\")"
   ]
  },
  {
   "cell_type": "code",
   "execution_count": 10,
   "id": "6ab1238d",
   "metadata": {},
   "outputs": [
    {
     "name": "stdout",
     "output_type": "stream",
     "text": [
      "Please enter your text : geeks\n",
      "This is Not a Palindrome String\n"
     ]
    }
   ],
   "source": [
    "#13.\tWrite a python program to check whether a given string is palindrome or not.\n",
    "\n",
    "string = input(\"Please enter your text : \")\n",
    "\n",
    "if(string == string[:: - 1]):\n",
    "   print(\"This is a Palindrome String\")\n",
    "else:\n",
    "   print(\"This is Not a Palindrome String\")"
   ]
  },
  {
   "cell_type": "code",
   "execution_count": 15,
   "id": "d65b7da9",
   "metadata": {},
   "outputs": [
    {
     "name": "stdout",
     "output_type": "stream",
     "text": [
      "Enter base: 4\n",
      "Enter height: 3\n",
      "triangle = 5.0\n"
     ]
    }
   ],
   "source": [
    "#14.\tWrite a Python program to get the third side of right-angled triangle from two given sides.\n",
    "\n",
    "import math\n",
    "\n",
    "x = float(input(\"Enter base: \"))\n",
    "y = float(input(\"Enter height: \"))\n",
    "z = 90\n",
    "\n",
    "triangle = math.sqrt(x ** 2 + y ** 2)\n",
    "\n",
    "print(\"triangle =\", triangle)"
   ]
  },
  {
   "cell_type": "code",
   "execution_count": 24,
   "id": "ed93f0be",
   "metadata": {},
   "outputs": [
    {
     "name": "stdout",
     "output_type": "stream",
     "text": [
      "Enter any Name to find frequency of each characters :- 544894984654654\n",
      "Count of all characters in 544894984654654 is : Counter({'4': 6, '5': 3, '8': 2, '9': 2, '6': 2})\n"
     ]
    }
   ],
   "source": [
    "#15.\tWrite a python program to print the frequency of each of the characters present in a given string.\n",
    "\n",
    "from collections import Counter\n",
    "   \n",
    "test_string = str(input(\"Enter any Name to find frequency of each characters :- \"))\n",
    "  \n",
    "x = Counter(test_string)\n",
    "  \n",
    "print (\"Count of all characters in\",test_string,\"is : \"+  str(x))"
   ]
  },
  {
   "cell_type": "code",
   "execution_count": null,
   "id": "ddb20300",
   "metadata": {},
   "outputs": [],
   "source": []
  }
 ],
 "metadata": {
  "kernelspec": {
   "display_name": "Python 3 (ipykernel)",
   "language": "python",
   "name": "python3"
  },
  "language_info": {
   "codemirror_mode": {
    "name": "ipython",
    "version": 3
   },
   "file_extension": ".py",
   "mimetype": "text/x-python",
   "name": "python",
   "nbconvert_exporter": "python",
   "pygments_lexer": "ipython3",
   "version": "3.9.7"
  }
 },
 "nbformat": 4,
 "nbformat_minor": 5
}
