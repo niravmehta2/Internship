{
 "cells": [
  {
   "cell_type": "code",
   "execution_count": 1,
   "id": "408b879b",
   "metadata": {},
   "outputs": [],
   "source": [
    "# Importing Necessary Libraries\n",
    "import pandas as pd\n",
    "import numpy as np \n",
    "import seaborn as sns\n",
    "import matplotlib.pyplot as plt\n",
    "import warnings\n",
    "warnings.filterwarnings('ignore')"
   ]
  },
  {
   "cell_type": "code",
   "execution_count": 2,
   "id": "90a6236f",
   "metadata": {},
   "outputs": [
    {
     "data": {
      "text/html": [
       "<div>\n",
       "<style scoped>\n",
       "    .dataframe tbody tr th:only-of-type {\n",
       "        vertical-align: middle;\n",
       "    }\n",
       "\n",
       "    .dataframe tbody tr th {\n",
       "        vertical-align: top;\n",
       "    }\n",
       "\n",
       "    .dataframe thead th {\n",
       "        text-align: right;\n",
       "    }\n",
       "</style>\n",
       "<table border=\"1\" class=\"dataframe\">\n",
       "  <thead>\n",
       "    <tr style=\"text-align: right;\">\n",
       "      <th></th>\n",
       "      <th>Brand</th>\n",
       "      <th>Price</th>\n",
       "      <th>Model</th>\n",
       "      <th>KMS_driven</th>\n",
       "      <th>Fuel</th>\n",
       "      <th>Variant</th>\n",
       "    </tr>\n",
       "  </thead>\n",
       "  <tbody>\n",
       "    <tr>\n",
       "      <th>0</th>\n",
       "      <td>2019 Jeep Compass</td>\n",
       "      <td>17.05 Lakh</td>\n",
       "      <td>1.4 Limited Plus BSIV</td>\n",
       "      <td>32,294 kms</td>\n",
       "      <td>Petrol</td>\n",
       "      <td>Automatic</td>\n",
       "    </tr>\n",
       "    <tr>\n",
       "      <th>1</th>\n",
       "      <td>2018 Honda Jazz</td>\n",
       "      <td>7.74 Lakh</td>\n",
       "      <td>VX CVT</td>\n",
       "      <td>26,580 kms</td>\n",
       "      <td>Petrol</td>\n",
       "      <td>Automatic</td>\n",
       "    </tr>\n",
       "    <tr>\n",
       "      <th>2</th>\n",
       "      <td>2017 Hyundai i20</td>\n",
       "      <td>6.64 Lakh</td>\n",
       "      <td>Asta 1.4 CRDi</td>\n",
       "      <td>85,483 kms</td>\n",
       "      <td>Diesel</td>\n",
       "      <td>Manual</td>\n",
       "    </tr>\n",
       "    <tr>\n",
       "      <th>3</th>\n",
       "      <td>2020 Tata Tiago</td>\n",
       "      <td>5.90 Lakh</td>\n",
       "      <td>XZ Plus Diesel</td>\n",
       "      <td>69,848 kms</td>\n",
       "      <td>Diesel</td>\n",
       "      <td>Manual</td>\n",
       "    </tr>\n",
       "    <tr>\n",
       "      <th>4</th>\n",
       "      <td>2018 Honda Jazz</td>\n",
       "      <td>7.05 Lakh</td>\n",
       "      <td>V CVT</td>\n",
       "      <td>64,554 kms</td>\n",
       "      <td>Petrol</td>\n",
       "      <td>Automatic</td>\n",
       "    </tr>\n",
       "    <tr>\n",
       "      <th>...</th>\n",
       "      <td>...</td>\n",
       "      <td>...</td>\n",
       "      <td>...</td>\n",
       "      <td>...</td>\n",
       "      <td>...</td>\n",
       "      <td>...</td>\n",
       "    </tr>\n",
       "    <tr>\n",
       "      <th>75</th>\n",
       "      <td>2015 Mercedes-Benz G</td>\n",
       "      <td>1.38 Cr</td>\n",
       "      <td>G63 AMG</td>\n",
       "      <td>18,000 kms</td>\n",
       "      <td>Petrol</td>\n",
       "      <td>Automatic</td>\n",
       "    </tr>\n",
       "    <tr>\n",
       "      <th>76</th>\n",
       "      <td>2017 Hyundai Creta</td>\n",
       "      <td>11.00 Lakh</td>\n",
       "      <td>1.6 VTVT AT SX Plus</td>\n",
       "      <td>59,000 kms</td>\n",
       "      <td>Petrol</td>\n",
       "      <td>Automatic</td>\n",
       "    </tr>\n",
       "    <tr>\n",
       "      <th>77</th>\n",
       "      <td>2019 Jeep Compass</td>\n",
       "      <td>17.75 Lakh</td>\n",
       "      <td>1.4 Limited Plus</td>\n",
       "      <td>33,000 kms</td>\n",
       "      <td>Petrol</td>\n",
       "      <td>Automatic</td>\n",
       "    </tr>\n",
       "    <tr>\n",
       "      <th>78</th>\n",
       "      <td>2016 Mercedes-Benz S-Class</td>\n",
       "      <td>61.00 Lakh</td>\n",
       "      <td>S 350 d</td>\n",
       "      <td>75,000 kms</td>\n",
       "      <td>Diesel</td>\n",
       "      <td>Automatic</td>\n",
       "    </tr>\n",
       "    <tr>\n",
       "      <th>79</th>\n",
       "      <td>2015 Audi A3</td>\n",
       "      <td>16.00 Lakh</td>\n",
       "      <td>35 TDI Premium Plus</td>\n",
       "      <td>30,000 kms</td>\n",
       "      <td>Diesel</td>\n",
       "      <td>Automatic</td>\n",
       "    </tr>\n",
       "  </tbody>\n",
       "</table>\n",
       "<p>480 rows × 6 columns</p>\n",
       "</div>"
      ],
      "text/plain": [
       "                         Brand       Price                  Model  KMS_driven  \\\n",
       "0            2019 Jeep Compass  17.05 Lakh  1.4 Limited Plus BSIV  32,294 kms   \n",
       "1              2018 Honda Jazz   7.74 Lakh                 VX CVT  26,580 kms   \n",
       "2             2017 Hyundai i20   6.64 Lakh          Asta 1.4 CRDi  85,483 kms   \n",
       "3              2020 Tata Tiago   5.90 Lakh         XZ Plus Diesel  69,848 kms   \n",
       "4              2018 Honda Jazz   7.05 Lakh                  V CVT  64,554 kms   \n",
       "..                         ...         ...                    ...         ...   \n",
       "75        2015 Mercedes-Benz G     1.38 Cr                G63 AMG  18,000 kms   \n",
       "76          2017 Hyundai Creta  11.00 Lakh    1.6 VTVT AT SX Plus  59,000 kms   \n",
       "77           2019 Jeep Compass  17.75 Lakh       1.4 Limited Plus  33,000 kms   \n",
       "78  2016 Mercedes-Benz S-Class  61.00 Lakh                S 350 d  75,000 kms   \n",
       "79                2015 Audi A3  16.00 Lakh    35 TDI Premium Plus  30,000 kms   \n",
       "\n",
       "      Fuel    Variant  \n",
       "0   Petrol  Automatic  \n",
       "1   Petrol  Automatic  \n",
       "2   Diesel     Manual  \n",
       "3   Diesel     Manual  \n",
       "4   Petrol  Automatic  \n",
       "..     ...        ...  \n",
       "75  Petrol  Automatic  \n",
       "76  Petrol  Automatic  \n",
       "77  Petrol  Automatic  \n",
       "78  Diesel  Automatic  \n",
       "79  Diesel  Automatic  \n",
       "\n",
       "[480 rows x 6 columns]"
      ]
     },
     "execution_count": 2,
     "metadata": {},
     "output_type": "execute_result"
    }
   ],
   "source": [
    "# Dataset\n",
    "df_uc = pd.read_csv(\"Used_Cars_Data.csv\",index_col=0)\n",
    "df_uc"
   ]
  },
  {
   "cell_type": "code",
   "execution_count": 3,
   "id": "ff340d41",
   "metadata": {},
   "outputs": [
    {
     "data": {
      "text/plain": [
       "(480, 6)"
      ]
     },
     "execution_count": 3,
     "metadata": {},
     "output_type": "execute_result"
    }
   ],
   "source": [
    "# Checking shape of my dataset\n",
    "df_uc.shape"
   ]
  },
  {
   "cell_type": "code",
   "execution_count": 4,
   "id": "026a95b4",
   "metadata": {},
   "outputs": [
    {
     "data": {
      "text/plain": [
       "Index(['Brand', 'Price', 'Model', 'KMS_driven', 'Fuel', 'Variant'], dtype='object')"
      ]
     },
     "execution_count": 4,
     "metadata": {},
     "output_type": "execute_result"
    }
   ],
   "source": [
    "# Checking all column names of dataset\n",
    "df_uc.columns"
   ]
  },
  {
   "cell_type": "code",
   "execution_count": 5,
   "id": "cfcbddd3",
   "metadata": {},
   "outputs": [
    {
     "data": {
      "text/plain": [
       "Brand         object\n",
       "Price         object\n",
       "Model         object\n",
       "KMS_driven    object\n",
       "Fuel          object\n",
       "Variant       object\n",
       "dtype: object"
      ]
     },
     "execution_count": 5,
     "metadata": {},
     "output_type": "execute_result"
    }
   ],
   "source": [
    "# Checking the data types of all columns in dataset\n",
    "df_uc.dtypes"
   ]
  },
  {
   "cell_type": "code",
   "execution_count": 6,
   "id": "c8dba298",
   "metadata": {},
   "outputs": [
    {
     "data": {
      "text/plain": [
       "0     17.05 Lakh\n",
       "1      7.74 Lakh\n",
       "2      6.64 Lakh\n",
       "3      5.90 Lakh\n",
       "4      7.05 Lakh\n",
       "         ...    \n",
       "75       1.38 Cr\n",
       "76    11.00 Lakh\n",
       "77    17.75 Lakh\n",
       "78    61.00 Lakh\n",
       "79    16.00 Lakh\n",
       "Name: Price, Length: 480, dtype: object"
      ]
     },
     "execution_count": 6,
     "metadata": {},
     "output_type": "execute_result"
    }
   ],
   "source": [
    "df_uc['Price']"
   ]
  },
  {
   "cell_type": "code",
   "execution_count": 7,
   "id": "20baa7bd",
   "metadata": {},
   "outputs": [
    {
     "name": "stdout",
     "output_type": "stream",
     "text": [
      "<class 'pandas.core.frame.DataFrame'>\n",
      "Int64Index: 480 entries, 0 to 79\n",
      "Data columns (total 6 columns):\n",
      " #   Column      Non-Null Count  Dtype \n",
      "---  ------      --------------  ----- \n",
      " 0   Brand       480 non-null    object\n",
      " 1   Price       480 non-null    object\n",
      " 2   Model       480 non-null    object\n",
      " 3   KMS_driven  480 non-null    object\n",
      " 4   Fuel        480 non-null    object\n",
      " 5   Variant     480 non-null    object\n",
      "dtypes: object(6)\n",
      "memory usage: 26.2+ KB\n"
     ]
    }
   ],
   "source": [
    "df_uc.info()"
   ]
  },
  {
   "cell_type": "code",
   "execution_count": 8,
   "id": "dca944fe",
   "metadata": {},
   "outputs": [
    {
     "name": "stdout",
     "output_type": "stream",
     "text": [
      "2017 Hyundai i20                     16\n",
      "2016 Honda City                      12\n",
      "2019 Land Rover Range Rover Velar    12\n",
      "2015 Audi A3                         12\n",
      "2018 Maruti Baleno                   12\n",
      "                                     ..\n",
      "2013 Fiat Linea                       4\n",
      "2017 Hyundai Grand i10                4\n",
      "2018 Toyota Yaris                     4\n",
      "2016 Maruti Baleno                    4\n",
      "2019 Maruti Baleno                    4\n",
      "Name: Brand, Length: 83, dtype: int64\n",
      "-------------------------------------------------\n",
      "3.65 Lakh     12\n",
      "2.85 Lakh     12\n",
      "7.05 Lakh     12\n",
      "68.25 Lakh    12\n",
      "16.00 Lakh    12\n",
      "              ..\n",
      "9.46 Lakh      4\n",
      "9.36 Lakh      4\n",
      "7.72 Lakh      4\n",
      "19.90 Lakh     4\n",
      "17.75 Lakh     4\n",
      "Name: Price, Length: 91, dtype: int64\n",
      "-------------------------------------------------\n",
      "1.2 Zeta              20\n",
      "Sportz 1.2            16\n",
      "i VTEC V              12\n",
      "G63 AMG               12\n",
      "P250 R-Dynamic HSE    12\n",
      "                      ..\n",
      "Petrol Asta Option     4\n",
      "1.2 Kappa Asta         4\n",
      "V BSIV                 4\n",
      "Delta                  4\n",
      "1.4 Limited Plus       4\n",
      "Name: Model, Length: 88, dtype: int64\n",
      "-------------------------------------------------\n",
      "30,000 kms    16\n",
      "18,000 kms    16\n",
      "62,000 kms    12\n",
      "75,000 kms    12\n",
      "24,441 kms     8\n",
      "              ..\n",
      "21,488 kms     4\n",
      "13,165 kms     4\n",
      "25,586 kms     4\n",
      "42,619 kms     4\n",
      "59,000 kms     4\n",
      "Name: KMS_driven, Length: 94, dtype: int64\n",
      "-------------------------------------------------\n",
      "Petrol    352\n",
      "Diesel    128\n",
      "Name: Fuel, dtype: int64\n",
      "-------------------------------------------------\n",
      "Manual       272\n",
      "Automatic    208\n",
      "Name: Variant, dtype: int64\n",
      "-------------------------------------------------\n"
     ]
    }
   ],
   "source": [
    "# Value counts of each column.\n",
    "for i in df_uc.columns:\n",
    "        print(df_uc[i].value_counts())\n",
    "        print('-------------------------------------------------')"
   ]
  },
  {
   "cell_type": "code",
   "execution_count": 9,
   "id": "b1b05361",
   "metadata": {},
   "outputs": [
    {
     "data": {
      "text/plain": [
       "Brand         83\n",
       "Price         91\n",
       "Model         88\n",
       "KMS_driven    94\n",
       "Fuel           2\n",
       "Variant        2\n",
       "dtype: int64"
      ]
     },
     "execution_count": 9,
     "metadata": {},
     "output_type": "execute_result"
    }
   ],
   "source": [
    "# Checking unique values of each column\n",
    "df_uc.nunique()"
   ]
  },
  {
   "cell_type": "code",
   "execution_count": 10,
   "id": "70b98e8f",
   "metadata": {},
   "outputs": [
    {
     "data": {
      "text/html": [
       "<div>\n",
       "<style scoped>\n",
       "    .dataframe tbody tr th:only-of-type {\n",
       "        vertical-align: middle;\n",
       "    }\n",
       "\n",
       "    .dataframe tbody tr th {\n",
       "        vertical-align: top;\n",
       "    }\n",
       "\n",
       "    .dataframe thead th {\n",
       "        text-align: right;\n",
       "    }\n",
       "</style>\n",
       "<table border=\"1\" class=\"dataframe\">\n",
       "  <thead>\n",
       "    <tr style=\"text-align: right;\">\n",
       "      <th></th>\n",
       "      <th>Brand</th>\n",
       "      <th>Price</th>\n",
       "      <th>Model</th>\n",
       "      <th>KMS_driven</th>\n",
       "      <th>Fuel</th>\n",
       "      <th>Variant</th>\n",
       "    </tr>\n",
       "  </thead>\n",
       "  <tbody>\n",
       "    <tr>\n",
       "      <th>0</th>\n",
       "      <td>2019 Jeep Compass</td>\n",
       "      <td>17.05</td>\n",
       "      <td>1.4 Limited Plus BSIV</td>\n",
       "      <td>32,294 kms</td>\n",
       "      <td>Petrol</td>\n",
       "      <td>Automatic</td>\n",
       "    </tr>\n",
       "    <tr>\n",
       "      <th>1</th>\n",
       "      <td>2018 Honda Jazz</td>\n",
       "      <td>7.74</td>\n",
       "      <td>VX CVT</td>\n",
       "      <td>26,580 kms</td>\n",
       "      <td>Petrol</td>\n",
       "      <td>Automatic</td>\n",
       "    </tr>\n",
       "    <tr>\n",
       "      <th>2</th>\n",
       "      <td>2017 Hyundai i20</td>\n",
       "      <td>6.64</td>\n",
       "      <td>Asta 1.4 CRDi</td>\n",
       "      <td>85,483 kms</td>\n",
       "      <td>Diesel</td>\n",
       "      <td>Manual</td>\n",
       "    </tr>\n",
       "    <tr>\n",
       "      <th>3</th>\n",
       "      <td>2020 Tata Tiago</td>\n",
       "      <td>5.90</td>\n",
       "      <td>XZ Plus Diesel</td>\n",
       "      <td>69,848 kms</td>\n",
       "      <td>Diesel</td>\n",
       "      <td>Manual</td>\n",
       "    </tr>\n",
       "    <tr>\n",
       "      <th>4</th>\n",
       "      <td>2018 Honda Jazz</td>\n",
       "      <td>7.05</td>\n",
       "      <td>V CVT</td>\n",
       "      <td>64,554 kms</td>\n",
       "      <td>Petrol</td>\n",
       "      <td>Automatic</td>\n",
       "    </tr>\n",
       "    <tr>\n",
       "      <th>...</th>\n",
       "      <td>...</td>\n",
       "      <td>...</td>\n",
       "      <td>...</td>\n",
       "      <td>...</td>\n",
       "      <td>...</td>\n",
       "      <td>...</td>\n",
       "    </tr>\n",
       "    <tr>\n",
       "      <th>75</th>\n",
       "      <td>2015 Mercedes-Benz G</td>\n",
       "      <td>1.38</td>\n",
       "      <td>G63 AMG</td>\n",
       "      <td>18,000 kms</td>\n",
       "      <td>Petrol</td>\n",
       "      <td>Automatic</td>\n",
       "    </tr>\n",
       "    <tr>\n",
       "      <th>76</th>\n",
       "      <td>2017 Hyundai Creta</td>\n",
       "      <td>11.00</td>\n",
       "      <td>1.6 VTVT AT SX Plus</td>\n",
       "      <td>59,000 kms</td>\n",
       "      <td>Petrol</td>\n",
       "      <td>Automatic</td>\n",
       "    </tr>\n",
       "    <tr>\n",
       "      <th>77</th>\n",
       "      <td>2019 Jeep Compass</td>\n",
       "      <td>17.75</td>\n",
       "      <td>1.4 Limited Plus</td>\n",
       "      <td>33,000 kms</td>\n",
       "      <td>Petrol</td>\n",
       "      <td>Automatic</td>\n",
       "    </tr>\n",
       "    <tr>\n",
       "      <th>78</th>\n",
       "      <td>2016 Mercedes-Benz S-Class</td>\n",
       "      <td>61.00</td>\n",
       "      <td>S 350 d</td>\n",
       "      <td>75,000 kms</td>\n",
       "      <td>Diesel</td>\n",
       "      <td>Automatic</td>\n",
       "    </tr>\n",
       "    <tr>\n",
       "      <th>79</th>\n",
       "      <td>2015 Audi A3</td>\n",
       "      <td>16.00</td>\n",
       "      <td>35 TDI Premium Plus</td>\n",
       "      <td>30,000 kms</td>\n",
       "      <td>Diesel</td>\n",
       "      <td>Automatic</td>\n",
       "    </tr>\n",
       "  </tbody>\n",
       "</table>\n",
       "<p>480 rows × 6 columns</p>\n",
       "</div>"
      ],
      "text/plain": [
       "                         Brand  Price                  Model  KMS_driven  \\\n",
       "0            2019 Jeep Compass  17.05  1.4 Limited Plus BSIV  32,294 kms   \n",
       "1              2018 Honda Jazz   7.74                 VX CVT  26,580 kms   \n",
       "2             2017 Hyundai i20   6.64          Asta 1.4 CRDi  85,483 kms   \n",
       "3              2020 Tata Tiago   5.90         XZ Plus Diesel  69,848 kms   \n",
       "4              2018 Honda Jazz   7.05                  V CVT  64,554 kms   \n",
       "..                         ...    ...                    ...         ...   \n",
       "75        2015 Mercedes-Benz G   1.38                G63 AMG  18,000 kms   \n",
       "76          2017 Hyundai Creta  11.00    1.6 VTVT AT SX Plus  59,000 kms   \n",
       "77           2019 Jeep Compass  17.75       1.4 Limited Plus  33,000 kms   \n",
       "78  2016 Mercedes-Benz S-Class  61.00                S 350 d  75,000 kms   \n",
       "79                2015 Audi A3  16.00    35 TDI Premium Plus  30,000 kms   \n",
       "\n",
       "      Fuel    Variant  \n",
       "0   Petrol  Automatic  \n",
       "1   Petrol  Automatic  \n",
       "2   Diesel     Manual  \n",
       "3   Diesel     Manual  \n",
       "4   Petrol  Automatic  \n",
       "..     ...        ...  \n",
       "75  Petrol  Automatic  \n",
       "76  Petrol  Automatic  \n",
       "77  Petrol  Automatic  \n",
       "78  Diesel  Automatic  \n",
       "79  Diesel  Automatic  \n",
       "\n",
       "[480 rows x 6 columns]"
      ]
     },
     "execution_count": 10,
     "metadata": {},
     "output_type": "execute_result"
    }
   ],
   "source": [
    "# Extracting 'Price' values from Price\n",
    "df_uc['Price'] = df_uc['Price'].str.split().str[0]\n",
    "df_uc"
   ]
  },
  {
   "cell_type": "code",
   "execution_count": 11,
   "id": "d6b17cdf",
   "metadata": {},
   "outputs": [
    {
     "data": {
      "text/html": [
       "<div>\n",
       "<style scoped>\n",
       "    .dataframe tbody tr th:only-of-type {\n",
       "        vertical-align: middle;\n",
       "    }\n",
       "\n",
       "    .dataframe tbody tr th {\n",
       "        vertical-align: top;\n",
       "    }\n",
       "\n",
       "    .dataframe thead th {\n",
       "        text-align: right;\n",
       "    }\n",
       "</style>\n",
       "<table border=\"1\" class=\"dataframe\">\n",
       "  <thead>\n",
       "    <tr style=\"text-align: right;\">\n",
       "      <th></th>\n",
       "      <th>Brand</th>\n",
       "      <th>Price</th>\n",
       "      <th>Model</th>\n",
       "      <th>KMS_driven</th>\n",
       "      <th>Fuel</th>\n",
       "      <th>Variant</th>\n",
       "    </tr>\n",
       "  </thead>\n",
       "  <tbody>\n",
       "    <tr>\n",
       "      <th>0</th>\n",
       "      <td>2019 Jeep Compass</td>\n",
       "      <td>17.05</td>\n",
       "      <td>1.4 Limited Plus BSIV</td>\n",
       "      <td>32,294</td>\n",
       "      <td>Petrol</td>\n",
       "      <td>Automatic</td>\n",
       "    </tr>\n",
       "    <tr>\n",
       "      <th>1</th>\n",
       "      <td>2018 Honda Jazz</td>\n",
       "      <td>7.74</td>\n",
       "      <td>VX CVT</td>\n",
       "      <td>26,580</td>\n",
       "      <td>Petrol</td>\n",
       "      <td>Automatic</td>\n",
       "    </tr>\n",
       "    <tr>\n",
       "      <th>2</th>\n",
       "      <td>2017 Hyundai i20</td>\n",
       "      <td>6.64</td>\n",
       "      <td>Asta 1.4 CRDi</td>\n",
       "      <td>85,483</td>\n",
       "      <td>Diesel</td>\n",
       "      <td>Manual</td>\n",
       "    </tr>\n",
       "    <tr>\n",
       "      <th>3</th>\n",
       "      <td>2020 Tata Tiago</td>\n",
       "      <td>5.90</td>\n",
       "      <td>XZ Plus Diesel</td>\n",
       "      <td>69,848</td>\n",
       "      <td>Diesel</td>\n",
       "      <td>Manual</td>\n",
       "    </tr>\n",
       "    <tr>\n",
       "      <th>4</th>\n",
       "      <td>2018 Honda Jazz</td>\n",
       "      <td>7.05</td>\n",
       "      <td>V CVT</td>\n",
       "      <td>64,554</td>\n",
       "      <td>Petrol</td>\n",
       "      <td>Automatic</td>\n",
       "    </tr>\n",
       "    <tr>\n",
       "      <th>...</th>\n",
       "      <td>...</td>\n",
       "      <td>...</td>\n",
       "      <td>...</td>\n",
       "      <td>...</td>\n",
       "      <td>...</td>\n",
       "      <td>...</td>\n",
       "    </tr>\n",
       "    <tr>\n",
       "      <th>75</th>\n",
       "      <td>2015 Mercedes-Benz G</td>\n",
       "      <td>1.38</td>\n",
       "      <td>G63 AMG</td>\n",
       "      <td>18,000</td>\n",
       "      <td>Petrol</td>\n",
       "      <td>Automatic</td>\n",
       "    </tr>\n",
       "    <tr>\n",
       "      <th>76</th>\n",
       "      <td>2017 Hyundai Creta</td>\n",
       "      <td>11.00</td>\n",
       "      <td>1.6 VTVT AT SX Plus</td>\n",
       "      <td>59,000</td>\n",
       "      <td>Petrol</td>\n",
       "      <td>Automatic</td>\n",
       "    </tr>\n",
       "    <tr>\n",
       "      <th>77</th>\n",
       "      <td>2019 Jeep Compass</td>\n",
       "      <td>17.75</td>\n",
       "      <td>1.4 Limited Plus</td>\n",
       "      <td>33,000</td>\n",
       "      <td>Petrol</td>\n",
       "      <td>Automatic</td>\n",
       "    </tr>\n",
       "    <tr>\n",
       "      <th>78</th>\n",
       "      <td>2016 Mercedes-Benz S-Class</td>\n",
       "      <td>61.00</td>\n",
       "      <td>S 350 d</td>\n",
       "      <td>75,000</td>\n",
       "      <td>Diesel</td>\n",
       "      <td>Automatic</td>\n",
       "    </tr>\n",
       "    <tr>\n",
       "      <th>79</th>\n",
       "      <td>2015 Audi A3</td>\n",
       "      <td>16.00</td>\n",
       "      <td>35 TDI Premium Plus</td>\n",
       "      <td>30,000</td>\n",
       "      <td>Diesel</td>\n",
       "      <td>Automatic</td>\n",
       "    </tr>\n",
       "  </tbody>\n",
       "</table>\n",
       "<p>480 rows × 6 columns</p>\n",
       "</div>"
      ],
      "text/plain": [
       "                         Brand  Price                  Model KMS_driven  \\\n",
       "0            2019 Jeep Compass  17.05  1.4 Limited Plus BSIV     32,294   \n",
       "1              2018 Honda Jazz   7.74                 VX CVT     26,580   \n",
       "2             2017 Hyundai i20   6.64          Asta 1.4 CRDi     85,483   \n",
       "3              2020 Tata Tiago   5.90         XZ Plus Diesel     69,848   \n",
       "4              2018 Honda Jazz   7.05                  V CVT     64,554   \n",
       "..                         ...    ...                    ...        ...   \n",
       "75        2015 Mercedes-Benz G   1.38                G63 AMG     18,000   \n",
       "76          2017 Hyundai Creta  11.00    1.6 VTVT AT SX Plus     59,000   \n",
       "77           2019 Jeep Compass  17.75       1.4 Limited Plus     33,000   \n",
       "78  2016 Mercedes-Benz S-Class  61.00                S 350 d     75,000   \n",
       "79                2015 Audi A3  16.00    35 TDI Premium Plus     30,000   \n",
       "\n",
       "      Fuel    Variant  \n",
       "0   Petrol  Automatic  \n",
       "1   Petrol  Automatic  \n",
       "2   Diesel     Manual  \n",
       "3   Diesel     Manual  \n",
       "4   Petrol  Automatic  \n",
       "..     ...        ...  \n",
       "75  Petrol  Automatic  \n",
       "76  Petrol  Automatic  \n",
       "77  Petrol  Automatic  \n",
       "78  Diesel  Automatic  \n",
       "79  Diesel  Automatic  \n",
       "\n",
       "[480 rows x 6 columns]"
      ]
     },
     "execution_count": 11,
     "metadata": {},
     "output_type": "execute_result"
    }
   ],
   "source": [
    "# Extracting 'KMS_driven' from KMS_driven\n",
    "df_uc['KMS_driven'] = df_uc['KMS_driven'].str.split().str[0]\n",
    "df_uc"
   ]
  },
  {
   "cell_type": "code",
   "execution_count": 12,
   "id": "4a12e0f0",
   "metadata": {},
   "outputs": [
    {
     "data": {
      "text/html": [
       "<div>\n",
       "<style scoped>\n",
       "    .dataframe tbody tr th:only-of-type {\n",
       "        vertical-align: middle;\n",
       "    }\n",
       "\n",
       "    .dataframe tbody tr th {\n",
       "        vertical-align: top;\n",
       "    }\n",
       "\n",
       "    .dataframe thead th {\n",
       "        text-align: right;\n",
       "    }\n",
       "</style>\n",
       "<table border=\"1\" class=\"dataframe\">\n",
       "  <thead>\n",
       "    <tr style=\"text-align: right;\">\n",
       "      <th></th>\n",
       "      <th>Brand</th>\n",
       "      <th>Price</th>\n",
       "      <th>Model</th>\n",
       "      <th>KMS_driven</th>\n",
       "      <th>Fuel</th>\n",
       "      <th>Variant</th>\n",
       "      <th>Manuf_Year</th>\n",
       "    </tr>\n",
       "  </thead>\n",
       "  <tbody>\n",
       "    <tr>\n",
       "      <th>0</th>\n",
       "      <td>Jeep</td>\n",
       "      <td>17.05</td>\n",
       "      <td>1.4 Limited Plus BSIV</td>\n",
       "      <td>32,294</td>\n",
       "      <td>Petrol</td>\n",
       "      <td>Automatic</td>\n",
       "      <td>2019</td>\n",
       "    </tr>\n",
       "    <tr>\n",
       "      <th>1</th>\n",
       "      <td>Honda</td>\n",
       "      <td>7.74</td>\n",
       "      <td>VX CVT</td>\n",
       "      <td>26,580</td>\n",
       "      <td>Petrol</td>\n",
       "      <td>Automatic</td>\n",
       "      <td>2018</td>\n",
       "    </tr>\n",
       "    <tr>\n",
       "      <th>2</th>\n",
       "      <td>Hyundai</td>\n",
       "      <td>6.64</td>\n",
       "      <td>Asta 1.4 CRDi</td>\n",
       "      <td>85,483</td>\n",
       "      <td>Diesel</td>\n",
       "      <td>Manual</td>\n",
       "      <td>2017</td>\n",
       "    </tr>\n",
       "    <tr>\n",
       "      <th>3</th>\n",
       "      <td>Tata</td>\n",
       "      <td>5.90</td>\n",
       "      <td>XZ Plus Diesel</td>\n",
       "      <td>69,848</td>\n",
       "      <td>Diesel</td>\n",
       "      <td>Manual</td>\n",
       "      <td>2020</td>\n",
       "    </tr>\n",
       "    <tr>\n",
       "      <th>4</th>\n",
       "      <td>Honda</td>\n",
       "      <td>7.05</td>\n",
       "      <td>V CVT</td>\n",
       "      <td>64,554</td>\n",
       "      <td>Petrol</td>\n",
       "      <td>Automatic</td>\n",
       "      <td>2018</td>\n",
       "    </tr>\n",
       "    <tr>\n",
       "      <th>...</th>\n",
       "      <td>...</td>\n",
       "      <td>...</td>\n",
       "      <td>...</td>\n",
       "      <td>...</td>\n",
       "      <td>...</td>\n",
       "      <td>...</td>\n",
       "      <td>...</td>\n",
       "    </tr>\n",
       "    <tr>\n",
       "      <th>75</th>\n",
       "      <td>Mercedes-Benz</td>\n",
       "      <td>1.38</td>\n",
       "      <td>G63 AMG</td>\n",
       "      <td>18,000</td>\n",
       "      <td>Petrol</td>\n",
       "      <td>Automatic</td>\n",
       "      <td>2015</td>\n",
       "    </tr>\n",
       "    <tr>\n",
       "      <th>76</th>\n",
       "      <td>Hyundai</td>\n",
       "      <td>11.00</td>\n",
       "      <td>1.6 VTVT AT SX Plus</td>\n",
       "      <td>59,000</td>\n",
       "      <td>Petrol</td>\n",
       "      <td>Automatic</td>\n",
       "      <td>2017</td>\n",
       "    </tr>\n",
       "    <tr>\n",
       "      <th>77</th>\n",
       "      <td>Jeep</td>\n",
       "      <td>17.75</td>\n",
       "      <td>1.4 Limited Plus</td>\n",
       "      <td>33,000</td>\n",
       "      <td>Petrol</td>\n",
       "      <td>Automatic</td>\n",
       "      <td>2019</td>\n",
       "    </tr>\n",
       "    <tr>\n",
       "      <th>78</th>\n",
       "      <td>Mercedes-Benz</td>\n",
       "      <td>61.00</td>\n",
       "      <td>S 350 d</td>\n",
       "      <td>75,000</td>\n",
       "      <td>Diesel</td>\n",
       "      <td>Automatic</td>\n",
       "      <td>2016</td>\n",
       "    </tr>\n",
       "    <tr>\n",
       "      <th>79</th>\n",
       "      <td>Audi</td>\n",
       "      <td>16.00</td>\n",
       "      <td>35 TDI Premium Plus</td>\n",
       "      <td>30,000</td>\n",
       "      <td>Diesel</td>\n",
       "      <td>Automatic</td>\n",
       "      <td>2015</td>\n",
       "    </tr>\n",
       "  </tbody>\n",
       "</table>\n",
       "<p>480 rows × 7 columns</p>\n",
       "</div>"
      ],
      "text/plain": [
       "            Brand  Price                  Model KMS_driven    Fuel    Variant  \\\n",
       "0            Jeep  17.05  1.4 Limited Plus BSIV     32,294  Petrol  Automatic   \n",
       "1           Honda   7.74                 VX CVT     26,580  Petrol  Automatic   \n",
       "2         Hyundai   6.64          Asta 1.4 CRDi     85,483  Diesel     Manual   \n",
       "3            Tata   5.90         XZ Plus Diesel     69,848  Diesel     Manual   \n",
       "4           Honda   7.05                  V CVT     64,554  Petrol  Automatic   \n",
       "..            ...    ...                    ...        ...     ...        ...   \n",
       "75  Mercedes-Benz   1.38                G63 AMG     18,000  Petrol  Automatic   \n",
       "76        Hyundai  11.00    1.6 VTVT AT SX Plus     59,000  Petrol  Automatic   \n",
       "77           Jeep  17.75       1.4 Limited Plus     33,000  Petrol  Automatic   \n",
       "78  Mercedes-Benz  61.00                S 350 d     75,000  Diesel  Automatic   \n",
       "79           Audi  16.00    35 TDI Premium Plus     30,000  Diesel  Automatic   \n",
       "\n",
       "   Manuf_Year  \n",
       "0        2019  \n",
       "1        2018  \n",
       "2        2017  \n",
       "3        2020  \n",
       "4        2018  \n",
       "..        ...  \n",
       "75       2015  \n",
       "76       2017  \n",
       "77       2019  \n",
       "78       2016  \n",
       "79       2015  \n",
       "\n",
       "[480 rows x 7 columns]"
      ]
     },
     "execution_count": 12,
     "metadata": {},
     "output_type": "execute_result"
    }
   ],
   "source": [
    "# Extracting Manufacturing Year from Brand\n",
    "df_uc['Manuf_Year'] = df_uc['Brand'].str.split().str[0]\n",
    "df_uc['Brand'] = df_uc['Brand'].str.split().str[1]\n",
    "df_uc"
   ]
  },
  {
   "cell_type": "code",
   "execution_count": 13,
   "id": "252cbcb8",
   "metadata": {},
   "outputs": [],
   "source": [
    "# Converting object data type columns to float data type\n",
    "df_uc = df_uc.astype({'Price':'float', 'Manuf_Year':'int'})"
   ]
  },
  {
   "cell_type": "code",
   "execution_count": 14,
   "id": "5ca78840",
   "metadata": {},
   "outputs": [
    {
     "data": {
      "text/plain": [
       "Brand          object\n",
       "Price         float64\n",
       "Model          object\n",
       "KMS_driven     object\n",
       "Fuel           object\n",
       "Variant        object\n",
       "Manuf_Year      int32\n",
       "dtype: object"
      ]
     },
     "execution_count": 14,
     "metadata": {},
     "output_type": "execute_result"
    }
   ],
   "source": [
    "df_uc.dtypes"
   ]
  },
  {
   "cell_type": "code",
   "execution_count": 15,
   "id": "093f1ec3",
   "metadata": {},
   "outputs": [
    {
     "data": {
      "text/plain": [
       "Brand         0\n",
       "Price         0\n",
       "Model         0\n",
       "KMS_driven    0\n",
       "Fuel          0\n",
       "Variant       0\n",
       "Manuf_Year    0\n",
       "dtype: int64"
      ]
     },
     "execution_count": 15,
     "metadata": {},
     "output_type": "execute_result"
    }
   ],
   "source": [
    "# Checking null values in the dataset\n",
    "df_uc.isnull().sum()"
   ]
  },
  {
   "cell_type": "code",
   "execution_count": 16,
   "id": "6656c4a6",
   "metadata": {},
   "outputs": [
    {
     "data": {
      "image/png": "[encoded data removed]",
      "text/plain": [
       "<Figure size 432x288 with 2 Axes>"
      ]
     },
     "metadata": {
      "needs_background": "light"
     },
     "output_type": "display_data"
    }
   ],
   "source": [
    "# Visualizing null values in the dataset\n",
    "sns.heatmap(df_uc.isnull())\n",
    "plt.title(\"Null Values in the dataset\")\n",
    "plt.show()"
   ]
  },
  {
   "cell_type": "code",
   "execution_count": 17,
   "id": "40745ef1",
   "metadata": {},
   "outputs": [
    {
     "data": {
      "text/html": [
       "<div>\n",
       "<style scoped>\n",
       "    .dataframe tbody tr th:only-of-type {\n",
       "        vertical-align: middle;\n",
       "    }\n",
       "\n",
       "    .dataframe tbody tr th {\n",
       "        vertical-align: top;\n",
       "    }\n",
       "\n",
       "    .dataframe thead th {\n",
       "        text-align: right;\n",
       "    }\n",
       "</style>\n",
       "<table border=\"1\" class=\"dataframe\">\n",
       "  <thead>\n",
       "    <tr style=\"text-align: right;\">\n",
       "      <th></th>\n",
       "      <th>Price</th>\n",
       "      <th>Manuf_Year</th>\n",
       "    </tr>\n",
       "  </thead>\n",
       "  <tbody>\n",
       "    <tr>\n",
       "      <th>count</th>\n",
       "      <td>480.000000</td>\n",
       "      <td>480.000000</td>\n",
       "    </tr>\n",
       "    <tr>\n",
       "      <th>mean</th>\n",
       "      <td>13.439083</td>\n",
       "      <td>2017.425000</td>\n",
       "    </tr>\n",
       "    <tr>\n",
       "      <th>std</th>\n",
       "      <td>16.874263</td>\n",
       "      <td>2.321408</td>\n",
       "    </tr>\n",
       "    <tr>\n",
       "      <th>min</th>\n",
       "      <td>1.100000</td>\n",
       "      <td>2010.000000</td>\n",
       "    </tr>\n",
       "    <tr>\n",
       "      <th>25%</th>\n",
       "      <td>6.110000</td>\n",
       "      <td>2016.000000</td>\n",
       "    </tr>\n",
       "    <tr>\n",
       "      <th>50%</th>\n",
       "      <td>7.480000</td>\n",
       "      <td>2017.000000</td>\n",
       "    </tr>\n",
       "    <tr>\n",
       "      <th>75%</th>\n",
       "      <td>12.945000</td>\n",
       "      <td>2019.000000</td>\n",
       "    </tr>\n",
       "    <tr>\n",
       "      <th>max</th>\n",
       "      <td>92.000000</td>\n",
       "      <td>2022.000000</td>\n",
       "    </tr>\n",
       "  </tbody>\n",
       "</table>\n",
       "</div>"
      ],
      "text/plain": [
       "            Price   Manuf_Year\n",
       "count  480.000000   480.000000\n",
       "mean    13.439083  2017.425000\n",
       "std     16.874263     2.321408\n",
       "min      1.100000  2010.000000\n",
       "25%      6.110000  2016.000000\n",
       "50%      7.480000  2017.000000\n",
       "75%     12.945000  2019.000000\n",
       "max     92.000000  2022.000000"
      ]
     },
     "execution_count": 17,
     "metadata": {},
     "output_type": "execute_result"
    }
   ],
   "source": [
    "# Checking description of data in the dataset\n",
    "df_uc.describe()"
   ]
  },
  {
   "cell_type": "code",
   "execution_count": 18,
   "id": "24e73a59",
   "metadata": {},
   "outputs": [
    {
     "data": {
      "text/html": [
       "<div>\n",
       "<style scoped>\n",
       "    .dataframe tbody tr th:only-of-type {\n",
       "        vertical-align: middle;\n",
       "    }\n",
       "\n",
       "    .dataframe tbody tr th {\n",
       "        vertical-align: top;\n",
       "    }\n",
       "\n",
       "    .dataframe thead th {\n",
       "        text-align: right;\n",
       "    }\n",
       "</style>\n",
       "<table border=\"1\" class=\"dataframe\">\n",
       "  <thead>\n",
       "    <tr style=\"text-align: right;\">\n",
       "      <th></th>\n",
       "      <th>Brand</th>\n",
       "      <th>Price</th>\n",
       "      <th>Model</th>\n",
       "      <th>KMS_driven</th>\n",
       "      <th>Fuel</th>\n",
       "      <th>Variant</th>\n",
       "      <th>Manuf_Year</th>\n",
       "    </tr>\n",
       "  </thead>\n",
       "  <tbody>\n",
       "  </tbody>\n",
       "</table>\n",
       "</div>"
      ],
      "text/plain": [
       "Empty DataFrame\n",
       "Columns: [Brand, Price, Model, KMS_driven, Fuel, Variant, Manuf_Year]\n",
       "Index: []"
      ]
     },
     "execution_count": 18,
     "metadata": {},
     "output_type": "execute_result"
    }
   ],
   "source": [
    "#Checking for empty observations in target column\n",
    "df_uc.loc[df_uc['Price'] == \" \"]"
   ]
  },
  {
   "cell_type": "code",
   "execution_count": 19,
   "id": "4076ad6e",
   "metadata": {},
   "outputs": [
    {
     "data": {
      "image/png": "[encoded data removed]",
      "text/plain": [
       "<Figure size 1440x576 with 1 Axes>"
      ]
     },
     "metadata": {
      "needs_background": "light"
     },
     "output_type": "display_data"
    }
   ],
   "source": [
    "plt.figure(figsize=(20,8))\n",
    "sns.countplot(df_uc[\"Brand\"])\n",
    "plt.title(\"Count of different Car Brands\")\n",
    "plt.xticks(rotation=90)\n",
    "plt.show()"
   ]
  },
  {
   "cell_type": "code",
   "execution_count": 20,
   "id": "ce6d1918",
   "metadata": {},
   "outputs": [
    {
     "data": {
      "image/png": "[encoded data removed]",
      "text/plain": [
       "<Figure size 576x360 with 1 Axes>"
      ]
     },
     "metadata": {
      "needs_background": "light"
     },
     "output_type": "display_data"
    }
   ],
   "source": [
    "plt.figure(figsize=(8,5))\n",
    "sns.countplot(df_uc[\"Fuel\"],palette='bone')\n",
    "plt.title(\"Count of different Fuels\")\n",
    "plt.show()"
   ]
  },
  {
   "cell_type": "code",
   "execution_count": 21,
   "id": "75c4a24b",
   "metadata": {},
   "outputs": [
    {
     "name": "stdout",
     "output_type": "stream",
     "text": [
      "Manual       272\n",
      "Automatic    208\n",
      "Name: Variant, dtype: int64\n"
     ]
    },
    {
     "data": {
      "text/plain": [
       "<AxesSubplot:ylabel='Variant'>"
      ]
     },
     "execution_count": 21,
     "metadata": {},
     "output_type": "execute_result"
    },
    {
     "data": {
      "image/png": "[encoded data removed]",
      "text/plain": [
       "<Figure size 720x360 with 1 Axes>"
      ]
     },
     "metadata": {},
     "output_type": "display_data"
    }
   ],
   "source": [
    "plt.figure(figsize=(10,5))\n",
    "print(df_uc['Variant'].value_counts())\n",
    "df_uc['Variant'].value_counts().plot.pie(autopct='%1.1f%%')"
   ]
  },
  {
   "cell_type": "code",
   "execution_count": 22,
   "id": "844c8298",
   "metadata": {},
   "outputs": [
    {
     "data": {
      "image/png": "[encoded data removed]",
      "text/plain": [
       "<Figure size 2880x720 with 1 Axes>"
      ]
     },
     "metadata": {
      "needs_background": "light"
     },
     "output_type": "display_data"
    }
   ],
   "source": [
    "plt.figure(figsize=[40,10])\n",
    "sns.countplot(df_uc['Model'])\n",
    "plt.title(\"Count of different Models\")\n",
    "plt.xticks(rotation=90)\n",
    "plt.show()"
   ]
  },
  {
   "cell_type": "code",
   "execution_count": 23,
   "id": "1bf9a2a4",
   "metadata": {},
   "outputs": [
    {
     "data": {
      "image/png": "[encoded data removed]",
      "text/plain": [
       "<Figure size 1728x720 with 1 Axes>"
      ]
     },
     "metadata": {
      "needs_background": "light"
     },
     "output_type": "display_data"
    }
   ],
   "source": [
    "plt.figure(figsize=[24,10])\n",
    "sns.countplot(df_uc['Manuf_Year'],palette='viridis')\n",
    "plt.title(\"Count of different Manufacturing Years\")\n",
    "plt.xticks(rotation=90)\n",
    "plt.show()"
   ]
  },
  {
   "cell_type": "code",
   "execution_count": 24,
   "id": "e6cccb44",
   "metadata": {},
   "outputs": [
    {
     "data": {
      "image/png": "[encoded data removed]",
      "text/plain": [
       "<Figure size 720x576 with 1 Axes>"
      ]
     },
     "metadata": {
      "needs_background": "light"
     },
     "output_type": "display_data"
    }
   ],
   "source": [
    "plt.figure(figsize=(10,8))\n",
    "sns.distplot(df_uc[\"Price\"],bins=10,color='green')\n",
    "plt.show()"
   ]
  },
  {
   "cell_type": "code",
   "execution_count": 25,
   "id": "f75dd198",
   "metadata": {},
   "outputs": [
    {
     "data": {
      "image/png": "[encoded data removed]",
      "text/plain": [
       "<Figure size 1440x504 with 1 Axes>"
      ]
     },
     "metadata": {
      "needs_background": "light"
     },
     "output_type": "display_data"
    }
   ],
   "source": [
    "plt.figure(figsize=(20,7))\n",
    "sns.barplot(x='Brand',y='Price',data=df_uc,palette='mako')\n",
    "plt.xticks(rotation=90)\n",
    "plt.show();"
   ]
  },
  {
   "cell_type": "code",
   "execution_count": 26,
   "id": "38388557",
   "metadata": {},
   "outputs": [
    {
     "data": {
      "image/png": "[encoded data removed]",
      "text/plain": [
       "<Figure size 360x360 with 1 Axes>"
      ]
     },
     "metadata": {
      "needs_background": "light"
     },
     "output_type": "display_data"
    }
   ],
   "source": [
    "plt.figure(figsize=(5,5))\n",
    "sns.barplot(x='Fuel',y='Price',data=df_uc,palette='rocket')\n",
    "plt.show();"
   ]
  },
  {
   "cell_type": "code",
   "execution_count": 27,
   "id": "e678b3d6",
   "metadata": {},
   "outputs": [
    {
     "data": {
      "image/png": "[encoded data removed]",
      "text/plain": [
       "<Figure size 288x288 with 1 Axes>"
      ]
     },
     "metadata": {
      "needs_background": "light"
     },
     "output_type": "display_data"
    }
   ],
   "source": [
    "plt.figure(figsize=(4,4))\n",
    "sns.barplot(x='Variant',y='Price',data=df_uc,palette='winter')\n",
    "plt.show();"
   ]
  },
  {
   "cell_type": "code",
   "execution_count": 28,
   "id": "fe1bccac",
   "metadata": {},
   "outputs": [
    {
     "data": {
      "image/png": "[encoded data removed]",
      "text/plain": [
       "<Figure size 576x432 with 1 Axes>"
      ]
     },
     "metadata": {
      "needs_background": "light"
     },
     "output_type": "display_data"
    }
   ],
   "source": [
    "plt.figure(figsize=[8,6])\n",
    "plt.title('Comparision between KMS_driven and Brand')\n",
    "sns.scatterplot(df_uc['KMS_driven'],df_uc['Brand'],hue=df_uc['Price'],palette=\"hot\");"
   ]
  },
  {
   "cell_type": "code",
   "execution_count": 29,
   "id": "289ab386",
   "metadata": {},
   "outputs": [
    {
     "data": {
      "image/png": "[encoded data removed]",
      "text/plain": [
       "<Figure size 576x432 with 1 Axes>"
      ]
     },
     "metadata": {
      "needs_background": "light"
     },
     "output_type": "display_data"
    }
   ],
   "source": [
    "plt.figure(figsize=[8,6])\n",
    "plt.title('Comparision between KMS_driven and Model')\n",
    "sns.scatterplot(df_uc['KMS_driven'],df_uc['Model'],hue=df_uc['Price'],palette=\"bone\");"
   ]
  },
  {
   "cell_type": "code",
   "execution_count": 30,
   "id": "0007373b",
   "metadata": {},
   "outputs": [
    {
     "data": {
      "image/png": "[encoded data removed]",
      "text/plain": [
       "<Figure size 576x432 with 1 Axes>"
      ]
     },
     "metadata": {
      "needs_background": "light"
     },
     "output_type": "display_data"
    }
   ],
   "source": [
    "plt.figure(figsize=[8,6])\n",
    "plt.title('Comparision between KMS_driven and Manuf_Year')\n",
    "sns.scatterplot(df_uc['KMS_driven'],df_uc['Manuf_Year'],hue=df_uc['Price'],palette=\"cool\");"
   ]
  },
  {
   "cell_type": "code",
   "execution_count": 35,
   "id": "216994d9",
   "metadata": {},
   "outputs": [
    {
     "data": {
      "image/png": "[encoded data removed]",
      "text/plain": [
       "<Figure size 1296x864 with 66 Axes>"
      ]
     },
     "metadata": {
      "needs_background": "light"
     },
     "output_type": "display_data"
    }
   ],
   "source": [
    "df_uc.plot(kind='density', subplots=True, layout=(6,11), sharex=False, legend=False, fontsize=1, figsize=(18,12))\n",
    "plt.show()"
   ]
  },
  {
   "cell_type": "code",
   "execution_count": 37,
   "id": "5d778d03",
   "metadata": {},
   "outputs": [
    {
     "data": {
      "text/html": [
       "<div>\n",
       "<style scoped>\n",
       "    .dataframe tbody tr th:only-of-type {\n",
       "        vertical-align: middle;\n",
       "    }\n",
       "\n",
       "    .dataframe tbody tr th {\n",
       "        vertical-align: top;\n",
       "    }\n",
       "\n",
       "    .dataframe thead th {\n",
       "        text-align: right;\n",
       "    }\n",
       "</style>\n",
       "<table border=\"1\" class=\"dataframe\">\n",
       "  <thead>\n",
       "    <tr style=\"text-align: right;\">\n",
       "      <th></th>\n",
       "      <th>Price</th>\n",
       "      <th>Manuf_Year</th>\n",
       "    </tr>\n",
       "  </thead>\n",
       "  <tbody>\n",
       "    <tr>\n",
       "      <th>Price</th>\n",
       "      <td>1.000000</td>\n",
       "      <td>0.231514</td>\n",
       "    </tr>\n",
       "    <tr>\n",
       "      <th>Manuf_Year</th>\n",
       "      <td>0.231514</td>\n",
       "      <td>1.000000</td>\n",
       "    </tr>\n",
       "  </tbody>\n",
       "</table>\n",
       "</div>"
      ],
      "text/plain": [
       "               Price  Manuf_Year\n",
       "Price       1.000000    0.231514\n",
       "Manuf_Year  0.231514    1.000000"
      ]
     },
     "execution_count": 37,
     "metadata": {},
     "output_type": "execute_result"
    }
   ],
   "source": [
    "#c_trainhecking the correlation with target columns\n",
    "df_uc.corr()"
   ]
  },
  {
   "cell_type": "code",
   "execution_count": 40,
   "id": "de4b20a6",
   "metadata": {},
   "outputs": [
    {
     "data": {
      "text/plain": [
       "Index(['Brand', 'Price', 'Model', 'KMS_driven', 'Fuel', 'Variant',\n",
       "       'Manuf_Year'],\n",
       "      dtype='object')"
      ]
     },
     "execution_count": 40,
     "metadata": {},
     "output_type": "execute_result"
    }
   ],
   "source": [
    "df_uc.columns"
   ]
  },
  {
   "cell_type": "code",
   "execution_count": 41,
   "id": "ddcf4939",
   "metadata": {},
   "outputs": [
    {
     "data": {
      "text/plain": [
       "Brand          object\n",
       "Price         float64\n",
       "Model          object\n",
       "KMS_driven     object\n",
       "Fuel           object\n",
       "Variant        object\n",
       "Manuf_Year      int32\n",
       "dtype: object"
      ]
     },
     "execution_count": 41,
     "metadata": {},
     "output_type": "execute_result"
    }
   ],
   "source": [
    "df_uc.dtypes"
   ]
  },
  {
   "cell_type": "code",
   "execution_count": 42,
   "id": "89a67ff1",
   "metadata": {},
   "outputs": [],
   "source": [
    "from sklearn.preprocessing import LabelEncoder\n",
    "le=LabelEncoder()"
   ]
  },
  {
   "cell_type": "code",
   "execution_count": 43,
   "id": "eb8e71a9",
   "metadata": {},
   "outputs": [],
   "source": [
    "df_uc['Brand'] = le.fit_transform(df_uc['Brand'])\n",
    "df_uc['Model'] = le.fit_transform(df_uc['Model'])\n",
    "df_uc['KMS_driven'] = le.fit_transform(df_uc['KMS_driven'])\n",
    "df_uc['Fuel'] = le.fit_transform(df_uc['Fuel'])\n",
    "df_uc['Variant'] = le.fit_transform(df_uc['Variant'])"
   ]
  },
  {
   "cell_type": "code",
   "execution_count": 44,
   "id": "79b9a4c1",
   "metadata": {},
   "outputs": [
    {
     "data": {
      "text/html": [
       "<div>\n",
       "<style scoped>\n",
       "    .dataframe tbody tr th:only-of-type {\n",
       "        vertical-align: middle;\n",
       "    }\n",
       "\n",
       "    .dataframe tbody tr th {\n",
       "        vertical-align: top;\n",
       "    }\n",
       "\n",
       "    .dataframe thead th {\n",
       "        text-align: right;\n",
       "    }\n",
       "</style>\n",
       "<table border=\"1\" class=\"dataframe\">\n",
       "  <thead>\n",
       "    <tr style=\"text-align: right;\">\n",
       "      <th></th>\n",
       "      <th>Brand</th>\n",
       "      <th>Price</th>\n",
       "      <th>Model</th>\n",
       "      <th>KMS_driven</th>\n",
       "      <th>Fuel</th>\n",
       "      <th>Variant</th>\n",
       "      <th>Manuf_Year</th>\n",
       "    </tr>\n",
       "  </thead>\n",
       "  <tbody>\n",
       "    <tr>\n",
       "      <th>0</th>\n",
       "      <td>7</td>\n",
       "      <td>17.05</td>\n",
       "      <td>14</td>\n",
       "      <td>41</td>\n",
       "      <td>1</td>\n",
       "      <td>0</td>\n",
       "      <td>2019</td>\n",
       "    </tr>\n",
       "    <tr>\n",
       "      <th>1</th>\n",
       "      <td>4</td>\n",
       "      <td>7.74</td>\n",
       "      <td>73</td>\n",
       "      <td>27</td>\n",
       "      <td>1</td>\n",
       "      <td>0</td>\n",
       "      <td>2018</td>\n",
       "    </tr>\n",
       "    <tr>\n",
       "      <th>2</th>\n",
       "      <td>5</td>\n",
       "      <td>6.64</td>\n",
       "      <td>38</td>\n",
       "      <td>92</td>\n",
       "      <td>0</td>\n",
       "      <td>1</td>\n",
       "      <td>2017</td>\n",
       "    </tr>\n",
       "    <tr>\n",
       "      <th>3</th>\n",
       "      <td>17</td>\n",
       "      <td>5.90</td>\n",
       "      <td>81</td>\n",
       "      <td>82</td>\n",
       "      <td>0</td>\n",
       "      <td>1</td>\n",
       "      <td>2020</td>\n",
       "    </tr>\n",
       "    <tr>\n",
       "      <th>4</th>\n",
       "      <td>4</td>\n",
       "      <td>7.05</td>\n",
       "      <td>70</td>\n",
       "      <td>81</td>\n",
       "      <td>1</td>\n",
       "      <td>0</td>\n",
       "      <td>2018</td>\n",
       "    </tr>\n",
       "    <tr>\n",
       "      <th>...</th>\n",
       "      <td>...</td>\n",
       "      <td>...</td>\n",
       "      <td>...</td>\n",
       "      <td>...</td>\n",
       "      <td>...</td>\n",
       "      <td>...</td>\n",
       "      <td>...</td>\n",
       "    </tr>\n",
       "    <tr>\n",
       "      <th>75</th>\n",
       "      <td>13</td>\n",
       "      <td>1.38</td>\n",
       "      <td>44</td>\n",
       "      <td>14</td>\n",
       "      <td>1</td>\n",
       "      <td>0</td>\n",
       "      <td>2015</td>\n",
       "    </tr>\n",
       "    <tr>\n",
       "      <th>76</th>\n",
       "      <td>5</td>\n",
       "      <td>11.00</td>\n",
       "      <td>18</td>\n",
       "      <td>72</td>\n",
       "      <td>1</td>\n",
       "      <td>0</td>\n",
       "      <td>2017</td>\n",
       "    </tr>\n",
       "    <tr>\n",
       "      <th>77</th>\n",
       "      <td>7</td>\n",
       "      <td>17.75</td>\n",
       "      <td>13</td>\n",
       "      <td>42</td>\n",
       "      <td>1</td>\n",
       "      <td>0</td>\n",
       "      <td>2019</td>\n",
       "    </tr>\n",
       "    <tr>\n",
       "      <th>78</th>\n",
       "      <td>13</td>\n",
       "      <td>61.00</td>\n",
       "      <td>60</td>\n",
       "      <td>85</td>\n",
       "      <td>0</td>\n",
       "      <td>0</td>\n",
       "      <td>2016</td>\n",
       "    </tr>\n",
       "    <tr>\n",
       "      <th>79</th>\n",
       "      <td>0</td>\n",
       "      <td>16.00</td>\n",
       "      <td>29</td>\n",
       "      <td>38</td>\n",
       "      <td>0</td>\n",
       "      <td>0</td>\n",
       "      <td>2015</td>\n",
       "    </tr>\n",
       "  </tbody>\n",
       "</table>\n",
       "<p>480 rows × 7 columns</p>\n",
       "</div>"
      ],
      "text/plain": [
       "    Brand  Price  Model  KMS_driven  Fuel  Variant  Manuf_Year\n",
       "0       7  17.05     14          41     1        0        2019\n",
       "1       4   7.74     73          27     1        0        2018\n",
       "2       5   6.64     38          92     0        1        2017\n",
       "3      17   5.90     81          82     0        1        2020\n",
       "4       4   7.05     70          81     1        0        2018\n",
       "..    ...    ...    ...         ...   ...      ...         ...\n",
       "75     13   1.38     44          14     1        0        2015\n",
       "76      5  11.00     18          72     1        0        2017\n",
       "77      7  17.75     13          42     1        0        2019\n",
       "78     13  61.00     60          85     0        0        2016\n",
       "79      0  16.00     29          38     0        0        2015\n",
       "\n",
       "[480 rows x 7 columns]"
      ]
     },
     "execution_count": 44,
     "metadata": {},
     "output_type": "execute_result"
    }
   ],
   "source": [
    "df_uc"
   ]
  },
  {
   "cell_type": "code",
   "execution_count": 45,
   "id": "c61a33d3",
   "metadata": {},
   "outputs": [
    {
     "data": {
      "image/png": "[encoded data removed]",
      "text/plain": [
       "<Figure size 432x288 with 1 Axes>"
      ]
     },
     "metadata": {
      "needs_background": "light"
     },
     "output_type": "display_data"
    },
    {
     "data": {
      "image/png": "[encoded data removed]",
      "text/plain": [
       "<Figure size 432x288 with 1 Axes>"
      ]
     },
     "metadata": {
      "needs_background": "light"
     },
     "output_type": "display_data"
    },
    {
     "data": {
      "image/png": "[encoded data removed]",
      "text/plain": [
       "<Figure size 432x288 with 1 Axes>"
      ]
     },
     "metadata": {
      "needs_background": "light"
     },
     "output_type": "display_data"
    },
    {
     "data": {
      "image/png": "[encoded data removed]",
      "text/plain": [
       "<Figure size 432x288 with 1 Axes>"
      ]
     },
     "metadata": {
      "needs_background": "light"
     },
     "output_type": "display_data"
    },
    {
     "data": {
      "image/png": "[encoded data removed]",
      "text/plain": [
       "<Figure size 432x288 with 1 Axes>"
      ]
     },
     "metadata": {
      "needs_background": "light"
     },
     "output_type": "display_data"
    },
    {
     "data": {
      "image/png": "[encoded data removed]",
      "text/plain": [
       "<Figure size 432x288 with 1 Axes>"
      ]
     },
     "metadata": {
      "needs_background": "light"
     },
     "output_type": "display_data"
    },
    {
     "data": {
      "image/png": "[encoded data removed]",
      "text/plain": [
       "<Figure size 432x288 with 1 Axes>"
      ]
     },
     "metadata": {
      "needs_background": "light"
     },
     "output_type": "display_data"
    }
   ],
   "source": [
    "for i in df_uc.columns:\n",
    "    sns.boxplot(df_uc[i])\n",
    "    plt.show()"
   ]
  },
  {
   "cell_type": "markdown",
   "id": "34d4e844",
   "metadata": {},
   "source": [
    "# Removing Outliers"
   ]
  },
  {
   "cell_type": "code",
   "execution_count": 46,
   "id": "f67d4f79",
   "metadata": {},
   "outputs": [],
   "source": [
    "df_outliers=df_uc[[\"Brand\", \"Variant\", \"Manuf_Year\"]]"
   ]
  },
  {
   "cell_type": "code",
   "execution_count": 47,
   "id": "286fa658",
   "metadata": {},
   "outputs": [
    {
     "data": {
      "text/html": [
       "<div>\n",
       "<style scoped>\n",
       "    .dataframe tbody tr th:only-of-type {\n",
       "        vertical-align: middle;\n",
       "    }\n",
       "\n",
       "    .dataframe tbody tr th {\n",
       "        vertical-align: top;\n",
       "    }\n",
       "\n",
       "    .dataframe thead th {\n",
       "        text-align: right;\n",
       "    }\n",
       "</style>\n",
       "<table border=\"1\" class=\"dataframe\">\n",
       "  <thead>\n",
       "    <tr style=\"text-align: right;\">\n",
       "      <th></th>\n",
       "      <th>Brand</th>\n",
       "      <th>Price</th>\n",
       "      <th>Model</th>\n",
       "      <th>KMS_driven</th>\n",
       "      <th>Fuel</th>\n",
       "      <th>Variant</th>\n",
       "      <th>Manuf_Year</th>\n",
       "    </tr>\n",
       "  </thead>\n",
       "  <tbody>\n",
       "    <tr>\n",
       "      <th>0</th>\n",
       "      <td>7</td>\n",
       "      <td>17.05</td>\n",
       "      <td>14</td>\n",
       "      <td>41</td>\n",
       "      <td>1</td>\n",
       "      <td>0</td>\n",
       "      <td>2019</td>\n",
       "    </tr>\n",
       "    <tr>\n",
       "      <th>1</th>\n",
       "      <td>4</td>\n",
       "      <td>7.74</td>\n",
       "      <td>73</td>\n",
       "      <td>27</td>\n",
       "      <td>1</td>\n",
       "      <td>0</td>\n",
       "      <td>2018</td>\n",
       "    </tr>\n",
       "    <tr>\n",
       "      <th>2</th>\n",
       "      <td>5</td>\n",
       "      <td>6.64</td>\n",
       "      <td>38</td>\n",
       "      <td>92</td>\n",
       "      <td>0</td>\n",
       "      <td>1</td>\n",
       "      <td>2017</td>\n",
       "    </tr>\n",
       "    <tr>\n",
       "      <th>3</th>\n",
       "      <td>17</td>\n",
       "      <td>5.90</td>\n",
       "      <td>81</td>\n",
       "      <td>82</td>\n",
       "      <td>0</td>\n",
       "      <td>1</td>\n",
       "      <td>2020</td>\n",
       "    </tr>\n",
       "    <tr>\n",
       "      <th>4</th>\n",
       "      <td>4</td>\n",
       "      <td>7.05</td>\n",
       "      <td>70</td>\n",
       "      <td>81</td>\n",
       "      <td>1</td>\n",
       "      <td>0</td>\n",
       "      <td>2018</td>\n",
       "    </tr>\n",
       "    <tr>\n",
       "      <th>...</th>\n",
       "      <td>...</td>\n",
       "      <td>...</td>\n",
       "      <td>...</td>\n",
       "      <td>...</td>\n",
       "      <td>...</td>\n",
       "      <td>...</td>\n",
       "      <td>...</td>\n",
       "    </tr>\n",
       "    <tr>\n",
       "      <th>75</th>\n",
       "      <td>13</td>\n",
       "      <td>1.38</td>\n",
       "      <td>44</td>\n",
       "      <td>14</td>\n",
       "      <td>1</td>\n",
       "      <td>0</td>\n",
       "      <td>2015</td>\n",
       "    </tr>\n",
       "    <tr>\n",
       "      <th>76</th>\n",
       "      <td>5</td>\n",
       "      <td>11.00</td>\n",
       "      <td>18</td>\n",
       "      <td>72</td>\n",
       "      <td>1</td>\n",
       "      <td>0</td>\n",
       "      <td>2017</td>\n",
       "    </tr>\n",
       "    <tr>\n",
       "      <th>77</th>\n",
       "      <td>7</td>\n",
       "      <td>17.75</td>\n",
       "      <td>13</td>\n",
       "      <td>42</td>\n",
       "      <td>1</td>\n",
       "      <td>0</td>\n",
       "      <td>2019</td>\n",
       "    </tr>\n",
       "    <tr>\n",
       "      <th>78</th>\n",
       "      <td>13</td>\n",
       "      <td>61.00</td>\n",
       "      <td>60</td>\n",
       "      <td>85</td>\n",
       "      <td>0</td>\n",
       "      <td>0</td>\n",
       "      <td>2016</td>\n",
       "    </tr>\n",
       "    <tr>\n",
       "      <th>79</th>\n",
       "      <td>0</td>\n",
       "      <td>16.00</td>\n",
       "      <td>29</td>\n",
       "      <td>38</td>\n",
       "      <td>0</td>\n",
       "      <td>0</td>\n",
       "      <td>2015</td>\n",
       "    </tr>\n",
       "  </tbody>\n",
       "</table>\n",
       "<p>476 rows × 7 columns</p>\n",
       "</div>"
      ],
      "text/plain": [
       "    Brand  Price  Model  KMS_driven  Fuel  Variant  Manuf_Year\n",
       "0       7  17.05     14          41     1        0        2019\n",
       "1       4   7.74     73          27     1        0        2018\n",
       "2       5   6.64     38          92     0        1        2017\n",
       "3      17   5.90     81          82     0        1        2020\n",
       "4       4   7.05     70          81     1        0        2018\n",
       "..    ...    ...    ...         ...   ...      ...         ...\n",
       "75     13   1.38     44          14     1        0        2015\n",
       "76      5  11.00     18          72     1        0        2017\n",
       "77      7  17.75     13          42     1        0        2019\n",
       "78     13  61.00     60          85     0        0        2016\n",
       "79      0  16.00     29          38     0        0        2015\n",
       "\n",
       "[476 rows x 7 columns]"
      ]
     },
     "execution_count": 47,
     "metadata": {},
     "output_type": "execute_result"
    }
   ],
   "source": [
    "from scipy.stats import zscore\n",
    "\n",
    "z=np.abs(zscore(df_outliers))\n",
    "df_usedcars=df_uc[(z<3).all(axis=1)]\n",
    "df_usedcars"
   ]
  },
  {
   "cell_type": "code",
   "execution_count": 48,
   "id": "402c4b5b",
   "metadata": {},
   "outputs": [
    {
     "data": {
      "text/plain": [
       "(476, 7)"
      ]
     },
     "execution_count": 48,
     "metadata": {},
     "output_type": "execute_result"
    }
   ],
   "source": [
    "df_usedcars.shape"
   ]
  },
  {
   "cell_type": "code",
   "execution_count": 49,
   "id": "72be1027",
   "metadata": {},
   "outputs": [
    {
     "data": {
      "text/plain": [
       "(480, 7)"
      ]
     },
     "execution_count": 49,
     "metadata": {},
     "output_type": "execute_result"
    }
   ],
   "source": [
    "df_uc.shape"
   ]
  },
  {
   "cell_type": "code",
   "execution_count": 50,
   "id": "4392ee09",
   "metadata": {},
   "outputs": [
    {
     "data": {
      "text/plain": [
       "0.5555555555555556"
      ]
     },
     "execution_count": 50,
     "metadata": {},
     "output_type": "execute_result"
    }
   ],
   "source": [
    "Data_loss=((2880-2864)/2880)*100\n",
    "Data_loss"
   ]
  },
  {
   "cell_type": "markdown",
   "id": "580eb78d",
   "metadata": {},
   "source": [
    "# Skewness"
   ]
  },
  {
   "cell_type": "code",
   "execution_count": 51,
   "id": "6c97d44a",
   "metadata": {},
   "outputs": [
    {
     "data": {
      "text/plain": [
       "Brand         0.031942\n",
       "Price         2.943530\n",
       "Model        -0.001042\n",
       "KMS_driven    0.010591\n",
       "Fuel         -1.045683\n",
       "Variant      -0.254932\n",
       "Manuf_Year   -0.134543\n",
       "dtype: float64"
      ]
     },
     "execution_count": 51,
     "metadata": {},
     "output_type": "execute_result"
    }
   ],
   "source": [
    "df_usedcars.skew()"
   ]
  },
  {
   "cell_type": "code",
   "execution_count": 52,
   "id": "f57b5fd8",
   "metadata": {},
   "outputs": [],
   "source": [
    "df_skew=['Fuel','Variant']"
   ]
  },
  {
   "cell_type": "code",
   "execution_count": 53,
   "id": "e04ea08e",
   "metadata": {},
   "outputs": [
    {
     "data": {
      "text/plain": [
       "\"\\nparameters:\\nmethod = 'box_cox' or 'yeo-johnson'\\n\""
      ]
     },
     "execution_count": 53,
     "metadata": {},
     "output_type": "execute_result"
    }
   ],
   "source": [
    "from sklearn.preprocessing import PowerTransformer\n",
    "scaler = PowerTransformer(method='yeo-johnson')\n",
    "'''\n",
    "parameters:\n",
    "method = 'box_cox' or 'yeo-johnson'\n",
    "'''"
   ]
  },
  {
   "cell_type": "code",
   "execution_count": 54,
   "id": "7c66ceaa",
   "metadata": {},
   "outputs": [],
   "source": [
    "df_usedcars[df_skew] = scaler.fit_transform(df_usedcars[df_skew].values)"
   ]
  },
  {
   "cell_type": "code",
   "execution_count": 55,
   "id": "66adfbe6",
   "metadata": {},
   "outputs": [
    {
     "data": {
      "text/plain": [
       "Fuel      -1.045683\n",
       "Variant   -0.254932\n",
       "dtype: float64"
      ]
     },
     "execution_count": 55,
     "metadata": {},
     "output_type": "execute_result"
    }
   ],
   "source": [
    "df_usedcars[df_skew].skew()"
   ]
  },
  {
   "cell_type": "markdown",
   "id": "78ad3bfe",
   "metadata": {},
   "source": [
    "# Correlation"
   ]
  },
  {
   "cell_type": "code",
   "execution_count": 56,
   "id": "49d78cdd",
   "metadata": {},
   "outputs": [
    {
     "data": {
      "text/html": [
       "<div>\n",
       "<style scoped>\n",
       "    .dataframe tbody tr th:only-of-type {\n",
       "        vertical-align: middle;\n",
       "    }\n",
       "\n",
       "    .dataframe tbody tr th {\n",
       "        vertical-align: top;\n",
       "    }\n",
       "\n",
       "    .dataframe thead th {\n",
       "        text-align: right;\n",
       "    }\n",
       "</style>\n",
       "<table border=\"1\" class=\"dataframe\">\n",
       "  <thead>\n",
       "    <tr style=\"text-align: right;\">\n",
       "      <th></th>\n",
       "      <th>Brand</th>\n",
       "      <th>Price</th>\n",
       "      <th>Model</th>\n",
       "      <th>KMS_driven</th>\n",
       "      <th>Fuel</th>\n",
       "      <th>Variant</th>\n",
       "      <th>Manuf_Year</th>\n",
       "    </tr>\n",
       "  </thead>\n",
       "  <tbody>\n",
       "    <tr>\n",
       "      <th>Brand</th>\n",
       "      <td>1.000000</td>\n",
       "      <td>0.140255</td>\n",
       "      <td>-0.038273</td>\n",
       "      <td>-0.205882</td>\n",
       "      <td>-0.090310</td>\n",
       "      <td>0.146192</td>\n",
       "      <td>0.408741</td>\n",
       "    </tr>\n",
       "    <tr>\n",
       "      <th>Price</th>\n",
       "      <td>0.140255</td>\n",
       "      <td>1.000000</td>\n",
       "      <td>-0.002299</td>\n",
       "      <td>0.112026</td>\n",
       "      <td>-0.355079</td>\n",
       "      <td>-0.378793</td>\n",
       "      <td>0.224873</td>\n",
       "    </tr>\n",
       "    <tr>\n",
       "      <th>Model</th>\n",
       "      <td>-0.038273</td>\n",
       "      <td>-0.002299</td>\n",
       "      <td>1.000000</td>\n",
       "      <td>0.167925</td>\n",
       "      <td>0.101386</td>\n",
       "      <td>0.016333</td>\n",
       "      <td>0.002212</td>\n",
       "    </tr>\n",
       "    <tr>\n",
       "      <th>KMS_driven</th>\n",
       "      <td>-0.205882</td>\n",
       "      <td>0.112026</td>\n",
       "      <td>0.167925</td>\n",
       "      <td>1.000000</td>\n",
       "      <td>-0.106364</td>\n",
       "      <td>-0.065447</td>\n",
       "      <td>-0.400652</td>\n",
       "    </tr>\n",
       "    <tr>\n",
       "      <th>Fuel</th>\n",
       "      <td>-0.090310</td>\n",
       "      <td>-0.355079</td>\n",
       "      <td>0.101386</td>\n",
       "      <td>-0.106364</td>\n",
       "      <td>1.000000</td>\n",
       "      <td>0.077062</td>\n",
       "      <td>0.175351</td>\n",
       "    </tr>\n",
       "    <tr>\n",
       "      <th>Variant</th>\n",
       "      <td>0.146192</td>\n",
       "      <td>-0.378793</td>\n",
       "      <td>0.016333</td>\n",
       "      <td>-0.065447</td>\n",
       "      <td>0.077062</td>\n",
       "      <td>1.000000</td>\n",
       "      <td>0.025453</td>\n",
       "    </tr>\n",
       "    <tr>\n",
       "      <th>Manuf_Year</th>\n",
       "      <td>0.408741</td>\n",
       "      <td>0.224873</td>\n",
       "      <td>0.002212</td>\n",
       "      <td>-0.400652</td>\n",
       "      <td>0.175351</td>\n",
       "      <td>0.025453</td>\n",
       "      <td>1.000000</td>\n",
       "    </tr>\n",
       "  </tbody>\n",
       "</table>\n",
       "</div>"
      ],
      "text/plain": [
       "               Brand     Price     Model  KMS_driven      Fuel   Variant  \\\n",
       "Brand       1.000000  0.140255 -0.038273   -0.205882 -0.090310  0.146192   \n",
       "Price       0.140255  1.000000 -0.002299    0.112026 -0.355079 -0.378793   \n",
       "Model      -0.038273 -0.002299  1.000000    0.167925  0.101386  0.016333   \n",
       "KMS_driven -0.205882  0.112026  0.167925    1.000000 -0.106364 -0.065447   \n",
       "Fuel       -0.090310 -0.355079  0.101386   -0.106364  1.000000  0.077062   \n",
       "Variant     0.146192 -0.378793  0.016333   -0.065447  0.077062  1.000000   \n",
       "Manuf_Year  0.408741  0.224873  0.002212   -0.400652  0.175351  0.025453   \n",
       "\n",
       "            Manuf_Year  \n",
       "Brand         0.408741  \n",
       "Price         0.224873  \n",
       "Model         0.002212  \n",
       "KMS_driven   -0.400652  \n",
       "Fuel          0.175351  \n",
       "Variant       0.025453  \n",
       "Manuf_Year    1.000000  "
      ]
     },
     "execution_count": 56,
     "metadata": {},
     "output_type": "execute_result"
    }
   ],
   "source": [
    "# Correlation of dataset\n",
    "df_usedcars.corr()"
   ]
  },
  {
   "cell_type": "code",
   "execution_count": 57,
   "id": "a96ef2c7",
   "metadata": {},
   "outputs": [
    {
     "data": {
      "image/png": "[encoded data removed]",
      "text/plain": [
       "<Figure size 1296x1296 with 2 Axes>"
      ]
     },
     "metadata": {
      "needs_background": "light"
     },
     "output_type": "display_data"
    }
   ],
   "source": [
    "# Finding correlation between Independent and dependent attributes\n",
    "plt.figure(figsize = (18,18))\n",
    "sns.heatmap(df_uc.corr(), annot = True, linewidths=1,linecolor='black',fmt=' .2f' )\n",
    "plt.show()"
   ]
  },
  {
   "cell_type": "code",
   "execution_count": 58,
   "id": "8c38ba51",
   "metadata": {},
   "outputs": [
    {
     "data": {
      "image/png": "[encoded data removed]",
      "text/plain": [
       "<Figure size 1440x1440 with 1 Axes>"
      ]
     },
     "metadata": {
      "needs_background": "light"
     },
     "output_type": "display_data"
    }
   ],
   "source": [
    "plt.figure(figsize=(20,20))\n",
    "df_uc.corr()['Price'].sort_values(ascending=False).drop(['Price']).plot(kind='barh',color='c')\n",
    "plt.xlabel('Feature', fontsize=14)\n",
    "plt.ylabel('Columns with target name', fontsize=14)\n",
    "plt.title('Correlation',fontsize=18)\n",
    "plt.grid(True)\n",
    "plt.show()"
   ]
  },
  {
   "cell_type": "markdown",
   "id": "ef21c1be",
   "metadata": {},
   "source": [
    "# Regression Model Building"
   ]
  },
  {
   "cell_type": "code",
   "execution_count": 59,
   "id": "455bc6d4",
   "metadata": {},
   "outputs": [],
   "source": [
    "x = df_usedcars.drop(\"Price\",axis=1)\n",
    "y = df_usedcars[\"Price\"]"
   ]
  },
  {
   "cell_type": "code",
   "execution_count": 60,
   "id": "dce5497b",
   "metadata": {},
   "outputs": [
    {
     "data": {
      "text/plain": [
       "(476, 6)"
      ]
     },
     "execution_count": 60,
     "metadata": {},
     "output_type": "execute_result"
    }
   ],
   "source": [
    "x.shape"
   ]
  },
  {
   "cell_type": "code",
   "execution_count": 61,
   "id": "26e7da48",
   "metadata": {},
   "outputs": [
    {
     "data": {
      "text/plain": [
       "(476,)"
      ]
     },
     "execution_count": 61,
     "metadata": {},
     "output_type": "execute_result"
    }
   ],
   "source": [
    "y.shape"
   ]
  },
  {
   "cell_type": "markdown",
   "id": "fcb78c1e",
   "metadata": {},
   "source": [
    "# Scaling"
   ]
  },
  {
   "cell_type": "code",
   "execution_count": 62,
   "id": "e921f539",
   "metadata": {},
   "outputs": [
    {
     "data": {
      "text/html": [
       "<div>\n",
       "<style scoped>\n",
       "    .dataframe tbody tr th:only-of-type {\n",
       "        vertical-align: middle;\n",
       "    }\n",
       "\n",
       "    .dataframe tbody tr th {\n",
       "        vertical-align: top;\n",
       "    }\n",
       "\n",
       "    .dataframe thead th {\n",
       "        text-align: right;\n",
       "    }\n",
       "</style>\n",
       "<table border=\"1\" class=\"dataframe\">\n",
       "  <thead>\n",
       "    <tr style=\"text-align: right;\">\n",
       "      <th></th>\n",
       "      <th>Brand</th>\n",
       "      <th>Model</th>\n",
       "      <th>KMS_driven</th>\n",
       "      <th>Fuel</th>\n",
       "      <th>Variant</th>\n",
       "      <th>Manuf_Year</th>\n",
       "    </tr>\n",
       "  </thead>\n",
       "  <tbody>\n",
       "    <tr>\n",
       "      <th>0</th>\n",
       "      <td>-0.432283</td>\n",
       "      <td>-1.185432</td>\n",
       "      <td>-0.173468</td>\n",
       "      <td>0.606478</td>\n",
       "      <td>-1.135104</td>\n",
       "      <td>0.679473</td>\n",
       "    </tr>\n",
       "    <tr>\n",
       "      <th>1</th>\n",
       "      <td>-1.025840</td>\n",
       "      <td>1.159052</td>\n",
       "      <td>-0.685874</td>\n",
       "      <td>0.606478</td>\n",
       "      <td>-1.135104</td>\n",
       "      <td>0.230266</td>\n",
       "    </tr>\n",
       "    <tr>\n",
       "      <th>2</th>\n",
       "      <td>-0.827988</td>\n",
       "      <td>-0.231744</td>\n",
       "      <td>1.693156</td>\n",
       "      <td>-1.648863</td>\n",
       "      <td>0.880976</td>\n",
       "      <td>-0.218941</td>\n",
       "    </tr>\n",
       "    <tr>\n",
       "      <th>3</th>\n",
       "      <td>1.546242</td>\n",
       "      <td>1.476949</td>\n",
       "      <td>1.327151</td>\n",
       "      <td>-1.648863</td>\n",
       "      <td>0.880976</td>\n",
       "      <td>1.128680</td>\n",
       "    </tr>\n",
       "    <tr>\n",
       "      <th>4</th>\n",
       "      <td>-1.025840</td>\n",
       "      <td>1.039841</td>\n",
       "      <td>1.290551</td>\n",
       "      <td>0.606478</td>\n",
       "      <td>-1.135104</td>\n",
       "      <td>0.230266</td>\n",
       "    </tr>\n",
       "    <tr>\n",
       "      <th>...</th>\n",
       "      <td>...</td>\n",
       "      <td>...</td>\n",
       "      <td>...</td>\n",
       "      <td>...</td>\n",
       "      <td>...</td>\n",
       "      <td>...</td>\n",
       "    </tr>\n",
       "    <tr>\n",
       "      <th>471</th>\n",
       "      <td>0.754832</td>\n",
       "      <td>0.006678</td>\n",
       "      <td>-1.161680</td>\n",
       "      <td>0.606478</td>\n",
       "      <td>-1.135104</td>\n",
       "      <td>-1.117355</td>\n",
       "    </tr>\n",
       "    <tr>\n",
       "      <th>472</th>\n",
       "      <td>-0.827988</td>\n",
       "      <td>-1.026484</td>\n",
       "      <td>0.961146</td>\n",
       "      <td>0.606478</td>\n",
       "      <td>-1.135104</td>\n",
       "      <td>-0.218941</td>\n",
       "    </tr>\n",
       "    <tr>\n",
       "      <th>473</th>\n",
       "      <td>-0.432283</td>\n",
       "      <td>-1.225170</td>\n",
       "      <td>-0.136867</td>\n",
       "      <td>0.606478</td>\n",
       "      <td>-1.135104</td>\n",
       "      <td>0.679473</td>\n",
       "    </tr>\n",
       "    <tr>\n",
       "      <th>474</th>\n",
       "      <td>0.754832</td>\n",
       "      <td>0.642471</td>\n",
       "      <td>1.436952</td>\n",
       "      <td>-1.648863</td>\n",
       "      <td>-1.135104</td>\n",
       "      <td>-0.668148</td>\n",
       "    </tr>\n",
       "    <tr>\n",
       "      <th>475</th>\n",
       "      <td>-1.817250</td>\n",
       "      <td>-0.589377</td>\n",
       "      <td>-0.283269</td>\n",
       "      <td>-1.648863</td>\n",
       "      <td>-1.135104</td>\n",
       "      <td>-1.117355</td>\n",
       "    </tr>\n",
       "  </tbody>\n",
       "</table>\n",
       "<p>476 rows × 6 columns</p>\n",
       "</div>"
      ],
      "text/plain": [
       "        Brand     Model  KMS_driven      Fuel   Variant  Manuf_Year\n",
       "0   -0.432283 -1.185432   -0.173468  0.606478 -1.135104    0.679473\n",
       "1   -1.025840  1.159052   -0.685874  0.606478 -1.135104    0.230266\n",
       "2   -0.827988 -0.231744    1.693156 -1.648863  0.880976   -0.218941\n",
       "3    1.546242  1.476949    1.327151 -1.648863  0.880976    1.128680\n",
       "4   -1.025840  1.039841    1.290551  0.606478 -1.135104    0.230266\n",
       "..        ...       ...         ...       ...       ...         ...\n",
       "471  0.754832  0.006678   -1.161680  0.606478 -1.135104   -1.117355\n",
       "472 -0.827988 -1.026484    0.961146  0.606478 -1.135104   -0.218941\n",
       "473 -0.432283 -1.225170   -0.136867  0.606478 -1.135104    0.679473\n",
       "474  0.754832  0.642471    1.436952 -1.648863 -1.135104   -0.668148\n",
       "475 -1.817250 -0.589377   -0.283269 -1.648863 -1.135104   -1.117355\n",
       "\n",
       "[476 rows x 6 columns]"
      ]
     },
     "execution_count": 62,
     "metadata": {},
     "output_type": "execute_result"
    }
   ],
   "source": [
    "from sklearn.preprocessing import StandardScaler\n",
    "\n",
    "scaler = StandardScaler()\n",
    "x = pd.DataFrame(scaler.fit_transform(x), columns=x.columns)\n",
    "x"
   ]
  },
  {
   "cell_type": "markdown",
   "id": "c5e6b91c",
   "metadata": {},
   "source": [
    "# VIF"
   ]
  },
  {
   "cell_type": "code",
   "execution_count": 63,
   "id": "ef471995",
   "metadata": {},
   "outputs": [
    {
     "data": {
      "text/html": [
       "<div>\n",
       "<style scoped>\n",
       "    .dataframe tbody tr th:only-of-type {\n",
       "        vertical-align: middle;\n",
       "    }\n",
       "\n",
       "    .dataframe tbody tr th {\n",
       "        vertical-align: top;\n",
       "    }\n",
       "\n",
       "    .dataframe thead th {\n",
       "        text-align: right;\n",
       "    }\n",
       "</style>\n",
       "<table border=\"1\" class=\"dataframe\">\n",
       "  <thead>\n",
       "    <tr style=\"text-align: right;\">\n",
       "      <th></th>\n",
       "      <th>VIF values</th>\n",
       "      <th>Features</th>\n",
       "    </tr>\n",
       "  </thead>\n",
       "  <tbody>\n",
       "    <tr>\n",
       "      <th>0</th>\n",
       "      <td>1.279338</td>\n",
       "      <td>Brand</td>\n",
       "    </tr>\n",
       "    <tr>\n",
       "      <th>1</th>\n",
       "      <td>1.049037</td>\n",
       "      <td>Model</td>\n",
       "    </tr>\n",
       "    <tr>\n",
       "      <th>2</th>\n",
       "      <td>1.244680</td>\n",
       "      <td>KMS_driven</td>\n",
       "    </tr>\n",
       "    <tr>\n",
       "      <th>3</th>\n",
       "      <td>1.092072</td>\n",
       "      <td>Fuel</td>\n",
       "    </tr>\n",
       "    <tr>\n",
       "      <th>4</th>\n",
       "      <td>1.037367</td>\n",
       "      <td>Variant</td>\n",
       "    </tr>\n",
       "    <tr>\n",
       "      <th>5</th>\n",
       "      <td>1.445492</td>\n",
       "      <td>Manuf_Year</td>\n",
       "    </tr>\n",
       "  </tbody>\n",
       "</table>\n",
       "</div>"
      ],
      "text/plain": [
       "   VIF values    Features\n",
       "0    1.279338       Brand\n",
       "1    1.049037       Model\n",
       "2    1.244680  KMS_driven\n",
       "3    1.092072        Fuel\n",
       "4    1.037367     Variant\n",
       "5    1.445492  Manuf_Year"
      ]
     },
     "execution_count": 63,
     "metadata": {},
     "output_type": "execute_result"
    }
   ],
   "source": [
    "from statsmodels.stats.outliers_influence import variance_inflation_factor\n",
    "vif = pd.DataFrame()\n",
    "vif[\"VIF values\"] = [variance_inflation_factor(x.values,i) for i in range(len(x.columns))]\n",
    "vif[\"Features\"] = x.columns\n",
    "vif"
   ]
  },
  {
   "cell_type": "markdown",
   "id": "96b72269",
   "metadata": {},
   "source": [
    "# Best Random State"
   ]
  },
  {
   "cell_type": "code",
   "execution_count": 64,
   "id": "47fb7a28",
   "metadata": {},
   "outputs": [],
   "source": [
    "from sklearn import neighbors\n",
    "from sklearn.model_selection import train_test_split\n",
    "from sklearn.metrics import r2_score"
   ]
  },
  {
   "cell_type": "code",
   "execution_count": 65,
   "id": "e08e929a",
   "metadata": {},
   "outputs": [
    {
     "name": "stdout",
     "output_type": "stream",
     "text": [
      "Best R2 Score is : 0.9708073035195358  on Random State : 50\n"
     ]
    }
   ],
   "source": [
    "maxAccu=0\n",
    "maxRS=0\n",
    "for i in range(200):\n",
    "    x_train,x_test,y_train,y_test=train_test_split(x, y, test_size = 0.30, random_state = i)\n",
    "    KNN=neighbors.KNeighborsRegressor()\n",
    "    KNN.fit(x_train,y_train)\n",
    "    pred_rs=KNN.predict(x_test)\n",
    "    r2=r2_score(y_test,pred_rs)\n",
    "    if r2>maxAccu:\n",
    "        maxAccu=r2\n",
    "        maxRS=i\n",
    "print(\"Best R2 Score is :\",maxAccu,\" on Random State :\",maxRS)"
   ]
  },
  {
   "cell_type": "code",
   "execution_count": 66,
   "id": "e775e53b",
   "metadata": {},
   "outputs": [],
   "source": [
    "from sklearn.model_selection import train_test_split\n",
    "x_train,x_test,y_train,y_test=train_test_split(x,y,test_size=.30,random_state=maxRS)"
   ]
  },
  {
   "cell_type": "code",
   "execution_count": 67,
   "id": "3ab98750",
   "metadata": {},
   "outputs": [
    {
     "data": {
      "text/plain": [
       "(333, 6)"
      ]
     },
     "execution_count": 67,
     "metadata": {},
     "output_type": "execute_result"
    }
   ],
   "source": [
    "x_train.shape"
   ]
  },
  {
   "cell_type": "code",
   "execution_count": 68,
   "id": "6c1f9dad",
   "metadata": {},
   "outputs": [
    {
     "data": {
      "text/plain": [
       "(143, 6)"
      ]
     },
     "execution_count": 68,
     "metadata": {},
     "output_type": "execute_result"
    }
   ],
   "source": [
    "x_test.shape"
   ]
  },
  {
   "cell_type": "code",
   "execution_count": 69,
   "id": "3aa923dc",
   "metadata": {},
   "outputs": [
    {
     "data": {
      "text/plain": [
       "(333,)"
      ]
     },
     "execution_count": 69,
     "metadata": {},
     "output_type": "execute_result"
    }
   ],
   "source": [
    "\n",
    "y_train.shape"
   ]
  },
  {
   "cell_type": "code",
   "execution_count": 70,
   "id": "796fa64f",
   "metadata": {},
   "outputs": [
    {
     "data": {
      "text/plain": [
       "(143,)"
      ]
     },
     "execution_count": 70,
     "metadata": {},
     "output_type": "execute_result"
    }
   ],
   "source": [
    "y_test.shape"
   ]
  },
  {
   "cell_type": "markdown",
   "id": "e85cc100",
   "metadata": {},
   "source": [
    "# Model Design"
   ]
  },
  {
   "cell_type": "code",
   "execution_count": 71,
   "id": "30d40aa7",
   "metadata": {},
   "outputs": [],
   "source": [
    "from sklearn.linear_model import Ridge\n",
    "from sklearn.linear_model import Lasso\n",
    "\n",
    "from sklearn.neighbors import KNeighborsRegressor\n",
    "\n",
    "from sklearn.tree import DecisionTreeRegressor\n",
    "\n",
    "from sklearn.ensemble import RandomForestRegressor\n",
    "from sklearn.ensemble import AdaBoostRegressor\n",
    "\n",
    "\n",
    "from sklearn.model_selection import train_test_split\n",
    "from sklearn.linear_model import LinearRegression \n",
    "\n",
    "from sklearn.metrics import mean_absolute_error,mean_squared_error,r2_score"
   ]
  },
  {
   "cell_type": "markdown",
   "id": "b46e2086",
   "metadata": {},
   "source": [
    "# 1.LinearRegression"
   ]
  },
  {
   "cell_type": "code",
   "execution_count": 72,
   "id": "152c7275",
   "metadata": {},
   "outputs": [
    {
     "name": "stdout",
     "output_type": "stream",
     "text": [
      "At Random state  62 The Model performing Well\n",
      "At Random State 62\n",
      "Training Accuracy score is- 36.76440857676807\n",
      "Testing Accuracy Score is- 36.829059657539375\n",
      "At Random state  213 The Model performing Well\n",
      "At Random State 213\n",
      "Training Accuracy score is- 36.8433521021129\n",
      "Testing Accuracy Score is- 36.8461550460998\n",
      "At Random state  866 The Model performing Well\n",
      "At Random State 866\n",
      "Training Accuracy score is- 37.36218336394702\n",
      "Testing Accuracy Score is- 37.38784170111745\n",
      "At Random state  981 The Model performing Well\n",
      "At Random State 981\n",
      "Training Accuracy score is- 37.378729126906194\n",
      "Testing Accuracy Score is- 37.36920924101253\n"
     ]
    }
   ],
   "source": [
    "lr=LinearRegression()\n",
    "for i in range(0, 1000):\n",
    "    x_train, x_test, y_train, y_test= train_test_split(x,y,random_state= i,test_size=0.20)\n",
    "    lr.fit(x_train,y_train)\n",
    "    pred_train= lr.predict(x_train)\n",
    "    pred_test= lr.predict(x_test)\n",
    "    if round(r2_score(y_train,pred_train)*100,1)== round(r2_score(y_test,pred_test)*100,1):\n",
    "        print(\"At Random state \", i, \"The Model performing Well\")\n",
    "        print(\"At Random State\", i)\n",
    "        print(\"Training Accuracy score is-\",r2_score(y_train,pred_train)*100 )\n",
    "        print(\"Testing Accuracy Score is-\", r2_score(y_test,pred_test)*100)"
   ]
  },
  {
   "cell_type": "code",
   "execution_count": 74,
   "id": "80034b03",
   "metadata": {},
   "outputs": [
    {
     "data": {
      "text/plain": [
       "(476, 6)"
      ]
     },
     "execution_count": 74,
     "metadata": {},
     "output_type": "execute_result"
    }
   ],
   "source": [
    "x.shape"
   ]
  },
  {
   "cell_type": "code",
   "execution_count": 75,
   "id": "f936a455",
   "metadata": {},
   "outputs": [
    {
     "data": {
      "text/plain": [
       "(476,)"
      ]
     },
     "execution_count": 75,
     "metadata": {},
     "output_type": "execute_result"
    }
   ],
   "source": [
    "y.shape"
   ]
  },
  {
   "cell_type": "code",
   "execution_count": 76,
   "id": "964425b7",
   "metadata": {},
   "outputs": [],
   "source": [
    "x_train_b, x_test_b, y_train_b, y_test_b= train_test_split(x,y,random_state=635,test_size=0.20)"
   ]
  },
  {
   "cell_type": "code",
   "execution_count": 77,
   "id": "24c43100",
   "metadata": {},
   "outputs": [
    {
     "name": "stdout",
     "output_type": "stream",
     "text": [
      "0.2803611708084177\n"
     ]
    }
   ],
   "source": [
    "lr.fit(x_train_b, y_train_b)\n",
    "lr_pred=lr.predict(x_test_b)\n",
    "print(r2_score(y_test_b,lr_pred))"
   ]
  },
  {
   "cell_type": "markdown",
   "id": "41abde25",
   "metadata": {},
   "source": [
    "# Cross Validation of Model"
   ]
  },
  {
   "cell_type": "code",
   "execution_count": 78,
   "id": "7b50e0e9",
   "metadata": {},
   "outputs": [
    {
     "name": "stdout",
     "output_type": "stream",
     "text": [
      "At cross fold 2 the Cross Val score is -23.200029666844568 and Accuracy score is 28.03611708084177\n",
      "At cross fold 3 the Cross Val score is -14.204996895137931 and Accuracy score is 28.03611708084177\n",
      "At cross fold 4 the Cross Val score is -15.900127454364481 and Accuracy score is 28.03611708084177\n",
      "At cross fold 5 the Cross Val score is -96.772751919147 and Accuracy score is 28.03611708084177\n",
      "At cross fold 6 the Cross Val score is -75.77242401166363 and Accuracy score is 28.03611708084177\n",
      "At cross fold 7 the Cross Val score is -66.3637360138172 and Accuracy score is 28.03611708084177\n",
      "At cross fold 8 the Cross Val score is -39.01893605143678 and Accuracy score is 28.03611708084177\n",
      "At cross fold 9 the Cross Val score is -46.98835516151638 and Accuracy score is 28.03611708084177\n"
     ]
    }
   ],
   "source": [
    "test_accuracy= r2_score(y_test_b,lr_pred)\n",
    "\n",
    "from sklearn.model_selection import cross_val_score\n",
    "for i in range(2,10):\n",
    "    cv_score=cross_val_score(lr,x,y,cv=i, scoring='r2')\n",
    "    cv_mean=cv_score.mean()\n",
    "    print(f\"At cross fold {i} the Cross Val score is {cv_mean*100} and Accuracy score is {test_accuracy*100}\")"
   ]
  },
  {
   "cell_type": "code",
   "execution_count": 79,
   "id": "cb0f4be3",
   "metadata": {},
   "outputs": [
    {
     "name": "stdout",
     "output_type": "stream",
     "text": [
      "Error:\n",
      "Mean Absolute Error: 8.67410941226944\n",
      "Mean Squared Error: 171.40001759165656\n",
      "Root Mean Square Error: 13.091982951090968\n"
     ]
    }
   ],
   "source": [
    "print('Error:')\n",
    "print('Mean Absolute Error:',mean_absolute_error(y_test_b,lr_pred))\n",
    "print('Mean Squared Error:', mean_squared_error(y_test_b,lr_pred))\n",
    "print('Root Mean Square Error:', np.sqrt(mean_squared_error(y_test_b,lr_pred)))"
   ]
  },
  {
   "cell_type": "markdown",
   "id": "199aee49",
   "metadata": {},
   "source": [
    "# 2. Lasso"
   ]
  },
  {
   "cell_type": "code",
   "execution_count": 80,
   "id": "5e58c21f",
   "metadata": {},
   "outputs": [
    {
     "name": "stdout",
     "output_type": "stream",
     "text": [
      "R2 score: 30.08416789242724\n",
      "Cross val Score : -3.275391347872583\n"
     ]
    }
   ],
   "source": [
    "ls=Lasso()\n",
    "ls.fit(x_train_b, y_train_b)\n",
    "ls.score(x_train_b, y_train_b)\n",
    "ls_pred=ls.predict(x_test_b)\n",
    "\n",
    "lsd=r2_score(y_test_b, ls_pred)\n",
    "print('R2 score:', lsd*100)\n",
    "\n",
    "rdscore= cross_val_score(ls,x,y,cv=4,scoring='r2')\n",
    "lsc=rdscore.mean()\n",
    "print('Cross val Score :', lsc*100) "
   ]
  },
  {
   "cell_type": "code",
   "execution_count": 81,
   "id": "998d2a97",
   "metadata": {},
   "outputs": [
    {
     "name": "stdout",
     "output_type": "stream",
     "text": [
      "Error:\n",
      "Mean Absolute Error: 7.796620043729942\n",
      "Mean Squared Error: 166.52207144846832\n",
      "Root Mean Square Error: 12.904343123478558\n"
     ]
    }
   ],
   "source": [
    "print('Error:')\n",
    "\n",
    "print('Mean Absolute Error:',mean_absolute_error(y_test_b,ls_pred))\n",
    "print('Mean Squared Error:', mean_squared_error(y_test_b,ls_pred))\n",
    "print('Root Mean Square Error:', np.sqrt(mean_squared_error(y_test_b,ls_pred)))"
   ]
  },
  {
   "cell_type": "code",
   "execution_count": 82,
   "id": "d11a8c28",
   "metadata": {},
   "outputs": [
    {
     "data": {
      "image/png": "[encoded data removed]",
      "text/plain": [
       "<Figure size 576x504 with 1 Axes>"
      ]
     },
     "metadata": {
      "needs_background": "light"
     },
     "output_type": "display_data"
    }
   ],
   "source": [
    "plt.figure(figsize=(8,7))\n",
    "plt.scatter(x=y_test_b, y= ls_pred, color='r')\n",
    "plt.plot(y_test_b,y_test_b, color='b')\n",
    "plt.xlabel('Actual Price', fontsize= 14 )\n",
    "plt.ylabel('predicted Price', fontsize= 18)\n",
    "plt.show()"
   ]
  },
  {
   "cell_type": "markdown",
   "id": "da9a7d9f",
   "metadata": {},
   "source": [
    "# 3. Ridge"
   ]
  },
  {
   "cell_type": "code",
   "execution_count": 83,
   "id": "1b1bf3db",
   "metadata": {},
   "outputs": [
    {
     "name": "stdout",
     "output_type": "stream",
     "text": [
      "r2 score:  28.092512370028167\n",
      "Cross val Score -15.58652928710833\n"
     ]
    }
   ],
   "source": [
    "rd= Ridge()\n",
    "rd.fit(x_train_b, y_train_b)\n",
    "rd.score(x_train_b, y_train_b)\n",
    "rd_pred= rd.predict(x_test_b)\n",
    "\n",
    "rds=r2_score(y_test_b, rd_pred)\n",
    "print('r2 score: ', rds*100)\n",
    "\n",
    "rdcvscore= cross_val_score(rd,x,y,cv=4, scoring='r2')\n",
    "rdcv=rdcvscore.mean()\n",
    "print('Cross val Score', rdcv*100)"
   ]
  },
  {
   "cell_type": "code",
   "execution_count": 84,
   "id": "98cddf02",
   "metadata": {},
   "outputs": [
    {
     "name": "stdout",
     "output_type": "stream",
     "text": [
      "Error:\n",
      "Mean Absolute Error: 8.661885630509762\n",
      "Mean Squared Error: 171.26569808072225\n",
      "Root Mean Square Error: 13.086852107390923\n"
     ]
    }
   ],
   "source": [
    "print('Error:')\n",
    "\n",
    "print('Mean Absolute Error:',mean_absolute_error(y_test_b,rd_pred))\n",
    "print('Mean Squared Error:', mean_squared_error(y_test_b,rd_pred))\n",
    "print('Root Mean Square Error:', np.sqrt(mean_squared_error(y_test_b,rd_pred)))"
   ]
  },
  {
   "cell_type": "markdown",
   "id": "856fa2d2",
   "metadata": {},
   "source": [
    "# 3. Decision TreeRegressor"
   ]
  },
  {
   "cell_type": "code",
   "execution_count": 85,
   "id": "36d6decf",
   "metadata": {},
   "outputs": [
    {
     "name": "stdout",
     "output_type": "stream",
     "text": [
      "R2 Score: 100.0\n",
      "Cross Val Score: 80.81349097471508\n"
     ]
    }
   ],
   "source": [
    "dt=DecisionTreeRegressor()\n",
    "dt.fit(x_train_b, y_train_b)\n",
    "dt.score(x_train_b, y_train_b)\n",
    "dt_pred=dt.predict(x_test_b)\n",
    "\n",
    "dt_score=r2_score(y_test_b, dt_pred)\n",
    "print('R2 Score:', dt_score*100)\n",
    "\n",
    "dtcvscore=cross_val_score(dt,x,y,cv=4,scoring='r2')\n",
    "dtcv=dtcvscore.mean()\n",
    "print('Cross Val Score:', dtcv*100)"
   ]
  },
  {
   "cell_type": "code",
   "execution_count": 86,
   "id": "14c5a16e",
   "metadata": {},
   "outputs": [
    {
     "name": "stdout",
     "output_type": "stream",
     "text": [
      "Error:\n",
      "Mean Absolute Error: 1.0177044392397268e-16\n",
      "Mean Squared Error: 1.355854680848614e-31\n",
      "Root Mean Square Error: 3.6821932062951477e-16\n"
     ]
    }
   ],
   "source": [
    "print('Error:')\n",
    "\n",
    "print('Mean Absolute Error:',mean_absolute_error(y_test_b,dt_pred))\n",
    "print('Mean Squared Error:', mean_squared_error(y_test_b,dt_pred))\n",
    "print('Root Mean Square Error:', np.sqrt(mean_squared_error(y_test_b,dt_pred)))"
   ]
  },
  {
   "cell_type": "code",
   "execution_count": 87,
   "id": "6d7e0c85",
   "metadata": {},
   "outputs": [
    {
     "data": {
      "image/png": "[encoded data removed]",
      "text/plain": [
       "<Figure size 576x504 with 1 Axes>"
      ]
     },
     "metadata": {
      "needs_background": "light"
     },
     "output_type": "display_data"
    }
   ],
   "source": [
    "plt.figure(figsize=(8,7))\n",
    "plt.scatter(x=y_test_b, y= dt_pred, color='r')\n",
    "plt.plot(y_test_b,y_test_b, color='b')\n",
    "plt.xlabel('Actual sale', fontsize= 14 )\n",
    "plt.ylabel('predicted sale', fontsize= 18)\n",
    "plt.show()"
   ]
  },
  {
   "cell_type": "markdown",
   "id": "85dbf0a7",
   "metadata": {},
   "source": [
    "# 4. KNeighborsRegressor"
   ]
  },
  {
   "cell_type": "code",
   "execution_count": 88,
   "id": "46f6a163",
   "metadata": {},
   "outputs": [
    {
     "name": "stdout",
     "output_type": "stream",
     "text": [
      "R2 Score: 0 93.68538898353104\n",
      "Cross val Score : 5.480635196384654\n"
     ]
    }
   ],
   "source": [
    "kn=KNeighborsRegressor()\n",
    "kn.fit(x_train_b, y_train_b)\n",
    "kn.score(x_train_b,y_train_b)\n",
    "kn_pred=kn.predict(x_test_b)\n",
    "\n",
    "kn_score= r2_score(y_test_b, kn_pred)\n",
    "print('R2 Score: 0', kn_score*100)\n",
    "\n",
    "kn_cvscore=cross_val_score(kn,x,y, cv=4, scoring='r2')\n",
    "cv_mean=kn_cvscore.mean()\n",
    "print('Cross val Score :',cv_mean*100 )"
   ]
  },
  {
   "cell_type": "code",
   "execution_count": 89,
   "id": "9c67acf8",
   "metadata": {},
   "outputs": [
    {
     "name": "stdout",
     "output_type": "stream",
     "text": [
      "Error:\n",
      "Mean Absolute Error: 1.4295833333333332\n",
      "Mean Squared Error: 15.03982825\n",
      "Root Mean Square Error: 3.8781217425449657\n"
     ]
    }
   ],
   "source": [
    "print('Error:')\n",
    "\n",
    "print('Mean Absolute Error:',mean_absolute_error(y_test_b,kn_pred))\n",
    "print('Mean Squared Error:', mean_squared_error(y_test_b,kn_pred))\n",
    "print('Root Mean Square Error:', np.sqrt(mean_squared_error(y_test_b,kn_pred)))"
   ]
  },
  {
   "cell_type": "code",
   "execution_count": 90,
   "id": "ced87c7e",
   "metadata": {},
   "outputs": [
    {
     "data": {
      "image/png": "[encoded data removed]",
      "text/plain": [
       "<Figure size 576x504 with 1 Axes>"
      ]
     },
     "metadata": {
      "needs_background": "light"
     },
     "output_type": "display_data"
    }
   ],
   "source": [
    "plt.figure(figsize=(8,7))\n",
    "plt.scatter(x=y_test_b, y= kn_pred, color='r')\n",
    "plt.plot(y_test_b,y_test_b, color='b')\n",
    "plt.xlabel('Actual sale', fontsize= 14 )\n",
    "plt.ylabel('predicted sale', fontsize= 18)\n",
    "plt.show()"
   ]
  },
  {
   "cell_type": "markdown",
   "id": "a91cbf3e",
   "metadata": {},
   "source": [
    "# 5. Ensemble Techniques"
   ]
  },
  {
   "cell_type": "code",
   "execution_count": 91,
   "id": "4f80d59e",
   "metadata": {},
   "outputs": [
    {
     "name": "stdout",
     "output_type": "stream",
     "text": [
      "R2 score: 99.87739113892223\n",
      "Cross val Score : 80.08633288403564\n"
     ]
    }
   ],
   "source": [
    "rf=RandomForestRegressor(criterion='mse', max_features='auto', min_samples_split=2, n_estimators=100)\n",
    "rf.fit(x_train_b, y_train_b)\n",
    "rf.score(x_train_b,y_train_b)\n",
    "rf_pred=rf.predict(x_test_b)\n",
    "\n",
    "rf_score= r2_score(y_test_b, rf_pred)\n",
    "print('R2 score:', rf_score*100)\n",
    "\n",
    "rfcv=cross_val_score(rf,x,y, cv=4, scoring='r2')\n",
    "rfcvscore=rfcv.mean()\n",
    "print('Cross val Score :',rfcvscore*100 )"
   ]
  },
  {
   "cell_type": "code",
   "execution_count": 92,
   "id": "cf8de129",
   "metadata": {},
   "outputs": [
    {
     "name": "stdout",
     "output_type": "stream",
     "text": [
      "Error:\n",
      "Mean Absolute Error: 0.247981250000001\n",
      "Mean Squared Error: 0.29202372208333127\n",
      "Root Mean Square Error: 0.5403921928408397\n"
     ]
    }
   ],
   "source": [
    "print('Error:')\n",
    "print('Mean Absolute Error:',mean_absolute_error(y_test_b,rf_pred))\n",
    "print('Mean Squared Error:', mean_squared_error(y_test_b,rf_pred))\n",
    "print('Root Mean Square Error:', np.sqrt(mean_squared_error(y_test_b,rf_pred)))"
   ]
  },
  {
   "cell_type": "code",
   "execution_count": 93,
   "id": "fea223c9",
   "metadata": {},
   "outputs": [
    {
     "data": {
      "image/png": "[encoded data removed]",
      "text/plain": [
       "<Figure size 576x504 with 1 Axes>"
      ]
     },
     "metadata": {
      "needs_background": "light"
     },
     "output_type": "display_data"
    }
   ],
   "source": [
    "plt.figure(figsize=(8,7))\n",
    "plt.scatter(x=y_test_b, y= rf_pred, color='r')\n",
    "plt.plot(y_test_b,y_test_b, color='b')\n",
    "plt.xlabel('Actual sale', fontsize= 14 )\n",
    "plt.ylabel('predicted sale', fontsize= 18)\n",
    "plt.show()"
   ]
  },
  {
   "cell_type": "markdown",
   "id": "e0b55005",
   "metadata": {},
   "source": [
    "# 6. GradientBoostingRegressor"
   ]
  },
  {
   "cell_type": "code",
   "execution_count": 94,
   "id": "6676ef36",
   "metadata": {},
   "outputs": [
    {
     "name": "stdout",
     "output_type": "stream",
     "text": [
      "R2 score: 99.87739113892223\n",
      "Cross val Score : 67.52220200924756\n"
     ]
    }
   ],
   "source": [
    "from sklearn.ensemble import GradientBoostingRegressor\n",
    "gb=GradientBoostingRegressor()\n",
    "gb.fit(x_train_b, y_train_b)\n",
    "gb.score(x_train_b,y_train_b)\n",
    "gb_pred=rf.predict(x_test_b)\n",
    "\n",
    "gb_score= r2_score(y_test_b, gb_pred)\n",
    "print('R2 score:', gb_score*100)\n",
    "\n",
    "gbcv=cross_val_score(gb,x,y, cv=4, scoring='r2')\n",
    "gbcvscore=gbcv.mean()\n",
    "print('Cross val Score :',gbcvscore*100 )"
   ]
  },
  {
   "cell_type": "code",
   "execution_count": 95,
   "id": "4e325f24",
   "metadata": {},
   "outputs": [
    {
     "name": "stdout",
     "output_type": "stream",
     "text": [
      "Error:\n",
      "Mean Absolute Error: 0.247981250000001\n",
      "Mean Squared Error: 0.29202372208333127\n",
      "Root Mean Square Error: 0.5403921928408397\n"
     ]
    }
   ],
   "source": [
    "\n",
    "print('Error:')\n",
    "\n",
    "print('Mean Absolute Error:',mean_absolute_error(y_test_b,gb_pred))\n",
    "print('Mean Squared Error:', mean_squared_error(y_test_b,gb_pred))\n",
    "print('Root Mean Square Error:', np.sqrt(mean_squared_error(y_test_b,gb_pred)))"
   ]
  },
  {
   "cell_type": "code",
   "execution_count": 96,
   "id": "a38e76fa",
   "metadata": {},
   "outputs": [
    {
     "data": {
      "image/png": "[encoded data removed]",
      "text/plain": [
       "<Figure size 576x504 with 1 Axes>"
      ]
     },
     "metadata": {
      "needs_background": "light"
     },
     "output_type": "display_data"
    }
   ],
   "source": [
    "plt.figure(figsize=(8,7))\n",
    "plt.scatter(x=y_test_b, y= gb_pred, color='r')\n",
    "plt.plot(y_test_b,y_test_b, color='b')\n",
    "plt.xlabel('Actual sale', fontsize= 14 )\n",
    "plt.ylabel('predicted sale', fontsize= 18)\n",
    "plt.show()"
   ]
  },
  {
   "cell_type": "markdown",
   "id": "a0c4888e",
   "metadata": {},
   "source": [
    "# Hyper Parameter Tuning"
   ]
  },
  {
   "cell_type": "code",
   "execution_count": 97,
   "id": "cc73564a",
   "metadata": {},
   "outputs": [
    {
     "name": "stdout",
     "output_type": "stream",
     "text": [
      "{'alpha': 0.1, 'max_iter': 500, 'random_state': 1, 'selection': 'random'}\n"
     ]
    }
   ],
   "source": [
    "# Hyper Parameter tuning on  Lasso\n",
    "from sklearn.model_selection import GridSearchCV\n",
    "from sklearn.linear_model import Lasso\n",
    "\n",
    "parameters= {'alpha':[0.0001,0.001,0.01,0.1,1,10], 'random_state': list(range(0,10)), 'selection':['cyclic', 'random'], 'max_iter':[500,1000,1200,1500,2000]}\n",
    "ls=Lasso()\n",
    "clf=GridSearchCV(ls, parameters)\n",
    "clf.fit(x_train_b, y_train_b)\n",
    "print(clf.best_params_)"
   ]
  },
  {
   "cell_type": "code",
   "execution_count": 98,
   "id": "a1f113a7",
   "metadata": {},
   "outputs": [
    {
     "name": "stdout",
     "output_type": "stream",
     "text": [
      "R2 score: 30.08409048070815\n",
      "Cross val Score : -3.275947739977361\n"
     ]
    }
   ],
   "source": [
    "ls=Lasso(alpha=1,max_iter=500, random_state=7, selection='random')\n",
    "ls.fit(x_train_b, y_train_b)\n",
    "ls.score(x_train_b, y_train_b)\n",
    "ls_pred=ls.predict(x_test_b)\n",
    "\n",
    "lsd=r2_score(y_test_b, ls_pred)\n",
    "print('R2 score:', lsd*100)\n",
    "\n",
    "rdscore= cross_val_score(ls,x,y,cv=4, scoring='r2')\n",
    "lsc=rdscore.mean()\n",
    "print('Cross val Score :', lsc*100)"
   ]
  },
  {
   "cell_type": "code",
   "execution_count": 99,
   "id": "47608f4e",
   "metadata": {},
   "outputs": [
    {
     "name": "stdout",
     "output_type": "stream",
     "text": [
      "{'criterion': 'mse', 'max_features': 'sqrt', 'n_estimators': 20}\n"
     ]
    }
   ],
   "source": [
    "# Random Forest\n",
    "from sklearn.model_selection import GridSearchCV\n",
    "parameters={'criterion':['mse', 'mae'],'max_features':['auto', 'sqrt', 'log2'],'n_estimators':[10,20,30,70, 100]}\n",
    "rf=RandomForestRegressor()\n",
    "rfclf=GridSearchCV(rf, param_grid=parameters, n_jobs=-1)\n",
    "rfclf.fit(x_train_b, y_train_b)\n",
    "print(rfclf.best_params_)"
   ]
  },
  {
   "cell_type": "code",
   "execution_count": 100,
   "id": "d9e6255a",
   "metadata": {},
   "outputs": [
    {
     "name": "stdout",
     "output_type": "stream",
     "text": [
      "R2 score: 97.72036618286131\n",
      "Cross val Score : 67.41821780920469\n"
     ]
    }
   ],
   "source": [
    "rf=RandomForestRegressor(criterion='mse', max_features='auto', min_samples_split=10, n_estimators=70)\n",
    "rf.fit(x_train_b, y_train_b)\n",
    "rf.score(x_train_b,y_train_b)\n",
    "rf_pred=rf.predict(x_test_b)\n",
    "\n",
    "rf_score= r2_score(y_test_b, rf_pred)\n",
    "print('R2 score:', rf_score*100)\n",
    "\n",
    "rfcv=cross_val_score(rf,x,y, cv=5, scoring='r2')\n",
    "rfcvscore=rfcv.mean()\n",
    "print('Cross val Score :',rfcvscore*100 )"
   ]
  },
  {
   "cell_type": "code",
   "execution_count": 101,
   "id": "2159943e",
   "metadata": {},
   "outputs": [
    {
     "name": "stdout",
     "output_type": "stream",
     "text": [
      "{'criterion': 'friedman_mse', 'learning_rate': 0.1, 'loss': 'huber', 'n_estimators': 100}\n"
     ]
    }
   ],
   "source": [
    "from sklearn.ensemble import GradientBoostingRegressor\n",
    "parameters={'loss':['lad', 'huber'],'criterion':['friedman_mse', 'mae'], 'learning_rate':[0.001,0.01,0.1], 'n_estimators':[10,20,100]}\n",
    "gb=GradientBoostingRegressor()\n",
    "gbclf=GridSearchCV(gb, param_grid=parameters, n_jobs=-1)\n",
    "gbclf.fit(x_train_b, y_train_b)\n",
    "print(gbclf.best_params_)"
   ]
  },
  {
   "cell_type": "code",
   "execution_count": 102,
   "id": "063bdfe8",
   "metadata": {},
   "outputs": [
    {
     "name": "stdout",
     "output_type": "stream",
     "text": [
      "R2 score: 97.72036618286131\n",
      "Cross val Score : 64.09078555725453\n"
     ]
    }
   ],
   "source": [
    "gb=GradientBoostingRegressor(criterion='friedman_mse',learning_rate=0.1, loss='huber', n_estimators= 100)\n",
    "gb.fit(x_train_b, y_train_b)\n",
    "gb.score(x_train_b,y_train_b)\n",
    "gb_pred=rf.predict(x_test_b)\n",
    "\n",
    "gb_score= r2_score(y_test_b, rf_pred)\n",
    "print('R2 score:', gb_score*100)\n",
    "\n",
    "gbcv=cross_val_score(gb,x,y, cv=5, scoring='r2')\n",
    "gbcvscore=gbcv.mean()\n",
    "print('Cross val Score :',gbcvscore*100 )"
   ]
  },
  {
   "cell_type": "code",
   "execution_count": 103,
   "id": "58d80e56",
   "metadata": {},
   "outputs": [],
   "source": [
    "import pickle\n",
    "filename='Car_Price_Prediction.pkl'\n",
    "pickle.dump(ls,open(filename,'wb'))"
   ]
  },
  {
   "cell_type": "code",
   "execution_count": 104,
   "id": "fb5ecf9e",
   "metadata": {},
   "outputs": [
    {
     "data": {
      "text/html": [
       "<div>\n",
       "<style scoped>\n",
       "    .dataframe tbody tr th:only-of-type {\n",
       "        vertical-align: middle;\n",
       "    }\n",
       "\n",
       "    .dataframe tbody tr th {\n",
       "        vertical-align: top;\n",
       "    }\n",
       "\n",
       "    .dataframe thead th {\n",
       "        text-align: right;\n",
       "    }\n",
       "</style>\n",
       "<table border=\"1\" class=\"dataframe\">\n",
       "  <thead>\n",
       "    <tr style=\"text-align: right;\">\n",
       "      <th></th>\n",
       "      <th>original</th>\n",
       "      <th>predicted</th>\n",
       "    </tr>\n",
       "  </thead>\n",
       "  <tbody>\n",
       "    <tr>\n",
       "      <th>0</th>\n",
       "      <td>17.46</td>\n",
       "      <td>18.058725</td>\n",
       "    </tr>\n",
       "    <tr>\n",
       "      <th>1</th>\n",
       "      <td>6.11</td>\n",
       "      <td>6.771204</td>\n",
       "    </tr>\n",
       "    <tr>\n",
       "      <th>2</th>\n",
       "      <td>2.86</td>\n",
       "      <td>5.302261</td>\n",
       "    </tr>\n",
       "    <tr>\n",
       "      <th>3</th>\n",
       "      <td>1.38</td>\n",
       "      <td>8.249037</td>\n",
       "    </tr>\n",
       "    <tr>\n",
       "      <th>4</th>\n",
       "      <td>6.45</td>\n",
       "      <td>0.414279</td>\n",
       "    </tr>\n",
       "    <tr>\n",
       "      <th>...</th>\n",
       "      <td>...</td>\n",
       "      <td>...</td>\n",
       "    </tr>\n",
       "    <tr>\n",
       "      <th>91</th>\n",
       "      <td>5.90</td>\n",
       "      <td>27.481257</td>\n",
       "    </tr>\n",
       "    <tr>\n",
       "      <th>92</th>\n",
       "      <td>6.77</td>\n",
       "      <td>5.532217</td>\n",
       "    </tr>\n",
       "    <tr>\n",
       "      <th>93</th>\n",
       "      <td>7.05</td>\n",
       "      <td>4.791724</td>\n",
       "    </tr>\n",
       "    <tr>\n",
       "      <th>94</th>\n",
       "      <td>9.46</td>\n",
       "      <td>11.089995</td>\n",
       "    </tr>\n",
       "    <tr>\n",
       "      <th>95</th>\n",
       "      <td>7.08</td>\n",
       "      <td>5.877737</td>\n",
       "    </tr>\n",
       "  </tbody>\n",
       "</table>\n",
       "<p>96 rows × 2 columns</p>\n",
       "</div>"
      ],
      "text/plain": [
       "    original  predicted\n",
       "0      17.46  18.058725\n",
       "1       6.11   6.771204\n",
       "2       2.86   5.302261\n",
       "3       1.38   8.249037\n",
       "4       6.45   0.414279\n",
       "..       ...        ...\n",
       "91      5.90  27.481257\n",
       "92      6.77   5.532217\n",
       "93      7.05   4.791724\n",
       "94      9.46  11.089995\n",
       "95      7.08   5.877737\n",
       "\n",
       "[96 rows x 2 columns]"
      ]
     },
     "execution_count": 104,
     "metadata": {},
     "output_type": "execute_result"
    }
   ],
   "source": [
    "import numpy as np\n",
    "a=np.array(y_test_b)\n",
    "predicted= np.array(ls.predict(x_test_b))\n",
    "df_com= pd.DataFrame({'original':a, 'predicted':predicted}, index= range(len(a)))\n",
    "df_com"
   ]
  },
  {
   "cell_type": "code",
   "execution_count": 117,
   "id": "5395aa0b",
   "metadata": {},
   "outputs": [],
   "source": [
    "import numpy as np\n",
    "import pandas as pd\n",
    "prediction = pd.DataFrame(df_com, columns=['original', 'predicted']).to_csv('car_price_prediction.csv')"
   ]
  },
  {
   "cell_type": "code",
   "execution_count": null,
   "id": "d39f33c0",
   "metadata": {},
   "outputs": [],
   "source": []
  }
 ],
 "metadata": {
  "kernelspec": {
   "display_name": "Python 3 (ipykernel)",
   "language": "python",
   "name": "python3"
  },
  "language_info": {
   "codemirror_mode": {
    "name": "ipython",
    "version": 3
   },
   "file_extension": ".py",
   "mimetype": "text/x-python",
   "name": "python",
   "nbconvert_exporter": "python",
   "pygments_lexer": "ipython3",
   "version": "3.9.7"
  }
 },
 "nbformat": 4,
 "nbformat_minor": 5
}
